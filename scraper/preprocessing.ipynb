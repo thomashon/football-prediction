{
 "cells": [
  {
   "cell_type": "code",
   "execution_count": 1,
   "metadata": {
    "ExecuteTime": {
     "end_time": "2019-08-11T12:21:06.612248Z",
     "start_time": "2019-08-11T12:21:03.784257Z"
    }
   },
   "outputs": [
    {
     "name": "stderr",
     "output_type": "stream",
     "text": [
      "C:\\Users\\thoma\\AppData\\Roaming\\Python\\Python37\\site-packages\\numpy\\core\\__init__.py:29: UserWarning: loaded more than 1 DLL from .libs:\n",
      "C:\\Users\\thoma\\AppData\\Roaming\\Python\\Python37\\site-packages\\numpy\\.libs\\libopenblas.IPBC74C7KURV7CB2PKT5Z5FNR3SIBV4J.gfortran-win_amd64.dll\n",
      "C:\\Users\\thoma\\AppData\\Roaming\\Python\\Python37\\site-packages\\numpy\\.libs\\libopenblas.TXA6YQSD3GCQQC22GEQ54J2UDCXDXHWN.gfortran-win_amd64.dll\n",
      "  stacklevel=1)\n"
     ]
    }
   ],
   "source": [
    "import numpy as np\n",
    "import pandas as pd"
   ]
  },
  {
   "cell_type": "code",
   "execution_count": 2,
   "metadata": {
    "ExecuteTime": {
     "end_time": "2019-08-11T12:21:06.780273Z",
     "start_time": "2019-08-11T12:21:06.620245Z"
    }
   },
   "outputs": [],
   "source": [
    "df = pd.read_csv('bundesliga-2009-2018_clean.csv')"
   ]
  },
  {
   "cell_type": "code",
   "execution_count": 3,
   "metadata": {
    "ExecuteTime": {
     "end_time": "2019-08-11T12:21:06.864283Z",
     "start_time": "2019-08-11T12:21:06.804291Z"
    }
   },
   "outputs": [
    {
     "data": {
      "text/plain": [
       "0     2394\n",
       "1      266\n",
       "2    17444\n",
       "3      266\n",
       "4    11609\n",
       "Name: home_team_id, dtype: int64"
      ]
     },
     "execution_count": 3,
     "metadata": {},
     "output_type": "execute_result"
    }
   ],
   "source": [
    "df.home_team_id.head()"
   ]
  },
  {
   "cell_type": "code",
   "execution_count": 4,
   "metadata": {
    "ExecuteTime": {
     "end_time": "2019-08-11T12:21:07.016283Z",
     "start_time": "2019-08-11T12:21:06.872275Z"
    }
   },
   "outputs": [
    {
     "data": {
      "text/html": [
       "<div>\n",
       "<style scoped>\n",
       "    .dataframe tbody tr th:only-of-type {\n",
       "        vertical-align: middle;\n",
       "    }\n",
       "\n",
       "    .dataframe tbody tr th {\n",
       "        vertical-align: top;\n",
       "    }\n",
       "\n",
       "    .dataframe thead th {\n",
       "        text-align: right;\n",
       "    }\n",
       "</style>\n",
       "<table border=\"1\" class=\"dataframe\">\n",
       "  <thead>\n",
       "    <tr style=\"text-align: right;\">\n",
       "      <th></th>\n",
       "      <th>competition</th>\n",
       "      <th>date</th>\n",
       "      <th>gameday</th>\n",
       "      <th>guest_coach</th>\n",
       "      <th>guest_game_system</th>\n",
       "      <th>guest_team_id</th>\n",
       "      <th>guest_team_name</th>\n",
       "      <th>home_coach</th>\n",
       "      <th>home_game_system</th>\n",
       "      <th>home_team_id</th>\n",
       "      <th>home_team_name</th>\n",
       "      <th>identifier</th>\n",
       "      <th>result</th>\n",
       "      <th>saison</th>\n",
       "      <th>time</th>\n",
       "      <th>viewers</th>\n",
       "      <th>weekday</th>\n",
       "      <th>day</th>\n",
       "      <th>month</th>\n",
       "      <th>year</th>\n",
       "    </tr>\n",
       "  </thead>\n",
       "  <tbody>\n",
       "    <tr>\n",
       "      <th>0</th>\n",
       "      <td>Bundesliga</td>\n",
       "      <td>2009-07-18 19:30:00</td>\n",
       "      <td>1</td>\n",
       "      <td>Paul Gludovatz</td>\n",
       "      <td>5-4-1</td>\n",
       "      <td>266</td>\n",
       "      <td>SV Ried</td>\n",
       "      <td>Werner Gregoritsch</td>\n",
       "      <td>4-5-1</td>\n",
       "      <td>2394</td>\n",
       "      <td>SV Kapfenberg</td>\n",
       "      <td>0d35ff9a835d4ed24af193dbcaa0a5b7a48210bfe36dba...</td>\n",
       "      <td>0:1</td>\n",
       "      <td>2009/10</td>\n",
       "      <td>19:30</td>\n",
       "      <td>3450</td>\n",
       "      <td>5</td>\n",
       "      <td>18</td>\n",
       "      <td>7</td>\n",
       "      <td>2009</td>\n",
       "    </tr>\n",
       "    <tr>\n",
       "      <th>1</th>\n",
       "      <td>Bundesliga</td>\n",
       "      <td>2009-07-25 19:30:00</td>\n",
       "      <td>2</td>\n",
       "      <td>Huub Stevens</td>\n",
       "      <td>4-4-2 Raute</td>\n",
       "      <td>409</td>\n",
       "      <td>Red Bull Salzburg</td>\n",
       "      <td>Paul Gludovatz</td>\n",
       "      <td>5-4-1</td>\n",
       "      <td>266</td>\n",
       "      <td>SV Ried</td>\n",
       "      <td>81225b68d59aa35cdc85291ea79a6b93d179a441e752e3...</td>\n",
       "      <td>1:0</td>\n",
       "      <td>2009/10</td>\n",
       "      <td>19:30</td>\n",
       "      <td>7600</td>\n",
       "      <td>5</td>\n",
       "      <td>25</td>\n",
       "      <td>7</td>\n",
       "      <td>2009</td>\n",
       "    </tr>\n",
       "    <tr>\n",
       "      <th>2</th>\n",
       "      <td>Bundesliga</td>\n",
       "      <td>2009-07-31 20:30:00</td>\n",
       "      <td>3</td>\n",
       "      <td>Paul Gludovatz</td>\n",
       "      <td>5-4-1</td>\n",
       "      <td>266</td>\n",
       "      <td>SV Ried</td>\n",
       "      <td>Helmut Kraft</td>\n",
       "      <td>4-4-2</td>\n",
       "      <td>17444</td>\n",
       "      <td>SC Wiener Neustadt</td>\n",
       "      <td>d8198d9be005849cc4cc3ec5f1c0cd99ebe0b84c26fc38...</td>\n",
       "      <td>2:1</td>\n",
       "      <td>2009/10</td>\n",
       "      <td>20:30</td>\n",
       "      <td>2700</td>\n",
       "      <td>4</td>\n",
       "      <td>31</td>\n",
       "      <td>7</td>\n",
       "      <td>2009</td>\n",
       "    </tr>\n",
       "    <tr>\n",
       "      <th>3</th>\n",
       "      <td>Bundesliga</td>\n",
       "      <td>2009-09-08 19:30:00</td>\n",
       "      <td>4</td>\n",
       "      <td>Peter Pacult</td>\n",
       "      <td>4-4-2 doppel 6</td>\n",
       "      <td>170</td>\n",
       "      <td>SK Rapid Wien</td>\n",
       "      <td>Paul Gludovatz</td>\n",
       "      <td>5-4-1</td>\n",
       "      <td>266</td>\n",
       "      <td>SV Ried</td>\n",
       "      <td>164564f0839d4a5d277ba006596369919e4717e5950fd1...</td>\n",
       "      <td>1:1</td>\n",
       "      <td>2009/10</td>\n",
       "      <td>19:30</td>\n",
       "      <td>7600</td>\n",
       "      <td>1</td>\n",
       "      <td>8</td>\n",
       "      <td>9</td>\n",
       "      <td>2009</td>\n",
       "    </tr>\n",
       "    <tr>\n",
       "      <th>4</th>\n",
       "      <td>Bundesliga</td>\n",
       "      <td>2009-08-21 20:30:00</td>\n",
       "      <td>5</td>\n",
       "      <td>Paul Gludovatz</td>\n",
       "      <td>3-4-2-1</td>\n",
       "      <td>266</td>\n",
       "      <td>SV Ried</td>\n",
       "      <td>Frenkie Schinkels</td>\n",
       "      <td>4-5-1</td>\n",
       "      <td>11609</td>\n",
       "      <td>SK Austria Kärnten</td>\n",
       "      <td>26596f43388b43546a5014d869f60e0165adb51df66464...</td>\n",
       "      <td>0:0</td>\n",
       "      <td>2009/10</td>\n",
       "      <td>20:30</td>\n",
       "      <td>5079</td>\n",
       "      <td>4</td>\n",
       "      <td>21</td>\n",
       "      <td>8</td>\n",
       "      <td>2009</td>\n",
       "    </tr>\n",
       "  </tbody>\n",
       "</table>\n",
       "</div>"
      ],
      "text/plain": [
       "  competition                 date gameday     guest_coach guest_game_system  \\\n",
       "0  Bundesliga  2009-07-18 19:30:00       1  Paul Gludovatz             5-4-1   \n",
       "1  Bundesliga  2009-07-25 19:30:00       2    Huub Stevens       4-4-2 Raute   \n",
       "2  Bundesliga  2009-07-31 20:30:00       3  Paul Gludovatz             5-4-1   \n",
       "3  Bundesliga  2009-09-08 19:30:00       4    Peter Pacult    4-4-2 doppel 6   \n",
       "4  Bundesliga  2009-08-21 20:30:00       5  Paul Gludovatz           3-4-2-1   \n",
       "\n",
       "   guest_team_id    guest_team_name          home_coach home_game_system  \\\n",
       "0            266            SV Ried  Werner Gregoritsch            4-5-1   \n",
       "1            409  Red Bull Salzburg      Paul Gludovatz            5-4-1   \n",
       "2            266            SV Ried        Helmut Kraft            4-4-2   \n",
       "3            170      SK Rapid Wien      Paul Gludovatz            5-4-1   \n",
       "4            266            SV Ried   Frenkie Schinkels            4-5-1   \n",
       "\n",
       "   home_team_id      home_team_name  \\\n",
       "0          2394       SV Kapfenberg   \n",
       "1           266             SV Ried   \n",
       "2         17444  SC Wiener Neustadt   \n",
       "3           266             SV Ried   \n",
       "4         11609  SK Austria Kärnten   \n",
       "\n",
       "                                          identifier result   saison   time  \\\n",
       "0  0d35ff9a835d4ed24af193dbcaa0a5b7a48210bfe36dba...    0:1  2009/10  19:30   \n",
       "1  81225b68d59aa35cdc85291ea79a6b93d179a441e752e3...    1:0  2009/10  19:30   \n",
       "2  d8198d9be005849cc4cc3ec5f1c0cd99ebe0b84c26fc38...    2:1  2009/10  20:30   \n",
       "3  164564f0839d4a5d277ba006596369919e4717e5950fd1...    1:1  2009/10  19:30   \n",
       "4  26596f43388b43546a5014d869f60e0165adb51df66464...    0:0  2009/10  20:30   \n",
       "\n",
       "   viewers  weekday  day  month  year  \n",
       "0     3450        5   18      7  2009  \n",
       "1     7600        5   25      7  2009  \n",
       "2     2700        4   31      7  2009  \n",
       "3     7600        1    8      9  2009  \n",
       "4     5079        4   21      8  2009  "
      ]
     },
     "execution_count": 4,
     "metadata": {},
     "output_type": "execute_result"
    }
   ],
   "source": [
    "try:\n",
    "    df = df.drop('Unnamed: 0', axis=1)\n",
    "except: KeyError\n",
    "df.head()"
   ]
  },
  {
   "cell_type": "code",
   "execution_count": 5,
   "metadata": {
    "ExecuteTime": {
     "end_time": "2019-08-11T12:21:07.068269Z",
     "start_time": "2019-08-11T12:21:07.024287Z"
    }
   },
   "outputs": [],
   "source": [
    "columns = [\n",
    "    'competition', 'saison', 'gameday', 'date',\n",
    "    'home_team_name', 'guest_team_name', 'result',\n",
    "    'home_coach', 'home_game_system', 'home_team_id',\n",
    "    'guest_coach', 'guest_game_system', 'guest_team_id',\n",
    "    'time', 'viewers', 'weekday', 'day', 'month', 'year',\n",
    "    'identifier'\n",
    "]"
   ]
  },
  {
   "cell_type": "code",
   "execution_count": 6,
   "metadata": {
    "ExecuteTime": {
     "end_time": "2019-08-11T12:21:07.124268Z",
     "start_time": "2019-08-11T12:21:07.072274Z"
    }
   },
   "outputs": [
    {
     "data": {
      "text/plain": [
       "Index(['competition', 'date', 'gameday', 'guest_coach', 'guest_game_system',\n",
       "       'guest_team_id', 'guest_team_name', 'home_coach', 'home_game_system',\n",
       "       'home_team_id', 'home_team_name', 'identifier', 'result', 'saison',\n",
       "       'time', 'viewers', 'weekday', 'day', 'month', 'year'],\n",
       "      dtype='object')"
      ]
     },
     "execution_count": 6,
     "metadata": {},
     "output_type": "execute_result"
    }
   ],
   "source": [
    "df.columns"
   ]
  },
  {
   "cell_type": "code",
   "execution_count": 7,
   "metadata": {
    "ExecuteTime": {
     "end_time": "2019-08-11T12:21:07.156269Z",
     "start_time": "2019-08-11T12:21:07.128279Z"
    }
   },
   "outputs": [
    {
     "data": {
      "text/plain": [
       "(20, 20)"
      ]
     },
     "execution_count": 7,
     "metadata": {},
     "output_type": "execute_result"
    }
   ],
   "source": [
    "len(columns), len(df.columns)"
   ]
  },
  {
   "cell_type": "code",
   "execution_count": 8,
   "metadata": {
    "ExecuteTime": {
     "end_time": "2019-08-11T12:21:07.268270Z",
     "start_time": "2019-08-11T12:21:07.164285Z"
    }
   },
   "outputs": [],
   "source": [
    "df = df[columns]"
   ]
  },
  {
   "cell_type": "code",
   "execution_count": 9,
   "metadata": {
    "ExecuteTime": {
     "end_time": "2019-08-11T12:21:07.448272Z",
     "start_time": "2019-08-11T12:21:07.272275Z"
    }
   },
   "outputs": [
    {
     "data": {
      "text/html": [
       "<div>\n",
       "<style scoped>\n",
       "    .dataframe tbody tr th:only-of-type {\n",
       "        vertical-align: middle;\n",
       "    }\n",
       "\n",
       "    .dataframe tbody tr th {\n",
       "        vertical-align: top;\n",
       "    }\n",
       "\n",
       "    .dataframe thead th {\n",
       "        text-align: right;\n",
       "    }\n",
       "</style>\n",
       "<table border=\"1\" class=\"dataframe\">\n",
       "  <thead>\n",
       "    <tr style=\"text-align: right;\">\n",
       "      <th></th>\n",
       "      <th>competition</th>\n",
       "      <th>saison</th>\n",
       "      <th>gameday</th>\n",
       "      <th>date</th>\n",
       "      <th>home_team_name</th>\n",
       "      <th>guest_team_name</th>\n",
       "      <th>result</th>\n",
       "      <th>home_coach</th>\n",
       "      <th>home_game_system</th>\n",
       "      <th>home_team_id</th>\n",
       "      <th>guest_coach</th>\n",
       "      <th>guest_game_system</th>\n",
       "      <th>guest_team_id</th>\n",
       "      <th>time</th>\n",
       "      <th>viewers</th>\n",
       "      <th>weekday</th>\n",
       "      <th>day</th>\n",
       "      <th>month</th>\n",
       "      <th>year</th>\n",
       "      <th>identifier</th>\n",
       "    </tr>\n",
       "  </thead>\n",
       "  <tbody>\n",
       "    <tr>\n",
       "      <th>0</th>\n",
       "      <td>Bundesliga</td>\n",
       "      <td>2009/10</td>\n",
       "      <td>1</td>\n",
       "      <td>2009-07-18 19:30:00</td>\n",
       "      <td>SV Kapfenberg</td>\n",
       "      <td>SV Ried</td>\n",
       "      <td>0:1</td>\n",
       "      <td>Werner Gregoritsch</td>\n",
       "      <td>4-5-1</td>\n",
       "      <td>2394</td>\n",
       "      <td>Paul Gludovatz</td>\n",
       "      <td>5-4-1</td>\n",
       "      <td>266</td>\n",
       "      <td>19:30</td>\n",
       "      <td>3450</td>\n",
       "      <td>5</td>\n",
       "      <td>18</td>\n",
       "      <td>7</td>\n",
       "      <td>2009</td>\n",
       "      <td>0d35ff9a835d4ed24af193dbcaa0a5b7a48210bfe36dba...</td>\n",
       "    </tr>\n",
       "    <tr>\n",
       "      <th>1</th>\n",
       "      <td>Bundesliga</td>\n",
       "      <td>2009/10</td>\n",
       "      <td>2</td>\n",
       "      <td>2009-07-25 19:30:00</td>\n",
       "      <td>SV Ried</td>\n",
       "      <td>Red Bull Salzburg</td>\n",
       "      <td>1:0</td>\n",
       "      <td>Paul Gludovatz</td>\n",
       "      <td>5-4-1</td>\n",
       "      <td>266</td>\n",
       "      <td>Huub Stevens</td>\n",
       "      <td>4-4-2 Raute</td>\n",
       "      <td>409</td>\n",
       "      <td>19:30</td>\n",
       "      <td>7600</td>\n",
       "      <td>5</td>\n",
       "      <td>25</td>\n",
       "      <td>7</td>\n",
       "      <td>2009</td>\n",
       "      <td>81225b68d59aa35cdc85291ea79a6b93d179a441e752e3...</td>\n",
       "    </tr>\n",
       "    <tr>\n",
       "      <th>2</th>\n",
       "      <td>Bundesliga</td>\n",
       "      <td>2009/10</td>\n",
       "      <td>3</td>\n",
       "      <td>2009-07-31 20:30:00</td>\n",
       "      <td>SC Wiener Neustadt</td>\n",
       "      <td>SV Ried</td>\n",
       "      <td>2:1</td>\n",
       "      <td>Helmut Kraft</td>\n",
       "      <td>4-4-2</td>\n",
       "      <td>17444</td>\n",
       "      <td>Paul Gludovatz</td>\n",
       "      <td>5-4-1</td>\n",
       "      <td>266</td>\n",
       "      <td>20:30</td>\n",
       "      <td>2700</td>\n",
       "      <td>4</td>\n",
       "      <td>31</td>\n",
       "      <td>7</td>\n",
       "      <td>2009</td>\n",
       "      <td>d8198d9be005849cc4cc3ec5f1c0cd99ebe0b84c26fc38...</td>\n",
       "    </tr>\n",
       "    <tr>\n",
       "      <th>3</th>\n",
       "      <td>Bundesliga</td>\n",
       "      <td>2009/10</td>\n",
       "      <td>4</td>\n",
       "      <td>2009-09-08 19:30:00</td>\n",
       "      <td>SV Ried</td>\n",
       "      <td>SK Rapid Wien</td>\n",
       "      <td>1:1</td>\n",
       "      <td>Paul Gludovatz</td>\n",
       "      <td>5-4-1</td>\n",
       "      <td>266</td>\n",
       "      <td>Peter Pacult</td>\n",
       "      <td>4-4-2 doppel 6</td>\n",
       "      <td>170</td>\n",
       "      <td>19:30</td>\n",
       "      <td>7600</td>\n",
       "      <td>1</td>\n",
       "      <td>8</td>\n",
       "      <td>9</td>\n",
       "      <td>2009</td>\n",
       "      <td>164564f0839d4a5d277ba006596369919e4717e5950fd1...</td>\n",
       "    </tr>\n",
       "    <tr>\n",
       "      <th>4</th>\n",
       "      <td>Bundesliga</td>\n",
       "      <td>2009/10</td>\n",
       "      <td>5</td>\n",
       "      <td>2009-08-21 20:30:00</td>\n",
       "      <td>SK Austria Kärnten</td>\n",
       "      <td>SV Ried</td>\n",
       "      <td>0:0</td>\n",
       "      <td>Frenkie Schinkels</td>\n",
       "      <td>4-5-1</td>\n",
       "      <td>11609</td>\n",
       "      <td>Paul Gludovatz</td>\n",
       "      <td>3-4-2-1</td>\n",
       "      <td>266</td>\n",
       "      <td>20:30</td>\n",
       "      <td>5079</td>\n",
       "      <td>4</td>\n",
       "      <td>21</td>\n",
       "      <td>8</td>\n",
       "      <td>2009</td>\n",
       "      <td>26596f43388b43546a5014d869f60e0165adb51df66464...</td>\n",
       "    </tr>\n",
       "  </tbody>\n",
       "</table>\n",
       "</div>"
      ],
      "text/plain": [
       "  competition   saison gameday                 date      home_team_name  \\\n",
       "0  Bundesliga  2009/10       1  2009-07-18 19:30:00       SV Kapfenberg   \n",
       "1  Bundesliga  2009/10       2  2009-07-25 19:30:00             SV Ried   \n",
       "2  Bundesliga  2009/10       3  2009-07-31 20:30:00  SC Wiener Neustadt   \n",
       "3  Bundesliga  2009/10       4  2009-09-08 19:30:00             SV Ried   \n",
       "4  Bundesliga  2009/10       5  2009-08-21 20:30:00  SK Austria Kärnten   \n",
       "\n",
       "     guest_team_name result          home_coach home_game_system  \\\n",
       "0            SV Ried    0:1  Werner Gregoritsch            4-5-1   \n",
       "1  Red Bull Salzburg    1:0      Paul Gludovatz            5-4-1   \n",
       "2            SV Ried    2:1        Helmut Kraft            4-4-2   \n",
       "3      SK Rapid Wien    1:1      Paul Gludovatz            5-4-1   \n",
       "4            SV Ried    0:0   Frenkie Schinkels            4-5-1   \n",
       "\n",
       "   home_team_id     guest_coach guest_game_system  guest_team_id   time  \\\n",
       "0          2394  Paul Gludovatz             5-4-1            266  19:30   \n",
       "1           266    Huub Stevens       4-4-2 Raute            409  19:30   \n",
       "2         17444  Paul Gludovatz             5-4-1            266  20:30   \n",
       "3           266    Peter Pacult    4-4-2 doppel 6            170  19:30   \n",
       "4         11609  Paul Gludovatz           3-4-2-1            266  20:30   \n",
       "\n",
       "   viewers  weekday  day  month  year  \\\n",
       "0     3450        5   18      7  2009   \n",
       "1     7600        5   25      7  2009   \n",
       "2     2700        4   31      7  2009   \n",
       "3     7600        1    8      9  2009   \n",
       "4     5079        4   21      8  2009   \n",
       "\n",
       "                                          identifier  \n",
       "0  0d35ff9a835d4ed24af193dbcaa0a5b7a48210bfe36dba...  \n",
       "1  81225b68d59aa35cdc85291ea79a6b93d179a441e752e3...  \n",
       "2  d8198d9be005849cc4cc3ec5f1c0cd99ebe0b84c26fc38...  \n",
       "3  164564f0839d4a5d277ba006596369919e4717e5950fd1...  \n",
       "4  26596f43388b43546a5014d869f60e0165adb51df66464...  "
      ]
     },
     "execution_count": 9,
     "metadata": {},
     "output_type": "execute_result"
    }
   ],
   "source": [
    "df.head()"
   ]
  },
  {
   "cell_type": "code",
   "execution_count": 10,
   "metadata": {
    "ExecuteTime": {
     "end_time": "2019-08-11T12:21:07.524268Z",
     "start_time": "2019-08-11T12:21:07.452270Z"
    }
   },
   "outputs": [
    {
     "name": "stdout",
     "output_type": "stream",
     "text": [
      "<class 'pandas.core.frame.DataFrame'>\n",
      "RangeIndex: 2509 entries, 0 to 2508\n",
      "Data columns (total 20 columns):\n",
      "competition          2509 non-null object\n",
      "saison               2509 non-null object\n",
      "gameday              2509 non-null object\n",
      "date                 2509 non-null object\n",
      "home_team_name       2509 non-null object\n",
      "guest_team_name      2509 non-null object\n",
      "result               2509 non-null object\n",
      "home_coach           2101 non-null object\n",
      "home_game_system     2101 non-null object\n",
      "home_team_id         2509 non-null int64\n",
      "guest_coach          2284 non-null object\n",
      "guest_game_system    2284 non-null object\n",
      "guest_team_id        2509 non-null int64\n",
      "time                 2509 non-null object\n",
      "viewers              2509 non-null int64\n",
      "weekday              2509 non-null int64\n",
      "day                  2509 non-null int64\n",
      "month                2509 non-null int64\n",
      "year                 2509 non-null int64\n",
      "identifier           2509 non-null object\n",
      "dtypes: int64(7), object(13)\n",
      "memory usage: 392.1+ KB\n"
     ]
    }
   ],
   "source": [
    "df.info()"
   ]
  },
  {
   "cell_type": "code",
   "execution_count": 11,
   "metadata": {
    "ExecuteTime": {
     "end_time": "2019-08-11T12:21:07.616270Z",
     "start_time": "2019-08-11T12:21:07.532285Z"
    }
   },
   "outputs": [
    {
     "data": {
      "text/plain": [
       "NaN                    225\n",
       "Franco Foda            146\n",
       "Dietmar Kühbauer       122\n",
       "Heimo Pfeifenberger     95\n",
       "Peter Schöttel          91\n",
       "Name: guest_coach, dtype: int64"
      ]
     },
     "execution_count": 11,
     "metadata": {},
     "output_type": "execute_result"
    }
   ],
   "source": [
    "df.guest_coach.value_counts(dropna=False).head()"
   ]
  },
  {
   "cell_type": "code",
   "execution_count": 12,
   "metadata": {
    "ExecuteTime": {
     "end_time": "2019-08-11T12:21:07.692267Z",
     "start_time": "2019-08-11T12:21:07.624279Z"
    }
   },
   "outputs": [],
   "source": [
    "df = df.fillna('?')"
   ]
  },
  {
   "cell_type": "code",
   "execution_count": 13,
   "metadata": {
    "ExecuteTime": {
     "end_time": "2019-08-11T12:21:07.740278Z",
     "start_time": "2019-08-11T12:21:07.716277Z"
    }
   },
   "outputs": [
    {
     "data": {
      "text/plain": [
       "0"
      ]
     },
     "execution_count": 13,
     "metadata": {},
     "output_type": "execute_result"
    }
   ],
   "source": [
    "df.isna().sum().sum()"
   ]
  },
  {
   "cell_type": "code",
   "execution_count": 14,
   "metadata": {
    "ExecuteTime": {
     "end_time": "2019-08-11T12:21:07.828283Z",
     "start_time": "2019-08-11T12:21:07.752283Z"
    }
   },
   "outputs": [],
   "source": [
    "df.weekday = df.weekday.astype(str)\n",
    "df.day = df.day.astype(str)\n",
    "df.month = df.month.astype(str)\n",
    "df.year = df.year.astype(str)"
   ]
  },
  {
   "cell_type": "code",
   "execution_count": 15,
   "metadata": {
    "ExecuteTime": {
     "end_time": "2019-08-11T12:21:07.928281Z",
     "start_time": "2019-08-11T12:21:07.840284Z"
    }
   },
   "outputs": [
    {
     "data": {
      "text/plain": [
       "?                      225\n",
       "Franco Foda            146\n",
       "Dietmar Kühbauer       122\n",
       "Heimo Pfeifenberger     95\n",
       "Peter Schöttel          91\n",
       "Name: guest_coach, dtype: int64"
      ]
     },
     "execution_count": 15,
     "metadata": {},
     "output_type": "execute_result"
    }
   ],
   "source": [
    "df.guest_coach.value_counts(dropna=False).head()"
   ]
  },
  {
   "cell_type": "code",
   "execution_count": 16,
   "metadata": {
    "ExecuteTime": {
     "end_time": "2019-08-11T12:21:08.124284Z",
     "start_time": "2019-08-11T12:21:07.936287Z"
    }
   },
   "outputs": [
    {
     "name": "stderr",
     "output_type": "stream",
     "text": [
      "C:\\Users\\thoma\\AppData\\Roaming\\Python\\Python37\\site-packages\\ipykernel_launcher.py:1: SettingWithCopyWarning: \n",
      "A value is trying to be set on a copy of a slice from a DataFrame\n",
      "\n",
      "See the caveats in the documentation: http://pandas.pydata.org/pandas-docs/stable/indexing.html#indexing-view-versus-copy\n",
      "  \"\"\"Entry point for launching an IPython kernel.\n"
     ]
    }
   ],
   "source": [
    "df.result[df.result.str.contains('E')] = '1:1'"
   ]
  },
  {
   "cell_type": "code",
   "execution_count": 17,
   "metadata": {
    "ExecuteTime": {
     "end_time": "2019-08-11T12:21:08.148268Z",
     "start_time": "2019-08-11T12:21:08.136284Z"
    }
   },
   "outputs": [],
   "source": [
    "df.result = df.result.str.slice(stop=3)"
   ]
  },
  {
   "cell_type": "code",
   "execution_count": 18,
   "metadata": {
    "ExecuteTime": {
     "end_time": "2019-08-11T12:21:08.236282Z",
     "start_time": "2019-08-11T12:21:08.156283Z"
    }
   },
   "outputs": [
    {
     "data": {
      "text/plain": [
       "(0, 0, 0)"
      ]
     },
     "execution_count": 18,
     "metadata": {},
     "output_type": "execute_result"
    }
   ],
   "source": [
    "len(df[df.result.str.contains('V')]), len(df[df.result.str.contains('E')]), len(df[df.result.str.contains('n')])"
   ]
  },
  {
   "cell_type": "code",
   "execution_count": 326,
   "metadata": {
    "ExecuteTime": {
     "end_time": "2019-08-11T14:38:19.421762Z",
     "start_time": "2019-08-11T14:38:19.383768Z"
    }
   },
   "outputs": [
    {
     "data": {
      "text/plain": [
       "(2509, 4)"
      ]
     },
     "execution_count": 326,
     "metadata": {},
     "output_type": "execute_result"
    }
   ],
   "source": [
    "goals = pd.DataFrame()\n",
    "\n",
    "\n",
    "goals['home_team_id'] = df['home_team_id']\n",
    "goals['guest_team_id'] = df['guest_team_id']\n",
    "\n",
    "goals['home_goals'] = df.result.str.slice(stop=1)\n",
    "goals['guest_goals'] = df.result.str.slice(start=2)\n",
    "\n",
    "\n",
    "goals.home_team_id = goals.home_team_id\n",
    "goals.guest_team_id = pd.to_numeric(goals.guest_team_id)\n",
    "goals.home_goals = pd.to_numeric(goals.home_goals)\n",
    "goals.guest_goals = pd.to_numeric(goals.guest_goals)\n",
    "\n",
    "goals.shape"
   ]
  },
  {
   "cell_type": "code",
   "execution_count": 20,
   "metadata": {
    "ExecuteTime": {
     "end_time": "2019-08-11T12:21:08.408278Z",
     "start_time": "2019-08-11T12:21:08.356284Z"
    }
   },
   "outputs": [
    {
     "name": "stdout",
     "output_type": "stream",
     "text": [
      "<class 'pandas.core.frame.DataFrame'>\n",
      "RangeIndex: 2509 entries, 0 to 2508\n",
      "Data columns (total 4 columns):\n",
      "home_team_id     2509 non-null int64\n",
      "guest_team_id    2509 non-null int64\n",
      "home_goals       2509 non-null int64\n",
      "guest_goals      2509 non-null int64\n",
      "dtypes: int64(4)\n",
      "memory usage: 78.5 KB\n"
     ]
    }
   ],
   "source": [
    "goals.info()"
   ]
  },
  {
   "cell_type": "code",
   "execution_count": 21,
   "metadata": {
    "ExecuteTime": {
     "end_time": "2019-08-11T12:21:08.476269Z",
     "start_time": "2019-08-11T12:21:08.412269Z"
    }
   },
   "outputs": [
    {
     "data": {
      "text/html": [
       "<div>\n",
       "<style scoped>\n",
       "    .dataframe tbody tr th:only-of-type {\n",
       "        vertical-align: middle;\n",
       "    }\n",
       "\n",
       "    .dataframe tbody tr th {\n",
       "        vertical-align: top;\n",
       "    }\n",
       "\n",
       "    .dataframe thead th {\n",
       "        text-align: right;\n",
       "    }\n",
       "</style>\n",
       "<table border=\"1\" class=\"dataframe\">\n",
       "  <thead>\n",
       "    <tr style=\"text-align: right;\">\n",
       "      <th></th>\n",
       "      <th>home_team_id</th>\n",
       "      <th>guest_team_id</th>\n",
       "      <th>home_goals</th>\n",
       "      <th>guest_goals</th>\n",
       "    </tr>\n",
       "  </thead>\n",
       "  <tbody>\n",
       "    <tr>\n",
       "      <th>0</th>\n",
       "      <td>2394</td>\n",
       "      <td>266</td>\n",
       "      <td>0</td>\n",
       "      <td>1</td>\n",
       "    </tr>\n",
       "    <tr>\n",
       "      <th>1</th>\n",
       "      <td>266</td>\n",
       "      <td>409</td>\n",
       "      <td>1</td>\n",
       "      <td>0</td>\n",
       "    </tr>\n",
       "    <tr>\n",
       "      <th>2</th>\n",
       "      <td>17444</td>\n",
       "      <td>266</td>\n",
       "      <td>2</td>\n",
       "      <td>1</td>\n",
       "    </tr>\n",
       "    <tr>\n",
       "      <th>3</th>\n",
       "      <td>266</td>\n",
       "      <td>170</td>\n",
       "      <td>1</td>\n",
       "      <td>1</td>\n",
       "    </tr>\n",
       "    <tr>\n",
       "      <th>4</th>\n",
       "      <td>11609</td>\n",
       "      <td>266</td>\n",
       "      <td>0</td>\n",
       "      <td>0</td>\n",
       "    </tr>\n",
       "  </tbody>\n",
       "</table>\n",
       "</div>"
      ],
      "text/plain": [
       "   home_team_id  guest_team_id  home_goals  guest_goals\n",
       "0          2394            266           0            1\n",
       "1           266            409           1            0\n",
       "2         17444            266           2            1\n",
       "3           266            170           1            1\n",
       "4         11609            266           0            0"
      ]
     },
     "execution_count": 21,
     "metadata": {},
     "output_type": "execute_result"
    }
   ],
   "source": [
    "goals[0:].head()"
   ]
  },
  {
   "cell_type": "code",
   "execution_count": 22,
   "metadata": {
    "ExecuteTime": {
     "end_time": "2019-08-11T12:21:08.528278Z",
     "start_time": "2019-08-11T12:21:08.484276Z"
    }
   },
   "outputs": [
    {
     "data": {
      "text/plain": [
       "0    0\n",
       "1    1\n",
       "2    3\n",
       "3    4\n",
       "4    4\n",
       "Name: home_goals, dtype: int64"
      ]
     },
     "execution_count": 22,
     "metadata": {},
     "output_type": "execute_result"
    }
   ],
   "source": [
    "goals.home_goals.cumsum().head()"
   ]
  },
  {
   "cell_type": "code",
   "execution_count": 23,
   "metadata": {
    "ExecuteTime": {
     "end_time": "2019-08-11T12:21:08.736286Z",
     "start_time": "2019-08-11T12:21:08.544282Z"
    }
   },
   "outputs": [],
   "source": [
    "#### home team goals shoot at home\n",
    "cumsum_1 = goals.home_goals.groupby(goals.home_team_id).cumsum() - goals.home_goals\n",
    "cumcount_1 = goals.home_goals.groupby(goals.home_team_id).cumcount()\n",
    "goals['home team goals shoot at home avg'] = cumsum_1 / cumcount_1"
   ]
  },
  {
   "cell_type": "code",
   "execution_count": 24,
   "metadata": {
    "ExecuteTime": {
     "end_time": "2019-08-11T12:21:08.828268Z",
     "start_time": "2019-08-11T12:21:08.744280Z"
    }
   },
   "outputs": [],
   "source": [
    "#### home team goals received at home\n",
    "cumsum_2 = goals.guest_goals.groupby(goals.home_team_id).cumsum() - goals.guest_goals\n",
    "cumcount_2 = goals.guest_goals.groupby(goals.home_team_id).cumcount()\n",
    "goals['home team goals received at home avg'] = cumsum_2 / cumcount_2"
   ]
  },
  {
   "cell_type": "code",
   "execution_count": 25,
   "metadata": {
    "ExecuteTime": {
     "end_time": "2019-08-11T12:21:08.840281Z",
     "start_time": "2019-08-11T12:21:08.832277Z"
    }
   },
   "outputs": [],
   "source": [
    "#### home team goals shoot as guest\n",
    "# goals['home team goals shoot as guest'] = goals.guest_goals.groupby(goals.guest_team_id == goals.home_team_id).cumsum()"
   ]
  },
  {
   "cell_type": "code",
   "execution_count": 26,
   "metadata": {
    "ExecuteTime": {
     "end_time": "2019-08-11T12:21:08.888271Z",
     "start_time": "2019-08-11T12:21:08.848279Z"
    }
   },
   "outputs": [],
   "source": [
    "#################################"
   ]
  },
  {
   "cell_type": "code",
   "execution_count": 27,
   "metadata": {
    "ExecuteTime": {
     "end_time": "2019-08-11T12:21:08.908272Z",
     "start_time": "2019-08-11T12:21:08.896272Z"
    }
   },
   "outputs": [],
   "source": [
    "#################################"
   ]
  },
  {
   "cell_type": "code",
   "execution_count": 28,
   "metadata": {
    "ExecuteTime": {
     "end_time": "2019-08-11T12:21:09.080284Z",
     "start_time": "2019-08-11T12:21:08.956284Z"
    }
   },
   "outputs": [],
   "source": [
    "### guest team goals shoot as guest\n",
    "cumsum_3 = goals.guest_goals.groupby(goals.guest_team_id).cumsum() - goals.guest_goals\n",
    "cumcount_3 = goals.guest_goals.groupby(goals.guest_team_id).cumcount()\n",
    "goals['guest team goals shoot as guest avg'] = cumsum_3 / cumcount_3"
   ]
  },
  {
   "cell_type": "code",
   "execution_count": 29,
   "metadata": {
    "ExecuteTime": {
     "end_time": "2019-08-11T12:21:09.180280Z",
     "start_time": "2019-08-11T12:21:09.092285Z"
    }
   },
   "outputs": [],
   "source": [
    "### guest team goals received as guest\n",
    "cumsum_4 = goals.home_goals.groupby(goals.guest_team_id).cumsum() - goals.home_goals\n",
    "cumcount_4 = goals.home_goals.groupby(goals.guest_team_id).cumcount()\n",
    "goals['guest team goals received as guest avg'] = cumsum_4 / cumcount_4"
   ]
  },
  {
   "cell_type": "code",
   "execution_count": 30,
   "metadata": {
    "ExecuteTime": {
     "end_time": "2019-08-11T12:21:09.256268Z",
     "start_time": "2019-08-11T12:21:09.188280Z"
    }
   },
   "outputs": [],
   "source": [
    "goals = goals.fillna(0)"
   ]
  },
  {
   "cell_type": "code",
   "execution_count": 31,
   "metadata": {
    "ExecuteTime": {
     "end_time": "2019-08-11T12:21:09.316281Z",
     "start_time": "2019-08-11T12:21:09.264274Z"
    }
   },
   "outputs": [],
   "source": [
    "goals['home team avg home diff'] = goals['home team goals shoot at home avg'] - goals['home team goals received at home avg']\n",
    "goals['guest team avg guest diff'] = goals['guest team goals shoot as guest avg'] - goals['guest team goals received as guest avg']"
   ]
  },
  {
   "cell_type": "code",
   "execution_count": 32,
   "metadata": {
    "ExecuteTime": {
     "end_time": "2019-08-11T12:21:09.440271Z",
     "start_time": "2019-08-11T12:21:09.328279Z"
    }
   },
   "outputs": [
    {
     "data": {
      "text/html": [
       "<div>\n",
       "<style scoped>\n",
       "    .dataframe tbody tr th:only-of-type {\n",
       "        vertical-align: middle;\n",
       "    }\n",
       "\n",
       "    .dataframe tbody tr th {\n",
       "        vertical-align: top;\n",
       "    }\n",
       "\n",
       "    .dataframe thead th {\n",
       "        text-align: right;\n",
       "    }\n",
       "</style>\n",
       "<table border=\"1\" class=\"dataframe\">\n",
       "  <thead>\n",
       "    <tr style=\"text-align: right;\">\n",
       "      <th></th>\n",
       "      <th>home_team_id</th>\n",
       "      <th>guest_team_id</th>\n",
       "      <th>home_goals</th>\n",
       "      <th>guest_goals</th>\n",
       "      <th>home team goals shoot at home avg</th>\n",
       "      <th>home team goals received at home avg</th>\n",
       "      <th>guest team goals shoot as guest avg</th>\n",
       "      <th>guest team goals received as guest avg</th>\n",
       "      <th>home team avg home diff</th>\n",
       "      <th>guest team avg guest diff</th>\n",
       "    </tr>\n",
       "  </thead>\n",
       "  <tbody>\n",
       "    <tr>\n",
       "      <th>0</th>\n",
       "      <td>2394</td>\n",
       "      <td>266</td>\n",
       "      <td>0</td>\n",
       "      <td>1</td>\n",
       "      <td>0.0</td>\n",
       "      <td>0.0</td>\n",
       "      <td>0.0</td>\n",
       "      <td>0.0</td>\n",
       "      <td>0.0</td>\n",
       "      <td>0.0</td>\n",
       "    </tr>\n",
       "    <tr>\n",
       "      <th>1</th>\n",
       "      <td>266</td>\n",
       "      <td>409</td>\n",
       "      <td>1</td>\n",
       "      <td>0</td>\n",
       "      <td>0.0</td>\n",
       "      <td>0.0</td>\n",
       "      <td>0.0</td>\n",
       "      <td>0.0</td>\n",
       "      <td>0.0</td>\n",
       "      <td>0.0</td>\n",
       "    </tr>\n",
       "    <tr>\n",
       "      <th>2</th>\n",
       "      <td>17444</td>\n",
       "      <td>266</td>\n",
       "      <td>2</td>\n",
       "      <td>1</td>\n",
       "      <td>0.0</td>\n",
       "      <td>0.0</td>\n",
       "      <td>1.0</td>\n",
       "      <td>0.0</td>\n",
       "      <td>0.0</td>\n",
       "      <td>1.0</td>\n",
       "    </tr>\n",
       "    <tr>\n",
       "      <th>3</th>\n",
       "      <td>266</td>\n",
       "      <td>170</td>\n",
       "      <td>1</td>\n",
       "      <td>1</td>\n",
       "      <td>1.0</td>\n",
       "      <td>0.0</td>\n",
       "      <td>0.0</td>\n",
       "      <td>0.0</td>\n",
       "      <td>1.0</td>\n",
       "      <td>0.0</td>\n",
       "    </tr>\n",
       "    <tr>\n",
       "      <th>4</th>\n",
       "      <td>11609</td>\n",
       "      <td>266</td>\n",
       "      <td>0</td>\n",
       "      <td>0</td>\n",
       "      <td>0.0</td>\n",
       "      <td>0.0</td>\n",
       "      <td>1.0</td>\n",
       "      <td>1.0</td>\n",
       "      <td>0.0</td>\n",
       "      <td>0.0</td>\n",
       "    </tr>\n",
       "  </tbody>\n",
       "</table>\n",
       "</div>"
      ],
      "text/plain": [
       "   home_team_id  guest_team_id  home_goals  guest_goals  \\\n",
       "0          2394            266           0            1   \n",
       "1           266            409           1            0   \n",
       "2         17444            266           2            1   \n",
       "3           266            170           1            1   \n",
       "4         11609            266           0            0   \n",
       "\n",
       "   home team goals shoot at home avg  home team goals received at home avg  \\\n",
       "0                                0.0                                   0.0   \n",
       "1                                0.0                                   0.0   \n",
       "2                                0.0                                   0.0   \n",
       "3                                1.0                                   0.0   \n",
       "4                                0.0                                   0.0   \n",
       "\n",
       "   guest team goals shoot as guest avg  \\\n",
       "0                                  0.0   \n",
       "1                                  0.0   \n",
       "2                                  1.0   \n",
       "3                                  0.0   \n",
       "4                                  1.0   \n",
       "\n",
       "   guest team goals received as guest avg  home team avg home diff  \\\n",
       "0                                     0.0                      0.0   \n",
       "1                                     0.0                      0.0   \n",
       "2                                     0.0                      0.0   \n",
       "3                                     0.0                      1.0   \n",
       "4                                     1.0                      0.0   \n",
       "\n",
       "   guest team avg guest diff  \n",
       "0                        0.0  \n",
       "1                        0.0  \n",
       "2                        1.0  \n",
       "3                        0.0  \n",
       "4                        0.0  "
      ]
     },
     "execution_count": 32,
     "metadata": {},
     "output_type": "execute_result"
    }
   ],
   "source": [
    "goals.head()"
   ]
  },
  {
   "cell_type": "code",
   "execution_count": 33,
   "metadata": {
    "ExecuteTime": {
     "end_time": "2019-08-11T12:21:09.608301Z",
     "start_time": "2019-08-11T12:21:09.488286Z"
    }
   },
   "outputs": [
    {
     "data": {
      "text/plain": [
       "1"
      ]
     },
     "execution_count": 33,
     "metadata": {},
     "output_type": "execute_result"
    }
   ],
   "source": [
    "goals.home_goals.groupby(goals.guest_team_id).cumsum().iloc[3]"
   ]
  },
  {
   "cell_type": "code",
   "execution_count": 34,
   "metadata": {
    "ExecuteTime": {
     "end_time": "2019-08-11T12:21:09.684275Z",
     "start_time": "2019-08-11T12:21:09.616278Z"
    }
   },
   "outputs": [],
   "source": [
    "sub = goals[['home_team_id', 'guest_team_id', 'home_goals', 'guest_goals']]"
   ]
  },
  {
   "cell_type": "code",
   "execution_count": 36,
   "metadata": {
    "ExecuteTime": {
     "end_time": "2019-08-11T12:21:18.943552Z",
     "start_time": "2019-08-11T12:21:18.907550Z"
    }
   },
   "outputs": [],
   "source": [
    "sub.to_csv('sub.csv')"
   ]
  },
  {
   "cell_type": "code",
   "execution_count": null,
   "metadata": {},
   "outputs": [],
   "source": []
  },
  {
   "cell_type": "code",
   "execution_count": 134,
   "metadata": {
    "ExecuteTime": {
     "end_time": "2019-08-11T13:06:20.844002Z",
     "start_time": "2019-08-11T13:06:20.812746Z"
    }
   },
   "outputs": [
    {
     "data": {
      "text/plain": [
       "array([   0,    2,    4,    6,    7,    9,   11,   13,   15,   18,   20,\n",
       "         22,   24,   26,   29,   31,   33,   35,   36,   37,   38,  260,\n",
       "        262,  263,  265,  267,  269,  271,  274,  276,  278,  280,  282,\n",
       "        284,  286,  287,  289,  291,  293,  295,  296,  297,  506,  508,\n",
       "        510,  511,  513,  515,  517,  518,  521,  523,  525,  528,  529,\n",
       "        531,  533,  535,  536,  539,  541,  543,  545,  546,  547,  548,\n",
       "        550,  758,  761,  762,  765,  767,  769,  772,  773,  775,  777,\n",
       "        779,  780,  783,  785,  787,  790,  791,  793,  795,  797,  798,\n",
       "        799,  800,  992,  994,  996,  998, 1000, 1002, 1004, 1006, 1008,\n",
       "       1010, 1012, 1014, 1016, 1018, 1020, 1022, 1024, 1026, 1028, 1029,\n",
       "       1030, 1237, 1240, 1242, 1243, 1245, 1247, 1248, 1250, 1253, 1255,\n",
       "       1258, 1260, 1261, 1263, 1265, 1266, 1268, 1271, 1272, 1465, 1467,\n",
       "       1469, 1471, 1472, 1475, 1477, 1479, 1482, 1483, 1485, 1487, 1489,\n",
       "       1490, 1493, 1495, 1497, 1500, 1501, 1503, 1702, 1704, 1706, 1708,\n",
       "       1710, 1712, 1714, 1716, 1718, 1720, 1722, 1724, 1726, 1728, 1730,\n",
       "       1732, 1734, 1736, 1738, 1739, 2135, 2153, 2212], dtype=int64)"
      ]
     },
     "execution_count": 134,
     "metadata": {},
     "output_type": "execute_result"
    }
   ],
   "source": [
    "goals[goals.guest_team_id == 266].index.values"
   ]
  },
  {
   "cell_type": "code",
   "execution_count": 372,
   "metadata": {
    "ExecuteTime": {
     "end_time": "2019-08-11T15:15:26.655988Z",
     "start_time": "2019-08-11T15:15:21.138672Z"
    },
    "scrolled": true
   },
   "outputs": [
    {
     "data": {
      "text/html": [
       "<div>\n",
       "<style scoped>\n",
       "    .dataframe tbody tr th:only-of-type {\n",
       "        vertical-align: middle;\n",
       "    }\n",
       "\n",
       "    .dataframe tbody tr th {\n",
       "        vertical-align: top;\n",
       "    }\n",
       "\n",
       "    .dataframe thead th {\n",
       "        text-align: right;\n",
       "    }\n",
       "</style>\n",
       "<table border=\"1\" class=\"dataframe\">\n",
       "  <thead>\n",
       "    <tr style=\"text-align: right;\">\n",
       "      <th></th>\n",
       "      <th>home_team_id</th>\n",
       "      <th>guest_team_id</th>\n",
       "      <th>home_goals</th>\n",
       "      <th>guest_goals</th>\n",
       "      <th>home team goals shot as guest</th>\n",
       "    </tr>\n",
       "  </thead>\n",
       "  <tbody>\n",
       "    <tr>\n",
       "      <th>0</th>\n",
       "      <td>2394</td>\n",
       "      <td>266</td>\n",
       "      <td>0</td>\n",
       "      <td>1</td>\n",
       "      <td>NaN</td>\n",
       "    </tr>\n",
       "    <tr>\n",
       "      <th>1</th>\n",
       "      <td>266</td>\n",
       "      <td>409</td>\n",
       "      <td>1</td>\n",
       "      <td>0</td>\n",
       "      <td>NaN</td>\n",
       "    </tr>\n",
       "    <tr>\n",
       "      <th>2</th>\n",
       "      <td>17444</td>\n",
       "      <td>266</td>\n",
       "      <td>2</td>\n",
       "      <td>1</td>\n",
       "      <td>NaN</td>\n",
       "    </tr>\n",
       "    <tr>\n",
       "      <th>3</th>\n",
       "      <td>266</td>\n",
       "      <td>170</td>\n",
       "      <td>1</td>\n",
       "      <td>1</td>\n",
       "      <td>NaN</td>\n",
       "    </tr>\n",
       "    <tr>\n",
       "      <th>4</th>\n",
       "      <td>11609</td>\n",
       "      <td>266</td>\n",
       "      <td>0</td>\n",
       "      <td>0</td>\n",
       "      <td>NaN</td>\n",
       "    </tr>\n",
       "    <tr>\n",
       "      <th>5</th>\n",
       "      <td>266</td>\n",
       "      <td>122</td>\n",
       "      <td>1</td>\n",
       "      <td>2</td>\n",
       "      <td>NaN</td>\n",
       "    </tr>\n",
       "    <tr>\n",
       "      <th>6</th>\n",
       "      <td>856</td>\n",
       "      <td>266</td>\n",
       "      <td>3</td>\n",
       "      <td>0</td>\n",
       "      <td>NaN</td>\n",
       "    </tr>\n",
       "    <tr>\n",
       "      <th>7</th>\n",
       "      <td>14</td>\n",
       "      <td>266</td>\n",
       "      <td>1</td>\n",
       "      <td>1</td>\n",
       "      <td>NaN</td>\n",
       "    </tr>\n",
       "    <tr>\n",
       "      <th>8</th>\n",
       "      <td>266</td>\n",
       "      <td>413</td>\n",
       "      <td>5</td>\n",
       "      <td>2</td>\n",
       "      <td>NaN</td>\n",
       "    </tr>\n",
       "    <tr>\n",
       "      <th>9</th>\n",
       "      <td>413</td>\n",
       "      <td>266</td>\n",
       "      <td>2</td>\n",
       "      <td>2</td>\n",
       "      <td>NaN</td>\n",
       "    </tr>\n",
       "    <tr>\n",
       "      <th>10</th>\n",
       "      <td>266</td>\n",
       "      <td>2394</td>\n",
       "      <td>3</td>\n",
       "      <td>0</td>\n",
       "      <td>NaN</td>\n",
       "    </tr>\n",
       "    <tr>\n",
       "      <th>11</th>\n",
       "      <td>409</td>\n",
       "      <td>266</td>\n",
       "      <td>1</td>\n",
       "      <td>1</td>\n",
       "      <td>NaN</td>\n",
       "    </tr>\n",
       "    <tr>\n",
       "      <th>12</th>\n",
       "      <td>266</td>\n",
       "      <td>17444</td>\n",
       "      <td>3</td>\n",
       "      <td>0</td>\n",
       "      <td>NaN</td>\n",
       "    </tr>\n",
       "    <tr>\n",
       "      <th>13</th>\n",
       "      <td>170</td>\n",
       "      <td>266</td>\n",
       "      <td>1</td>\n",
       "      <td>0</td>\n",
       "      <td>NaN</td>\n",
       "    </tr>\n",
       "    <tr>\n",
       "      <th>14</th>\n",
       "      <td>266</td>\n",
       "      <td>11609</td>\n",
       "      <td>1</td>\n",
       "      <td>0</td>\n",
       "      <td>NaN</td>\n",
       "    </tr>\n",
       "  </tbody>\n",
       "</table>\n",
       "</div>"
      ],
      "text/plain": [
       "    home_team_id  guest_team_id  home_goals  guest_goals  \\\n",
       "0           2394            266           0            1   \n",
       "1            266            409           1            0   \n",
       "2          17444            266           2            1   \n",
       "3            266            170           1            1   \n",
       "4          11609            266           0            0   \n",
       "5            266            122           1            2   \n",
       "6            856            266           3            0   \n",
       "7             14            266           1            1   \n",
       "8            266            413           5            2   \n",
       "9            413            266           2            2   \n",
       "10           266           2394           3            0   \n",
       "11           409            266           1            1   \n",
       "12           266          17444           3            0   \n",
       "13           170            266           1            0   \n",
       "14           266          11609           1            0   \n",
       "\n",
       "    home team goals shot as guest  \n",
       "0                             NaN  \n",
       "1                             NaN  \n",
       "2                             NaN  \n",
       "3                             NaN  \n",
       "4                             NaN  \n",
       "5                             NaN  \n",
       "6                             NaN  \n",
       "7                             NaN  \n",
       "8                             NaN  \n",
       "9                             NaN  \n",
       "10                            NaN  \n",
       "11                            NaN  \n",
       "12                            NaN  \n",
       "13                            NaN  \n",
       "14                            NaN  "
      ]
     },
     "execution_count": 372,
     "metadata": {},
     "output_type": "execute_result"
    }
   ],
   "source": [
    "col_of_int = 'home team goals shot as guest'\n",
    "\n",
    "goals[col_of_int] = np.NaN\n",
    "\n",
    "indizes_list = []\n",
    "numbers = []\n",
    "\n",
    "for i in range(len(goals)):\n",
    "\n",
    "    indizes = goals[goals.guest_team_id == goals.guest_team_id[i]].index.values\n",
    "    indizes = list(indizes)\n",
    "    numbers.append(goals.guest_team_id[i])\n",
    "    if indizes not in indizes_list:\n",
    "        indizes_list.append(indizes)\n",
    "\n",
    "\n",
    "#print(len(indizes_list))\n",
    "#print(indizes_list[1])\n",
    "\n",
    "for i in range(len(indizes_list)):\n",
    "    indizes = indizes_list[i]\n",
    "    subset = goals.guest_goals.loc[indizes].cumsum() - goals.guest_goals.loc[indizes]\n",
    "    goals[col_of_int] = goals[col_of_int].fillna(subset).where(goals.home_team_id == numbers[i])\n",
    "    \n",
    "\n",
    "goals.head(15)"
   ]
  },
  {
   "cell_type": "code",
   "execution_count": null,
   "metadata": {},
   "outputs": [],
   "source": []
  }
 ],
 "metadata": {
  "kernelspec": {
   "display_name": "Python 3",
   "language": "python",
   "name": "python3"
  },
  "language_info": {
   "codemirror_mode": {
    "name": "ipython",
    "version": 3
   },
   "file_extension": ".py",
   "mimetype": "text/x-python",
   "name": "python",
   "nbconvert_exporter": "python",
   "pygments_lexer": "ipython3",
   "version": "3.7.3"
  }
 },
 "nbformat": 4,
 "nbformat_minor": 2
}
