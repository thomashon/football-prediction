{
 "cells": [
  {
   "cell_type": "code",
   "execution_count": 1,
   "metadata": {
    "ExecuteTime": {
     "end_time": "2019-08-11T15:58:57.165681Z",
     "start_time": "2019-08-11T15:58:55.957955Z"
    }
   },
   "outputs": [
    {
     "name": "stderr",
     "output_type": "stream",
     "text": [
      "C:\\Users\\thoma\\AppData\\Roaming\\Python\\Python37\\site-packages\\numpy\\core\\__init__.py:29: UserWarning: loaded more than 1 DLL from .libs:\n",
      "C:\\Users\\thoma\\AppData\\Roaming\\Python\\Python37\\site-packages\\numpy\\.libs\\libopenblas.IPBC74C7KURV7CB2PKT5Z5FNR3SIBV4J.gfortran-win_amd64.dll\n",
      "C:\\Users\\thoma\\AppData\\Roaming\\Python\\Python37\\site-packages\\numpy\\.libs\\libopenblas.TXA6YQSD3GCQQC22GEQ54J2UDCXDXHWN.gfortran-win_amd64.dll\n",
      "  stacklevel=1)\n"
     ]
    }
   ],
   "source": [
    "import numpy as np\n",
    "import pandas as pd"
   ]
  },
  {
   "cell_type": "code",
   "execution_count": 2,
   "metadata": {
    "ExecuteTime": {
     "end_time": "2019-08-11T15:58:57.236161Z",
     "start_time": "2019-08-11T15:58:57.165681Z"
    }
   },
   "outputs": [],
   "source": [
    "df = pd.read_csv('bundesliga-2009-2018_clean.csv')"
   ]
  },
  {
   "cell_type": "code",
   "execution_count": 3,
   "metadata": {
    "ExecuteTime": {
     "end_time": "2019-08-11T15:58:57.272036Z",
     "start_time": "2019-08-11T15:58:57.240039Z"
    }
   },
   "outputs": [
    {
     "data": {
      "text/plain": [
       "0     2394\n",
       "1      266\n",
       "2    17444\n",
       "3      266\n",
       "4    11609\n",
       "Name: home_team_id, dtype: int64"
      ]
     },
     "execution_count": 3,
     "metadata": {},
     "output_type": "execute_result"
    }
   ],
   "source": [
    "df.home_team_id.head()"
   ]
  },
  {
   "cell_type": "code",
   "execution_count": 4,
   "metadata": {
    "ExecuteTime": {
     "end_time": "2019-08-11T15:58:57.352034Z",
     "start_time": "2019-08-11T15:58:57.276032Z"
    }
   },
   "outputs": [
    {
     "data": {
      "text/html": [
       "<div>\n",
       "<style scoped>\n",
       "    .dataframe tbody tr th:only-of-type {\n",
       "        vertical-align: middle;\n",
       "    }\n",
       "\n",
       "    .dataframe tbody tr th {\n",
       "        vertical-align: top;\n",
       "    }\n",
       "\n",
       "    .dataframe thead th {\n",
       "        text-align: right;\n",
       "    }\n",
       "</style>\n",
       "<table border=\"1\" class=\"dataframe\">\n",
       "  <thead>\n",
       "    <tr style=\"text-align: right;\">\n",
       "      <th></th>\n",
       "      <th>competition</th>\n",
       "      <th>date</th>\n",
       "      <th>gameday</th>\n",
       "      <th>guest_coach</th>\n",
       "      <th>guest_game_system</th>\n",
       "      <th>guest_team_id</th>\n",
       "      <th>guest_team_name</th>\n",
       "      <th>home_coach</th>\n",
       "      <th>home_game_system</th>\n",
       "      <th>home_team_id</th>\n",
       "      <th>home_team_name</th>\n",
       "      <th>identifier</th>\n",
       "      <th>result</th>\n",
       "      <th>saison</th>\n",
       "      <th>time</th>\n",
       "      <th>viewers</th>\n",
       "      <th>weekday</th>\n",
       "      <th>day</th>\n",
       "      <th>month</th>\n",
       "      <th>year</th>\n",
       "    </tr>\n",
       "  </thead>\n",
       "  <tbody>\n",
       "    <tr>\n",
       "      <th>0</th>\n",
       "      <td>Bundesliga</td>\n",
       "      <td>2009-07-18 19:30:00</td>\n",
       "      <td>1</td>\n",
       "      <td>Paul Gludovatz</td>\n",
       "      <td>5-4-1</td>\n",
       "      <td>266</td>\n",
       "      <td>SV Ried</td>\n",
       "      <td>Werner Gregoritsch</td>\n",
       "      <td>4-5-1</td>\n",
       "      <td>2394</td>\n",
       "      <td>SV Kapfenberg</td>\n",
       "      <td>0d35ff9a835d4ed24af193dbcaa0a5b7a48210bfe36dba...</td>\n",
       "      <td>0:1</td>\n",
       "      <td>2009/10</td>\n",
       "      <td>19:30</td>\n",
       "      <td>3450</td>\n",
       "      <td>5</td>\n",
       "      <td>18</td>\n",
       "      <td>7</td>\n",
       "      <td>2009</td>\n",
       "    </tr>\n",
       "    <tr>\n",
       "      <th>1</th>\n",
       "      <td>Bundesliga</td>\n",
       "      <td>2009-07-25 19:30:00</td>\n",
       "      <td>2</td>\n",
       "      <td>Huub Stevens</td>\n",
       "      <td>4-4-2 Raute</td>\n",
       "      <td>409</td>\n",
       "      <td>Red Bull Salzburg</td>\n",
       "      <td>Paul Gludovatz</td>\n",
       "      <td>5-4-1</td>\n",
       "      <td>266</td>\n",
       "      <td>SV Ried</td>\n",
       "      <td>81225b68d59aa35cdc85291ea79a6b93d179a441e752e3...</td>\n",
       "      <td>1:0</td>\n",
       "      <td>2009/10</td>\n",
       "      <td>19:30</td>\n",
       "      <td>7600</td>\n",
       "      <td>5</td>\n",
       "      <td>25</td>\n",
       "      <td>7</td>\n",
       "      <td>2009</td>\n",
       "    </tr>\n",
       "    <tr>\n",
       "      <th>2</th>\n",
       "      <td>Bundesliga</td>\n",
       "      <td>2009-07-31 20:30:00</td>\n",
       "      <td>3</td>\n",
       "      <td>Paul Gludovatz</td>\n",
       "      <td>5-4-1</td>\n",
       "      <td>266</td>\n",
       "      <td>SV Ried</td>\n",
       "      <td>Helmut Kraft</td>\n",
       "      <td>4-4-2</td>\n",
       "      <td>17444</td>\n",
       "      <td>SC Wiener Neustadt</td>\n",
       "      <td>d8198d9be005849cc4cc3ec5f1c0cd99ebe0b84c26fc38...</td>\n",
       "      <td>2:1</td>\n",
       "      <td>2009/10</td>\n",
       "      <td>20:30</td>\n",
       "      <td>2700</td>\n",
       "      <td>4</td>\n",
       "      <td>31</td>\n",
       "      <td>7</td>\n",
       "      <td>2009</td>\n",
       "    </tr>\n",
       "    <tr>\n",
       "      <th>3</th>\n",
       "      <td>Bundesliga</td>\n",
       "      <td>2009-09-08 19:30:00</td>\n",
       "      <td>4</td>\n",
       "      <td>Peter Pacult</td>\n",
       "      <td>4-4-2 doppel 6</td>\n",
       "      <td>170</td>\n",
       "      <td>SK Rapid Wien</td>\n",
       "      <td>Paul Gludovatz</td>\n",
       "      <td>5-4-1</td>\n",
       "      <td>266</td>\n",
       "      <td>SV Ried</td>\n",
       "      <td>164564f0839d4a5d277ba006596369919e4717e5950fd1...</td>\n",
       "      <td>1:1</td>\n",
       "      <td>2009/10</td>\n",
       "      <td>19:30</td>\n",
       "      <td>7600</td>\n",
       "      <td>1</td>\n",
       "      <td>8</td>\n",
       "      <td>9</td>\n",
       "      <td>2009</td>\n",
       "    </tr>\n",
       "    <tr>\n",
       "      <th>4</th>\n",
       "      <td>Bundesliga</td>\n",
       "      <td>2009-08-21 20:30:00</td>\n",
       "      <td>5</td>\n",
       "      <td>Paul Gludovatz</td>\n",
       "      <td>3-4-2-1</td>\n",
       "      <td>266</td>\n",
       "      <td>SV Ried</td>\n",
       "      <td>Frenkie Schinkels</td>\n",
       "      <td>4-5-1</td>\n",
       "      <td>11609</td>\n",
       "      <td>SK Austria Kärnten</td>\n",
       "      <td>26596f43388b43546a5014d869f60e0165adb51df66464...</td>\n",
       "      <td>0:0</td>\n",
       "      <td>2009/10</td>\n",
       "      <td>20:30</td>\n",
       "      <td>5079</td>\n",
       "      <td>4</td>\n",
       "      <td>21</td>\n",
       "      <td>8</td>\n",
       "      <td>2009</td>\n",
       "    </tr>\n",
       "  </tbody>\n",
       "</table>\n",
       "</div>"
      ],
      "text/plain": [
       "  competition                 date gameday     guest_coach guest_game_system  \\\n",
       "0  Bundesliga  2009-07-18 19:30:00       1  Paul Gludovatz             5-4-1   \n",
       "1  Bundesliga  2009-07-25 19:30:00       2    Huub Stevens       4-4-2 Raute   \n",
       "2  Bundesliga  2009-07-31 20:30:00       3  Paul Gludovatz             5-4-1   \n",
       "3  Bundesliga  2009-09-08 19:30:00       4    Peter Pacult    4-4-2 doppel 6   \n",
       "4  Bundesliga  2009-08-21 20:30:00       5  Paul Gludovatz           3-4-2-1   \n",
       "\n",
       "   guest_team_id    guest_team_name          home_coach home_game_system  \\\n",
       "0            266            SV Ried  Werner Gregoritsch            4-5-1   \n",
       "1            409  Red Bull Salzburg      Paul Gludovatz            5-4-1   \n",
       "2            266            SV Ried        Helmut Kraft            4-4-2   \n",
       "3            170      SK Rapid Wien      Paul Gludovatz            5-4-1   \n",
       "4            266            SV Ried   Frenkie Schinkels            4-5-1   \n",
       "\n",
       "   home_team_id      home_team_name  \\\n",
       "0          2394       SV Kapfenberg   \n",
       "1           266             SV Ried   \n",
       "2         17444  SC Wiener Neustadt   \n",
       "3           266             SV Ried   \n",
       "4         11609  SK Austria Kärnten   \n",
       "\n",
       "                                          identifier result   saison   time  \\\n",
       "0  0d35ff9a835d4ed24af193dbcaa0a5b7a48210bfe36dba...    0:1  2009/10  19:30   \n",
       "1  81225b68d59aa35cdc85291ea79a6b93d179a441e752e3...    1:0  2009/10  19:30   \n",
       "2  d8198d9be005849cc4cc3ec5f1c0cd99ebe0b84c26fc38...    2:1  2009/10  20:30   \n",
       "3  164564f0839d4a5d277ba006596369919e4717e5950fd1...    1:1  2009/10  19:30   \n",
       "4  26596f43388b43546a5014d869f60e0165adb51df66464...    0:0  2009/10  20:30   \n",
       "\n",
       "   viewers  weekday  day  month  year  \n",
       "0     3450        5   18      7  2009  \n",
       "1     7600        5   25      7  2009  \n",
       "2     2700        4   31      7  2009  \n",
       "3     7600        1    8      9  2009  \n",
       "4     5079        4   21      8  2009  "
      ]
     },
     "execution_count": 4,
     "metadata": {},
     "output_type": "execute_result"
    }
   ],
   "source": [
    "try:\n",
    "    df = df.drop('Unnamed: 0', axis=1)\n",
    "except: KeyError\n",
    "df.head()"
   ]
  },
  {
   "cell_type": "code",
   "execution_count": 5,
   "metadata": {
    "ExecuteTime": {
     "end_time": "2019-08-11T15:58:57.372033Z",
     "start_time": "2019-08-11T15:58:57.360043Z"
    }
   },
   "outputs": [],
   "source": [
    "columns = [\n",
    "    'competition', 'saison', 'gameday', 'date',\n",
    "    'home_team_name', 'guest_team_name', 'result',\n",
    "    'home_coach', 'home_game_system', 'home_team_id',\n",
    "    'guest_coach', 'guest_game_system', 'guest_team_id',\n",
    "    'time', 'viewers', 'weekday', 'day', 'month', 'year',\n",
    "    'identifier'\n",
    "]"
   ]
  },
  {
   "cell_type": "code",
   "execution_count": 6,
   "metadata": {
    "ExecuteTime": {
     "end_time": "2019-08-11T15:58:57.392030Z",
     "start_time": "2019-08-11T15:58:57.380042Z"
    }
   },
   "outputs": [
    {
     "data": {
      "text/plain": [
       "Index(['competition', 'date', 'gameday', 'guest_coach', 'guest_game_system',\n",
       "       'guest_team_id', 'guest_team_name', 'home_coach', 'home_game_system',\n",
       "       'home_team_id', 'home_team_name', 'identifier', 'result', 'saison',\n",
       "       'time', 'viewers', 'weekday', 'day', 'month', 'year'],\n",
       "      dtype='object')"
      ]
     },
     "execution_count": 6,
     "metadata": {},
     "output_type": "execute_result"
    }
   ],
   "source": [
    "df.columns"
   ]
  },
  {
   "cell_type": "code",
   "execution_count": 7,
   "metadata": {
    "ExecuteTime": {
     "end_time": "2019-08-11T15:58:57.412037Z",
     "start_time": "2019-08-11T15:58:57.396032Z"
    }
   },
   "outputs": [
    {
     "data": {
      "text/plain": [
       "(20, 20)"
      ]
     },
     "execution_count": 7,
     "metadata": {},
     "output_type": "execute_result"
    }
   ],
   "source": [
    "len(columns), len(df.columns)"
   ]
  },
  {
   "cell_type": "code",
   "execution_count": 8,
   "metadata": {
    "ExecuteTime": {
     "end_time": "2019-08-11T15:58:57.428037Z",
     "start_time": "2019-08-11T15:58:57.416035Z"
    }
   },
   "outputs": [],
   "source": [
    "df = df[columns]"
   ]
  },
  {
   "cell_type": "code",
   "execution_count": 9,
   "metadata": {
    "ExecuteTime": {
     "end_time": "2019-08-11T15:58:57.508045Z",
     "start_time": "2019-08-11T15:58:57.436033Z"
    }
   },
   "outputs": [
    {
     "data": {
      "text/html": [
       "<div>\n",
       "<style scoped>\n",
       "    .dataframe tbody tr th:only-of-type {\n",
       "        vertical-align: middle;\n",
       "    }\n",
       "\n",
       "    .dataframe tbody tr th {\n",
       "        vertical-align: top;\n",
       "    }\n",
       "\n",
       "    .dataframe thead th {\n",
       "        text-align: right;\n",
       "    }\n",
       "</style>\n",
       "<table border=\"1\" class=\"dataframe\">\n",
       "  <thead>\n",
       "    <tr style=\"text-align: right;\">\n",
       "      <th></th>\n",
       "      <th>competition</th>\n",
       "      <th>saison</th>\n",
       "      <th>gameday</th>\n",
       "      <th>date</th>\n",
       "      <th>home_team_name</th>\n",
       "      <th>guest_team_name</th>\n",
       "      <th>result</th>\n",
       "      <th>home_coach</th>\n",
       "      <th>home_game_system</th>\n",
       "      <th>home_team_id</th>\n",
       "      <th>guest_coach</th>\n",
       "      <th>guest_game_system</th>\n",
       "      <th>guest_team_id</th>\n",
       "      <th>time</th>\n",
       "      <th>viewers</th>\n",
       "      <th>weekday</th>\n",
       "      <th>day</th>\n",
       "      <th>month</th>\n",
       "      <th>year</th>\n",
       "      <th>identifier</th>\n",
       "    </tr>\n",
       "  </thead>\n",
       "  <tbody>\n",
       "    <tr>\n",
       "      <th>0</th>\n",
       "      <td>Bundesliga</td>\n",
       "      <td>2009/10</td>\n",
       "      <td>1</td>\n",
       "      <td>2009-07-18 19:30:00</td>\n",
       "      <td>SV Kapfenberg</td>\n",
       "      <td>SV Ried</td>\n",
       "      <td>0:1</td>\n",
       "      <td>Werner Gregoritsch</td>\n",
       "      <td>4-5-1</td>\n",
       "      <td>2394</td>\n",
       "      <td>Paul Gludovatz</td>\n",
       "      <td>5-4-1</td>\n",
       "      <td>266</td>\n",
       "      <td>19:30</td>\n",
       "      <td>3450</td>\n",
       "      <td>5</td>\n",
       "      <td>18</td>\n",
       "      <td>7</td>\n",
       "      <td>2009</td>\n",
       "      <td>0d35ff9a835d4ed24af193dbcaa0a5b7a48210bfe36dba...</td>\n",
       "    </tr>\n",
       "    <tr>\n",
       "      <th>1</th>\n",
       "      <td>Bundesliga</td>\n",
       "      <td>2009/10</td>\n",
       "      <td>2</td>\n",
       "      <td>2009-07-25 19:30:00</td>\n",
       "      <td>SV Ried</td>\n",
       "      <td>Red Bull Salzburg</td>\n",
       "      <td>1:0</td>\n",
       "      <td>Paul Gludovatz</td>\n",
       "      <td>5-4-1</td>\n",
       "      <td>266</td>\n",
       "      <td>Huub Stevens</td>\n",
       "      <td>4-4-2 Raute</td>\n",
       "      <td>409</td>\n",
       "      <td>19:30</td>\n",
       "      <td>7600</td>\n",
       "      <td>5</td>\n",
       "      <td>25</td>\n",
       "      <td>7</td>\n",
       "      <td>2009</td>\n",
       "      <td>81225b68d59aa35cdc85291ea79a6b93d179a441e752e3...</td>\n",
       "    </tr>\n",
       "    <tr>\n",
       "      <th>2</th>\n",
       "      <td>Bundesliga</td>\n",
       "      <td>2009/10</td>\n",
       "      <td>3</td>\n",
       "      <td>2009-07-31 20:30:00</td>\n",
       "      <td>SC Wiener Neustadt</td>\n",
       "      <td>SV Ried</td>\n",
       "      <td>2:1</td>\n",
       "      <td>Helmut Kraft</td>\n",
       "      <td>4-4-2</td>\n",
       "      <td>17444</td>\n",
       "      <td>Paul Gludovatz</td>\n",
       "      <td>5-4-1</td>\n",
       "      <td>266</td>\n",
       "      <td>20:30</td>\n",
       "      <td>2700</td>\n",
       "      <td>4</td>\n",
       "      <td>31</td>\n",
       "      <td>7</td>\n",
       "      <td>2009</td>\n",
       "      <td>d8198d9be005849cc4cc3ec5f1c0cd99ebe0b84c26fc38...</td>\n",
       "    </tr>\n",
       "    <tr>\n",
       "      <th>3</th>\n",
       "      <td>Bundesliga</td>\n",
       "      <td>2009/10</td>\n",
       "      <td>4</td>\n",
       "      <td>2009-09-08 19:30:00</td>\n",
       "      <td>SV Ried</td>\n",
       "      <td>SK Rapid Wien</td>\n",
       "      <td>1:1</td>\n",
       "      <td>Paul Gludovatz</td>\n",
       "      <td>5-4-1</td>\n",
       "      <td>266</td>\n",
       "      <td>Peter Pacult</td>\n",
       "      <td>4-4-2 doppel 6</td>\n",
       "      <td>170</td>\n",
       "      <td>19:30</td>\n",
       "      <td>7600</td>\n",
       "      <td>1</td>\n",
       "      <td>8</td>\n",
       "      <td>9</td>\n",
       "      <td>2009</td>\n",
       "      <td>164564f0839d4a5d277ba006596369919e4717e5950fd1...</td>\n",
       "    </tr>\n",
       "    <tr>\n",
       "      <th>4</th>\n",
       "      <td>Bundesliga</td>\n",
       "      <td>2009/10</td>\n",
       "      <td>5</td>\n",
       "      <td>2009-08-21 20:30:00</td>\n",
       "      <td>SK Austria Kärnten</td>\n",
       "      <td>SV Ried</td>\n",
       "      <td>0:0</td>\n",
       "      <td>Frenkie Schinkels</td>\n",
       "      <td>4-5-1</td>\n",
       "      <td>11609</td>\n",
       "      <td>Paul Gludovatz</td>\n",
       "      <td>3-4-2-1</td>\n",
       "      <td>266</td>\n",
       "      <td>20:30</td>\n",
       "      <td>5079</td>\n",
       "      <td>4</td>\n",
       "      <td>21</td>\n",
       "      <td>8</td>\n",
       "      <td>2009</td>\n",
       "      <td>26596f43388b43546a5014d869f60e0165adb51df66464...</td>\n",
       "    </tr>\n",
       "  </tbody>\n",
       "</table>\n",
       "</div>"
      ],
      "text/plain": [
       "  competition   saison gameday                 date      home_team_name  \\\n",
       "0  Bundesliga  2009/10       1  2009-07-18 19:30:00       SV Kapfenberg   \n",
       "1  Bundesliga  2009/10       2  2009-07-25 19:30:00             SV Ried   \n",
       "2  Bundesliga  2009/10       3  2009-07-31 20:30:00  SC Wiener Neustadt   \n",
       "3  Bundesliga  2009/10       4  2009-09-08 19:30:00             SV Ried   \n",
       "4  Bundesliga  2009/10       5  2009-08-21 20:30:00  SK Austria Kärnten   \n",
       "\n",
       "     guest_team_name result          home_coach home_game_system  \\\n",
       "0            SV Ried    0:1  Werner Gregoritsch            4-5-1   \n",
       "1  Red Bull Salzburg    1:0      Paul Gludovatz            5-4-1   \n",
       "2            SV Ried    2:1        Helmut Kraft            4-4-2   \n",
       "3      SK Rapid Wien    1:1      Paul Gludovatz            5-4-1   \n",
       "4            SV Ried    0:0   Frenkie Schinkels            4-5-1   \n",
       "\n",
       "   home_team_id     guest_coach guest_game_system  guest_team_id   time  \\\n",
       "0          2394  Paul Gludovatz             5-4-1            266  19:30   \n",
       "1           266    Huub Stevens       4-4-2 Raute            409  19:30   \n",
       "2         17444  Paul Gludovatz             5-4-1            266  20:30   \n",
       "3           266    Peter Pacult    4-4-2 doppel 6            170  19:30   \n",
       "4         11609  Paul Gludovatz           3-4-2-1            266  20:30   \n",
       "\n",
       "   viewers  weekday  day  month  year  \\\n",
       "0     3450        5   18      7  2009   \n",
       "1     7600        5   25      7  2009   \n",
       "2     2700        4   31      7  2009   \n",
       "3     7600        1    8      9  2009   \n",
       "4     5079        4   21      8  2009   \n",
       "\n",
       "                                          identifier  \n",
       "0  0d35ff9a835d4ed24af193dbcaa0a5b7a48210bfe36dba...  \n",
       "1  81225b68d59aa35cdc85291ea79a6b93d179a441e752e3...  \n",
       "2  d8198d9be005849cc4cc3ec5f1c0cd99ebe0b84c26fc38...  \n",
       "3  164564f0839d4a5d277ba006596369919e4717e5950fd1...  \n",
       "4  26596f43388b43546a5014d869f60e0165adb51df66464...  "
      ]
     },
     "execution_count": 9,
     "metadata": {},
     "output_type": "execute_result"
    }
   ],
   "source": [
    "df.head()"
   ]
  },
  {
   "cell_type": "code",
   "execution_count": 10,
   "metadata": {
    "ExecuteTime": {
     "end_time": "2019-08-11T15:58:57.540050Z",
     "start_time": "2019-08-11T15:58:57.512039Z"
    }
   },
   "outputs": [
    {
     "name": "stdout",
     "output_type": "stream",
     "text": [
      "<class 'pandas.core.frame.DataFrame'>\n",
      "RangeIndex: 2509 entries, 0 to 2508\n",
      "Data columns (total 20 columns):\n",
      "competition          2509 non-null object\n",
      "saison               2509 non-null object\n",
      "gameday              2509 non-null object\n",
      "date                 2509 non-null object\n",
      "home_team_name       2509 non-null object\n",
      "guest_team_name      2509 non-null object\n",
      "result               2509 non-null object\n",
      "home_coach           2101 non-null object\n",
      "home_game_system     2101 non-null object\n",
      "home_team_id         2509 non-null int64\n",
      "guest_coach          2284 non-null object\n",
      "guest_game_system    2284 non-null object\n",
      "guest_team_id        2509 non-null int64\n",
      "time                 2509 non-null object\n",
      "viewers              2509 non-null int64\n",
      "weekday              2509 non-null int64\n",
      "day                  2509 non-null int64\n",
      "month                2509 non-null int64\n",
      "year                 2509 non-null int64\n",
      "identifier           2509 non-null object\n",
      "dtypes: int64(7), object(13)\n",
      "memory usage: 392.1+ KB\n"
     ]
    }
   ],
   "source": [
    "df.info()"
   ]
  },
  {
   "cell_type": "code",
   "execution_count": 11,
   "metadata": {
    "ExecuteTime": {
     "end_time": "2019-08-11T15:58:57.564035Z",
     "start_time": "2019-08-11T15:58:57.544032Z"
    }
   },
   "outputs": [
    {
     "data": {
      "text/plain": [
       "NaN                    225\n",
       "Franco Foda            146\n",
       "Dietmar Kühbauer       122\n",
       "Heimo Pfeifenberger     95\n",
       "Peter Schöttel          91\n",
       "Name: guest_coach, dtype: int64"
      ]
     },
     "execution_count": 11,
     "metadata": {},
     "output_type": "execute_result"
    }
   ],
   "source": [
    "df.guest_coach.value_counts(dropna=False).head()"
   ]
  },
  {
   "cell_type": "code",
   "execution_count": 12,
   "metadata": {
    "ExecuteTime": {
     "end_time": "2019-08-11T15:58:57.592030Z",
     "start_time": "2019-08-11T15:58:57.568031Z"
    }
   },
   "outputs": [],
   "source": [
    "df = df.fillna('?')"
   ]
  },
  {
   "cell_type": "code",
   "execution_count": 13,
   "metadata": {
    "ExecuteTime": {
     "end_time": "2019-08-11T15:58:57.624049Z",
     "start_time": "2019-08-11T15:58:57.596039Z"
    }
   },
   "outputs": [
    {
     "data": {
      "text/plain": [
       "0"
      ]
     },
     "execution_count": 13,
     "metadata": {},
     "output_type": "execute_result"
    }
   ],
   "source": [
    "df.isna().sum().sum()"
   ]
  },
  {
   "cell_type": "code",
   "execution_count": 14,
   "metadata": {
    "ExecuteTime": {
     "end_time": "2019-08-11T15:58:57.660044Z",
     "start_time": "2019-08-11T15:58:57.628038Z"
    }
   },
   "outputs": [],
   "source": [
    "df.weekday = df.weekday.astype(str)\n",
    "df.day = df.day.astype(str)\n",
    "df.month = df.month.astype(str)\n",
    "df.year = df.year.astype(str)"
   ]
  },
  {
   "cell_type": "code",
   "execution_count": 15,
   "metadata": {
    "ExecuteTime": {
     "end_time": "2019-08-11T15:58:57.696045Z",
     "start_time": "2019-08-11T15:58:57.676032Z"
    }
   },
   "outputs": [
    {
     "data": {
      "text/plain": [
       "?                      225\n",
       "Franco Foda            146\n",
       "Dietmar Kühbauer       122\n",
       "Heimo Pfeifenberger     95\n",
       "Peter Schöttel          91\n",
       "Name: guest_coach, dtype: int64"
      ]
     },
     "execution_count": 15,
     "metadata": {},
     "output_type": "execute_result"
    }
   ],
   "source": [
    "df.guest_coach.value_counts(dropna=False).head()"
   ]
  },
  {
   "cell_type": "code",
   "execution_count": 16,
   "metadata": {
    "ExecuteTime": {
     "end_time": "2019-08-11T15:58:57.792047Z",
     "start_time": "2019-08-11T15:58:57.700032Z"
    }
   },
   "outputs": [
    {
     "name": "stderr",
     "output_type": "stream",
     "text": [
      "C:\\Users\\thoma\\AppData\\Roaming\\Python\\Python37\\site-packages\\ipykernel_launcher.py:1: SettingWithCopyWarning: \n",
      "A value is trying to be set on a copy of a slice from a DataFrame\n",
      "\n",
      "See the caveats in the documentation: http://pandas.pydata.org/pandas-docs/stable/indexing.html#indexing-view-versus-copy\n",
      "  \"\"\"Entry point for launching an IPython kernel.\n"
     ]
    }
   ],
   "source": [
    "df.result[df.result.str.contains('E')] = '1:1'"
   ]
  },
  {
   "cell_type": "code",
   "execution_count": 17,
   "metadata": {
    "ExecuteTime": {
     "end_time": "2019-08-11T15:58:57.816034Z",
     "start_time": "2019-08-11T15:58:57.800048Z"
    }
   },
   "outputs": [],
   "source": [
    "df.result = df.result.str.slice(stop=3)"
   ]
  },
  {
   "cell_type": "code",
   "execution_count": 18,
   "metadata": {
    "ExecuteTime": {
     "end_time": "2019-08-11T15:58:57.860047Z",
     "start_time": "2019-08-11T15:58:57.828035Z"
    }
   },
   "outputs": [
    {
     "data": {
      "text/plain": [
       "(0, 0, 0)"
      ]
     },
     "execution_count": 18,
     "metadata": {},
     "output_type": "execute_result"
    }
   ],
   "source": [
    "len(df[df.result.str.contains('V')]), len(df[df.result.str.contains('E')]), len(df[df.result.str.contains('n')])"
   ]
  },
  {
   "cell_type": "code",
   "execution_count": 19,
   "metadata": {
    "ExecuteTime": {
     "end_time": "2019-08-11T15:58:57.932039Z",
     "start_time": "2019-08-11T15:58:57.872047Z"
    }
   },
   "outputs": [
    {
     "data": {
      "text/plain": [
       "(2509, 4)"
      ]
     },
     "execution_count": 19,
     "metadata": {},
     "output_type": "execute_result"
    }
   ],
   "source": [
    "goals = pd.DataFrame()\n",
    "\n",
    "\n",
    "goals['home_team_id'] = df['home_team_id']\n",
    "goals['guest_team_id'] = df['guest_team_id']\n",
    "\n",
    "goals['home_goals'] = df.result.str.slice(stop=1)\n",
    "goals['guest_goals'] = df.result.str.slice(start=2)\n",
    "\n",
    "\n",
    "goals.home_team_id = goals.home_team_id\n",
    "goals.guest_team_id = pd.to_numeric(goals.guest_team_id)\n",
    "goals.home_goals = pd.to_numeric(goals.home_goals)\n",
    "goals.guest_goals = pd.to_numeric(goals.guest_goals)\n",
    "\n",
    "goals.shape"
   ]
  },
  {
   "cell_type": "code",
   "execution_count": 20,
   "metadata": {
    "ExecuteTime": {
     "end_time": "2019-08-11T15:58:57.972050Z",
     "start_time": "2019-08-11T15:58:57.940037Z"
    }
   },
   "outputs": [
    {
     "name": "stdout",
     "output_type": "stream",
     "text": [
      "<class 'pandas.core.frame.DataFrame'>\n",
      "RangeIndex: 2509 entries, 0 to 2508\n",
      "Data columns (total 4 columns):\n",
      "home_team_id     2509 non-null int64\n",
      "guest_team_id    2509 non-null int64\n",
      "home_goals       2509 non-null int64\n",
      "guest_goals      2509 non-null int64\n",
      "dtypes: int64(4)\n",
      "memory usage: 78.5 KB\n"
     ]
    }
   ],
   "source": [
    "goals.info()"
   ]
  },
  {
   "cell_type": "code",
   "execution_count": 21,
   "metadata": {
    "ExecuteTime": {
     "end_time": "2019-08-11T15:58:58.024044Z",
     "start_time": "2019-08-11T15:58:57.980040Z"
    }
   },
   "outputs": [
    {
     "data": {
      "text/html": [
       "<div>\n",
       "<style scoped>\n",
       "    .dataframe tbody tr th:only-of-type {\n",
       "        vertical-align: middle;\n",
       "    }\n",
       "\n",
       "    .dataframe tbody tr th {\n",
       "        vertical-align: top;\n",
       "    }\n",
       "\n",
       "    .dataframe thead th {\n",
       "        text-align: right;\n",
       "    }\n",
       "</style>\n",
       "<table border=\"1\" class=\"dataframe\">\n",
       "  <thead>\n",
       "    <tr style=\"text-align: right;\">\n",
       "      <th></th>\n",
       "      <th>home_team_id</th>\n",
       "      <th>guest_team_id</th>\n",
       "      <th>home_goals</th>\n",
       "      <th>guest_goals</th>\n",
       "    </tr>\n",
       "  </thead>\n",
       "  <tbody>\n",
       "    <tr>\n",
       "      <th>0</th>\n",
       "      <td>2394</td>\n",
       "      <td>266</td>\n",
       "      <td>0</td>\n",
       "      <td>1</td>\n",
       "    </tr>\n",
       "    <tr>\n",
       "      <th>1</th>\n",
       "      <td>266</td>\n",
       "      <td>409</td>\n",
       "      <td>1</td>\n",
       "      <td>0</td>\n",
       "    </tr>\n",
       "    <tr>\n",
       "      <th>2</th>\n",
       "      <td>17444</td>\n",
       "      <td>266</td>\n",
       "      <td>2</td>\n",
       "      <td>1</td>\n",
       "    </tr>\n",
       "    <tr>\n",
       "      <th>3</th>\n",
       "      <td>266</td>\n",
       "      <td>170</td>\n",
       "      <td>1</td>\n",
       "      <td>1</td>\n",
       "    </tr>\n",
       "    <tr>\n",
       "      <th>4</th>\n",
       "      <td>11609</td>\n",
       "      <td>266</td>\n",
       "      <td>0</td>\n",
       "      <td>0</td>\n",
       "    </tr>\n",
       "  </tbody>\n",
       "</table>\n",
       "</div>"
      ],
      "text/plain": [
       "   home_team_id  guest_team_id  home_goals  guest_goals\n",
       "0          2394            266           0            1\n",
       "1           266            409           1            0\n",
       "2         17444            266           2            1\n",
       "3           266            170           1            1\n",
       "4         11609            266           0            0"
      ]
     },
     "execution_count": 21,
     "metadata": {},
     "output_type": "execute_result"
    }
   ],
   "source": [
    "goals.head()"
   ]
  },
  {
   "cell_type": "code",
   "execution_count": 22,
   "metadata": {
    "ExecuteTime": {
     "end_time": "2019-08-11T15:58:58.096047Z",
     "start_time": "2019-08-11T15:58:58.028034Z"
    }
   },
   "outputs": [],
   "source": [
    "goals.to_csv('goals.csv')"
   ]
  },
  {
   "cell_type": "code",
   "execution_count": 28,
   "metadata": {
    "ExecuteTime": {
     "end_time": "2019-08-11T16:19:32.256805Z",
     "start_time": "2019-08-11T16:19:32.204803Z"
    }
   },
   "outputs": [],
   "source": [
    "goals_prep = pd.read_csv('goals-preprocessed.csv', sep='\\t')"
   ]
  },
  {
   "cell_type": "code",
   "execution_count": 29,
   "metadata": {
    "ExecuteTime": {
     "end_time": "2019-08-11T16:19:34.123272Z",
     "start_time": "2019-08-11T16:19:34.071287Z"
    }
   },
   "outputs": [
    {
     "data": {
      "text/html": [
       "<div>\n",
       "<style scoped>\n",
       "    .dataframe tbody tr th:only-of-type {\n",
       "        vertical-align: middle;\n",
       "    }\n",
       "\n",
       "    .dataframe tbody tr th {\n",
       "        vertical-align: top;\n",
       "    }\n",
       "\n",
       "    .dataframe thead th {\n",
       "        text-align: right;\n",
       "    }\n",
       "</style>\n",
       "<table border=\"1\" class=\"dataframe\">\n",
       "  <thead>\n",
       "    <tr style=\"text-align: right;\">\n",
       "      <th></th>\n",
       "      <th>home_team_id</th>\n",
       "      <th>guest_team_id</th>\n",
       "      <th>home_goals</th>\n",
       "      <th>guest_goals</th>\n",
       "      <th>homeResultFactor</th>\n",
       "      <th>guestResultFactor</th>\n",
       "      <th>resultNumeric</th>\n",
       "      <th>homeTotalGoalsShoot</th>\n",
       "      <th>homeTotalGoalsReceived</th>\n",
       "      <th>homeTotalGoalDiff</th>\n",
       "      <th>...</th>\n",
       "      <th>homeTeamGoalsReceivedAway</th>\n",
       "      <th>homeTeamGoalsDiffAway</th>\n",
       "      <th>guestTeamGoalsShootAtHome</th>\n",
       "      <th>guestTeamGoalsReceivedAtHome</th>\n",
       "      <th>guestTeamGoalsDiffAtHome</th>\n",
       "      <th>guestTeamGoalsShootAway</th>\n",
       "      <th>guestTeamGoalsReceivedAway</th>\n",
       "      <th>guestTeamGoalsDiffAway</th>\n",
       "      <th>hoamAvgPoints</th>\n",
       "      <th>guestAvgpoints</th>\n",
       "    </tr>\n",
       "  </thead>\n",
       "  <tbody>\n",
       "    <tr>\n",
       "      <th>0</th>\n",
       "      <td>2394</td>\n",
       "      <td>266</td>\n",
       "      <td>0</td>\n",
       "      <td>1</td>\n",
       "      <td>N</td>\n",
       "      <td>S</td>\n",
       "      <td>-1</td>\n",
       "      <td>0.0</td>\n",
       "      <td>0.0</td>\n",
       "      <td>0.0</td>\n",
       "      <td>...</td>\n",
       "      <td>0.0</td>\n",
       "      <td>0.0</td>\n",
       "      <td>0.0</td>\n",
       "      <td>0.0</td>\n",
       "      <td>0.0</td>\n",
       "      <td>0.0</td>\n",
       "      <td>0.0</td>\n",
       "      <td>0.0</td>\n",
       "      <td>0.0</td>\n",
       "      <td>0.00</td>\n",
       "    </tr>\n",
       "    <tr>\n",
       "      <th>1</th>\n",
       "      <td>266</td>\n",
       "      <td>409</td>\n",
       "      <td>1</td>\n",
       "      <td>0</td>\n",
       "      <td>S</td>\n",
       "      <td>N</td>\n",
       "      <td>1</td>\n",
       "      <td>1.0</td>\n",
       "      <td>0.0</td>\n",
       "      <td>1.0</td>\n",
       "      <td>...</td>\n",
       "      <td>0.0</td>\n",
       "      <td>1.0</td>\n",
       "      <td>0.0</td>\n",
       "      <td>0.0</td>\n",
       "      <td>0.0</td>\n",
       "      <td>0.0</td>\n",
       "      <td>0.0</td>\n",
       "      <td>0.0</td>\n",
       "      <td>3.0</td>\n",
       "      <td>0.00</td>\n",
       "    </tr>\n",
       "    <tr>\n",
       "      <th>2</th>\n",
       "      <td>17444</td>\n",
       "      <td>266</td>\n",
       "      <td>2</td>\n",
       "      <td>1</td>\n",
       "      <td>S</td>\n",
       "      <td>N</td>\n",
       "      <td>1</td>\n",
       "      <td>0.0</td>\n",
       "      <td>0.0</td>\n",
       "      <td>0.0</td>\n",
       "      <td>...</td>\n",
       "      <td>0.0</td>\n",
       "      <td>0.0</td>\n",
       "      <td>1.0</td>\n",
       "      <td>0.0</td>\n",
       "      <td>1.0</td>\n",
       "      <td>1.0</td>\n",
       "      <td>0.0</td>\n",
       "      <td>1.0</td>\n",
       "      <td>0.0</td>\n",
       "      <td>3.00</td>\n",
       "    </tr>\n",
       "    <tr>\n",
       "      <th>3</th>\n",
       "      <td>266</td>\n",
       "      <td>170</td>\n",
       "      <td>1</td>\n",
       "      <td>1</td>\n",
       "      <td>U</td>\n",
       "      <td>U</td>\n",
       "      <td>0</td>\n",
       "      <td>1.0</td>\n",
       "      <td>0.0</td>\n",
       "      <td>1.0</td>\n",
       "      <td>...</td>\n",
       "      <td>1.0</td>\n",
       "      <td>0.0</td>\n",
       "      <td>0.0</td>\n",
       "      <td>0.0</td>\n",
       "      <td>0.0</td>\n",
       "      <td>0.0</td>\n",
       "      <td>0.0</td>\n",
       "      <td>0.0</td>\n",
       "      <td>2.0</td>\n",
       "      <td>0.00</td>\n",
       "    </tr>\n",
       "    <tr>\n",
       "      <th>4</th>\n",
       "      <td>11609</td>\n",
       "      <td>266</td>\n",
       "      <td>0</td>\n",
       "      <td>0</td>\n",
       "      <td>U</td>\n",
       "      <td>U</td>\n",
       "      <td>0</td>\n",
       "      <td>0.0</td>\n",
       "      <td>0.0</td>\n",
       "      <td>0.0</td>\n",
       "      <td>...</td>\n",
       "      <td>0.0</td>\n",
       "      <td>0.0</td>\n",
       "      <td>1.0</td>\n",
       "      <td>0.5</td>\n",
       "      <td>0.5</td>\n",
       "      <td>1.0</td>\n",
       "      <td>1.0</td>\n",
       "      <td>0.0</td>\n",
       "      <td>0.0</td>\n",
       "      <td>1.75</td>\n",
       "    </tr>\n",
       "  </tbody>\n",
       "</table>\n",
       "<p>5 rows × 27 columns</p>\n",
       "</div>"
      ],
      "text/plain": [
       "   home_team_id  guest_team_id  home_goals  guest_goals homeResultFactor  \\\n",
       "0          2394            266           0            1                N   \n",
       "1           266            409           1            0                S   \n",
       "2         17444            266           2            1                S   \n",
       "3           266            170           1            1                U   \n",
       "4         11609            266           0            0                U   \n",
       "\n",
       "  guestResultFactor  resultNumeric  homeTotalGoalsShoot  \\\n",
       "0                 S             -1                  0.0   \n",
       "1                 N              1                  1.0   \n",
       "2                 N              1                  0.0   \n",
       "3                 U              0                  1.0   \n",
       "4                 U              0                  0.0   \n",
       "\n",
       "   homeTotalGoalsReceived  homeTotalGoalDiff  ...  homeTeamGoalsReceivedAway  \\\n",
       "0                     0.0                0.0  ...                        0.0   \n",
       "1                     0.0                1.0  ...                        0.0   \n",
       "2                     0.0                0.0  ...                        0.0   \n",
       "3                     0.0                1.0  ...                        1.0   \n",
       "4                     0.0                0.0  ...                        0.0   \n",
       "\n",
       "   homeTeamGoalsDiffAway  guestTeamGoalsShootAtHome  \\\n",
       "0                    0.0                        0.0   \n",
       "1                    1.0                        0.0   \n",
       "2                    0.0                        1.0   \n",
       "3                    0.0                        0.0   \n",
       "4                    0.0                        1.0   \n",
       "\n",
       "   guestTeamGoalsReceivedAtHome  guestTeamGoalsDiffAtHome  \\\n",
       "0                           0.0                       0.0   \n",
       "1                           0.0                       0.0   \n",
       "2                           0.0                       1.0   \n",
       "3                           0.0                       0.0   \n",
       "4                           0.5                       0.5   \n",
       "\n",
       "   guestTeamGoalsShootAway  guestTeamGoalsReceivedAway  \\\n",
       "0                      0.0                         0.0   \n",
       "1                      0.0                         0.0   \n",
       "2                      1.0                         0.0   \n",
       "3                      0.0                         0.0   \n",
       "4                      1.0                         1.0   \n",
       "\n",
       "   guestTeamGoalsDiffAway  hoamAvgPoints  guestAvgpoints  \n",
       "0                     0.0            0.0            0.00  \n",
       "1                     0.0            3.0            0.00  \n",
       "2                     1.0            0.0            3.00  \n",
       "3                     0.0            2.0            0.00  \n",
       "4                     0.0            0.0            1.75  \n",
       "\n",
       "[5 rows x 27 columns]"
      ]
     },
     "execution_count": 29,
     "metadata": {},
     "output_type": "execute_result"
    }
   ],
   "source": [
    "goals_prep.head()"
   ]
  },
  {
   "cell_type": "code",
   "execution_count": 31,
   "metadata": {
    "ExecuteTime": {
     "end_time": "2019-08-11T16:19:47.506611Z",
     "start_time": "2019-08-11T16:19:47.494610Z"
    }
   },
   "outputs": [],
   "source": [
    "goals_prep = goals_prep.drop(['home_team_id', 'guest_team_id', 'home_goals', 'guest_goals', 'homeResultFactor', 'guestResultFactor'],axis=1)"
   ]
  },
  {
   "cell_type": "code",
   "execution_count": 34,
   "metadata": {
    "ExecuteTime": {
     "end_time": "2019-08-11T16:20:20.547717Z",
     "start_time": "2019-08-11T16:20:20.495733Z"
    }
   },
   "outputs": [
    {
     "data": {
      "text/html": [
       "<div>\n",
       "<style scoped>\n",
       "    .dataframe tbody tr th:only-of-type {\n",
       "        vertical-align: middle;\n",
       "    }\n",
       "\n",
       "    .dataframe tbody tr th {\n",
       "        vertical-align: top;\n",
       "    }\n",
       "\n",
       "    .dataframe thead th {\n",
       "        text-align: right;\n",
       "    }\n",
       "</style>\n",
       "<table border=\"1\" class=\"dataframe\">\n",
       "  <thead>\n",
       "    <tr style=\"text-align: right;\">\n",
       "      <th></th>\n",
       "      <th>resultNumeric</th>\n",
       "      <th>homeTotalGoalsShoot</th>\n",
       "      <th>homeTotalGoalsReceived</th>\n",
       "      <th>homeTotalGoalDiff</th>\n",
       "      <th>guestTotalGoalsShoot</th>\n",
       "      <th>guestTotalGoalsReceived</th>\n",
       "      <th>guestTotalGoalDiff</th>\n",
       "      <th>homeTeamGoalsShootAtHome</th>\n",
       "      <th>homeTeamGoalsReceivedAtHome</th>\n",
       "      <th>homeTeamGoalsDiffAtHome</th>\n",
       "      <th>...</th>\n",
       "      <th>homeTeamGoalsReceivedAway</th>\n",
       "      <th>homeTeamGoalsDiffAway</th>\n",
       "      <th>guestTeamGoalsShootAtHome</th>\n",
       "      <th>guestTeamGoalsReceivedAtHome</th>\n",
       "      <th>guestTeamGoalsDiffAtHome</th>\n",
       "      <th>guestTeamGoalsShootAway</th>\n",
       "      <th>guestTeamGoalsReceivedAway</th>\n",
       "      <th>guestTeamGoalsDiffAway</th>\n",
       "      <th>hoamAvgPoints</th>\n",
       "      <th>guestAvgpoints</th>\n",
       "    </tr>\n",
       "  </thead>\n",
       "  <tbody>\n",
       "    <tr>\n",
       "      <th>0</th>\n",
       "      <td>-1</td>\n",
       "      <td>0.0</td>\n",
       "      <td>0.0</td>\n",
       "      <td>0.0</td>\n",
       "      <td>0.0</td>\n",
       "      <td>0.00</td>\n",
       "      <td>0.00</td>\n",
       "      <td>0.0</td>\n",
       "      <td>0.0</td>\n",
       "      <td>0.0</td>\n",
       "      <td>...</td>\n",
       "      <td>0.0</td>\n",
       "      <td>0.0</td>\n",
       "      <td>0.0</td>\n",
       "      <td>0.0</td>\n",
       "      <td>0.0</td>\n",
       "      <td>0.0</td>\n",
       "      <td>0.0</td>\n",
       "      <td>0.0</td>\n",
       "      <td>0.0</td>\n",
       "      <td>0.00</td>\n",
       "    </tr>\n",
       "    <tr>\n",
       "      <th>1</th>\n",
       "      <td>1</td>\n",
       "      <td>1.0</td>\n",
       "      <td>0.0</td>\n",
       "      <td>1.0</td>\n",
       "      <td>0.0</td>\n",
       "      <td>0.00</td>\n",
       "      <td>0.00</td>\n",
       "      <td>0.0</td>\n",
       "      <td>0.0</td>\n",
       "      <td>0.0</td>\n",
       "      <td>...</td>\n",
       "      <td>0.0</td>\n",
       "      <td>1.0</td>\n",
       "      <td>0.0</td>\n",
       "      <td>0.0</td>\n",
       "      <td>0.0</td>\n",
       "      <td>0.0</td>\n",
       "      <td>0.0</td>\n",
       "      <td>0.0</td>\n",
       "      <td>3.0</td>\n",
       "      <td>0.00</td>\n",
       "    </tr>\n",
       "    <tr>\n",
       "      <th>2</th>\n",
       "      <td>1</td>\n",
       "      <td>0.0</td>\n",
       "      <td>0.0</td>\n",
       "      <td>0.0</td>\n",
       "      <td>1.0</td>\n",
       "      <td>0.00</td>\n",
       "      <td>1.00</td>\n",
       "      <td>0.0</td>\n",
       "      <td>0.0</td>\n",
       "      <td>0.0</td>\n",
       "      <td>...</td>\n",
       "      <td>0.0</td>\n",
       "      <td>0.0</td>\n",
       "      <td>1.0</td>\n",
       "      <td>0.0</td>\n",
       "      <td>1.0</td>\n",
       "      <td>1.0</td>\n",
       "      <td>0.0</td>\n",
       "      <td>1.0</td>\n",
       "      <td>0.0</td>\n",
       "      <td>3.00</td>\n",
       "    </tr>\n",
       "    <tr>\n",
       "      <th>3</th>\n",
       "      <td>0</td>\n",
       "      <td>1.0</td>\n",
       "      <td>0.0</td>\n",
       "      <td>1.0</td>\n",
       "      <td>0.0</td>\n",
       "      <td>0.00</td>\n",
       "      <td>0.00</td>\n",
       "      <td>1.0</td>\n",
       "      <td>0.0</td>\n",
       "      <td>1.0</td>\n",
       "      <td>...</td>\n",
       "      <td>1.0</td>\n",
       "      <td>0.0</td>\n",
       "      <td>0.0</td>\n",
       "      <td>0.0</td>\n",
       "      <td>0.0</td>\n",
       "      <td>0.0</td>\n",
       "      <td>0.0</td>\n",
       "      <td>0.0</td>\n",
       "      <td>2.0</td>\n",
       "      <td>0.00</td>\n",
       "    </tr>\n",
       "    <tr>\n",
       "      <th>4</th>\n",
       "      <td>0</td>\n",
       "      <td>0.0</td>\n",
       "      <td>0.0</td>\n",
       "      <td>0.0</td>\n",
       "      <td>1.0</td>\n",
       "      <td>0.75</td>\n",
       "      <td>0.25</td>\n",
       "      <td>0.0</td>\n",
       "      <td>0.0</td>\n",
       "      <td>0.0</td>\n",
       "      <td>...</td>\n",
       "      <td>0.0</td>\n",
       "      <td>0.0</td>\n",
       "      <td>1.0</td>\n",
       "      <td>0.5</td>\n",
       "      <td>0.5</td>\n",
       "      <td>1.0</td>\n",
       "      <td>1.0</td>\n",
       "      <td>0.0</td>\n",
       "      <td>0.0</td>\n",
       "      <td>1.75</td>\n",
       "    </tr>\n",
       "  </tbody>\n",
       "</table>\n",
       "<p>5 rows × 21 columns</p>\n",
       "</div>"
      ],
      "text/plain": [
       "   resultNumeric  homeTotalGoalsShoot  homeTotalGoalsReceived  \\\n",
       "0             -1                  0.0                     0.0   \n",
       "1              1                  1.0                     0.0   \n",
       "2              1                  0.0                     0.0   \n",
       "3              0                  1.0                     0.0   \n",
       "4              0                  0.0                     0.0   \n",
       "\n",
       "   homeTotalGoalDiff  guestTotalGoalsShoot  guestTotalGoalsReceived  \\\n",
       "0                0.0                   0.0                     0.00   \n",
       "1                1.0                   0.0                     0.00   \n",
       "2                0.0                   1.0                     0.00   \n",
       "3                1.0                   0.0                     0.00   \n",
       "4                0.0                   1.0                     0.75   \n",
       "\n",
       "   guestTotalGoalDiff  homeTeamGoalsShootAtHome  homeTeamGoalsReceivedAtHome  \\\n",
       "0                0.00                       0.0                          0.0   \n",
       "1                0.00                       0.0                          0.0   \n",
       "2                1.00                       0.0                          0.0   \n",
       "3                0.00                       1.0                          0.0   \n",
       "4                0.25                       0.0                          0.0   \n",
       "\n",
       "   homeTeamGoalsDiffAtHome  ...  homeTeamGoalsReceivedAway  \\\n",
       "0                      0.0  ...                        0.0   \n",
       "1                      0.0  ...                        0.0   \n",
       "2                      0.0  ...                        0.0   \n",
       "3                      1.0  ...                        1.0   \n",
       "4                      0.0  ...                        0.0   \n",
       "\n",
       "   homeTeamGoalsDiffAway  guestTeamGoalsShootAtHome  \\\n",
       "0                    0.0                        0.0   \n",
       "1                    1.0                        0.0   \n",
       "2                    0.0                        1.0   \n",
       "3                    0.0                        0.0   \n",
       "4                    0.0                        1.0   \n",
       "\n",
       "   guestTeamGoalsReceivedAtHome  guestTeamGoalsDiffAtHome  \\\n",
       "0                           0.0                       0.0   \n",
       "1                           0.0                       0.0   \n",
       "2                           0.0                       1.0   \n",
       "3                           0.0                       0.0   \n",
       "4                           0.5                       0.5   \n",
       "\n",
       "   guestTeamGoalsShootAway  guestTeamGoalsReceivedAway  \\\n",
       "0                      0.0                         0.0   \n",
       "1                      0.0                         0.0   \n",
       "2                      1.0                         0.0   \n",
       "3                      0.0                         0.0   \n",
       "4                      1.0                         1.0   \n",
       "\n",
       "   guestTeamGoalsDiffAway  hoamAvgPoints  guestAvgpoints  \n",
       "0                     0.0            0.0            0.00  \n",
       "1                     0.0            3.0            0.00  \n",
       "2                     1.0            0.0            3.00  \n",
       "3                     0.0            2.0            0.00  \n",
       "4                     0.0            0.0            1.75  \n",
       "\n",
       "[5 rows x 21 columns]"
      ]
     },
     "execution_count": 34,
     "metadata": {},
     "output_type": "execute_result"
    }
   ],
   "source": [
    "goals_prep.head()"
   ]
  },
  {
   "cell_type": "code",
   "execution_count": 49,
   "metadata": {
    "ExecuteTime": {
     "end_time": "2019-08-11T16:26:11.877980Z",
     "start_time": "2019-08-11T16:26:11.857980Z"
    }
   },
   "outputs": [],
   "source": [
    "df_final = pd.concat([df.drop(['result', 'identifier'], axis=1), goals_prep], axis=1)"
   ]
  },
  {
   "cell_type": "code",
   "execution_count": 50,
   "metadata": {
    "ExecuteTime": {
     "end_time": "2019-08-11T16:26:12.439922Z",
     "start_time": "2019-08-11T16:26:12.383938Z"
    }
   },
   "outputs": [
    {
     "data": {
      "text/html": [
       "<div>\n",
       "<style scoped>\n",
       "    .dataframe tbody tr th:only-of-type {\n",
       "        vertical-align: middle;\n",
       "    }\n",
       "\n",
       "    .dataframe tbody tr th {\n",
       "        vertical-align: top;\n",
       "    }\n",
       "\n",
       "    .dataframe thead th {\n",
       "        text-align: right;\n",
       "    }\n",
       "</style>\n",
       "<table border=\"1\" class=\"dataframe\">\n",
       "  <thead>\n",
       "    <tr style=\"text-align: right;\">\n",
       "      <th></th>\n",
       "      <th>competition</th>\n",
       "      <th>saison</th>\n",
       "      <th>gameday</th>\n",
       "      <th>date</th>\n",
       "      <th>home_team_name</th>\n",
       "      <th>guest_team_name</th>\n",
       "      <th>home_coach</th>\n",
       "      <th>home_game_system</th>\n",
       "      <th>home_team_id</th>\n",
       "      <th>guest_coach</th>\n",
       "      <th>...</th>\n",
       "      <th>homeTeamGoalsReceivedAway</th>\n",
       "      <th>homeTeamGoalsDiffAway</th>\n",
       "      <th>guestTeamGoalsShootAtHome</th>\n",
       "      <th>guestTeamGoalsReceivedAtHome</th>\n",
       "      <th>guestTeamGoalsDiffAtHome</th>\n",
       "      <th>guestTeamGoalsShootAway</th>\n",
       "      <th>guestTeamGoalsReceivedAway</th>\n",
       "      <th>guestTeamGoalsDiffAway</th>\n",
       "      <th>hoamAvgPoints</th>\n",
       "      <th>guestAvgpoints</th>\n",
       "    </tr>\n",
       "  </thead>\n",
       "  <tbody>\n",
       "    <tr>\n",
       "      <th>0</th>\n",
       "      <td>Bundesliga</td>\n",
       "      <td>2009/10</td>\n",
       "      <td>1</td>\n",
       "      <td>2009-07-18 19:30:00</td>\n",
       "      <td>SV Kapfenberg</td>\n",
       "      <td>SV Ried</td>\n",
       "      <td>Werner Gregoritsch</td>\n",
       "      <td>4-5-1</td>\n",
       "      <td>2394</td>\n",
       "      <td>Paul Gludovatz</td>\n",
       "      <td>...</td>\n",
       "      <td>0.0</td>\n",
       "      <td>0.0</td>\n",
       "      <td>0.0</td>\n",
       "      <td>0.0</td>\n",
       "      <td>0.0</td>\n",
       "      <td>0.0</td>\n",
       "      <td>0.0</td>\n",
       "      <td>0.0</td>\n",
       "      <td>0.0</td>\n",
       "      <td>0.00</td>\n",
       "    </tr>\n",
       "    <tr>\n",
       "      <th>1</th>\n",
       "      <td>Bundesliga</td>\n",
       "      <td>2009/10</td>\n",
       "      <td>2</td>\n",
       "      <td>2009-07-25 19:30:00</td>\n",
       "      <td>SV Ried</td>\n",
       "      <td>Red Bull Salzburg</td>\n",
       "      <td>Paul Gludovatz</td>\n",
       "      <td>5-4-1</td>\n",
       "      <td>266</td>\n",
       "      <td>Huub Stevens</td>\n",
       "      <td>...</td>\n",
       "      <td>0.0</td>\n",
       "      <td>1.0</td>\n",
       "      <td>0.0</td>\n",
       "      <td>0.0</td>\n",
       "      <td>0.0</td>\n",
       "      <td>0.0</td>\n",
       "      <td>0.0</td>\n",
       "      <td>0.0</td>\n",
       "      <td>3.0</td>\n",
       "      <td>0.00</td>\n",
       "    </tr>\n",
       "    <tr>\n",
       "      <th>2</th>\n",
       "      <td>Bundesliga</td>\n",
       "      <td>2009/10</td>\n",
       "      <td>3</td>\n",
       "      <td>2009-07-31 20:30:00</td>\n",
       "      <td>SC Wiener Neustadt</td>\n",
       "      <td>SV Ried</td>\n",
       "      <td>Helmut Kraft</td>\n",
       "      <td>4-4-2</td>\n",
       "      <td>17444</td>\n",
       "      <td>Paul Gludovatz</td>\n",
       "      <td>...</td>\n",
       "      <td>0.0</td>\n",
       "      <td>0.0</td>\n",
       "      <td>1.0</td>\n",
       "      <td>0.0</td>\n",
       "      <td>1.0</td>\n",
       "      <td>1.0</td>\n",
       "      <td>0.0</td>\n",
       "      <td>1.0</td>\n",
       "      <td>0.0</td>\n",
       "      <td>3.00</td>\n",
       "    </tr>\n",
       "    <tr>\n",
       "      <th>3</th>\n",
       "      <td>Bundesliga</td>\n",
       "      <td>2009/10</td>\n",
       "      <td>4</td>\n",
       "      <td>2009-09-08 19:30:00</td>\n",
       "      <td>SV Ried</td>\n",
       "      <td>SK Rapid Wien</td>\n",
       "      <td>Paul Gludovatz</td>\n",
       "      <td>5-4-1</td>\n",
       "      <td>266</td>\n",
       "      <td>Peter Pacult</td>\n",
       "      <td>...</td>\n",
       "      <td>1.0</td>\n",
       "      <td>0.0</td>\n",
       "      <td>0.0</td>\n",
       "      <td>0.0</td>\n",
       "      <td>0.0</td>\n",
       "      <td>0.0</td>\n",
       "      <td>0.0</td>\n",
       "      <td>0.0</td>\n",
       "      <td>2.0</td>\n",
       "      <td>0.00</td>\n",
       "    </tr>\n",
       "    <tr>\n",
       "      <th>4</th>\n",
       "      <td>Bundesliga</td>\n",
       "      <td>2009/10</td>\n",
       "      <td>5</td>\n",
       "      <td>2009-08-21 20:30:00</td>\n",
       "      <td>SK Austria Kärnten</td>\n",
       "      <td>SV Ried</td>\n",
       "      <td>Frenkie Schinkels</td>\n",
       "      <td>4-5-1</td>\n",
       "      <td>11609</td>\n",
       "      <td>Paul Gludovatz</td>\n",
       "      <td>...</td>\n",
       "      <td>0.0</td>\n",
       "      <td>0.0</td>\n",
       "      <td>1.0</td>\n",
       "      <td>0.5</td>\n",
       "      <td>0.5</td>\n",
       "      <td>1.0</td>\n",
       "      <td>1.0</td>\n",
       "      <td>0.0</td>\n",
       "      <td>0.0</td>\n",
       "      <td>1.75</td>\n",
       "    </tr>\n",
       "  </tbody>\n",
       "</table>\n",
       "<p>5 rows × 39 columns</p>\n",
       "</div>"
      ],
      "text/plain": [
       "  competition   saison gameday                 date      home_team_name  \\\n",
       "0  Bundesliga  2009/10       1  2009-07-18 19:30:00       SV Kapfenberg   \n",
       "1  Bundesliga  2009/10       2  2009-07-25 19:30:00             SV Ried   \n",
       "2  Bundesliga  2009/10       3  2009-07-31 20:30:00  SC Wiener Neustadt   \n",
       "3  Bundesliga  2009/10       4  2009-09-08 19:30:00             SV Ried   \n",
       "4  Bundesliga  2009/10       5  2009-08-21 20:30:00  SK Austria Kärnten   \n",
       "\n",
       "     guest_team_name          home_coach home_game_system  home_team_id  \\\n",
       "0            SV Ried  Werner Gregoritsch            4-5-1          2394   \n",
       "1  Red Bull Salzburg      Paul Gludovatz            5-4-1           266   \n",
       "2            SV Ried        Helmut Kraft            4-4-2         17444   \n",
       "3      SK Rapid Wien      Paul Gludovatz            5-4-1           266   \n",
       "4            SV Ried   Frenkie Schinkels            4-5-1         11609   \n",
       "\n",
       "      guest_coach  ... homeTeamGoalsReceivedAway  homeTeamGoalsDiffAway  \\\n",
       "0  Paul Gludovatz  ...                       0.0                    0.0   \n",
       "1    Huub Stevens  ...                       0.0                    1.0   \n",
       "2  Paul Gludovatz  ...                       0.0                    0.0   \n",
       "3    Peter Pacult  ...                       1.0                    0.0   \n",
       "4  Paul Gludovatz  ...                       0.0                    0.0   \n",
       "\n",
       "  guestTeamGoalsShootAtHome  guestTeamGoalsReceivedAtHome  \\\n",
       "0                       0.0                           0.0   \n",
       "1                       0.0                           0.0   \n",
       "2                       1.0                           0.0   \n",
       "3                       0.0                           0.0   \n",
       "4                       1.0                           0.5   \n",
       "\n",
       "  guestTeamGoalsDiffAtHome guestTeamGoalsShootAway guestTeamGoalsReceivedAway  \\\n",
       "0                      0.0                     0.0                        0.0   \n",
       "1                      0.0                     0.0                        0.0   \n",
       "2                      1.0                     1.0                        0.0   \n",
       "3                      0.0                     0.0                        0.0   \n",
       "4                      0.5                     1.0                        1.0   \n",
       "\n",
       "  guestTeamGoalsDiffAway  hoamAvgPoints  guestAvgpoints  \n",
       "0                    0.0            0.0            0.00  \n",
       "1                    0.0            3.0            0.00  \n",
       "2                    1.0            0.0            3.00  \n",
       "3                    0.0            2.0            0.00  \n",
       "4                    0.0            0.0            1.75  \n",
       "\n",
       "[5 rows x 39 columns]"
      ]
     },
     "execution_count": 50,
     "metadata": {},
     "output_type": "execute_result"
    }
   ],
   "source": [
    "df_final.head()"
   ]
  },
  {
   "cell_type": "code",
   "execution_count": 51,
   "metadata": {
    "ExecuteTime": {
     "end_time": "2019-08-11T16:26:13.125920Z",
     "start_time": "2019-08-11T16:26:13.093915Z"
    }
   },
   "outputs": [
    {
     "name": "stdout",
     "output_type": "stream",
     "text": [
      "<class 'pandas.core.frame.DataFrame'>\n",
      "RangeIndex: 2509 entries, 0 to 2508\n",
      "Data columns (total 39 columns):\n",
      "competition                     2509 non-null object\n",
      "saison                          2509 non-null object\n",
      "gameday                         2509 non-null object\n",
      "date                            2509 non-null object\n",
      "home_team_name                  2509 non-null object\n",
      "guest_team_name                 2509 non-null object\n",
      "home_coach                      2509 non-null object\n",
      "home_game_system                2509 non-null object\n",
      "home_team_id                    2509 non-null int64\n",
      "guest_coach                     2509 non-null object\n",
      "guest_game_system               2509 non-null object\n",
      "guest_team_id                   2509 non-null int64\n",
      "time                            2509 non-null object\n",
      "viewers                         2509 non-null int64\n",
      "weekday                         2509 non-null object\n",
      "day                             2509 non-null object\n",
      "month                           2509 non-null object\n",
      "year                            2509 non-null object\n",
      "resultNumeric                   2509 non-null int64\n",
      "homeTotalGoalsShoot             2509 non-null float64\n",
      "homeTotalGoalsReceived          2509 non-null float64\n",
      "homeTotalGoalDiff               2509 non-null float64\n",
      "guestTotalGoalsShoot            2509 non-null float64\n",
      "guestTotalGoalsReceived         2509 non-null float64\n",
      "guestTotalGoalDiff              2509 non-null float64\n",
      "homeTeamGoalsShootAtHome        2509 non-null float64\n",
      "homeTeamGoalsReceivedAtHome     2509 non-null float64\n",
      "homeTeamGoalsDiffAtHome         2509 non-null float64\n",
      "homeTeamGoalsShootAway          2509 non-null float64\n",
      "homeTeamGoalsReceivedAway       2509 non-null float64\n",
      "homeTeamGoalsDiffAway           2509 non-null float64\n",
      "guestTeamGoalsShootAtHome       2509 non-null float64\n",
      "guestTeamGoalsReceivedAtHome    2509 non-null float64\n",
      "guestTeamGoalsDiffAtHome        2509 non-null float64\n",
      "guestTeamGoalsShootAway         2509 non-null float64\n",
      "guestTeamGoalsReceivedAway      2509 non-null float64\n",
      "guestTeamGoalsDiffAway          2509 non-null float64\n",
      "hoamAvgPoints                   2509 non-null float64\n",
      "guestAvgpoints                  2509 non-null float64\n",
      "dtypes: float64(20), int64(4), object(15)\n",
      "memory usage: 764.5+ KB\n"
     ]
    }
   ],
   "source": [
    "df_final.info()"
   ]
  },
  {
   "cell_type": "code",
   "execution_count": 52,
   "metadata": {
    "ExecuteTime": {
     "end_time": "2019-08-11T16:27:00.666626Z",
     "start_time": "2019-08-11T16:27:00.462631Z"
    }
   },
   "outputs": [],
   "source": [
    "df_final.to_csv('df_final.csv')"
   ]
  }
 ],
 "metadata": {
  "kernelspec": {
   "display_name": "Python 3",
   "language": "python",
   "name": "python3"
  },
  "language_info": {
   "codemirror_mode": {
    "name": "ipython",
    "version": 3
   },
   "file_extension": ".py",
   "mimetype": "text/x-python",
   "name": "python",
   "nbconvert_exporter": "python",
   "pygments_lexer": "ipython3",
   "version": "3.7.3"
  }
 },
 "nbformat": 4,
 "nbformat_minor": 2
}
