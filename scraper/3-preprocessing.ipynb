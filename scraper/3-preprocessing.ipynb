{
 "cells": [
  {
   "cell_type": "code",
   "execution_count": 279,
   "metadata": {
    "ExecuteTime": {
     "end_time": "2019-08-16T12:45:44.437089Z",
     "start_time": "2019-08-16T12:45:42.886706Z"
    }
   },
   "outputs": [],
   "source": [
    "import numpy as np\n",
    "import pandas as pd\n",
    "import seaborn as sns"
   ]
  },
  {
   "cell_type": "code",
   "execution_count": 2,
   "metadata": {
    "ExecuteTime": {
     "end_time": "2019-08-16T11:11:31.948998Z",
     "start_time": "2019-08-16T11:11:31.699990Z"
    }
   },
   "outputs": [],
   "source": [
    "df = pd.read_csv('bundesliga-2009-2018_clean.csv')\n",
    "df_2 = pd.read_csv('zweite-liga-2009-2018_clean.csv')"
   ]
  },
  {
   "cell_type": "code",
   "execution_count": 3,
   "metadata": {
    "ExecuteTime": {
     "end_time": "2019-08-16T11:11:32.009996Z",
     "start_time": "2019-08-16T11:11:31.955996Z"
    }
   },
   "outputs": [],
   "source": [
    "df = pd.concat([df, df_2])"
   ]
  },
  {
   "cell_type": "code",
   "execution_count": 4,
   "metadata": {
    "ExecuteTime": {
     "end_time": "2019-08-16T11:11:32.272994Z",
     "start_time": "2019-08-16T11:11:32.018999Z"
    }
   },
   "outputs": [
    {
     "data": {
      "text/html": [
       "<div>\n",
       "<style scoped>\n",
       "    .dataframe tbody tr th:only-of-type {\n",
       "        vertical-align: middle;\n",
       "    }\n",
       "\n",
       "    .dataframe tbody tr th {\n",
       "        vertical-align: top;\n",
       "    }\n",
       "\n",
       "    .dataframe thead th {\n",
       "        text-align: right;\n",
       "    }\n",
       "</style>\n",
       "<table border=\"1\" class=\"dataframe\">\n",
       "  <thead>\n",
       "    <tr style=\"text-align: right;\">\n",
       "      <th></th>\n",
       "      <th>Unnamed: 0</th>\n",
       "      <th>competition</th>\n",
       "      <th>date</th>\n",
       "      <th>gameday</th>\n",
       "      <th>guest_coach</th>\n",
       "      <th>guest_game_system</th>\n",
       "      <th>guest_team_id</th>\n",
       "      <th>guest_team_name</th>\n",
       "      <th>home_coach</th>\n",
       "      <th>home_game_system</th>\n",
       "      <th>...</th>\n",
       "      <th>home_team_name</th>\n",
       "      <th>identifier</th>\n",
       "      <th>result</th>\n",
       "      <th>saison</th>\n",
       "      <th>time</th>\n",
       "      <th>viewers</th>\n",
       "      <th>weekday</th>\n",
       "      <th>day</th>\n",
       "      <th>month</th>\n",
       "      <th>year</th>\n",
       "    </tr>\n",
       "  </thead>\n",
       "  <tbody>\n",
       "    <tr>\n",
       "      <th>0</th>\n",
       "      <td>0</td>\n",
       "      <td>Bundesliga</td>\n",
       "      <td>2009-07-18 19:30:00</td>\n",
       "      <td>1</td>\n",
       "      <td>Paul Gludovatz</td>\n",
       "      <td>5-4-1</td>\n",
       "      <td>266</td>\n",
       "      <td>SV Ried</td>\n",
       "      <td>Werner Gregoritsch</td>\n",
       "      <td>4-5-1</td>\n",
       "      <td>...</td>\n",
       "      <td>SV Kapfenberg</td>\n",
       "      <td>0d35ff9a835d4ed24af193dbcaa0a5b7a48210bfe36dba...</td>\n",
       "      <td>0:1</td>\n",
       "      <td>2009/10</td>\n",
       "      <td>19:30</td>\n",
       "      <td>3450</td>\n",
       "      <td>5</td>\n",
       "      <td>18</td>\n",
       "      <td>7</td>\n",
       "      <td>2009</td>\n",
       "    </tr>\n",
       "    <tr>\n",
       "      <th>1</th>\n",
       "      <td>1</td>\n",
       "      <td>Bundesliga</td>\n",
       "      <td>2009-07-25 19:30:00</td>\n",
       "      <td>2</td>\n",
       "      <td>Huub Stevens</td>\n",
       "      <td>4-4-2 Raute</td>\n",
       "      <td>409</td>\n",
       "      <td>Red Bull Salzburg</td>\n",
       "      <td>Paul Gludovatz</td>\n",
       "      <td>5-4-1</td>\n",
       "      <td>...</td>\n",
       "      <td>SV Ried</td>\n",
       "      <td>81225b68d59aa35cdc85291ea79a6b93d179a441e752e3...</td>\n",
       "      <td>1:0</td>\n",
       "      <td>2009/10</td>\n",
       "      <td>19:30</td>\n",
       "      <td>7600</td>\n",
       "      <td>5</td>\n",
       "      <td>25</td>\n",
       "      <td>7</td>\n",
       "      <td>2009</td>\n",
       "    </tr>\n",
       "    <tr>\n",
       "      <th>2</th>\n",
       "      <td>2</td>\n",
       "      <td>Bundesliga</td>\n",
       "      <td>2009-07-31 20:30:00</td>\n",
       "      <td>3</td>\n",
       "      <td>Paul Gludovatz</td>\n",
       "      <td>5-4-1</td>\n",
       "      <td>266</td>\n",
       "      <td>SV Ried</td>\n",
       "      <td>Helmut Kraft</td>\n",
       "      <td>4-4-2</td>\n",
       "      <td>...</td>\n",
       "      <td>SC Wiener Neustadt</td>\n",
       "      <td>d8198d9be005849cc4cc3ec5f1c0cd99ebe0b84c26fc38...</td>\n",
       "      <td>2:1</td>\n",
       "      <td>2009/10</td>\n",
       "      <td>20:30</td>\n",
       "      <td>2700</td>\n",
       "      <td>4</td>\n",
       "      <td>31</td>\n",
       "      <td>7</td>\n",
       "      <td>2009</td>\n",
       "    </tr>\n",
       "    <tr>\n",
       "      <th>3</th>\n",
       "      <td>3</td>\n",
       "      <td>Bundesliga</td>\n",
       "      <td>2009-08-09 19:30:00</td>\n",
       "      <td>4</td>\n",
       "      <td>Peter Pacult</td>\n",
       "      <td>4-4-2 doppel 6</td>\n",
       "      <td>170</td>\n",
       "      <td>SK Rapid Wien</td>\n",
       "      <td>Paul Gludovatz</td>\n",
       "      <td>5-4-1</td>\n",
       "      <td>...</td>\n",
       "      <td>SV Ried</td>\n",
       "      <td>164564f0839d4a5d277ba006596369919e4717e5950fd1...</td>\n",
       "      <td>1:1</td>\n",
       "      <td>2009/10</td>\n",
       "      <td>19:30</td>\n",
       "      <td>7600</td>\n",
       "      <td>6</td>\n",
       "      <td>9</td>\n",
       "      <td>8</td>\n",
       "      <td>2009</td>\n",
       "    </tr>\n",
       "    <tr>\n",
       "      <th>4</th>\n",
       "      <td>4</td>\n",
       "      <td>Bundesliga</td>\n",
       "      <td>2009-08-21 20:30:00</td>\n",
       "      <td>5</td>\n",
       "      <td>Paul Gludovatz</td>\n",
       "      <td>3-4-2-1</td>\n",
       "      <td>266</td>\n",
       "      <td>SV Ried</td>\n",
       "      <td>Frenkie Schinkels</td>\n",
       "      <td>4-5-1</td>\n",
       "      <td>...</td>\n",
       "      <td>SK Austria Kärnten</td>\n",
       "      <td>26596f43388b43546a5014d869f60e0165adb51df66464...</td>\n",
       "      <td>0:0</td>\n",
       "      <td>2009/10</td>\n",
       "      <td>20:30</td>\n",
       "      <td>5079</td>\n",
       "      <td>4</td>\n",
       "      <td>21</td>\n",
       "      <td>8</td>\n",
       "      <td>2009</td>\n",
       "    </tr>\n",
       "  </tbody>\n",
       "</table>\n",
       "<p>5 rows × 21 columns</p>\n",
       "</div>"
      ],
      "text/plain": [
       "   Unnamed: 0 competition                 date gameday     guest_coach  \\\n",
       "0           0  Bundesliga  2009-07-18 19:30:00       1  Paul Gludovatz   \n",
       "1           1  Bundesliga  2009-07-25 19:30:00       2    Huub Stevens   \n",
       "2           2  Bundesliga  2009-07-31 20:30:00       3  Paul Gludovatz   \n",
       "3           3  Bundesliga  2009-08-09 19:30:00       4    Peter Pacult   \n",
       "4           4  Bundesliga  2009-08-21 20:30:00       5  Paul Gludovatz   \n",
       "\n",
       "  guest_game_system  guest_team_id    guest_team_name          home_coach  \\\n",
       "0             5-4-1            266            SV Ried  Werner Gregoritsch   \n",
       "1       4-4-2 Raute            409  Red Bull Salzburg      Paul Gludovatz   \n",
       "2             5-4-1            266            SV Ried        Helmut Kraft   \n",
       "3    4-4-2 doppel 6            170      SK Rapid Wien      Paul Gludovatz   \n",
       "4           3-4-2-1            266            SV Ried   Frenkie Schinkels   \n",
       "\n",
       "  home_game_system  ...      home_team_name  \\\n",
       "0            4-5-1  ...       SV Kapfenberg   \n",
       "1            5-4-1  ...             SV Ried   \n",
       "2            4-4-2  ...  SC Wiener Neustadt   \n",
       "3            5-4-1  ...             SV Ried   \n",
       "4            4-5-1  ...  SK Austria Kärnten   \n",
       "\n",
       "                                          identifier result   saison   time  \\\n",
       "0  0d35ff9a835d4ed24af193dbcaa0a5b7a48210bfe36dba...    0:1  2009/10  19:30   \n",
       "1  81225b68d59aa35cdc85291ea79a6b93d179a441e752e3...    1:0  2009/10  19:30   \n",
       "2  d8198d9be005849cc4cc3ec5f1c0cd99ebe0b84c26fc38...    2:1  2009/10  20:30   \n",
       "3  164564f0839d4a5d277ba006596369919e4717e5950fd1...    1:1  2009/10  19:30   \n",
       "4  26596f43388b43546a5014d869f60e0165adb51df66464...    0:0  2009/10  20:30   \n",
       "\n",
       "  viewers  weekday  day  month  year  \n",
       "0    3450        5   18      7  2009  \n",
       "1    7600        5   25      7  2009  \n",
       "2    2700        4   31      7  2009  \n",
       "3    7600        6    9      8  2009  \n",
       "4    5079        4   21      8  2009  \n",
       "\n",
       "[5 rows x 21 columns]"
      ]
     },
     "execution_count": 4,
     "metadata": {},
     "output_type": "execute_result"
    }
   ],
   "source": [
    "df.head()"
   ]
  },
  {
   "cell_type": "code",
   "execution_count": 5,
   "metadata": {
    "ExecuteTime": {
     "end_time": "2019-08-16T11:11:32.349988Z",
     "start_time": "2019-08-16T11:11:32.283991Z"
    }
   },
   "outputs": [
    {
     "name": "stdout",
     "output_type": "stream",
     "text": [
      "<class 'pandas.core.frame.DataFrame'>\n",
      "Int64Index: 5067 entries, 0 to 2557\n",
      "Data columns (total 21 columns):\n",
      "Unnamed: 0           5067 non-null int64\n",
      "competition          5067 non-null object\n",
      "date                 5067 non-null object\n",
      "gameday              5067 non-null object\n",
      "guest_coach          4608 non-null object\n",
      "guest_game_system    4605 non-null object\n",
      "guest_team_id        5067 non-null int64\n",
      "guest_team_name      5067 non-null object\n",
      "home_coach           4247 non-null object\n",
      "home_game_system     4243 non-null object\n",
      "home_team_id         5067 non-null int64\n",
      "home_team_name       5067 non-null object\n",
      "identifier           5067 non-null object\n",
      "result               5067 non-null object\n",
      "saison               5067 non-null object\n",
      "time                 5067 non-null object\n",
      "viewers              5067 non-null int64\n",
      "weekday              5067 non-null int64\n",
      "day                  5067 non-null int64\n",
      "month                5067 non-null int64\n",
      "year                 5067 non-null int64\n",
      "dtypes: int64(8), object(13)\n",
      "memory usage: 870.9+ KB\n"
     ]
    }
   ],
   "source": [
    "df.info()"
   ]
  },
  {
   "cell_type": "code",
   "execution_count": 6,
   "metadata": {
    "ExecuteTime": {
     "end_time": "2019-08-16T11:11:32.655988Z",
     "start_time": "2019-08-16T11:11:32.436998Z"
    }
   },
   "outputs": [
    {
     "data": {
      "text/plain": [
       "0     2394\n",
       "1      266\n",
       "2    17444\n",
       "3      266\n",
       "4    11609\n",
       "Name: home_team_id, dtype: int64"
      ]
     },
     "execution_count": 6,
     "metadata": {},
     "output_type": "execute_result"
    }
   ],
   "source": [
    "df.home_team_id.head()"
   ]
  },
  {
   "cell_type": "code",
   "execution_count": 7,
   "metadata": {
    "ExecuteTime": {
     "end_time": "2019-08-16T11:11:32.869991Z",
     "start_time": "2019-08-16T11:11:32.664996Z"
    }
   },
   "outputs": [
    {
     "data": {
      "text/html": [
       "<div>\n",
       "<style scoped>\n",
       "    .dataframe tbody tr th:only-of-type {\n",
       "        vertical-align: middle;\n",
       "    }\n",
       "\n",
       "    .dataframe tbody tr th {\n",
       "        vertical-align: top;\n",
       "    }\n",
       "\n",
       "    .dataframe thead th {\n",
       "        text-align: right;\n",
       "    }\n",
       "</style>\n",
       "<table border=\"1\" class=\"dataframe\">\n",
       "  <thead>\n",
       "    <tr style=\"text-align: right;\">\n",
       "      <th></th>\n",
       "      <th>Unnamed: 0</th>\n",
       "      <th>competition</th>\n",
       "      <th>date</th>\n",
       "      <th>gameday</th>\n",
       "      <th>guest_coach</th>\n",
       "      <th>guest_game_system</th>\n",
       "      <th>guest_team_id</th>\n",
       "      <th>guest_team_name</th>\n",
       "      <th>home_coach</th>\n",
       "      <th>home_game_system</th>\n",
       "      <th>...</th>\n",
       "      <th>home_team_name</th>\n",
       "      <th>identifier</th>\n",
       "      <th>result</th>\n",
       "      <th>saison</th>\n",
       "      <th>time</th>\n",
       "      <th>viewers</th>\n",
       "      <th>weekday</th>\n",
       "      <th>day</th>\n",
       "      <th>month</th>\n",
       "      <th>year</th>\n",
       "    </tr>\n",
       "  </thead>\n",
       "  <tbody>\n",
       "    <tr>\n",
       "      <th>120</th>\n",
       "      <td>134</td>\n",
       "      <td>Bundesliga</td>\n",
       "      <td>2009-08-01 19:30:00</td>\n",
       "      <td>3</td>\n",
       "      <td>Matthias Hamann</td>\n",
       "      <td>4-4-2</td>\n",
       "      <td>413</td>\n",
       "      <td>LASK</td>\n",
       "      <td>Huub Stevens</td>\n",
       "      <td>4-5-1</td>\n",
       "      <td>...</td>\n",
       "      <td>Red Bull Salzburg</td>\n",
       "      <td>a2972fa1a656af76374517bb92fe5e42cd5306841e247e...</td>\n",
       "      <td>3:2</td>\n",
       "      <td>2009/10</td>\n",
       "      <td>19:30</td>\n",
       "      <td>11422</td>\n",
       "      <td>5</td>\n",
       "      <td>1</td>\n",
       "      <td>8</td>\n",
       "      <td>2009</td>\n",
       "    </tr>\n",
       "  </tbody>\n",
       "</table>\n",
       "<p>1 rows × 21 columns</p>\n",
       "</div>"
      ],
      "text/plain": [
       "     Unnamed: 0 competition                 date gameday      guest_coach  \\\n",
       "120         134  Bundesliga  2009-08-01 19:30:00       3  Matthias Hamann   \n",
       "\n",
       "    guest_game_system  guest_team_id guest_team_name    home_coach  \\\n",
       "120             4-4-2            413            LASK  Huub Stevens   \n",
       "\n",
       "    home_game_system  ...     home_team_name  \\\n",
       "120            4-5-1  ...  Red Bull Salzburg   \n",
       "\n",
       "                                            identifier result   saison   time  \\\n",
       "120  a2972fa1a656af76374517bb92fe5e42cd5306841e247e...    3:2  2009/10  19:30   \n",
       "\n",
       "    viewers  weekday  day  month  year  \n",
       "120   11422        5    1      8  2009  \n",
       "\n",
       "[1 rows x 21 columns]"
      ]
     },
     "execution_count": 7,
     "metadata": {},
     "output_type": "execute_result"
    }
   ],
   "source": [
    "df[df.viewers == 11422]"
   ]
  },
  {
   "cell_type": "code",
   "execution_count": 8,
   "metadata": {
    "ExecuteTime": {
     "end_time": "2019-08-16T11:11:33.021001Z",
     "start_time": "2019-08-16T11:11:32.877998Z"
    }
   },
   "outputs": [
    {
     "data": {
      "text/html": [
       "<div>\n",
       "<style scoped>\n",
       "    .dataframe tbody tr th:only-of-type {\n",
       "        vertical-align: middle;\n",
       "    }\n",
       "\n",
       "    .dataframe tbody tr th {\n",
       "        vertical-align: top;\n",
       "    }\n",
       "\n",
       "    .dataframe thead th {\n",
       "        text-align: right;\n",
       "    }\n",
       "</style>\n",
       "<table border=\"1\" class=\"dataframe\">\n",
       "  <thead>\n",
       "    <tr style=\"text-align: right;\">\n",
       "      <th></th>\n",
       "      <th>competition</th>\n",
       "      <th>date</th>\n",
       "      <th>gameday</th>\n",
       "      <th>guest_coach</th>\n",
       "      <th>guest_game_system</th>\n",
       "      <th>guest_team_id</th>\n",
       "      <th>guest_team_name</th>\n",
       "      <th>home_coach</th>\n",
       "      <th>home_game_system</th>\n",
       "      <th>home_team_id</th>\n",
       "      <th>home_team_name</th>\n",
       "      <th>identifier</th>\n",
       "      <th>result</th>\n",
       "      <th>saison</th>\n",
       "      <th>time</th>\n",
       "      <th>viewers</th>\n",
       "      <th>weekday</th>\n",
       "      <th>day</th>\n",
       "      <th>month</th>\n",
       "      <th>year</th>\n",
       "    </tr>\n",
       "  </thead>\n",
       "  <tbody>\n",
       "    <tr>\n",
       "      <th>0</th>\n",
       "      <td>Bundesliga</td>\n",
       "      <td>2009-07-18 19:30:00</td>\n",
       "      <td>1</td>\n",
       "      <td>Paul Gludovatz</td>\n",
       "      <td>5-4-1</td>\n",
       "      <td>266</td>\n",
       "      <td>SV Ried</td>\n",
       "      <td>Werner Gregoritsch</td>\n",
       "      <td>4-5-1</td>\n",
       "      <td>2394</td>\n",
       "      <td>SV Kapfenberg</td>\n",
       "      <td>0d35ff9a835d4ed24af193dbcaa0a5b7a48210bfe36dba...</td>\n",
       "      <td>0:1</td>\n",
       "      <td>2009/10</td>\n",
       "      <td>19:30</td>\n",
       "      <td>3450</td>\n",
       "      <td>5</td>\n",
       "      <td>18</td>\n",
       "      <td>7</td>\n",
       "      <td>2009</td>\n",
       "    </tr>\n",
       "    <tr>\n",
       "      <th>1</th>\n",
       "      <td>Bundesliga</td>\n",
       "      <td>2009-07-25 19:30:00</td>\n",
       "      <td>2</td>\n",
       "      <td>Huub Stevens</td>\n",
       "      <td>4-4-2 Raute</td>\n",
       "      <td>409</td>\n",
       "      <td>Red Bull Salzburg</td>\n",
       "      <td>Paul Gludovatz</td>\n",
       "      <td>5-4-1</td>\n",
       "      <td>266</td>\n",
       "      <td>SV Ried</td>\n",
       "      <td>81225b68d59aa35cdc85291ea79a6b93d179a441e752e3...</td>\n",
       "      <td>1:0</td>\n",
       "      <td>2009/10</td>\n",
       "      <td>19:30</td>\n",
       "      <td>7600</td>\n",
       "      <td>5</td>\n",
       "      <td>25</td>\n",
       "      <td>7</td>\n",
       "      <td>2009</td>\n",
       "    </tr>\n",
       "    <tr>\n",
       "      <th>2</th>\n",
       "      <td>Bundesliga</td>\n",
       "      <td>2009-07-31 20:30:00</td>\n",
       "      <td>3</td>\n",
       "      <td>Paul Gludovatz</td>\n",
       "      <td>5-4-1</td>\n",
       "      <td>266</td>\n",
       "      <td>SV Ried</td>\n",
       "      <td>Helmut Kraft</td>\n",
       "      <td>4-4-2</td>\n",
       "      <td>17444</td>\n",
       "      <td>SC Wiener Neustadt</td>\n",
       "      <td>d8198d9be005849cc4cc3ec5f1c0cd99ebe0b84c26fc38...</td>\n",
       "      <td>2:1</td>\n",
       "      <td>2009/10</td>\n",
       "      <td>20:30</td>\n",
       "      <td>2700</td>\n",
       "      <td>4</td>\n",
       "      <td>31</td>\n",
       "      <td>7</td>\n",
       "      <td>2009</td>\n",
       "    </tr>\n",
       "    <tr>\n",
       "      <th>3</th>\n",
       "      <td>Bundesliga</td>\n",
       "      <td>2009-08-09 19:30:00</td>\n",
       "      <td>4</td>\n",
       "      <td>Peter Pacult</td>\n",
       "      <td>4-4-2 doppel 6</td>\n",
       "      <td>170</td>\n",
       "      <td>SK Rapid Wien</td>\n",
       "      <td>Paul Gludovatz</td>\n",
       "      <td>5-4-1</td>\n",
       "      <td>266</td>\n",
       "      <td>SV Ried</td>\n",
       "      <td>164564f0839d4a5d277ba006596369919e4717e5950fd1...</td>\n",
       "      <td>1:1</td>\n",
       "      <td>2009/10</td>\n",
       "      <td>19:30</td>\n",
       "      <td>7600</td>\n",
       "      <td>6</td>\n",
       "      <td>9</td>\n",
       "      <td>8</td>\n",
       "      <td>2009</td>\n",
       "    </tr>\n",
       "    <tr>\n",
       "      <th>4</th>\n",
       "      <td>Bundesliga</td>\n",
       "      <td>2009-08-21 20:30:00</td>\n",
       "      <td>5</td>\n",
       "      <td>Paul Gludovatz</td>\n",
       "      <td>3-4-2-1</td>\n",
       "      <td>266</td>\n",
       "      <td>SV Ried</td>\n",
       "      <td>Frenkie Schinkels</td>\n",
       "      <td>4-5-1</td>\n",
       "      <td>11609</td>\n",
       "      <td>SK Austria Kärnten</td>\n",
       "      <td>26596f43388b43546a5014d869f60e0165adb51df66464...</td>\n",
       "      <td>0:0</td>\n",
       "      <td>2009/10</td>\n",
       "      <td>20:30</td>\n",
       "      <td>5079</td>\n",
       "      <td>4</td>\n",
       "      <td>21</td>\n",
       "      <td>8</td>\n",
       "      <td>2009</td>\n",
       "    </tr>\n",
       "  </tbody>\n",
       "</table>\n",
       "</div>"
      ],
      "text/plain": [
       "  competition                 date gameday     guest_coach guest_game_system  \\\n",
       "0  Bundesliga  2009-07-18 19:30:00       1  Paul Gludovatz             5-4-1   \n",
       "1  Bundesliga  2009-07-25 19:30:00       2    Huub Stevens       4-4-2 Raute   \n",
       "2  Bundesliga  2009-07-31 20:30:00       3  Paul Gludovatz             5-4-1   \n",
       "3  Bundesliga  2009-08-09 19:30:00       4    Peter Pacult    4-4-2 doppel 6   \n",
       "4  Bundesliga  2009-08-21 20:30:00       5  Paul Gludovatz           3-4-2-1   \n",
       "\n",
       "   guest_team_id    guest_team_name          home_coach home_game_system  \\\n",
       "0            266            SV Ried  Werner Gregoritsch            4-5-1   \n",
       "1            409  Red Bull Salzburg      Paul Gludovatz            5-4-1   \n",
       "2            266            SV Ried        Helmut Kraft            4-4-2   \n",
       "3            170      SK Rapid Wien      Paul Gludovatz            5-4-1   \n",
       "4            266            SV Ried   Frenkie Schinkels            4-5-1   \n",
       "\n",
       "   home_team_id      home_team_name  \\\n",
       "0          2394       SV Kapfenberg   \n",
       "1           266             SV Ried   \n",
       "2         17444  SC Wiener Neustadt   \n",
       "3           266             SV Ried   \n",
       "4         11609  SK Austria Kärnten   \n",
       "\n",
       "                                          identifier result   saison   time  \\\n",
       "0  0d35ff9a835d4ed24af193dbcaa0a5b7a48210bfe36dba...    0:1  2009/10  19:30   \n",
       "1  81225b68d59aa35cdc85291ea79a6b93d179a441e752e3...    1:0  2009/10  19:30   \n",
       "2  d8198d9be005849cc4cc3ec5f1c0cd99ebe0b84c26fc38...    2:1  2009/10  20:30   \n",
       "3  164564f0839d4a5d277ba006596369919e4717e5950fd1...    1:1  2009/10  19:30   \n",
       "4  26596f43388b43546a5014d869f60e0165adb51df66464...    0:0  2009/10  20:30   \n",
       "\n",
       "   viewers  weekday  day  month  year  \n",
       "0     3450        5   18      7  2009  \n",
       "1     7600        5   25      7  2009  \n",
       "2     2700        4   31      7  2009  \n",
       "3     7600        6    9      8  2009  \n",
       "4     5079        4   21      8  2009  "
      ]
     },
     "execution_count": 8,
     "metadata": {},
     "output_type": "execute_result"
    }
   ],
   "source": [
    "try:\n",
    "    df = df.drop('Unnamed: 0', axis=1)\n",
    "except: KeyError\n",
    "    \n",
    "try:\n",
    "    df = df.drop('index', axis=1)\n",
    "except: KeyError\n",
    "    \n",
    "df.head()"
   ]
  },
  {
   "cell_type": "code",
   "execution_count": 9,
   "metadata": {
    "ExecuteTime": {
     "end_time": "2019-08-16T11:11:33.144005Z",
     "start_time": "2019-08-16T11:11:33.135010Z"
    }
   },
   "outputs": [],
   "source": [
    "columns = [\n",
    "    'competition', 'saison', 'gameday', 'date',\n",
    "    'home_team_name', 'guest_team_name', 'result',\n",
    "    'home_coach', 'home_game_system', 'home_team_id',\n",
    "    'guest_coach', 'guest_game_system', 'guest_team_id',\n",
    "    'time', 'viewers', 'weekday', 'day', 'month', 'year',\n",
    "    'identifier'\n",
    "]"
   ]
  },
  {
   "cell_type": "code",
   "execution_count": 10,
   "metadata": {
    "ExecuteTime": {
     "end_time": "2019-08-16T11:11:33.683007Z",
     "start_time": "2019-08-16T11:11:33.672003Z"
    }
   },
   "outputs": [
    {
     "data": {
      "text/plain": [
       "Index(['competition', 'date', 'gameday', 'guest_coach', 'guest_game_system',\n",
       "       'guest_team_id', 'guest_team_name', 'home_coach', 'home_game_system',\n",
       "       'home_team_id', 'home_team_name', 'identifier', 'result', 'saison',\n",
       "       'time', 'viewers', 'weekday', 'day', 'month', 'year'],\n",
       "      dtype='object')"
      ]
     },
     "execution_count": 10,
     "metadata": {},
     "output_type": "execute_result"
    }
   ],
   "source": [
    "df.columns"
   ]
  },
  {
   "cell_type": "code",
   "execution_count": 11,
   "metadata": {
    "ExecuteTime": {
     "end_time": "2019-08-16T11:11:34.009005Z",
     "start_time": "2019-08-16T11:11:33.996016Z"
    }
   },
   "outputs": [
    {
     "data": {
      "text/plain": [
       "(20, 20)"
      ]
     },
     "execution_count": 11,
     "metadata": {},
     "output_type": "execute_result"
    }
   ],
   "source": [
    "len(columns), len(df.columns)"
   ]
  },
  {
   "cell_type": "code",
   "execution_count": 12,
   "metadata": {
    "ExecuteTime": {
     "end_time": "2019-08-16T11:11:34.281005Z",
     "start_time": "2019-08-16T11:11:34.270989Z"
    }
   },
   "outputs": [],
   "source": [
    "df = df[columns]"
   ]
  },
  {
   "cell_type": "code",
   "execution_count": 13,
   "metadata": {
    "ExecuteTime": {
     "end_time": "2019-08-16T11:11:34.647032Z",
     "start_time": "2019-08-16T11:11:34.569991Z"
    }
   },
   "outputs": [],
   "source": [
    "df['date'] = pd.to_datetime(df['date'])"
   ]
  },
  {
   "cell_type": "code",
   "execution_count": 14,
   "metadata": {
    "ExecuteTime": {
     "end_time": "2019-08-16T11:11:35.135003Z",
     "start_time": "2019-08-16T11:11:35.120001Z"
    }
   },
   "outputs": [
    {
     "data": {
      "text/plain": [
       "0    7\n",
       "1    7\n",
       "2    7\n",
       "3    8\n",
       "4    8\n",
       "Name: date, dtype: int64"
      ]
     },
     "execution_count": 14,
     "metadata": {},
     "output_type": "execute_result"
    }
   ],
   "source": [
    "df.date.dt.month.head()"
   ]
  },
  {
   "cell_type": "code",
   "execution_count": 15,
   "metadata": {
    "ExecuteTime": {
     "end_time": "2019-08-16T11:11:35.770035Z",
     "start_time": "2019-08-16T11:11:35.703001Z"
    }
   },
   "outputs": [
    {
     "data": {
      "text/html": [
       "<div>\n",
       "<style scoped>\n",
       "    .dataframe tbody tr th:only-of-type {\n",
       "        vertical-align: middle;\n",
       "    }\n",
       "\n",
       "    .dataframe tbody tr th {\n",
       "        vertical-align: top;\n",
       "    }\n",
       "\n",
       "    .dataframe thead th {\n",
       "        text-align: right;\n",
       "    }\n",
       "</style>\n",
       "<table border=\"1\" class=\"dataframe\">\n",
       "  <thead>\n",
       "    <tr style=\"text-align: right;\">\n",
       "      <th></th>\n",
       "      <th>competition</th>\n",
       "      <th>saison</th>\n",
       "      <th>gameday</th>\n",
       "      <th>date</th>\n",
       "      <th>home_team_name</th>\n",
       "      <th>guest_team_name</th>\n",
       "      <th>result</th>\n",
       "      <th>home_coach</th>\n",
       "      <th>home_game_system</th>\n",
       "      <th>home_team_id</th>\n",
       "      <th>guest_coach</th>\n",
       "      <th>guest_game_system</th>\n",
       "      <th>guest_team_id</th>\n",
       "      <th>time</th>\n",
       "      <th>viewers</th>\n",
       "      <th>weekday</th>\n",
       "      <th>day</th>\n",
       "      <th>month</th>\n",
       "      <th>year</th>\n",
       "      <th>identifier</th>\n",
       "    </tr>\n",
       "  </thead>\n",
       "  <tbody>\n",
       "    <tr>\n",
       "      <th>115</th>\n",
       "      <td>Bundesliga</td>\n",
       "      <td>2009/10</td>\n",
       "      <td>33</td>\n",
       "      <td>2010-05-01 18:00:00</td>\n",
       "      <td>SV Mattersburg</td>\n",
       "      <td>SK Austria Kärnten</td>\n",
       "      <td>1:1</td>\n",
       "      <td>Franz Lederer</td>\n",
       "      <td>4-4-2</td>\n",
       "      <td>856</td>\n",
       "      <td>Joze Prelogar</td>\n",
       "      <td>4-5-1</td>\n",
       "      <td>11609</td>\n",
       "      <td>18:00</td>\n",
       "      <td>2000</td>\n",
       "      <td>5</td>\n",
       "      <td>1</td>\n",
       "      <td>5</td>\n",
       "      <td>2010</td>\n",
       "      <td>df5b434b146e859054d6443d8011d2c02b8b024cdf6975...</td>\n",
       "    </tr>\n",
       "    <tr>\n",
       "      <th>116</th>\n",
       "      <td>Bundesliga</td>\n",
       "      <td>2009/10</td>\n",
       "      <td>35</td>\n",
       "      <td>2010-05-09 16:00:00</td>\n",
       "      <td>LASK</td>\n",
       "      <td>SV Mattersburg</td>\n",
       "      <td>2:0</td>\n",
       "      <td>Helmut Kraft</td>\n",
       "      <td>4-4-2 doppel 6</td>\n",
       "      <td>413</td>\n",
       "      <td>Franz Lederer</td>\n",
       "      <td>4-5-1</td>\n",
       "      <td>856</td>\n",
       "      <td>16:00</td>\n",
       "      <td>6000</td>\n",
       "      <td>6</td>\n",
       "      <td>9</td>\n",
       "      <td>5</td>\n",
       "      <td>2010</td>\n",
       "      <td>aeac7a4accdd0f86419cae3358cbb3c8bafb184ecdb0f8...</td>\n",
       "    </tr>\n",
       "    <tr>\n",
       "      <th>117</th>\n",
       "      <td>Bundesliga</td>\n",
       "      <td>2009/10</td>\n",
       "      <td>36</td>\n",
       "      <td>2010-05-13 16:00:00</td>\n",
       "      <td>SV Mattersburg</td>\n",
       "      <td>SK Rapid Wien</td>\n",
       "      <td>1:3</td>\n",
       "      <td>Franz Lederer</td>\n",
       "      <td>4-4-2</td>\n",
       "      <td>856</td>\n",
       "      <td>Peter Pacult</td>\n",
       "      <td>4-4-2</td>\n",
       "      <td>170</td>\n",
       "      <td>16:00</td>\n",
       "      <td>13400</td>\n",
       "      <td>3</td>\n",
       "      <td>13</td>\n",
       "      <td>5</td>\n",
       "      <td>2010</td>\n",
       "      <td>2aa1150d8befc79c860d2acc185689fb04c7ab2e2cf4fd...</td>\n",
       "    </tr>\n",
       "    <tr>\n",
       "      <th>118</th>\n",
       "      <td>ÖFB-Cup</td>\n",
       "      <td>2009/10</td>\n",
       "      <td>1.Runde</td>\n",
       "      <td>2009-08-14 19:00:00</td>\n",
       "      <td>FC Admira Wacker Mödling II</td>\n",
       "      <td>SV Mattersburg</td>\n",
       "      <td>2:0</td>\n",
       "      <td>NaN</td>\n",
       "      <td>NaN</td>\n",
       "      <td>4375</td>\n",
       "      <td>Franz Lederer</td>\n",
       "      <td>4-4-2</td>\n",
       "      <td>856</td>\n",
       "      <td>19:00</td>\n",
       "      <td>200</td>\n",
       "      <td>4</td>\n",
       "      <td>14</td>\n",
       "      <td>8</td>\n",
       "      <td>2009</td>\n",
       "      <td>a07da242f7d4ddde158275e52afa8e45d47e2627bd30d1...</td>\n",
       "    </tr>\n",
       "    <tr>\n",
       "      <th>119</th>\n",
       "      <td>Bundesliga</td>\n",
       "      <td>2009/10</td>\n",
       "      <td>2</td>\n",
       "      <td>2009-07-24 20:30:00</td>\n",
       "      <td>LASK</td>\n",
       "      <td>FK Austria Wien</td>\n",
       "      <td>4:5</td>\n",
       "      <td>Matthias Hamann</td>\n",
       "      <td>4-4-2 Raute</td>\n",
       "      <td>413</td>\n",
       "      <td>Karl Daxbacher</td>\n",
       "      <td>4-4-2 Raute</td>\n",
       "      <td>14</td>\n",
       "      <td>20:30</td>\n",
       "      <td>9400</td>\n",
       "      <td>4</td>\n",
       "      <td>24</td>\n",
       "      <td>7</td>\n",
       "      <td>2009</td>\n",
       "      <td>35ef031088961a69216fe67b446ee703664e57718b9b3a...</td>\n",
       "    </tr>\n",
       "    <tr>\n",
       "      <th>120</th>\n",
       "      <td>Bundesliga</td>\n",
       "      <td>2009/10</td>\n",
       "      <td>3</td>\n",
       "      <td>2009-08-01 19:30:00</td>\n",
       "      <td>Red Bull Salzburg</td>\n",
       "      <td>LASK</td>\n",
       "      <td>3:2</td>\n",
       "      <td>Huub Stevens</td>\n",
       "      <td>4-5-1</td>\n",
       "      <td>409</td>\n",
       "      <td>Matthias Hamann</td>\n",
       "      <td>4-4-2</td>\n",
       "      <td>413</td>\n",
       "      <td>19:30</td>\n",
       "      <td>11422</td>\n",
       "      <td>5</td>\n",
       "      <td>1</td>\n",
       "      <td>8</td>\n",
       "      <td>2009</td>\n",
       "      <td>a2972fa1a656af76374517bb92fe5e42cd5306841e247e...</td>\n",
       "    </tr>\n",
       "    <tr>\n",
       "      <th>121</th>\n",
       "      <td>Bundesliga</td>\n",
       "      <td>2009/10</td>\n",
       "      <td>4</td>\n",
       "      <td>2009-08-07 20:30:00</td>\n",
       "      <td>LASK</td>\n",
       "      <td>SV Kapfenberg</td>\n",
       "      <td>4:0</td>\n",
       "      <td>Matthias Hamann</td>\n",
       "      <td>4-4-2</td>\n",
       "      <td>413</td>\n",
       "      <td>Werner Gregoritsch</td>\n",
       "      <td>4-4-2</td>\n",
       "      <td>2394</td>\n",
       "      <td>20:30</td>\n",
       "      <td>7300</td>\n",
       "      <td>4</td>\n",
       "      <td>7</td>\n",
       "      <td>8</td>\n",
       "      <td>2009</td>\n",
       "      <td>98842da3edb1c857f45701450924e8f656adc4cd65acd4...</td>\n",
       "    </tr>\n",
       "    <tr>\n",
       "      <th>122</th>\n",
       "      <td>Bundesliga</td>\n",
       "      <td>2009/10</td>\n",
       "      <td>5</td>\n",
       "      <td>2009-08-23 19:30:00</td>\n",
       "      <td>SK Rapid Wien</td>\n",
       "      <td>LASK</td>\n",
       "      <td>4:1</td>\n",
       "      <td>Peter Pacult</td>\n",
       "      <td>4-4-2 doppel 6</td>\n",
       "      <td>170</td>\n",
       "      <td>Matthias Hamann</td>\n",
       "      <td>4-4-2 Raute</td>\n",
       "      <td>413</td>\n",
       "      <td>19:30</td>\n",
       "      <td>17100</td>\n",
       "      <td>6</td>\n",
       "      <td>23</td>\n",
       "      <td>8</td>\n",
       "      <td>2009</td>\n",
       "      <td>014bae8a63f5e04d6cf566aadca90cfaa203e1fbb72827...</td>\n",
       "    </tr>\n",
       "    <tr>\n",
       "      <th>123</th>\n",
       "      <td>Bundesliga</td>\n",
       "      <td>2009/10</td>\n",
       "      <td>6</td>\n",
       "      <td>2009-08-30 19:30:00</td>\n",
       "      <td>LASK</td>\n",
       "      <td>SC Wiener Neustadt</td>\n",
       "      <td>4:2</td>\n",
       "      <td>Matthias Hamann</td>\n",
       "      <td>4-4-2 Raute</td>\n",
       "      <td>413</td>\n",
       "      <td>Helmut Kraft</td>\n",
       "      <td>4-4-2</td>\n",
       "      <td>17444</td>\n",
       "      <td>19:30</td>\n",
       "      <td>8100</td>\n",
       "      <td>6</td>\n",
       "      <td>30</td>\n",
       "      <td>8</td>\n",
       "      <td>2009</td>\n",
       "      <td>64d4ae8848d45957917021463ab8cb459cbba47c3fa49a...</td>\n",
       "    </tr>\n",
       "    <tr>\n",
       "      <th>124</th>\n",
       "      <td>Bundesliga</td>\n",
       "      <td>2009/10</td>\n",
       "      <td>8</td>\n",
       "      <td>2009-09-23 19:30:00</td>\n",
       "      <td>LASK</td>\n",
       "      <td>SK Austria Kärnten</td>\n",
       "      <td>3:1</td>\n",
       "      <td>Matthias Hamann</td>\n",
       "      <td>4-4-2 Raute</td>\n",
       "      <td>413</td>\n",
       "      <td>Frenkie Schinkels</td>\n",
       "      <td>3-4-2-1</td>\n",
       "      <td>11609</td>\n",
       "      <td>19:30</td>\n",
       "      <td>8100</td>\n",
       "      <td>2</td>\n",
       "      <td>23</td>\n",
       "      <td>9</td>\n",
       "      <td>2009</td>\n",
       "      <td>160797d9ca34c19659d2099ed8eacb416b010f4cf5e780...</td>\n",
       "    </tr>\n",
       "  </tbody>\n",
       "</table>\n",
       "</div>"
      ],
      "text/plain": [
       "    competition   saison  gameday                date  \\\n",
       "115  Bundesliga  2009/10       33 2010-05-01 18:00:00   \n",
       "116  Bundesliga  2009/10       35 2010-05-09 16:00:00   \n",
       "117  Bundesliga  2009/10       36 2010-05-13 16:00:00   \n",
       "118     ÖFB-Cup  2009/10  1.Runde 2009-08-14 19:00:00   \n",
       "119  Bundesliga  2009/10        2 2009-07-24 20:30:00   \n",
       "120  Bundesliga  2009/10        3 2009-08-01 19:30:00   \n",
       "121  Bundesliga  2009/10        4 2009-08-07 20:30:00   \n",
       "122  Bundesliga  2009/10        5 2009-08-23 19:30:00   \n",
       "123  Bundesliga  2009/10        6 2009-08-30 19:30:00   \n",
       "124  Bundesliga  2009/10        8 2009-09-23 19:30:00   \n",
       "\n",
       "                  home_team_name     guest_team_name result       home_coach  \\\n",
       "115               SV Mattersburg  SK Austria Kärnten    1:1    Franz Lederer   \n",
       "116                         LASK      SV Mattersburg    2:0     Helmut Kraft   \n",
       "117               SV Mattersburg       SK Rapid Wien    1:3    Franz Lederer   \n",
       "118  FC Admira Wacker Mödling II      SV Mattersburg    2:0              NaN   \n",
       "119                         LASK     FK Austria Wien    4:5  Matthias Hamann   \n",
       "120            Red Bull Salzburg                LASK    3:2     Huub Stevens   \n",
       "121                         LASK       SV Kapfenberg    4:0  Matthias Hamann   \n",
       "122                SK Rapid Wien                LASK    4:1     Peter Pacult   \n",
       "123                         LASK  SC Wiener Neustadt    4:2  Matthias Hamann   \n",
       "124                         LASK  SK Austria Kärnten    3:1  Matthias Hamann   \n",
       "\n",
       "    home_game_system  home_team_id         guest_coach guest_game_system  \\\n",
       "115            4-4-2           856       Joze Prelogar             4-5-1   \n",
       "116   4-4-2 doppel 6           413       Franz Lederer             4-5-1   \n",
       "117            4-4-2           856        Peter Pacult             4-4-2   \n",
       "118              NaN          4375       Franz Lederer             4-4-2   \n",
       "119      4-4-2 Raute           413      Karl Daxbacher       4-4-2 Raute   \n",
       "120            4-5-1           409     Matthias Hamann             4-4-2   \n",
       "121            4-4-2           413  Werner Gregoritsch             4-4-2   \n",
       "122   4-4-2 doppel 6           170     Matthias Hamann       4-4-2 Raute   \n",
       "123      4-4-2 Raute           413        Helmut Kraft             4-4-2   \n",
       "124      4-4-2 Raute           413   Frenkie Schinkels           3-4-2-1   \n",
       "\n",
       "     guest_team_id   time  viewers  weekday  day  month  year  \\\n",
       "115          11609  18:00     2000        5    1      5  2010   \n",
       "116            856  16:00     6000        6    9      5  2010   \n",
       "117            170  16:00    13400        3   13      5  2010   \n",
       "118            856  19:00      200        4   14      8  2009   \n",
       "119             14  20:30     9400        4   24      7  2009   \n",
       "120            413  19:30    11422        5    1      8  2009   \n",
       "121           2394  20:30     7300        4    7      8  2009   \n",
       "122            413  19:30    17100        6   23      8  2009   \n",
       "123          17444  19:30     8100        6   30      8  2009   \n",
       "124          11609  19:30     8100        2   23      9  2009   \n",
       "\n",
       "                                            identifier  \n",
       "115  df5b434b146e859054d6443d8011d2c02b8b024cdf6975...  \n",
       "116  aeac7a4accdd0f86419cae3358cbb3c8bafb184ecdb0f8...  \n",
       "117  2aa1150d8befc79c860d2acc185689fb04c7ab2e2cf4fd...  \n",
       "118  a07da242f7d4ddde158275e52afa8e45d47e2627bd30d1...  \n",
       "119  35ef031088961a69216fe67b446ee703664e57718b9b3a...  \n",
       "120  a2972fa1a656af76374517bb92fe5e42cd5306841e247e...  \n",
       "121  98842da3edb1c857f45701450924e8f656adc4cd65acd4...  \n",
       "122  014bae8a63f5e04d6cf566aadca90cfaa203e1fbb72827...  \n",
       "123  64d4ae8848d45957917021463ab8cb459cbba47c3fa49a...  \n",
       "124  160797d9ca34c19659d2099ed8eacb416b010f4cf5e780...  "
      ]
     },
     "execution_count": 15,
     "metadata": {},
     "output_type": "execute_result"
    }
   ],
   "source": [
    "df.iloc[115:125]"
   ]
  },
  {
   "cell_type": "code",
   "execution_count": 16,
   "metadata": {
    "ExecuteTime": {
     "end_time": "2019-08-16T11:11:36.518887Z",
     "start_time": "2019-08-16T11:11:36.499877Z"
    }
   },
   "outputs": [],
   "source": [
    "df = df.sort_values(by='date')\n",
    "df = df.reset_index()"
   ]
  },
  {
   "cell_type": "code",
   "execution_count": 17,
   "metadata": {
    "ExecuteTime": {
     "end_time": "2019-08-16T11:11:37.258555Z",
     "start_time": "2019-08-16T11:11:37.182556Z"
    }
   },
   "outputs": [
    {
     "data": {
      "text/html": [
       "<div>\n",
       "<style scoped>\n",
       "    .dataframe tbody tr th:only-of-type {\n",
       "        vertical-align: middle;\n",
       "    }\n",
       "\n",
       "    .dataframe tbody tr th {\n",
       "        vertical-align: top;\n",
       "    }\n",
       "\n",
       "    .dataframe thead th {\n",
       "        text-align: right;\n",
       "    }\n",
       "</style>\n",
       "<table border=\"1\" class=\"dataframe\">\n",
       "  <thead>\n",
       "    <tr style=\"text-align: right;\">\n",
       "      <th></th>\n",
       "      <th>index</th>\n",
       "      <th>competition</th>\n",
       "      <th>saison</th>\n",
       "      <th>gameday</th>\n",
       "      <th>date</th>\n",
       "      <th>home_team_name</th>\n",
       "      <th>guest_team_name</th>\n",
       "      <th>result</th>\n",
       "      <th>home_coach</th>\n",
       "      <th>home_game_system</th>\n",
       "      <th>...</th>\n",
       "      <th>guest_coach</th>\n",
       "      <th>guest_game_system</th>\n",
       "      <th>guest_team_id</th>\n",
       "      <th>time</th>\n",
       "      <th>viewers</th>\n",
       "      <th>weekday</th>\n",
       "      <th>day</th>\n",
       "      <th>month</th>\n",
       "      <th>year</th>\n",
       "      <th>identifier</th>\n",
       "    </tr>\n",
       "  </thead>\n",
       "  <tbody>\n",
       "    <tr>\n",
       "      <th>0</th>\n",
       "      <td>0</td>\n",
       "      <td>2. Liga</td>\n",
       "      <td>2009/10</td>\n",
       "      <td>1</td>\n",
       "      <td>2009-07-14 19:00:00</td>\n",
       "      <td>FC Gratkorn</td>\n",
       "      <td>First Vienna FC</td>\n",
       "      <td>1:1</td>\n",
       "      <td>Michael Fuchs †</td>\n",
       "      <td>4-4-2</td>\n",
       "      <td>...</td>\n",
       "      <td>Peter Stöger</td>\n",
       "      <td>3-4-2-1</td>\n",
       "      <td>2364</td>\n",
       "      <td>19:00</td>\n",
       "      <td>1000</td>\n",
       "      <td>1</td>\n",
       "      <td>14</td>\n",
       "      <td>7</td>\n",
       "      <td>2009</td>\n",
       "      <td>4c0f0ae86edebb6bcc1ad9c5d833e0055eea9911b86e5a...</td>\n",
       "    </tr>\n",
       "    <tr>\n",
       "      <th>1</th>\n",
       "      <td>36</td>\n",
       "      <td>2. Liga</td>\n",
       "      <td>2009/10</td>\n",
       "      <td>1</td>\n",
       "      <td>2009-07-14 19:00:00</td>\n",
       "      <td>FC Wacker Innsbruck</td>\n",
       "      <td>Red Bull Juniors Salzburg</td>\n",
       "      <td>2:1</td>\n",
       "      <td>Walter Kogler</td>\n",
       "      <td>4-4-2</td>\n",
       "      <td>...</td>\n",
       "      <td>Niko Kovac</td>\n",
       "      <td>3-5-2</td>\n",
       "      <td>6227</td>\n",
       "      <td>19:00</td>\n",
       "      <td>4500</td>\n",
       "      <td>1</td>\n",
       "      <td>14</td>\n",
       "      <td>7</td>\n",
       "      <td>2009</td>\n",
       "      <td>770ca276a4e39c8c7d48039d26db191013bb1edb89e11f...</td>\n",
       "    </tr>\n",
       "    <tr>\n",
       "      <th>2</th>\n",
       "      <td>183</td>\n",
       "      <td>2. Liga</td>\n",
       "      <td>2009/10</td>\n",
       "      <td>1</td>\n",
       "      <td>2009-07-14 19:00:00</td>\n",
       "      <td>SC Austria Lustenau</td>\n",
       "      <td>FK Austria Wien Amateure</td>\n",
       "      <td>1:0</td>\n",
       "      <td>Edmund Stöhr</td>\n",
       "      <td>4-4-2</td>\n",
       "      <td>...</td>\n",
       "      <td>Johann Dihanich</td>\n",
       "      <td>4-4-2 Raute</td>\n",
       "      <td>4383</td>\n",
       "      <td>19:00</td>\n",
       "      <td>1300</td>\n",
       "      <td>1</td>\n",
       "      <td>14</td>\n",
       "      <td>7</td>\n",
       "      <td>2009</td>\n",
       "      <td>1ebc796f6e71b70d1d8e317571525b497375957282b533...</td>\n",
       "    </tr>\n",
       "    <tr>\n",
       "      <th>3</th>\n",
       "      <td>69</td>\n",
       "      <td>2. Liga</td>\n",
       "      <td>2009/10</td>\n",
       "      <td>1</td>\n",
       "      <td>2009-07-14 19:00:00</td>\n",
       "      <td>SC Rheindorf Altach</td>\n",
       "      <td>TSV Hartberg</td>\n",
       "      <td>4:0</td>\n",
       "      <td>Adi Hütter</td>\n",
       "      <td>4-4-2</td>\n",
       "      <td>...</td>\n",
       "      <td>Bruno Friesenbichler</td>\n",
       "      <td>4-5-1</td>\n",
       "      <td>4467</td>\n",
       "      <td>19:00</td>\n",
       "      <td>5500</td>\n",
       "      <td>1</td>\n",
       "      <td>14</td>\n",
       "      <td>7</td>\n",
       "      <td>2009</td>\n",
       "      <td>0c1d6b332d513d5100a3b95c918abfb51a3ced2a5f0af3...</td>\n",
       "    </tr>\n",
       "    <tr>\n",
       "      <th>4</th>\n",
       "      <td>97</td>\n",
       "      <td>2. Liga</td>\n",
       "      <td>2009/10</td>\n",
       "      <td>1</td>\n",
       "      <td>2009-07-14 19:00:00</td>\n",
       "      <td>SKN St. Pölten</td>\n",
       "      <td>FC Dornbirn</td>\n",
       "      <td>2:0</td>\n",
       "      <td>Martin Scherb</td>\n",
       "      <td>4-4-2</td>\n",
       "      <td>...</td>\n",
       "      <td>Armand Benneker</td>\n",
       "      <td>4-5-1</td>\n",
       "      <td>7448</td>\n",
       "      <td>19:00</td>\n",
       "      <td>1200</td>\n",
       "      <td>1</td>\n",
       "      <td>14</td>\n",
       "      <td>7</td>\n",
       "      <td>2009</td>\n",
       "      <td>fdad59fd80b2ca7eeba8afad9412a5ec712c9755657cd9...</td>\n",
       "    </tr>\n",
       "  </tbody>\n",
       "</table>\n",
       "<p>5 rows × 21 columns</p>\n",
       "</div>"
      ],
      "text/plain": [
       "   index competition   saison gameday                date  \\\n",
       "0      0     2. Liga  2009/10       1 2009-07-14 19:00:00   \n",
       "1     36     2. Liga  2009/10       1 2009-07-14 19:00:00   \n",
       "2    183     2. Liga  2009/10       1 2009-07-14 19:00:00   \n",
       "3     69     2. Liga  2009/10       1 2009-07-14 19:00:00   \n",
       "4     97     2. Liga  2009/10       1 2009-07-14 19:00:00   \n",
       "\n",
       "        home_team_name            guest_team_name result       home_coach  \\\n",
       "0          FC Gratkorn            First Vienna FC    1:1  Michael Fuchs †   \n",
       "1  FC Wacker Innsbruck  Red Bull Juniors Salzburg    2:1    Walter Kogler   \n",
       "2  SC Austria Lustenau   FK Austria Wien Amateure    1:0     Edmund Stöhr   \n",
       "3  SC Rheindorf Altach               TSV Hartberg    4:0       Adi Hütter   \n",
       "4       SKN St. Pölten                FC Dornbirn    2:0    Martin Scherb   \n",
       "\n",
       "  home_game_system  ...           guest_coach guest_game_system guest_team_id  \\\n",
       "0            4-4-2  ...          Peter Stöger           3-4-2-1          2364   \n",
       "1            4-4-2  ...            Niko Kovac             3-5-2          6227   \n",
       "2            4-4-2  ...       Johann Dihanich       4-4-2 Raute          4383   \n",
       "3            4-4-2  ...  Bruno Friesenbichler             4-5-1          4467   \n",
       "4            4-4-2  ...       Armand Benneker             4-5-1          7448   \n",
       "\n",
       "    time viewers  weekday  day  month  year  \\\n",
       "0  19:00    1000        1   14      7  2009   \n",
       "1  19:00    4500        1   14      7  2009   \n",
       "2  19:00    1300        1   14      7  2009   \n",
       "3  19:00    5500        1   14      7  2009   \n",
       "4  19:00    1200        1   14      7  2009   \n",
       "\n",
       "                                          identifier  \n",
       "0  4c0f0ae86edebb6bcc1ad9c5d833e0055eea9911b86e5a...  \n",
       "1  770ca276a4e39c8c7d48039d26db191013bb1edb89e11f...  \n",
       "2  1ebc796f6e71b70d1d8e317571525b497375957282b533...  \n",
       "3  0c1d6b332d513d5100a3b95c918abfb51a3ced2a5f0af3...  \n",
       "4  fdad59fd80b2ca7eeba8afad9412a5ec712c9755657cd9...  \n",
       "\n",
       "[5 rows x 21 columns]"
      ]
     },
     "execution_count": 17,
     "metadata": {},
     "output_type": "execute_result"
    }
   ],
   "source": [
    "df.head()"
   ]
  },
  {
   "cell_type": "code",
   "execution_count": 18,
   "metadata": {
    "ExecuteTime": {
     "end_time": "2019-08-16T11:11:37.553562Z",
     "start_time": "2019-08-16T11:11:37.520562Z"
    }
   },
   "outputs": [
    {
     "name": "stdout",
     "output_type": "stream",
     "text": [
      "<class 'pandas.core.frame.DataFrame'>\n",
      "RangeIndex: 5067 entries, 0 to 5066\n",
      "Data columns (total 21 columns):\n",
      "index                5067 non-null int64\n",
      "competition          5067 non-null object\n",
      "saison               5067 non-null object\n",
      "gameday              5067 non-null object\n",
      "date                 5067 non-null datetime64[ns]\n",
      "home_team_name       5067 non-null object\n",
      "guest_team_name      5067 non-null object\n",
      "result               5067 non-null object\n",
      "home_coach           4247 non-null object\n",
      "home_game_system     4243 non-null object\n",
      "home_team_id         5067 non-null int64\n",
      "guest_coach          4608 non-null object\n",
      "guest_game_system    4605 non-null object\n",
      "guest_team_id        5067 non-null int64\n",
      "time                 5067 non-null object\n",
      "viewers              5067 non-null int64\n",
      "weekday              5067 non-null int64\n",
      "day                  5067 non-null int64\n",
      "month                5067 non-null int64\n",
      "year                 5067 non-null int64\n",
      "identifier           5067 non-null object\n",
      "dtypes: datetime64[ns](1), int64(8), object(12)\n",
      "memory usage: 831.4+ KB\n"
     ]
    }
   ],
   "source": [
    "df.info()"
   ]
  },
  {
   "cell_type": "code",
   "execution_count": 19,
   "metadata": {
    "ExecuteTime": {
     "end_time": "2019-08-16T11:11:38.446561Z",
     "start_time": "2019-08-16T11:11:38.414545Z"
    }
   },
   "outputs": [
    {
     "data": {
      "text/plain": [
       "NaN                    459\n",
       "Karl Daxbacher         187\n",
       "Dietmar Kühbauer       149\n",
       "Franco Foda            146\n",
       "Heimo Pfeifenberger    137\n",
       "Name: guest_coach, dtype: int64"
      ]
     },
     "execution_count": 19,
     "metadata": {},
     "output_type": "execute_result"
    }
   ],
   "source": [
    "df.guest_coach.value_counts(dropna=False).head()"
   ]
  },
  {
   "cell_type": "code",
   "execution_count": 20,
   "metadata": {
    "ExecuteTime": {
     "end_time": "2019-08-16T11:11:40.108915Z",
     "start_time": "2019-08-16T11:11:40.083921Z"
    }
   },
   "outputs": [],
   "source": [
    "df = df.fillna('?')"
   ]
  },
  {
   "cell_type": "code",
   "execution_count": 21,
   "metadata": {
    "ExecuteTime": {
     "end_time": "2019-08-16T11:11:40.450921Z",
     "start_time": "2019-08-16T11:11:40.424916Z"
    }
   },
   "outputs": [
    {
     "data": {
      "text/plain": [
       "0"
      ]
     },
     "execution_count": 21,
     "metadata": {},
     "output_type": "execute_result"
    }
   ],
   "source": [
    "df.isna().sum().sum()"
   ]
  },
  {
   "cell_type": "code",
   "execution_count": 22,
   "metadata": {
    "ExecuteTime": {
     "end_time": "2019-08-16T11:11:40.809905Z",
     "start_time": "2019-08-16T11:11:40.765907Z"
    }
   },
   "outputs": [],
   "source": [
    "df.weekday = df.weekday.astype(str)\n",
    "df.day = df.day.astype(str)\n",
    "df.month = df.month.astype(str)\n",
    "df.year = df.year.astype(str)"
   ]
  },
  {
   "cell_type": "code",
   "execution_count": 23,
   "metadata": {
    "ExecuteTime": {
     "end_time": "2019-08-16T11:11:41.088918Z",
     "start_time": "2019-08-16T11:11:41.064929Z"
    }
   },
   "outputs": [
    {
     "data": {
      "text/plain": [
       "?                      459\n",
       "Karl Daxbacher         187\n",
       "Dietmar Kühbauer       149\n",
       "Franco Foda            146\n",
       "Heimo Pfeifenberger    137\n",
       "Name: guest_coach, dtype: int64"
      ]
     },
     "execution_count": 23,
     "metadata": {},
     "output_type": "execute_result"
    }
   ],
   "source": [
    "df.guest_coach.value_counts(dropna=False).head()"
   ]
  },
  {
   "cell_type": "code",
   "execution_count": 24,
   "metadata": {
    "ExecuteTime": {
     "end_time": "2019-08-16T11:11:41.478921Z",
     "start_time": "2019-08-16T11:11:41.389916Z"
    }
   },
   "outputs": [
    {
     "name": "stderr",
     "output_type": "stream",
     "text": [
      "C:\\Users\\thoma\\AppData\\Roaming\\Python\\Python37\\site-packages\\ipykernel_launcher.py:1: SettingWithCopyWarning: \n",
      "A value is trying to be set on a copy of a slice from a DataFrame\n",
      "\n",
      "See the caveats in the documentation: http://pandas.pydata.org/pandas-docs/stable/indexing.html#indexing-view-versus-copy\n",
      "  \"\"\"Entry point for launching an IPython kernel.\n"
     ]
    }
   ],
   "source": [
    "df.result[df.result.str.contains('E')] = '1:1'"
   ]
  },
  {
   "cell_type": "code",
   "execution_count": 25,
   "metadata": {
    "ExecuteTime": {
     "end_time": "2019-08-16T11:11:42.025918Z",
     "start_time": "2019-08-16T11:11:42.015905Z"
    }
   },
   "outputs": [],
   "source": [
    "df.result = df.result.str.slice(stop=3)"
   ]
  },
  {
   "cell_type": "code",
   "execution_count": 26,
   "metadata": {
    "ExecuteTime": {
     "end_time": "2019-08-16T11:11:42.326906Z",
     "start_time": "2019-08-16T11:11:42.290906Z"
    }
   },
   "outputs": [
    {
     "data": {
      "text/plain": [
       "(0, 0, 0)"
      ]
     },
     "execution_count": 26,
     "metadata": {},
     "output_type": "execute_result"
    }
   ],
   "source": [
    "len(df[df.result.str.contains('V')]), len(df[df.result.str.contains('E')]), len(df[df.result.str.contains('n')])"
   ]
  },
  {
   "cell_type": "code",
   "execution_count": 27,
   "metadata": {
    "ExecuteTime": {
     "end_time": "2019-08-16T11:11:42.649949Z",
     "start_time": "2019-08-16T11:11:42.573908Z"
    }
   },
   "outputs": [
    {
     "data": {
      "text/plain": [
       "(5067, 5)"
      ]
     },
     "execution_count": 27,
     "metadata": {},
     "output_type": "execute_result"
    }
   ],
   "source": [
    "goals = pd.DataFrame()\n",
    "\n",
    "goals['date'] = df['date'].dt.date\n",
    "goals['home_team_id'] = df['home_team_id']\n",
    "goals['guest_team_id'] = df['guest_team_id']\n",
    "\n",
    "goals['home_goals'] = df.result.str.slice(stop=1)\n",
    "goals['guest_goals'] = df.result.str.slice(start=2)\n",
    "\n",
    "\n",
    "goals.home_team_id = goals.home_team_id\n",
    "goals.guest_team_id = pd.to_numeric(goals.guest_team_id)\n",
    "goals.home_goals = pd.to_numeric(goals.home_goals)\n",
    "goals.guest_goals = pd.to_numeric(goals.guest_goals)\n",
    "\n",
    "goals.shape"
   ]
  },
  {
   "cell_type": "code",
   "execution_count": 28,
   "metadata": {
    "ExecuteTime": {
     "end_time": "2019-08-16T11:11:43.907158Z",
     "start_time": "2019-08-16T11:11:43.885143Z"
    }
   },
   "outputs": [
    {
     "name": "stdout",
     "output_type": "stream",
     "text": [
      "<class 'pandas.core.frame.DataFrame'>\n",
      "RangeIndex: 5067 entries, 0 to 5066\n",
      "Data columns (total 5 columns):\n",
      "date             5067 non-null object\n",
      "home_team_id     5067 non-null int64\n",
      "guest_team_id    5067 non-null int64\n",
      "home_goals       5067 non-null int64\n",
      "guest_goals      5067 non-null int64\n",
      "dtypes: int64(4), object(1)\n",
      "memory usage: 198.0+ KB\n"
     ]
    }
   ],
   "source": [
    "goals.info()"
   ]
  },
  {
   "cell_type": "code",
   "execution_count": 29,
   "metadata": {
    "ExecuteTime": {
     "end_time": "2019-08-16T11:11:44.247158Z",
     "start_time": "2019-08-16T11:11:44.223145Z"
    },
    "scrolled": true
   },
   "outputs": [
    {
     "data": {
      "text/html": [
       "<div>\n",
       "<style scoped>\n",
       "    .dataframe tbody tr th:only-of-type {\n",
       "        vertical-align: middle;\n",
       "    }\n",
       "\n",
       "    .dataframe tbody tr th {\n",
       "        vertical-align: top;\n",
       "    }\n",
       "\n",
       "    .dataframe thead th {\n",
       "        text-align: right;\n",
       "    }\n",
       "</style>\n",
       "<table border=\"1\" class=\"dataframe\">\n",
       "  <thead>\n",
       "    <tr style=\"text-align: right;\">\n",
       "      <th></th>\n",
       "      <th>date</th>\n",
       "      <th>home_team_id</th>\n",
       "      <th>guest_team_id</th>\n",
       "      <th>home_goals</th>\n",
       "      <th>guest_goals</th>\n",
       "    </tr>\n",
       "  </thead>\n",
       "  <tbody>\n",
       "    <tr>\n",
       "      <th>0</th>\n",
       "      <td>2009-07-14</td>\n",
       "      <td>5192</td>\n",
       "      <td>2364</td>\n",
       "      <td>1</td>\n",
       "      <td>1</td>\n",
       "    </tr>\n",
       "    <tr>\n",
       "      <th>1</th>\n",
       "      <td>2009-07-14</td>\n",
       "      <td>2444</td>\n",
       "      <td>6227</td>\n",
       "      <td>2</td>\n",
       "      <td>1</td>\n",
       "    </tr>\n",
       "    <tr>\n",
       "      <th>2</th>\n",
       "      <td>2009-07-14</td>\n",
       "      <td>541</td>\n",
       "      <td>4383</td>\n",
       "      <td>1</td>\n",
       "      <td>0</td>\n",
       "    </tr>\n",
       "    <tr>\n",
       "      <th>3</th>\n",
       "      <td>2009-07-14</td>\n",
       "      <td>3551</td>\n",
       "      <td>4467</td>\n",
       "      <td>4</td>\n",
       "      <td>0</td>\n",
       "    </tr>\n",
       "    <tr>\n",
       "      <th>4</th>\n",
       "      <td>2009-07-14</td>\n",
       "      <td>2662</td>\n",
       "      <td>7448</td>\n",
       "      <td>2</td>\n",
       "      <td>0</td>\n",
       "    </tr>\n",
       "  </tbody>\n",
       "</table>\n",
       "</div>"
      ],
      "text/plain": [
       "         date  home_team_id  guest_team_id  home_goals  guest_goals\n",
       "0  2009-07-14          5192           2364           1            1\n",
       "1  2009-07-14          2444           6227           2            1\n",
       "2  2009-07-14           541           4383           1            0\n",
       "3  2009-07-14          3551           4467           4            0\n",
       "4  2009-07-14          2662           7448           2            0"
      ]
     },
     "execution_count": 29,
     "metadata": {},
     "output_type": "execute_result"
    }
   ],
   "source": [
    "goals.head()"
   ]
  },
  {
   "cell_type": "code",
   "execution_count": 173,
   "metadata": {
    "ExecuteTime": {
     "end_time": "2019-08-15T22:00:22.484475Z",
     "start_time": "2019-08-15T22:00:22.401479Z"
    }
   },
   "outputs": [],
   "source": [
    "goals.to_csv('goals.csv')"
   ]
  },
  {
   "cell_type": "code",
   "execution_count": 282,
   "metadata": {
    "ExecuteTime": {
     "end_time": "2019-08-16T12:46:47.314225Z",
     "start_time": "2019-08-16T12:46:47.238220Z"
    }
   },
   "outputs": [],
   "source": [
    "goals_prep = pd.read_csv('goals-preprocessed.csv', sep='\\t')"
   ]
  },
  {
   "cell_type": "code",
   "execution_count": 283,
   "metadata": {
    "ExecuteTime": {
     "end_time": "2019-08-16T12:46:47.617232Z",
     "start_time": "2019-08-16T12:46:47.559223Z"
    }
   },
   "outputs": [
    {
     "data": {
      "text/html": [
       "<div>\n",
       "<style scoped>\n",
       "    .dataframe tbody tr th:only-of-type {\n",
       "        vertical-align: middle;\n",
       "    }\n",
       "\n",
       "    .dataframe tbody tr th {\n",
       "        vertical-align: top;\n",
       "    }\n",
       "\n",
       "    .dataframe thead th {\n",
       "        text-align: right;\n",
       "    }\n",
       "</style>\n",
       "<table border=\"1\" class=\"dataframe\">\n",
       "  <thead>\n",
       "    <tr style=\"text-align: right;\">\n",
       "      <th></th>\n",
       "      <th>home_team_break</th>\n",
       "      <th>guest_team_break</th>\n",
       "      <th>date</th>\n",
       "      <th>home_team_id</th>\n",
       "      <th>guest_team_id</th>\n",
       "      <th>home_goals</th>\n",
       "      <th>guest_goals</th>\n",
       "      <th>homeResultFactor</th>\n",
       "      <th>guestResultFactor</th>\n",
       "      <th>resultNumeric</th>\n",
       "      <th>...</th>\n",
       "      <th>homeTeamGoalsReceivedAway</th>\n",
       "      <th>homeTeamGoalsDiffAway</th>\n",
       "      <th>guestTeamGoalsShootAtHome</th>\n",
       "      <th>guestTeamGoalsReceivedAtHome</th>\n",
       "      <th>guestTeamGoalsDiffAtHome</th>\n",
       "      <th>guestTeamGoalsShootAway</th>\n",
       "      <th>guestTeamGoalsReceivedAway</th>\n",
       "      <th>guestTeamGoalsDiffAway</th>\n",
       "      <th>hoamAvgPoints</th>\n",
       "      <th>guestAvgpoints</th>\n",
       "    </tr>\n",
       "  </thead>\n",
       "  <tbody>\n",
       "    <tr>\n",
       "      <th>0</th>\n",
       "      <td>0</td>\n",
       "      <td>0</td>\n",
       "      <td>14.07.2009</td>\n",
       "      <td>5192</td>\n",
       "      <td>2364</td>\n",
       "      <td>1</td>\n",
       "      <td>1</td>\n",
       "      <td>U</td>\n",
       "      <td>U</td>\n",
       "      <td>0</td>\n",
       "      <td>...</td>\n",
       "      <td>0.0</td>\n",
       "      <td>0.0</td>\n",
       "      <td>0.0</td>\n",
       "      <td>0.0</td>\n",
       "      <td>0.0</td>\n",
       "      <td>0.0</td>\n",
       "      <td>0.0</td>\n",
       "      <td>0.0</td>\n",
       "      <td>0.0</td>\n",
       "      <td>0.0</td>\n",
       "    </tr>\n",
       "    <tr>\n",
       "      <th>1</th>\n",
       "      <td>40008</td>\n",
       "      <td>40008</td>\n",
       "      <td>14.07.2009</td>\n",
       "      <td>2444</td>\n",
       "      <td>6227</td>\n",
       "      <td>2</td>\n",
       "      <td>1</td>\n",
       "      <td>S</td>\n",
       "      <td>N</td>\n",
       "      <td>1</td>\n",
       "      <td>...</td>\n",
       "      <td>0.0</td>\n",
       "      <td>0.0</td>\n",
       "      <td>0.0</td>\n",
       "      <td>0.0</td>\n",
       "      <td>0.0</td>\n",
       "      <td>0.0</td>\n",
       "      <td>0.0</td>\n",
       "      <td>0.0</td>\n",
       "      <td>0.0</td>\n",
       "      <td>0.0</td>\n",
       "    </tr>\n",
       "    <tr>\n",
       "      <th>2</th>\n",
       "      <td>40008</td>\n",
       "      <td>40008</td>\n",
       "      <td>14.07.2009</td>\n",
       "      <td>541</td>\n",
       "      <td>4383</td>\n",
       "      <td>1</td>\n",
       "      <td>0</td>\n",
       "      <td>S</td>\n",
       "      <td>N</td>\n",
       "      <td>1</td>\n",
       "      <td>...</td>\n",
       "      <td>0.0</td>\n",
       "      <td>0.0</td>\n",
       "      <td>0.0</td>\n",
       "      <td>0.0</td>\n",
       "      <td>0.0</td>\n",
       "      <td>0.0</td>\n",
       "      <td>0.0</td>\n",
       "      <td>0.0</td>\n",
       "      <td>0.0</td>\n",
       "      <td>0.0</td>\n",
       "    </tr>\n",
       "    <tr>\n",
       "      <th>3</th>\n",
       "      <td>40008</td>\n",
       "      <td>40008</td>\n",
       "      <td>14.07.2009</td>\n",
       "      <td>3551</td>\n",
       "      <td>4467</td>\n",
       "      <td>4</td>\n",
       "      <td>0</td>\n",
       "      <td>S</td>\n",
       "      <td>N</td>\n",
       "      <td>4</td>\n",
       "      <td>...</td>\n",
       "      <td>0.0</td>\n",
       "      <td>0.0</td>\n",
       "      <td>0.0</td>\n",
       "      <td>0.0</td>\n",
       "      <td>0.0</td>\n",
       "      <td>0.0</td>\n",
       "      <td>0.0</td>\n",
       "      <td>0.0</td>\n",
       "      <td>0.0</td>\n",
       "      <td>0.0</td>\n",
       "    </tr>\n",
       "    <tr>\n",
       "      <th>4</th>\n",
       "      <td>40008</td>\n",
       "      <td>40008</td>\n",
       "      <td>14.07.2009</td>\n",
       "      <td>2662</td>\n",
       "      <td>7448</td>\n",
       "      <td>2</td>\n",
       "      <td>0</td>\n",
       "      <td>S</td>\n",
       "      <td>N</td>\n",
       "      <td>2</td>\n",
       "      <td>...</td>\n",
       "      <td>0.0</td>\n",
       "      <td>0.0</td>\n",
       "      <td>0.0</td>\n",
       "      <td>0.0</td>\n",
       "      <td>0.0</td>\n",
       "      <td>0.0</td>\n",
       "      <td>0.0</td>\n",
       "      <td>0.0</td>\n",
       "      <td>0.0</td>\n",
       "      <td>0.0</td>\n",
       "    </tr>\n",
       "  </tbody>\n",
       "</table>\n",
       "<p>5 rows × 30 columns</p>\n",
       "</div>"
      ],
      "text/plain": [
       "   home_team_break  guest_team_break        date  home_team_id  guest_team_id  \\\n",
       "0                0                 0  14.07.2009          5192           2364   \n",
       "1            40008             40008  14.07.2009          2444           6227   \n",
       "2            40008             40008  14.07.2009           541           4383   \n",
       "3            40008             40008  14.07.2009          3551           4467   \n",
       "4            40008             40008  14.07.2009          2662           7448   \n",
       "\n",
       "   home_goals  guest_goals homeResultFactor guestResultFactor  resultNumeric  \\\n",
       "0           1            1                U                 U              0   \n",
       "1           2            1                S                 N              1   \n",
       "2           1            0                S                 N              1   \n",
       "3           4            0                S                 N              4   \n",
       "4           2            0                S                 N              2   \n",
       "\n",
       "   ...  homeTeamGoalsReceivedAway  homeTeamGoalsDiffAway  \\\n",
       "0  ...                        0.0                    0.0   \n",
       "1  ...                        0.0                    0.0   \n",
       "2  ...                        0.0                    0.0   \n",
       "3  ...                        0.0                    0.0   \n",
       "4  ...                        0.0                    0.0   \n",
       "\n",
       "   guestTeamGoalsShootAtHome  guestTeamGoalsReceivedAtHome  \\\n",
       "0                        0.0                           0.0   \n",
       "1                        0.0                           0.0   \n",
       "2                        0.0                           0.0   \n",
       "3                        0.0                           0.0   \n",
       "4                        0.0                           0.0   \n",
       "\n",
       "   guestTeamGoalsDiffAtHome  guestTeamGoalsShootAway  \\\n",
       "0                       0.0                      0.0   \n",
       "1                       0.0                      0.0   \n",
       "2                       0.0                      0.0   \n",
       "3                       0.0                      0.0   \n",
       "4                       0.0                      0.0   \n",
       "\n",
       "   guestTeamGoalsReceivedAway  guestTeamGoalsDiffAway  hoamAvgPoints  \\\n",
       "0                         0.0                     0.0            0.0   \n",
       "1                         0.0                     0.0            0.0   \n",
       "2                         0.0                     0.0            0.0   \n",
       "3                         0.0                     0.0            0.0   \n",
       "4                         0.0                     0.0            0.0   \n",
       "\n",
       "   guestAvgpoints  \n",
       "0             0.0  \n",
       "1             0.0  \n",
       "2             0.0  \n",
       "3             0.0  \n",
       "4             0.0  \n",
       "\n",
       "[5 rows x 30 columns]"
      ]
     },
     "execution_count": 283,
     "metadata": {},
     "output_type": "execute_result"
    }
   ],
   "source": [
    "goals_prep.head()"
   ]
  },
  {
   "cell_type": "code",
   "execution_count": 284,
   "metadata": {
    "ExecuteTime": {
     "end_time": "2019-08-16T12:46:47.870233Z",
     "start_time": "2019-08-16T12:46:47.861221Z"
    }
   },
   "outputs": [],
   "source": [
    "goals_prep = goals_prep.drop(\n",
    "    [\n",
    "    'home_team_id', 'guest_team_id',\n",
    "    'home_goals', 'guest_goals',\n",
    "    'homeResultFactor', 'guestResultFactor',\n",
    "    'date'\n",
    "    ]\n",
    "    ,axis=1)"
   ]
  },
  {
   "cell_type": "code",
   "execution_count": 285,
   "metadata": {
    "ExecuteTime": {
     "end_time": "2019-08-16T12:46:48.208221Z",
     "start_time": "2019-08-16T12:46:48.145241Z"
    }
   },
   "outputs": [
    {
     "data": {
      "text/html": [
       "<div>\n",
       "<style scoped>\n",
       "    .dataframe tbody tr th:only-of-type {\n",
       "        vertical-align: middle;\n",
       "    }\n",
       "\n",
       "    .dataframe tbody tr th {\n",
       "        vertical-align: top;\n",
       "    }\n",
       "\n",
       "    .dataframe thead th {\n",
       "        text-align: right;\n",
       "    }\n",
       "</style>\n",
       "<table border=\"1\" class=\"dataframe\">\n",
       "  <thead>\n",
       "    <tr style=\"text-align: right;\">\n",
       "      <th></th>\n",
       "      <th>home_team_break</th>\n",
       "      <th>guest_team_break</th>\n",
       "      <th>resultNumeric</th>\n",
       "      <th>homeTotalGoalsShoot</th>\n",
       "      <th>homeTotalGoalsReceived</th>\n",
       "      <th>homeTotalGoalDiff</th>\n",
       "      <th>guestTotalGoalsShoot</th>\n",
       "      <th>guestTotalGoalsReceived</th>\n",
       "      <th>guestTotalGoalDiff</th>\n",
       "      <th>homeTeamGoalsShootAtHome</th>\n",
       "      <th>...</th>\n",
       "      <th>homeTeamGoalsReceivedAway</th>\n",
       "      <th>homeTeamGoalsDiffAway</th>\n",
       "      <th>guestTeamGoalsShootAtHome</th>\n",
       "      <th>guestTeamGoalsReceivedAtHome</th>\n",
       "      <th>guestTeamGoalsDiffAtHome</th>\n",
       "      <th>guestTeamGoalsShootAway</th>\n",
       "      <th>guestTeamGoalsReceivedAway</th>\n",
       "      <th>guestTeamGoalsDiffAway</th>\n",
       "      <th>hoamAvgPoints</th>\n",
       "      <th>guestAvgpoints</th>\n",
       "    </tr>\n",
       "  </thead>\n",
       "  <tbody>\n",
       "    <tr>\n",
       "      <th>0</th>\n",
       "      <td>0</td>\n",
       "      <td>0</td>\n",
       "      <td>0</td>\n",
       "      <td>0.0</td>\n",
       "      <td>0.0</td>\n",
       "      <td>0.0</td>\n",
       "      <td>0.0</td>\n",
       "      <td>0.0</td>\n",
       "      <td>0.0</td>\n",
       "      <td>0.0</td>\n",
       "      <td>...</td>\n",
       "      <td>0.0</td>\n",
       "      <td>0.0</td>\n",
       "      <td>0.0</td>\n",
       "      <td>0.0</td>\n",
       "      <td>0.0</td>\n",
       "      <td>0.0</td>\n",
       "      <td>0.0</td>\n",
       "      <td>0.0</td>\n",
       "      <td>0.0</td>\n",
       "      <td>0.0</td>\n",
       "    </tr>\n",
       "    <tr>\n",
       "      <th>1</th>\n",
       "      <td>40008</td>\n",
       "      <td>40008</td>\n",
       "      <td>1</td>\n",
       "      <td>0.0</td>\n",
       "      <td>0.0</td>\n",
       "      <td>0.0</td>\n",
       "      <td>0.0</td>\n",
       "      <td>0.0</td>\n",
       "      <td>0.0</td>\n",
       "      <td>0.0</td>\n",
       "      <td>...</td>\n",
       "      <td>0.0</td>\n",
       "      <td>0.0</td>\n",
       "      <td>0.0</td>\n",
       "      <td>0.0</td>\n",
       "      <td>0.0</td>\n",
       "      <td>0.0</td>\n",
       "      <td>0.0</td>\n",
       "      <td>0.0</td>\n",
       "      <td>0.0</td>\n",
       "      <td>0.0</td>\n",
       "    </tr>\n",
       "    <tr>\n",
       "      <th>2</th>\n",
       "      <td>40008</td>\n",
       "      <td>40008</td>\n",
       "      <td>1</td>\n",
       "      <td>0.0</td>\n",
       "      <td>0.0</td>\n",
       "      <td>0.0</td>\n",
       "      <td>0.0</td>\n",
       "      <td>0.0</td>\n",
       "      <td>0.0</td>\n",
       "      <td>0.0</td>\n",
       "      <td>...</td>\n",
       "      <td>0.0</td>\n",
       "      <td>0.0</td>\n",
       "      <td>0.0</td>\n",
       "      <td>0.0</td>\n",
       "      <td>0.0</td>\n",
       "      <td>0.0</td>\n",
       "      <td>0.0</td>\n",
       "      <td>0.0</td>\n",
       "      <td>0.0</td>\n",
       "      <td>0.0</td>\n",
       "    </tr>\n",
       "    <tr>\n",
       "      <th>3</th>\n",
       "      <td>40008</td>\n",
       "      <td>40008</td>\n",
       "      <td>4</td>\n",
       "      <td>0.0</td>\n",
       "      <td>0.0</td>\n",
       "      <td>0.0</td>\n",
       "      <td>0.0</td>\n",
       "      <td>0.0</td>\n",
       "      <td>0.0</td>\n",
       "      <td>0.0</td>\n",
       "      <td>...</td>\n",
       "      <td>0.0</td>\n",
       "      <td>0.0</td>\n",
       "      <td>0.0</td>\n",
       "      <td>0.0</td>\n",
       "      <td>0.0</td>\n",
       "      <td>0.0</td>\n",
       "      <td>0.0</td>\n",
       "      <td>0.0</td>\n",
       "      <td>0.0</td>\n",
       "      <td>0.0</td>\n",
       "    </tr>\n",
       "    <tr>\n",
       "      <th>4</th>\n",
       "      <td>40008</td>\n",
       "      <td>40008</td>\n",
       "      <td>2</td>\n",
       "      <td>0.0</td>\n",
       "      <td>0.0</td>\n",
       "      <td>0.0</td>\n",
       "      <td>0.0</td>\n",
       "      <td>0.0</td>\n",
       "      <td>0.0</td>\n",
       "      <td>0.0</td>\n",
       "      <td>...</td>\n",
       "      <td>0.0</td>\n",
       "      <td>0.0</td>\n",
       "      <td>0.0</td>\n",
       "      <td>0.0</td>\n",
       "      <td>0.0</td>\n",
       "      <td>0.0</td>\n",
       "      <td>0.0</td>\n",
       "      <td>0.0</td>\n",
       "      <td>0.0</td>\n",
       "      <td>0.0</td>\n",
       "    </tr>\n",
       "  </tbody>\n",
       "</table>\n",
       "<p>5 rows × 23 columns</p>\n",
       "</div>"
      ],
      "text/plain": [
       "   home_team_break  guest_team_break  resultNumeric  homeTotalGoalsShoot  \\\n",
       "0                0                 0              0                  0.0   \n",
       "1            40008             40008              1                  0.0   \n",
       "2            40008             40008              1                  0.0   \n",
       "3            40008             40008              4                  0.0   \n",
       "4            40008             40008              2                  0.0   \n",
       "\n",
       "   homeTotalGoalsReceived  homeTotalGoalDiff  guestTotalGoalsShoot  \\\n",
       "0                     0.0                0.0                   0.0   \n",
       "1                     0.0                0.0                   0.0   \n",
       "2                     0.0                0.0                   0.0   \n",
       "3                     0.0                0.0                   0.0   \n",
       "4                     0.0                0.0                   0.0   \n",
       "\n",
       "   guestTotalGoalsReceived  guestTotalGoalDiff  homeTeamGoalsShootAtHome  ...  \\\n",
       "0                      0.0                 0.0                       0.0  ...   \n",
       "1                      0.0                 0.0                       0.0  ...   \n",
       "2                      0.0                 0.0                       0.0  ...   \n",
       "3                      0.0                 0.0                       0.0  ...   \n",
       "4                      0.0                 0.0                       0.0  ...   \n",
       "\n",
       "   homeTeamGoalsReceivedAway  homeTeamGoalsDiffAway  \\\n",
       "0                        0.0                    0.0   \n",
       "1                        0.0                    0.0   \n",
       "2                        0.0                    0.0   \n",
       "3                        0.0                    0.0   \n",
       "4                        0.0                    0.0   \n",
       "\n",
       "   guestTeamGoalsShootAtHome  guestTeamGoalsReceivedAtHome  \\\n",
       "0                        0.0                           0.0   \n",
       "1                        0.0                           0.0   \n",
       "2                        0.0                           0.0   \n",
       "3                        0.0                           0.0   \n",
       "4                        0.0                           0.0   \n",
       "\n",
       "   guestTeamGoalsDiffAtHome  guestTeamGoalsShootAway  \\\n",
       "0                       0.0                      0.0   \n",
       "1                       0.0                      0.0   \n",
       "2                       0.0                      0.0   \n",
       "3                       0.0                      0.0   \n",
       "4                       0.0                      0.0   \n",
       "\n",
       "   guestTeamGoalsReceivedAway  guestTeamGoalsDiffAway  hoamAvgPoints  \\\n",
       "0                         0.0                     0.0            0.0   \n",
       "1                         0.0                     0.0            0.0   \n",
       "2                         0.0                     0.0            0.0   \n",
       "3                         0.0                     0.0            0.0   \n",
       "4                         0.0                     0.0            0.0   \n",
       "\n",
       "   guestAvgpoints  \n",
       "0             0.0  \n",
       "1             0.0  \n",
       "2             0.0  \n",
       "3             0.0  \n",
       "4             0.0  \n",
       "\n",
       "[5 rows x 23 columns]"
      ]
     },
     "execution_count": 285,
     "metadata": {},
     "output_type": "execute_result"
    }
   ],
   "source": [
    "goals_prep.head()"
   ]
  },
  {
   "cell_type": "code",
   "execution_count": 286,
   "metadata": {
    "ExecuteTime": {
     "end_time": "2019-08-16T12:46:48.814253Z",
     "start_time": "2019-08-16T12:46:48.790230Z"
    }
   },
   "outputs": [],
   "source": [
    "df_final = pd.concat([df.drop(['result', 'identifier', 'index'], axis=1), goals_prep], axis=1)"
   ]
  },
  {
   "cell_type": "code",
   "execution_count": 287,
   "metadata": {
    "ExecuteTime": {
     "end_time": "2019-08-16T12:46:49.754238Z",
     "start_time": "2019-08-16T12:46:49.687232Z"
    }
   },
   "outputs": [
    {
     "data": {
      "text/html": [
       "<div>\n",
       "<style scoped>\n",
       "    .dataframe tbody tr th:only-of-type {\n",
       "        vertical-align: middle;\n",
       "    }\n",
       "\n",
       "    .dataframe tbody tr th {\n",
       "        vertical-align: top;\n",
       "    }\n",
       "\n",
       "    .dataframe thead th {\n",
       "        text-align: right;\n",
       "    }\n",
       "</style>\n",
       "<table border=\"1\" class=\"dataframe\">\n",
       "  <thead>\n",
       "    <tr style=\"text-align: right;\">\n",
       "      <th></th>\n",
       "      <th>competition</th>\n",
       "      <th>saison</th>\n",
       "      <th>gameday</th>\n",
       "      <th>date</th>\n",
       "      <th>home_team_name</th>\n",
       "      <th>guest_team_name</th>\n",
       "      <th>home_coach</th>\n",
       "      <th>home_game_system</th>\n",
       "      <th>home_team_id</th>\n",
       "      <th>guest_coach</th>\n",
       "      <th>...</th>\n",
       "      <th>homeTeamGoalsReceivedAway</th>\n",
       "      <th>homeTeamGoalsDiffAway</th>\n",
       "      <th>guestTeamGoalsShootAtHome</th>\n",
       "      <th>guestTeamGoalsReceivedAtHome</th>\n",
       "      <th>guestTeamGoalsDiffAtHome</th>\n",
       "      <th>guestTeamGoalsShootAway</th>\n",
       "      <th>guestTeamGoalsReceivedAway</th>\n",
       "      <th>guestTeamGoalsDiffAway</th>\n",
       "      <th>hoamAvgPoints</th>\n",
       "      <th>guestAvgpoints</th>\n",
       "    </tr>\n",
       "  </thead>\n",
       "  <tbody>\n",
       "    <tr>\n",
       "      <th>0</th>\n",
       "      <td>2. Liga</td>\n",
       "      <td>2009/10</td>\n",
       "      <td>1</td>\n",
       "      <td>2009-07-14 19:00:00</td>\n",
       "      <td>FC Gratkorn</td>\n",
       "      <td>First Vienna FC</td>\n",
       "      <td>Michael Fuchs †</td>\n",
       "      <td>4-4-2</td>\n",
       "      <td>5192</td>\n",
       "      <td>Peter Stöger</td>\n",
       "      <td>...</td>\n",
       "      <td>0.0</td>\n",
       "      <td>0.0</td>\n",
       "      <td>0.0</td>\n",
       "      <td>0.0</td>\n",
       "      <td>0.0</td>\n",
       "      <td>0.0</td>\n",
       "      <td>0.0</td>\n",
       "      <td>0.0</td>\n",
       "      <td>0.0</td>\n",
       "      <td>0.0</td>\n",
       "    </tr>\n",
       "    <tr>\n",
       "      <th>1</th>\n",
       "      <td>2. Liga</td>\n",
       "      <td>2009/10</td>\n",
       "      <td>1</td>\n",
       "      <td>2009-07-14 19:00:00</td>\n",
       "      <td>FC Wacker Innsbruck</td>\n",
       "      <td>Red Bull Juniors Salzburg</td>\n",
       "      <td>Walter Kogler</td>\n",
       "      <td>4-4-2</td>\n",
       "      <td>2444</td>\n",
       "      <td>Niko Kovac</td>\n",
       "      <td>...</td>\n",
       "      <td>0.0</td>\n",
       "      <td>0.0</td>\n",
       "      <td>0.0</td>\n",
       "      <td>0.0</td>\n",
       "      <td>0.0</td>\n",
       "      <td>0.0</td>\n",
       "      <td>0.0</td>\n",
       "      <td>0.0</td>\n",
       "      <td>0.0</td>\n",
       "      <td>0.0</td>\n",
       "    </tr>\n",
       "    <tr>\n",
       "      <th>2</th>\n",
       "      <td>2. Liga</td>\n",
       "      <td>2009/10</td>\n",
       "      <td>1</td>\n",
       "      <td>2009-07-14 19:00:00</td>\n",
       "      <td>SC Austria Lustenau</td>\n",
       "      <td>FK Austria Wien Amateure</td>\n",
       "      <td>Edmund Stöhr</td>\n",
       "      <td>4-4-2</td>\n",
       "      <td>541</td>\n",
       "      <td>Johann Dihanich</td>\n",
       "      <td>...</td>\n",
       "      <td>0.0</td>\n",
       "      <td>0.0</td>\n",
       "      <td>0.0</td>\n",
       "      <td>0.0</td>\n",
       "      <td>0.0</td>\n",
       "      <td>0.0</td>\n",
       "      <td>0.0</td>\n",
       "      <td>0.0</td>\n",
       "      <td>0.0</td>\n",
       "      <td>0.0</td>\n",
       "    </tr>\n",
       "    <tr>\n",
       "      <th>3</th>\n",
       "      <td>2. Liga</td>\n",
       "      <td>2009/10</td>\n",
       "      <td>1</td>\n",
       "      <td>2009-07-14 19:00:00</td>\n",
       "      <td>SC Rheindorf Altach</td>\n",
       "      <td>TSV Hartberg</td>\n",
       "      <td>Adi Hütter</td>\n",
       "      <td>4-4-2</td>\n",
       "      <td>3551</td>\n",
       "      <td>Bruno Friesenbichler</td>\n",
       "      <td>...</td>\n",
       "      <td>0.0</td>\n",
       "      <td>0.0</td>\n",
       "      <td>0.0</td>\n",
       "      <td>0.0</td>\n",
       "      <td>0.0</td>\n",
       "      <td>0.0</td>\n",
       "      <td>0.0</td>\n",
       "      <td>0.0</td>\n",
       "      <td>0.0</td>\n",
       "      <td>0.0</td>\n",
       "    </tr>\n",
       "    <tr>\n",
       "      <th>4</th>\n",
       "      <td>2. Liga</td>\n",
       "      <td>2009/10</td>\n",
       "      <td>1</td>\n",
       "      <td>2009-07-14 19:00:00</td>\n",
       "      <td>SKN St. Pölten</td>\n",
       "      <td>FC Dornbirn</td>\n",
       "      <td>Martin Scherb</td>\n",
       "      <td>4-4-2</td>\n",
       "      <td>2662</td>\n",
       "      <td>Armand Benneker</td>\n",
       "      <td>...</td>\n",
       "      <td>0.0</td>\n",
       "      <td>0.0</td>\n",
       "      <td>0.0</td>\n",
       "      <td>0.0</td>\n",
       "      <td>0.0</td>\n",
       "      <td>0.0</td>\n",
       "      <td>0.0</td>\n",
       "      <td>0.0</td>\n",
       "      <td>0.0</td>\n",
       "      <td>0.0</td>\n",
       "    </tr>\n",
       "  </tbody>\n",
       "</table>\n",
       "<p>5 rows × 41 columns</p>\n",
       "</div>"
      ],
      "text/plain": [
       "  competition   saison gameday                date       home_team_name  \\\n",
       "0     2. Liga  2009/10       1 2009-07-14 19:00:00          FC Gratkorn   \n",
       "1     2. Liga  2009/10       1 2009-07-14 19:00:00  FC Wacker Innsbruck   \n",
       "2     2. Liga  2009/10       1 2009-07-14 19:00:00  SC Austria Lustenau   \n",
       "3     2. Liga  2009/10       1 2009-07-14 19:00:00  SC Rheindorf Altach   \n",
       "4     2. Liga  2009/10       1 2009-07-14 19:00:00       SKN St. Pölten   \n",
       "\n",
       "             guest_team_name       home_coach home_game_system  home_team_id  \\\n",
       "0            First Vienna FC  Michael Fuchs †            4-4-2          5192   \n",
       "1  Red Bull Juniors Salzburg    Walter Kogler            4-4-2          2444   \n",
       "2   FK Austria Wien Amateure     Edmund Stöhr            4-4-2           541   \n",
       "3               TSV Hartberg       Adi Hütter            4-4-2          3551   \n",
       "4                FC Dornbirn    Martin Scherb            4-4-2          2662   \n",
       "\n",
       "            guest_coach  ... homeTeamGoalsReceivedAway  homeTeamGoalsDiffAway  \\\n",
       "0          Peter Stöger  ...                       0.0                    0.0   \n",
       "1            Niko Kovac  ...                       0.0                    0.0   \n",
       "2       Johann Dihanich  ...                       0.0                    0.0   \n",
       "3  Bruno Friesenbichler  ...                       0.0                    0.0   \n",
       "4       Armand Benneker  ...                       0.0                    0.0   \n",
       "\n",
       "  guestTeamGoalsShootAtHome  guestTeamGoalsReceivedAtHome  \\\n",
       "0                       0.0                           0.0   \n",
       "1                       0.0                           0.0   \n",
       "2                       0.0                           0.0   \n",
       "3                       0.0                           0.0   \n",
       "4                       0.0                           0.0   \n",
       "\n",
       "  guestTeamGoalsDiffAtHome guestTeamGoalsShootAway guestTeamGoalsReceivedAway  \\\n",
       "0                      0.0                     0.0                        0.0   \n",
       "1                      0.0                     0.0                        0.0   \n",
       "2                      0.0                     0.0                        0.0   \n",
       "3                      0.0                     0.0                        0.0   \n",
       "4                      0.0                     0.0                        0.0   \n",
       "\n",
       "  guestTeamGoalsDiffAway  hoamAvgPoints  guestAvgpoints  \n",
       "0                    0.0            0.0             0.0  \n",
       "1                    0.0            0.0             0.0  \n",
       "2                    0.0            0.0             0.0  \n",
       "3                    0.0            0.0             0.0  \n",
       "4                    0.0            0.0             0.0  \n",
       "\n",
       "[5 rows x 41 columns]"
      ]
     },
     "execution_count": 287,
     "metadata": {},
     "output_type": "execute_result"
    }
   ],
   "source": [
    "df_final.head()"
   ]
  },
  {
   "cell_type": "code",
   "execution_count": 291,
   "metadata": {
    "ExecuteTime": {
     "end_time": "2019-08-16T12:49:31.287081Z",
     "start_time": "2019-08-16T12:49:29.383735Z"
    }
   },
   "outputs": [
    {
     "data": {
      "image/png": "[encoded data removed]",
      "text/plain": [
       "<Figure size 1152x1152 with 2 Axes>"
      ]
     },
     "metadata": {
      "needs_background": "light"
     },
     "output_type": "display_data"
    }
   ],
   "source": [
    "plt.figure(figsize=(16, 16))\n",
    "sns.heatmap(df_final.corr(), square=True, cmap=\"YlGnBu\")\n",
    "plt.show()"
   ]
  },
  {
   "cell_type": "code",
   "execution_count": 253,
   "metadata": {
    "ExecuteTime": {
     "end_time": "2019-08-16T12:41:34.766291Z",
     "start_time": "2019-08-16T12:41:34.717279Z"
    }
   },
   "outputs": [
    {
     "name": "stdout",
     "output_type": "stream",
     "text": [
      "<class 'pandas.core.frame.DataFrame'>\n",
      "RangeIndex: 5067 entries, 0 to 5066\n",
      "Data columns (total 41 columns):\n",
      "competition                     5067 non-null object\n",
      "saison                          5067 non-null object\n",
      "gameday                         5067 non-null object\n",
      "date                            5067 non-null datetime64[ns]\n",
      "home_team_name                  5067 non-null object\n",
      "guest_team_name                 5067 non-null object\n",
      "home_coach                      5067 non-null object\n",
      "home_game_system                5067 non-null object\n",
      "home_team_id                    5067 non-null int64\n",
      "guest_coach                     5067 non-null object\n",
      "guest_game_system               5067 non-null object\n",
      "guest_team_id                   5067 non-null int64\n",
      "time                            5067 non-null object\n",
      "viewers                         5067 non-null int64\n",
      "weekday                         5067 non-null object\n",
      "day                             5067 non-null object\n",
      "month                           5067 non-null object\n",
      "year                            5067 non-null object\n",
      "home_team_break                 5067 non-null int64\n",
      "guest_team_break                5067 non-null int64\n",
      "resultNumeric                   5067 non-null int64\n",
      "homeTotalGoalsShoot             5067 non-null float64\n",
      "homeTotalGoalsReceived          5067 non-null float64\n",
      "homeTotalGoalDiff               5067 non-null float64\n",
      "guestTotalGoalsShoot            5067 non-null float64\n",
      "guestTotalGoalsReceived         5067 non-null float64\n",
      "guestTotalGoalDiff              5067 non-null float64\n",
      "homeTeamGoalsShootAtHome        5067 non-null float64\n",
      "homeTeamGoalsReceivedAtHome     5067 non-null float64\n",
      "homeTeamGoalsDiffAtHome         5067 non-null float64\n",
      "homeTeamGoalsShootAway          5067 non-null float64\n",
      "homeTeamGoalsReceivedAway       5067 non-null float64\n",
      "homeTeamGoalsDiffAway           5067 non-null float64\n",
      "guestTeamGoalsShootAtHome       5067 non-null float64\n",
      "guestTeamGoalsReceivedAtHome    5067 non-null float64\n",
      "guestTeamGoalsDiffAtHome        5067 non-null float64\n",
      "guestTeamGoalsShootAway         5067 non-null float64\n",
      "guestTeamGoalsReceivedAway      5067 non-null float64\n",
      "guestTeamGoalsDiffAway          5067 non-null float64\n",
      "hoamAvgPoints                   5067 non-null float64\n",
      "guestAvgpoints                  5067 non-null float64\n",
      "dtypes: datetime64[ns](1), float64(20), int64(6), object(14)\n",
      "memory usage: 1.6+ MB\n"
     ]
    }
   ],
   "source": [
    "df_final.info()"
   ]
  },
  {
   "cell_type": "code",
   "execution_count": 255,
   "metadata": {
    "ExecuteTime": {
     "end_time": "2019-08-16T12:41:34.979268Z",
     "start_time": "2019-08-16T12:41:34.954266Z"
    }
   },
   "outputs": [
    {
     "data": {
      "text/plain": [
       "count     5067.000000\n",
       "mean      1595.050128\n",
       "std       7858.172087\n",
       "min          0.000000\n",
       "25%          4.000000\n",
       "50%          7.000000\n",
       "75%          9.000000\n",
       "max      43531.000000\n",
       "Name: home_team_break, dtype: float64"
      ]
     },
     "execution_count": 255,
     "metadata": {},
     "output_type": "execute_result"
    }
   ],
   "source": [
    "df_final.home_team_break.describe()"
   ]
  },
  {
   "cell_type": "code",
   "execution_count": 256,
   "metadata": {
    "ExecuteTime": {
     "end_time": "2019-08-16T12:41:35.702277Z",
     "start_time": "2019-08-16T12:41:35.695279Z"
    }
   },
   "outputs": [],
   "source": [
    "from matplotlib import pyplot as plt"
   ]
  },
  {
   "cell_type": "code",
   "execution_count": 257,
   "metadata": {
    "ExecuteTime": {
     "end_time": "2019-08-16T12:41:36.541375Z",
     "start_time": "2019-08-16T12:41:36.024285Z"
    }
   },
   "outputs": [
    {
     "data": {
      "image/png": "[encoded data removed]",
      "text/plain": [
       "<Figure size 432x288 with 1 Axes>"
      ]
     },
     "metadata": {
      "needs_background": "light"
     },
     "output_type": "display_data"
    }
   ],
   "source": [
    "plt.hist(df_final.home_team_break, bins=30, density=True)\n",
    "plt.show()"
   ]
  },
  {
   "cell_type": "code",
   "execution_count": 258,
   "metadata": {
    "ExecuteTime": {
     "end_time": "2019-08-16T12:41:37.206377Z",
     "start_time": "2019-08-16T12:41:36.548374Z"
    }
   },
   "outputs": [
    {
     "data": {
      "image/png": "[encoded data removed]",
      "text/plain": [
       "<Figure size 432x288 with 1 Axes>"
      ]
     },
     "metadata": {
      "needs_background": "light"
     },
     "output_type": "display_data"
    }
   ],
   "source": [
    "plt.hist(df_final.home_team_break[df_final.home_team_break < 16], bins=20)\n",
    "plt.show()"
   ]
  },
  {
   "cell_type": "code",
   "execution_count": 259,
   "metadata": {
    "ExecuteTime": {
     "end_time": "2019-08-16T12:41:37.249371Z",
     "start_time": "2019-08-16T12:41:37.224376Z"
    }
   },
   "outputs": [],
   "source": [
    "from keras.utils import to_categorical"
   ]
  },
  {
   "cell_type": "code",
   "execution_count": 260,
   "metadata": {
    "ExecuteTime": {
     "end_time": "2019-08-16T12:41:41.787183Z",
     "start_time": "2019-08-16T12:41:41.757178Z"
    }
   },
   "outputs": [
    {
     "data": {
      "text/plain": [
       "home_team_break\n",
       "0      137\n",
       "2        7\n",
       "3      796\n",
       "4      691\n",
       "5      152\n",
       "6      259\n",
       "7     1513\n",
       "8      231\n",
       "9       33\n",
       "10      22\n",
       "11      32\n",
       "12       3\n",
       "13      63\n",
       "14     273\n",
       "15      36\n",
       "Name: home_team_break, dtype: int64"
      ]
     },
     "execution_count": 260,
     "metadata": {},
     "output_type": "execute_result"
    }
   ],
   "source": [
    "df_final.home_team_break[df_final.home_team_break <= 15].groupby(df_final.home_team_break).count()"
   ]
  },
  {
   "cell_type": "code",
   "execution_count": 293,
   "metadata": {
    "ExecuteTime": {
     "end_time": "2019-08-16T12:50:47.453734Z",
     "start_time": "2019-08-16T12:50:45.479633Z"
    }
   },
   "outputs": [
    {
     "name": "stderr",
     "output_type": "stream",
     "text": [
      "C:\\Users\\thoma\\AppData\\Roaming\\Python\\Python37\\site-packages\\ipykernel_launcher.py:1: SettingWithCopyWarning: \n",
      "A value is trying to be set on a copy of a slice from a DataFrame\n",
      "\n",
      "See the caveats in the documentation: http://pandas.pydata.org/pandas-docs/stable/indexing.html#indexing-view-versus-copy\n",
      "  \"\"\"Entry point for launching an IPython kernel.\n"
     ]
    }
   ],
   "source": [
    "df_final.home_team_break[df_final.home_team_break >= 16] = 'higher15'"
   ]
  },
  {
   "cell_type": "code",
   "execution_count": 294,
   "metadata": {
    "ExecuteTime": {
     "end_time": "2019-08-16T12:50:48.277737Z",
     "start_time": "2019-08-16T12:50:48.247731Z"
    }
   },
   "outputs": [
    {
     "data": {
      "text/html": [
       "<div>\n",
       "<style scoped>\n",
       "    .dataframe tbody tr th:only-of-type {\n",
       "        vertical-align: middle;\n",
       "    }\n",
       "\n",
       "    .dataframe tbody tr th {\n",
       "        vertical-align: top;\n",
       "    }\n",
       "\n",
       "    .dataframe thead th {\n",
       "        text-align: right;\n",
       "    }\n",
       "</style>\n",
       "<table border=\"1\" class=\"dataframe\">\n",
       "  <thead>\n",
       "    <tr style=\"text-align: right;\">\n",
       "      <th></th>\n",
       "      <th>0</th>\n",
       "      <th>2</th>\n",
       "      <th>3</th>\n",
       "      <th>4</th>\n",
       "      <th>5</th>\n",
       "      <th>6</th>\n",
       "      <th>7</th>\n",
       "      <th>8</th>\n",
       "      <th>9</th>\n",
       "      <th>10</th>\n",
       "      <th>11</th>\n",
       "      <th>12</th>\n",
       "      <th>13</th>\n",
       "      <th>14</th>\n",
       "      <th>15</th>\n",
       "      <th>higher15</th>\n",
       "    </tr>\n",
       "  </thead>\n",
       "  <tbody>\n",
       "    <tr>\n",
       "      <th>0</th>\n",
       "      <td>1</td>\n",
       "      <td>0</td>\n",
       "      <td>0</td>\n",
       "      <td>0</td>\n",
       "      <td>0</td>\n",
       "      <td>0</td>\n",
       "      <td>0</td>\n",
       "      <td>0</td>\n",
       "      <td>0</td>\n",
       "      <td>0</td>\n",
       "      <td>0</td>\n",
       "      <td>0</td>\n",
       "      <td>0</td>\n",
       "      <td>0</td>\n",
       "      <td>0</td>\n",
       "      <td>0</td>\n",
       "    </tr>\n",
       "    <tr>\n",
       "      <th>1</th>\n",
       "      <td>0</td>\n",
       "      <td>0</td>\n",
       "      <td>0</td>\n",
       "      <td>0</td>\n",
       "      <td>0</td>\n",
       "      <td>0</td>\n",
       "      <td>0</td>\n",
       "      <td>0</td>\n",
       "      <td>0</td>\n",
       "      <td>0</td>\n",
       "      <td>0</td>\n",
       "      <td>0</td>\n",
       "      <td>0</td>\n",
       "      <td>0</td>\n",
       "      <td>0</td>\n",
       "      <td>1</td>\n",
       "    </tr>\n",
       "    <tr>\n",
       "      <th>2</th>\n",
       "      <td>0</td>\n",
       "      <td>0</td>\n",
       "      <td>0</td>\n",
       "      <td>0</td>\n",
       "      <td>0</td>\n",
       "      <td>0</td>\n",
       "      <td>0</td>\n",
       "      <td>0</td>\n",
       "      <td>0</td>\n",
       "      <td>0</td>\n",
       "      <td>0</td>\n",
       "      <td>0</td>\n",
       "      <td>0</td>\n",
       "      <td>0</td>\n",
       "      <td>0</td>\n",
       "      <td>1</td>\n",
       "    </tr>\n",
       "    <tr>\n",
       "      <th>3</th>\n",
       "      <td>0</td>\n",
       "      <td>0</td>\n",
       "      <td>0</td>\n",
       "      <td>0</td>\n",
       "      <td>0</td>\n",
       "      <td>0</td>\n",
       "      <td>0</td>\n",
       "      <td>0</td>\n",
       "      <td>0</td>\n",
       "      <td>0</td>\n",
       "      <td>0</td>\n",
       "      <td>0</td>\n",
       "      <td>0</td>\n",
       "      <td>0</td>\n",
       "      <td>0</td>\n",
       "      <td>1</td>\n",
       "    </tr>\n",
       "    <tr>\n",
       "      <th>4</th>\n",
       "      <td>0</td>\n",
       "      <td>0</td>\n",
       "      <td>0</td>\n",
       "      <td>0</td>\n",
       "      <td>0</td>\n",
       "      <td>0</td>\n",
       "      <td>0</td>\n",
       "      <td>0</td>\n",
       "      <td>0</td>\n",
       "      <td>0</td>\n",
       "      <td>0</td>\n",
       "      <td>0</td>\n",
       "      <td>0</td>\n",
       "      <td>0</td>\n",
       "      <td>0</td>\n",
       "      <td>1</td>\n",
       "    </tr>\n",
       "  </tbody>\n",
       "</table>\n",
       "</div>"
      ],
      "text/plain": [
       "   0  2  3  4  5  6  7  8  9  10  11  12  13  14  15  higher15\n",
       "0  1  0  0  0  0  0  0  0  0   0   0   0   0   0   0         0\n",
       "1  0  0  0  0  0  0  0  0  0   0   0   0   0   0   0         1\n",
       "2  0  0  0  0  0  0  0  0  0   0   0   0   0   0   0         1\n",
       "3  0  0  0  0  0  0  0  0  0   0   0   0   0   0   0         1\n",
       "4  0  0  0  0  0  0  0  0  0   0   0   0   0   0   0         1"
      ]
     },
     "execution_count": 294,
     "metadata": {},
     "output_type": "execute_result"
    }
   ],
   "source": [
    "pd.get_dummies(df_final.home_team_break).head()"
   ]
  },
  {
   "cell_type": "code",
   "execution_count": 295,
   "metadata": {
    "ExecuteTime": {
     "end_time": "2019-08-16T12:50:50.771884Z",
     "start_time": "2019-08-16T12:50:50.760892Z"
    }
   },
   "outputs": [],
   "source": [
    "df_home_team_break = pd.get_dummies(df_final.home_team_break)"
   ]
  },
  {
   "cell_type": "code",
   "execution_count": 296,
   "metadata": {
    "ExecuteTime": {
     "end_time": "2019-08-16T12:50:51.529013Z",
     "start_time": "2019-08-16T12:50:51.520020Z"
    }
   },
   "outputs": [],
   "source": [
    "df_home_team_break.columns = [\n",
    "     'htb_0',\n",
    "     'htb_2',\n",
    "     'htb_3',\n",
    "     'htb_4',\n",
    "     'htb_5',\n",
    "     'htb_6',\n",
    "     'htb_7',\n",
    "     'htb_8',\n",
    "     'htb_9',\n",
    "     'htb_10',\n",
    "     'htb_11',\n",
    "     'htb_12',\n",
    "     'htb_13',\n",
    "     'htb_14',\n",
    "     'htb_15',\n",
    "     'htb_>15']\n"
   ]
  },
  {
   "cell_type": "code",
   "execution_count": 297,
   "metadata": {
    "ExecuteTime": {
     "end_time": "2019-08-16T12:50:54.336965Z",
     "start_time": "2019-08-16T12:50:52.503043Z"
    }
   },
   "outputs": [
    {
     "name": "stderr",
     "output_type": "stream",
     "text": [
      "C:\\Users\\thoma\\AppData\\Roaming\\Python\\Python37\\site-packages\\ipykernel_launcher.py:1: SettingWithCopyWarning: \n",
      "A value is trying to be set on a copy of a slice from a DataFrame\n",
      "\n",
      "See the caveats in the documentation: http://pandas.pydata.org/pandas-docs/stable/indexing.html#indexing-view-versus-copy\n",
      "  \"\"\"Entry point for launching an IPython kernel.\n"
     ]
    }
   ],
   "source": [
    "df_final.guest_team_break[df_final.guest_team_break >= 16] = 'higher15'"
   ]
  },
  {
   "cell_type": "code",
   "execution_count": 298,
   "metadata": {
    "ExecuteTime": {
     "end_time": "2019-08-16T12:50:54.374971Z",
     "start_time": "2019-08-16T12:50:54.355978Z"
    }
   },
   "outputs": [],
   "source": [
    "df_guest_team_break = pd.get_dummies(df_final.guest_team_break)"
   ]
  },
  {
   "cell_type": "code",
   "execution_count": 299,
   "metadata": {
    "ExecuteTime": {
     "end_time": "2019-08-16T12:50:54.400968Z",
     "start_time": "2019-08-16T12:50:54.383974Z"
    }
   },
   "outputs": [],
   "source": [
    "df_guest_team_break.columns = [\n",
    "     'gtb_0',\n",
    "     'gtb_2',\n",
    "     'gtb_3',\n",
    "     'gtb_4',\n",
    "     'gtb_5',\n",
    "     'gtb_6',\n",
    "     'gtb_7',\n",
    "     'gtb_8',\n",
    "     'gtb_9',\n",
    "     'gtb_10',\n",
    "     'gtb_11',\n",
    "     'gtb_12',\n",
    "     'gtb_13',\n",
    "     'gtb_14',\n",
    "     'gtb_15',\n",
    "     'gtb_>15']\n"
   ]
  },
  {
   "cell_type": "code",
   "execution_count": 300,
   "metadata": {
    "ExecuteTime": {
     "end_time": "2019-08-16T12:50:54.924977Z",
     "start_time": "2019-08-16T12:50:54.847966Z"
    }
   },
   "outputs": [],
   "source": [
    "df_final = pd.concat(\n",
    "    [df_final,\n",
    "     pd.get_dummies(df_home_team_break),\n",
    "     pd.get_dummies(df_guest_team_break)\n",
    "    ], axis=1)"
   ]
  },
  {
   "cell_type": "code",
   "execution_count": 301,
   "metadata": {
    "ExecuteTime": {
     "end_time": "2019-08-16T12:50:55.354965Z",
     "start_time": "2019-08-16T12:50:55.320972Z"
    }
   },
   "outputs": [
    {
     "data": {
      "text/plain": [
       "0"
      ]
     },
     "execution_count": 301,
     "metadata": {},
     "output_type": "execute_result"
    }
   ],
   "source": [
    "df_final.isna().sum().sum()"
   ]
  },
  {
   "cell_type": "code",
   "execution_count": 302,
   "metadata": {
    "ExecuteTime": {
     "end_time": "2019-08-16T12:50:55.951968Z",
     "start_time": "2019-08-16T12:50:55.903970Z"
    }
   },
   "outputs": [
    {
     "name": "stdout",
     "output_type": "stream",
     "text": [
      "<class 'pandas.core.frame.DataFrame'>\n",
      "RangeIndex: 5067 entries, 0 to 5066\n",
      "Data columns (total 73 columns):\n",
      "competition                     5067 non-null object\n",
      "saison                          5067 non-null object\n",
      "gameday                         5067 non-null object\n",
      "date                            5067 non-null datetime64[ns]\n",
      "home_team_name                  5067 non-null object\n",
      "guest_team_name                 5067 non-null object\n",
      "home_coach                      5067 non-null object\n",
      "home_game_system                5067 non-null object\n",
      "home_team_id                    5067 non-null int64\n",
      "guest_coach                     5067 non-null object\n",
      "guest_game_system               5067 non-null object\n",
      "guest_team_id                   5067 non-null int64\n",
      "time                            5067 non-null object\n",
      "viewers                         5067 non-null int64\n",
      "weekday                         5067 non-null object\n",
      "day                             5067 non-null object\n",
      "month                           5067 non-null object\n",
      "year                            5067 non-null object\n",
      "home_team_break                 5067 non-null object\n",
      "guest_team_break                5067 non-null object\n",
      "resultNumeric                   5067 non-null int64\n",
      "homeTotalGoalsShoot             5067 non-null float64\n",
      "homeTotalGoalsReceived          5067 non-null float64\n",
      "homeTotalGoalDiff               5067 non-null float64\n",
      "guestTotalGoalsShoot            5067 non-null float64\n",
      "guestTotalGoalsReceived         5067 non-null float64\n",
      "guestTotalGoalDiff              5067 non-null float64\n",
      "homeTeamGoalsShootAtHome        5067 non-null float64\n",
      "homeTeamGoalsReceivedAtHome     5067 non-null float64\n",
      "homeTeamGoalsDiffAtHome         5067 non-null float64\n",
      "homeTeamGoalsShootAway          5067 non-null float64\n",
      "homeTeamGoalsReceivedAway       5067 non-null float64\n",
      "homeTeamGoalsDiffAway           5067 non-null float64\n",
      "guestTeamGoalsShootAtHome       5067 non-null float64\n",
      "guestTeamGoalsReceivedAtHome    5067 non-null float64\n",
      "guestTeamGoalsDiffAtHome        5067 non-null float64\n",
      "guestTeamGoalsShootAway         5067 non-null float64\n",
      "guestTeamGoalsReceivedAway      5067 non-null float64\n",
      "guestTeamGoalsDiffAway          5067 non-null float64\n",
      "hoamAvgPoints                   5067 non-null float64\n",
      "guestAvgpoints                  5067 non-null float64\n",
      "htb_0                           5067 non-null uint8\n",
      "htb_2                           5067 non-null uint8\n",
      "htb_3                           5067 non-null uint8\n",
      "htb_4                           5067 non-null uint8\n",
      "htb_5                           5067 non-null uint8\n",
      "htb_6                           5067 non-null uint8\n",
      "htb_7                           5067 non-null uint8\n",
      "htb_8                           5067 non-null uint8\n",
      "htb_9                           5067 non-null uint8\n",
      "htb_10                          5067 non-null uint8\n",
      "htb_11                          5067 non-null uint8\n",
      "htb_12                          5067 non-null uint8\n",
      "htb_13                          5067 non-null uint8\n",
      "htb_14                          5067 non-null uint8\n",
      "htb_15                          5067 non-null uint8\n",
      "htb_>15                         5067 non-null uint8\n",
      "gtb_0                           5067 non-null uint8\n",
      "gtb_2                           5067 non-null uint8\n",
      "gtb_3                           5067 non-null uint8\n",
      "gtb_4                           5067 non-null uint8\n",
      "gtb_5                           5067 non-null uint8\n",
      "gtb_6                           5067 non-null uint8\n",
      "gtb_7                           5067 non-null uint8\n",
      "gtb_8                           5067 non-null uint8\n",
      "gtb_9                           5067 non-null uint8\n",
      "gtb_10                          5067 non-null uint8\n",
      "gtb_11                          5067 non-null uint8\n",
      "gtb_12                          5067 non-null uint8\n",
      "gtb_13                          5067 non-null uint8\n",
      "gtb_14                          5067 non-null uint8\n",
      "gtb_15                          5067 non-null uint8\n",
      "gtb_>15                         5067 non-null uint8\n",
      "dtypes: datetime64[ns](1), float64(20), int64(4), object(16), uint8(32)\n",
      "memory usage: 1.7+ MB\n"
     ]
    }
   ],
   "source": [
    "df_final.info()"
   ]
  },
  {
   "cell_type": "code",
   "execution_count": 303,
   "metadata": {
    "ExecuteTime": {
     "end_time": "2019-08-16T12:51:10.158258Z",
     "start_time": "2019-08-16T12:51:06.799390Z"
    }
   },
   "outputs": [
    {
     "data": {
      "image/png": "[encoded data removed]",
      "text/plain": [
       "<Figure size 1728x1728 with 2 Axes>"
      ]
     },
     "metadata": {
      "needs_background": "light"
     },
     "output_type": "display_data"
    }
   ],
   "source": [
    "plt.figure(figsize=(24, 24))\n",
    "sns.heatmap(df_final.corr(), square=True, cmap=\"YlGnBu\")\n",
    "plt.show()"
   ]
  },
  {
   "cell_type": "code",
   "execution_count": 304,
   "metadata": {
    "ExecuteTime": {
     "end_time": "2019-08-16T12:52:27.243674Z",
     "start_time": "2019-08-16T12:52:26.601371Z"
    }
   },
   "outputs": [],
   "source": [
    "df_final.to_csv('df_final.csv')"
   ]
  },
  {
   "cell_type": "code",
   "execution_count": null,
   "metadata": {},
   "outputs": [],
   "source": []
  }
 ],
 "metadata": {
  "kernelspec": {
   "display_name": "Python 3",
   "language": "python",
   "name": "python3"
  },
  "language_info": {
   "codemirror_mode": {
    "name": "ipython",
    "version": 3
   },
   "file_extension": ".py",
   "mimetype": "text/x-python",
   "name": "python",
   "nbconvert_exporter": "python",
   "pygments_lexer": "ipython3",
   "version": "3.7.3"
  }
 },
 "nbformat": 4,
 "nbformat_minor": 2
}
