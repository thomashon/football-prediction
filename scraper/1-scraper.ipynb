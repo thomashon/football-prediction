{
 "cells": [
  {
   "cell_type": "code",
   "execution_count": 46,
   "metadata": {
    "ExecuteTime": {
     "end_time": "2019-08-16T21:45:16.168894Z",
     "start_time": "2019-08-16T21:45:16.161890Z"
    }
   },
   "outputs": [],
   "source": [
    "import requests\n",
    "from bs4 import BeautifulSoup\n",
    "from os.path  import basename\n",
    "import time as t\n",
    "from random import randrange as rr\n",
    "import json\n",
    "import numpy as np\n",
    "import pandas as pd\n",
    "import hashlib"
   ]
  },
  {
   "cell_type": "code",
   "execution_count": 47,
   "metadata": {
    "ExecuteTime": {
     "end_time": "2019-08-16T21:45:16.512894Z",
     "start_time": "2019-08-16T21:45:16.507891Z"
    }
   },
   "outputs": [],
   "source": [
    "headers = {'User-Agent': \n",
    "           'Mozilla/5.0 (X11; Linux x86_64) AppleWebKit/537.36 (KHTML, like Gecko) Chrome/47.0.2526.106 Safari/537.36'}"
   ]
  },
  {
   "cell_type": "code",
   "execution_count": 48,
   "metadata": {
    "ExecuteTime": {
     "end_time": "2019-08-16T21:45:16.776889Z",
     "start_time": "2019-08-16T21:45:16.772894Z"
    }
   },
   "outputs": [],
   "source": [
    "# season_list = [x for x in range(2010, 2019)]\n",
    "# season_list"
   ]
  },
  {
   "cell_type": "code",
   "execution_count": 49,
   "metadata": {
    "ExecuteTime": {
     "end_time": "2019-08-16T21:45:17.128894Z",
     "start_time": "2019-08-16T21:45:17.123890Z"
    }
   },
   "outputs": [],
   "source": [
    "# season_list = [x for x in range(2010, 2019)]\n",
    "\n",
    "# for season in season_list:\n",
    "#     page = 'https://www.transfermarkt.at/bundesliga/startseite/wettbewerb/A1/plus/?saison_id=' + str(season)\n",
    "\n",
    "#     # beginn der Zeitmessung und übergabe des html dokuments\n",
    "#     start = t.time()\n",
    "#     tree = requests.get(page, headers = headers)\n",
    "#     soup = BeautifulSoup(tree.content, 'html.parser')\n",
    "    \n",
    "#     club_list = []\n",
    "\n",
    "\n",
    "#     for i in range(len(soup.select('a.vereinprofil_tooltip'))):\n",
    "#         try:\n",
    "#             club_list.append(soup.select('a.vereinprofil_tooltip')[i].attrs['id'])\n",
    "#         except: KeyError\n",
    "\n",
    "#     club_list = list(set(club_list))\n",
    "#     print(club_list)\n",
    "#     t.sleep(3)"
   ]
  },
  {
   "cell_type": "code",
   "execution_count": 50,
   "metadata": {
    "ExecuteTime": {
     "end_time": "2019-08-16T21:45:17.564881Z",
     "start_time": "2019-08-16T21:45:17.559880Z"
    }
   },
   "outputs": [],
   "source": [
    "# club_list = []\n",
    "\n",
    "\n",
    "# for i in range(len(soup.select('a.vereinprofil_tooltip'))):\n",
    "#     try:\n",
    "#         club_list.append(soup.select('a.vereinprofil_tooltip')[i].attrs['id'])\n",
    "#     except: KeyError\n",
    "        \n",
    "# club_list = list(set(club_list))\n",
    "# print(club_list)"
   ]
  },
  {
   "cell_type": "code",
   "execution_count": 51,
   "metadata": {
    "ExecuteTime": {
     "end_time": "2019-08-16T21:45:17.970889Z",
     "start_time": "2019-08-16T21:45:17.958889Z"
    }
   },
   "outputs": [],
   "source": [
    "# page = 'https://www.transfermarkt.at/red-bull-salzburg/spielplan/verein/2662/saison_id/2018/plus/1'\n",
    "\n",
    "\n",
    "# # beginn der Zeitmessung und übergabe des html dokuments\n",
    "# start = t.time()\n",
    "# tree = requests.get(page, headers = headers)\n",
    "# soup = BeautifulSoup(tree.content, 'html.parser')\n"
   ]
  },
  {
   "cell_type": "code",
   "execution_count": 52,
   "metadata": {
    "ExecuteTime": {
     "end_time": "2019-08-16T21:46:29.047787Z",
     "start_time": "2019-08-16T21:45:19.834053Z"
    },
    "scrolled": true
   },
   "outputs": [
    {
     "name": "stdout",
     "output_type": "stream",
     "text": [
      "413\n",
      "2446\n",
      "3551\n",
      "533\n",
      "14\n",
      "503\n",
      "409\n",
      "2662\n",
      "4467\n",
      "4441\n",
      "856\n",
      "122\n",
      "170\n"
     ]
    }
   ],
   "source": [
    "game_list = []\n",
    "season_list = [x for x in range(2009, 2019)]\n",
    "\n",
    "\n",
    "# for season in season_list:\n",
    "#     print(season)\n",
    "#     t.sleep(1)\n",
    "season = 2019\n",
    "page_league = 'https://www.transfermarkt.at/bundesliga/startseite/wettbewerb/A1/plus/?saison_id=' + str(season)\n",
    "\n",
    "tree = requests.get(page_league, headers = headers)\n",
    "soup = BeautifulSoup(tree.content, 'html.parser')\n",
    "\n",
    "club_list = []\n",
    "\n",
    "\n",
    "for i in range(len(soup.select('a.vereinprofil_tooltip'))):\n",
    "    try:\n",
    "        club_list.append(soup.select('a.vereinprofil_tooltip')[i].attrs['id'])\n",
    "    except: KeyError\n",
    "\n",
    "club_list = list(set(club_list))\n",
    "\n",
    "\n",
    "for club in club_list:\n",
    "    print(club)\n",
    "    t.sleep(3)\n",
    "    page_club = 'https://www.transfermarkt.at/red-bull-salzburg/spielplan/verein/' + str(club) + '/saison_id/' + str(season) + '/plus/1'\n",
    "    # beginn der Zeitmessung und übergabe des html dokuments\n",
    "    start = t.time()\n",
    "    tree = requests.get(page_club, headers = headers)\n",
    "    soup = BeautifulSoup(tree.content, 'html.parser')\n",
    "\n",
    "\n",
    "    for i in range(4, len(soup.select('div.box'))):\n",
    "        box = soup.select('div.box')[i]\n",
    "        competition = soup.select('div.box')[i]('div')[0]('img')[0].attrs['alt']\n",
    "        saison = str(season) + '/' + str(int(str(season)[-2:])+1)\n",
    "\n",
    "        for j in range(1, len(box.select('tr'))):\n",
    "            line = box.select('tr')[j]\n",
    "\n",
    "            gameday = line.select('td')[0].get_text().strip()\n",
    "            date = line.select('td')[1].get_text()\n",
    "            time = line.select('td')[2].get_text()\n",
    "            home_team_id = line.select('td')[3]('a')[0].attrs['id']\n",
    "            home_team_name = line.select('td')[3]('img')[0].attrs['alt']\n",
    "            guest_team_id = line.select('td')[5]('a')[0].attrs['id']\n",
    "            guest_team_name = line.select('td')[5]('img')[0].attrs['alt']\n",
    "\n",
    "            if club == home_team_id:\n",
    "                home_coach = line.select('td')[8].get_text()\n",
    "                guest_coach = ''\n",
    "                home_game_system = line.select('td')[7].get_text()\n",
    "                guest_game_system = ''\n",
    "            else:\n",
    "                home_coach = ''\n",
    "                guest_coach = line.select('td')[8].get_text()\n",
    "                home_game_system = ''\n",
    "                guest_game_system = line.select('td')[7].get_text()\n",
    "\n",
    "            try:\n",
    "                viewers = int(line.select('td')[9].get_text().replace('.', ''))\n",
    "            except:\n",
    "                viewers = 0\n",
    "            result = line.select('td')[10].get_text().strip()\n",
    "\n",
    "            hash = hashlib.sha256()\n",
    "            hash.update(bytes(str(viewers), 'utf-8'))\n",
    "            hash.update(bytes(str(result), 'utf-8'))\n",
    "            hash.update(bytes(str(date), 'utf-8'))\n",
    "            hash.update(bytes(str(time), 'utf-8'))\n",
    "\n",
    "            game_list.append({\n",
    "                'saison': saison,\n",
    "                'competition': competition,\n",
    "                'gameday': gameday,\n",
    "                'date': date,\n",
    "                'time': time,\n",
    "                'home_team_id': home_team_id,\n",
    "                'home_team_name': home_team_name,\n",
    "                'guest_team_id': guest_team_id,\n",
    "                'guest_team_name': guest_team_name,\n",
    "                'home_game_system': home_game_system,\n",
    "                'guest_game_system': guest_game_system,\n",
    "                'home_coach': home_coach,\n",
    "                'guest_coach': guest_coach,\n",
    "                'viewers': viewers,\n",
    "                'result': result,\n",
    "                \"identifier\": hash.hexdigest()\n",
    "            })\n",
    "\n",
    "            #print(game_list[-1])"
   ]
  },
  {
   "cell_type": "code",
   "execution_count": 53,
   "metadata": {
    "ExecuteTime": {
     "end_time": "2019-08-16T21:46:31.480472Z",
     "start_time": "2019-08-16T21:46:31.471464Z"
    }
   },
   "outputs": [
    {
     "data": {
      "text/plain": [
       "({'saison': '2019/20',\n",
       "  'competition': 'UEFA Champions League-Qualifikation',\n",
       "  'gameday': '3.Runde Hinspiele',\n",
       "  'date': 'Mi. 07.08.2019',\n",
       "  'time': '20:00',\n",
       "  'home_team_id': '26',\n",
       "  'home_team_name': 'FC Basel 1893',\n",
       "  'guest_team_id': '413',\n",
       "  'guest_team_name': 'LASK',\n",
       "  'home_game_system': '',\n",
       "  'guest_game_system': '3-4-3 flach',\n",
       "  'home_coach': '',\n",
       "  'guest_coach': 'Valérien Ismaël',\n",
       "  'viewers': 20470,\n",
       "  'result': '1:2',\n",
       "  'identifier': '090fd19b5b696a68fc0a37294f0eb6be442a189c4ea3b22f14bb02542245b13a'},\n",
       " 296)"
      ]
     },
     "execution_count": 53,
     "metadata": {},
     "output_type": "execute_result"
    }
   ],
   "source": [
    "game_list[0], len(game_list)"
   ]
  },
  {
   "cell_type": "code",
   "execution_count": 54,
   "metadata": {
    "ExecuteTime": {
     "end_time": "2019-08-16T21:46:45.125414Z",
     "start_time": "2019-08-16T21:46:45.110416Z"
    }
   },
   "outputs": [],
   "source": [
    "df = pd.DataFrame(game_list)"
   ]
  },
  {
   "cell_type": "code",
   "execution_count": 55,
   "metadata": {
    "ExecuteTime": {
     "end_time": "2019-08-16T21:46:45.825018Z",
     "start_time": "2019-08-16T21:46:45.786018Z"
    }
   },
   "outputs": [
    {
     "data": {
      "text/html": [
       "<div>\n",
       "<style scoped>\n",
       "    .dataframe tbody tr th:only-of-type {\n",
       "        vertical-align: middle;\n",
       "    }\n",
       "\n",
       "    .dataframe tbody tr th {\n",
       "        vertical-align: top;\n",
       "    }\n",
       "\n",
       "    .dataframe thead th {\n",
       "        text-align: right;\n",
       "    }\n",
       "</style>\n",
       "<table border=\"1\" class=\"dataframe\">\n",
       "  <thead>\n",
       "    <tr style=\"text-align: right;\">\n",
       "      <th></th>\n",
       "      <th>competition</th>\n",
       "      <th>date</th>\n",
       "      <th>gameday</th>\n",
       "      <th>guest_coach</th>\n",
       "      <th>guest_game_system</th>\n",
       "      <th>guest_team_id</th>\n",
       "      <th>guest_team_name</th>\n",
       "      <th>home_coach</th>\n",
       "      <th>home_game_system</th>\n",
       "      <th>home_team_id</th>\n",
       "      <th>home_team_name</th>\n",
       "      <th>identifier</th>\n",
       "      <th>result</th>\n",
       "      <th>saison</th>\n",
       "      <th>time</th>\n",
       "      <th>viewers</th>\n",
       "    </tr>\n",
       "  </thead>\n",
       "  <tbody>\n",
       "    <tr>\n",
       "      <th>0</th>\n",
       "      <td>UEFA Champions League-Qualifikation</td>\n",
       "      <td>Mi. 07.08.2019</td>\n",
       "      <td>3.Runde Hinspiele</td>\n",
       "      <td>Valérien Ismaël</td>\n",
       "      <td>3-4-3 flach</td>\n",
       "      <td>413</td>\n",
       "      <td>LASK</td>\n",
       "      <td></td>\n",
       "      <td></td>\n",
       "      <td>26</td>\n",
       "      <td>FC Basel 1893</td>\n",
       "      <td>090fd19b5b696a68fc0a37294f0eb6be442a189c4ea3b2...</td>\n",
       "      <td>1:2</td>\n",
       "      <td>2019/20</td>\n",
       "      <td>20:00</td>\n",
       "      <td>20470</td>\n",
       "    </tr>\n",
       "    <tr>\n",
       "      <th>1</th>\n",
       "      <td>UEFA Champions League-Qualifikation</td>\n",
       "      <td>Di. 13.08.2019</td>\n",
       "      <td>3.Runde Rückspiele</td>\n",
       "      <td></td>\n",
       "      <td></td>\n",
       "      <td>26</td>\n",
       "      <td>FC Basel 1893</td>\n",
       "      <td>Valérien Ismaël</td>\n",
       "      <td>3-4-3 flach</td>\n",
       "      <td>413</td>\n",
       "      <td>LASK</td>\n",
       "      <td>61a29314c1f03bbc31f67e84ff679cf4dd5d6d72ae14d9...</td>\n",
       "      <td>3:1</td>\n",
       "      <td>2019/20</td>\n",
       "      <td>20:30</td>\n",
       "      <td>14000</td>\n",
       "    </tr>\n",
       "    <tr>\n",
       "      <th>2</th>\n",
       "      <td>UEFA Champions League-Qualifikation</td>\n",
       "      <td>Di. 20.08.2019</td>\n",
       "      <td>Qualifikationsrunde - Hinspiele</td>\n",
       "      <td></td>\n",
       "      <td></td>\n",
       "      <td>2282</td>\n",
       "      <td>FC Brügge</td>\n",
       "      <td></td>\n",
       "      <td></td>\n",
       "      <td>413</td>\n",
       "      <td>LASK</td>\n",
       "      <td>fa118ca2c8e433414495b7514b87c7d671dca40feb4744...</td>\n",
       "      <td>-:-</td>\n",
       "      <td>2019/20</td>\n",
       "      <td>21:00</td>\n",
       "      <td>0</td>\n",
       "    </tr>\n",
       "    <tr>\n",
       "      <th>3</th>\n",
       "      <td>UEFA Champions League-Qualifikation</td>\n",
       "      <td>Mi. 28.08.2019</td>\n",
       "      <td>Qualifikationsrunde - Rückspiele</td>\n",
       "      <td></td>\n",
       "      <td></td>\n",
       "      <td>413</td>\n",
       "      <td>LASK</td>\n",
       "      <td></td>\n",
       "      <td></td>\n",
       "      <td>2282</td>\n",
       "      <td>FC Brügge</td>\n",
       "      <td>f266fa0ac1906590f1f659cb521c2130358bb0e184fc32...</td>\n",
       "      <td>-:-</td>\n",
       "      <td>2019/20</td>\n",
       "      <td>-</td>\n",
       "      <td>0</td>\n",
       "    </tr>\n",
       "    <tr>\n",
       "      <th>4</th>\n",
       "      <td>Bundesliga</td>\n",
       "      <td>So. 28.07.2019</td>\n",
       "      <td>1</td>\n",
       "      <td></td>\n",
       "      <td></td>\n",
       "      <td>3551</td>\n",
       "      <td>SC Rheindorf Altach</td>\n",
       "      <td>Valérien Ismaël</td>\n",
       "      <td>3-4-3 flach</td>\n",
       "      <td>413</td>\n",
       "      <td>LASK</td>\n",
       "      <td>b6bb3e2fe81cb2a977fbe7669384ce4cd4a0cdd6f2cc75...</td>\n",
       "      <td>2:0</td>\n",
       "      <td>2019/20</td>\n",
       "      <td>17:00</td>\n",
       "      <td>5333</td>\n",
       "    </tr>\n",
       "  </tbody>\n",
       "</table>\n",
       "</div>"
      ],
      "text/plain": [
       "                           competition            date  \\\n",
       "0  UEFA Champions League-Qualifikation  Mi. 07.08.2019   \n",
       "1  UEFA Champions League-Qualifikation  Di. 13.08.2019   \n",
       "2  UEFA Champions League-Qualifikation  Di. 20.08.2019   \n",
       "3  UEFA Champions League-Qualifikation  Mi. 28.08.2019   \n",
       "4                           Bundesliga  So. 28.07.2019   \n",
       "\n",
       "                            gameday      guest_coach guest_game_system  \\\n",
       "0                 3.Runde Hinspiele  Valérien Ismaël       3-4-3 flach   \n",
       "1                3.Runde Rückspiele                                      \n",
       "2   Qualifikationsrunde - Hinspiele                                      \n",
       "3  Qualifikationsrunde - Rückspiele                                      \n",
       "4                                 1                                      \n",
       "\n",
       "  guest_team_id      guest_team_name       home_coach home_game_system  \\\n",
       "0           413                 LASK                                     \n",
       "1            26        FC Basel 1893  Valérien Ismaël      3-4-3 flach   \n",
       "2          2282            FC Brügge                                     \n",
       "3           413                 LASK                                     \n",
       "4          3551  SC Rheindorf Altach  Valérien Ismaël      3-4-3 flach   \n",
       "\n",
       "  home_team_id home_team_name  \\\n",
       "0           26  FC Basel 1893   \n",
       "1          413           LASK   \n",
       "2          413           LASK   \n",
       "3         2282      FC Brügge   \n",
       "4          413           LASK   \n",
       "\n",
       "                                          identifier result   saison   time  \\\n",
       "0  090fd19b5b696a68fc0a37294f0eb6be442a189c4ea3b2...    1:2  2019/20  20:00   \n",
       "1  61a29314c1f03bbc31f67e84ff679cf4dd5d6d72ae14d9...    3:1  2019/20  20:30   \n",
       "2  fa118ca2c8e433414495b7514b87c7d671dca40feb4744...    -:-  2019/20  21:00   \n",
       "3  f266fa0ac1906590f1f659cb521c2130358bb0e184fc32...    -:-  2019/20      -   \n",
       "4  b6bb3e2fe81cb2a977fbe7669384ce4cd4a0cdd6f2cc75...    2:0  2019/20  17:00   \n",
       "\n",
       "   viewers  \n",
       "0    20470  \n",
       "1    14000  \n",
       "2        0  \n",
       "3        0  \n",
       "4     5333  "
      ]
     },
     "execution_count": 55,
     "metadata": {},
     "output_type": "execute_result"
    }
   ],
   "source": [
    "df.head()"
   ]
  },
  {
   "cell_type": "code",
   "execution_count": 56,
   "metadata": {
    "ExecuteTime": {
     "end_time": "2019-08-16T21:46:46.204007Z",
     "start_time": "2019-08-16T21:46:46.161018Z"
    }
   },
   "outputs": [
    {
     "data": {
      "text/html": [
       "<div>\n",
       "<style scoped>\n",
       "    .dataframe tbody tr th:only-of-type {\n",
       "        vertical-align: middle;\n",
       "    }\n",
       "\n",
       "    .dataframe tbody tr th {\n",
       "        vertical-align: top;\n",
       "    }\n",
       "\n",
       "    .dataframe thead th {\n",
       "        text-align: right;\n",
       "    }\n",
       "</style>\n",
       "<table border=\"1\" class=\"dataframe\">\n",
       "  <thead>\n",
       "    <tr style=\"text-align: right;\">\n",
       "      <th></th>\n",
       "      <th>competition</th>\n",
       "      <th>date</th>\n",
       "      <th>gameday</th>\n",
       "      <th>guest_coach</th>\n",
       "      <th>guest_game_system</th>\n",
       "      <th>guest_team_id</th>\n",
       "      <th>guest_team_name</th>\n",
       "      <th>home_coach</th>\n",
       "      <th>home_game_system</th>\n",
       "      <th>home_team_id</th>\n",
       "      <th>home_team_name</th>\n",
       "      <th>identifier</th>\n",
       "      <th>result</th>\n",
       "      <th>saison</th>\n",
       "      <th>time</th>\n",
       "      <th>viewers</th>\n",
       "    </tr>\n",
       "  </thead>\n",
       "  <tbody>\n",
       "    <tr>\n",
       "      <th>291</th>\n",
       "      <td>Bundesliga</td>\n",
       "      <td>Sa. 22.02.2020</td>\n",
       "      <td>20</td>\n",
       "      <td></td>\n",
       "      <td></td>\n",
       "      <td>170</td>\n",
       "      <td>SK Rapid Wien</td>\n",
       "      <td></td>\n",
       "      <td></td>\n",
       "      <td>4467</td>\n",
       "      <td>TSV Hartberg</td>\n",
       "      <td>87700720a3a9a35297b237099fdf11ce27ede0c3ebf926...</td>\n",
       "      <td>-:-</td>\n",
       "      <td>2019/20</td>\n",
       "      <td>-</td>\n",
       "      <td>0</td>\n",
       "    </tr>\n",
       "    <tr>\n",
       "      <th>292</th>\n",
       "      <td>Bundesliga</td>\n",
       "      <td>Sa. 29.02.2020</td>\n",
       "      <td>21</td>\n",
       "      <td></td>\n",
       "      <td></td>\n",
       "      <td>856</td>\n",
       "      <td>SV Mattersburg</td>\n",
       "      <td></td>\n",
       "      <td></td>\n",
       "      <td>170</td>\n",
       "      <td>SK Rapid Wien</td>\n",
       "      <td>16f28d70f833486bc5e0c35888d8c08bd913ea0b0831a9...</td>\n",
       "      <td>-:-</td>\n",
       "      <td>2019/20</td>\n",
       "      <td>-</td>\n",
       "      <td>0</td>\n",
       "    </tr>\n",
       "    <tr>\n",
       "      <th>293</th>\n",
       "      <td>Bundesliga</td>\n",
       "      <td>Sa. 07.03.2020</td>\n",
       "      <td>22</td>\n",
       "      <td></td>\n",
       "      <td></td>\n",
       "      <td>170</td>\n",
       "      <td>SK Rapid Wien</td>\n",
       "      <td></td>\n",
       "      <td></td>\n",
       "      <td>4441</td>\n",
       "      <td>Wolfsberger AC</td>\n",
       "      <td>ffb0b5b6f91012eb40b40f6fe4d979084566905e179e10...</td>\n",
       "      <td>-:-</td>\n",
       "      <td>2019/20</td>\n",
       "      <td>-</td>\n",
       "      <td>0</td>\n",
       "    </tr>\n",
       "    <tr>\n",
       "      <th>294</th>\n",
       "      <td>ÖFB-Cup</td>\n",
       "      <td>So. 21.07.2019</td>\n",
       "      <td>1.Runde</td>\n",
       "      <td>Dietmar Kühbauer</td>\n",
       "      <td>3-5-2</td>\n",
       "      <td>170</td>\n",
       "      <td>SK Rapid Wien</td>\n",
       "      <td></td>\n",
       "      <td></td>\n",
       "      <td>10281</td>\n",
       "      <td>SV Allerheiligen</td>\n",
       "      <td>9fec2e29c0f745ff082828358d1a6ec353a92117d17ce9...</td>\n",
       "      <td>1:9</td>\n",
       "      <td>2019/20</td>\n",
       "      <td>17:15</td>\n",
       "      <td>2200</td>\n",
       "    </tr>\n",
       "    <tr>\n",
       "      <th>295</th>\n",
       "      <td>ÖFB-Cup</td>\n",
       "      <td>Mi. 25.09.2019</td>\n",
       "      <td>2.Runde</td>\n",
       "      <td></td>\n",
       "      <td></td>\n",
       "      <td>409</td>\n",
       "      <td>Red Bull Salzburg</td>\n",
       "      <td></td>\n",
       "      <td></td>\n",
       "      <td>170</td>\n",
       "      <td>SK Rapid Wien</td>\n",
       "      <td>da5a424a25775d57cf1f178a0ab807e7d4ddcad34da675...</td>\n",
       "      <td>-:-</td>\n",
       "      <td>2019/20</td>\n",
       "      <td>20:45</td>\n",
       "      <td>0</td>\n",
       "    </tr>\n",
       "  </tbody>\n",
       "</table>\n",
       "</div>"
      ],
      "text/plain": [
       "    competition            date  gameday       guest_coach guest_game_system  \\\n",
       "291  Bundesliga  Sa. 22.02.2020       20                                       \n",
       "292  Bundesliga  Sa. 29.02.2020       21                                       \n",
       "293  Bundesliga  Sa. 07.03.2020       22                                       \n",
       "294     ÖFB-Cup  So. 21.07.2019  1.Runde  Dietmar Kühbauer             3-5-2   \n",
       "295     ÖFB-Cup  Mi. 25.09.2019  2.Runde                                       \n",
       "\n",
       "    guest_team_id    guest_team_name home_coach home_game_system home_team_id  \\\n",
       "291           170      SK Rapid Wien                                     4467   \n",
       "292           856     SV Mattersburg                                      170   \n",
       "293           170      SK Rapid Wien                                     4441   \n",
       "294           170      SK Rapid Wien                                    10281   \n",
       "295           409  Red Bull Salzburg                                      170   \n",
       "\n",
       "       home_team_name                                         identifier  \\\n",
       "291      TSV Hartberg  87700720a3a9a35297b237099fdf11ce27ede0c3ebf926...   \n",
       "292     SK Rapid Wien  16f28d70f833486bc5e0c35888d8c08bd913ea0b0831a9...   \n",
       "293    Wolfsberger AC  ffb0b5b6f91012eb40b40f6fe4d979084566905e179e10...   \n",
       "294  SV Allerheiligen  9fec2e29c0f745ff082828358d1a6ec353a92117d17ce9...   \n",
       "295     SK Rapid Wien  da5a424a25775d57cf1f178a0ab807e7d4ddcad34da675...   \n",
       "\n",
       "    result   saison   time  viewers  \n",
       "291    -:-  2019/20      -        0  \n",
       "292    -:-  2019/20      -        0  \n",
       "293    -:-  2019/20      -        0  \n",
       "294    1:9  2019/20  17:15     2200  \n",
       "295    -:-  2019/20  20:45        0  "
      ]
     },
     "execution_count": 56,
     "metadata": {},
     "output_type": "execute_result"
    }
   ],
   "source": [
    "df.tail()"
   ]
  },
  {
   "cell_type": "code",
   "execution_count": 57,
   "metadata": {
    "ExecuteTime": {
     "end_time": "2019-08-16T21:46:46.587011Z",
     "start_time": "2019-08-16T21:46:46.543017Z"
    }
   },
   "outputs": [
    {
     "data": {
      "text/html": [
       "<div>\n",
       "<style scoped>\n",
       "    .dataframe tbody tr th:only-of-type {\n",
       "        vertical-align: middle;\n",
       "    }\n",
       "\n",
       "    .dataframe tbody tr th {\n",
       "        vertical-align: top;\n",
       "    }\n",
       "\n",
       "    .dataframe thead th {\n",
       "        text-align: right;\n",
       "    }\n",
       "</style>\n",
       "<table border=\"1\" class=\"dataframe\">\n",
       "  <thead>\n",
       "    <tr style=\"text-align: right;\">\n",
       "      <th></th>\n",
       "      <th>competition</th>\n",
       "      <th>date</th>\n",
       "      <th>gameday</th>\n",
       "      <th>guest_coach</th>\n",
       "      <th>guest_game_system</th>\n",
       "      <th>guest_team_id</th>\n",
       "      <th>guest_team_name</th>\n",
       "      <th>home_coach</th>\n",
       "      <th>home_game_system</th>\n",
       "      <th>home_team_id</th>\n",
       "      <th>home_team_name</th>\n",
       "      <th>identifier</th>\n",
       "      <th>result</th>\n",
       "      <th>saison</th>\n",
       "      <th>time</th>\n",
       "      <th>viewers</th>\n",
       "    </tr>\n",
       "  </thead>\n",
       "  <tbody>\n",
       "    <tr>\n",
       "      <th>76</th>\n",
       "      <td>DFB-Pokal</td>\n",
       "      <td>Sa. 10.08.2019</td>\n",
       "      <td>1.Runde</td>\n",
       "      <td>Alfred Schreuder</td>\n",
       "      <td>3-4-1-2</td>\n",
       "      <td>533</td>\n",
       "      <td>TSG 1899 Hoffenheim</td>\n",
       "      <td></td>\n",
       "      <td></td>\n",
       "      <td>1557</td>\n",
       "      <td>Würzburger Kickers</td>\n",
       "      <td>172e9256d7fc872af69a3a42369fcd6ced39f717a0b15b...</td>\n",
       "      <td>7:8  n.E.</td>\n",
       "      <td>2019/20</td>\n",
       "      <td>18:30</td>\n",
       "      <td>13090</td>\n",
       "    </tr>\n",
       "    <tr>\n",
       "      <th>197</th>\n",
       "      <td>ÖFB-Cup</td>\n",
       "      <td>Sa. 20.07.2019</td>\n",
       "      <td>1.Runde</td>\n",
       "      <td>Markus Schopp</td>\n",
       "      <td>4-2-3-1</td>\n",
       "      <td>4467</td>\n",
       "      <td>TSV Hartberg</td>\n",
       "      <td></td>\n",
       "      <td></td>\n",
       "      <td>18517</td>\n",
       "      <td>SC Wiener Viktoria</td>\n",
       "      <td>6476a553ed4a52e8c3b1ac99b74771d628c0c520c1b900...</td>\n",
       "      <td>7:5  n.E.</td>\n",
       "      <td>2019/20</td>\n",
       "      <td>17:30</td>\n",
       "      <td>500</td>\n",
       "    </tr>\n",
       "    <tr>\n",
       "      <th>244</th>\n",
       "      <td>ÖFB-Cup</td>\n",
       "      <td>Sa. 20.07.2019</td>\n",
       "      <td>1.Runde</td>\n",
       "      <td>Franz Ponweiser</td>\n",
       "      <td>3-5-2</td>\n",
       "      <td>856</td>\n",
       "      <td>SV Mattersburg</td>\n",
       "      <td></td>\n",
       "      <td></td>\n",
       "      <td>16802</td>\n",
       "      <td>SC Pinkafeld</td>\n",
       "      <td>0fd10beeb67e945d23ef51c47a619920477b7fff6480f0...</td>\n",
       "      <td>0:10</td>\n",
       "      <td>2019/20</td>\n",
       "      <td>17:30</td>\n",
       "      <td>650</td>\n",
       "    </tr>\n",
       "  </tbody>\n",
       "</table>\n",
       "</div>"
      ],
      "text/plain": [
       "    competition            date  gameday       guest_coach guest_game_system  \\\n",
       "76    DFB-Pokal  Sa. 10.08.2019  1.Runde  Alfred Schreuder           3-4-1-2   \n",
       "197     ÖFB-Cup  Sa. 20.07.2019  1.Runde     Markus Schopp          4-2-3-1    \n",
       "244     ÖFB-Cup  Sa. 20.07.2019  1.Runde   Franz Ponweiser             3-5-2   \n",
       "\n",
       "    guest_team_id      guest_team_name home_coach home_game_system  \\\n",
       "76            533  TSG 1899 Hoffenheim                               \n",
       "197          4467         TSV Hartberg                               \n",
       "244           856       SV Mattersburg                               \n",
       "\n",
       "    home_team_id      home_team_name  \\\n",
       "76          1557  Würzburger Kickers   \n",
       "197        18517  SC Wiener Viktoria   \n",
       "244        16802        SC Pinkafeld   \n",
       "\n",
       "                                            identifier     result   saison  \\\n",
       "76   172e9256d7fc872af69a3a42369fcd6ced39f717a0b15b...  7:8  n.E.  2019/20   \n",
       "197  6476a553ed4a52e8c3b1ac99b74771d628c0c520c1b900...  7:5  n.E.  2019/20   \n",
       "244  0fd10beeb67e945d23ef51c47a619920477b7fff6480f0...       0:10  2019/20   \n",
       "\n",
       "      time  viewers  \n",
       "76   18:30    13090  \n",
       "197  17:30      500  \n",
       "244  17:30      650  "
      ]
     },
     "execution_count": 57,
     "metadata": {},
     "output_type": "execute_result"
    }
   ],
   "source": [
    "df[df.result.str.len() > 3]"
   ]
  },
  {
   "cell_type": "code",
   "execution_count": 58,
   "metadata": {
    "ExecuteTime": {
     "end_time": "2019-08-16T21:46:46.940019Z",
     "start_time": "2019-08-16T21:46:46.929009Z"
    }
   },
   "outputs": [
    {
     "data": {
      "text/plain": [
       "'bundesliga-2009-2018'"
      ]
     },
     "execution_count": 58,
     "metadata": {},
     "output_type": "execute_result"
    }
   ],
   "source": [
    "league = page_league.split('/')[3]\n",
    "season_start = min(season_list)\n",
    "season_end = max(season_list)\n",
    "file_name = league + '-' + str(season_start) + '-' + str(season_end)\n",
    "file_name"
   ]
  },
  {
   "cell_type": "code",
   "execution_count": 59,
   "metadata": {
    "ExecuteTime": {
     "end_time": "2019-08-16T21:46:48.833102Z",
     "start_time": "2019-08-16T21:46:48.810100Z"
    }
   },
   "outputs": [],
   "source": [
    "df.to_csv(file_name + 'erste.csv')"
   ]
  },
  {
   "cell_type": "code",
   "execution_count": 15,
   "metadata": {
    "ExecuteTime": {
     "end_time": "2019-08-09T22:37:00.325108Z",
     "start_time": "2019-08-09T22:36:59.939109Z"
    }
   },
   "outputs": [],
   "source": []
  },
  {
   "cell_type": "code",
   "execution_count": 9,
   "metadata": {
    "ExecuteTime": {
     "end_time": "2019-08-16T20:28:56.420546Z",
     "start_time": "2019-08-16T20:28:56.411547Z"
    }
   },
   "outputs": [
    {
     "data": {
      "text/plain": [
       "16"
      ]
     },
     "execution_count": 9,
     "metadata": {},
     "output_type": "execute_result"
    }
   ],
   "source": []
  }
 ],
 "metadata": {
  "kernelspec": {
   "display_name": "Python 3",
   "language": "python",
   "name": "python3"
  },
  "language_info": {
   "codemirror_mode": {
    "name": "ipython",
    "version": 3
   },
   "file_extension": ".py",
   "mimetype": "text/x-python",
   "name": "python",
   "nbconvert_exporter": "python",
   "pygments_lexer": "ipython3",
   "version": "3.7.3"
  }
 },
 "nbformat": 4,
 "nbformat_minor": 2
}
