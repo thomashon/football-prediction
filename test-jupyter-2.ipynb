{
 "cells": [
  {
   "cell_type": "code",
   "execution_count": 53,
   "metadata": {
    "ExecuteTime": {
     "end_time": "2019-08-11T19:04:17.190249Z",
     "start_time": "2019-08-11T19:04:17.184250Z"
    }
   },
   "outputs": [],
   "source": [
    "import numpy as np\n",
    "import pandas as pd\n",
    "import seaborn as sns\n",
    "import matplotlib.pyplot as plt"
   ]
  },
  {
   "cell_type": "code",
   "execution_count": 54,
   "metadata": {
    "ExecuteTime": {
     "end_time": "2019-08-11T19:04:17.272241Z",
     "start_time": "2019-08-11T19:04:17.201248Z"
    }
   },
   "outputs": [],
   "source": [
    "df_org = pd.read_csv('data/df_final.csv', sep=',')"
   ]
  },
  {
   "cell_type": "code",
   "execution_count": 55,
   "metadata": {
    "ExecuteTime": {
     "end_time": "2019-08-11T19:04:17.286240Z",
     "start_time": "2019-08-11T19:04:17.278244Z"
    }
   },
   "outputs": [],
   "source": [
    "df = df_org.copy()"
   ]
  },
  {
   "cell_type": "code",
   "execution_count": 56,
   "metadata": {
    "ExecuteTime": {
     "end_time": "2019-08-11T19:04:17.309226Z",
     "start_time": "2019-08-11T19:04:17.294240Z"
    }
   },
   "outputs": [],
   "source": [
    "df = df.drop('Unnamed: 0', axis=1)"
   ]
  },
  {
   "cell_type": "code",
   "execution_count": 57,
   "metadata": {
    "ExecuteTime": {
     "end_time": "2019-08-11T19:04:17.394235Z",
     "start_time": "2019-08-11T19:04:17.323245Z"
    }
   },
   "outputs": [
    {
     "data": {
      "text/html": [
       "<div>\n",
       "<style scoped>\n",
       "    .dataframe tbody tr th:only-of-type {\n",
       "        vertical-align: middle;\n",
       "    }\n",
       "\n",
       "    .dataframe tbody tr th {\n",
       "        vertical-align: top;\n",
       "    }\n",
       "\n",
       "    .dataframe thead th {\n",
       "        text-align: right;\n",
       "    }\n",
       "</style>\n",
       "<table border=\"1\" class=\"dataframe\">\n",
       "  <thead>\n",
       "    <tr style=\"text-align: right;\">\n",
       "      <th></th>\n",
       "      <th>competition</th>\n",
       "      <th>saison</th>\n",
       "      <th>gameday</th>\n",
       "      <th>date</th>\n",
       "      <th>home_team_name</th>\n",
       "      <th>guest_team_name</th>\n",
       "      <th>home_coach</th>\n",
       "      <th>home_game_system</th>\n",
       "      <th>home_team_id</th>\n",
       "      <th>guest_coach</th>\n",
       "      <th>...</th>\n",
       "      <th>homeTeamGoalsReceivedAway</th>\n",
       "      <th>homeTeamGoalsDiffAway</th>\n",
       "      <th>guestTeamGoalsShootAtHome</th>\n",
       "      <th>guestTeamGoalsReceivedAtHome</th>\n",
       "      <th>guestTeamGoalsDiffAtHome</th>\n",
       "      <th>guestTeamGoalsShootAway</th>\n",
       "      <th>guestTeamGoalsReceivedAway</th>\n",
       "      <th>guestTeamGoalsDiffAway</th>\n",
       "      <th>hoamAvgPoints</th>\n",
       "      <th>guestAvgpoints</th>\n",
       "    </tr>\n",
       "  </thead>\n",
       "  <tbody>\n",
       "    <tr>\n",
       "      <th>0</th>\n",
       "      <td>Bundesliga</td>\n",
       "      <td>2009/10</td>\n",
       "      <td>1</td>\n",
       "      <td>2009-07-18 19:30:00</td>\n",
       "      <td>SV Kapfenberg</td>\n",
       "      <td>SV Ried</td>\n",
       "      <td>Werner Gregoritsch</td>\n",
       "      <td>4-5-1</td>\n",
       "      <td>2394</td>\n",
       "      <td>Paul Gludovatz</td>\n",
       "      <td>...</td>\n",
       "      <td>0.0</td>\n",
       "      <td>0.0</td>\n",
       "      <td>0.0</td>\n",
       "      <td>0.0</td>\n",
       "      <td>0.0</td>\n",
       "      <td>0.0</td>\n",
       "      <td>0.0</td>\n",
       "      <td>0.0</td>\n",
       "      <td>0.0</td>\n",
       "      <td>0.00</td>\n",
       "    </tr>\n",
       "    <tr>\n",
       "      <th>1</th>\n",
       "      <td>Bundesliga</td>\n",
       "      <td>2009/10</td>\n",
       "      <td>2</td>\n",
       "      <td>2009-07-25 19:30:00</td>\n",
       "      <td>SV Ried</td>\n",
       "      <td>Red Bull Salzburg</td>\n",
       "      <td>Paul Gludovatz</td>\n",
       "      <td>5-4-1</td>\n",
       "      <td>266</td>\n",
       "      <td>Huub Stevens</td>\n",
       "      <td>...</td>\n",
       "      <td>0.0</td>\n",
       "      <td>1.0</td>\n",
       "      <td>0.0</td>\n",
       "      <td>0.0</td>\n",
       "      <td>0.0</td>\n",
       "      <td>0.0</td>\n",
       "      <td>0.0</td>\n",
       "      <td>0.0</td>\n",
       "      <td>3.0</td>\n",
       "      <td>0.00</td>\n",
       "    </tr>\n",
       "    <tr>\n",
       "      <th>2</th>\n",
       "      <td>Bundesliga</td>\n",
       "      <td>2009/10</td>\n",
       "      <td>3</td>\n",
       "      <td>2009-07-31 20:30:00</td>\n",
       "      <td>SC Wiener Neustadt</td>\n",
       "      <td>SV Ried</td>\n",
       "      <td>Helmut Kraft</td>\n",
       "      <td>4-4-2</td>\n",
       "      <td>17444</td>\n",
       "      <td>Paul Gludovatz</td>\n",
       "      <td>...</td>\n",
       "      <td>0.0</td>\n",
       "      <td>0.0</td>\n",
       "      <td>1.0</td>\n",
       "      <td>0.0</td>\n",
       "      <td>1.0</td>\n",
       "      <td>1.0</td>\n",
       "      <td>0.0</td>\n",
       "      <td>1.0</td>\n",
       "      <td>0.0</td>\n",
       "      <td>3.00</td>\n",
       "    </tr>\n",
       "    <tr>\n",
       "      <th>3</th>\n",
       "      <td>Bundesliga</td>\n",
       "      <td>2009/10</td>\n",
       "      <td>4</td>\n",
       "      <td>2009-09-08 19:30:00</td>\n",
       "      <td>SV Ried</td>\n",
       "      <td>SK Rapid Wien</td>\n",
       "      <td>Paul Gludovatz</td>\n",
       "      <td>5-4-1</td>\n",
       "      <td>266</td>\n",
       "      <td>Peter Pacult</td>\n",
       "      <td>...</td>\n",
       "      <td>1.0</td>\n",
       "      <td>0.0</td>\n",
       "      <td>0.0</td>\n",
       "      <td>0.0</td>\n",
       "      <td>0.0</td>\n",
       "      <td>0.0</td>\n",
       "      <td>0.0</td>\n",
       "      <td>0.0</td>\n",
       "      <td>2.0</td>\n",
       "      <td>0.00</td>\n",
       "    </tr>\n",
       "    <tr>\n",
       "      <th>4</th>\n",
       "      <td>Bundesliga</td>\n",
       "      <td>2009/10</td>\n",
       "      <td>5</td>\n",
       "      <td>2009-08-21 20:30:00</td>\n",
       "      <td>SK Austria Kärnten</td>\n",
       "      <td>SV Ried</td>\n",
       "      <td>Frenkie Schinkels</td>\n",
       "      <td>4-5-1</td>\n",
       "      <td>11609</td>\n",
       "      <td>Paul Gludovatz</td>\n",
       "      <td>...</td>\n",
       "      <td>0.0</td>\n",
       "      <td>0.0</td>\n",
       "      <td>1.0</td>\n",
       "      <td>0.5</td>\n",
       "      <td>0.5</td>\n",
       "      <td>1.0</td>\n",
       "      <td>1.0</td>\n",
       "      <td>0.0</td>\n",
       "      <td>0.0</td>\n",
       "      <td>1.75</td>\n",
       "    </tr>\n",
       "  </tbody>\n",
       "</table>\n",
       "<p>5 rows × 39 columns</p>\n",
       "</div>"
      ],
      "text/plain": [
       "  competition   saison gameday                 date      home_team_name  \\\n",
       "0  Bundesliga  2009/10       1  2009-07-18 19:30:00       SV Kapfenberg   \n",
       "1  Bundesliga  2009/10       2  2009-07-25 19:30:00             SV Ried   \n",
       "2  Bundesliga  2009/10       3  2009-07-31 20:30:00  SC Wiener Neustadt   \n",
       "3  Bundesliga  2009/10       4  2009-09-08 19:30:00             SV Ried   \n",
       "4  Bundesliga  2009/10       5  2009-08-21 20:30:00  SK Austria Kärnten   \n",
       "\n",
       "     guest_team_name          home_coach home_game_system  home_team_id  \\\n",
       "0            SV Ried  Werner Gregoritsch            4-5-1          2394   \n",
       "1  Red Bull Salzburg      Paul Gludovatz            5-4-1           266   \n",
       "2            SV Ried        Helmut Kraft            4-4-2         17444   \n",
       "3      SK Rapid Wien      Paul Gludovatz            5-4-1           266   \n",
       "4            SV Ried   Frenkie Schinkels            4-5-1         11609   \n",
       "\n",
       "      guest_coach  ... homeTeamGoalsReceivedAway  homeTeamGoalsDiffAway  \\\n",
       "0  Paul Gludovatz  ...                       0.0                    0.0   \n",
       "1    Huub Stevens  ...                       0.0                    1.0   \n",
       "2  Paul Gludovatz  ...                       0.0                    0.0   \n",
       "3    Peter Pacult  ...                       1.0                    0.0   \n",
       "4  Paul Gludovatz  ...                       0.0                    0.0   \n",
       "\n",
       "  guestTeamGoalsShootAtHome  guestTeamGoalsReceivedAtHome  \\\n",
       "0                       0.0                           0.0   \n",
       "1                       0.0                           0.0   \n",
       "2                       1.0                           0.0   \n",
       "3                       0.0                           0.0   \n",
       "4                       1.0                           0.5   \n",
       "\n",
       "   guestTeamGoalsDiffAtHome  guestTeamGoalsShootAway  \\\n",
       "0                       0.0                      0.0   \n",
       "1                       0.0                      0.0   \n",
       "2                       1.0                      1.0   \n",
       "3                       0.0                      0.0   \n",
       "4                       0.5                      1.0   \n",
       "\n",
       "   guestTeamGoalsReceivedAway  guestTeamGoalsDiffAway  hoamAvgPoints  \\\n",
       "0                         0.0                     0.0            0.0   \n",
       "1                         0.0                     0.0            3.0   \n",
       "2                         0.0                     1.0            0.0   \n",
       "3                         0.0                     0.0            2.0   \n",
       "4                         1.0                     0.0            0.0   \n",
       "\n",
       "   guestAvgpoints  \n",
       "0            0.00  \n",
       "1            0.00  \n",
       "2            3.00  \n",
       "3            0.00  \n",
       "4            1.75  \n",
       "\n",
       "[5 rows x 39 columns]"
      ]
     },
     "execution_count": 57,
     "metadata": {},
     "output_type": "execute_result"
    }
   ],
   "source": [
    "df.head()"
   ]
  },
  {
   "cell_type": "code",
   "execution_count": 58,
   "metadata": {
    "ExecuteTime": {
     "end_time": "2019-08-11T19:04:17.410237Z",
     "start_time": "2019-08-11T19:04:17.401240Z"
    }
   },
   "outputs": [
    {
     "data": {
      "text/plain": [
       "(2509, 39)"
      ]
     },
     "execution_count": 58,
     "metadata": {},
     "output_type": "execute_result"
    }
   ],
   "source": [
    "df.shape"
   ]
  },
  {
   "cell_type": "code",
   "execution_count": 59,
   "metadata": {
    "ExecuteTime": {
     "end_time": "2019-08-11T19:04:17.435238Z",
     "start_time": "2019-08-11T19:04:17.417241Z"
    }
   },
   "outputs": [],
   "source": [
    "y_reg = df.resultNumeric\n",
    "y_cat = (pd.get_dummies(np.where(df.resultNumeric < 0, 'lost', np.where(df.resultNumeric > 0, 'won', 'draw'))))"
   ]
  },
  {
   "cell_type": "code",
   "execution_count": 60,
   "metadata": {
    "ExecuteTime": {
     "end_time": "2019-08-11T19:04:17.460230Z",
     "start_time": "2019-08-11T19:04:17.442243Z"
    }
   },
   "outputs": [
    {
     "data": {
      "text/plain": [
       "(2509, 38)"
      ]
     },
     "execution_count": 60,
     "metadata": {},
     "output_type": "execute_result"
    }
   ],
   "source": [
    "ndf = df.shape[0]\n",
    "df = df.drop(['resultNumeric'], axis=1)\n",
    "df.shape"
   ]
  },
  {
   "cell_type": "code",
   "execution_count": 62,
   "metadata": {
    "ExecuteTime": {
     "end_time": "2019-08-11T19:05:03.225481Z",
     "start_time": "2019-08-11T19:05:03.217471Z"
    }
   },
   "outputs": [
    {
     "data": {
      "text/plain": [
       "2509"
      ]
     },
     "execution_count": 62,
     "metadata": {},
     "output_type": "execute_result"
    }
   ],
   "source": [
    "ndf"
   ]
  },
  {
   "cell_type": "code",
   "execution_count": 63,
   "metadata": {
    "ExecuteTime": {
     "end_time": "2019-08-11T19:05:03.897472Z",
     "start_time": "2019-08-11T19:05:03.835475Z"
    }
   },
   "outputs": [
    {
     "data": {
      "text/html": [
       "<div>\n",
       "<style scoped>\n",
       "    .dataframe tbody tr th:only-of-type {\n",
       "        vertical-align: middle;\n",
       "    }\n",
       "\n",
       "    .dataframe tbody tr th {\n",
       "        vertical-align: top;\n",
       "    }\n",
       "\n",
       "    .dataframe thead th {\n",
       "        text-align: right;\n",
       "    }\n",
       "</style>\n",
       "<table border=\"1\" class=\"dataframe\">\n",
       "  <thead>\n",
       "    <tr style=\"text-align: right;\">\n",
       "      <th></th>\n",
       "      <th>competition</th>\n",
       "      <th>saison</th>\n",
       "      <th>gameday</th>\n",
       "      <th>date</th>\n",
       "      <th>home_team_name</th>\n",
       "      <th>guest_team_name</th>\n",
       "      <th>home_coach</th>\n",
       "      <th>home_game_system</th>\n",
       "      <th>home_team_id</th>\n",
       "      <th>guest_coach</th>\n",
       "      <th>...</th>\n",
       "      <th>homeTeamGoalsReceivedAway</th>\n",
       "      <th>homeTeamGoalsDiffAway</th>\n",
       "      <th>guestTeamGoalsShootAtHome</th>\n",
       "      <th>guestTeamGoalsReceivedAtHome</th>\n",
       "      <th>guestTeamGoalsDiffAtHome</th>\n",
       "      <th>guestTeamGoalsShootAway</th>\n",
       "      <th>guestTeamGoalsReceivedAway</th>\n",
       "      <th>guestTeamGoalsDiffAway</th>\n",
       "      <th>hoamAvgPoints</th>\n",
       "      <th>guestAvgpoints</th>\n",
       "    </tr>\n",
       "  </thead>\n",
       "  <tbody>\n",
       "    <tr>\n",
       "      <th>0</th>\n",
       "      <td>Bundesliga</td>\n",
       "      <td>2009/10</td>\n",
       "      <td>1</td>\n",
       "      <td>2009-07-18 19:30:00</td>\n",
       "      <td>SV Kapfenberg</td>\n",
       "      <td>SV Ried</td>\n",
       "      <td>Werner Gregoritsch</td>\n",
       "      <td>4-5-1</td>\n",
       "      <td>2394</td>\n",
       "      <td>Paul Gludovatz</td>\n",
       "      <td>...</td>\n",
       "      <td>0.0</td>\n",
       "      <td>0.0</td>\n",
       "      <td>0.0</td>\n",
       "      <td>0.0</td>\n",
       "      <td>0.0</td>\n",
       "      <td>0.0</td>\n",
       "      <td>0.0</td>\n",
       "      <td>0.0</td>\n",
       "      <td>0.0</td>\n",
       "      <td>0.00</td>\n",
       "    </tr>\n",
       "    <tr>\n",
       "      <th>1</th>\n",
       "      <td>Bundesliga</td>\n",
       "      <td>2009/10</td>\n",
       "      <td>2</td>\n",
       "      <td>2009-07-25 19:30:00</td>\n",
       "      <td>SV Ried</td>\n",
       "      <td>Red Bull Salzburg</td>\n",
       "      <td>Paul Gludovatz</td>\n",
       "      <td>5-4-1</td>\n",
       "      <td>266</td>\n",
       "      <td>Huub Stevens</td>\n",
       "      <td>...</td>\n",
       "      <td>0.0</td>\n",
       "      <td>1.0</td>\n",
       "      <td>0.0</td>\n",
       "      <td>0.0</td>\n",
       "      <td>0.0</td>\n",
       "      <td>0.0</td>\n",
       "      <td>0.0</td>\n",
       "      <td>0.0</td>\n",
       "      <td>3.0</td>\n",
       "      <td>0.00</td>\n",
       "    </tr>\n",
       "    <tr>\n",
       "      <th>2</th>\n",
       "      <td>Bundesliga</td>\n",
       "      <td>2009/10</td>\n",
       "      <td>3</td>\n",
       "      <td>2009-07-31 20:30:00</td>\n",
       "      <td>SC Wiener Neustadt</td>\n",
       "      <td>SV Ried</td>\n",
       "      <td>Helmut Kraft</td>\n",
       "      <td>4-4-2</td>\n",
       "      <td>17444</td>\n",
       "      <td>Paul Gludovatz</td>\n",
       "      <td>...</td>\n",
       "      <td>0.0</td>\n",
       "      <td>0.0</td>\n",
       "      <td>1.0</td>\n",
       "      <td>0.0</td>\n",
       "      <td>1.0</td>\n",
       "      <td>1.0</td>\n",
       "      <td>0.0</td>\n",
       "      <td>1.0</td>\n",
       "      <td>0.0</td>\n",
       "      <td>3.00</td>\n",
       "    </tr>\n",
       "    <tr>\n",
       "      <th>3</th>\n",
       "      <td>Bundesliga</td>\n",
       "      <td>2009/10</td>\n",
       "      <td>4</td>\n",
       "      <td>2009-09-08 19:30:00</td>\n",
       "      <td>SV Ried</td>\n",
       "      <td>SK Rapid Wien</td>\n",
       "      <td>Paul Gludovatz</td>\n",
       "      <td>5-4-1</td>\n",
       "      <td>266</td>\n",
       "      <td>Peter Pacult</td>\n",
       "      <td>...</td>\n",
       "      <td>1.0</td>\n",
       "      <td>0.0</td>\n",
       "      <td>0.0</td>\n",
       "      <td>0.0</td>\n",
       "      <td>0.0</td>\n",
       "      <td>0.0</td>\n",
       "      <td>0.0</td>\n",
       "      <td>0.0</td>\n",
       "      <td>2.0</td>\n",
       "      <td>0.00</td>\n",
       "    </tr>\n",
       "    <tr>\n",
       "      <th>4</th>\n",
       "      <td>Bundesliga</td>\n",
       "      <td>2009/10</td>\n",
       "      <td>5</td>\n",
       "      <td>2009-08-21 20:30:00</td>\n",
       "      <td>SK Austria Kärnten</td>\n",
       "      <td>SV Ried</td>\n",
       "      <td>Frenkie Schinkels</td>\n",
       "      <td>4-5-1</td>\n",
       "      <td>11609</td>\n",
       "      <td>Paul Gludovatz</td>\n",
       "      <td>...</td>\n",
       "      <td>0.0</td>\n",
       "      <td>0.0</td>\n",
       "      <td>1.0</td>\n",
       "      <td>0.5</td>\n",
       "      <td>0.5</td>\n",
       "      <td>1.0</td>\n",
       "      <td>1.0</td>\n",
       "      <td>0.0</td>\n",
       "      <td>0.0</td>\n",
       "      <td>1.75</td>\n",
       "    </tr>\n",
       "  </tbody>\n",
       "</table>\n",
       "<p>5 rows × 38 columns</p>\n",
       "</div>"
      ],
      "text/plain": [
       "  competition   saison gameday                 date      home_team_name  \\\n",
       "0  Bundesliga  2009/10       1  2009-07-18 19:30:00       SV Kapfenberg   \n",
       "1  Bundesliga  2009/10       2  2009-07-25 19:30:00             SV Ried   \n",
       "2  Bundesliga  2009/10       3  2009-07-31 20:30:00  SC Wiener Neustadt   \n",
       "3  Bundesliga  2009/10       4  2009-09-08 19:30:00             SV Ried   \n",
       "4  Bundesliga  2009/10       5  2009-08-21 20:30:00  SK Austria Kärnten   \n",
       "\n",
       "     guest_team_name          home_coach home_game_system  home_team_id  \\\n",
       "0            SV Ried  Werner Gregoritsch            4-5-1          2394   \n",
       "1  Red Bull Salzburg      Paul Gludovatz            5-4-1           266   \n",
       "2            SV Ried        Helmut Kraft            4-4-2         17444   \n",
       "3      SK Rapid Wien      Paul Gludovatz            5-4-1           266   \n",
       "4            SV Ried   Frenkie Schinkels            4-5-1         11609   \n",
       "\n",
       "      guest_coach  ... homeTeamGoalsReceivedAway  homeTeamGoalsDiffAway  \\\n",
       "0  Paul Gludovatz  ...                       0.0                    0.0   \n",
       "1    Huub Stevens  ...                       0.0                    1.0   \n",
       "2  Paul Gludovatz  ...                       0.0                    0.0   \n",
       "3    Peter Pacult  ...                       1.0                    0.0   \n",
       "4  Paul Gludovatz  ...                       0.0                    0.0   \n",
       "\n",
       "  guestTeamGoalsShootAtHome  guestTeamGoalsReceivedAtHome  \\\n",
       "0                       0.0                           0.0   \n",
       "1                       0.0                           0.0   \n",
       "2                       1.0                           0.0   \n",
       "3                       0.0                           0.0   \n",
       "4                       1.0                           0.5   \n",
       "\n",
       "   guestTeamGoalsDiffAtHome  guestTeamGoalsShootAway  \\\n",
       "0                       0.0                      0.0   \n",
       "1                       0.0                      0.0   \n",
       "2                       1.0                      1.0   \n",
       "3                       0.0                      0.0   \n",
       "4                       0.5                      1.0   \n",
       "\n",
       "   guestTeamGoalsReceivedAway  guestTeamGoalsDiffAway  hoamAvgPoints  \\\n",
       "0                         0.0                     0.0            0.0   \n",
       "1                         0.0                     0.0            3.0   \n",
       "2                         0.0                     1.0            0.0   \n",
       "3                         0.0                     0.0            2.0   \n",
       "4                         1.0                     0.0            0.0   \n",
       "\n",
       "   guestAvgpoints  \n",
       "0            0.00  \n",
       "1            0.00  \n",
       "2            3.00  \n",
       "3            0.00  \n",
       "4            1.75  \n",
       "\n",
       "[5 rows x 38 columns]"
      ]
     },
     "execution_count": 63,
     "metadata": {},
     "output_type": "execute_result"
    }
   ],
   "source": [
    "df.head()"
   ]
  },
  {
   "cell_type": "code",
   "execution_count": 64,
   "metadata": {
    "ExecuteTime": {
     "end_time": "2019-08-11T19:05:04.434475Z",
     "start_time": "2019-08-11T19:05:04.407468Z"
    }
   },
   "outputs": [
    {
     "name": "stdout",
     "output_type": "stream",
     "text": [
      "<class 'pandas.core.frame.DataFrame'>\n",
      "RangeIndex: 2509 entries, 0 to 2508\n",
      "Data columns (total 38 columns):\n",
      "competition                     2509 non-null object\n",
      "saison                          2509 non-null object\n",
      "gameday                         2509 non-null object\n",
      "date                            2509 non-null object\n",
      "home_team_name                  2509 non-null object\n",
      "guest_team_name                 2509 non-null object\n",
      "home_coach                      2509 non-null object\n",
      "home_game_system                2509 non-null object\n",
      "home_team_id                    2509 non-null int64\n",
      "guest_coach                     2509 non-null object\n",
      "guest_game_system               2509 non-null object\n",
      "guest_team_id                   2509 non-null int64\n",
      "time                            2509 non-null object\n",
      "viewers                         2509 non-null int64\n",
      "weekday                         2509 non-null int64\n",
      "day                             2509 non-null int64\n",
      "month                           2509 non-null int64\n",
      "year                            2509 non-null int64\n",
      "homeTotalGoalsShoot             2509 non-null float64\n",
      "homeTotalGoalsReceived          2509 non-null float64\n",
      "homeTotalGoalDiff               2509 non-null float64\n",
      "guestTotalGoalsShoot            2509 non-null float64\n",
      "guestTotalGoalsReceived         2509 non-null float64\n",
      "guestTotalGoalDiff              2509 non-null float64\n",
      "homeTeamGoalsShootAtHome        2509 non-null float64\n",
      "homeTeamGoalsReceivedAtHome     2509 non-null float64\n",
      "homeTeamGoalsDiffAtHome         2509 non-null float64\n",
      "homeTeamGoalsShootAway          2509 non-null float64\n",
      "homeTeamGoalsReceivedAway       2509 non-null float64\n",
      "homeTeamGoalsDiffAway           2509 non-null float64\n",
      "guestTeamGoalsShootAtHome       2509 non-null float64\n",
      "guestTeamGoalsReceivedAtHome    2509 non-null float64\n",
      "guestTeamGoalsDiffAtHome        2509 non-null float64\n",
      "guestTeamGoalsShootAway         2509 non-null float64\n",
      "guestTeamGoalsReceivedAway      2509 non-null float64\n",
      "guestTeamGoalsDiffAway          2509 non-null float64\n",
      "hoamAvgPoints                   2509 non-null float64\n",
      "guestAvgpoints                  2509 non-null float64\n",
      "dtypes: float64(20), int64(7), object(11)\n",
      "memory usage: 744.9+ KB\n"
     ]
    }
   ],
   "source": [
    "df.info()"
   ]
  },
  {
   "cell_type": "code",
   "execution_count": 65,
   "metadata": {
    "ExecuteTime": {
     "end_time": "2019-08-11T19:05:05.011771Z",
     "start_time": "2019-08-11T19:05:05.000771Z"
    }
   },
   "outputs": [],
   "source": [
    "df = df.drop(['date', 'home_team_id', 'guest_team_id'], axis=1)"
   ]
  },
  {
   "cell_type": "code",
   "execution_count": 66,
   "metadata": {
    "ExecuteTime": {
     "end_time": "2019-08-11T19:05:06.111863Z",
     "start_time": "2019-08-11T19:05:06.105848Z"
    }
   },
   "outputs": [],
   "source": [
    "from keras.utils import to_categorical"
   ]
  },
  {
   "cell_type": "code",
   "execution_count": 67,
   "metadata": {
    "ExecuteTime": {
     "end_time": "2019-08-11T19:05:07.781519Z",
     "start_time": "2019-08-11T19:05:07.770506Z"
    }
   },
   "outputs": [
    {
     "data": {
      "text/plain": [
       "Index(['competition', 'saison', 'gameday', 'home_team_name', 'guest_team_name',\n",
       "       'home_coach', 'home_game_system', 'guest_coach', 'guest_game_system',\n",
       "       'time', 'weekday', 'day', 'month', 'year', 'homeTotalGoalsShoot',\n",
       "       'homeTotalGoalsReceived'],\n",
       "      dtype='object')"
      ]
     },
     "execution_count": 67,
     "metadata": {},
     "output_type": "execute_result"
    }
   ],
   "source": [
    "categorial_variables = df.columns[:17]\n",
    "categorial_variables = categorial_variables.drop('viewers')\n",
    "categorial_variables"
   ]
  },
  {
   "cell_type": "code",
   "execution_count": 68,
   "metadata": {
    "ExecuteTime": {
     "end_time": "2019-08-11T19:05:10.025351Z",
     "start_time": "2019-08-11T19:05:09.914346Z"
    }
   },
   "outputs": [],
   "source": [
    "df_cat = pd.get_dummies(df[categorial_variables])\n",
    "df = pd.concat([df, df_cat], axis=1)\n",
    "df = df.drop(categorial_variables, axis=1)"
   ]
  },
  {
   "cell_type": "code",
   "execution_count": 69,
   "metadata": {
    "ExecuteTime": {
     "end_time": "2019-08-11T19:05:10.112360Z",
     "start_time": "2019-08-11T19:05:10.102355Z"
    }
   },
   "outputs": [
    {
     "data": {
      "text/plain": [
       "(2509, 761)"
      ]
     },
     "execution_count": 69,
     "metadata": {},
     "output_type": "execute_result"
    }
   ],
   "source": [
    "df.shape"
   ]
  },
  {
   "cell_type": "code",
   "execution_count": 70,
   "metadata": {
    "ExecuteTime": {
     "end_time": "2019-08-11T19:05:12.386195Z",
     "start_time": "2019-08-11T19:05:12.338200Z"
    }
   },
   "outputs": [
    {
     "data": {
      "text/html": [
       "<div>\n",
       "<style scoped>\n",
       "    .dataframe tbody tr th:only-of-type {\n",
       "        vertical-align: middle;\n",
       "    }\n",
       "\n",
       "    .dataframe tbody tr th {\n",
       "        vertical-align: top;\n",
       "    }\n",
       "\n",
       "    .dataframe thead th {\n",
       "        text-align: right;\n",
       "    }\n",
       "</style>\n",
       "<table border=\"1\" class=\"dataframe\">\n",
       "  <thead>\n",
       "    <tr style=\"text-align: right;\">\n",
       "      <th></th>\n",
       "      <th>viewers</th>\n",
       "      <th>homeTotalGoalDiff</th>\n",
       "      <th>guestTotalGoalsShoot</th>\n",
       "      <th>guestTotalGoalsReceived</th>\n",
       "      <th>guestTotalGoalDiff</th>\n",
       "      <th>homeTeamGoalsShootAtHome</th>\n",
       "      <th>homeTeamGoalsReceivedAtHome</th>\n",
       "      <th>homeTeamGoalsDiffAtHome</th>\n",
       "      <th>homeTeamGoalsShootAway</th>\n",
       "      <th>homeTeamGoalsReceivedAway</th>\n",
       "      <th>...</th>\n",
       "      <th>time_20:25</th>\n",
       "      <th>time_20:30</th>\n",
       "      <th>time_20:35</th>\n",
       "      <th>time_20:45</th>\n",
       "      <th>time_21:00</th>\n",
       "      <th>time_21:05</th>\n",
       "      <th>time_21:15</th>\n",
       "      <th>time_21:45</th>\n",
       "      <th>time_22:15</th>\n",
       "      <th>time_22:30</th>\n",
       "    </tr>\n",
       "  </thead>\n",
       "  <tbody>\n",
       "    <tr>\n",
       "      <th>0</th>\n",
       "      <td>3450</td>\n",
       "      <td>0.0</td>\n",
       "      <td>0.0</td>\n",
       "      <td>0.00</td>\n",
       "      <td>0.00</td>\n",
       "      <td>0.0</td>\n",
       "      <td>0.0</td>\n",
       "      <td>0.0</td>\n",
       "      <td>0.0</td>\n",
       "      <td>0.0</td>\n",
       "      <td>...</td>\n",
       "      <td>0</td>\n",
       "      <td>0</td>\n",
       "      <td>0</td>\n",
       "      <td>0</td>\n",
       "      <td>0</td>\n",
       "      <td>0</td>\n",
       "      <td>0</td>\n",
       "      <td>0</td>\n",
       "      <td>0</td>\n",
       "      <td>0</td>\n",
       "    </tr>\n",
       "    <tr>\n",
       "      <th>1</th>\n",
       "      <td>7600</td>\n",
       "      <td>1.0</td>\n",
       "      <td>0.0</td>\n",
       "      <td>0.00</td>\n",
       "      <td>0.00</td>\n",
       "      <td>0.0</td>\n",
       "      <td>0.0</td>\n",
       "      <td>0.0</td>\n",
       "      <td>1.0</td>\n",
       "      <td>0.0</td>\n",
       "      <td>...</td>\n",
       "      <td>0</td>\n",
       "      <td>0</td>\n",
       "      <td>0</td>\n",
       "      <td>0</td>\n",
       "      <td>0</td>\n",
       "      <td>0</td>\n",
       "      <td>0</td>\n",
       "      <td>0</td>\n",
       "      <td>0</td>\n",
       "      <td>0</td>\n",
       "    </tr>\n",
       "    <tr>\n",
       "      <th>2</th>\n",
       "      <td>2700</td>\n",
       "      <td>0.0</td>\n",
       "      <td>1.0</td>\n",
       "      <td>0.00</td>\n",
       "      <td>1.00</td>\n",
       "      <td>0.0</td>\n",
       "      <td>0.0</td>\n",
       "      <td>0.0</td>\n",
       "      <td>0.0</td>\n",
       "      <td>0.0</td>\n",
       "      <td>...</td>\n",
       "      <td>0</td>\n",
       "      <td>1</td>\n",
       "      <td>0</td>\n",
       "      <td>0</td>\n",
       "      <td>0</td>\n",
       "      <td>0</td>\n",
       "      <td>0</td>\n",
       "      <td>0</td>\n",
       "      <td>0</td>\n",
       "      <td>0</td>\n",
       "    </tr>\n",
       "    <tr>\n",
       "      <th>3</th>\n",
       "      <td>7600</td>\n",
       "      <td>1.0</td>\n",
       "      <td>0.0</td>\n",
       "      <td>0.00</td>\n",
       "      <td>0.00</td>\n",
       "      <td>1.0</td>\n",
       "      <td>0.0</td>\n",
       "      <td>1.0</td>\n",
       "      <td>1.0</td>\n",
       "      <td>1.0</td>\n",
       "      <td>...</td>\n",
       "      <td>0</td>\n",
       "      <td>0</td>\n",
       "      <td>0</td>\n",
       "      <td>0</td>\n",
       "      <td>0</td>\n",
       "      <td>0</td>\n",
       "      <td>0</td>\n",
       "      <td>0</td>\n",
       "      <td>0</td>\n",
       "      <td>0</td>\n",
       "    </tr>\n",
       "    <tr>\n",
       "      <th>4</th>\n",
       "      <td>5079</td>\n",
       "      <td>0.0</td>\n",
       "      <td>1.0</td>\n",
       "      <td>0.75</td>\n",
       "      <td>0.25</td>\n",
       "      <td>0.0</td>\n",
       "      <td>0.0</td>\n",
       "      <td>0.0</td>\n",
       "      <td>0.0</td>\n",
       "      <td>0.0</td>\n",
       "      <td>...</td>\n",
       "      <td>0</td>\n",
       "      <td>1</td>\n",
       "      <td>0</td>\n",
       "      <td>0</td>\n",
       "      <td>0</td>\n",
       "      <td>0</td>\n",
       "      <td>0</td>\n",
       "      <td>0</td>\n",
       "      <td>0</td>\n",
       "      <td>0</td>\n",
       "    </tr>\n",
       "  </tbody>\n",
       "</table>\n",
       "<p>5 rows × 761 columns</p>\n",
       "</div>"
      ],
      "text/plain": [
       "   viewers  homeTotalGoalDiff  guestTotalGoalsShoot  guestTotalGoalsReceived  \\\n",
       "0     3450                0.0                   0.0                     0.00   \n",
       "1     7600                1.0                   0.0                     0.00   \n",
       "2     2700                0.0                   1.0                     0.00   \n",
       "3     7600                1.0                   0.0                     0.00   \n",
       "4     5079                0.0                   1.0                     0.75   \n",
       "\n",
       "   guestTotalGoalDiff  homeTeamGoalsShootAtHome  homeTeamGoalsReceivedAtHome  \\\n",
       "0                0.00                       0.0                          0.0   \n",
       "1                0.00                       0.0                          0.0   \n",
       "2                1.00                       0.0                          0.0   \n",
       "3                0.00                       1.0                          0.0   \n",
       "4                0.25                       0.0                          0.0   \n",
       "\n",
       "   homeTeamGoalsDiffAtHome  homeTeamGoalsShootAway  homeTeamGoalsReceivedAway  \\\n",
       "0                      0.0                     0.0                        0.0   \n",
       "1                      0.0                     1.0                        0.0   \n",
       "2                      0.0                     0.0                        0.0   \n",
       "3                      1.0                     1.0                        1.0   \n",
       "4                      0.0                     0.0                        0.0   \n",
       "\n",
       "   ...  time_20:25  time_20:30  time_20:35  time_20:45  time_21:00  \\\n",
       "0  ...           0           0           0           0           0   \n",
       "1  ...           0           0           0           0           0   \n",
       "2  ...           0           1           0           0           0   \n",
       "3  ...           0           0           0           0           0   \n",
       "4  ...           0           1           0           0           0   \n",
       "\n",
       "   time_21:05  time_21:15  time_21:45  time_22:15  time_22:30  \n",
       "0           0           0           0           0           0  \n",
       "1           0           0           0           0           0  \n",
       "2           0           0           0           0           0  \n",
       "3           0           0           0           0           0  \n",
       "4           0           0           0           0           0  \n",
       "\n",
       "[5 rows x 761 columns]"
      ]
     },
     "execution_count": 70,
     "metadata": {},
     "output_type": "execute_result"
    }
   ],
   "source": [
    "df.head()"
   ]
  },
  {
   "cell_type": "code",
   "execution_count": 71,
   "metadata": {
    "ExecuteTime": {
     "end_time": "2019-08-11T19:05:12.731195Z",
     "start_time": "2019-08-11T19:05:12.603199Z"
    }
   },
   "outputs": [
    {
     "name": "stdout",
     "output_type": "stream",
     "text": [
      "<class 'pandas.core.frame.DataFrame'>\n",
      "RangeIndex: 2509 entries, 0 to 2508\n",
      "Columns: 761 entries, viewers to time_22:30\n",
      "dtypes: float64(18), int64(1), uint8(742)\n",
      "memory usage: 2.1 MB\n"
     ]
    }
   ],
   "source": [
    "df.info()"
   ]
  },
  {
   "cell_type": "code",
   "execution_count": 74,
   "metadata": {
    "ExecuteTime": {
     "end_time": "2019-08-11T19:06:03.191325Z",
     "start_time": "2019-08-11T19:06:03.186327Z"
    }
   },
   "outputs": [],
   "source": [
    "X = df"
   ]
  },
  {
   "cell_type": "code",
   "execution_count": 75,
   "metadata": {
    "ExecuteTime": {
     "end_time": "2019-08-11T19:06:04.475517Z",
     "start_time": "2019-08-11T19:06:04.466495Z"
    }
   },
   "outputs": [
    {
     "data": {
      "text/plain": [
       "((2509, 761), (2509,))"
      ]
     },
     "execution_count": 75,
     "metadata": {},
     "output_type": "execute_result"
    }
   ],
   "source": [
    "X.shape, y.shape"
   ]
  },
  {
   "cell_type": "code",
   "execution_count": 76,
   "metadata": {
    "ExecuteTime": {
     "end_time": "2019-08-11T19:06:06.838493Z",
     "start_time": "2019-08-11T19:06:06.833494Z"
    }
   },
   "outputs": [],
   "source": [
    "from sklearn.model_selection import train_test_split"
   ]
  },
  {
   "cell_type": "code",
   "execution_count": 77,
   "metadata": {
    "ExecuteTime": {
     "end_time": "2019-08-11T19:06:07.308490Z",
     "start_time": "2019-08-11T19:06:07.282494Z"
    }
   },
   "outputs": [],
   "source": [
    "X_train, X_test, y_reg_train, y_reg_test, y_class_train, y_class_test = train_test_split(\n",
    "    X, y_reg, y_cat, test_size=0.2, random_state=123)"
   ]
  },
  {
   "cell_type": "code",
   "execution_count": 78,
   "metadata": {
    "ExecuteTime": {
     "end_time": "2019-08-11T19:06:10.160132Z",
     "start_time": "2019-08-11T19:06:10.154117Z"
    }
   },
   "outputs": [],
   "source": [
    "from sklearn.preprocessing import StandardScaler"
   ]
  },
  {
   "cell_type": "code",
   "execution_count": 79,
   "metadata": {
    "ExecuteTime": {
     "end_time": "2019-08-11T19:06:12.372986Z",
     "start_time": "2019-08-11T19:06:12.216989Z"
    }
   },
   "outputs": [],
   "source": [
    "scaler = StandardScaler()\n",
    "\n",
    "scaler.fit(X_train)\n",
    "\n",
    "X_train_scaled = scaler.transform(X_train)\n",
    "X_test_scaled = scaler.transform(X_test)"
   ]
  },
  {
   "cell_type": "code",
   "execution_count": 80,
   "metadata": {
    "ExecuteTime": {
     "end_time": "2019-08-11T19:06:13.593385Z",
     "start_time": "2019-08-11T19:06:13.585379Z"
    }
   },
   "outputs": [],
   "source": [
    "from keras.models import Model, Sequential\n",
    "from keras.layers import Dense, Input, BatchNormalization\n",
    "from keras.utils import plot_model\n",
    "from keras.callbacks import EarlyStopping, ModelCheckpoint\n",
    "\n",
    "early_stopping_monitor = EarlyStopping(patience=4)"
   ]
  },
  {
   "cell_type": "code",
   "execution_count": 81,
   "metadata": {
    "ExecuteTime": {
     "end_time": "2019-08-11T19:06:14.495898Z",
     "start_time": "2019-08-11T19:06:14.488906Z"
    }
   },
   "outputs": [],
   "source": [
    "model_save = ModelCheckpoint('best_model.hdf5', save_best_only=True, monitor='val_Classification_acc')"
   ]
  },
  {
   "cell_type": "code",
   "execution_count": 82,
   "metadata": {
    "ExecuteTime": {
     "end_time": "2019-08-11T19:06:15.683334Z",
     "start_time": "2019-08-11T19:06:15.673333Z"
    }
   },
   "outputs": [
    {
     "data": {
      "text/plain": [
       "(761, 3)"
      ]
     },
     "execution_count": 82,
     "metadata": {},
     "output_type": "execute_result"
    }
   ],
   "source": [
    "in_cols=X_train.shape[1]\n",
    "out_cols=y_cat.shape[1]\n",
    "\n",
    "in_cols, out_cols"
   ]
  },
  {
   "cell_type": "code",
   "execution_count": 83,
   "metadata": {
    "ExecuteTime": {
     "end_time": "2019-08-11T19:06:19.596885Z",
     "start_time": "2019-08-11T19:06:19.369850Z"
    }
   },
   "outputs": [
    {
     "name": "stdout",
     "output_type": "stream",
     "text": [
      "WARNING:tensorflow:From C:\\Users\\thoma\\AppData\\Roaming\\Python\\Python37\\site-packages\\tensorflow\\python\\framework\\op_def_library.py:263: colocate_with (from tensorflow.python.framework.ops) is deprecated and will be removed in a future version.\n",
      "Instructions for updating:\n",
      "Colocations handled automatically by placer.\n"
     ]
    }
   ],
   "source": [
    "model_1 = Sequential()\n",
    "\n",
    "model_1.add(Dense(12, input_shape=(in_cols,), activation='relu', ))\n",
    "model_1.add(Dense(12, activation='relu'))\n",
    "model_1.add(Dense(1))\n"
   ]
  },
  {
   "cell_type": "code",
   "execution_count": 84,
   "metadata": {
    "ExecuteTime": {
     "end_time": "2019-08-11T19:06:26.524000Z",
     "start_time": "2019-08-11T19:06:26.441003Z"
    }
   },
   "outputs": [],
   "source": [
    "model_1.compile(optimizer='adam', loss='mse')"
   ]
  },
  {
   "cell_type": "code",
   "execution_count": 85,
   "metadata": {
    "ExecuteTime": {
     "end_time": "2019-08-11T19:07:03.333463Z",
     "start_time": "2019-08-11T19:06:28.875492Z"
    },
    "scrolled": true
   },
   "outputs": [
    {
     "name": "stdout",
     "output_type": "stream",
     "text": [
      "WARNING:tensorflow:From C:\\Users\\thoma\\AppData\\Roaming\\Python\\Python37\\site-packages\\tensorflow\\python\\ops\\math_ops.py:3066: to_int32 (from tensorflow.python.ops.math_ops) is deprecated and will be removed in a future version.\n",
      "Instructions for updating:\n",
      "Use tf.cast instead.\n",
      "Train on 2007 samples, validate on 502 samples\n",
      "Epoch 1/100\n",
      "2007/2007 [==============================] - 1s 434us/step - loss: 4.4460 - val_loss: 4.4147\n",
      "Epoch 2/100\n",
      "2007/2007 [==============================] - 0s 169us/step - loss: 3.5500 - val_loss: 4.1550\n",
      "Epoch 3/100\n",
      "2007/2007 [==============================] - 0s 148us/step - loss: 3.0351 - val_loss: 4.0306\n",
      "Epoch 4/100\n",
      "2007/2007 [==============================] - 0s 137us/step - loss: 2.6480 - val_loss: 3.9804\n",
      "Epoch 5/100\n",
      "2007/2007 [==============================] - 0s 131us/step - loss: 2.3566 - val_loss: 4.0123\n",
      "Epoch 6/100\n",
      "2007/2007 [==============================] - 0s 157us/step - loss: 2.1047 - val_loss: 4.0731\n",
      "Epoch 7/100\n",
      "2007/2007 [==============================] - 0s 157us/step - loss: 1.8882 - val_loss: 4.1412\n",
      "Epoch 8/100\n",
      "2007/2007 [==============================] - 0s 157us/step - loss: 1.7105 - val_loss: 4.1950\n",
      "Epoch 9/100\n",
      "2007/2007 [==============================] - 0s 183us/step - loss: 1.5518 - val_loss: 4.2550\n",
      "Epoch 10/100\n",
      "2007/2007 [==============================] - 0s 165us/step - loss: 1.4044 - val_loss: 4.3557\n",
      "Epoch 11/100\n",
      "2007/2007 [==============================] - 0s 164us/step - loss: 1.2971 - val_loss: 4.3928\n",
      "Epoch 12/100\n",
      "2007/2007 [==============================] - 0s 208us/step - loss: 1.2024 - val_loss: 4.4656\n",
      "Epoch 13/100\n",
      "2007/2007 [==============================] - 0s 195us/step - loss: 1.1123 - val_loss: 4.5606\n",
      "Epoch 14/100\n",
      "2007/2007 [==============================] - 0s 184us/step - loss: 1.0302 - val_loss: 4.6202\n",
      "Epoch 15/100\n",
      "2007/2007 [==============================] - 0s 175us/step - loss: 0.9625 - val_loss: 4.6919\n",
      "Epoch 16/100\n",
      "2007/2007 [==============================] - 0s 188us/step - loss: 0.8942 - val_loss: 4.7377\n",
      "Epoch 17/100\n",
      "2007/2007 [==============================] - 0s 206us/step - loss: 0.8358 - val_loss: 4.7397\n",
      "Epoch 18/100\n",
      "2007/2007 [==============================] - 0s 176us/step - loss: 0.7721 - val_loss: 4.8518\n",
      "Epoch 19/100\n",
      "2007/2007 [==============================] - 0s 172us/step - loss: 0.7320 - val_loss: 4.9264\n",
      "Epoch 20/100\n",
      "2007/2007 [==============================] - 0s 159us/step - loss: 0.6771 - val_loss: 4.9762\n",
      "Epoch 21/100\n",
      "2007/2007 [==============================] - 0s 148us/step - loss: 0.6529 - val_loss: 5.0262\n",
      "Epoch 22/100\n",
      "2007/2007 [==============================] - 0s 160us/step - loss: 0.6166 - val_loss: 5.0706\n",
      "Epoch 23/100\n",
      "2007/2007 [==============================] - 0s 152us/step - loss: 0.5750 - val_loss: 5.0884\n",
      "Epoch 24/100\n",
      "2007/2007 [==============================] - 0s 159us/step - loss: 0.5474 - val_loss: 5.0762\n",
      "Epoch 25/100\n",
      "2007/2007 [==============================] - 0s 193us/step - loss: 0.5250 - val_loss: 5.1907\n",
      "Epoch 26/100\n",
      "2007/2007 [==============================] - 0s 152us/step - loss: 0.4884 - val_loss: 5.1926\n",
      "Epoch 27/100\n",
      "2007/2007 [==============================] - 0s 161us/step - loss: 0.4591 - val_loss: 5.2911\n",
      "Epoch 28/100\n",
      "2007/2007 [==============================] - 0s 169us/step - loss: 0.4389 - val_loss: 5.3103\n",
      "Epoch 29/100\n",
      "2007/2007 [==============================] - 0s 167us/step - loss: 0.4031 - val_loss: 5.3463\n",
      "Epoch 30/100\n",
      "2007/2007 [==============================] - 0s 149us/step - loss: 0.3903 - val_loss: 5.4170\n",
      "Epoch 31/100\n",
      "2007/2007 [==============================] - 0s 136us/step - loss: 0.3824 - val_loss: 5.4940\n",
      "Epoch 32/100\n",
      "2007/2007 [==============================] - 0s 165us/step - loss: 0.3636 - val_loss: 5.4360\n",
      "Epoch 33/100\n",
      "2007/2007 [==============================] - 0s 173us/step - loss: 0.3515 - val_loss: 5.5175\n",
      "Epoch 34/100\n",
      "2007/2007 [==============================] - 0s 155us/step - loss: 0.3442 - val_loss: 5.5392\n",
      "Epoch 35/100\n",
      "2007/2007 [==============================] - 0s 161us/step - loss: 0.3254 - val_loss: 5.5967\n",
      "Epoch 36/100\n",
      "2007/2007 [==============================] - 0s 154us/step - loss: 0.3204 - val_loss: 5.6396\n",
      "Epoch 37/100\n",
      "2007/2007 [==============================] - 0s 159us/step - loss: 0.3098 - val_loss: 5.6290\n",
      "Epoch 38/100\n",
      "2007/2007 [==============================] - 0s 167us/step - loss: 0.3131 - val_loss: 5.6653\n",
      "Epoch 39/100\n",
      "2007/2007 [==============================] - 0s 159us/step - loss: 0.2944 - val_loss: 5.6953\n",
      "Epoch 40/100\n",
      "2007/2007 [==============================] - 0s 155us/step - loss: 0.2753 - val_loss: 5.6974\n",
      "Epoch 41/100\n",
      "2007/2007 [==============================] - 0s 153us/step - loss: 0.2577 - val_loss: 5.7552\n",
      "Epoch 42/100\n",
      "2007/2007 [==============================] - 0s 167us/step - loss: 0.2398 - val_loss: 5.8343\n",
      "Epoch 43/100\n",
      "2007/2007 [==============================] - 0s 158us/step - loss: 0.2369 - val_loss: 5.7990\n",
      "Epoch 44/100\n",
      "2007/2007 [==============================] - 0s 161us/step - loss: 0.2412 - val_loss: 5.9044\n",
      "Epoch 45/100\n",
      "2007/2007 [==============================] - 0s 154us/step - loss: 0.2256 - val_loss: 5.7780\n",
      "Epoch 46/100\n",
      "2007/2007 [==============================] - 0s 168us/step - loss: 0.2291 - val_loss: 5.8682\n",
      "Epoch 47/100\n",
      "2007/2007 [==============================] - 0s 153us/step - loss: 0.2218 - val_loss: 5.8062\n",
      "Epoch 48/100\n",
      "2007/2007 [==============================] - 0s 143us/step - loss: 0.2109 - val_loss: 5.8521\n",
      "Epoch 49/100\n",
      "2007/2007 [==============================] - 0s 137us/step - loss: 0.2108 - val_loss: 5.8624\n",
      "Epoch 50/100\n",
      "2007/2007 [==============================] - 0s 144us/step - loss: 0.2023 - val_loss: 5.8598\n",
      "Epoch 51/100\n",
      "2007/2007 [==============================] - 0s 171us/step - loss: 0.1992 - val_loss: 5.9744\n",
      "Epoch 52/100\n",
      "2007/2007 [==============================] - 0s 150us/step - loss: 0.2013 - val_loss: 5.9050\n",
      "Epoch 53/100\n",
      "2007/2007 [==============================] - 0s 146us/step - loss: 0.1843 - val_loss: 5.9693\n",
      "Epoch 54/100\n",
      "2007/2007 [==============================] - 0s 154us/step - loss: 0.1773 - val_loss: 6.0113\n",
      "Epoch 55/100\n",
      "2007/2007 [==============================] - 0s 145us/step - loss: 0.1709 - val_loss: 5.9529\n",
      "Epoch 56/100\n",
      "2007/2007 [==============================] - 0s 149us/step - loss: 0.1616 - val_loss: 6.0744\n",
      "Epoch 57/100\n",
      "2007/2007 [==============================] - 0s 151us/step - loss: 0.1691 - val_loss: 6.0109\n",
      "Epoch 58/100\n",
      "2007/2007 [==============================] - 0s 163us/step - loss: 0.1664 - val_loss: 6.0676\n",
      "Epoch 59/100\n",
      "2007/2007 [==============================] - 0s 158us/step - loss: 0.1550 - val_loss: 6.0862\n",
      "Epoch 60/100\n",
      "2007/2007 [==============================] - 0s 165us/step - loss: 0.1575 - val_loss: 6.1718\n",
      "Epoch 61/100\n",
      "2007/2007 [==============================] - 0s 187us/step - loss: 0.1571 - val_loss: 6.0745\n",
      "Epoch 62/100\n",
      "2007/2007 [==============================] - 0s 162us/step - loss: 0.1523 - val_loss: 6.0633\n",
      "Epoch 63/100\n",
      "2007/2007 [==============================] - 0s 143us/step - loss: 0.1418 - val_loss: 6.1308\n",
      "Epoch 64/100\n",
      "2007/2007 [==============================] - 0s 158us/step - loss: 0.1404 - val_loss: 6.0756\n",
      "Epoch 65/100\n",
      "2007/2007 [==============================] - 0s 156us/step - loss: 0.1544 - val_loss: 6.1420\n",
      "Epoch 66/100\n",
      "2007/2007 [==============================] - 0s 162us/step - loss: 0.1562 - val_loss: 6.1716\n",
      "Epoch 67/100\n",
      "2007/2007 [==============================] - 0s 157us/step - loss: 0.1506 - val_loss: 6.0852\n",
      "Epoch 68/100\n",
      "2007/2007 [==============================] - 0s 141us/step - loss: 0.1502 - val_loss: 6.2052\n",
      "Epoch 69/100\n",
      "2007/2007 [==============================] - 0s 159us/step - loss: 0.1410 - val_loss: 6.2422\n",
      "Epoch 70/100\n",
      "2007/2007 [==============================] - 0s 144us/step - loss: 0.1348 - val_loss: 6.2366\n",
      "Epoch 71/100\n",
      "2007/2007 [==============================] - 0s 152us/step - loss: 0.1304 - val_loss: 6.1698\n",
      "Epoch 72/100\n",
      "2007/2007 [==============================] - 0s 145us/step - loss: 0.1223 - val_loss: 6.2139\n",
      "Epoch 73/100\n",
      "2007/2007 [==============================] - 0s 150us/step - loss: 0.1223 - val_loss: 6.2374\n",
      "Epoch 74/100\n",
      "2007/2007 [==============================] - 0s 152us/step - loss: 0.1187 - val_loss: 6.3049\n",
      "Epoch 75/100\n"
     ]
    },
    {
     "name": "stdout",
     "output_type": "stream",
     "text": [
      "2007/2007 [==============================] - 0s 143us/step - loss: 0.1207 - val_loss: 6.2973\n",
      "Epoch 76/100\n",
      "2007/2007 [==============================] - 0s 170us/step - loss: 0.1298 - val_loss: 6.2511\n",
      "Epoch 77/100\n",
      "2007/2007 [==============================] - 0s 170us/step - loss: 0.1277 - val_loss: 6.3346\n",
      "Epoch 78/100\n",
      "2007/2007 [==============================] - 0s 173us/step - loss: 0.1194 - val_loss: 6.2659\n",
      "Epoch 79/100\n",
      "2007/2007 [==============================] - 0s 172us/step - loss: 0.1148 - val_loss: 6.3694\n",
      "Epoch 80/100\n",
      "2007/2007 [==============================] - 0s 163us/step - loss: 0.1211 - val_loss: 6.3171\n",
      "Epoch 81/100\n",
      "2007/2007 [==============================] - 0s 168us/step - loss: 0.1097 - val_loss: 6.3047\n",
      "Epoch 82/100\n",
      "2007/2007 [==============================] - 0s 163us/step - loss: 0.1066 - val_loss: 6.4579\n",
      "Epoch 83/100\n",
      "2007/2007 [==============================] - 0s 175us/step - loss: 0.0974 - val_loss: 6.2978\n",
      "Epoch 84/100\n",
      "2007/2007 [==============================] - 0s 160us/step - loss: 0.0950 - val_loss: 6.3644\n",
      "Epoch 85/100\n",
      "2007/2007 [==============================] - 0s 158us/step - loss: 0.0950 - val_loss: 6.3729\n",
      "Epoch 86/100\n",
      "2007/2007 [==============================] - ETA: 0s - loss: 0.097 - 0s 172us/step - loss: 0.1000 - val_loss: 6.4007\n",
      "Epoch 87/100\n",
      "2007/2007 [==============================] - 0s 164us/step - loss: 0.1025 - val_loss: 6.3655\n",
      "Epoch 88/100\n",
      "2007/2007 [==============================] - 0s 162us/step - loss: 0.0979 - val_loss: 6.4249\n",
      "Epoch 89/100\n",
      "2007/2007 [==============================] - 0s 166us/step - loss: 0.0872 - val_loss: 6.3662\n",
      "Epoch 90/100\n",
      "2007/2007 [==============================] - 0s 161us/step - loss: 0.0943 - val_loss: 6.3896\n",
      "Epoch 91/100\n",
      "2007/2007 [==============================] - 0s 198us/step - loss: 0.1039 - val_loss: 6.3750\n",
      "Epoch 92/100\n",
      "2007/2007 [==============================] - 0s 195us/step - loss: 0.1021 - val_loss: 6.4333\n",
      "Epoch 93/100\n",
      "2007/2007 [==============================] - 0s 173us/step - loss: 0.0985 - val_loss: 6.4253\n",
      "Epoch 94/100\n",
      "2007/2007 [==============================] - 0s 182us/step - loss: 0.0966 - val_loss: 6.4062\n",
      "Epoch 95/100\n",
      "2007/2007 [==============================] - 0s 168us/step - loss: 0.0998 - val_loss: 6.4531\n",
      "Epoch 96/100\n",
      "2007/2007 [==============================] - 0s 161us/step - loss: 0.0951 - val_loss: 6.3722\n",
      "Epoch 97/100\n",
      "2007/2007 [==============================] - 0s 157us/step - loss: 0.0892 - val_loss: 6.4203\n",
      "Epoch 98/100\n",
      "2007/2007 [==============================] - 0s 173us/step - loss: 0.0876 - val_loss: 6.3015\n",
      "Epoch 99/100\n",
      "2007/2007 [==============================] - 0s 165us/step - loss: 0.0901 - val_loss: 6.4195\n",
      "Epoch 100/100\n",
      "2007/2007 [==============================] - 0s 165us/step - loss: 0.0820 - val_loss: 6.4255\n"
     ]
    }
   ],
   "source": [
    "model_1_training = model_1.fit(\n",
    "    X_train_scaled,\n",
    "    y_reg_train,\n",
    "    validation_data=[X_test_scaled,y_reg_test],\n",
    "    epochs=100\n",
    ")"
   ]
  },
  {
   "cell_type": "code",
   "execution_count": 86,
   "metadata": {
    "ExecuteTime": {
     "end_time": "2019-08-11T19:07:10.871297Z",
     "start_time": "2019-08-11T19:07:10.411901Z"
    },
    "scrolled": false
   },
   "outputs": [
    {
     "data": {
      "text/plain": [
       "<matplotlib.legend.Legend at 0x1d3d48d19b0>"
      ]
     },
     "execution_count": 86,
     "metadata": {},
     "output_type": "execute_result"
    },
    {
     "data": {
      "image/png": "[encoded data removed]",
      "text/plain": [
       "<Figure size 432x288 with 1 Axes>"
      ]
     },
     "metadata": {
      "needs_background": "light"
     },
     "output_type": "display_data"
    }
   ],
   "source": [
    "plt.plot(model_1_training.history['loss'])\n",
    "plt.xlabel('Epochs')\n",
    "plt.ylim([0, 5])\n",
    "plt.title('Total Loss over Epochs')\n",
    "plt.plot(model_1_training.history['val_loss'])\n",
    "plt.legend(['Total Training loss', 'Total Prediction loss'])"
   ]
  },
  {
   "cell_type": "code",
   "execution_count": 87,
   "metadata": {
    "ExecuteTime": {
     "end_time": "2019-08-11T19:07:14.939940Z",
     "start_time": "2019-08-11T19:07:14.498317Z"
    }
   },
   "outputs": [],
   "source": [
    "from sklearn.ensemble import RandomForestRegressor\n",
    "from sklearn.metrics import mean_squared_error"
   ]
  },
  {
   "cell_type": "code",
   "execution_count": 89,
   "metadata": {
    "ExecuteTime": {
     "end_time": "2019-08-11T19:07:33.386066Z",
     "start_time": "2019-08-11T19:07:31.883986Z"
    }
   },
   "outputs": [
    {
     "data": {
      "text/plain": [
       "0.8509110002276398"
      ]
     },
     "execution_count": 89,
     "metadata": {},
     "output_type": "execute_result"
    }
   ],
   "source": [
    "rfr = RandomForestRegressor(n_estimators=10)\n",
    "\n",
    "rfr.fit(X_train, y_reg_train)\n",
    "rfr.score(X_train, y_reg_train)"
   ]
  },
  {
   "cell_type": "code",
   "execution_count": 90,
   "metadata": {
    "ExecuteTime": {
     "end_time": "2019-08-11T19:07:36.433510Z",
     "start_time": "2019-08-11T19:07:36.401508Z"
    }
   },
   "outputs": [],
   "source": [
    "rfr.score(X_test, y_reg_test)\n",
    "pred_y = rfr.predict(X_test)"
   ]
  },
  {
   "cell_type": "code",
   "execution_count": 91,
   "metadata": {
    "ExecuteTime": {
     "end_time": "2019-08-11T19:07:38.038277Z",
     "start_time": "2019-08-11T19:07:38.026279Z"
    }
   },
   "outputs": [
    {
     "data": {
      "text/plain": [
       "58.41846067314986"
      ]
     },
     "execution_count": 91,
     "metadata": {},
     "output_type": "execute_result"
    }
   ],
   "source": [
    "np.sqrt(mean_squared_error(np.exp(y_reg_test), np.exp(pred_y)))"
   ]
  },
  {
   "cell_type": "code",
   "execution_count": 92,
   "metadata": {
    "ExecuteTime": {
     "end_time": "2019-08-11T19:07:40.889404Z",
     "start_time": "2019-08-11T19:07:40.387526Z"
    }
   },
   "outputs": [],
   "source": [
    "input_tensor = Input(shape=(in_cols,))\n",
    "hidden_1 = Dense(8, activation='relu', name='hidden_1')(input_tensor)\n",
    "batch_1 = BatchNormalization()(hidden_1)\n",
    "hidden_2 = Dense(16, activation='relu', name='hidden_2')(batch_1)\n",
    "batch_2 = BatchNormalization()(hidden_2)\n",
    "hidden_3 = Dense(16, activation='relu', name='hidden_3')(batch_2)\n",
    "output_tensor_reg = Dense(1, name='Regression')(hidden_3)\n",
    "\n",
    "output_tensor_class = Dense(out_cols, activation='sigmoid', name='Classification')(output_tensor_reg)"
   ]
  },
  {
   "cell_type": "code",
   "execution_count": 93,
   "metadata": {
    "ExecuteTime": {
     "end_time": "2019-08-11T19:07:40.950300Z",
     "start_time": "2019-08-11T19:07:40.944312Z"
    }
   },
   "outputs": [],
   "source": [
    "model_2 = Model(input_tensor, [output_tensor_reg, output_tensor_class])"
   ]
  },
  {
   "cell_type": "code",
   "execution_count": 94,
   "metadata": {
    "ExecuteTime": {
     "end_time": "2019-08-11T19:07:41.541450Z",
     "start_time": "2019-08-11T19:07:41.330293Z"
    }
   },
   "outputs": [],
   "source": [
    "model_2.compile(loss=['mse', 'categorical_crossentropy'],\n",
    "             optimizer='adam',\n",
    "             metrics=['accuracy'])"
   ]
  },
  {
   "cell_type": "code",
   "execution_count": 95,
   "metadata": {
    "ExecuteTime": {
     "end_time": "2019-08-11T19:07:43.402050Z",
     "start_time": "2019-08-11T19:07:43.388051Z"
    }
   },
   "outputs": [
    {
     "name": "stdout",
     "output_type": "stream",
     "text": [
      "_________________________________________________________________\n",
      "Layer (type)                 Output Shape              Param #   \n",
      "=================================================================\n",
      "input_1 (InputLayer)         (None, 761)               0         \n",
      "_________________________________________________________________\n",
      "hidden_1 (Dense)             (None, 8)                 6096      \n",
      "_________________________________________________________________\n",
      "batch_normalization_1 (Batch (None, 8)                 32        \n",
      "_________________________________________________________________\n",
      "hidden_2 (Dense)             (None, 16)                144       \n",
      "_________________________________________________________________\n",
      "batch_normalization_2 (Batch (None, 16)                64        \n",
      "_________________________________________________________________\n",
      "hidden_3 (Dense)             (None, 16)                272       \n",
      "_________________________________________________________________\n",
      "Regression (Dense)           (None, 1)                 17        \n",
      "_________________________________________________________________\n",
      "Classification (Dense)       (None, 3)                 6         \n",
      "=================================================================\n",
      "Total params: 6,631\n",
      "Trainable params: 6,583\n",
      "Non-trainable params: 48\n",
      "_________________________________________________________________\n"
     ]
    }
   ],
   "source": [
    "model_2.summary()"
   ]
  },
  {
   "cell_type": "code",
   "execution_count": 96,
   "metadata": {
    "ExecuteTime": {
     "end_time": "2019-08-11T19:09:16.820090Z",
     "start_time": "2019-08-11T19:07:51.842038Z"
    }
   },
   "outputs": [
    {
     "name": "stdout",
     "output_type": "stream",
     "text": [
      "Train on 2007 samples, validate on 502 samples\n",
      "Epoch 1/50\n",
      "2007/2007 [==============================] - 12s 6ms/step - loss: 5.5407 - Regression_loss: 4.4569 - Classification_loss: 1.0838 - Regression_acc: 0.2252 - Classification_acc: 0.4245 - val_loss: 77755.2065 - val_Regression_loss: 77752.2393 - val_Classification_loss: 2.9676 - val_Regression_acc: 0.0000e+00 - val_Classification_acc: 0.2470\n",
      "Epoch 2/50\n",
      "2007/2007 [==============================] - 10s 5ms/step - loss: 5.5181 - Regression_loss: 4.4478 - Classification_loss: 1.0704 - Regression_acc: 0.2252 - Classification_acc: 0.4270 - val_loss: 80885.1887 - val_Regression_loss: 80881.6121 - val_Classification_loss: 3.5769 - val_Regression_acc: 0.0020 - val_Classification_acc: 0.2769\n",
      "Epoch 3/50\n",
      "2007/2007 [==============================] - 10s 5ms/step - loss: 5.5145 - Regression_loss: 4.4470 - Classification_loss: 1.0675 - Regression_acc: 0.2252 - Classification_acc: 0.4270 - val_loss: 75548.9193 - val_Regression_loss: 75545.2792 - val_Classification_loss: 3.6403 - val_Regression_acc: 0.0000e+00 - val_Classification_acc: 0.3247\n",
      "Epoch 4/50\n",
      "2007/2007 [==============================] - 10s 5ms/step - loss: 5.5139 - Regression_loss: 4.4470 - Classification_loss: 1.0669 - Regression_acc: 0.2252 - Classification_acc: 0.4270 - val_loss: 67502.2203 - val_Regression_loss: 67498.4823 - val_Classification_loss: 3.7383 - val_Regression_acc: 0.0000e+00 - val_Classification_acc: 0.3187\n",
      "Epoch 5/50\n",
      "2007/2007 [==============================] - 10s 5ms/step - loss: 5.5138 - Regression_loss: 4.4470 - Classification_loss: 1.0668 - Regression_acc: 0.2252 - Classification_acc: 0.4270 - val_loss: 68229.8719 - val_Regression_loss: 68225.8217 - val_Classification_loss: 4.0501 - val_Regression_acc: 0.0000e+00 - val_Classification_acc: 0.2968\n",
      "Epoch 6/50\n",
      "2007/2007 [==============================] - 10s 5ms/step - loss: 5.5140 - Regression_loss: 4.4472 - Classification_loss: 1.0668 - Regression_acc: 0.2252 - Classification_acc: 0.4270 - val_loss: 84881.3805 - val_Regression_loss: 84878.1205 - val_Classification_loss: 3.2597 - val_Regression_acc: 0.0000e+00 - val_Classification_acc: 0.3386\n",
      "Epoch 7/50\n",
      "2007/2007 [==============================] - 10s 5ms/step - loss: 5.5139 - Regression_loss: 4.4472 - Classification_loss: 1.0668 - Regression_acc: 0.2252 - Classification_acc: 0.4270 - val_loss: 81425.3772 - val_Regression_loss: 81422.0156 - val_Classification_loss: 3.3621 - val_Regression_acc: 0.0000e+00 - val_Classification_acc: 0.3327\n",
      "Epoch 8/50\n",
      "2007/2007 [==============================] - 10s 5ms/step - loss: 5.5139 - Regression_loss: 4.4470 - Classification_loss: 1.0669 - Regression_acc: 0.2252 - Classification_acc: 0.4270 - val_loss: 86096.3108 - val_Regression_loss: 86092.6836 - val_Classification_loss: 3.6274 - val_Regression_acc: 0.0060 - val_Classification_acc: 0.3247\n"
     ]
    }
   ],
   "source": [
    "model_2_training = model_2.fit(\n",
    "    X_train_scaled,\n",
    "    [y_reg_train, y_class_train],\n",
    "    validation_data=(X_test_scaled, [y_reg_test, y_class_test]),\n",
    "    batch_size=1,\n",
    "    epochs=50,\n",
    "    callbacks=[early_stopping_monitor],\n",
    "    verbose=True)"
   ]
  },
  {
   "cell_type": "code",
   "execution_count": 97,
   "metadata": {
    "ExecuteTime": {
     "end_time": "2019-08-11T19:09:31.750300Z",
     "start_time": "2019-08-11T19:09:31.418396Z"
    }
   },
   "outputs": [],
   "source": [
    "input_tensor = Input(shape=(in_cols,))\n",
    "hidden_1 = Dense(in_cols, activation='relu', name='hidden_1')(input_tensor)\n",
    "batch_1 = BatchNormalization()(hidden_1)\n",
    "hidden_2 = Dense(in_cols, activation='relu', name='hidden_2')(batch_1)\n",
    "output_tensor_reg = Dense(1, name='Regression')(hidden_2)\n",
    "\n",
    "output_tensor_class = Dense(out_cols, activation='sigmoid', name='Classification')(output_tensor_reg)"
   ]
  },
  {
   "cell_type": "code",
   "execution_count": 98,
   "metadata": {
    "ExecuteTime": {
     "end_time": "2019-08-11T19:09:32.377806Z",
     "start_time": "2019-08-11T19:09:32.370807Z"
    }
   },
   "outputs": [],
   "source": [
    "model_3 = Model(input_tensor, [output_tensor_reg, output_tensor_class])"
   ]
  },
  {
   "cell_type": "code",
   "execution_count": 99,
   "metadata": {
    "ExecuteTime": {
     "end_time": "2019-08-11T19:09:33.107921Z",
     "start_time": "2019-08-11T19:09:32.938796Z"
    }
   },
   "outputs": [],
   "source": [
    "model_3.compile(loss=['mse', 'categorical_crossentropy'],\n",
    "             optimizer='adam',\n",
    "             metrics=['accuracy'])"
   ]
  },
  {
   "cell_type": "code",
   "execution_count": 100,
   "metadata": {
    "ExecuteTime": {
     "end_time": "2019-08-11T19:09:35.694320Z",
     "start_time": "2019-08-11T19:09:35.683315Z"
    }
   },
   "outputs": [
    {
     "name": "stdout",
     "output_type": "stream",
     "text": [
      "_________________________________________________________________\n",
      "Layer (type)                 Output Shape              Param #   \n",
      "=================================================================\n",
      "input_2 (InputLayer)         (None, 761)               0         \n",
      "_________________________________________________________________\n",
      "hidden_1 (Dense)             (None, 761)               579882    \n",
      "_________________________________________________________________\n",
      "batch_normalization_3 (Batch (None, 761)               3044      \n",
      "_________________________________________________________________\n",
      "hidden_2 (Dense)             (None, 761)               579882    \n",
      "_________________________________________________________________\n",
      "Regression (Dense)           (None, 1)                 762       \n",
      "_________________________________________________________________\n",
      "Classification (Dense)       (None, 3)                 6         \n",
      "=================================================================\n",
      "Total params: 1,163,576\n",
      "Trainable params: 1,162,054\n",
      "Non-trainable params: 1,522\n",
      "_________________________________________________________________\n"
     ]
    }
   ],
   "source": [
    "model_3.summary()"
   ]
  },
  {
   "cell_type": "code",
   "execution_count": 101,
   "metadata": {
    "ExecuteTime": {
     "end_time": "2019-08-11T19:11:55.957948Z",
     "start_time": "2019-08-11T19:09:42.195089Z"
    },
    "scrolled": true
   },
   "outputs": [
    {
     "name": "stdout",
     "output_type": "stream",
     "text": [
      "Train on 2007 samples, validate on 502 samples\n",
      "Epoch 1/100\n",
      "1644/2007 [=======================>......] - ETA: 29s - loss: 5.6023 - Regression_loss: 4.5198 - Classification_loss: 1.0825 - Regression_acc: 0.2202 - Classification_acc: 0.4209 - ETA: 1:49 - loss: 5.51 - ETA: 1:40 - loss: 5.4250 - Regression_loss: 4.3316 - Classification_loss: 1.0935 - Regression_acc: 0 - ETA: 1:37 - loss: 5.3427 - Regression_loss: 4.2495 - Classification_loss: 1.0933 - Regre - ETA: 1:34 - loss: 5.3503 - Regression_loss: 4.2567 - Classification_loss: 1.0937 - Regression_ - ETA: 1:21 - loss: 5.3815 - Regres - ETA: 1: - ETA: 45s - loss: 5.4351 - Regression_loss: 4.3497 - Classification_loss: 1.0854 - Regression_acc: 0.2269 - Cl - ETA: 44s - loss: 5.4298 - Reg - ETA: 35s - loss: 5.5423 - Regression_loss: 4.4578 - Classification_loss: 1.0845 - Regression_acc: 0 -"
     ]
    },
    {
     "ename": "KeyboardInterrupt",
     "evalue": "",
     "output_type": "error",
     "traceback": [
      "\u001b[1;31m---------------------------------------------------------------------------\u001b[0m",
      "\u001b[1;31mKeyboardInterrupt\u001b[0m                         Traceback (most recent call last)",
      "\u001b[1;32m<ipython-input-101-3d6bac3ae28c>\u001b[0m in \u001b[0;36m<module>\u001b[1;34m\u001b[0m\n\u001b[0;32m      6\u001b[0m     \u001b[0mepochs\u001b[0m\u001b[1;33m=\u001b[0m\u001b[1;36m100\u001b[0m\u001b[1;33m,\u001b[0m\u001b[1;33m\u001b[0m\u001b[1;33m\u001b[0m\u001b[0m\n\u001b[0;32m      7\u001b[0m     \u001b[1;31m#callbacks=[early_stopping_monitor],\u001b[0m\u001b[1;33m\u001b[0m\u001b[1;33m\u001b[0m\u001b[1;33m\u001b[0m\u001b[0m\n\u001b[1;32m----> 8\u001b[1;33m     verbose=True)\n\u001b[0m",
      "\u001b[1;32m~\\AppData\\Roaming\\Python\\Python37\\site-packages\\keras\\engine\\training.py\u001b[0m in \u001b[0;36mfit\u001b[1;34m(self, x, y, batch_size, epochs, verbose, callbacks, validation_split, validation_data, shuffle, class_weight, sample_weight, initial_epoch, steps_per_epoch, validation_steps, **kwargs)\u001b[0m\n\u001b[0;32m   1037\u001b[0m                                         \u001b[0minitial_epoch\u001b[0m\u001b[1;33m=\u001b[0m\u001b[0minitial_epoch\u001b[0m\u001b[1;33m,\u001b[0m\u001b[1;33m\u001b[0m\u001b[1;33m\u001b[0m\u001b[0m\n\u001b[0;32m   1038\u001b[0m                                         \u001b[0msteps_per_epoch\u001b[0m\u001b[1;33m=\u001b[0m\u001b[0msteps_per_epoch\u001b[0m\u001b[1;33m,\u001b[0m\u001b[1;33m\u001b[0m\u001b[1;33m\u001b[0m\u001b[0m\n\u001b[1;32m-> 1039\u001b[1;33m                                         validation_steps=validation_steps)\n\u001b[0m\u001b[0;32m   1040\u001b[0m \u001b[1;33m\u001b[0m\u001b[0m\n\u001b[0;32m   1041\u001b[0m     def evaluate(self, x=None, y=None,\n",
      "\u001b[1;32m~\\AppData\\Roaming\\Python\\Python37\\site-packages\\keras\\engine\\training_arrays.py\u001b[0m in \u001b[0;36mfit_loop\u001b[1;34m(model, f, ins, out_labels, batch_size, epochs, verbose, callbacks, val_f, val_ins, shuffle, callback_metrics, initial_epoch, steps_per_epoch, validation_steps)\u001b[0m\n\u001b[0;32m    197\u001b[0m                     \u001b[0mins_batch\u001b[0m\u001b[1;33m[\u001b[0m\u001b[0mi\u001b[0m\u001b[1;33m]\u001b[0m \u001b[1;33m=\u001b[0m \u001b[0mins_batch\u001b[0m\u001b[1;33m[\u001b[0m\u001b[0mi\u001b[0m\u001b[1;33m]\u001b[0m\u001b[1;33m.\u001b[0m\u001b[0mtoarray\u001b[0m\u001b[1;33m(\u001b[0m\u001b[1;33m)\u001b[0m\u001b[1;33m\u001b[0m\u001b[1;33m\u001b[0m\u001b[0m\n\u001b[0;32m    198\u001b[0m \u001b[1;33m\u001b[0m\u001b[0m\n\u001b[1;32m--> 199\u001b[1;33m                 \u001b[0mouts\u001b[0m \u001b[1;33m=\u001b[0m \u001b[0mf\u001b[0m\u001b[1;33m(\u001b[0m\u001b[0mins_batch\u001b[0m\u001b[1;33m)\u001b[0m\u001b[1;33m\u001b[0m\u001b[1;33m\u001b[0m\u001b[0m\n\u001b[0m\u001b[0;32m    200\u001b[0m                 \u001b[0mouts\u001b[0m \u001b[1;33m=\u001b[0m \u001b[0mto_list\u001b[0m\u001b[1;33m(\u001b[0m\u001b[0mouts\u001b[0m\u001b[1;33m)\u001b[0m\u001b[1;33m\u001b[0m\u001b[1;33m\u001b[0m\u001b[0m\n\u001b[0;32m    201\u001b[0m                 \u001b[1;32mfor\u001b[0m \u001b[0ml\u001b[0m\u001b[1;33m,\u001b[0m \u001b[0mo\u001b[0m \u001b[1;32min\u001b[0m \u001b[0mzip\u001b[0m\u001b[1;33m(\u001b[0m\u001b[0mout_labels\u001b[0m\u001b[1;33m,\u001b[0m \u001b[0mouts\u001b[0m\u001b[1;33m)\u001b[0m\u001b[1;33m:\u001b[0m\u001b[1;33m\u001b[0m\u001b[1;33m\u001b[0m\u001b[0m\n",
      "\u001b[1;32m~\\AppData\\Roaming\\Python\\Python37\\site-packages\\keras\\backend\\tensorflow_backend.py\u001b[0m in \u001b[0;36m__call__\u001b[1;34m(self, inputs)\u001b[0m\n\u001b[0;32m   2713\u001b[0m                 \u001b[1;32mreturn\u001b[0m \u001b[0mself\u001b[0m\u001b[1;33m.\u001b[0m\u001b[0m_legacy_call\u001b[0m\u001b[1;33m(\u001b[0m\u001b[0minputs\u001b[0m\u001b[1;33m)\u001b[0m\u001b[1;33m\u001b[0m\u001b[1;33m\u001b[0m\u001b[0m\n\u001b[0;32m   2714\u001b[0m \u001b[1;33m\u001b[0m\u001b[0m\n\u001b[1;32m-> 2715\u001b[1;33m             \u001b[1;32mreturn\u001b[0m \u001b[0mself\u001b[0m\u001b[1;33m.\u001b[0m\u001b[0m_call\u001b[0m\u001b[1;33m(\u001b[0m\u001b[0minputs\u001b[0m\u001b[1;33m)\u001b[0m\u001b[1;33m\u001b[0m\u001b[1;33m\u001b[0m\u001b[0m\n\u001b[0m\u001b[0;32m   2716\u001b[0m         \u001b[1;32melse\u001b[0m\u001b[1;33m:\u001b[0m\u001b[1;33m\u001b[0m\u001b[1;33m\u001b[0m\u001b[0m\n\u001b[0;32m   2717\u001b[0m             \u001b[1;32mif\u001b[0m \u001b[0mpy_any\u001b[0m\u001b[1;33m(\u001b[0m\u001b[0mis_tensor\u001b[0m\u001b[1;33m(\u001b[0m\u001b[0mx\u001b[0m\u001b[1;33m)\u001b[0m \u001b[1;32mfor\u001b[0m \u001b[0mx\u001b[0m \u001b[1;32min\u001b[0m \u001b[0minputs\u001b[0m\u001b[1;33m)\u001b[0m\u001b[1;33m:\u001b[0m\u001b[1;33m\u001b[0m\u001b[1;33m\u001b[0m\u001b[0m\n",
      "\u001b[1;32m~\\AppData\\Roaming\\Python\\Python37\\site-packages\\keras\\backend\\tensorflow_backend.py\u001b[0m in \u001b[0;36m_call\u001b[1;34m(self, inputs)\u001b[0m\n\u001b[0;32m   2673\u001b[0m             \u001b[0mfetched\u001b[0m \u001b[1;33m=\u001b[0m \u001b[0mself\u001b[0m\u001b[1;33m.\u001b[0m\u001b[0m_callable_fn\u001b[0m\u001b[1;33m(\u001b[0m\u001b[1;33m*\u001b[0m\u001b[0marray_vals\u001b[0m\u001b[1;33m,\u001b[0m \u001b[0mrun_metadata\u001b[0m\u001b[1;33m=\u001b[0m\u001b[0mself\u001b[0m\u001b[1;33m.\u001b[0m\u001b[0mrun_metadata\u001b[0m\u001b[1;33m)\u001b[0m\u001b[1;33m\u001b[0m\u001b[1;33m\u001b[0m\u001b[0m\n\u001b[0;32m   2674\u001b[0m         \u001b[1;32melse\u001b[0m\u001b[1;33m:\u001b[0m\u001b[1;33m\u001b[0m\u001b[1;33m\u001b[0m\u001b[0m\n\u001b[1;32m-> 2675\u001b[1;33m             \u001b[0mfetched\u001b[0m \u001b[1;33m=\u001b[0m \u001b[0mself\u001b[0m\u001b[1;33m.\u001b[0m\u001b[0m_callable_fn\u001b[0m\u001b[1;33m(\u001b[0m\u001b[1;33m*\u001b[0m\u001b[0marray_vals\u001b[0m\u001b[1;33m)\u001b[0m\u001b[1;33m\u001b[0m\u001b[1;33m\u001b[0m\u001b[0m\n\u001b[0m\u001b[0;32m   2676\u001b[0m         \u001b[1;32mreturn\u001b[0m \u001b[0mfetched\u001b[0m\u001b[1;33m[\u001b[0m\u001b[1;33m:\u001b[0m\u001b[0mlen\u001b[0m\u001b[1;33m(\u001b[0m\u001b[0mself\u001b[0m\u001b[1;33m.\u001b[0m\u001b[0moutputs\u001b[0m\u001b[1;33m)\u001b[0m\u001b[1;33m]\u001b[0m\u001b[1;33m\u001b[0m\u001b[1;33m\u001b[0m\u001b[0m\n\u001b[0;32m   2677\u001b[0m \u001b[1;33m\u001b[0m\u001b[0m\n",
      "\u001b[1;32m~\\AppData\\Roaming\\Python\\Python37\\site-packages\\tensorflow\\python\\client\\session.py\u001b[0m in \u001b[0;36m__call__\u001b[1;34m(self, *args, **kwargs)\u001b[0m\n\u001b[0;32m   1437\u001b[0m           ret = tf_session.TF_SessionRunCallable(\n\u001b[0;32m   1438\u001b[0m               \u001b[0mself\u001b[0m\u001b[1;33m.\u001b[0m\u001b[0m_session\u001b[0m\u001b[1;33m.\u001b[0m\u001b[0m_session\u001b[0m\u001b[1;33m,\u001b[0m \u001b[0mself\u001b[0m\u001b[1;33m.\u001b[0m\u001b[0m_handle\u001b[0m\u001b[1;33m,\u001b[0m \u001b[0margs\u001b[0m\u001b[1;33m,\u001b[0m \u001b[0mstatus\u001b[0m\u001b[1;33m,\u001b[0m\u001b[1;33m\u001b[0m\u001b[1;33m\u001b[0m\u001b[0m\n\u001b[1;32m-> 1439\u001b[1;33m               run_metadata_ptr)\n\u001b[0m\u001b[0;32m   1440\u001b[0m         \u001b[1;32mif\u001b[0m \u001b[0mrun_metadata\u001b[0m\u001b[1;33m:\u001b[0m\u001b[1;33m\u001b[0m\u001b[1;33m\u001b[0m\u001b[0m\n\u001b[0;32m   1441\u001b[0m           \u001b[0mproto_data\u001b[0m \u001b[1;33m=\u001b[0m \u001b[0mtf_session\u001b[0m\u001b[1;33m.\u001b[0m\u001b[0mTF_GetBuffer\u001b[0m\u001b[1;33m(\u001b[0m\u001b[0mrun_metadata_ptr\u001b[0m\u001b[1;33m)\u001b[0m\u001b[1;33m\u001b[0m\u001b[1;33m\u001b[0m\u001b[0m\n",
      "\u001b[1;31mKeyboardInterrupt\u001b[0m: "
     ]
    }
   ],
   "source": [
    "model_3_training = model_3.fit(\n",
    "    X_train_scaled,\n",
    "    [y_reg_train, y_class_train],\n",
    "    validation_data=(X_test_scaled, [y_reg_test, y_class_test]),\n",
    "    batch_size=1,\n",
    "    epochs=100,\n",
    "    #callbacks=[early_stopping_monitor],\n",
    "    verbose=True)"
   ]
  },
  {
   "cell_type": "code",
   "execution_count": 181,
   "metadata": {
    "ExecuteTime": {
     "end_time": "2019-08-08T13:47:27.719160Z",
     "start_time": "2019-08-08T13:47:27.019386Z"
    }
   },
   "outputs": [
    {
     "data": {
      "text/plain": [
       "(11.462805, array([0.0648931, 0.0077849, 0.2104663], dtype=float32))"
      ]
     },
     "execution_count": 181,
     "metadata": {},
     "output_type": "execute_result"
    }
   ],
   "source": [
    "model_3.predict(X_test_scaled)[0][6][0], model_3.predict(X_test_scaled)[1][6]"
   ]
  },
  {
   "cell_type": "code",
   "execution_count": 102,
   "metadata": {
    "ExecuteTime": {
     "end_time": "2019-08-11T19:53:23.230439Z",
     "start_time": "2019-08-11T19:53:22.980441Z"
    }
   },
   "outputs": [],
   "source": [
    "input_tensor = Input(shape=(in_cols,))\n",
    "hidden_1 = Dense(in_cols*2, activation='relu', name='hidden_1')(input_tensor)\n",
    "hidden_2 = Dense(in_cols*2, activation='relu', name='hidden_2')(hidden_1)\n",
    "hidden_3 = Dense(in_cols*4, activation='relu', name='hidden_3')(hidden_2)\n",
    "hidden_4 = Dense(in_cols*4, activation='relu', name='hidden_4')(hidden_3)\n",
    "output_tensor_reg = Dense(1, name='Regression')(hidden_4)\n",
    "\n",
    "output_tensor_class = Dense(out_cols, activation='sigmoid', name='Classification')(output_tensor_reg)"
   ]
  },
  {
   "cell_type": "code",
   "execution_count": 103,
   "metadata": {
    "ExecuteTime": {
     "end_time": "2019-08-11T19:53:24.167503Z",
     "start_time": "2019-08-11T19:53:24.160491Z"
    }
   },
   "outputs": [],
   "source": [
    "model_4 = Model(input_tensor, [output_tensor_reg, output_tensor_class])"
   ]
  },
  {
   "cell_type": "code",
   "execution_count": 104,
   "metadata": {
    "ExecuteTime": {
     "end_time": "2019-08-11T19:53:24.676499Z",
     "start_time": "2019-08-11T19:53:24.456489Z"
    }
   },
   "outputs": [],
   "source": [
    "model_4.compile(loss=['mse', 'categorical_crossentropy'],\n",
    "             optimizer='adam',\n",
    "             metrics=['accuracy'])"
   ]
  },
  {
   "cell_type": "code",
   "execution_count": 105,
   "metadata": {
    "ExecuteTime": {
     "end_time": "2019-08-11T19:53:25.987495Z",
     "start_time": "2019-08-11T19:53:25.974496Z"
    }
   },
   "outputs": [
    {
     "name": "stdout",
     "output_type": "stream",
     "text": [
      "_________________________________________________________________\n",
      "Layer (type)                 Output Shape              Param #   \n",
      "=================================================================\n",
      "input_3 (InputLayer)         (None, 761)               0         \n",
      "_________________________________________________________________\n",
      "hidden_1 (Dense)             (None, 1522)              1159764   \n",
      "_________________________________________________________________\n",
      "hidden_2 (Dense)             (None, 1522)              2318006   \n",
      "_________________________________________________________________\n",
      "hidden_3 (Dense)             (None, 3044)              4636012   \n",
      "_________________________________________________________________\n",
      "hidden_4 (Dense)             (None, 3044)              9268980   \n",
      "_________________________________________________________________\n",
      "Regression (Dense)           (None, 1)                 3045      \n",
      "_________________________________________________________________\n",
      "Classification (Dense)       (None, 3)                 6         \n",
      "=================================================================\n",
      "Total params: 17,385,813\n",
      "Trainable params: 17,385,813\n",
      "Non-trainable params: 0\n",
      "_________________________________________________________________\n"
     ]
    }
   ],
   "source": [
    "model_4.summary()"
   ]
  },
  {
   "cell_type": "code",
   "execution_count": 106,
   "metadata": {
    "ExecuteTime": {
     "end_time": "2019-08-11T19:53:59.290236Z",
     "start_time": "2019-08-11T19:53:32.598466Z"
    },
    "scrolled": true
   },
   "outputs": [
    {
     "name": "stdout",
     "output_type": "stream",
     "text": [
      "Train on 2007 samples, validate on 502 samples\n",
      "Epoch 1/50\n",
      "  28/2007 [..............................] - ETA: 27:44 - loss: 20.2215 - Regression_loss: 19.0504 - Classification_loss: 1.1711 - Regression_acc: 0.1071 - Classification_acc: 0.3929"
     ]
    },
    {
     "ename": "KeyboardInterrupt",
     "evalue": "",
     "output_type": "error",
     "traceback": [
      "\u001b[1;31m---------------------------------------------------------------------------\u001b[0m",
      "\u001b[1;31mKeyboardInterrupt\u001b[0m                         Traceback (most recent call last)",
      "\u001b[1;32m<ipython-input-106-ed05bc17560a>\u001b[0m in \u001b[0;36m<module>\u001b[1;34m\u001b[0m\n\u001b[0;32m      6\u001b[0m     \u001b[0mepochs\u001b[0m\u001b[1;33m=\u001b[0m\u001b[1;36m50\u001b[0m\u001b[1;33m,\u001b[0m\u001b[1;33m\u001b[0m\u001b[1;33m\u001b[0m\u001b[0m\n\u001b[0;32m      7\u001b[0m     \u001b[0mcallbacks\u001b[0m\u001b[1;33m=\u001b[0m\u001b[1;33m[\u001b[0m\u001b[0mearly_stopping_monitor\u001b[0m\u001b[1;33m,\u001b[0m \u001b[0mmodel_save\u001b[0m\u001b[1;33m]\u001b[0m\u001b[1;33m,\u001b[0m\u001b[1;33m\u001b[0m\u001b[1;33m\u001b[0m\u001b[0m\n\u001b[1;32m----> 8\u001b[1;33m     verbose=True)\n\u001b[0m",
      "\u001b[1;32m~\\AppData\\Roaming\\Python\\Python37\\site-packages\\keras\\engine\\training.py\u001b[0m in \u001b[0;36mfit\u001b[1;34m(self, x, y, batch_size, epochs, verbose, callbacks, validation_split, validation_data, shuffle, class_weight, sample_weight, initial_epoch, steps_per_epoch, validation_steps, **kwargs)\u001b[0m\n\u001b[0;32m   1037\u001b[0m                                         \u001b[0minitial_epoch\u001b[0m\u001b[1;33m=\u001b[0m\u001b[0minitial_epoch\u001b[0m\u001b[1;33m,\u001b[0m\u001b[1;33m\u001b[0m\u001b[1;33m\u001b[0m\u001b[0m\n\u001b[0;32m   1038\u001b[0m                                         \u001b[0msteps_per_epoch\u001b[0m\u001b[1;33m=\u001b[0m\u001b[0msteps_per_epoch\u001b[0m\u001b[1;33m,\u001b[0m\u001b[1;33m\u001b[0m\u001b[1;33m\u001b[0m\u001b[0m\n\u001b[1;32m-> 1039\u001b[1;33m                                         validation_steps=validation_steps)\n\u001b[0m\u001b[0;32m   1040\u001b[0m \u001b[1;33m\u001b[0m\u001b[0m\n\u001b[0;32m   1041\u001b[0m     def evaluate(self, x=None, y=None,\n",
      "\u001b[1;32m~\\AppData\\Roaming\\Python\\Python37\\site-packages\\keras\\engine\\training_arrays.py\u001b[0m in \u001b[0;36mfit_loop\u001b[1;34m(model, f, ins, out_labels, batch_size, epochs, verbose, callbacks, val_f, val_ins, shuffle, callback_metrics, initial_epoch, steps_per_epoch, validation_steps)\u001b[0m\n\u001b[0;32m    197\u001b[0m                     \u001b[0mins_batch\u001b[0m\u001b[1;33m[\u001b[0m\u001b[0mi\u001b[0m\u001b[1;33m]\u001b[0m \u001b[1;33m=\u001b[0m \u001b[0mins_batch\u001b[0m\u001b[1;33m[\u001b[0m\u001b[0mi\u001b[0m\u001b[1;33m]\u001b[0m\u001b[1;33m.\u001b[0m\u001b[0mtoarray\u001b[0m\u001b[1;33m(\u001b[0m\u001b[1;33m)\u001b[0m\u001b[1;33m\u001b[0m\u001b[1;33m\u001b[0m\u001b[0m\n\u001b[0;32m    198\u001b[0m \u001b[1;33m\u001b[0m\u001b[0m\n\u001b[1;32m--> 199\u001b[1;33m                 \u001b[0mouts\u001b[0m \u001b[1;33m=\u001b[0m \u001b[0mf\u001b[0m\u001b[1;33m(\u001b[0m\u001b[0mins_batch\u001b[0m\u001b[1;33m)\u001b[0m\u001b[1;33m\u001b[0m\u001b[1;33m\u001b[0m\u001b[0m\n\u001b[0m\u001b[0;32m    200\u001b[0m                 \u001b[0mouts\u001b[0m \u001b[1;33m=\u001b[0m \u001b[0mto_list\u001b[0m\u001b[1;33m(\u001b[0m\u001b[0mouts\u001b[0m\u001b[1;33m)\u001b[0m\u001b[1;33m\u001b[0m\u001b[1;33m\u001b[0m\u001b[0m\n\u001b[0;32m    201\u001b[0m                 \u001b[1;32mfor\u001b[0m \u001b[0ml\u001b[0m\u001b[1;33m,\u001b[0m \u001b[0mo\u001b[0m \u001b[1;32min\u001b[0m \u001b[0mzip\u001b[0m\u001b[1;33m(\u001b[0m\u001b[0mout_labels\u001b[0m\u001b[1;33m,\u001b[0m \u001b[0mouts\u001b[0m\u001b[1;33m)\u001b[0m\u001b[1;33m:\u001b[0m\u001b[1;33m\u001b[0m\u001b[1;33m\u001b[0m\u001b[0m\n",
      "\u001b[1;32m~\\AppData\\Roaming\\Python\\Python37\\site-packages\\keras\\backend\\tensorflow_backend.py\u001b[0m in \u001b[0;36m__call__\u001b[1;34m(self, inputs)\u001b[0m\n\u001b[0;32m   2713\u001b[0m                 \u001b[1;32mreturn\u001b[0m \u001b[0mself\u001b[0m\u001b[1;33m.\u001b[0m\u001b[0m_legacy_call\u001b[0m\u001b[1;33m(\u001b[0m\u001b[0minputs\u001b[0m\u001b[1;33m)\u001b[0m\u001b[1;33m\u001b[0m\u001b[1;33m\u001b[0m\u001b[0m\n\u001b[0;32m   2714\u001b[0m \u001b[1;33m\u001b[0m\u001b[0m\n\u001b[1;32m-> 2715\u001b[1;33m             \u001b[1;32mreturn\u001b[0m \u001b[0mself\u001b[0m\u001b[1;33m.\u001b[0m\u001b[0m_call\u001b[0m\u001b[1;33m(\u001b[0m\u001b[0minputs\u001b[0m\u001b[1;33m)\u001b[0m\u001b[1;33m\u001b[0m\u001b[1;33m\u001b[0m\u001b[0m\n\u001b[0m\u001b[0;32m   2716\u001b[0m         \u001b[1;32melse\u001b[0m\u001b[1;33m:\u001b[0m\u001b[1;33m\u001b[0m\u001b[1;33m\u001b[0m\u001b[0m\n\u001b[0;32m   2717\u001b[0m             \u001b[1;32mif\u001b[0m \u001b[0mpy_any\u001b[0m\u001b[1;33m(\u001b[0m\u001b[0mis_tensor\u001b[0m\u001b[1;33m(\u001b[0m\u001b[0mx\u001b[0m\u001b[1;33m)\u001b[0m \u001b[1;32mfor\u001b[0m \u001b[0mx\u001b[0m \u001b[1;32min\u001b[0m \u001b[0minputs\u001b[0m\u001b[1;33m)\u001b[0m\u001b[1;33m:\u001b[0m\u001b[1;33m\u001b[0m\u001b[1;33m\u001b[0m\u001b[0m\n",
      "\u001b[1;32m~\\AppData\\Roaming\\Python\\Python37\\site-packages\\keras\\backend\\tensorflow_backend.py\u001b[0m in \u001b[0;36m_call\u001b[1;34m(self, inputs)\u001b[0m\n\u001b[0;32m   2673\u001b[0m             \u001b[0mfetched\u001b[0m \u001b[1;33m=\u001b[0m \u001b[0mself\u001b[0m\u001b[1;33m.\u001b[0m\u001b[0m_callable_fn\u001b[0m\u001b[1;33m(\u001b[0m\u001b[1;33m*\u001b[0m\u001b[0marray_vals\u001b[0m\u001b[1;33m,\u001b[0m \u001b[0mrun_metadata\u001b[0m\u001b[1;33m=\u001b[0m\u001b[0mself\u001b[0m\u001b[1;33m.\u001b[0m\u001b[0mrun_metadata\u001b[0m\u001b[1;33m)\u001b[0m\u001b[1;33m\u001b[0m\u001b[1;33m\u001b[0m\u001b[0m\n\u001b[0;32m   2674\u001b[0m         \u001b[1;32melse\u001b[0m\u001b[1;33m:\u001b[0m\u001b[1;33m\u001b[0m\u001b[1;33m\u001b[0m\u001b[0m\n\u001b[1;32m-> 2675\u001b[1;33m             \u001b[0mfetched\u001b[0m \u001b[1;33m=\u001b[0m \u001b[0mself\u001b[0m\u001b[1;33m.\u001b[0m\u001b[0m_callable_fn\u001b[0m\u001b[1;33m(\u001b[0m\u001b[1;33m*\u001b[0m\u001b[0marray_vals\u001b[0m\u001b[1;33m)\u001b[0m\u001b[1;33m\u001b[0m\u001b[1;33m\u001b[0m\u001b[0m\n\u001b[0m\u001b[0;32m   2676\u001b[0m         \u001b[1;32mreturn\u001b[0m \u001b[0mfetched\u001b[0m\u001b[1;33m[\u001b[0m\u001b[1;33m:\u001b[0m\u001b[0mlen\u001b[0m\u001b[1;33m(\u001b[0m\u001b[0mself\u001b[0m\u001b[1;33m.\u001b[0m\u001b[0moutputs\u001b[0m\u001b[1;33m)\u001b[0m\u001b[1;33m]\u001b[0m\u001b[1;33m\u001b[0m\u001b[1;33m\u001b[0m\u001b[0m\n\u001b[0;32m   2677\u001b[0m \u001b[1;33m\u001b[0m\u001b[0m\n",
      "\u001b[1;32m~\\AppData\\Roaming\\Python\\Python37\\site-packages\\tensorflow\\python\\client\\session.py\u001b[0m in \u001b[0;36m__call__\u001b[1;34m(self, *args, **kwargs)\u001b[0m\n\u001b[0;32m   1437\u001b[0m           ret = tf_session.TF_SessionRunCallable(\n\u001b[0;32m   1438\u001b[0m               \u001b[0mself\u001b[0m\u001b[1;33m.\u001b[0m\u001b[0m_session\u001b[0m\u001b[1;33m.\u001b[0m\u001b[0m_session\u001b[0m\u001b[1;33m,\u001b[0m \u001b[0mself\u001b[0m\u001b[1;33m.\u001b[0m\u001b[0m_handle\u001b[0m\u001b[1;33m,\u001b[0m \u001b[0margs\u001b[0m\u001b[1;33m,\u001b[0m \u001b[0mstatus\u001b[0m\u001b[1;33m,\u001b[0m\u001b[1;33m\u001b[0m\u001b[1;33m\u001b[0m\u001b[0m\n\u001b[1;32m-> 1439\u001b[1;33m               run_metadata_ptr)\n\u001b[0m\u001b[0;32m   1440\u001b[0m         \u001b[1;32mif\u001b[0m \u001b[0mrun_metadata\u001b[0m\u001b[1;33m:\u001b[0m\u001b[1;33m\u001b[0m\u001b[1;33m\u001b[0m\u001b[0m\n\u001b[0;32m   1441\u001b[0m           \u001b[0mproto_data\u001b[0m \u001b[1;33m=\u001b[0m \u001b[0mtf_session\u001b[0m\u001b[1;33m.\u001b[0m\u001b[0mTF_GetBuffer\u001b[0m\u001b[1;33m(\u001b[0m\u001b[0mrun_metadata_ptr\u001b[0m\u001b[1;33m)\u001b[0m\u001b[1;33m\u001b[0m\u001b[1;33m\u001b[0m\u001b[0m\n",
      "\u001b[1;31mKeyboardInterrupt\u001b[0m: "
     ]
    }
   ],
   "source": [
    "model_4_training = model_4.fit(\n",
    "    X_train_scaled,\n",
    "    [y_reg_train, y_class_train],\n",
    "    validation_data=(X_test_scaled, [y_reg_test, y_class_test]),\n",
    "    batch_size=1,\n",
    "    epochs=50,\n",
    "    callbacks=[early_stopping_monitor, model_save],\n",
    "    verbose=True)"
   ]
  },
  {
   "cell_type": "code",
   "execution_count": 187,
   "metadata": {
    "ExecuteTime": {
     "end_time": "2019-08-08T13:48:04.381514Z",
     "start_time": "2019-08-08T13:48:04.287518Z"
    }
   },
   "outputs": [
    {
     "data": {
      "text/plain": [
       "(11.462805, array([0.0648931, 0.0077849, 0.2104663], dtype=float32))"
      ]
     },
     "execution_count": 187,
     "metadata": {},
     "output_type": "execute_result"
    }
   ],
   "source": [
    "model_3.predict(X_test_scaled)[0][6][0], model_3.predict(X_test_scaled)[1][6]"
   ]
  },
  {
   "cell_type": "code",
   "execution_count": 188,
   "metadata": {
    "ExecuteTime": {
     "end_time": "2019-08-08T13:48:05.045597Z",
     "start_time": "2019-08-08T13:48:04.390507Z"
    }
   },
   "outputs": [
    {
     "data": {
      "text/plain": [
       "(0.45792094, array([0.3171984 , 0.29628068, 0.58179057], dtype=float32))"
      ]
     },
     "execution_count": 188,
     "metadata": {},
     "output_type": "execute_result"
    }
   ],
   "source": [
    "model_4.predict(X_test_scaled)[0][6][0], model_4.predict(X_test_scaled)[1][6]"
   ]
  },
  {
   "cell_type": "code",
   "execution_count": 189,
   "metadata": {
    "ExecuteTime": {
     "end_time": "2019-08-08T13:48:05.712658Z",
     "start_time": "2019-08-08T13:48:05.061673Z"
    }
   },
   "outputs": [
    {
     "data": {
      "text/plain": [
       "<matplotlib.legend.Legend at 0x187d7c222b0>"
      ]
     },
     "execution_count": 189,
     "metadata": {},
     "output_type": "execute_result"
    },
    {
     "data": {
      "image/png": "[encoded data removed]",
      "text/plain": [
       "<Figure size 432x288 with 1 Axes>"
      ]
     },
     "metadata": {
      "needs_background": "light"
     },
     "output_type": "display_data"
    }
   ],
   "source": [
    "plt.plot(model_4_training.history['loss'])\n",
    "plt.xlabel('Epochs')\n",
    "plt.ylim([0, 7])\n",
    "plt.title('Total Loss over Epochs')\n",
    "plt.plot(model_4_training.history['val_loss'])\n",
    "plt.legend(['Total Training loss', 'Total Prediction loss'])"
   ]
  },
  {
   "cell_type": "code",
   "execution_count": 190,
   "metadata": {
    "ExecuteTime": {
     "end_time": "2019-08-08T13:48:06.318457Z",
     "start_time": "2019-08-08T13:48:05.727662Z"
    }
   },
   "outputs": [
    {
     "data": {
      "text/plain": [
       "<matplotlib.legend.Legend at 0x187d8c56470>"
      ]
     },
     "execution_count": 190,
     "metadata": {},
     "output_type": "execute_result"
    },
    {
     "data": {
      "image/png": "[encoded data removed]",
      "text/plain": [
       "<Figure size 432x288 with 1 Axes>"
      ]
     },
     "metadata": {
      "needs_background": "light"
     },
     "output_type": "display_data"
    }
   ],
   "source": [
    "plt.plot(model_4_training.history['Classification_acc'])\n",
    "plt.xlabel('Epochs')\n",
    "plt.ylim([0, 1])\n",
    "plt.title('Total Accuracy over Epochs')\n",
    "plt.plot(model_4_training.history['val_Classification_acc'])\n",
    "plt.legend(['Total Training Accuracy', 'Total Prediction Accuracy'])"
   ]
  },
  {
   "cell_type": "code",
   "execution_count": 191,
   "metadata": {
    "ExecuteTime": {
     "end_time": "2019-08-08T13:48:06.374531Z",
     "start_time": "2019-08-08T13:48:06.331508Z"
    },
    "scrolled": true
   },
   "outputs": [],
   "source": [
    "model_4_prediction = pd.DataFrame(model_4.predict(X_test_scaled)[1])\n",
    "model_4_prediction.columns = ['draw', 'lost', 'won']"
   ]
  },
  {
   "cell_type": "code",
   "execution_count": 231,
   "metadata": {
    "ExecuteTime": {
     "end_time": "2019-08-08T15:05:17.604215Z",
     "start_time": "2019-08-08T15:05:17.585220Z"
    }
   },
   "outputs": [
    {
     "data": {
      "text/html": [
       "<div>\n",
       "<style scoped>\n",
       "    .dataframe tbody tr th:only-of-type {\n",
       "        vertical-align: middle;\n",
       "    }\n",
       "\n",
       "    .dataframe tbody tr th {\n",
       "        vertical-align: top;\n",
       "    }\n",
       "\n",
       "    .dataframe thead th {\n",
       "        text-align: right;\n",
       "    }\n",
       "</style>\n",
       "<table border=\"1\" class=\"dataframe\">\n",
       "  <thead>\n",
       "    <tr style=\"text-align: right;\">\n",
       "      <th></th>\n",
       "      <th>draw</th>\n",
       "      <th>lost</th>\n",
       "      <th>won</th>\n",
       "    </tr>\n",
       "  </thead>\n",
       "  <tbody>\n",
       "    <tr>\n",
       "      <th>0</th>\n",
       "      <td>0.349967</td>\n",
       "      <td>0.456649</td>\n",
       "      <td>0.461337</td>\n",
       "    </tr>\n",
       "    <tr>\n",
       "      <th>1</th>\n",
       "      <td>0.312514</td>\n",
       "      <td>0.275509</td>\n",
       "      <td>0.599061</td>\n",
       "    </tr>\n",
       "    <tr>\n",
       "      <th>2</th>\n",
       "      <td>0.354547</td>\n",
       "      <td>0.480072</td>\n",
       "      <td>0.444976</td>\n",
       "    </tr>\n",
       "    <tr>\n",
       "      <th>3</th>\n",
       "      <td>0.467312</td>\n",
       "      <td>0.892292</td>\n",
       "      <td>0.146693</td>\n",
       "    </tr>\n",
       "    <tr>\n",
       "      <th>4</th>\n",
       "      <td>0.222483</td>\n",
       "      <td>0.041643</td>\n",
       "      <td>0.872570</td>\n",
       "    </tr>\n",
       "  </tbody>\n",
       "</table>\n",
       "</div>"
      ],
      "text/plain": [
       "       draw      lost       won\n",
       "0  0.349967  0.456649  0.461337\n",
       "1  0.312514  0.275509  0.599061\n",
       "2  0.354547  0.480072  0.444976\n",
       "3  0.467312  0.892292  0.146693\n",
       "4  0.222483  0.041643  0.872570"
      ]
     },
     "execution_count": 231,
     "metadata": {},
     "output_type": "execute_result"
    }
   ],
   "source": [
    "model_4_prediction.head()"
   ]
  },
  {
   "cell_type": "code",
   "execution_count": null,
   "metadata": {},
   "outputs": [],
   "source": [
    "from sklearn.metrics import confusion_matrix"
   ]
  },
  {
   "cell_type": "code",
   "execution_count": 232,
   "metadata": {
    "ExecuteTime": {
     "end_time": "2019-08-08T15:06:38.200266Z",
     "start_time": "2019-08-08T15:06:38.182261Z"
    }
   },
   "outputs": [
    {
     "data": {
      "text/plain": [
       "array([[ 0,  9, 11],\n",
       "       [ 0, 33, 12],\n",
       "       [ 0, 19, 22]], dtype=int64)"
      ]
     },
     "execution_count": 232,
     "metadata": {},
     "output_type": "execute_result"
    }
   ],
   "source": [
    "cm = confusion_matrix([np.argmax(x) for x in y_class_test.values], [np.argmax(x) for x in model_4_prediction.values])\n",
    "cm"
   ]
  },
  {
   "cell_type": "code",
   "execution_count": 203,
   "metadata": {
    "ExecuteTime": {
     "end_time": "2019-08-08T14:05:12.758950Z",
     "start_time": "2019-08-08T14:05:12.381077Z"
    }
   },
   "outputs": [
    {
     "data": {
      "image/png": "[encoded data removed]",
      "text/plain": [
       "<Figure size 576x576 with 2 Axes>"
      ]
     },
     "metadata": {
      "needs_background": "light"
     },
     "output_type": "display_data"
    }
   ],
   "source": [
    "from sklearn.metrics import confusion_matrix\n",
    "fig, ax = plt.subplots(1, 1, figsize=(8,8))\n",
    "cm = confusion_matrix([np.argmax(x) for x in y_class_test.values], [np.argmax(x) for x in model_4_prediction.values])\n",
    "cm = cm.astype('float') / cm.sum(axis=1)[:, np.newaxis]\n",
    "sns.heatmap(cm, ax = ax, annot=True, square=True)\n",
    "fig.suptitle('Confusion Matrix', fontsize=20)\n",
    "plt.xlabel('Prediction', fontsize=18)\n",
    "plt.ylabel('Actual', fontsize=16)\n",
    "plt.show()\n",
    "\n",
    "\n",
    "#### michi code\n",
    "def pretty_confusion(target, prediction):\n",
    "    \"\"\"Prettify the on-board confusion matrix of sklearn.\"\"\"\n",
    "    \n",
    "    cmc = [\"Condition positive\", \"Condition negative\"]\n",
    "    cmi = [\"Predicted condition positive\", \"Predicted condition negative\"]\n",
    "    \n",
    "    matrix = confusion_matrix(target, prediction)\n",
    "    cm = matrix.astype('float') / matrix.sum(axis=1)[:, np.newaxis]\n",
    "    return pd.DataFrame(cm , columns=cmc, index=cmi)"
   ]
  },
  {
   "cell_type": "code",
   "execution_count": 193,
   "metadata": {
    "ExecuteTime": {
     "end_time": "2019-08-08T13:48:06.941466Z",
     "start_time": "2019-08-08T13:48:06.926471Z"
    }
   },
   "outputs": [
    {
     "data": {
      "text/plain": [
       "array([[0.        , 0.45      , 0.55      ],\n",
       "       [0.        , 0.73333333, 0.26666667],\n",
       "       [0.        , 0.46341463, 0.53658537]])"
      ]
     },
     "execution_count": 193,
     "metadata": {},
     "output_type": "execute_result"
    }
   ],
   "source": [
    "cm"
   ]
  },
  {
   "cell_type": "code",
   "execution_count": 194,
   "metadata": {
    "ExecuteTime": {
     "end_time": "2019-08-08T13:48:07.006467Z",
     "start_time": "2019-08-08T13:48:06.953468Z"
    },
    "scrolled": true
   },
   "outputs": [
    {
     "data": {
      "text/html": [
       "<div>\n",
       "<style scoped>\n",
       "    .dataframe tbody tr th:only-of-type {\n",
       "        vertical-align: middle;\n",
       "    }\n",
       "\n",
       "    .dataframe tbody tr th {\n",
       "        vertical-align: top;\n",
       "    }\n",
       "\n",
       "    .dataframe thead th {\n",
       "        text-align: right;\n",
       "    }\n",
       "</style>\n",
       "<table border=\"1\" class=\"dataframe\">\n",
       "  <thead>\n",
       "    <tr style=\"text-align: right;\">\n",
       "      <th></th>\n",
       "      <th>draw</th>\n",
       "      <th>lost</th>\n",
       "      <th>won</th>\n",
       "    </tr>\n",
       "  </thead>\n",
       "  <tbody>\n",
       "    <tr>\n",
       "      <th>11</th>\n",
       "      <td>0</td>\n",
       "      <td>0</td>\n",
       "      <td>1</td>\n",
       "    </tr>\n",
       "    <tr>\n",
       "      <th>444</th>\n",
       "      <td>0</td>\n",
       "      <td>0</td>\n",
       "      <td>1</td>\n",
       "    </tr>\n",
       "    <tr>\n",
       "      <th>414</th>\n",
       "      <td>0</td>\n",
       "      <td>0</td>\n",
       "      <td>1</td>\n",
       "    </tr>\n",
       "    <tr>\n",
       "      <th>150</th>\n",
       "      <td>1</td>\n",
       "      <td>0</td>\n",
       "      <td>0</td>\n",
       "    </tr>\n",
       "    <tr>\n",
       "      <th>473</th>\n",
       "      <td>1</td>\n",
       "      <td>0</td>\n",
       "      <td>0</td>\n",
       "    </tr>\n",
       "    <tr>\n",
       "      <th>75</th>\n",
       "      <td>0</td>\n",
       "      <td>0</td>\n",
       "      <td>1</td>\n",
       "    </tr>\n",
       "    <tr>\n",
       "      <th>504</th>\n",
       "      <td>0</td>\n",
       "      <td>0</td>\n",
       "      <td>1</td>\n",
       "    </tr>\n",
       "    <tr>\n",
       "      <th>102</th>\n",
       "      <td>0</td>\n",
       "      <td>0</td>\n",
       "      <td>1</td>\n",
       "    </tr>\n",
       "    <tr>\n",
       "      <th>424</th>\n",
       "      <td>0</td>\n",
       "      <td>0</td>\n",
       "      <td>1</td>\n",
       "    </tr>\n",
       "    <tr>\n",
       "      <th>291</th>\n",
       "      <td>0</td>\n",
       "      <td>0</td>\n",
       "      <td>1</td>\n",
       "    </tr>\n",
       "    <tr>\n",
       "      <th>455</th>\n",
       "      <td>0</td>\n",
       "      <td>0</td>\n",
       "      <td>1</td>\n",
       "    </tr>\n",
       "    <tr>\n",
       "      <th>145</th>\n",
       "      <td>0</td>\n",
       "      <td>0</td>\n",
       "      <td>1</td>\n",
       "    </tr>\n",
       "    <tr>\n",
       "      <th>433</th>\n",
       "      <td>1</td>\n",
       "      <td>0</td>\n",
       "      <td>0</td>\n",
       "    </tr>\n",
       "    <tr>\n",
       "      <th>59</th>\n",
       "      <td>0</td>\n",
       "      <td>1</td>\n",
       "      <td>0</td>\n",
       "    </tr>\n",
       "    <tr>\n",
       "      <th>164</th>\n",
       "      <td>0</td>\n",
       "      <td>0</td>\n",
       "      <td>1</td>\n",
       "    </tr>\n",
       "    <tr>\n",
       "      <th>5</th>\n",
       "      <td>1</td>\n",
       "      <td>0</td>\n",
       "      <td>0</td>\n",
       "    </tr>\n",
       "    <tr>\n",
       "      <th>453</th>\n",
       "      <td>1</td>\n",
       "      <td>0</td>\n",
       "      <td>0</td>\n",
       "    </tr>\n",
       "    <tr>\n",
       "      <th>179</th>\n",
       "      <td>1</td>\n",
       "      <td>0</td>\n",
       "      <td>0</td>\n",
       "    </tr>\n",
       "    <tr>\n",
       "      <th>82</th>\n",
       "      <td>0</td>\n",
       "      <td>1</td>\n",
       "      <td>0</td>\n",
       "    </tr>\n",
       "    <tr>\n",
       "      <th>48</th>\n",
       "      <td>0</td>\n",
       "      <td>0</td>\n",
       "      <td>1</td>\n",
       "    </tr>\n",
       "    <tr>\n",
       "      <th>337</th>\n",
       "      <td>0</td>\n",
       "      <td>1</td>\n",
       "      <td>0</td>\n",
       "    </tr>\n",
       "    <tr>\n",
       "      <th>162</th>\n",
       "      <td>0</td>\n",
       "      <td>0</td>\n",
       "      <td>1</td>\n",
       "    </tr>\n",
       "    <tr>\n",
       "      <th>57</th>\n",
       "      <td>0</td>\n",
       "      <td>0</td>\n",
       "      <td>1</td>\n",
       "    </tr>\n",
       "    <tr>\n",
       "      <th>419</th>\n",
       "      <td>0</td>\n",
       "      <td>0</td>\n",
       "      <td>1</td>\n",
       "    </tr>\n",
       "    <tr>\n",
       "      <th>13</th>\n",
       "      <td>1</td>\n",
       "      <td>0</td>\n",
       "      <td>0</td>\n",
       "    </tr>\n",
       "    <tr>\n",
       "      <th>204</th>\n",
       "      <td>1</td>\n",
       "      <td>0</td>\n",
       "      <td>0</td>\n",
       "    </tr>\n",
       "    <tr>\n",
       "      <th>285</th>\n",
       "      <td>0</td>\n",
       "      <td>1</td>\n",
       "      <td>0</td>\n",
       "    </tr>\n",
       "    <tr>\n",
       "      <th>72</th>\n",
       "      <td>0</td>\n",
       "      <td>1</td>\n",
       "      <td>0</td>\n",
       "    </tr>\n",
       "    <tr>\n",
       "      <th>138</th>\n",
       "      <td>1</td>\n",
       "      <td>0</td>\n",
       "      <td>0</td>\n",
       "    </tr>\n",
       "    <tr>\n",
       "      <th>9</th>\n",
       "      <td>0</td>\n",
       "      <td>1</td>\n",
       "      <td>0</td>\n",
       "    </tr>\n",
       "    <tr>\n",
       "      <th>...</th>\n",
       "      <td>...</td>\n",
       "      <td>...</td>\n",
       "      <td>...</td>\n",
       "    </tr>\n",
       "    <tr>\n",
       "      <th>192</th>\n",
       "      <td>0</td>\n",
       "      <td>1</td>\n",
       "      <td>0</td>\n",
       "    </tr>\n",
       "    <tr>\n",
       "      <th>474</th>\n",
       "      <td>1</td>\n",
       "      <td>0</td>\n",
       "      <td>0</td>\n",
       "    </tr>\n",
       "    <tr>\n",
       "      <th>114</th>\n",
       "      <td>0</td>\n",
       "      <td>0</td>\n",
       "      <td>1</td>\n",
       "    </tr>\n",
       "    <tr>\n",
       "      <th>400</th>\n",
       "      <td>0</td>\n",
       "      <td>1</td>\n",
       "      <td>0</td>\n",
       "    </tr>\n",
       "    <tr>\n",
       "      <th>352</th>\n",
       "      <td>0</td>\n",
       "      <td>0</td>\n",
       "      <td>1</td>\n",
       "    </tr>\n",
       "    <tr>\n",
       "      <th>509</th>\n",
       "      <td>0</td>\n",
       "      <td>0</td>\n",
       "      <td>1</td>\n",
       "    </tr>\n",
       "    <tr>\n",
       "      <th>407</th>\n",
       "      <td>1</td>\n",
       "      <td>0</td>\n",
       "      <td>0</td>\n",
       "    </tr>\n",
       "    <tr>\n",
       "      <th>55</th>\n",
       "      <td>0</td>\n",
       "      <td>1</td>\n",
       "      <td>0</td>\n",
       "    </tr>\n",
       "    <tr>\n",
       "      <th>289</th>\n",
       "      <td>0</td>\n",
       "      <td>0</td>\n",
       "      <td>1</td>\n",
       "    </tr>\n",
       "    <tr>\n",
       "      <th>276</th>\n",
       "      <td>0</td>\n",
       "      <td>1</td>\n",
       "      <td>0</td>\n",
       "    </tr>\n",
       "    <tr>\n",
       "      <th>93</th>\n",
       "      <td>1</td>\n",
       "      <td>0</td>\n",
       "      <td>0</td>\n",
       "    </tr>\n",
       "    <tr>\n",
       "      <th>316</th>\n",
       "      <td>0</td>\n",
       "      <td>0</td>\n",
       "      <td>1</td>\n",
       "    </tr>\n",
       "    <tr>\n",
       "      <th>328</th>\n",
       "      <td>0</td>\n",
       "      <td>1</td>\n",
       "      <td>0</td>\n",
       "    </tr>\n",
       "    <tr>\n",
       "      <th>170</th>\n",
       "      <td>0</td>\n",
       "      <td>0</td>\n",
       "      <td>1</td>\n",
       "    </tr>\n",
       "    <tr>\n",
       "      <th>182</th>\n",
       "      <td>0</td>\n",
       "      <td>1</td>\n",
       "      <td>0</td>\n",
       "    </tr>\n",
       "    <tr>\n",
       "      <th>341</th>\n",
       "      <td>0</td>\n",
       "      <td>1</td>\n",
       "      <td>0</td>\n",
       "    </tr>\n",
       "    <tr>\n",
       "      <th>468</th>\n",
       "      <td>0</td>\n",
       "      <td>0</td>\n",
       "      <td>1</td>\n",
       "    </tr>\n",
       "    <tr>\n",
       "      <th>456</th>\n",
       "      <td>0</td>\n",
       "      <td>1</td>\n",
       "      <td>0</td>\n",
       "    </tr>\n",
       "    <tr>\n",
       "      <th>513</th>\n",
       "      <td>0</td>\n",
       "      <td>0</td>\n",
       "      <td>1</td>\n",
       "    </tr>\n",
       "    <tr>\n",
       "      <th>458</th>\n",
       "      <td>0</td>\n",
       "      <td>1</td>\n",
       "      <td>0</td>\n",
       "    </tr>\n",
       "    <tr>\n",
       "      <th>202</th>\n",
       "      <td>0</td>\n",
       "      <td>0</td>\n",
       "      <td>1</td>\n",
       "    </tr>\n",
       "    <tr>\n",
       "      <th>266</th>\n",
       "      <td>0</td>\n",
       "      <td>1</td>\n",
       "      <td>0</td>\n",
       "    </tr>\n",
       "    <tr>\n",
       "      <th>196</th>\n",
       "      <td>0</td>\n",
       "      <td>0</td>\n",
       "      <td>1</td>\n",
       "    </tr>\n",
       "    <tr>\n",
       "      <th>177</th>\n",
       "      <td>0</td>\n",
       "      <td>0</td>\n",
       "      <td>1</td>\n",
       "    </tr>\n",
       "    <tr>\n",
       "      <th>26</th>\n",
       "      <td>0</td>\n",
       "      <td>1</td>\n",
       "      <td>0</td>\n",
       "    </tr>\n",
       "    <tr>\n",
       "      <th>132</th>\n",
       "      <td>0</td>\n",
       "      <td>0</td>\n",
       "      <td>1</td>\n",
       "    </tr>\n",
       "    <tr>\n",
       "      <th>35</th>\n",
       "      <td>0</td>\n",
       "      <td>0</td>\n",
       "      <td>1</td>\n",
       "    </tr>\n",
       "    <tr>\n",
       "      <th>432</th>\n",
       "      <td>0</td>\n",
       "      <td>0</td>\n",
       "      <td>1</td>\n",
       "    </tr>\n",
       "    <tr>\n",
       "      <th>306</th>\n",
       "      <td>1</td>\n",
       "      <td>0</td>\n",
       "      <td>0</td>\n",
       "    </tr>\n",
       "    <tr>\n",
       "      <th>49</th>\n",
       "      <td>0</td>\n",
       "      <td>0</td>\n",
       "      <td>1</td>\n",
       "    </tr>\n",
       "  </tbody>\n",
       "</table>\n",
       "<p>106 rows × 3 columns</p>\n",
       "</div>"
      ],
      "text/plain": [
       "     draw  lost  won\n",
       "11      0     0    1\n",
       "444     0     0    1\n",
       "414     0     0    1\n",
       "150     1     0    0\n",
       "473     1     0    0\n",
       "75      0     0    1\n",
       "504     0     0    1\n",
       "102     0     0    1\n",
       "424     0     0    1\n",
       "291     0     0    1\n",
       "455     0     0    1\n",
       "145     0     0    1\n",
       "433     1     0    0\n",
       "59      0     1    0\n",
       "164     0     0    1\n",
       "5       1     0    0\n",
       "453     1     0    0\n",
       "179     1     0    0\n",
       "82      0     1    0\n",
       "48      0     0    1\n",
       "337     0     1    0\n",
       "162     0     0    1\n",
       "57      0     0    1\n",
       "419     0     0    1\n",
       "13      1     0    0\n",
       "204     1     0    0\n",
       "285     0     1    0\n",
       "72      0     1    0\n",
       "138     1     0    0\n",
       "9       0     1    0\n",
       "..    ...   ...  ...\n",
       "192     0     1    0\n",
       "474     1     0    0\n",
       "114     0     0    1\n",
       "400     0     1    0\n",
       "352     0     0    1\n",
       "509     0     0    1\n",
       "407     1     0    0\n",
       "55      0     1    0\n",
       "289     0     0    1\n",
       "276     0     1    0\n",
       "93      1     0    0\n",
       "316     0     0    1\n",
       "328     0     1    0\n",
       "170     0     0    1\n",
       "182     0     1    0\n",
       "341     0     1    0\n",
       "468     0     0    1\n",
       "456     0     1    0\n",
       "513     0     0    1\n",
       "458     0     1    0\n",
       "202     0     0    1\n",
       "266     0     1    0\n",
       "196     0     0    1\n",
       "177     0     0    1\n",
       "26      0     1    0\n",
       "132     0     0    1\n",
       "35      0     0    1\n",
       "432     0     0    1\n",
       "306     1     0    0\n",
       "49      0     0    1\n",
       "\n",
       "[106 rows x 3 columns]"
      ]
     },
     "execution_count": 194,
     "metadata": {},
     "output_type": "execute_result"
    }
   ],
   "source": [
    "y_class_test"
   ]
  },
  {
   "cell_type": "code",
   "execution_count": 197,
   "metadata": {
    "ExecuteTime": {
     "end_time": "2019-08-08T13:48:07.106468Z",
     "start_time": "2019-08-08T13:48:07.084454Z"
    }
   },
   "outputs": [
    {
     "data": {
      "text/html": [
       "<div>\n",
       "<style scoped>\n",
       "    .dataframe tbody tr th:only-of-type {\n",
       "        vertical-align: middle;\n",
       "    }\n",
       "\n",
       "    .dataframe tbody tr th {\n",
       "        vertical-align: top;\n",
       "    }\n",
       "\n",
       "    .dataframe thead th {\n",
       "        text-align: right;\n",
       "    }\n",
       "</style>\n",
       "<table border=\"1\" class=\"dataframe\">\n",
       "  <thead>\n",
       "    <tr style=\"text-align: right;\">\n",
       "      <th></th>\n",
       "      <th>draw</th>\n",
       "      <th>lost</th>\n",
       "      <th>won</th>\n",
       "    </tr>\n",
       "  </thead>\n",
       "  <tbody>\n",
       "    <tr>\n",
       "      <th>0</th>\n",
       "      <td>0</td>\n",
       "      <td>1</td>\n",
       "      <td>0</td>\n",
       "    </tr>\n",
       "    <tr>\n",
       "      <th>1</th>\n",
       "      <td>0</td>\n",
       "      <td>1</td>\n",
       "      <td>0</td>\n",
       "    </tr>\n",
       "    <tr>\n",
       "      <th>2</th>\n",
       "      <td>0</td>\n",
       "      <td>0</td>\n",
       "      <td>1</td>\n",
       "    </tr>\n",
       "    <tr>\n",
       "      <th>3</th>\n",
       "      <td>0</td>\n",
       "      <td>1</td>\n",
       "      <td>0</td>\n",
       "    </tr>\n",
       "    <tr>\n",
       "      <th>4</th>\n",
       "      <td>1</td>\n",
       "      <td>0</td>\n",
       "      <td>0</td>\n",
       "    </tr>\n",
       "  </tbody>\n",
       "</table>\n",
       "</div>"
      ],
      "text/plain": [
       "   draw  lost  won\n",
       "0     0     1    0\n",
       "1     0     1    0\n",
       "2     0     0    1\n",
       "3     0     1    0\n",
       "4     1     0    0"
      ]
     },
     "execution_count": 197,
     "metadata": {},
     "output_type": "execute_result"
    }
   ],
   "source": [
    "y_cat.head()"
   ]
  }
 ],
 "metadata": {
  "kernelspec": {
   "display_name": "Python 3",
   "language": "python",
   "name": "python3"
  },
  "language_info": {
   "codemirror_mode": {
    "name": "ipython",
    "version": 3
   },
   "file_extension": ".py",
   "mimetype": "text/x-python",
   "name": "python",
   "nbconvert_exporter": "python",
   "pygments_lexer": "ipython3",
   "version": "3.7.3"
  }
 },
 "nbformat": 4,
 "nbformat_minor": 2
}
