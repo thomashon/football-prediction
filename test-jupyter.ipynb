{
 "cells": [
  {
   "cell_type": "code",
   "execution_count": 1,
   "metadata": {
    "ExecuteTime": {
     "end_time": "2019-08-01T19:47:36.992659Z",
     "start_time": "2019-08-01T19:47:34.480763Z"
    }
   },
   "outputs": [
    {
     "name": "stderr",
     "output_type": "stream",
     "text": [
      "C:\\Users\\thoma\\AppData\\Roaming\\Python\\Python37\\site-packages\\numpy\\core\\__init__.py:29: UserWarning: loaded more than 1 DLL from .libs:\n",
      "C:\\Users\\thoma\\AppData\\Roaming\\Python\\Python37\\site-packages\\numpy\\.libs\\libopenblas.IPBC74C7KURV7CB2PKT5Z5FNR3SIBV4J.gfortran-win_amd64.dll\n",
      "C:\\Users\\thoma\\AppData\\Roaming\\Python\\Python37\\site-packages\\numpy\\.libs\\libopenblas.TXA6YQSD3GCQQC22GEQ54J2UDCXDXHWN.gfortran-win_amd64.dll\n",
      "  stacklevel=1)\n"
     ]
    }
   ],
   "source": [
    "import numpy as np\n",
    "import pandas as pd\n",
    "import seaborn as sns\n",
    "import matplotlib.pyplot as plt"
   ]
  },
  {
   "cell_type": "code",
   "execution_count": 4,
   "metadata": {
    "ExecuteTime": {
     "end_time": "2019-08-01T19:48:34.358626Z",
     "start_time": "2019-08-01T19:48:34.327365Z"
    }
   },
   "outputs": [],
   "source": [
    "df = pd.read_csv('games0108.csv', sep=',')"
   ]
  },
  {
   "cell_type": "code",
   "execution_count": 6,
   "metadata": {
    "ExecuteTime": {
     "end_time": "2019-08-01T19:48:59.774718Z",
     "start_time": "2019-08-01T19:48:59.767722Z"
    }
   },
   "outputs": [],
   "source": [
    "df = df.drop('fortlfd', axis=1)"
   ]
  },
  {
   "cell_type": "code",
   "execution_count": 12,
   "metadata": {
    "ExecuteTime": {
     "end_time": "2019-08-01T19:58:55.348291Z",
     "start_time": "2019-08-01T19:58:55.302295Z"
    },
    "scrolled": true
   },
   "outputs": [
    {
     "data": {
      "text/html": [
       "<div>\n",
       "<style scoped>\n",
       "    .dataframe tbody tr th:only-of-type {\n",
       "        vertical-align: middle;\n",
       "    }\n",
       "\n",
       "    .dataframe tbody tr th {\n",
       "        vertical-align: top;\n",
       "    }\n",
       "\n",
       "    .dataframe thead th {\n",
       "        text-align: right;\n",
       "    }\n",
       "</style>\n",
       "<table border=\"1\" class=\"dataframe\">\n",
       "  <thead>\n",
       "    <tr style=\"text-align: right;\">\n",
       "      <th></th>\n",
       "      <th>contest</th>\n",
       "      <th>year</th>\n",
       "      <th>month</th>\n",
       "      <th>day</th>\n",
       "      <th>time</th>\n",
       "      <th>break</th>\n",
       "      <th>hoamTeam</th>\n",
       "      <th>guestTeam</th>\n",
       "      <th>resultNumeric</th>\n",
       "      <th>homeTotalGoalDiff</th>\n",
       "      <th>guestTotalGoalDiff</th>\n",
       "      <th>homeTeamGoalsDiffAtHome</th>\n",
       "      <th>homeTeamGoalsDiffAway</th>\n",
       "      <th>guestTeamGoalsDiffAtHome</th>\n",
       "      <th>guestTeamGoalsDiffAway</th>\n",
       "      <th>hoamAvgPoints</th>\n",
       "      <th>guestAvgpoints</th>\n",
       "      <th>result</th>\n",
       "    </tr>\n",
       "  </thead>\n",
       "  <tbody>\n",
       "    <tr>\n",
       "      <th>0</th>\n",
       "      <td>UEFA CL-Qualifikation  UEFA Champions League-Q...</td>\n",
       "      <td>2017</td>\n",
       "      <td>7</td>\n",
       "      <td>Di</td>\n",
       "      <td>20:30</td>\n",
       "      <td>45</td>\n",
       "      <td>Hibernians FC</td>\n",
       "      <td>Red Bull Salzburg</td>\n",
       "      <td>-3.0</td>\n",
       "      <td>0.00</td>\n",
       "      <td>0.000000</td>\n",
       "      <td>0.0</td>\n",
       "      <td>0.0</td>\n",
       "      <td>0.0</td>\n",
       "      <td>0.0</td>\n",
       "      <td>0.0</td>\n",
       "      <td>0.0</td>\n",
       "      <td>lost</td>\n",
       "    </tr>\n",
       "    <tr>\n",
       "      <th>1</th>\n",
       "      <td>ÖFB-Cup  ÖFB-Cup</td>\n",
       "      <td>2017</td>\n",
       "      <td>7</td>\n",
       "      <td>Sa</td>\n",
       "      <td>17:00</td>\n",
       "      <td>4</td>\n",
       "      <td>Deutschlandsberger SC</td>\n",
       "      <td>Red Bull Salzburg</td>\n",
       "      <td>-7.0</td>\n",
       "      <td>0.00</td>\n",
       "      <td>3.000000</td>\n",
       "      <td>0.0</td>\n",
       "      <td>0.0</td>\n",
       "      <td>0.0</td>\n",
       "      <td>3.0</td>\n",
       "      <td>0.0</td>\n",
       "      <td>3.0</td>\n",
       "      <td>lost</td>\n",
       "    </tr>\n",
       "    <tr>\n",
       "      <th>2</th>\n",
       "      <td>UEFA CL-Qualifikation  UEFA Champions League-Q...</td>\n",
       "      <td>2017</td>\n",
       "      <td>7</td>\n",
       "      <td>Mi</td>\n",
       "      <td>20:30</td>\n",
       "      <td>4</td>\n",
       "      <td>Red Bull Salzburg</td>\n",
       "      <td>Hibernians FC</td>\n",
       "      <td>3.0</td>\n",
       "      <td>5.00</td>\n",
       "      <td>-3.000000</td>\n",
       "      <td>0.0</td>\n",
       "      <td>5.0</td>\n",
       "      <td>-3.0</td>\n",
       "      <td>0.0</td>\n",
       "      <td>3.0</td>\n",
       "      <td>0.0</td>\n",
       "      <td>won</td>\n",
       "    </tr>\n",
       "    <tr>\n",
       "      <th>3</th>\n",
       "      <td>Bundesliga  Bundesliga</td>\n",
       "      <td>2017</td>\n",
       "      <td>7</td>\n",
       "      <td>Sa</td>\n",
       "      <td>18:30</td>\n",
       "      <td>3</td>\n",
       "      <td>Wolfsberger AC</td>\n",
       "      <td>Red Bull Salzburg</td>\n",
       "      <td>-2.0</td>\n",
       "      <td>0.00</td>\n",
       "      <td>4.333333</td>\n",
       "      <td>0.0</td>\n",
       "      <td>0.0</td>\n",
       "      <td>3.0</td>\n",
       "      <td>5.0</td>\n",
       "      <td>0.0</td>\n",
       "      <td>3.0</td>\n",
       "      <td>lost</td>\n",
       "    </tr>\n",
       "    <tr>\n",
       "      <th>4</th>\n",
       "      <td>UEFA CL-Qualifikation  UEFA Champions League-Q...</td>\n",
       "      <td>2017</td>\n",
       "      <td>7</td>\n",
       "      <td>Mi</td>\n",
       "      <td>18:45</td>\n",
       "      <td>4</td>\n",
       "      <td>Red Bull Salzburg</td>\n",
       "      <td>HNK Rijeka</td>\n",
       "      <td>0.0</td>\n",
       "      <td>3.75</td>\n",
       "      <td>0.000000</td>\n",
       "      <td>3.0</td>\n",
       "      <td>4.0</td>\n",
       "      <td>0.0</td>\n",
       "      <td>0.0</td>\n",
       "      <td>3.0</td>\n",
       "      <td>0.0</td>\n",
       "      <td>draw</td>\n",
       "    </tr>\n",
       "  </tbody>\n",
       "</table>\n",
       "</div>"
      ],
      "text/plain": [
       "                                             contest  year  month day   time  \\\n",
       "0  UEFA CL-Qualifikation  UEFA Champions League-Q...  2017      7  Di  20:30   \n",
       "1                                   ÖFB-Cup  ÖFB-Cup  2017      7  Sa  17:00   \n",
       "2  UEFA CL-Qualifikation  UEFA Champions League-Q...  2017      7  Mi  20:30   \n",
       "3                             Bundesliga  Bundesliga  2017      7  Sa  18:30   \n",
       "4  UEFA CL-Qualifikation  UEFA Champions League-Q...  2017      7  Mi  18:45   \n",
       "\n",
       "   break               hoamTeam          guestTeam  resultNumeric  \\\n",
       "0     45          Hibernians FC  Red Bull Salzburg           -3.0   \n",
       "1      4  Deutschlandsberger SC  Red Bull Salzburg           -7.0   \n",
       "2      4      Red Bull Salzburg      Hibernians FC            3.0   \n",
       "3      3         Wolfsberger AC  Red Bull Salzburg           -2.0   \n",
       "4      4      Red Bull Salzburg         HNK Rijeka            0.0   \n",
       "\n",
       "   homeTotalGoalDiff  guestTotalGoalDiff  homeTeamGoalsDiffAtHome  \\\n",
       "0               0.00            0.000000                      0.0   \n",
       "1               0.00            3.000000                      0.0   \n",
       "2               5.00           -3.000000                      0.0   \n",
       "3               0.00            4.333333                      0.0   \n",
       "4               3.75            0.000000                      3.0   \n",
       "\n",
       "   homeTeamGoalsDiffAway  guestTeamGoalsDiffAtHome  guestTeamGoalsDiffAway  \\\n",
       "0                    0.0                       0.0                     0.0   \n",
       "1                    0.0                       0.0                     3.0   \n",
       "2                    5.0                      -3.0                     0.0   \n",
       "3                    0.0                       3.0                     5.0   \n",
       "4                    4.0                       0.0                     0.0   \n",
       "\n",
       "   hoamAvgPoints  guestAvgpoints result  \n",
       "0            0.0             0.0   lost  \n",
       "1            0.0             3.0   lost  \n",
       "2            3.0             0.0    won  \n",
       "3            0.0             3.0   lost  \n",
       "4            3.0             0.0   draw  "
      ]
     },
     "execution_count": 12,
     "metadata": {},
     "output_type": "execute_result"
    }
   ],
   "source": [
    "df.head()"
   ]
  },
  {
   "cell_type": "code",
   "execution_count": 11,
   "metadata": {
    "ExecuteTime": {
     "end_time": "2019-08-01T19:58:50.259810Z",
     "start_time": "2019-08-01T19:58:50.228554Z"
    }
   },
   "outputs": [],
   "source": [
    "df['result'] = np.where(df.resultNumeric < 0, 'lost', np.where(df.resultNumeric > 0, 'won', 'draw'))"
   ]
  },
  {
   "cell_type": "code",
   "execution_count": 13,
   "metadata": {
    "ExecuteTime": {
     "end_time": "2019-08-01T19:59:44.595146Z",
     "start_time": "2019-08-01T19:59:39.825494Z"
    }
   },
   "outputs": [
    {
     "name": "stderr",
     "output_type": "stream",
     "text": [
      "Using TensorFlow backend.\n"
     ]
    }
   ],
   "source": [
    "from keras.utils import to_categorical"
   ]
  },
  {
   "cell_type": "code",
   "execution_count": 62,
   "metadata": {
    "ExecuteTime": {
     "end_time": "2019-08-01T20:17:32.407780Z",
     "start_time": "2019-08-01T20:17:32.398780Z"
    }
   },
   "outputs": [],
   "source": [
    "y_cat = (pd.get_dummies(df.result))\n",
    "y_reg = df.resultNumeric"
   ]
  },
  {
   "cell_type": "code",
   "execution_count": 63,
   "metadata": {
    "ExecuteTime": {
     "end_time": "2019-08-01T20:17:35.861092Z",
     "start_time": "2019-08-01T20:17:35.853083Z"
    }
   },
   "outputs": [
    {
     "data": {
      "text/plain": [
       "(522, 18)"
      ]
     },
     "execution_count": 63,
     "metadata": {},
     "output_type": "execute_result"
    }
   ],
   "source": [
    "df.shape"
   ]
  },
  {
   "cell_type": "code",
   "execution_count": 69,
   "metadata": {
    "ExecuteTime": {
     "end_time": "2019-08-01T15:12:42.629002Z",
     "start_time": "2019-08-01T15:12:42.608012Z"
    }
   },
   "outputs": [
    {
     "name": "stdout",
     "output_type": "stream",
     "text": [
      "<class 'pandas.core.frame.DataFrame'>\n",
      "RangeIndex: 509 entries, 0 to 508\n",
      "Data columns (total 17 columns):\n",
      "contest                     509 non-null uint8\n",
      "year                        509 non-null int64\n",
      "month                       509 non-null int64\n",
      "day                         509 non-null object\n",
      "time                        509 non-null object\n",
      "break                       509 non-null int64\n",
      "hoamTeam                    509 non-null object\n",
      "guestTeam                   509 non-null object\n",
      "resultNumeric               509 non-null float64\n",
      "homeTotalGoalDiff           509 non-null float64\n",
      "guestTotalGoalDiff          509 non-null float64\n",
      "homeTeamGoalsDiffAtHome     509 non-null float64\n",
      "homeTeamGoalsDiffAway       509 non-null float64\n",
      "guestTeamGoalsDiffAtHome    509 non-null float64\n",
      "guestTeamGoalsDiffAway      509 non-null float64\n",
      "hoamAvgPoints               509 non-null float64\n",
      "guestAvgpoints              509 non-null float64\n",
      "dtypes: float64(9), int64(3), object(4), uint8(1)\n",
      "memory usage: 64.2+ KB\n"
     ]
    }
   ],
   "source": [
    "df.info()"
   ]
  },
  {
   "cell_type": "code",
   "execution_count": 18,
   "metadata": {
    "ExecuteTime": {
     "end_time": "2019-08-01T20:01:14.286952Z",
     "start_time": "2019-08-01T20:01:14.269937Z"
    }
   },
   "outputs": [
    {
     "data": {
      "text/plain": [
       "guestTotalGoalDiff         -0.215955\n",
       "guestTeamGoalsDiffAway     -0.211635\n",
       "guestTeamGoalsDiffAtHome   -0.172638\n",
       "guestAvgpoints             -0.157949\n",
       "break                      -0.082948\n",
       "month                      -0.009726\n",
       "year                        0.058273\n",
       "homeTeamGoalsDiffAtHome     0.242608\n",
       "homeTeamGoalsDiffAway       0.270778\n",
       "homeTotalGoalDiff           0.313707\n",
       "hoamAvgPoints               0.357243\n",
       "resultNumeric               1.000000\n",
       "Name: resultNumeric, dtype: float64"
      ]
     },
     "execution_count": 18,
     "metadata": {},
     "output_type": "execute_result"
    }
   ],
   "source": [
    "df.corr()['resultNumeric'].sort_values()"
   ]
  },
  {
   "cell_type": "code",
   "execution_count": 19,
   "metadata": {
    "ExecuteTime": {
     "end_time": "2019-08-01T20:01:48.195317Z",
     "start_time": "2019-08-01T20:01:47.645687Z"
    }
   },
   "outputs": [
    {
     "data": {
      "image/png": "[encoded data removed]",
      "text/plain": [
       "<Figure size 576x576 with 2 Axes>"
      ]
     },
     "metadata": {
      "needs_background": "light"
     },
     "output_type": "display_data"
    }
   ],
   "source": [
    "plt.figure(figsize=(8, 8))\n",
    "sns.heatmap(df.corr(), square=True, cmap=\"YlGnBu\")\n",
    "plt.show()"
   ]
  },
  {
   "cell_type": "code",
   "execution_count": 25,
   "metadata": {
    "ExecuteTime": {
     "end_time": "2019-08-01T20:03:02.595001Z",
     "start_time": "2019-08-01T20:03:02.587001Z"
    }
   },
   "outputs": [],
   "source": [
    "X = df.drop(['resultNumeric', 'result', 'contest', 'hoamTeam', 'guestTeam', 'day', 'time'], axis=1)"
   ]
  },
  {
   "cell_type": "code",
   "execution_count": 26,
   "metadata": {
    "ExecuteTime": {
     "end_time": "2019-08-01T20:03:03.271876Z",
     "start_time": "2019-08-01T20:03:03.266873Z"
    }
   },
   "outputs": [],
   "source": [
    "from sklearn.model_selection import train_test_split"
   ]
  },
  {
   "cell_type": "code",
   "execution_count": 64,
   "metadata": {
    "ExecuteTime": {
     "end_time": "2019-08-01T20:17:43.989337Z",
     "start_time": "2019-08-01T20:17:43.977327Z"
    }
   },
   "outputs": [],
   "source": [
    "X_train, X_test, y_reg_train, y_reg_test, y_class_train, y_class_test = train_test_split(\n",
    "    X, y_reg, y_cat, test_size=0.2, random_state=123)"
   ]
  },
  {
   "cell_type": "code",
   "execution_count": 65,
   "metadata": {
    "ExecuteTime": {
     "end_time": "2019-08-01T20:17:46.917579Z",
     "start_time": "2019-08-01T20:17:46.901938Z"
    }
   },
   "outputs": [],
   "source": [
    "from sklearn.preprocessing import StandardScaler"
   ]
  },
  {
   "cell_type": "code",
   "execution_count": 66,
   "metadata": {
    "ExecuteTime": {
     "end_time": "2019-08-01T20:17:47.184617Z",
     "start_time": "2019-08-01T20:17:47.169608Z"
    }
   },
   "outputs": [],
   "source": [
    "scaler = StandardScaler()\n",
    "\n",
    "scaler.fit(X_train)\n",
    "\n",
    "X_train_scaled = scaler.transform(X_train)\n",
    "X_test_scaled = scaler.transform(X_test)"
   ]
  },
  {
   "cell_type": "code",
   "execution_count": 72,
   "metadata": {
    "ExecuteTime": {
     "end_time": "2019-08-01T20:19:20.316108Z",
     "start_time": "2019-08-01T20:19:20.309097Z"
    }
   },
   "outputs": [],
   "source": [
    "from keras.models import Model, Sequential\n",
    "from keras.layers import Dense, Input, BatchNormalization\n",
    "from keras.utils import plot_model\n",
    "from keras.callbacks import EarlyStopping, ModelCheckpoint\n",
    "\n",
    "early_stopping_monitor = EarlyStopping(patience=3)"
   ]
  },
  {
   "cell_type": "code",
   "execution_count": 117,
   "metadata": {
    "ExecuteTime": {
     "end_time": "2019-08-01T20:41:47.932108Z",
     "start_time": "2019-08-01T20:41:47.923093Z"
    }
   },
   "outputs": [
    {
     "data": {
      "text/plain": [
       "(11, 3)"
      ]
     },
     "execution_count": 117,
     "metadata": {},
     "output_type": "execute_result"
    }
   ],
   "source": [
    "in_cols=X_train.shape[1]\n",
    "out_cols=y_cat.shape[1]\n",
    "\n",
    "in_cols, out_cols"
   ]
  },
  {
   "cell_type": "code",
   "execution_count": 118,
   "metadata": {
    "ExecuteTime": {
     "end_time": "2019-08-01T20:42:02.042454Z",
     "start_time": "2019-08-01T20:42:01.916451Z"
    }
   },
   "outputs": [],
   "source": [
    "model_1 = Sequential()\n",
    "\n",
    "model_1.add(Dense(12, input_shape=(in_cols,), activation='relu', ))\n",
    "model_1.add(Dense(12, activation='relu'))\n",
    "model_1.add(Dense(1))\n"
   ]
  },
  {
   "cell_type": "code",
   "execution_count": 119,
   "metadata": {
    "ExecuteTime": {
     "end_time": "2019-08-01T20:42:03.303478Z",
     "start_time": "2019-08-01T20:42:03.201486Z"
    }
   },
   "outputs": [],
   "source": [
    "model_1.compile(optimizer='adam', loss='mse')"
   ]
  },
  {
   "cell_type": "code",
   "execution_count": 120,
   "metadata": {
    "ExecuteTime": {
     "end_time": "2019-08-01T20:42:15.913909Z",
     "start_time": "2019-08-01T20:42:08.114106Z"
    },
    "scrolled": true
   },
   "outputs": [
    {
     "name": "stdout",
     "output_type": "stream",
     "text": [
      "Train on 417 samples, validate on 105 samples\n",
      "Epoch 1/100\n",
      "417/417 [==============================] - 1s 3ms/step - loss: 5.2451 - val_loss: 4.4817\n",
      "Epoch 2/100\n",
      "417/417 [==============================] - 0s 137us/step - loss: 4.9091 - val_loss: 4.2547\n",
      "Epoch 3/100\n",
      "417/417 [==============================] - 0s 132us/step - loss: 4.6725 - val_loss: 4.0924\n",
      "Epoch 4/100\n",
      "417/417 [==============================] - 0s 103us/step - loss: 4.4955 - val_loss: 3.9687\n",
      "Epoch 5/100\n",
      "417/417 [==============================] - 0s 151us/step - loss: 4.3684 - val_loss: 3.8748\n",
      "Epoch 6/100\n",
      "417/417 [==============================] - 0s 146us/step - loss: 4.2536 - val_loss: 3.7906\n",
      "Epoch 7/100\n",
      "417/417 [==============================] - 0s 118us/step - loss: 4.1713 - val_loss: 3.7175\n",
      "Epoch 8/100\n",
      "417/417 [==============================] - ETA: 0s - loss: 2.409 - 0s 132us/step - loss: 4.0919 - val_loss: 3.6491\n",
      "Epoch 9/100\n",
      "417/417 [==============================] - 0s 122us/step - loss: 4.0363 - val_loss: 3.6262\n",
      "Epoch 10/100\n",
      "417/417 [==============================] - 0s 137us/step - loss: 3.9979 - val_loss: 3.6329\n",
      "Epoch 11/100\n",
      "417/417 [==============================] - 0s 110us/step - loss: 3.9768 - val_loss: 3.6142\n",
      "Epoch 12/100\n",
      "417/417 [==============================] - 0s 120us/step - loss: 3.9457 - val_loss: 3.5867\n",
      "Epoch 13/100\n",
      "417/417 [==============================] - 0s 177us/step - loss: 3.9215 - val_loss: 3.5621\n",
      "Epoch 14/100\n",
      "417/417 [==============================] - 0s 108us/step - loss: 3.9020 - val_loss: 3.5427\n",
      "Epoch 15/100\n",
      "417/417 [==============================] - 0s 122us/step - loss: 3.8810 - val_loss: 3.5353\n",
      "Epoch 16/100\n",
      "417/417 [==============================] - 0s 144us/step - loss: 3.8653 - val_loss: 3.5150\n",
      "Epoch 17/100\n",
      "417/417 [==============================] - 0s 137us/step - loss: 3.8573 - val_loss: 3.4992\n",
      "Epoch 18/100\n",
      "417/417 [==============================] - 0s 144us/step - loss: 3.8361 - val_loss: 3.5064\n",
      "Epoch 19/100\n",
      "417/417 [==============================] - 0s 110us/step - loss: 3.8188 - val_loss: 3.5185\n",
      "Epoch 20/100\n",
      "417/417 [==============================] - 0s 122us/step - loss: 3.8070 - val_loss: 3.5206\n",
      "Epoch 21/100\n",
      "417/417 [==============================] - 0s 127us/step - loss: 3.8002 - val_loss: 3.5246\n",
      "Epoch 22/100\n",
      "417/417 [==============================] - 0s 120us/step - loss: 3.7918 - val_loss: 3.5468\n",
      "Epoch 23/100\n",
      "417/417 [==============================] - 0s 106us/step - loss: 3.7827 - val_loss: 3.5334\n",
      "Epoch 24/100\n",
      "417/417 [==============================] - 0s 106us/step - loss: 3.7708 - val_loss: 3.5312\n",
      "Epoch 25/100\n",
      "417/417 [==============================] - 0s 110us/step - loss: 3.7608 - val_loss: 3.5383\n",
      "Epoch 26/100\n",
      "417/417 [==============================] - 0s 98us/step - loss: 3.7561 - val_loss: 3.5446\n",
      "Epoch 27/100\n",
      "417/417 [==============================] - 0s 118us/step - loss: 3.7500 - val_loss: 3.5294\n",
      "Epoch 28/100\n",
      "417/417 [==============================] - 0s 110us/step - loss: 3.7383 - val_loss: 3.5245\n",
      "Epoch 29/100\n",
      "417/417 [==============================] - 0s 120us/step - loss: 3.7309 - val_loss: 3.5043\n",
      "Epoch 30/100\n",
      "417/417 [==============================] - 0s 122us/step - loss: 3.7215 - val_loss: 3.4946\n",
      "Epoch 31/100\n",
      "417/417 [==============================] - 0s 139us/step - loss: 3.7140 - val_loss: 3.5028\n",
      "Epoch 32/100\n",
      "417/417 [==============================] - 0s 127us/step - loss: 3.7113 - val_loss: 3.5457\n",
      "Epoch 33/100\n",
      "417/417 [==============================] - 0s 122us/step - loss: 3.7137 - val_loss: 3.5482\n",
      "Epoch 34/100\n",
      "417/417 [==============================] - 0s 108us/step - loss: 3.7034 - val_loss: 3.5335\n",
      "Epoch 35/100\n",
      "417/417 [==============================] - 0s 115us/step - loss: 3.6974 - val_loss: 3.5379\n",
      "Epoch 36/100\n",
      "417/417 [==============================] - 0s 132us/step - loss: 3.6891 - val_loss: 3.5471\n",
      "Epoch 37/100\n",
      "417/417 [==============================] - 0s 106us/step - loss: 3.6857 - val_loss: 3.5290\n",
      "Epoch 38/100\n",
      "417/417 [==============================] - 0s 137us/step - loss: 3.6770 - val_loss: 3.5121\n",
      "Epoch 39/100\n",
      "417/417 [==============================] - 0s 120us/step - loss: 3.6674 - val_loss: 3.5018\n",
      "Epoch 40/100\n",
      "417/417 [==============================] - 0s 139us/step - loss: 3.6579 - val_loss: 3.4876\n",
      "Epoch 41/100\n",
      "417/417 [==============================] - 0s 122us/step - loss: 3.6503 - val_loss: 3.4858\n",
      "Epoch 42/100\n",
      "417/417 [==============================] - 0s 108us/step - loss: 3.6459 - val_loss: 3.4990\n",
      "Epoch 43/100\n",
      "417/417 [==============================] - 0s 122us/step - loss: 3.6382 - val_loss: 3.5177\n",
      "Epoch 44/100\n",
      "417/417 [==============================] - 0s 110us/step - loss: 3.6370 - val_loss: 3.5473\n",
      "Epoch 45/100\n",
      "417/417 [==============================] - 0s 175us/step - loss: 3.6257 - val_loss: 3.5465\n",
      "Epoch 46/100\n",
      "417/417 [==============================] - 0s 120us/step - loss: 3.6181 - val_loss: 3.5448\n",
      "Epoch 47/100\n",
      "417/417 [==============================] - 0s 108us/step - loss: 3.6109 - val_loss: 3.5409\n",
      "Epoch 48/100\n",
      "417/417 [==============================] - 0s 129us/step - loss: 3.6034 - val_loss: 3.5405\n",
      "Epoch 49/100\n",
      "417/417 [==============================] - 0s 118us/step - loss: 3.5961 - val_loss: 3.5415\n",
      "Epoch 50/100\n",
      "417/417 [==============================] - 0s 108us/step - loss: 3.5914 - val_loss: 3.5491\n",
      "Epoch 51/100\n",
      "417/417 [==============================] - 0s 122us/step - loss: 3.5862 - val_loss: 3.5336\n",
      "Epoch 52/100\n",
      "417/417 [==============================] - 0s 106us/step - loss: 3.5752 - val_loss: 3.5433\n",
      "Epoch 53/100\n",
      "417/417 [==============================] - 0s 118us/step - loss: 3.5714 - val_loss: 3.5660\n",
      "Epoch 54/100\n",
      "417/417 [==============================] - 0s 129us/step - loss: 3.5595 - val_loss: 3.5366\n",
      "Epoch 55/100\n",
      "417/417 [==============================] - 0s 120us/step - loss: 3.5549 - val_loss: 3.5437\n",
      "Epoch 56/100\n",
      "417/417 [==============================] - 0s 137us/step - loss: 3.5536 - val_loss: 3.5736\n",
      "Epoch 57/100\n",
      "417/417 [==============================] - ETA: 0s - loss: 2.489 - 0s 110us/step - loss: 3.5611 - val_loss: 3.5502\n",
      "Epoch 58/100\n",
      "417/417 [==============================] - 0s 106us/step - loss: 3.5522 - val_loss: 3.5362\n",
      "Epoch 59/100\n",
      "417/417 [==============================] - 0s 106us/step - loss: 3.5429 - val_loss: 3.5047\n",
      "Epoch 60/100\n",
      "417/417 [==============================] - 0s 134us/step - loss: 3.5458 - val_loss: 3.4848\n",
      "Epoch 61/100\n",
      "417/417 [==============================] - 0s 137us/step - loss: 3.5420 - val_loss: 3.4931\n",
      "Epoch 62/100\n",
      "417/417 [==============================] - 0s 115us/step - loss: 3.5305 - val_loss: 3.5083\n",
      "Epoch 63/100\n",
      "417/417 [==============================] - 0s 120us/step - loss: 3.5175 - val_loss: 3.5410\n",
      "Epoch 64/100\n",
      "417/417 [==============================] - 0s 137us/step - loss: 3.5050 - val_loss: 3.5456\n",
      "Epoch 65/100\n",
      "417/417 [==============================] - 0s 106us/step - loss: 3.5028 - val_loss: 3.5650\n",
      "Epoch 66/100\n",
      "417/417 [==============================] - 0s 154us/step - loss: 3.4946 - val_loss: 3.5593\n",
      "Epoch 67/100\n",
      "417/417 [==============================] - 0s 110us/step - loss: 3.4863 - val_loss: 3.5377\n",
      "Epoch 68/100\n",
      "417/417 [==============================] - 0s 113us/step - loss: 3.4819 - val_loss: 3.5309\n",
      "Epoch 69/100\n",
      "417/417 [==============================] - 0s 127us/step - loss: 3.4769 - val_loss: 3.5419\n",
      "Epoch 70/100\n",
      "417/417 [==============================] - 0s 132us/step - loss: 3.4725 - val_loss: 3.5488\n",
      "Epoch 71/100\n",
      "417/417 [==============================] - 0s 125us/step - loss: 3.4682 - val_loss: 3.5592\n",
      "Epoch 72/100\n",
      "417/417 [==============================] - 0s 125us/step - loss: 3.4637 - val_loss: 3.5765\n",
      "Epoch 73/100\n",
      "417/417 [==============================] - 0s 127us/step - loss: 3.4582 - val_loss: 3.5317\n",
      "Epoch 74/100\n",
      "417/417 [==============================] - 0s 139us/step - loss: 3.4547 - val_loss: 3.5273\n",
      "Epoch 75/100\n",
      "417/417 [==============================] - 0s 113us/step - loss: 3.4521 - val_loss: 3.5400\n",
      "Epoch 76/100\n",
      "417/417 [==============================] - 0s 115us/step - loss: 3.4462 - val_loss: 3.5531\n",
      "Epoch 77/100\n",
      "417/417 [==============================] - 0s 129us/step - loss: 3.4440 - val_loss: 3.5620\n",
      "Epoch 78/100\n",
      "417/417 [==============================] - 0s 101us/step - loss: 3.4406 - val_loss: 3.5704\n"
     ]
    },
    {
     "name": "stdout",
     "output_type": "stream",
     "text": [
      "Epoch 79/100\n",
      "417/417 [==============================] - 0s 127us/step - loss: 3.4386 - val_loss: 3.5673\n",
      "Epoch 80/100\n",
      "417/417 [==============================] - 0s 96us/step - loss: 3.4370 - val_loss: 3.5756\n",
      "Epoch 81/100\n",
      "417/417 [==============================] - 0s 125us/step - loss: 3.4329 - val_loss: 3.5414\n",
      "Epoch 82/100\n",
      "417/417 [==============================] - 0s 101us/step - loss: 3.4245 - val_loss: 3.5439\n",
      "Epoch 83/100\n",
      "417/417 [==============================] - 0s 139us/step - loss: 3.4216 - val_loss: 3.5429\n",
      "Epoch 84/100\n",
      "417/417 [==============================] - 0s 122us/step - loss: 3.4185 - val_loss: 3.5480\n",
      "Epoch 85/100\n",
      "417/417 [==============================] - 0s 120us/step - loss: 3.4154 - val_loss: 3.5491\n",
      "Epoch 86/100\n",
      "417/417 [==============================] - ETA: 0s - loss: 3.358 - 0s 175us/step - loss: 3.4125 - val_loss: 3.5491\n",
      "Epoch 87/100\n",
      "417/417 [==============================] - 0s 120us/step - loss: 3.4064 - val_loss: 3.5435\n",
      "Epoch 88/100\n",
      "417/417 [==============================] - 0s 141us/step - loss: 3.4024 - val_loss: 3.5071\n",
      "Epoch 89/100\n",
      "417/417 [==============================] - 0s 194us/step - loss: 3.4055 - val_loss: 3.5182\n",
      "Epoch 90/100\n",
      "417/417 [==============================] - 0s 211us/step - loss: 3.3951 - val_loss: 3.5311\n",
      "Epoch 91/100\n",
      "417/417 [==============================] - 0s 175us/step - loss: 3.3923 - val_loss: 3.5513\n",
      "Epoch 92/100\n",
      "417/417 [==============================] - 0s 130us/step - loss: 3.3907 - val_loss: 3.6161\n",
      "Epoch 93/100\n",
      "417/417 [==============================] - 0s 156us/step - loss: 3.3908 - val_loss: 3.6064\n",
      "Epoch 94/100\n",
      "417/417 [==============================] - 0s 182us/step - loss: 3.3846 - val_loss: 3.6089\n",
      "Epoch 95/100\n",
      "417/417 [==============================] - 0s 201us/step - loss: 3.3880 - val_loss: 3.5935\n",
      "Epoch 96/100\n",
      "417/417 [==============================] - 0s 142us/step - loss: 3.3828 - val_loss: 3.5786\n",
      "Epoch 97/100\n",
      "417/417 [==============================] - 0s 187us/step - loss: 3.3717 - val_loss: 3.5577\n",
      "Epoch 98/100\n",
      "417/417 [==============================] - 0s 161us/step - loss: 3.3662 - val_loss: 3.5468\n",
      "Epoch 99/100\n",
      "417/417 [==============================] - 0s 165us/step - loss: 3.3608 - val_loss: 3.5525\n",
      "Epoch 100/100\n",
      "417/417 [==============================] - 0s 189us/step - loss: 3.3534 - val_loss: 3.5507\n"
     ]
    }
   ],
   "source": [
    "model_1_training = model_1.fit(\n",
    "    X_train_scaled,\n",
    "    y_reg_train,\n",
    "    validation_data=[X_test_scaled,y_reg_test],\n",
    "    epochs=100\n",
    ")"
   ]
  },
  {
   "cell_type": "code",
   "execution_count": null,
   "metadata": {},
   "outputs": [],
   "source": []
  },
  {
   "cell_type": "code",
   "execution_count": 39,
   "metadata": {
    "ExecuteTime": {
     "end_time": "2019-08-01T20:04:38.399554Z",
     "start_time": "2019-08-01T20:04:38.009278Z"
    },
    "scrolled": false
   },
   "outputs": [
    {
     "data": {
      "text/plain": [
       "<matplotlib.legend.Legend at 0x20a793a5ac8>"
      ]
     },
     "execution_count": 39,
     "metadata": {},
     "output_type": "execute_result"
    },
    {
     "data": {
      "image/png": "[encoded data removed]",
      "text/plain": [
       "<Figure size 432x288 with 1 Axes>"
      ]
     },
     "metadata": {
      "needs_background": "light"
     },
     "output_type": "display_data"
    }
   ],
   "source": [
    "plt.plot(model_1_training.history['loss'])\n",
    "plt.xlabel('Epochs')\n",
    "plt.ylim([0, 5])\n",
    "plt.title('Total Loss over Epochs')\n",
    "plt.plot(model_1_training.history['val_loss'])\n",
    "plt.legend(['Total Training loss', 'Total Prediction loss'])"
   ]
  },
  {
   "cell_type": "code",
   "execution_count": 40,
   "metadata": {
    "ExecuteTime": {
     "end_time": "2019-08-01T20:04:44.859944Z",
     "start_time": "2019-08-01T20:04:44.681821Z"
    }
   },
   "outputs": [],
   "source": [
    "from sklearn.ensemble import RandomForestRegressor\n",
    "from sklearn.metrics import mean_squared_error"
   ]
  },
  {
   "cell_type": "code",
   "execution_count": 41,
   "metadata": {
    "ExecuteTime": {
     "end_time": "2019-08-01T20:04:45.519480Z",
     "start_time": "2019-08-01T20:04:45.051484Z"
    }
   },
   "outputs": [
    {
     "data": {
      "text/plain": [
       "0.8602470661835901"
      ]
     },
     "execution_count": 41,
     "metadata": {},
     "output_type": "execute_result"
    }
   ],
   "source": [
    "rfr = RandomForestRegressor(n_estimators=100)\n",
    "\n",
    "rfr.fit(X_train, y_reg_train)\n",
    "rfr.score(X_train, y_reg_train)"
   ]
  },
  {
   "cell_type": "code",
   "execution_count": 42,
   "metadata": {
    "ExecuteTime": {
     "end_time": "2019-08-01T20:04:45.580506Z",
     "start_time": "2019-08-01T20:04:45.532490Z"
    }
   },
   "outputs": [],
   "source": [
    "rfr.score(X_test, y_reg_test)\n",
    "pred_y = rfr.predict(X_test)"
   ]
  },
  {
   "cell_type": "code",
   "execution_count": 43,
   "metadata": {
    "ExecuteTime": {
     "end_time": "2019-08-01T20:04:45.766480Z",
     "start_time": "2019-08-01T20:04:45.755473Z"
    }
   },
   "outputs": [
    {
     "data": {
      "text/plain": [
       "107.3883622945205"
      ]
     },
     "execution_count": 43,
     "metadata": {},
     "output_type": "execute_result"
    }
   ],
   "source": [
    "np.sqrt(mean_squared_error(np.exp(y_reg_test), np.exp(pred_y)))"
   ]
  },
  {
   "cell_type": "code",
   "execution_count": 50,
   "metadata": {
    "ExecuteTime": {
     "end_time": "2019-08-01T20:10:50.830857Z",
     "start_time": "2019-08-01T20:10:50.314732Z"
    }
   },
   "outputs": [],
   "source": [
    "input_tensor = Input(shape=(in_cols,))\n",
    "hidden_1 = Dense(8, activation='relu', name='hidden_1')(input_tensor)\n",
    "batch_1 = BatchNormalization()(hidden_1)\n",
    "hidden_2 = Dense(16, activation='relu', name='hidden_2')(batch_1)\n",
    "batch_2 = BatchNormalization()(hidden_2)\n",
    "hidden_3 = Dense(16, activation='relu', name='hidden_3')(batch_2)\n",
    "output_tensor_reg = Dense(1, name='Regression')(hidden_3)\n",
    "\n",
    "output_tensor_class = Dense(out_cols, activation='sigmoid', name='Classification')(output_tensor_reg)"
   ]
  },
  {
   "cell_type": "code",
   "execution_count": 51,
   "metadata": {
    "ExecuteTime": {
     "end_time": "2019-08-01T20:12:03.604460Z",
     "start_time": "2019-08-01T20:12:03.598457Z"
    }
   },
   "outputs": [],
   "source": [
    "model_2 = Model(input_tensor, [output_tensor_reg, output_tensor_class])"
   ]
  },
  {
   "cell_type": "code",
   "execution_count": 52,
   "metadata": {
    "ExecuteTime": {
     "end_time": "2019-08-01T20:12:18.711162Z",
     "start_time": "2019-08-01T20:12:18.549155Z"
    }
   },
   "outputs": [],
   "source": [
    "model_2.compile(loss=['mse', 'categorical_crossentropy'],\n",
    "             optimizer='adam',\n",
    "             metrics=['accuracy'])"
   ]
  },
  {
   "cell_type": "code",
   "execution_count": 53,
   "metadata": {
    "ExecuteTime": {
     "end_time": "2019-08-01T20:12:38.232224Z",
     "start_time": "2019-08-01T20:12:38.219219Z"
    }
   },
   "outputs": [
    {
     "name": "stdout",
     "output_type": "stream",
     "text": [
      "_________________________________________________________________\n",
      "Layer (type)                 Output Shape              Param #   \n",
      "=================================================================\n",
      "input_2 (InputLayer)         (None, 11)                0         \n",
      "_________________________________________________________________\n",
      "hidden_1 (Dense)             (None, 8)                 96        \n",
      "_________________________________________________________________\n",
      "batch_normalization_1 (Batch (None, 8)                 32        \n",
      "_________________________________________________________________\n",
      "hidden_2 (Dense)             (None, 16)                144       \n",
      "_________________________________________________________________\n",
      "batch_normalization_2 (Batch (None, 16)                64        \n",
      "_________________________________________________________________\n",
      "hidden_3 (Dense)             (None, 16)                272       \n",
      "_________________________________________________________________\n",
      "Regression (Dense)           (None, 1)                 17        \n",
      "_________________________________________________________________\n",
      "Classification (Dense)       (None, 3)                 6         \n",
      "=================================================================\n",
      "Total params: 631\n",
      "Trainable params: 583\n",
      "Non-trainable params: 48\n",
      "_________________________________________________________________\n"
     ]
    }
   ],
   "source": [
    "model_2.summary()"
   ]
  },
  {
   "cell_type": "code",
   "execution_count": 73,
   "metadata": {
    "ExecuteTime": {
     "end_time": "2019-08-01T20:19:39.221482Z",
     "start_time": "2019-08-01T20:19:28.882124Z"
    }
   },
   "outputs": [
    {
     "name": "stdout",
     "output_type": "stream",
     "text": [
      "Train on 417 samples, validate on 105 samples\n",
      "Epoch 1/50\n",
      "417/417 [==============================] - 2s 5ms/step - loss: 5.6345 - Regression_loss: 4.5707 - Classification_loss: 1.0638 - Regression_acc: 0.2158 - Classification_acc: 0.4197 - val_loss: 46430.6086 - val_Regression_loss: 46425.1006 - val_Classification_loss: 5.5077 - val_Regression_acc: 0.0000e+00 - val_Classification_acc: 0.3333\n",
      "Epoch 2/50\n",
      "417/417 [==============================] - 2s 5ms/step - loss: 5.6328 - Regression_loss: 4.5692 - Classification_loss: 1.0636 - Regression_acc: 0.2158 - Classification_acc: 0.4197 - val_loss: 44929.2608 - val_Regression_loss: 44923.9915 - val_Classification_loss: 5.2690 - val_Regression_acc: 0.0095 - val_Classification_acc: 0.3333\n",
      "Epoch 3/50\n",
      "417/417 [==============================] - 2s 5ms/step - loss: 5.6339 - Regression_loss: 4.5702 - Classification_loss: 1.0637 - Regression_acc: 0.2158 - Classification_acc: 0.4197 - val_loss: 46439.4985 - val_Regression_loss: 46433.8146 - val_Classification_loss: 5.6836 - val_Regression_acc: 0.0000e+00 - val_Classification_acc: 0.3048\n",
      "Epoch 4/50\n",
      "417/417 [==============================] - 2s 5ms/step - loss: 5.6340 - Regression_loss: 4.5705 - Classification_loss: 1.0635 - Regression_acc: 0.2158 - Classification_acc: 0.4197 - val_loss: 46253.2668 - val_Regression_loss: 46247.7131 - val_Classification_loss: 5.5535 - val_Regression_acc: 0.0000e+00 - val_Classification_acc: 0.3048\n",
      "Epoch 5/50\n",
      "417/417 [==============================] - 2s 5ms/step - loss: 5.6337 - Regression_loss: 4.5701 - Classification_loss: 1.0636 - Regression_acc: 0.2158 - Classification_acc: 0.4197 - val_loss: 45136.7455 - val_Regression_loss: 45131.5272 - val_Classification_loss: 5.2181 - val_Regression_acc: 0.0095 - val_Classification_acc: 0.3238\n"
     ]
    }
   ],
   "source": [
    "model_2_training = model_2.fit(\n",
    "    X_train_scaled,\n",
    "    [y_reg_train, y_class_train],\n",
    "    validation_data=(X_test_scaled, [y_reg_test, y_class_test]),\n",
    "    batch_size=1,\n",
    "    epochs=50,\n",
    "    callbacks=[early_stopping_monitor],\n",
    "    verbose=True)"
   ]
  },
  {
   "cell_type": "code",
   "execution_count": 74,
   "metadata": {
    "ExecuteTime": {
     "end_time": "2019-08-01T20:21:55.269671Z",
     "start_time": "2019-08-01T20:21:54.434190Z"
    }
   },
   "outputs": [],
   "source": [
    "input_tensor = Input(shape=(in_cols,))\n",
    "hidden_1 = Dense(in_cols, activation='relu', name='hidden_1')(input_tensor)\n",
    "batch_1 = BatchNormalization()(hidden_1)\n",
    "hidden_2 = Dense(in_cols, activation='relu', name='hidden_2')(batch_1)\n",
    "output_tensor_reg = Dense(1, name='Regression')(hidden_2)\n",
    "\n",
    "output_tensor_class = Dense(out_cols, activation='sigmoid', name='Classification')(output_tensor_reg)"
   ]
  },
  {
   "cell_type": "code",
   "execution_count": 75,
   "metadata": {
    "ExecuteTime": {
     "end_time": "2019-08-01T20:21:59.038581Z",
     "start_time": "2019-08-01T20:21:59.032570Z"
    }
   },
   "outputs": [],
   "source": [
    "model_3 = Model(input_tensor, [output_tensor_reg, output_tensor_class])"
   ]
  },
  {
   "cell_type": "code",
   "execution_count": 76,
   "metadata": {
    "ExecuteTime": {
     "end_time": "2019-08-01T20:22:02.410062Z",
     "start_time": "2019-08-01T20:22:02.018061Z"
    }
   },
   "outputs": [],
   "source": [
    "model_3.compile(loss=['mse', 'categorical_crossentropy'],\n",
    "             optimizer='adam',\n",
    "             metrics=['accuracy'])"
   ]
  },
  {
   "cell_type": "code",
   "execution_count": 77,
   "metadata": {
    "ExecuteTime": {
     "end_time": "2019-08-01T20:22:06.014967Z",
     "start_time": "2019-08-01T20:22:06.003968Z"
    }
   },
   "outputs": [
    {
     "name": "stdout",
     "output_type": "stream",
     "text": [
      "_________________________________________________________________\n",
      "Layer (type)                 Output Shape              Param #   \n",
      "=================================================================\n",
      "input_3 (InputLayer)         (None, 11)                0         \n",
      "_________________________________________________________________\n",
      "hidden_1 (Dense)             (None, 11)                132       \n",
      "_________________________________________________________________\n",
      "batch_normalization_3 (Batch (None, 11)                44        \n",
      "_________________________________________________________________\n",
      "hidden_2 (Dense)             (None, 11)                132       \n",
      "_________________________________________________________________\n",
      "Regression (Dense)           (None, 1)                 12        \n",
      "_________________________________________________________________\n",
      "Classification (Dense)       (None, 3)                 6         \n",
      "=================================================================\n",
      "Total params: 326\n",
      "Trainable params: 304\n",
      "Non-trainable params: 22\n",
      "_________________________________________________________________\n"
     ]
    }
   ],
   "source": [
    "model_3.summary()"
   ]
  },
  {
   "cell_type": "code",
   "execution_count": 116,
   "metadata": {
    "ExecuteTime": {
     "end_time": "2019-08-01T20:40:19.443990Z",
     "start_time": "2019-08-01T20:39:23.157713Z"
    },
    "scrolled": true
   },
   "outputs": [
    {
     "name": "stdout",
     "output_type": "stream",
     "text": [
      "Train on 417 samples, validate on 105 samples\n",
      "Epoch 1/100\n",
      "417/417 [==============================] - 2s 4ms/step - loss: 5.6406 - Regression_loss: 4.5722 - Classification_loss: 1.0685 - Regression_acc: 0.2158 - Classification_acc: 0.4197 - val_loss: 99.4341 - val_Regression_loss: 95.8134 - val_Classification_loss: 3.6207 - val_Regression_acc: 0.0190 - val_Classification_acc: 0.3619\n",
      "Epoch 2/100\n",
      "417/417 [==============================] - 2s 5ms/step - loss: 5.6385 - Regression_loss: 4.5714 - Classification_loss: 1.0671 - Regression_acc: 0.2158 - Classification_acc: 0.4197 - val_loss: 108.0471 - val_Regression_loss: 104.1630 - val_Classification_loss: 3.8841 - val_Regression_acc: 0.0095 - val_Classification_acc: 0.3619\n",
      "Epoch 3/100\n",
      "417/417 [==============================] - 2s 4ms/step - loss: 5.6367 - Regression_loss: 4.5706 - Classification_loss: 1.0661 - Regression_acc: 0.2158 - Classification_acc: 0.4197 - val_loss: 87.9451 - val_Regression_loss: 84.5250 - val_Classification_loss: 3.4201 - val_Regression_acc: 0.0762 - val_Classification_acc: 0.3429\n",
      "Epoch 4/100\n",
      "417/417 [==============================] - 2s 4ms/step - loss: 5.6355 - Regression_loss: 4.5702 - Classification_loss: 1.0654 - Regression_acc: 0.2158 - Classification_acc: 0.4197 - val_loss: 97.4417 - val_Regression_loss: 93.7603 - val_Classification_loss: 3.6814 - val_Regression_acc: 0.0571 - val_Classification_acc: 0.3524\n",
      "Epoch 5/100\n",
      "417/417 [==============================] - 2s 5ms/step - loss: 5.6350 - Regression_loss: 4.5702 - Classification_loss: 1.0648 - Regression_acc: 0.2158 - Classification_acc: 0.4197 - val_loss: 94.9387 - val_Regression_loss: 91.3605 - val_Classification_loss: 3.5782 - val_Regression_acc: 0.0476 - val_Classification_acc: 0.3524\n",
      "Epoch 6/100\n",
      "417/417 [==============================] - 2s 4ms/step - loss: 5.6342 - Regression_loss: 4.5698 - Classification_loss: 1.0644 - Regression_acc: 0.2158 - Classification_acc: 0.4197 - val_loss: 97.6428 - val_Regression_loss: 94.0941 - val_Classification_loss: 3.5487 - val_Regression_acc: 0.0571 - val_Classification_acc: 0.3619\n",
      "Epoch 7/100\n",
      "417/417 [==============================] - 2s 4ms/step - loss: 5.6346 - Regression_loss: 4.5703 - Classification_loss: 1.0643 - Regression_acc: 0.2158 - Classification_acc: 0.4197 - val_loss: 108.7068 - val_Regression_loss: 104.8811 - val_Classification_loss: 3.8257 - val_Regression_acc: 0.0381 - val_Classification_acc: 0.3714\n",
      "Epoch 8/100\n",
      "417/417 [==============================] - 2s 4ms/step - loss: 5.6341 - Regression_loss: 4.5700 - Classification_loss: 1.0640 - Regression_acc: 0.2158 - Classification_acc: 0.4197 - val_loss: 97.4849 - val_Regression_loss: 93.9180 - val_Classification_loss: 3.5670 - val_Regression_acc: 0.0381 - val_Classification_acc: 0.3524\n",
      "Epoch 9/100\n",
      "417/417 [==============================] - 2s 4ms/step - loss: 5.6341 - Regression_loss: 4.5702 - Classification_loss: 1.0639 - Regression_acc: 0.2158 - Classification_acc: 0.4197 - val_loss: 89.6971 - val_Regression_loss: 86.3165 - val_Classification_loss: 3.3807 - val_Regression_acc: 0.0857 - val_Classification_acc: 0.3524\n",
      "Epoch 10/100\n",
      "417/417 [==============================] - 2s 4ms/step - loss: 5.6334 - Regression_loss: 4.5697 - Classification_loss: 1.0637 - Regression_acc: 0.2158 - Classification_acc: 0.4197 - val_loss: 92.9861 - val_Regression_loss: 89.5166 - val_Classification_loss: 3.4695 - val_Regression_acc: 0.0667 - val_Classification_acc: 0.3429\n",
      "Epoch 11/100\n",
      "417/417 [==============================] - 2s 5ms/step - loss: 5.6332 - Regression_loss: 4.5696 - Classification_loss: 1.0636 - Regression_acc: 0.2158 - Classification_acc: 0.4197 - val_loss: 103.2675 - val_Regression_loss: 99.6013 - val_Classification_loss: 3.6662 - val_Regression_acc: 0.0381 - val_Classification_acc: 0.3619\n",
      "Epoch 12/100\n",
      "417/417 [==============================] - 2s 5ms/step - loss: 5.6334 - Regression_loss: 4.5697 - Classification_loss: 1.0636 - Regression_acc: 0.2158 - Classification_acc: 0.4197 - val_loss: 107.0362 - val_Regression_loss: 103.2493 - val_Classification_loss: 3.7869 - val_Regression_acc: 0.0190 - val_Classification_acc: 0.3810\n",
      "Epoch 13/100\n",
      "417/417 [==============================] - 2s 4ms/step - loss: 5.6333 - Regression_loss: 4.5697 - Classification_loss: 1.0636 - Regression_acc: 0.2158 - Classification_acc: 0.4197 - val_loss: 98.4263 - val_Regression_loss: 94.8065 - val_Classification_loss: 3.6198 - val_Regression_acc: 0.0476 - val_Classification_acc: 0.3619\n",
      "Epoch 14/100\n",
      "417/417 [==============================] - 2s 4ms/step - loss: 5.6337 - Regression_loss: 4.5702 - Classification_loss: 1.0635 - Regression_acc: 0.2158 - Classification_acc: 0.4197 - val_loss: 100.9900 - val_Regression_loss: 97.3575 - val_Classification_loss: 3.6325 - val_Regression_acc: 0.0286 - val_Classification_acc: 0.3619\n",
      "Epoch 15/100\n",
      "417/417 [==============================] - 2s 4ms/step - loss: 5.6340 - Regression_loss: 4.5703 - Classification_loss: 1.0637 - Regression_acc: 0.2158 - Classification_acc: 0.4197 - val_loss: 91.4233 - val_Regression_loss: 88.0562 - val_Classification_loss: 3.3671 - val_Regression_acc: 0.0571 - val_Classification_acc: 0.3524\n",
      "Epoch 16/100\n",
      "417/417 [==============================] - 2s 4ms/step - loss: 5.6337 - Regression_loss: 4.5703 - Classification_loss: 1.0634 - Regression_acc: 0.2158 - Classification_acc: 0.4197 - val_loss: 101.8500 - val_Regression_loss: 98.1272 - val_Classification_loss: 3.7228 - val_Regression_acc: 0.0571 - val_Classification_acc: 0.3619\n",
      "Epoch 17/100\n",
      "417/417 [==============================] - 2s 4ms/step - loss: 5.6342 - Regression_loss: 4.5707 - Classification_loss: 1.0635 - Regression_acc: 0.2158 - Classification_acc: 0.4197 - val_loss: 103.0012 - val_Regression_loss: 99.2970 - val_Classification_loss: 3.7042 - val_Regression_acc: 0.0381 - val_Classification_acc: 0.3714\n",
      "Epoch 18/100\n",
      "417/417 [==============================] - 3s 7ms/step - loss: 5.6341 - Regression_loss: 4.5705 - Classification_loss: 1.0636 - Regression_acc: 0.2158 - Classification_acc: 0.4197 - val_loss: 103.0298 - val_Regression_loss: 99.3512 - val_Classification_loss: 3.6786 - val_Regression_acc: 0.0190 - val_Classification_acc: 0.3524ss: 4.5584 - Classification_loss: 1.0628 - Regression_acc: 0.2128 - Classification_a\n",
      "Epoch 19/100\n",
      "417/417 [==============================] - 2s 5ms/step - loss: 5.6330 - Regression_loss: 4.5695 - Classification_loss: 1.0635 - Regression_acc: 0.2158 - Classification_acc: 0.4197 - val_loss: 92.5351 - val_Regression_loss: 89.0645 - val_Classification_loss: 3.4706 - val_Regression_acc: 0.0381 - val_Classification_acc: 0.3429\n",
      "Epoch 20/100\n",
      "417/417 [==============================] - 2s 6ms/step - loss: 5.6331 - Regression_loss: 4.5695 - Classification_loss: 1.0636 - Regression_acc: 0.2158 - Classification_acc: 0.4197 - val_loss: 96.5901 - val_Regression_loss: 93.0540 - val_Classification_loss: 3.5360 - val_Regression_acc: 0.0476 - val_Classification_acc: 0.3524\n",
      "Epoch 21/100\n",
      "417/417 [==============================] - 3s 6ms/step - loss: 5.6325 - Regression_loss: 4.5690 - Classification_loss: 1.0635 - Regression_acc: 0.2158 - Classification_acc: 0.4197 - val_loss: 90.6765 - val_Regression_loss: 87.2883 - val_Classification_loss: 3.3882 - val_Regression_acc: 0.0476 - val_Classification_acc: 0.3524\n",
      "Epoch 22/100\n",
      "417/417 [==============================] - 2s 6ms/step - loss: 5.6331 - Regression_loss: 4.5696 - Classification_loss: 1.0635 - Regression_acc: 0.2158 - Classification_acc: 0.4197 - val_loss: 91.1224 - val_Regression_loss: 87.7426 - val_Classification_loss: 3.3798 - val_Regression_acc: 0.0762 - val_Classification_acc: 0.3429\n",
      "Epoch 23/100\n",
      "417/417 [==============================] - 2s 5ms/step - loss: 5.6328 - Regression_loss: 4.5694 - Classification_loss: 1.0634 - Regression_acc: 0.2158 - Classification_acc: 0.4197 - val_loss: 101.3157 - val_Regression_loss: 97.6310 - val_Classification_loss: 3.6847 - val_Regression_acc: 0.0286 - val_Classification_acc: 0.3619\n",
      "Epoch 24/100\n",
      "417/417 [==============================] - 2s 4ms/step - loss: 5.6335 - Regression_loss: 4.5701 - Classification_loss: 1.0634 - Regression_acc: 0.2158 - Classification_acc: 0.4197 - val_loss: 100.9679 - val_Regression_loss: 97.3389 - val_Classification_loss: 3.6290 - val_Regression_acc: 0.0571 - val_Classification_acc: 0.3619\n"
     ]
    },
    {
     "name": "stdout",
     "output_type": "stream",
     "text": [
      "Epoch 25/100\n",
      "417/417 [==============================] - 2s 4ms/step - loss: 5.6338 - Regression_loss: 4.5703 - Classification_loss: 1.0635 - Regression_acc: 0.2158 - Classification_acc: 0.4197 - val_loss: 100.7071 - val_Regression_loss: 97.0665 - val_Classification_loss: 3.6406 - val_Regression_acc: 0.0571 - val_Classification_acc: 0.3619\n",
      "Epoch 26/100\n",
      "417/417 [==============================] - 2s 6ms/step - loss: 5.6338 - Regression_loss: 4.5703 - Classification_loss: 1.0635 - Regression_acc: 0.2158 - Classification_acc: 0.4197 - val_loss: 91.3759 - val_Regression_loss: 87.9556 - val_Classification_loss: 3.4203 - val_Regression_acc: 0.0571 - val_Classification_acc: 0.3429\n",
      "Epoch 27/100\n",
      "417/417 [==============================] - 2s 5ms/step - loss: 5.6332 - Regression_loss: 4.5697 - Classification_loss: 1.0635 - Regression_acc: 0.2158 - Classification_acc: 0.4197 - val_loss: 105.4609 - val_Regression_loss: 101.7468 - val_Classification_loss: 3.7141 - val_Regression_acc: 0.0286 - val_Classification_acc: 0.3619\n",
      "Epoch 28/100\n",
      "417/417 [==============================] - 2s 5ms/step - loss: 5.6334 - Regression_loss: 4.5698 - Classification_loss: 1.0637 - Regression_acc: 0.2158 - Classification_acc: 0.4197 - val_loss: 92.5617 - val_Regression_loss: 89.1200 - val_Classification_loss: 3.4417 - val_Regression_acc: 0.0571 - val_Classification_acc: 0.3429\n",
      "Epoch 29/100\n",
      "313/417 [=====================>........] - ETA: 0s - loss: 5.7536 - Regression_loss: 4.6884 - Classification_loss: 1.0652 - Regression_acc: 0.2173 - Classification_acc: 0.4121"
     ]
    },
    {
     "ename": "KeyboardInterrupt",
     "evalue": "",
     "output_type": "error",
     "traceback": [
      "\u001b[1;31m---------------------------------------------------------------------------\u001b[0m",
      "\u001b[1;31mKeyboardInterrupt\u001b[0m                         Traceback (most recent call last)",
      "\u001b[1;32m<ipython-input-116-3d6bac3ae28c>\u001b[0m in \u001b[0;36m<module>\u001b[1;34m\u001b[0m\n\u001b[0;32m      6\u001b[0m     \u001b[0mepochs\u001b[0m\u001b[1;33m=\u001b[0m\u001b[1;36m100\u001b[0m\u001b[1;33m,\u001b[0m\u001b[1;33m\u001b[0m\u001b[1;33m\u001b[0m\u001b[0m\n\u001b[0;32m      7\u001b[0m     \u001b[1;31m#callbacks=[early_stopping_monitor],\u001b[0m\u001b[1;33m\u001b[0m\u001b[1;33m\u001b[0m\u001b[1;33m\u001b[0m\u001b[0m\n\u001b[1;32m----> 8\u001b[1;33m     verbose=True)\n\u001b[0m",
      "\u001b[1;32m~\\AppData\\Roaming\\Python\\Python37\\site-packages\\keras\\engine\\training.py\u001b[0m in \u001b[0;36mfit\u001b[1;34m(self, x, y, batch_size, epochs, verbose, callbacks, validation_split, validation_data, shuffle, class_weight, sample_weight, initial_epoch, steps_per_epoch, validation_steps, **kwargs)\u001b[0m\n\u001b[0;32m   1037\u001b[0m                                         \u001b[0minitial_epoch\u001b[0m\u001b[1;33m=\u001b[0m\u001b[0minitial_epoch\u001b[0m\u001b[1;33m,\u001b[0m\u001b[1;33m\u001b[0m\u001b[1;33m\u001b[0m\u001b[0m\n\u001b[0;32m   1038\u001b[0m                                         \u001b[0msteps_per_epoch\u001b[0m\u001b[1;33m=\u001b[0m\u001b[0msteps_per_epoch\u001b[0m\u001b[1;33m,\u001b[0m\u001b[1;33m\u001b[0m\u001b[1;33m\u001b[0m\u001b[0m\n\u001b[1;32m-> 1039\u001b[1;33m                                         validation_steps=validation_steps)\n\u001b[0m\u001b[0;32m   1040\u001b[0m \u001b[1;33m\u001b[0m\u001b[0m\n\u001b[0;32m   1041\u001b[0m     def evaluate(self, x=None, y=None,\n",
      "\u001b[1;32m~\\AppData\\Roaming\\Python\\Python37\\site-packages\\keras\\engine\\training_arrays.py\u001b[0m in \u001b[0;36mfit_loop\u001b[1;34m(model, f, ins, out_labels, batch_size, epochs, verbose, callbacks, val_f, val_ins, shuffle, callback_metrics, initial_epoch, steps_per_epoch, validation_steps)\u001b[0m\n\u001b[0;32m    197\u001b[0m                     \u001b[0mins_batch\u001b[0m\u001b[1;33m[\u001b[0m\u001b[0mi\u001b[0m\u001b[1;33m]\u001b[0m \u001b[1;33m=\u001b[0m \u001b[0mins_batch\u001b[0m\u001b[1;33m[\u001b[0m\u001b[0mi\u001b[0m\u001b[1;33m]\u001b[0m\u001b[1;33m.\u001b[0m\u001b[0mtoarray\u001b[0m\u001b[1;33m(\u001b[0m\u001b[1;33m)\u001b[0m\u001b[1;33m\u001b[0m\u001b[1;33m\u001b[0m\u001b[0m\n\u001b[0;32m    198\u001b[0m \u001b[1;33m\u001b[0m\u001b[0m\n\u001b[1;32m--> 199\u001b[1;33m                 \u001b[0mouts\u001b[0m \u001b[1;33m=\u001b[0m \u001b[0mf\u001b[0m\u001b[1;33m(\u001b[0m\u001b[0mins_batch\u001b[0m\u001b[1;33m)\u001b[0m\u001b[1;33m\u001b[0m\u001b[1;33m\u001b[0m\u001b[0m\n\u001b[0m\u001b[0;32m    200\u001b[0m                 \u001b[0mouts\u001b[0m \u001b[1;33m=\u001b[0m \u001b[0mto_list\u001b[0m\u001b[1;33m(\u001b[0m\u001b[0mouts\u001b[0m\u001b[1;33m)\u001b[0m\u001b[1;33m\u001b[0m\u001b[1;33m\u001b[0m\u001b[0m\n\u001b[0;32m    201\u001b[0m                 \u001b[1;32mfor\u001b[0m \u001b[0ml\u001b[0m\u001b[1;33m,\u001b[0m \u001b[0mo\u001b[0m \u001b[1;32min\u001b[0m \u001b[0mzip\u001b[0m\u001b[1;33m(\u001b[0m\u001b[0mout_labels\u001b[0m\u001b[1;33m,\u001b[0m \u001b[0mouts\u001b[0m\u001b[1;33m)\u001b[0m\u001b[1;33m:\u001b[0m\u001b[1;33m\u001b[0m\u001b[1;33m\u001b[0m\u001b[0m\n",
      "\u001b[1;32m~\\AppData\\Roaming\\Python\\Python37\\site-packages\\keras\\backend\\tensorflow_backend.py\u001b[0m in \u001b[0;36m__call__\u001b[1;34m(self, inputs)\u001b[0m\n\u001b[0;32m   2713\u001b[0m                 \u001b[1;32mreturn\u001b[0m \u001b[0mself\u001b[0m\u001b[1;33m.\u001b[0m\u001b[0m_legacy_call\u001b[0m\u001b[1;33m(\u001b[0m\u001b[0minputs\u001b[0m\u001b[1;33m)\u001b[0m\u001b[1;33m\u001b[0m\u001b[1;33m\u001b[0m\u001b[0m\n\u001b[0;32m   2714\u001b[0m \u001b[1;33m\u001b[0m\u001b[0m\n\u001b[1;32m-> 2715\u001b[1;33m             \u001b[1;32mreturn\u001b[0m \u001b[0mself\u001b[0m\u001b[1;33m.\u001b[0m\u001b[0m_call\u001b[0m\u001b[1;33m(\u001b[0m\u001b[0minputs\u001b[0m\u001b[1;33m)\u001b[0m\u001b[1;33m\u001b[0m\u001b[1;33m\u001b[0m\u001b[0m\n\u001b[0m\u001b[0;32m   2716\u001b[0m         \u001b[1;32melse\u001b[0m\u001b[1;33m:\u001b[0m\u001b[1;33m\u001b[0m\u001b[1;33m\u001b[0m\u001b[0m\n\u001b[0;32m   2717\u001b[0m             \u001b[1;32mif\u001b[0m \u001b[0mpy_any\u001b[0m\u001b[1;33m(\u001b[0m\u001b[0mis_tensor\u001b[0m\u001b[1;33m(\u001b[0m\u001b[0mx\u001b[0m\u001b[1;33m)\u001b[0m \u001b[1;32mfor\u001b[0m \u001b[0mx\u001b[0m \u001b[1;32min\u001b[0m \u001b[0minputs\u001b[0m\u001b[1;33m)\u001b[0m\u001b[1;33m:\u001b[0m\u001b[1;33m\u001b[0m\u001b[1;33m\u001b[0m\u001b[0m\n",
      "\u001b[1;32m~\\AppData\\Roaming\\Python\\Python37\\site-packages\\keras\\backend\\tensorflow_backend.py\u001b[0m in \u001b[0;36m_call\u001b[1;34m(self, inputs)\u001b[0m\n\u001b[0;32m   2673\u001b[0m             \u001b[0mfetched\u001b[0m \u001b[1;33m=\u001b[0m \u001b[0mself\u001b[0m\u001b[1;33m.\u001b[0m\u001b[0m_callable_fn\u001b[0m\u001b[1;33m(\u001b[0m\u001b[1;33m*\u001b[0m\u001b[0marray_vals\u001b[0m\u001b[1;33m,\u001b[0m \u001b[0mrun_metadata\u001b[0m\u001b[1;33m=\u001b[0m\u001b[0mself\u001b[0m\u001b[1;33m.\u001b[0m\u001b[0mrun_metadata\u001b[0m\u001b[1;33m)\u001b[0m\u001b[1;33m\u001b[0m\u001b[1;33m\u001b[0m\u001b[0m\n\u001b[0;32m   2674\u001b[0m         \u001b[1;32melse\u001b[0m\u001b[1;33m:\u001b[0m\u001b[1;33m\u001b[0m\u001b[1;33m\u001b[0m\u001b[0m\n\u001b[1;32m-> 2675\u001b[1;33m             \u001b[0mfetched\u001b[0m \u001b[1;33m=\u001b[0m \u001b[0mself\u001b[0m\u001b[1;33m.\u001b[0m\u001b[0m_callable_fn\u001b[0m\u001b[1;33m(\u001b[0m\u001b[1;33m*\u001b[0m\u001b[0marray_vals\u001b[0m\u001b[1;33m)\u001b[0m\u001b[1;33m\u001b[0m\u001b[1;33m\u001b[0m\u001b[0m\n\u001b[0m\u001b[0;32m   2676\u001b[0m         \u001b[1;32mreturn\u001b[0m \u001b[0mfetched\u001b[0m\u001b[1;33m[\u001b[0m\u001b[1;33m:\u001b[0m\u001b[0mlen\u001b[0m\u001b[1;33m(\u001b[0m\u001b[0mself\u001b[0m\u001b[1;33m.\u001b[0m\u001b[0moutputs\u001b[0m\u001b[1;33m)\u001b[0m\u001b[1;33m]\u001b[0m\u001b[1;33m\u001b[0m\u001b[1;33m\u001b[0m\u001b[0m\n\u001b[0;32m   2677\u001b[0m \u001b[1;33m\u001b[0m\u001b[0m\n",
      "\u001b[1;32m~\\AppData\\Roaming\\Python\\Python37\\site-packages\\tensorflow\\python\\client\\session.py\u001b[0m in \u001b[0;36m__call__\u001b[1;34m(self, *args, **kwargs)\u001b[0m\n\u001b[0;32m   1437\u001b[0m           ret = tf_session.TF_SessionRunCallable(\n\u001b[0;32m   1438\u001b[0m               \u001b[0mself\u001b[0m\u001b[1;33m.\u001b[0m\u001b[0m_session\u001b[0m\u001b[1;33m.\u001b[0m\u001b[0m_session\u001b[0m\u001b[1;33m,\u001b[0m \u001b[0mself\u001b[0m\u001b[1;33m.\u001b[0m\u001b[0m_handle\u001b[0m\u001b[1;33m,\u001b[0m \u001b[0margs\u001b[0m\u001b[1;33m,\u001b[0m \u001b[0mstatus\u001b[0m\u001b[1;33m,\u001b[0m\u001b[1;33m\u001b[0m\u001b[1;33m\u001b[0m\u001b[0m\n\u001b[1;32m-> 1439\u001b[1;33m               run_metadata_ptr)\n\u001b[0m\u001b[0;32m   1440\u001b[0m         \u001b[1;32mif\u001b[0m \u001b[0mrun_metadata\u001b[0m\u001b[1;33m:\u001b[0m\u001b[1;33m\u001b[0m\u001b[1;33m\u001b[0m\u001b[0m\n\u001b[0;32m   1441\u001b[0m           \u001b[0mproto_data\u001b[0m \u001b[1;33m=\u001b[0m \u001b[0mtf_session\u001b[0m\u001b[1;33m.\u001b[0m\u001b[0mTF_GetBuffer\u001b[0m\u001b[1;33m(\u001b[0m\u001b[0mrun_metadata_ptr\u001b[0m\u001b[1;33m)\u001b[0m\u001b[1;33m\u001b[0m\u001b[1;33m\u001b[0m\u001b[0m\n",
      "\u001b[1;31mKeyboardInterrupt\u001b[0m: "
     ]
    }
   ],
   "source": [
    "model_3_training = model_3.fit(\n",
    "    X_train_scaled,\n",
    "    [y_reg_train, y_class_train],\n",
    "    validation_data=(X_test_scaled, [y_reg_test, y_class_test]),\n",
    "    batch_size=1,\n",
    "    epochs=100,\n",
    "    #callbacks=[early_stopping_monitor],\n",
    "    verbose=True)"
   ]
  },
  {
   "cell_type": "code",
   "execution_count": 96,
   "metadata": {
    "ExecuteTime": {
     "end_time": "2019-08-01T20:29:04.363903Z",
     "start_time": "2019-08-01T20:29:04.336890Z"
    }
   },
   "outputs": [
    {
     "data": {
      "text/plain": [
       "(-14.279012,\n",
       " array([7.9136825e-01, 1.4901161e-07, 9.9989313e-01], dtype=float32))"
      ]
     },
     "execution_count": 96,
     "metadata": {},
     "output_type": "execute_result"
    }
   ],
   "source": [
    "model_3.predict(X_test_scaled)[0][6][0], model_3.predict(X_test_scaled)[1][6]"
   ]
  },
  {
   "cell_type": "code",
   "execution_count": 126,
   "metadata": {
    "ExecuteTime": {
     "end_time": "2019-08-01T20:44:38.818209Z",
     "start_time": "2019-08-01T20:44:38.681210Z"
    }
   },
   "outputs": [],
   "source": [
    "input_tensor = Input(shape=(in_cols,))\n",
    "hidden_1 = Dense(in_cols*2, activation='relu', name='hidden_1')(input_tensor)\n",
    "output_tensor_reg = Dense(1, name='Regression')(hidden_1)\n",
    "\n",
    "output_tensor_class = Dense(out_cols, activation='sigmoid', name='Classification')(output_tensor_reg)"
   ]
  },
  {
   "cell_type": "code",
   "execution_count": 127,
   "metadata": {
    "ExecuteTime": {
     "end_time": "2019-08-01T20:44:39.407947Z",
     "start_time": "2019-08-01T20:44:39.400943Z"
    }
   },
   "outputs": [],
   "source": [
    "model_4 = Model(input_tensor, [output_tensor_reg, output_tensor_class])"
   ]
  },
  {
   "cell_type": "code",
   "execution_count": 128,
   "metadata": {
    "ExecuteTime": {
     "end_time": "2019-08-01T20:44:40.408177Z",
     "start_time": "2019-08-01T20:44:40.234064Z"
    }
   },
   "outputs": [],
   "source": [
    "model_4.compile(loss=['mse', 'categorical_crossentropy'],\n",
    "             optimizer='adam',\n",
    "             metrics=['accuracy'])"
   ]
  },
  {
   "cell_type": "code",
   "execution_count": 129,
   "metadata": {
    "ExecuteTime": {
     "end_time": "2019-08-01T20:44:41.116145Z",
     "start_time": "2019-08-01T20:44:41.104137Z"
    }
   },
   "outputs": [
    {
     "name": "stdout",
     "output_type": "stream",
     "text": [
      "_________________________________________________________________\n",
      "Layer (type)                 Output Shape              Param #   \n",
      "=================================================================\n",
      "input_5 (InputLayer)         (None, 11)                0         \n",
      "_________________________________________________________________\n",
      "hidden_1 (Dense)             (None, 22)                264       \n",
      "_________________________________________________________________\n",
      "Regression (Dense)           (None, 1)                 23        \n",
      "_________________________________________________________________\n",
      "Classification (Dense)       (None, 3)                 6         \n",
      "=================================================================\n",
      "Total params: 293\n",
      "Trainable params: 293\n",
      "Non-trainable params: 0\n",
      "_________________________________________________________________\n"
     ]
    }
   ],
   "source": [
    "model_4.summary()"
   ]
  },
  {
   "cell_type": "code",
   "execution_count": 130,
   "metadata": {
    "ExecuteTime": {
     "end_time": "2019-08-01T20:46:19.584271Z",
     "start_time": "2019-08-01T20:44:50.558470Z"
    },
    "scrolled": true
   },
   "outputs": [
    {
     "name": "stdout",
     "output_type": "stream",
     "text": [
      "Train on 417 samples, validate on 105 samples\n",
      "Epoch 1/50\n",
      "417/417 [==============================] - 3s 8ms/step - loss: 5.0738 - Regression_loss: 4.0332 - Classification_loss: 1.0406 - Regression_acc: 0.2302 - Classification_acc: 0.4988 - val_loss: 4.9381 - val_Regression_loss: 3.9009 - val_Classification_loss: 1.0371 - val_Regression_acc: 0.1619 - val_Classification_acc: 0.5143\n",
      "Epoch 2/50\n",
      "417/417 [==============================] - 2s 4ms/step - loss: 4.8580 - Regression_loss: 3.8409 - Classification_loss: 1.0172 - Regression_acc: 0.2422 - Classification_acc: 0.5084 - val_loss: 4.8033 - val_Regression_loss: 3.7764 - val_Classification_loss: 1.0269 - val_Regression_acc: 0.1714 - val_Classification_acc: 0.5048\n",
      "Epoch 3/50\n",
      "417/417 [==============================] - 2s 4ms/step - loss: 4.7269 - Regression_loss: 3.7227 - Classification_loss: 1.0042 - Regression_acc: 0.2278 - Classification_acc: 0.5132 - val_loss: 4.7503 - val_Regression_loss: 3.7252 - val_Classification_loss: 1.0252 - val_Regression_acc: 0.1524 - val_Classification_acc: 0.5143\n",
      "Epoch 4/50\n",
      "417/417 [==============================] - 1s 4ms/step - loss: 4.6818 - Regression_loss: 3.6833 - Classification_loss: 0.9985 - Regression_acc: 0.2398 - Classification_acc: 0.5324 - val_loss: 4.7284 - val_Regression_loss: 3.7155 - val_Classification_loss: 1.0129 - val_Regression_acc: 0.1810 - val_Classification_acc: 0.5143\n",
      "Epoch 5/50\n",
      "417/417 [==============================] - 2s 4ms/step - loss: 4.6202 - Regression_loss: 3.6293 - Classification_loss: 0.9908 - Regression_acc: 0.2422 - Classification_acc: 0.5420 - val_loss: 4.7145 - val_Regression_loss: 3.7027 - val_Classification_loss: 1.0118 - val_Regression_acc: 0.1905 - val_Classification_acc: 0.5333\n",
      "Epoch 6/50\n",
      "417/417 [==============================] - 2s 4ms/step - loss: 4.5557 - Regression_loss: 3.5712 - Classification_loss: 0.9844 - Regression_acc: 0.2206 - Classification_acc: 0.5396 - val_loss: 4.7367 - val_Regression_loss: 3.7274 - val_Classification_loss: 1.0094 - val_Regression_acc: 0.2000 - val_Classification_acc: 0.5238\n",
      "Epoch 7/50\n",
      "417/417 [==============================] - 2s 5ms/step - loss: 4.5058 - Regression_loss: 3.5299 - Classification_loss: 0.9759 - Regression_acc: 0.2326 - Classification_acc: 0.5396 - val_loss: 4.6969 - val_Regression_loss: 3.6919 - val_Classification_loss: 1.0050 - val_Regression_acc: 0.1905 - val_Classification_acc: 0.5238\n",
      "Epoch 8/50\n",
      "417/417 [==============================] - 2s 4ms/step - loss: 4.4649 - Regression_loss: 3.4921 - Classification_loss: 0.9728 - Regression_acc: 0.2350 - Classification_acc: 0.5420 - val_loss: 4.7841 - val_Regression_loss: 3.7757 - val_Classification_loss: 1.0084 - val_Regression_acc: 0.1905 - val_Classification_acc: 0.5048\n",
      "Epoch 9/50\n",
      "417/417 [==============================] - 2s 4ms/step - loss: 4.4405 - Regression_loss: 3.4742 - Classification_loss: 0.9663 - Regression_acc: 0.2374 - Classification_acc: 0.5420 - val_loss: 4.6970 - val_Regression_loss: 3.6957 - val_Classification_loss: 1.0014 - val_Regression_acc: 0.1905 - val_Classification_acc: 0.5238\n",
      "Epoch 10/50\n",
      "417/417 [==============================] - 2s 4ms/step - loss: 4.4222 - Regression_loss: 3.4575 - Classification_loss: 0.9647 - Regression_acc: 0.2182 - Classification_acc: 0.5492 - val_loss: 4.7251 - val_Regression_loss: 3.7224 - val_Classification_loss: 1.0026 - val_Regression_acc: 0.2000 - val_Classification_acc: 0.5143\n",
      "Epoch 11/50\n",
      "417/417 [==============================] - 2s 4ms/step - loss: 4.4032 - Regression_loss: 3.4373 - Classification_loss: 0.9659 - Regression_acc: 0.2230 - Classification_acc: 0.5444 - val_loss: 4.7423 - val_Regression_loss: 3.7396 - val_Classification_loss: 1.0027 - val_Regression_acc: 0.1905 - val_Classification_acc: 0.5143\n",
      "Epoch 12/50\n",
      "417/417 [==============================] - 2s 4ms/step - loss: 4.3466 - Regression_loss: 3.3904 - Classification_loss: 0.9562 - Regression_acc: 0.2398 - Classification_acc: 0.5492 - val_loss: 4.7019 - val_Regression_loss: 3.7010 - val_Classification_loss: 1.0009 - val_Regression_acc: 0.2000 - val_Classification_acc: 0.5429\n",
      "Epoch 13/50\n",
      "417/417 [==============================] - 2s 4ms/step - loss: 4.3453 - Regression_loss: 3.3909 - Classification_loss: 0.9544 - Regression_acc: 0.2446 - Classification_acc: 0.5396 - val_loss: 4.7471 - val_Regression_loss: 3.7447 - val_Classification_loss: 1.0024 - val_Regression_acc: 0.1810 - val_Classification_acc: 0.5143\n",
      "Epoch 14/50\n",
      "417/417 [==============================] - 2s 4ms/step - loss: 4.3388 - Regression_loss: 3.3848 - Classification_loss: 0.9540 - Regression_acc: 0.2422 - Classification_acc: 0.5444 - val_loss: 4.7148 - val_Regression_loss: 3.7157 - val_Classification_loss: 0.9991 - val_Regression_acc: 0.2095 - val_Classification_acc: 0.5143\n",
      "Epoch 15/50\n",
      "417/417 [==============================] - 2s 4ms/step - loss: 4.3090 - Regression_loss: 3.3562 - Classification_loss: 0.9529 - Regression_acc: 0.2158 - Classification_acc: 0.5540 - val_loss: 4.7428 - val_Regression_loss: 3.7430 - val_Classification_loss: 0.9998 - val_Regression_acc: 0.2095 - val_Classification_acc: 0.5238\n",
      "Epoch 16/50\n",
      "417/417 [==============================] - 2s 4ms/step - loss: 4.3111 - Regression_loss: 3.3622 - Classification_loss: 0.9489 - Regression_acc: 0.2422 - Classification_acc: 0.5468 - val_loss: 4.7294 - val_Regression_loss: 3.7283 - val_Classification_loss: 1.0011 - val_Regression_acc: 0.2000 - val_Classification_acc: 0.5238\n",
      "Epoch 17/50\n",
      "417/417 [==============================] - 2s 4ms/step - loss: 4.2840 - Regression_loss: 3.3400 - Classification_loss: 0.9440 - Regression_acc: 0.2566 - Classification_acc: 0.5659 - val_loss: 4.6862 - val_Regression_loss: 3.6915 - val_Classification_loss: 0.9947 - val_Regression_acc: 0.1905 - val_Classification_acc: 0.5429\n",
      "Epoch 18/50\n",
      "417/417 [==============================] - 2s 4ms/step - loss: 4.2638 - Regression_loss: 3.3183 - Classification_loss: 0.9455 - Regression_acc: 0.2470 - Classification_acc: 0.5659 - val_loss: 4.7047 - val_Regression_loss: 3.7097 - val_Classification_loss: 0.9950 - val_Regression_acc: 0.1905 - val_Classification_acc: 0.5238\n",
      "Epoch 19/50\n",
      "417/417 [==============================] - 2s 4ms/step - loss: 4.2551 - Regression_loss: 3.3118 - Classification_loss: 0.9433 - Regression_acc: 0.2398 - Classification_acc: 0.5492 - val_loss: 4.6974 - val_Regression_loss: 3.7004 - val_Classification_loss: 0.9969 - val_Regression_acc: 0.1905 - val_Classification_acc: 0.5333\n",
      "Epoch 20/50\n",
      "417/417 [==============================] - 2s 4ms/step - loss: 4.2302 - Regression_loss: 3.2941 - Classification_loss: 0.9362 - Regression_acc: 0.2446 - Classification_acc: 0.5659 - val_loss: 4.7207 - val_Regression_loss: 3.7217 - val_Classification_loss: 0.9990 - val_Regression_acc: 0.1905 - val_Classification_acc: 0.5143\n",
      "Epoch 21/50\n",
      "417/417 [==============================] - 2s 4ms/step - loss: 4.2372 - Regression_loss: 3.2974 - Classification_loss: 0.9398 - Regression_acc: 0.2494 - Classification_acc: 0.5540 - val_loss: 4.7673 - val_Regression_loss: 3.7634 - val_Classification_loss: 1.0039 - val_Regression_acc: 0.2095 - val_Classification_acc: 0.5429\n",
      "Epoch 22/50\n",
      "417/417 [==============================] - 2s 4ms/step - loss: 4.2040 - Regression_loss: 3.2705 - Classification_loss: 0.9335 - Regression_acc: 0.2734 - Classification_acc: 0.5635 - val_loss: 4.7856 - val_Regression_loss: 3.7750 - val_Classification_loss: 1.0106 - val_Regression_acc: 0.1524 - val_Classification_acc: 0.4952\n",
      "Epoch 23/50\n",
      "417/417 [==============================] - 2s 4ms/step - loss: 4.1881 - Regression_loss: 3.2565 - Classification_loss: 0.9315 - Regression_acc: 0.2710 - Classification_acc: 0.5683 - val_loss: 4.7426 - val_Regression_loss: 3.7356 - val_Classification_loss: 1.0070 - val_Regression_acc: 0.1619 - val_Classification_acc: 0.5429\n",
      "Epoch 24/50\n",
      "417/417 [==============================] - 2s 4ms/step - loss: 4.1899 - Regression_loss: 3.2563 - Classification_loss: 0.9336 - Regression_acc: 0.2710 - Classification_acc: 0.5659 - val_loss: 4.7578 - val_Regression_loss: 3.7511 - val_Classification_loss: 1.0067 - val_Regression_acc: 0.1810 - val_Classification_acc: 0.5333\n",
      "Epoch 25/50\n"
     ]
    },
    {
     "name": "stdout",
     "output_type": "stream",
     "text": [
      "417/417 [==============================] - 2s 4ms/step - loss: 4.1825 - Regression_loss: 3.2506 - Classification_loss: 0.9319 - Regression_acc: 0.2710 - Classification_acc: 0.5635 - val_loss: 4.7913 - val_Regression_loss: 3.7818 - val_Classification_loss: 1.0095 - val_Regression_acc: 0.1714 - val_Classification_acc: 0.5429\n",
      "Epoch 26/50\n",
      "417/417 [==============================] - 2s 4ms/step - loss: 4.1288 - Regression_loss: 3.1983 - Classification_loss: 0.9305 - Regression_acc: 0.2638 - Classification_acc: 0.5683 - val_loss: 4.7495 - val_Regression_loss: 3.7431 - val_Classification_loss: 1.0064 - val_Regression_acc: 0.1810 - val_Classification_acc: 0.5048\n",
      "Epoch 27/50\n",
      "417/417 [==============================] - 2s 4ms/step - loss: 4.1389 - Regression_loss: 3.2113 - Classification_loss: 0.9276 - Regression_acc: 0.2662 - Classification_acc: 0.5588 - val_loss: 4.7353 - val_Regression_loss: 3.7304 - val_Classification_loss: 1.0049 - val_Regression_acc: 0.1524 - val_Classification_acc: 0.5143\n",
      "Epoch 28/50\n",
      "417/417 [==============================] - 2s 4ms/step - loss: 4.1272 - Regression_loss: 3.1984 - Classification_loss: 0.9288 - Regression_acc: 0.2638 - Classification_acc: 0.5612 - val_loss: 4.7966 - val_Regression_loss: 3.7880 - val_Classification_loss: 1.0086 - val_Regression_acc: 0.1905 - val_Classification_acc: 0.5333\n",
      "Epoch 29/50\n",
      "417/417 [==============================] - 2s 4ms/step - loss: 4.1105 - Regression_loss: 3.1845 - Classification_loss: 0.9260 - Regression_acc: 0.2494 - Classification_acc: 0.5779 - val_loss: 4.7969 - val_Regression_loss: 3.7865 - val_Classification_loss: 1.0103 - val_Regression_acc: 0.1810 - val_Classification_acc: 0.5238\n",
      "Epoch 30/50\n",
      "417/417 [==============================] - 2s 4ms/step - loss: 4.1004 - Regression_loss: 3.1786 - Classification_loss: 0.9218 - Regression_acc: 0.2614 - Classification_acc: 0.5779 - val_loss: 4.7523 - val_Regression_loss: 3.7447 - val_Classification_loss: 1.0076 - val_Regression_acc: 0.1810 - val_Classification_acc: 0.5333\n",
      "Epoch 31/50\n",
      "417/417 [==============================] - 2s 4ms/step - loss: 4.0812 - Regression_loss: 3.1605 - Classification_loss: 0.9206 - Regression_acc: 0.2758 - Classification_acc: 0.5731 - val_loss: 4.7214 - val_Regression_loss: 3.7149 - val_Classification_loss: 1.0065 - val_Regression_acc: 0.1619 - val_Classification_acc: 0.5238\n",
      "Epoch 32/50\n",
      "417/417 [==============================] - 2s 4ms/step - loss: 4.0653 - Regression_loss: 3.1465 - Classification_loss: 0.9188 - Regression_acc: 0.2662 - Classification_acc: 0.5827 - val_loss: 4.8787 - val_Regression_loss: 3.8587 - val_Classification_loss: 1.0200 - val_Regression_acc: 0.1905 - val_Classification_acc: 0.5238\n",
      "Epoch 33/50\n",
      "417/417 [==============================] - 2s 4ms/step - loss: 4.0803 - Regression_loss: 3.1604 - Classification_loss: 0.9199 - Regression_acc: 0.2662 - Classification_acc: 0.5779 - val_loss: 4.8635 - val_Regression_loss: 3.8335 - val_Classification_loss: 1.0299 - val_Regression_acc: 0.1619 - val_Classification_acc: 0.5143\n",
      "Epoch 34/50\n",
      "417/417 [==============================] - 2s 4ms/step - loss: 4.0515 - Regression_loss: 3.1355 - Classification_loss: 0.9160 - Regression_acc: 0.2566 - Classification_acc: 0.5659 - val_loss: 4.8435 - val_Regression_loss: 3.8195 - val_Classification_loss: 1.0239 - val_Regression_acc: 0.1619 - val_Classification_acc: 0.5238\n",
      "Epoch 35/50\n",
      "417/417 [==============================] - 2s 4ms/step - loss: 4.0554 - Regression_loss: 3.1353 - Classification_loss: 0.9201 - Regression_acc: 0.2374 - Classification_acc: 0.5731 - val_loss: 4.7309 - val_Regression_loss: 3.7238 - val_Classification_loss: 1.0071 - val_Regression_acc: 0.1714 - val_Classification_acc: 0.5143\n",
      "Epoch 36/50\n",
      "417/417 [==============================] - 2s 4ms/step - loss: 4.0281 - Regression_loss: 3.1132 - Classification_loss: 0.9149 - Regression_acc: 0.2590 - Classification_acc: 0.5779 - val_loss: 4.7867 - val_Regression_loss: 3.7713 - val_Classification_loss: 1.0154 - val_Regression_acc: 0.1619 - val_Classification_acc: 0.5429\n",
      "Epoch 37/50\n",
      "417/417 [==============================] - 3s 7ms/step - loss: 4.0280 - Regression_loss: 3.1175 - Classification_loss: 0.9104 - Regression_acc: 0.2686 - Classification_acc: 0.5851 - val_loss: 4.8286 - val_Regression_loss: 3.8065 - val_Classification_loss: 1.0221 - val_Regression_acc: 0.1619 - val_Classification_acc: 0.523840 - Regression_loss: 3.0941 - Classification_loss: 0.9099 - Regression_acc: 0.2897 - Classification_acc: \n",
      "Epoch 38/50\n",
      "417/417 [==============================] - 2s 4ms/step - loss: 4.0197 - Regression_loss: 3.1063 - Classification_loss: 0.9134 - Regression_acc: 0.2446 - Classification_acc: 0.5803 - val_loss: 4.7756 - val_Regression_loss: 3.7609 - val_Classification_loss: 1.0148 - val_Regression_acc: 0.1810 - val_Classification_acc: 0.5333\n",
      "Epoch 39/50\n",
      "417/417 [==============================] - 2s 4ms/step - loss: 4.0136 - Regression_loss: 3.0978 - Classification_loss: 0.9158 - Regression_acc: 0.2686 - Classification_acc: 0.5779 - val_loss: 4.7750 - val_Regression_loss: 3.7605 - val_Classification_loss: 1.0145 - val_Regression_acc: 0.1714 - val_Classification_acc: 0.5524\n",
      "Epoch 40/50\n",
      "417/417 [==============================] - 2s 6ms/step - loss: 4.0069 - Regression_loss: 3.0954 - Classification_loss: 0.9116 - Regression_acc: 0.2614 - Classification_acc: 0.5707 - val_loss: 4.6823 - val_Regression_loss: 3.6735 - val_Classification_loss: 1.0088 - val_Regression_acc: 0.1810 - val_Classification_acc: 0.5429\n",
      "Epoch 41/50\n",
      "417/417 [==============================] - 2s 5ms/step - loss: 3.9896 - Regression_loss: 3.0766 - Classification_loss: 0.9131 - Regression_acc: 0.2662 - Classification_acc: 0.5851 - val_loss: 4.7859 - val_Regression_loss: 3.7666 - val_Classification_loss: 1.0193 - val_Regression_acc: 0.1619 - val_Classification_acc: 0.5524\n",
      "Epoch 42/50\n",
      "417/417 [==============================] - 2s 5ms/step - loss: 3.9691 - Regression_loss: 3.0601 - Classification_loss: 0.9090 - Regression_acc: 0.2614 - Classification_acc: 0.5755 - val_loss: 4.8626 - val_Regression_loss: 3.8378 - val_Classification_loss: 1.0249 - val_Regression_acc: 0.1714 - val_Classification_acc: 0.5333\n",
      "Epoch 43/50\n",
      "417/417 [==============================] - 2s 4ms/step - loss: 3.9625 - Regression_loss: 3.0556 - Classification_loss: 0.9069 - Regression_acc: 0.2878 - Classification_acc: 0.5755 - val_loss: 4.8761 - val_Regression_loss: 3.8445 - val_Classification_loss: 1.0316 - val_Regression_acc: 0.1714 - val_Classification_acc: 0.5333\n",
      "Epoch 44/50\n",
      "417/417 [==============================] - 2s 4ms/step - loss: 3.9284 - Regression_loss: 3.0224 - Classification_loss: 0.9060 - Regression_acc: 0.2614 - Classification_acc: 0.5755 - val_loss: 4.9357 - val_Regression_loss: 3.8992 - val_Classification_loss: 1.0365 - val_Regression_acc: 0.1810 - val_Classification_acc: 0.5238\n",
      "Epoch 45/50\n",
      "417/417 [==============================] - 2s 4ms/step - loss: 3.9530 - Regression_loss: 3.0464 - Classification_loss: 0.9066 - Regression_acc: 0.2710 - Classification_acc: 0.5779 - val_loss: 4.8106 - val_Regression_loss: 3.7836 - val_Classification_loss: 1.0270 - val_Regression_acc: 0.1619 - val_Classification_acc: 0.5333\n",
      "Epoch 46/50\n",
      "417/417 [==============================] - 2s 4ms/step - loss: 3.9048 - Regression_loss: 3.0051 - Classification_loss: 0.8997 - Regression_acc: 0.2758 - Classification_acc: 0.5971 - val_loss: 4.6540 - val_Regression_loss: 3.6509 - val_Classification_loss: 1.0031 - val_Regression_acc: 0.1429 - val_Classification_acc: 0.5429\n",
      "Epoch 47/50\n",
      "417/417 [==============================] - 2s 4ms/step - loss: 3.9223 - Regression_loss: 3.0149 - Classification_loss: 0.9073 - Regression_acc: 0.2518 - Classification_acc: 0.5851 - val_loss: 4.7762 - val_Regression_loss: 3.7522 - val_Classification_loss: 1.0240 - val_Regression_acc: 0.1714 - val_Classification_acc: 0.5524\n",
      "Epoch 48/50\n",
      "417/417 [==============================] - 2s 4ms/step - loss: 3.9202 - Regression_loss: 3.0187 - Classification_loss: 0.9015 - Regression_acc: 0.2662 - Classification_acc: 0.5875 - val_loss: 4.8451 - val_Regression_loss: 3.8086 - val_Classification_loss: 1.0365 - val_Regression_acc: 0.1619 - val_Classification_acc: 0.5333\n",
      "Epoch 49/50\n"
     ]
    },
    {
     "name": "stdout",
     "output_type": "stream",
     "text": [
      "417/417 [==============================] - 2s 4ms/step - loss: 3.8834 - Regression_loss: 2.9855 - Classification_loss: 0.8979 - Regression_acc: 0.2542 - Classification_acc: 0.5971 - val_loss: 4.6771 - val_Regression_loss: 3.6622 - val_Classification_loss: 1.0149 - val_Regression_acc: 0.1524 - val_Classification_acc: 0.5524\n",
      "Epoch 50/50\n",
      "417/417 [==============================] - 2s 4ms/step - loss: 3.9093 - Regression_loss: 3.0069 - Classification_loss: 0.9024 - Regression_acc: 0.2614 - Classification_acc: 0.5875 - val_loss: 4.7049 - val_Regression_loss: 3.6830 - val_Classification_loss: 1.0219 - val_Regression_acc: 0.1524 - val_Classification_acc: 0.5429\n"
     ]
    }
   ],
   "source": [
    "model_4_training = model_4.fit(\n",
    "    X_train_scaled,\n",
    "    [y_reg_train, y_class_train],\n",
    "    validation_data=(X_test_scaled, [y_reg_test, y_class_test]),\n",
    "    batch_size=1,\n",
    "    epochs=50,\n",
    "    #callbacks=[early_stopping_monitor],\n",
    "    verbose=True)"
   ]
  },
  {
   "cell_type": "code",
   "execution_count": 103,
   "metadata": {
    "ExecuteTime": {
     "end_time": "2019-08-01T20:32:46.894157Z",
     "start_time": "2019-08-01T20:32:46.868142Z"
    }
   },
   "outputs": [
    {
     "data": {
      "text/plain": [
       "(-14.279012,\n",
       " array([7.9136825e-01, 1.4901161e-07, 9.9989313e-01], dtype=float32))"
      ]
     },
     "execution_count": 103,
     "metadata": {},
     "output_type": "execute_result"
    }
   ],
   "source": [
    "model_3.predict(X_test_scaled)[0][6][0], model_3.predict(X_test_scaled)[1][6]"
   ]
  },
  {
   "cell_type": "code",
   "execution_count": 104,
   "metadata": {
    "ExecuteTime": {
     "end_time": "2019-08-01T20:32:48.560888Z",
     "start_time": "2019-08-01T20:32:48.296396Z"
    }
   },
   "outputs": [
    {
     "data": {
      "text/plain": [
       "(-0.0048826337, array([0.3286624 , 0.5263461 , 0.55613184], dtype=float32))"
      ]
     },
     "execution_count": 104,
     "metadata": {},
     "output_type": "execute_result"
    }
   ],
   "source": [
    "model_4.predict(X_test_scaled)[0][6][0], model_4.predict(X_test_scaled)[1][6]"
   ]
  },
  {
   "cell_type": "code",
   "execution_count": 131,
   "metadata": {
    "ExecuteTime": {
     "end_time": "2019-08-01T20:46:31.063841Z",
     "start_time": "2019-08-01T20:46:30.633234Z"
    }
   },
   "outputs": [
    {
     "data": {
      "text/plain": [
       "<matplotlib.legend.Legend at 0x20a0591c7b8>"
      ]
     },
     "execution_count": 131,
     "metadata": {},
     "output_type": "execute_result"
    },
    {
     "data": {
      "image/png": "[encoded data removed]",
      "text/plain": [
       "<Figure size 432x288 with 1 Axes>"
      ]
     },
     "metadata": {
      "needs_background": "light"
     },
     "output_type": "display_data"
    }
   ],
   "source": [
    "plt.plot(model_4_training.history['loss'])\n",
    "plt.xlabel('Epochs')\n",
    "plt.ylim([0, 7])\n",
    "plt.title('Total Loss over Epochs')\n",
    "plt.plot(model_4_training.history['val_loss'])\n",
    "plt.legend(['Total Training loss', 'Total Prediction loss'])"
   ]
  },
  {
   "cell_type": "code",
   "execution_count": 132,
   "metadata": {
    "ExecuteTime": {
     "end_time": "2019-08-01T20:46:41.424113Z",
     "start_time": "2019-08-01T20:46:40.995920Z"
    }
   },
   "outputs": [
    {
     "data": {
      "text/plain": [
       "<matplotlib.legend.Legend at 0x20a069419e8>"
      ]
     },
     "execution_count": 132,
     "metadata": {},
     "output_type": "execute_result"
    },
    {
     "data": {
      "image/png": "[encoded data removed]",
      "text/plain": [
       "<Figure size 432x288 with 1 Axes>"
      ]
     },
     "metadata": {
      "needs_background": "light"
     },
     "output_type": "display_data"
    }
   ],
   "source": [
    "plt.plot(model_4_training.history['Classification_acc'])\n",
    "plt.xlabel('Epochs')\n",
    "plt.ylim([0, 1])\n",
    "plt.title('Total Accuracy over Epochs')\n",
    "plt.plot(model_4_training.history['val_Classification_acc'])\n",
    "plt.legend(['Total Training Accuracy', 'Total Prediction Accuracy'])"
   ]
  },
  {
   "cell_type": "code",
   "execution_count": null,
   "metadata": {},
   "outputs": [],
   "source": []
  }
 ],
 "metadata": {
  "kernelspec": {
   "display_name": "Python 3",
   "language": "python",
   "name": "python3"
  },
  "language_info": {
   "codemirror_mode": {
    "name": "ipython",
    "version": 3
   },
   "file_extension": ".py",
   "mimetype": "text/x-python",
   "name": "python",
   "nbconvert_exporter": "python",
   "pygments_lexer": "ipython3",
   "version": "3.7.3"
  }
 },
 "nbformat": 4,
 "nbformat_minor": 2
}
