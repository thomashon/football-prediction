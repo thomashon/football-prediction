{
 "cells": [
  {
   "cell_type": "code",
   "execution_count": 1,
   "metadata": {
    "ExecuteTime": {
     "end_time": "2019-08-02T11:55:56.930266Z",
     "start_time": "2019-08-02T11:55:52.772559Z"
    }
   },
   "outputs": [
    {
     "name": "stderr",
     "output_type": "stream",
     "text": [
      "C:\\Users\\thoma\\AppData\\Roaming\\Python\\Python37\\site-packages\\numpy\\core\\__init__.py:29: UserWarning: loaded more than 1 DLL from .libs:\n",
      "C:\\Users\\thoma\\AppData\\Roaming\\Python\\Python37\\site-packages\\numpy\\.libs\\libopenblas.IPBC74C7KURV7CB2PKT5Z5FNR3SIBV4J.gfortran-win_amd64.dll\n",
      "C:\\Users\\thoma\\AppData\\Roaming\\Python\\Python37\\site-packages\\numpy\\.libs\\libopenblas.TXA6YQSD3GCQQC22GEQ54J2UDCXDXHWN.gfortran-win_amd64.dll\n",
      "  stacklevel=1)\n"
     ]
    }
   ],
   "source": [
    "import numpy as np\n",
    "import pandas as pd\n",
    "import seaborn as sns\n",
    "import matplotlib.pyplot as plt"
   ]
  },
  {
   "cell_type": "code",
   "execution_count": 4,
   "metadata": {
    "ExecuteTime": {
     "end_time": "2019-08-02T11:56:13.268040Z",
     "start_time": "2019-08-02T11:56:13.240042Z"
    }
   },
   "outputs": [],
   "source": [
    "df = pd.read_csv('data/games0108.csv', sep=',')"
   ]
  },
  {
   "cell_type": "code",
   "execution_count": 5,
   "metadata": {
    "ExecuteTime": {
     "end_time": "2019-08-02T11:56:14.821316Z",
     "start_time": "2019-08-02T11:56:14.805298Z"
    }
   },
   "outputs": [],
   "source": [
    "df = df.drop('fortlfd', axis=1)"
   ]
  },
  {
   "cell_type": "code",
   "execution_count": 6,
   "metadata": {
    "ExecuteTime": {
     "end_time": "2019-08-02T11:56:15.261310Z",
     "start_time": "2019-08-02T11:56:15.205313Z"
    },
    "scrolled": true
   },
   "outputs": [
    {
     "data": {
      "text/html": [
       "<div>\n",
       "<style scoped>\n",
       "    .dataframe tbody tr th:only-of-type {\n",
       "        vertical-align: middle;\n",
       "    }\n",
       "\n",
       "    .dataframe tbody tr th {\n",
       "        vertical-align: top;\n",
       "    }\n",
       "\n",
       "    .dataframe thead th {\n",
       "        text-align: right;\n",
       "    }\n",
       "</style>\n",
       "<table border=\"1\" class=\"dataframe\">\n",
       "  <thead>\n",
       "    <tr style=\"text-align: right;\">\n",
       "      <th></th>\n",
       "      <th>contest</th>\n",
       "      <th>year</th>\n",
       "      <th>month</th>\n",
       "      <th>day</th>\n",
       "      <th>time</th>\n",
       "      <th>break</th>\n",
       "      <th>hoamTeam</th>\n",
       "      <th>guestTeam</th>\n",
       "      <th>resultNumeric</th>\n",
       "      <th>homeTotalGoalDiff</th>\n",
       "      <th>guestTotalGoalDiff</th>\n",
       "      <th>homeTeamGoalsDiffAtHome</th>\n",
       "      <th>homeTeamGoalsDiffAway</th>\n",
       "      <th>guestTeamGoalsDiffAtHome</th>\n",
       "      <th>guestTeamGoalsDiffAway</th>\n",
       "      <th>hoamAvgPoints</th>\n",
       "      <th>guestAvgpoints</th>\n",
       "    </tr>\n",
       "  </thead>\n",
       "  <tbody>\n",
       "    <tr>\n",
       "      <th>0</th>\n",
       "      <td>UEFA CL-Qualifikation  UEFA Champions League-Q...</td>\n",
       "      <td>2017</td>\n",
       "      <td>7</td>\n",
       "      <td>Di</td>\n",
       "      <td>20:30</td>\n",
       "      <td>45</td>\n",
       "      <td>Hibernians FC</td>\n",
       "      <td>Red Bull Salzburg</td>\n",
       "      <td>-3.0</td>\n",
       "      <td>0.00</td>\n",
       "      <td>0.000000</td>\n",
       "      <td>0.0</td>\n",
       "      <td>0.0</td>\n",
       "      <td>0.0</td>\n",
       "      <td>0.0</td>\n",
       "      <td>0.0</td>\n",
       "      <td>0.0</td>\n",
       "    </tr>\n",
       "    <tr>\n",
       "      <th>1</th>\n",
       "      <td>ÖFB-Cup  ÖFB-Cup</td>\n",
       "      <td>2017</td>\n",
       "      <td>7</td>\n",
       "      <td>Sa</td>\n",
       "      <td>17:00</td>\n",
       "      <td>4</td>\n",
       "      <td>Deutschlandsberger SC</td>\n",
       "      <td>Red Bull Salzburg</td>\n",
       "      <td>-7.0</td>\n",
       "      <td>0.00</td>\n",
       "      <td>3.000000</td>\n",
       "      <td>0.0</td>\n",
       "      <td>0.0</td>\n",
       "      <td>0.0</td>\n",
       "      <td>3.0</td>\n",
       "      <td>0.0</td>\n",
       "      <td>3.0</td>\n",
       "    </tr>\n",
       "    <tr>\n",
       "      <th>2</th>\n",
       "      <td>UEFA CL-Qualifikation  UEFA Champions League-Q...</td>\n",
       "      <td>2017</td>\n",
       "      <td>7</td>\n",
       "      <td>Mi</td>\n",
       "      <td>20:30</td>\n",
       "      <td>4</td>\n",
       "      <td>Red Bull Salzburg</td>\n",
       "      <td>Hibernians FC</td>\n",
       "      <td>3.0</td>\n",
       "      <td>5.00</td>\n",
       "      <td>-3.000000</td>\n",
       "      <td>0.0</td>\n",
       "      <td>5.0</td>\n",
       "      <td>-3.0</td>\n",
       "      <td>0.0</td>\n",
       "      <td>3.0</td>\n",
       "      <td>0.0</td>\n",
       "    </tr>\n",
       "    <tr>\n",
       "      <th>3</th>\n",
       "      <td>Bundesliga  Bundesliga</td>\n",
       "      <td>2017</td>\n",
       "      <td>7</td>\n",
       "      <td>Sa</td>\n",
       "      <td>18:30</td>\n",
       "      <td>3</td>\n",
       "      <td>Wolfsberger AC</td>\n",
       "      <td>Red Bull Salzburg</td>\n",
       "      <td>-2.0</td>\n",
       "      <td>0.00</td>\n",
       "      <td>4.333333</td>\n",
       "      <td>0.0</td>\n",
       "      <td>0.0</td>\n",
       "      <td>3.0</td>\n",
       "      <td>5.0</td>\n",
       "      <td>0.0</td>\n",
       "      <td>3.0</td>\n",
       "    </tr>\n",
       "    <tr>\n",
       "      <th>4</th>\n",
       "      <td>UEFA CL-Qualifikation  UEFA Champions League-Q...</td>\n",
       "      <td>2017</td>\n",
       "      <td>7</td>\n",
       "      <td>Mi</td>\n",
       "      <td>18:45</td>\n",
       "      <td>4</td>\n",
       "      <td>Red Bull Salzburg</td>\n",
       "      <td>HNK Rijeka</td>\n",
       "      <td>0.0</td>\n",
       "      <td>3.75</td>\n",
       "      <td>0.000000</td>\n",
       "      <td>3.0</td>\n",
       "      <td>4.0</td>\n",
       "      <td>0.0</td>\n",
       "      <td>0.0</td>\n",
       "      <td>3.0</td>\n",
       "      <td>0.0</td>\n",
       "    </tr>\n",
       "  </tbody>\n",
       "</table>\n",
       "</div>"
      ],
      "text/plain": [
       "                                             contest  year  month day   time  \\\n",
       "0  UEFA CL-Qualifikation  UEFA Champions League-Q...  2017      7  Di  20:30   \n",
       "1                                   ÖFB-Cup  ÖFB-Cup  2017      7  Sa  17:00   \n",
       "2  UEFA CL-Qualifikation  UEFA Champions League-Q...  2017      7  Mi  20:30   \n",
       "3                             Bundesliga  Bundesliga  2017      7  Sa  18:30   \n",
       "4  UEFA CL-Qualifikation  UEFA Champions League-Q...  2017      7  Mi  18:45   \n",
       "\n",
       "   break               hoamTeam          guestTeam  resultNumeric  \\\n",
       "0     45          Hibernians FC  Red Bull Salzburg           -3.0   \n",
       "1      4  Deutschlandsberger SC  Red Bull Salzburg           -7.0   \n",
       "2      4      Red Bull Salzburg      Hibernians FC            3.0   \n",
       "3      3         Wolfsberger AC  Red Bull Salzburg           -2.0   \n",
       "4      4      Red Bull Salzburg         HNK Rijeka            0.0   \n",
       "\n",
       "   homeTotalGoalDiff  guestTotalGoalDiff  homeTeamGoalsDiffAtHome  \\\n",
       "0               0.00            0.000000                      0.0   \n",
       "1               0.00            3.000000                      0.0   \n",
       "2               5.00           -3.000000                      0.0   \n",
       "3               0.00            4.333333                      0.0   \n",
       "4               3.75            0.000000                      3.0   \n",
       "\n",
       "   homeTeamGoalsDiffAway  guestTeamGoalsDiffAtHome  guestTeamGoalsDiffAway  \\\n",
       "0                    0.0                       0.0                     0.0   \n",
       "1                    0.0                       0.0                     3.0   \n",
       "2                    5.0                      -3.0                     0.0   \n",
       "3                    0.0                       3.0                     5.0   \n",
       "4                    4.0                       0.0                     0.0   \n",
       "\n",
       "   hoamAvgPoints  guestAvgpoints  \n",
       "0            0.0             0.0  \n",
       "1            0.0             3.0  \n",
       "2            3.0             0.0  \n",
       "3            0.0             3.0  \n",
       "4            3.0             0.0  "
      ]
     },
     "execution_count": 6,
     "metadata": {},
     "output_type": "execute_result"
    }
   ],
   "source": [
    "df.head()"
   ]
  },
  {
   "cell_type": "code",
   "execution_count": 7,
   "metadata": {
    "ExecuteTime": {
     "end_time": "2019-08-02T11:56:15.525318Z",
     "start_time": "2019-08-02T11:56:15.509314Z"
    }
   },
   "outputs": [],
   "source": [
    "df['result'] = np.where(df.resultNumeric < 0, 'lost', np.where(df.resultNumeric > 0, 'won', 'draw'))"
   ]
  },
  {
   "cell_type": "code",
   "execution_count": 8,
   "metadata": {
    "ExecuteTime": {
     "end_time": "2019-08-02T11:56:22.347642Z",
     "start_time": "2019-08-02T11:56:17.398881Z"
    }
   },
   "outputs": [
    {
     "name": "stderr",
     "output_type": "stream",
     "text": [
      "Using TensorFlow backend.\n"
     ]
    }
   ],
   "source": [
    "from keras.utils import to_categorical"
   ]
  },
  {
   "cell_type": "code",
   "execution_count": 9,
   "metadata": {
    "ExecuteTime": {
     "end_time": "2019-08-02T11:56:22.378528Z",
     "start_time": "2019-08-02T11:56:22.347642Z"
    }
   },
   "outputs": [],
   "source": [
    "y_cat = (pd.get_dummies(df.result))\n",
    "y_reg = df.resultNumeric"
   ]
  },
  {
   "cell_type": "code",
   "execution_count": 10,
   "metadata": {
    "ExecuteTime": {
     "end_time": "2019-08-02T11:56:22.442547Z",
     "start_time": "2019-08-02T11:56:22.394547Z"
    }
   },
   "outputs": [
    {
     "data": {
      "text/plain": [
       "(522, 18)"
      ]
     },
     "execution_count": 10,
     "metadata": {},
     "output_type": "execute_result"
    }
   ],
   "source": [
    "df.shape"
   ]
  },
  {
   "cell_type": "code",
   "execution_count": 11,
   "metadata": {
    "ExecuteTime": {
     "end_time": "2019-08-02T11:56:22.478541Z",
     "start_time": "2019-08-02T11:56:22.446529Z"
    }
   },
   "outputs": [
    {
     "name": "stdout",
     "output_type": "stream",
     "text": [
      "<class 'pandas.core.frame.DataFrame'>\n",
      "RangeIndex: 522 entries, 0 to 521\n",
      "Data columns (total 18 columns):\n",
      "contest                     522 non-null object\n",
      "year                        522 non-null int64\n",
      "month                       522 non-null int64\n",
      "day                         522 non-null object\n",
      "time                        522 non-null object\n",
      "break                       522 non-null int64\n",
      "hoamTeam                    522 non-null object\n",
      "guestTeam                   522 non-null object\n",
      "resultNumeric               522 non-null float64\n",
      "homeTotalGoalDiff           522 non-null float64\n",
      "guestTotalGoalDiff          522 non-null float64\n",
      "homeTeamGoalsDiffAtHome     522 non-null float64\n",
      "homeTeamGoalsDiffAway       522 non-null float64\n",
      "guestTeamGoalsDiffAtHome    522 non-null float64\n",
      "guestTeamGoalsDiffAway      522 non-null float64\n",
      "hoamAvgPoints               522 non-null float64\n",
      "guestAvgpoints              522 non-null float64\n",
      "result                      522 non-null object\n",
      "dtypes: float64(9), int64(3), object(6)\n",
      "memory usage: 73.5+ KB\n"
     ]
    }
   ],
   "source": [
    "df.info()"
   ]
  },
  {
   "cell_type": "code",
   "execution_count": 14,
   "metadata": {
    "ExecuteTime": {
     "end_time": "2019-08-02T11:56:45.350507Z",
     "start_time": "2019-08-02T11:56:45.334501Z"
    }
   },
   "outputs": [
    {
     "data": {
      "text/plain": [
       "guestTotalGoalDiff         -0.215955\n",
       "guestTeamGoalsDiffAway     -0.211635\n",
       "guestTeamGoalsDiffAtHome   -0.172638\n",
       "guestAvgpoints             -0.157949\n",
       "break                      -0.082948\n",
       "month                      -0.009726\n",
       "year                        0.058273\n",
       "homeTeamGoalsDiffAtHome     0.242608\n",
       "homeTeamGoalsDiffAway       0.270778\n",
       "homeTotalGoalDiff           0.313707\n",
       "hoamAvgPoints               0.357243\n",
       "resultNumeric               1.000000\n",
       "Name: resultNumeric, dtype: float64"
      ]
     },
     "execution_count": 14,
     "metadata": {},
     "output_type": "execute_result"
    }
   ],
   "source": [
    "df.corr()['resultNumeric'].sort_values()"
   ]
  },
  {
   "cell_type": "code",
   "execution_count": 15,
   "metadata": {
    "ExecuteTime": {
     "end_time": "2019-08-02T11:56:46.392274Z",
     "start_time": "2019-08-02T11:56:45.848759Z"
    }
   },
   "outputs": [
    {
     "data": {
      "image/png": "[encoded data removed]",
      "text/plain": [
       "<Figure size 576x576 with 2 Axes>"
      ]
     },
     "metadata": {
      "needs_background": "light"
     },
     "output_type": "display_data"
    }
   ],
   "source": [
    "plt.figure(figsize=(8, 8))\n",
    "sns.heatmap(df.corr(), square=True, cmap=\"YlGnBu\")\n",
    "plt.show()"
   ]
  },
  {
   "cell_type": "code",
   "execution_count": 16,
   "metadata": {
    "ExecuteTime": {
     "end_time": "2019-08-02T11:56:46.888279Z",
     "start_time": "2019-08-02T11:56:46.876284Z"
    }
   },
   "outputs": [],
   "source": [
    "X = df.drop(['resultNumeric', 'result', 'contest', 'hoamTeam', 'guestTeam', 'day', 'time'], axis=1)"
   ]
  },
  {
   "cell_type": "code",
   "execution_count": 17,
   "metadata": {
    "ExecuteTime": {
     "end_time": "2019-08-02T11:56:47.958097Z",
     "start_time": "2019-08-02T11:56:47.601560Z"
    }
   },
   "outputs": [],
   "source": [
    "from sklearn.model_selection import train_test_split"
   ]
  },
  {
   "cell_type": "code",
   "execution_count": 18,
   "metadata": {
    "ExecuteTime": {
     "end_time": "2019-08-02T11:56:48.193980Z",
     "start_time": "2019-08-02T11:56:48.177975Z"
    }
   },
   "outputs": [],
   "source": [
    "X_train, X_test, y_reg_train, y_reg_test, y_class_train, y_class_test = train_test_split(\n",
    "    X, y_reg, y_cat, test_size=0.2, random_state=123)"
   ]
  },
  {
   "cell_type": "code",
   "execution_count": 19,
   "metadata": {
    "ExecuteTime": {
     "end_time": "2019-08-02T11:56:48.725964Z",
     "start_time": "2019-08-02T11:56:48.717971Z"
    }
   },
   "outputs": [],
   "source": [
    "from sklearn.preprocessing import StandardScaler"
   ]
  },
  {
   "cell_type": "code",
   "execution_count": 20,
   "metadata": {
    "ExecuteTime": {
     "end_time": "2019-08-02T11:56:49.213973Z",
     "start_time": "2019-08-02T11:56:49.193978Z"
    }
   },
   "outputs": [],
   "source": [
    "scaler = StandardScaler()\n",
    "\n",
    "scaler.fit(X_train)\n",
    "\n",
    "X_train_scaled = scaler.transform(X_train)\n",
    "X_test_scaled = scaler.transform(X_test)"
   ]
  },
  {
   "cell_type": "code",
   "execution_count": 21,
   "metadata": {
    "ExecuteTime": {
     "end_time": "2019-08-02T11:56:49.729971Z",
     "start_time": "2019-08-02T11:56:49.717970Z"
    }
   },
   "outputs": [],
   "source": [
    "from keras.models import Model, Sequential\n",
    "from keras.layers import Dense, Input, BatchNormalization\n",
    "from keras.utils import plot_model\n",
    "from keras.callbacks import EarlyStopping, ModelCheckpoint\n",
    "\n",
    "early_stopping_monitor = EarlyStopping(patience=3)"
   ]
  },
  {
   "cell_type": "code",
   "execution_count": 22,
   "metadata": {
    "ExecuteTime": {
     "end_time": "2019-08-02T11:56:50.209963Z",
     "start_time": "2019-08-02T11:56:50.193981Z"
    }
   },
   "outputs": [
    {
     "data": {
      "text/plain": [
       "(11, 3)"
      ]
     },
     "execution_count": 22,
     "metadata": {},
     "output_type": "execute_result"
    }
   ],
   "source": [
    "in_cols=X_train.shape[1]\n",
    "out_cols=y_cat.shape[1]\n",
    "\n",
    "in_cols, out_cols"
   ]
  },
  {
   "cell_type": "code",
   "execution_count": 23,
   "metadata": {
    "ExecuteTime": {
     "end_time": "2019-08-02T11:56:50.941964Z",
     "start_time": "2019-08-02T11:56:50.733962Z"
    }
   },
   "outputs": [
    {
     "name": "stdout",
     "output_type": "stream",
     "text": [
      "WARNING:tensorflow:From C:\\Users\\thoma\\AppData\\Roaming\\Python\\Python37\\site-packages\\tensorflow\\python\\framework\\op_def_library.py:263: colocate_with (from tensorflow.python.framework.ops) is deprecated and will be removed in a future version.\n",
      "Instructions for updating:\n",
      "Colocations handled automatically by placer.\n"
     ]
    }
   ],
   "source": [
    "model_1 = Sequential()\n",
    "\n",
    "model_1.add(Dense(12, input_shape=(in_cols,), activation='relu', ))\n",
    "model_1.add(Dense(12, activation='relu'))\n",
    "model_1.add(Dense(1))\n"
   ]
  },
  {
   "cell_type": "code",
   "execution_count": 24,
   "metadata": {
    "ExecuteTime": {
     "end_time": "2019-08-02T11:56:51.754130Z",
     "start_time": "2019-08-02T11:56:51.674126Z"
    }
   },
   "outputs": [],
   "source": [
    "model_1.compile(optimizer='adam', loss='mse')"
   ]
  },
  {
   "cell_type": "code",
   "execution_count": 25,
   "metadata": {
    "ExecuteTime": {
     "end_time": "2019-08-02T11:56:58.496177Z",
     "start_time": "2019-08-02T11:56:52.312488Z"
    },
    "scrolled": true
   },
   "outputs": [
    {
     "name": "stdout",
     "output_type": "stream",
     "text": [
      "WARNING:tensorflow:From C:\\Users\\thoma\\AppData\\Roaming\\Python\\Python37\\site-packages\\tensorflow\\python\\ops\\math_ops.py:3066: to_int32 (from tensorflow.python.ops.math_ops) is deprecated and will be removed in a future version.\n",
      "Instructions for updating:\n",
      "Use tf.cast instead.\n",
      "Train on 417 samples, validate on 105 samples\n",
      "Epoch 1/100\n",
      "417/417 [==============================] - 1s 2ms/step - loss: 4.9800 - val_loss: 4.8871\n",
      "Epoch 2/100\n",
      "417/417 [==============================] - 0s 115us/step - loss: 4.7489 - val_loss: 4.6924\n",
      "Epoch 3/100\n",
      "417/417 [==============================] - 0s 96us/step - loss: 4.5749 - val_loss: 4.5504\n",
      "Epoch 4/100\n",
      "417/417 [==============================] - 0s 86us/step - loss: 4.4582 - val_loss: 4.4257\n",
      "Epoch 5/100\n",
      "417/417 [==============================] - 0s 115us/step - loss: 4.3561 - val_loss: 4.3055\n",
      "Epoch 6/100\n",
      "417/417 [==============================] - 0s 86us/step - loss: 4.2694 - val_loss: 4.2090\n",
      "Epoch 7/100\n",
      "417/417 [==============================] - 0s 67us/step - loss: 4.1829 - val_loss: 4.1278\n",
      "Epoch 8/100\n",
      "417/417 [==============================] - 0s 86us/step - loss: 4.1041 - val_loss: 4.0642\n",
      "Epoch 9/100\n",
      "417/417 [==============================] - 0s 115us/step - loss: 4.0513 - val_loss: 4.0170\n",
      "Epoch 10/100\n",
      "417/417 [==============================] - 0s 77us/step - loss: 4.0100 - val_loss: 3.9896\n",
      "Epoch 11/100\n",
      "417/417 [==============================] - 0s 96us/step - loss: 3.9940 - val_loss: 3.9805\n",
      "Epoch 12/100\n",
      "417/417 [==============================] - 0s 134us/step - loss: 3.9641 - val_loss: 3.9392\n",
      "Epoch 13/100\n",
      "417/417 [==============================] - 0s 96us/step - loss: 3.9283 - val_loss: 3.9031\n",
      "Epoch 14/100\n",
      "417/417 [==============================] - 0s 192us/step - loss: 3.8956 - val_loss: 3.8743\n",
      "Epoch 15/100\n",
      "417/417 [==============================] - 0s 115us/step - loss: 3.8660 - val_loss: 3.8419\n",
      "Epoch 16/100\n",
      "417/417 [==============================] - 0s 134us/step - loss: 3.8379 - val_loss: 3.8120\n",
      "Epoch 17/100\n",
      "417/417 [==============================] - 0s 96us/step - loss: 3.8200 - val_loss: 3.7842\n",
      "Epoch 18/100\n",
      "417/417 [==============================] - 0s 125us/step - loss: 3.8009 - val_loss: 3.7704\n",
      "Epoch 19/100\n",
      "417/417 [==============================] - 0s 115us/step - loss: 3.7857 - val_loss: 3.7516\n",
      "Epoch 20/100\n",
      "417/417 [==============================] - 0s 77us/step - loss: 3.7677 - val_loss: 3.7352\n",
      "Epoch 21/100\n",
      "417/417 [==============================] - 0s 96us/step - loss: 3.7601 - val_loss: 3.7219\n",
      "Epoch 22/100\n",
      "417/417 [==============================] - 0s 86us/step - loss: 3.7496 - val_loss: 3.7041\n",
      "Epoch 23/100\n",
      "417/417 [==============================] - 0s 86us/step - loss: 3.7344 - val_loss: 3.6845\n",
      "Epoch 24/100\n",
      "417/417 [==============================] - 0s 86us/step - loss: 3.7193 - val_loss: 3.6679\n",
      "Epoch 25/100\n",
      "417/417 [==============================] - 0s 96us/step - loss: 3.7046 - val_loss: 3.6574\n",
      "Epoch 26/100\n",
      "417/417 [==============================] - 0s 125us/step - loss: 3.6940 - val_loss: 3.6468\n",
      "Epoch 27/100\n",
      "417/417 [==============================] - 0s 96us/step - loss: 3.6898 - val_loss: 3.6554\n",
      "Epoch 28/100\n",
      "417/417 [==============================] - 0s 77us/step - loss: 3.6811 - val_loss: 3.6477\n",
      "Epoch 29/100\n",
      "417/417 [==============================] - 0s 106us/step - loss: 3.6663 - val_loss: 3.6438\n",
      "Epoch 30/100\n",
      "417/417 [==============================] - 0s 115us/step - loss: 3.6560 - val_loss: 3.6393\n",
      "Epoch 31/100\n",
      "417/417 [==============================] - 0s 77us/step - loss: 3.6525 - val_loss: 3.6708\n",
      "Epoch 32/100\n",
      "417/417 [==============================] - 0s 163us/step - loss: 3.6576 - val_loss: 3.6698\n",
      "Epoch 33/100\n",
      "417/417 [==============================] - 0s 163us/step - loss: 3.6527 - val_loss: 3.6533\n",
      "Epoch 34/100\n",
      "417/417 [==============================] - 0s 96us/step - loss: 3.6354 - val_loss: 3.6566\n",
      "Epoch 35/100\n",
      "417/417 [==============================] - 0s 125us/step - loss: 3.6270 - val_loss: 3.6557\n",
      "Epoch 36/100\n",
      "417/417 [==============================] - ETA: 0s - loss: 4.871 - 0s 105us/step - loss: 3.6228 - val_loss: 3.6418\n",
      "Epoch 37/100\n",
      "417/417 [==============================] - 0s 115us/step - loss: 3.6125 - val_loss: 3.6238\n",
      "Epoch 38/100\n",
      "417/417 [==============================] - 0s 125us/step - loss: 3.5975 - val_loss: 3.6202\n",
      "Epoch 39/100\n",
      "417/417 [==============================] - 0s 115us/step - loss: 3.5909 - val_loss: 3.6081\n",
      "Epoch 40/100\n",
      "417/417 [==============================] - 0s 115us/step - loss: 3.5808 - val_loss: 3.5814\n",
      "Epoch 41/100\n",
      "417/417 [==============================] - 0s 77us/step - loss: 3.5710 - val_loss: 3.5657\n",
      "Epoch 42/100\n",
      "417/417 [==============================] - 0s 86us/step - loss: 3.5724 - val_loss: 3.5720\n",
      "Epoch 43/100\n",
      "417/417 [==============================] - 0s 125us/step - loss: 3.5569 - val_loss: 3.5747\n",
      "Epoch 44/100\n",
      "417/417 [==============================] - 0s 86us/step - loss: 3.5529 - val_loss: 3.5731\n",
      "Epoch 45/100\n",
      "417/417 [==============================] - 0s 106us/step - loss: 3.5431 - val_loss: 3.5697\n",
      "Epoch 46/100\n",
      "417/417 [==============================] - 0s 86us/step - loss: 3.5418 - val_loss: 3.5711\n",
      "Epoch 47/100\n",
      "417/417 [==============================] - 0s 86us/step - loss: 3.5398 - val_loss: 3.6108\n",
      "Epoch 48/100\n",
      "417/417 [==============================] - 0s 106us/step - loss: 3.5307 - val_loss: 3.6223\n",
      "Epoch 49/100\n",
      "417/417 [==============================] - 0s 77us/step - loss: 3.5173 - val_loss: 3.6160\n",
      "Epoch 50/100\n",
      "417/417 [==============================] - 0s 96us/step - loss: 3.5233 - val_loss: 3.6372\n",
      "Epoch 51/100\n",
      "417/417 [==============================] - 0s 106us/step - loss: 3.5257 - val_loss: 3.6300\n",
      "Epoch 52/100\n",
      "417/417 [==============================] - 0s 96us/step - loss: 3.5062 - val_loss: 3.6253\n",
      "Epoch 53/100\n",
      "417/417 [==============================] - 0s 96us/step - loss: 3.4957 - val_loss: 3.6105\n",
      "Epoch 54/100\n",
      "417/417 [==============================] - 0s 106us/step - loss: 3.4882 - val_loss: 3.6011\n",
      "Epoch 55/100\n",
      "417/417 [==============================] - 0s 86us/step - loss: 3.4837 - val_loss: 3.5878\n",
      "Epoch 56/100\n",
      "417/417 [==============================] - 0s 106us/step - loss: 3.4718 - val_loss: 3.5806\n",
      "Epoch 57/100\n",
      "417/417 [==============================] - 0s 96us/step - loss: 3.4623 - val_loss: 3.5846\n",
      "Epoch 58/100\n",
      "417/417 [==============================] - 0s 106us/step - loss: 3.4541 - val_loss: 3.5800\n",
      "Epoch 59/100\n",
      "417/417 [==============================] - 0s 86us/step - loss: 3.4491 - val_loss: 3.5716\n",
      "Epoch 60/100\n",
      "417/417 [==============================] - 0s 105us/step - loss: 3.4453 - val_loss: 3.5855\n",
      "Epoch 61/100\n",
      "417/417 [==============================] - 0s 86us/step - loss: 3.4461 - val_loss: 3.5768\n",
      "Epoch 62/100\n",
      "417/417 [==============================] - ETA: 0s - loss: 1.884 - 0s 115us/step - loss: 3.4369 - val_loss: 3.5788\n",
      "Epoch 63/100\n",
      "417/417 [==============================] - 0s 86us/step - loss: 3.4268 - val_loss: 3.5734\n",
      "Epoch 64/100\n",
      "417/417 [==============================] - 0s 86us/step - loss: 3.4203 - val_loss: 3.5703\n",
      "Epoch 65/100\n",
      "417/417 [==============================] - 0s 105us/step - loss: 3.4159 - val_loss: 3.5660\n",
      "Epoch 66/100\n",
      "417/417 [==============================] - 0s 86us/step - loss: 3.4107 - val_loss: 3.5617\n",
      "Epoch 67/100\n",
      "417/417 [==============================] - 0s 86us/step - loss: 3.4152 - val_loss: 3.5584\n",
      "Epoch 68/100\n",
      "417/417 [==============================] - 0s 86us/step - loss: 3.4078 - val_loss: 3.5456\n",
      "Epoch 69/100\n",
      "417/417 [==============================] - 0s 86us/step - loss: 3.3930 - val_loss: 3.5428\n",
      "Epoch 70/100\n",
      "417/417 [==============================] - 0s 115us/step - loss: 3.3828 - val_loss: 3.5549\n",
      "Epoch 71/100\n",
      "417/417 [==============================] - 0s 86us/step - loss: 3.3818 - val_loss: 3.5655\n",
      "Epoch 72/100\n",
      "417/417 [==============================] - 0s 96us/step - loss: 3.3758 - val_loss: 3.5594\n",
      "Epoch 73/100\n",
      "417/417 [==============================] - 0s 96us/step - loss: 3.3720 - val_loss: 3.5591\n",
      "Epoch 74/100\n",
      "417/417 [==============================] - 0s 96us/step - loss: 3.3749 - val_loss: 3.5486\n",
      "Epoch 75/100\n",
      "417/417 [==============================] - ETA: 0s - loss: 3.249 - 0s 96us/step - loss: 3.3744 - val_loss: 3.5406\n",
      "Epoch 76/100\n"
     ]
    },
    {
     "name": "stdout",
     "output_type": "stream",
     "text": [
      "417/417 [==============================] - 0s 96us/step - loss: 3.3661 - val_loss: 3.5449\n",
      "Epoch 77/100\n",
      "417/417 [==============================] - 0s 77us/step - loss: 3.3402 - val_loss: 3.5448\n",
      "Epoch 78/100\n",
      "417/417 [==============================] - 0s 86us/step - loss: 3.3425 - val_loss: 3.5515\n",
      "Epoch 79/100\n",
      "417/417 [==============================] - 0s 115us/step - loss: 3.3370 - val_loss: 3.5439\n",
      "Epoch 80/100\n",
      "417/417 [==============================] - 0s 86us/step - loss: 3.3416 - val_loss: 3.5273\n",
      "Epoch 81/100\n",
      "417/417 [==============================] - 0s 86us/step - loss: 3.3418 - val_loss: 3.5230\n",
      "Epoch 82/100\n",
      "417/417 [==============================] - 0s 96us/step - loss: 3.3488 - val_loss: 3.5618\n",
      "Epoch 83/100\n",
      "417/417 [==============================] - 0s 96us/step - loss: 3.3492 - val_loss: 3.5515\n",
      "Epoch 84/100\n",
      "417/417 [==============================] - 0s 106us/step - loss: 3.3316 - val_loss: 3.5380\n",
      "Epoch 85/100\n",
      "417/417 [==============================] - 0s 86us/step - loss: 3.3186 - val_loss: 3.5265\n",
      "Epoch 86/100\n",
      "417/417 [==============================] - 0s 86us/step - loss: 3.3096 - val_loss: 3.5144\n",
      "Epoch 87/100\n",
      "417/417 [==============================] - 0s 86us/step - loss: 3.3029 - val_loss: 3.4958\n",
      "Epoch 88/100\n",
      "417/417 [==============================] - 0s 96us/step - loss: 3.3112 - val_loss: 3.5068\n",
      "Epoch 89/100\n",
      "417/417 [==============================] - 0s 96us/step - loss: 3.3200 - val_loss: 3.4985\n",
      "Epoch 90/100\n",
      "417/417 [==============================] - 0s 86us/step - loss: 3.3084 - val_loss: 3.4781\n",
      "Epoch 91/100\n",
      "417/417 [==============================] - 0s 163us/step - loss: 3.2911 - val_loss: 3.4904\n",
      "Epoch 92/100\n",
      "417/417 [==============================] - 0s 86us/step - loss: 3.3025 - val_loss: 3.5310\n",
      "Epoch 93/100\n",
      "417/417 [==============================] - 0s 86us/step - loss: 3.2980 - val_loss: 3.5192\n",
      "Epoch 94/100\n",
      "417/417 [==============================] - 0s 106us/step - loss: 3.2906 - val_loss: 3.5028\n",
      "Epoch 95/100\n",
      "417/417 [==============================] - 0s 115us/step - loss: 3.2783 - val_loss: 3.5250\n",
      "Epoch 96/100\n",
      "417/417 [==============================] - 0s 115us/step - loss: 3.2728 - val_loss: 3.5162\n",
      "Epoch 97/100\n",
      "417/417 [==============================] - 0s 105us/step - loss: 3.2634 - val_loss: 3.5070\n",
      "Epoch 98/100\n",
      "417/417 [==============================] - 0s 106us/step - loss: 3.2645 - val_loss: 3.5064\n",
      "Epoch 99/100\n",
      "417/417 [==============================] - 0s 115us/step - loss: 3.2494 - val_loss: 3.5091\n",
      "Epoch 100/100\n",
      "417/417 [==============================] - 0s 106us/step - loss: 3.2459 - val_loss: 3.5039\n"
     ]
    }
   ],
   "source": [
    "model_1_training = model_1.fit(\n",
    "    X_train_scaled,\n",
    "    y_reg_train,\n",
    "    validation_data=[X_test_scaled,y_reg_test],\n",
    "    epochs=100\n",
    ")"
   ]
  },
  {
   "cell_type": "code",
   "execution_count": null,
   "metadata": {},
   "outputs": [],
   "source": []
  },
  {
   "cell_type": "code",
   "execution_count": 26,
   "metadata": {
    "ExecuteTime": {
     "end_time": "2019-08-02T11:57:07.261395Z",
     "start_time": "2019-08-02T11:57:06.880865Z"
    },
    "scrolled": false
   },
   "outputs": [
    {
     "data": {
      "text/plain": [
       "<matplotlib.legend.Legend at 0x1ee66a47780>"
      ]
     },
     "execution_count": 26,
     "metadata": {},
     "output_type": "execute_result"
    },
    {
     "data": {
      "image/png": "[encoded data removed]",
      "text/plain": [
       "<Figure size 432x288 with 1 Axes>"
      ]
     },
     "metadata": {
      "needs_background": "light"
     },
     "output_type": "display_data"
    }
   ],
   "source": [
    "plt.plot(model_1_training.history['loss'])\n",
    "plt.xlabel('Epochs')\n",
    "plt.ylim([0, 5])\n",
    "plt.title('Total Loss over Epochs')\n",
    "plt.plot(model_1_training.history['val_loss'])\n",
    "plt.legend(['Total Training loss', 'Total Prediction loss'])"
   ]
  },
  {
   "cell_type": "code",
   "execution_count": 27,
   "metadata": {
    "ExecuteTime": {
     "end_time": "2019-08-02T11:57:09.741378Z",
     "start_time": "2019-08-02T11:57:09.377622Z"
    }
   },
   "outputs": [],
   "source": [
    "from sklearn.ensemble import RandomForestRegressor\n",
    "from sklearn.metrics import mean_squared_error"
   ]
  },
  {
   "cell_type": "code",
   "execution_count": 28,
   "metadata": {
    "ExecuteTime": {
     "end_time": "2019-08-02T11:57:10.282970Z",
     "start_time": "2019-08-02T11:57:09.839963Z"
    }
   },
   "outputs": [
    {
     "data": {
      "text/plain": [
       "0.8610017761531782"
      ]
     },
     "execution_count": 28,
     "metadata": {},
     "output_type": "execute_result"
    }
   ],
   "source": [
    "rfr = RandomForestRegressor(n_estimators=100)\n",
    "\n",
    "rfr.fit(X_train, y_reg_train)\n",
    "rfr.score(X_train, y_reg_train)"
   ]
  },
  {
   "cell_type": "code",
   "execution_count": 29,
   "metadata": {
    "ExecuteTime": {
     "end_time": "2019-08-02T11:57:10.576526Z",
     "start_time": "2019-08-02T11:57:10.536523Z"
    }
   },
   "outputs": [],
   "source": [
    "rfr.score(X_test, y_reg_test)\n",
    "pred_y = rfr.predict(X_test)"
   ]
  },
  {
   "cell_type": "code",
   "execution_count": 30,
   "metadata": {
    "ExecuteTime": {
     "end_time": "2019-08-02T11:57:11.140514Z",
     "start_time": "2019-08-02T11:57:11.124521Z"
    }
   },
   "outputs": [
    {
     "data": {
      "text/plain": [
       "13.119264586747995"
      ]
     },
     "execution_count": 30,
     "metadata": {},
     "output_type": "execute_result"
    }
   ],
   "source": [
    "np.sqrt(mean_squared_error(np.exp(y_reg_test), np.exp(pred_y)))"
   ]
  },
  {
   "cell_type": "code",
   "execution_count": 31,
   "metadata": {
    "ExecuteTime": {
     "end_time": "2019-08-02T11:57:15.546620Z",
     "start_time": "2019-08-02T11:57:15.029138Z"
    }
   },
   "outputs": [],
   "source": [
    "input_tensor = Input(shape=(in_cols,))\n",
    "hidden_1 = Dense(8, activation='relu', name='hidden_1')(input_tensor)\n",
    "batch_1 = BatchNormalization()(hidden_1)\n",
    "hidden_2 = Dense(16, activation='relu', name='hidden_2')(batch_1)\n",
    "batch_2 = BatchNormalization()(hidden_2)\n",
    "hidden_3 = Dense(16, activation='relu', name='hidden_3')(batch_2)\n",
    "output_tensor_reg = Dense(1, name='Regression')(hidden_3)\n",
    "\n",
    "output_tensor_class = Dense(out_cols, activation='sigmoid', name='Classification')(output_tensor_reg)"
   ]
  },
  {
   "cell_type": "code",
   "execution_count": 32,
   "metadata": {
    "ExecuteTime": {
     "end_time": "2019-08-02T11:57:18.454315Z",
     "start_time": "2019-08-02T11:57:18.446311Z"
    }
   },
   "outputs": [],
   "source": [
    "model_2 = Model(input_tensor, [output_tensor_reg, output_tensor_class])"
   ]
  },
  {
   "cell_type": "code",
   "execution_count": 33,
   "metadata": {
    "ExecuteTime": {
     "end_time": "2019-08-02T11:57:19.007639Z",
     "start_time": "2019-08-02T11:57:18.847529Z"
    }
   },
   "outputs": [],
   "source": [
    "model_2.compile(loss=['mse', 'categorical_crossentropy'],\n",
    "             optimizer='adam',\n",
    "             metrics=['accuracy'])"
   ]
  },
  {
   "cell_type": "code",
   "execution_count": 34,
   "metadata": {
    "ExecuteTime": {
     "end_time": "2019-08-02T11:57:19.393907Z",
     "start_time": "2019-08-02T11:57:19.377905Z"
    }
   },
   "outputs": [
    {
     "name": "stdout",
     "output_type": "stream",
     "text": [
      "_________________________________________________________________\n",
      "Layer (type)                 Output Shape              Param #   \n",
      "=================================================================\n",
      "input_1 (InputLayer)         (None, 11)                0         \n",
      "_________________________________________________________________\n",
      "hidden_1 (Dense)             (None, 8)                 96        \n",
      "_________________________________________________________________\n",
      "batch_normalization_1 (Batch (None, 8)                 32        \n",
      "_________________________________________________________________\n",
      "hidden_2 (Dense)             (None, 16)                144       \n",
      "_________________________________________________________________\n",
      "batch_normalization_2 (Batch (None, 16)                64        \n",
      "_________________________________________________________________\n",
      "hidden_3 (Dense)             (None, 16)                272       \n",
      "_________________________________________________________________\n",
      "Regression (Dense)           (None, 1)                 17        \n",
      "_________________________________________________________________\n",
      "Classification (Dense)       (None, 3)                 6         \n",
      "=================================================================\n",
      "Total params: 631\n",
      "Trainable params: 583\n",
      "Non-trainable params: 48\n",
      "_________________________________________________________________\n"
     ]
    }
   ],
   "source": [
    "model_2.summary()"
   ]
  },
  {
   "cell_type": "code",
   "execution_count": 35,
   "metadata": {
    "ExecuteTime": {
     "end_time": "2019-08-02T11:57:37.139444Z",
     "start_time": "2019-08-02T11:57:20.195357Z"
    }
   },
   "outputs": [
    {
     "name": "stdout",
     "output_type": "stream",
     "text": [
      "Train on 417 samples, validate on 105 samples\n",
      "Epoch 1/50\n",
      "417/417 [==============================] - 5s 12ms/step - loss: 5.6800 - Regression_loss: 4.5867 - Classification_loss: 1.0933 - Regression_acc: 0.2158 - Classification_acc: 0.3933 - val_loss: 41419.0357 - val_Regression_loss: 41413.0230 - val_Classification_loss: 6.0127 - val_Regression_acc: 0.0000e+00 - val_Classification_acc: 0.3143\n",
      "Epoch 2/50\n",
      "417/417 [==============================] - 2s 5ms/step - loss: 5.6641 - Regression_loss: 4.5800 - Classification_loss: 1.0841 - Regression_acc: 0.2158 - Classification_acc: 0.4197 - val_loss: 41300.3926 - val_Regression_loss: 41294.2741 - val_Classification_loss: 6.1186 - val_Regression_acc: 0.0000e+00 - val_Classification_acc: 0.3048\n",
      "Epoch 3/50\n",
      "417/417 [==============================] - 2s 6ms/step - loss: 5.6522 - Regression_loss: 4.5755 - Classification_loss: 1.0767 - Regression_acc: 0.2158 - Classification_acc: 0.4197 - val_loss: 41654.0478 - val_Regression_loss: 41647.9972 - val_Classification_loss: 6.0506 - val_Regression_acc: 0.0000e+00 - val_Classification_acc: 0.3238\n",
      "Epoch 4/50\n",
      "417/417 [==============================] - 2s 5ms/step - loss: 5.6445 - Regression_loss: 4.5729 - Classification_loss: 1.0716 - Regression_acc: 0.2158 - Classification_acc: 0.4197 - val_loss: 42049.6062 - val_Regression_loss: 42043.4703 - val_Classification_loss: 6.1359 - val_Regression_acc: 0.0000e+00 - val_Classification_acc: 0.3143\n",
      "Epoch 5/50\n",
      "417/417 [==============================] - 2s 4ms/step - loss: 5.6402 - Regression_loss: 4.5713 - Classification_loss: 1.0689 - Regression_acc: 0.2158 - Classification_acc: 0.4197 - val_loss: 41628.2552 - val_Regression_loss: 41622.1864 - val_Classification_loss: 6.0688 - val_Regression_acc: 0.0095 - val_Classification_acc: 0.3143\n"
     ]
    }
   ],
   "source": [
    "model_2_training = model_2.fit(\n",
    "    X_train_scaled,\n",
    "    [y_reg_train, y_class_train],\n",
    "    validation_data=(X_test_scaled, [y_reg_test, y_class_test]),\n",
    "    batch_size=1,\n",
    "    epochs=50,\n",
    "    callbacks=[early_stopping_monitor],\n",
    "    verbose=True)"
   ]
  },
  {
   "cell_type": "code",
   "execution_count": 36,
   "metadata": {
    "ExecuteTime": {
     "end_time": "2019-08-02T11:57:37.751603Z",
     "start_time": "2019-08-02T11:57:37.151461Z"
    }
   },
   "outputs": [],
   "source": [
    "input_tensor = Input(shape=(in_cols,))\n",
    "hidden_1 = Dense(in_cols, activation='relu', name='hidden_1')(input_tensor)\n",
    "batch_1 = BatchNormalization()(hidden_1)\n",
    "hidden_2 = Dense(in_cols, activation='relu', name='hidden_2')(batch_1)\n",
    "output_tensor_reg = Dense(1, name='Regression')(hidden_2)\n",
    "\n",
    "output_tensor_class = Dense(out_cols, activation='sigmoid', name='Classification')(output_tensor_reg)"
   ]
  },
  {
   "cell_type": "code",
   "execution_count": 37,
   "metadata": {
    "ExecuteTime": {
     "end_time": "2019-08-02T11:57:37.774715Z",
     "start_time": "2019-08-02T11:57:37.755458Z"
    }
   },
   "outputs": [],
   "source": [
    "model_3 = Model(input_tensor, [output_tensor_reg, output_tensor_class])"
   ]
  },
  {
   "cell_type": "code",
   "execution_count": 38,
   "metadata": {
    "ExecuteTime": {
     "end_time": "2019-08-02T11:57:38.070696Z",
     "start_time": "2019-08-02T11:57:37.802714Z"
    }
   },
   "outputs": [],
   "source": [
    "model_3.compile(loss=['mse', 'categorical_crossentropy'],\n",
    "             optimizer='adam',\n",
    "             metrics=['accuracy'])"
   ]
  },
  {
   "cell_type": "code",
   "execution_count": 39,
   "metadata": {
    "ExecuteTime": {
     "end_time": "2019-08-02T11:57:38.122708Z",
     "start_time": "2019-08-02T11:57:38.074713Z"
    }
   },
   "outputs": [
    {
     "name": "stdout",
     "output_type": "stream",
     "text": [
      "_________________________________________________________________\n",
      "Layer (type)                 Output Shape              Param #   \n",
      "=================================================================\n",
      "input_2 (InputLayer)         (None, 11)                0         \n",
      "_________________________________________________________________\n",
      "hidden_1 (Dense)             (None, 11)                132       \n",
      "_________________________________________________________________\n",
      "batch_normalization_3 (Batch (None, 11)                44        \n",
      "_________________________________________________________________\n",
      "hidden_2 (Dense)             (None, 11)                132       \n",
      "_________________________________________________________________\n",
      "Regression (Dense)           (None, 1)                 12        \n",
      "_________________________________________________________________\n",
      "Classification (Dense)       (None, 3)                 6         \n",
      "=================================================================\n",
      "Total params: 326\n",
      "Trainable params: 304\n",
      "Non-trainable params: 22\n",
      "_________________________________________________________________\n"
     ]
    }
   ],
   "source": [
    "model_3.summary()"
   ]
  },
  {
   "cell_type": "code",
   "execution_count": 40,
   "metadata": {
    "ExecuteTime": {
     "end_time": "2019-08-02T12:00:26.571683Z",
     "start_time": "2019-08-02T11:57:46.262718Z"
    },
    "scrolled": true
   },
   "outputs": [
    {
     "name": "stdout",
     "output_type": "stream",
     "text": [
      "Train on 417 samples, validate on 105 samples\n",
      "Epoch 1/100\n",
      "417/417 [==============================] - 3s 8ms/step - loss: 5.6818 - Regression_loss: 4.5877 - Classification_loss: 1.0941 - Regression_acc: 0.2158 - Classification_acc: 0.3717 - val_loss: 482.2347 - val_Regression_loss: 476.8687 - val_Classification_loss: 5.3659 - val_Regression_acc: 0.0476 - val_Classification_acc: 0.3810\n",
      "Epoch 2/100\n",
      "417/417 [==============================] - 2s 4ms/step - loss: 5.6664 - Regression_loss: 4.5812 - Classification_loss: 1.0853 - Regression_acc: 0.2158 - Classification_acc: 0.3645 - val_loss: 488.2465 - val_Regression_loss: 483.0270 - val_Classification_loss: 5.2195 - val_Regression_acc: 0.0381 - val_Classification_acc: 0.3905\n",
      "Epoch 3/100\n",
      "417/417 [==============================] - 2s 5ms/step - loss: 5.6553 - Regression_loss: 4.5763 - Classification_loss: 1.0790 - Regression_acc: 0.2158 - Classification_acc: 0.3429 - val_loss: 427.8808 - val_Regression_loss: 422.9384 - val_Classification_loss: 4.9424 - val_Regression_acc: 0.0000e+00 - val_Classification_acc: 0.3810\n",
      "Epoch 4/100\n",
      "417/417 [==============================] - 2s 5ms/step - loss: 5.6478 - Regression_loss: 4.5735 - Classification_loss: 1.0743 - Regression_acc: 0.2158 - Classification_acc: 0.4125 - val_loss: 459.4800 - val_Regression_loss: 454.6178 - val_Classification_loss: 4.8622 - val_Regression_acc: 0.0095 - val_Classification_acc: 0.3810\n",
      "Epoch 5/100\n",
      "417/417 [==============================] - 1s 3ms/step - loss: 5.6444 - Regression_loss: 4.5740 - Classification_loss: 1.0704 - Regression_acc: 0.2158 - Classification_acc: 0.4197 - val_loss: 544.2119 - val_Regression_loss: 539.4134 - val_Classification_loss: 4.7985 - val_Regression_acc: 0.0286 - val_Classification_acc: 0.3619\n",
      "Epoch 6/100\n",
      "417/417 [==============================] - 1s 3ms/step - loss: 5.6401 - Regression_loss: 4.5712 - Classification_loss: 1.0689 - Regression_acc: 0.2158 - Classification_acc: 0.4197 - val_loss: 506.9783 - val_Regression_loss: 502.3862 - val_Classification_loss: 4.5921 - val_Regression_acc: 0.0667 - val_Classification_acc: 0.3714\n",
      "Epoch 7/100\n",
      "417/417 [==============================] - 2s 5ms/step - loss: 5.6375 - Regression_loss: 4.5706 - Classification_loss: 1.0669 - Regression_acc: 0.2158 - Classification_acc: 0.4197 - val_loss: 475.4067 - val_Regression_loss: 471.0389 - val_Classification_loss: 4.3679 - val_Regression_acc: 0.0571 - val_Classification_acc: 0.3714\n",
      "Epoch 8/100\n",
      "417/417 [==============================] - 2s 5ms/step - loss: 5.6361 - Regression_loss: 4.5702 - Classification_loss: 1.0659 - Regression_acc: 0.2158 - Classification_acc: 0.4197 - val_loss: 477.1626 - val_Regression_loss: 472.8763 - val_Classification_loss: 4.2863 - val_Regression_acc: 0.0571 - val_Classification_acc: 0.3714\n",
      "Epoch 9/100\n",
      "417/417 [==============================] - 2s 5ms/step - loss: 5.6356 - Regression_loss: 4.5705 - Classification_loss: 1.0651 - Regression_acc: 0.2158 - Classification_acc: 0.4197 - val_loss: 506.7077 - val_Regression_loss: 502.5072 - val_Classification_loss: 4.2006 - val_Regression_acc: 0.0381 - val_Classification_acc: 0.3619\n",
      "Epoch 10/100\n",
      "417/417 [==============================] - 1s 3ms/step - loss: 5.6345 - Regression_loss: 4.5698 - Classification_loss: 1.0648 - Regression_acc: 0.2158 - Classification_acc: 0.4197 - val_loss: 450.2407 - val_Regression_loss: 446.2533 - val_Classification_loss: 3.9873 - val_Regression_acc: 0.0095 - val_Classification_acc: 0.3714\n",
      "Epoch 11/100\n",
      "417/417 [==============================] - 1s 3ms/step - loss: 5.6343 - Regression_loss: 4.5700 - Classification_loss: 1.0643 - Regression_acc: 0.2158 - Classification_acc: 0.4197 - val_loss: 518.0324 - val_Regression_loss: 513.9977 - val_Classification_loss: 4.0347 - val_Regression_acc: 0.0476 - val_Classification_acc: 0.3619\n",
      "Epoch 12/100\n",
      "417/417 [==============================] - 1s 3ms/step - loss: 5.6341 - Regression_loss: 4.5697 - Classification_loss: 1.0643 - Regression_acc: 0.2158 - Classification_acc: 0.4197 - val_loss: 522.1807 - val_Regression_loss: 518.2516 - val_Classification_loss: 3.9291 - val_Regression_acc: 0.0381 - val_Classification_acc: 0.3714\n",
      "Epoch 13/100\n",
      "417/417 [==============================] - 2s 4ms/step - loss: 5.6335 - Regression_loss: 4.5696 - Classification_loss: 1.0639 - Regression_acc: 0.2158 - Classification_acc: 0.4197 - val_loss: 440.7352 - val_Regression_loss: 436.9657 - val_Classification_loss: 3.7696 - val_Regression_acc: 0.0381 - val_Classification_acc: 0.3619\n",
      "Epoch 14/100\n",
      "417/417 [==============================] - 2s 4ms/step - loss: 5.6340 - Regression_loss: 4.5702 - Classification_loss: 1.0638 - Regression_acc: 0.2158 - Classification_acc: 0.4197 - val_loss: 543.0269 - val_Regression_loss: 539.0837 - val_Classification_loss: 3.9432 - val_Regression_acc: 0.0381 - val_Classification_acc: 0.3524\n",
      "Epoch 15/100\n",
      "417/417 [==============================] - 2s 5ms/step - loss: 5.6337 - Regression_loss: 4.5701 - Classification_loss: 1.0636 - Regression_acc: 0.2158 - Classification_acc: 0.4197 - val_loss: 495.6433 - val_Regression_loss: 491.9002 - val_Classification_loss: 3.7431 - val_Regression_acc: 0.0286 - val_Classification_acc: 0.3905\n",
      "Epoch 16/100\n",
      "417/417 [==============================] - 2s 5ms/step - loss: 5.6334 - Regression_loss: 4.5693 - Classification_loss: 1.0641 - Regression_acc: 0.2158 - Classification_acc: 0.4197 - val_loss: 491.1853 - val_Regression_loss: 487.4578 - val_Classification_loss: 3.7276 - val_Regression_acc: 0.0762 - val_Classification_acc: 0.3714\n",
      "Epoch 17/100\n",
      "417/417 [==============================] - 1s 3ms/step - loss: 5.6334 - Regression_loss: 4.5697 - Classification_loss: 1.0637 - Regression_acc: 0.2158 - Classification_acc: 0.4197 - val_loss: 516.3718 - val_Regression_loss: 512.6711 - val_Classification_loss: 3.7007 - val_Regression_acc: 0.0476 - val_Classification_acc: 0.3619\n",
      "Epoch 18/100\n",
      "417/417 [==============================] - 2s 4ms/step - loss: 5.6331 - Regression_loss: 4.5695 - Classification_loss: 1.0636 - Regression_acc: 0.2158 - Classification_acc: 0.4197 - val_loss: 519.5437 - val_Regression_loss: 515.8303 - val_Classification_loss: 3.7134 - val_Regression_acc: 0.0667 - val_Classification_acc: 0.3810\n",
      "Epoch 19/100\n",
      "417/417 [==============================] - 2s 4ms/step - loss: 5.6329 - Regression_loss: 4.5693 - Classification_loss: 1.0636 - Regression_acc: 0.2158 - Classification_acc: 0.4197 - val_loss: 432.0286 - val_Regression_loss: 428.4991 - val_Classification_loss: 3.5295 - val_Regression_acc: 0.0571 - val_Classification_acc: 0.3619\n",
      "Epoch 20/100\n",
      "417/417 [==============================] - 2s 4ms/step - loss: 5.6331 - Regression_loss: 4.5695 - Classification_loss: 1.0636 - Regression_acc: 0.2158 - Classification_acc: 0.4197 - val_loss: 468.6480 - val_Regression_loss: 465.0744 - val_Classification_loss: 3.5736 - val_Regression_acc: 0.0667 - val_Classification_acc: 0.3714\n",
      "Epoch 21/100\n",
      "417/417 [==============================] - 2s 5ms/step - loss: 5.6331 - Regression_loss: 4.5696 - Classification_loss: 1.0635 - Regression_acc: 0.2158 - Classification_acc: 0.4197 - val_loss: 498.6792 - val_Regression_loss: 495.0826 - val_Classification_loss: 3.5966 - val_Regression_acc: 0.0190 - val_Classification_acc: 0.3714\n",
      "Epoch 22/100\n",
      "417/417 [==============================] - 2s 4ms/step - loss: 5.6329 - Regression_loss: 4.5694 - Classification_loss: 1.0634 - Regression_acc: 0.2158 - Classification_acc: 0.4197 - val_loss: 515.6920 - val_Regression_loss: 512.0759 - val_Classification_loss: 3.6161 - val_Regression_acc: 0.0286 - val_Classification_acc: 0.3619\n",
      "Epoch 23/100\n",
      "417/417 [==============================] - 1s 3ms/step - loss: 5.6333 - Regression_loss: 4.5697 - Classification_loss: 1.0635 - Regression_acc: 0.2158 - Classification_acc: 0.4197 - val_loss: 499.3182 - val_Regression_loss: 495.7345 - val_Classification_loss: 3.5837 - val_Regression_acc: 0.0286 - val_Classification_acc: 0.3619\n",
      "Epoch 24/100\n",
      "417/417 [==============================] - 1s 3ms/step - loss: 5.6331 - Regression_loss: 4.5698 - Classification_loss: 1.0633 - Regression_acc: 0.2158 - Classification_acc: 0.4197 - val_loss: 513.0157 - val_Regression_loss: 509.4181 - val_Classification_loss: 3.5976 - val_Regression_acc: 0.0190 - val_Classification_acc: 0.3810\n"
     ]
    },
    {
     "name": "stdout",
     "output_type": "stream",
     "text": [
      "Epoch 25/100\n",
      "417/417 [==============================] - 1s 3ms/step - loss: 5.6330 - Regression_loss: 4.5695 - Classification_loss: 1.0635 - Regression_acc: 0.2158 - Classification_acc: 0.4197 - val_loss: 517.6273 - val_Regression_loss: 514.0498 - val_Classification_loss: 3.5776 - val_Regression_acc: 0.0476 - val_Classification_acc: 0.3810\n",
      "Epoch 26/100\n",
      "417/417 [==============================] - 1s 3ms/step - loss: 5.6329 - Regression_loss: 4.5694 - Classification_loss: 1.0635 - Regression_acc: 0.2158 - Classification_acc: 0.4197 - val_loss: 506.8267 - val_Regression_loss: 503.3082 - val_Classification_loss: 3.5185 - val_Regression_acc: 0.0476 - val_Classification_acc: 0.3810\n",
      "Epoch 27/100\n",
      "417/417 [==============================] - 1s 3ms/step - loss: 5.6335 - Regression_loss: 4.5699 - Classification_loss: 1.0636 - Regression_acc: 0.2158 - Classification_acc: 0.4197 - val_loss: 482.8762 - val_Regression_loss: 479.3902 - val_Classification_loss: 3.4859 - val_Regression_acc: 0.0381 - val_Classification_acc: 0.3619\n",
      "Epoch 28/100\n",
      "417/417 [==============================] - 2s 4ms/step - loss: 5.6332 - Regression_loss: 4.5698 - Classification_loss: 1.0634 - Regression_acc: 0.2158 - Classification_acc: 0.4197 - val_loss: 485.1139 - val_Regression_loss: 481.6533 - val_Classification_loss: 3.4606 - val_Regression_acc: 0.0476 - val_Classification_acc: 0.3714\n",
      "Epoch 29/100\n",
      "417/417 [==============================] - 1s 3ms/step - loss: 5.6332 - Regression_loss: 4.5696 - Classification_loss: 1.0635 - Regression_acc: 0.2158 - Classification_acc: 0.4197 - val_loss: 449.3553 - val_Regression_loss: 445.9367 - val_Classification_loss: 3.4185 - val_Regression_acc: 0.0190 - val_Classification_acc: 0.3714\n",
      "Epoch 30/100\n",
      "417/417 [==============================] - 2s 4ms/step - loss: 5.6334 - Regression_loss: 4.5700 - Classification_loss: 1.0634 - Regression_acc: 0.2158 - Classification_acc: 0.4197 - val_loss: 499.3111 - val_Regression_loss: 495.7612 - val_Classification_loss: 3.5498 - val_Regression_acc: 0.0476 - val_Classification_acc: 0.3714\n",
      "Epoch 31/100\n",
      "417/417 [==============================] - 1s 3ms/step - loss: 5.6332 - Regression_loss: 4.5695 - Classification_loss: 1.0636 - Regression_acc: 0.2158 - Classification_acc: 0.4197 - val_loss: 499.6765 - val_Regression_loss: 496.1320 - val_Classification_loss: 3.5445 - val_Regression_acc: 0.0381 - val_Classification_acc: 0.3619\n",
      "Epoch 32/100\n",
      "417/417 [==============================] - 1s 3ms/step - loss: 5.6338 - Regression_loss: 4.5703 - Classification_loss: 1.0636 - Regression_acc: 0.2158 - Classification_acc: 0.4197 - val_loss: 507.3585 - val_Regression_loss: 503.8101 - val_Classification_loss: 3.5484 - val_Regression_acc: 0.0286 - val_Classification_acc: 0.3714\n",
      "Epoch 33/100\n",
      "417/417 [==============================] - 1s 3ms/step - loss: 5.6330 - Regression_loss: 4.5696 - Classification_loss: 1.0634 - Regression_acc: 0.2158 - Classification_acc: 0.4197 - val_loss: 473.3506 - val_Regression_loss: 469.7695 - val_Classification_loss: 3.5812 - val_Regression_acc: 0.0381 - val_Classification_acc: 0.3714\n",
      "Epoch 34/100\n",
      "417/417 [==============================] - 1s 3ms/step - loss: 5.6338 - Regression_loss: 4.5704 - Classification_loss: 1.0635 - Regression_acc: 0.2158 - Classification_acc: 0.4197 - val_loss: 482.3704 - val_Regression_loss: 478.8478 - val_Classification_loss: 3.5226 - val_Regression_acc: 0.0762 - val_Classification_acc: 0.3810\n",
      "Epoch 35/100\n",
      "417/417 [==============================] - 1s 3ms/step - loss: 5.6332 - Regression_loss: 4.5698 - Classification_loss: 1.0633 - Regression_acc: 0.2158 - Classification_acc: 0.4197 - val_loss: 527.9582 - val_Regression_loss: 524.3545 - val_Classification_loss: 3.6037 - val_Regression_acc: 0.0286 - val_Classification_acc: 0.3619\n",
      "Epoch 36/100\n",
      "417/417 [==============================] - 2s 4ms/step - loss: 5.6335 - Regression_loss: 4.5701 - Classification_loss: 1.0634 - Regression_acc: 0.2158 - Classification_acc: 0.4197 - val_loss: 557.1574 - val_Regression_loss: 553.5147 - val_Classification_loss: 3.6426 - val_Regression_acc: 0.0286 - val_Classification_acc: 0.3619\n",
      "Epoch 37/100\n",
      "417/417 [==============================] - 1s 3ms/step - loss: 5.6339 - Regression_loss: 4.5705 - Classification_loss: 1.0633 - Regression_acc: 0.2158 - Classification_acc: 0.4197 - val_loss: 526.3405 - val_Regression_loss: 522.7825 - val_Classification_loss: 3.5581 - val_Regression_acc: 0.0190 - val_Classification_acc: 0.3905\n",
      "Epoch 38/100\n",
      "417/417 [==============================] - 2s 4ms/step - loss: 5.6327 - Regression_loss: 4.5693 - Classification_loss: 1.0634 - Regression_acc: 0.2158 - Classification_acc: 0.4197 - val_loss: 483.4796 - val_Regression_loss: 479.9375 - val_Classification_loss: 3.5421 - val_Regression_acc: 0.0286 - val_Classification_acc: 0.3619\n",
      "Epoch 39/100\n",
      "417/417 [==============================] - 1s 3ms/step - loss: 5.6333 - Regression_loss: 4.5699 - Classification_loss: 1.0634 - Regression_acc: 0.2158 - Classification_acc: 0.4197 - val_loss: 504.5611 - val_Regression_loss: 500.9692 - val_Classification_loss: 3.5920 - val_Regression_acc: 0.0476 - val_Classification_acc: 0.3524\n",
      "Epoch 40/100\n",
      "417/417 [==============================] - 1s 3ms/step - loss: 5.6333 - Regression_loss: 4.5698 - Classification_loss: 1.0635 - Regression_acc: 0.2158 - Classification_acc: 0.4197 - val_loss: 475.4133 - val_Regression_loss: 471.9191 - val_Classification_loss: 3.4942 - val_Regression_acc: 0.0381 - val_Classification_acc: 0.3810\n",
      "Epoch 41/100\n",
      "417/417 [==============================] - 1s 3ms/step - loss: 5.6332 - Regression_loss: 4.5698 - Classification_loss: 1.0634 - Regression_acc: 0.2158 - Classification_acc: 0.4197 - val_loss: 462.8574 - val_Regression_loss: 459.3366 - val_Classification_loss: 3.5208 - val_Regression_acc: 0.0571 - val_Classification_acc: 0.3714\n",
      "Epoch 42/100\n",
      "417/417 [==============================] - 1s 3ms/step - loss: 5.6326 - Regression_loss: 4.5693 - Classification_loss: 1.0633 - Regression_acc: 0.2158 - Classification_acc: 0.4197 - val_loss: 509.7507 - val_Regression_loss: 506.2162 - val_Classification_loss: 3.5345 - val_Regression_acc: 0.0571 - val_Classification_acc: 0.3810\n",
      "Epoch 43/100\n",
      "417/417 [==============================] - 1s 2ms/step - loss: 5.6327 - Regression_loss: 4.5693 - Classification_loss: 1.0634 - Regression_acc: 0.2158 - Classification_acc: 0.4197 - val_loss: 417.1852 - val_Regression_loss: 413.6971 - val_Classification_loss: 3.4880 - val_Regression_acc: 0.0000e+00 - val_Classification_acc: 0.3810\n",
      "Epoch 44/100\n",
      "417/417 [==============================] - 1s 3ms/step - loss: 5.6329 - Regression_loss: 4.5696 - Classification_loss: 1.0633 - Regression_acc: 0.2158 - Classification_acc: 0.4197 - val_loss: 502.6494 - val_Regression_loss: 499.0949 - val_Classification_loss: 3.5544 - val_Regression_acc: 0.0190 - val_Classification_acc: 0.3905\n",
      "Epoch 45/100\n",
      "417/417 [==============================] - 2s 4ms/step - loss: 5.6327 - Regression_loss: 4.5693 - Classification_loss: 1.0634 - Regression_acc: 0.2158 - Classification_acc: 0.4197 - val_loss: 494.7959 - val_Regression_loss: 491.1893 - val_Classification_loss: 3.6066 - val_Regression_acc: 0.0286 - val_Classification_acc: 0.3619\n",
      "Epoch 46/100\n",
      "417/417 [==============================] - 2s 4ms/step - loss: 5.6333 - Regression_loss: 4.5697 - Classification_loss: 1.0636 - Regression_acc: 0.2158 - Classification_acc: 0.4197 - val_loss: 489.7504 - val_Regression_loss: 486.1713 - val_Classification_loss: 3.5791 - val_Regression_acc: 0.0571 - val_Classification_acc: 0.3619\n",
      "Epoch 47/100\n",
      "417/417 [==============================] - 2s 4ms/step - loss: 5.6330 - Regression_loss: 4.5696 - Classification_loss: 1.0634 - Regression_acc: 0.2158 - Classification_acc: 0.4197 - val_loss: 454.3171 - val_Regression_loss: 450.8267 - val_Classification_loss: 3.4904 - val_Regression_acc: 0.0571 - val_Classification_acc: 0.3619\n",
      "Epoch 48/100\n",
      "417/417 [==============================] - 1s 3ms/step - loss: 5.6329 - Regression_loss: 4.5694 - Classification_loss: 1.0636 - Regression_acc: 0.2158 - Classification_acc: 0.4197 - val_loss: 512.6589 - val_Regression_loss: 509.0694 - val_Classification_loss: 3.5895 - val_Regression_acc: 0.0381 - val_Classification_acc: 0.3714\n"
     ]
    },
    {
     "name": "stdout",
     "output_type": "stream",
     "text": [
      "Epoch 49/100\n",
      "417/417 [==============================] - 1s 2ms/step - loss: 5.6333 - Regression_loss: 4.5699 - Classification_loss: 1.0634 - Regression_acc: 0.2158 - Classification_acc: 0.4197 - val_loss: 511.1484 - val_Regression_loss: 507.5628 - val_Classification_loss: 3.5856 - val_Regression_acc: 0.0571 - val_Classification_acc: 0.3810\n",
      "Epoch 50/100\n",
      "417/417 [==============================] - 1s 3ms/step - loss: 5.6331 - Regression_loss: 4.5696 - Classification_loss: 1.0635 - Regression_acc: 0.2158 - Classification_acc: 0.4197 - val_loss: 544.4534 - val_Regression_loss: 540.7885 - val_Classification_loss: 3.6649 - val_Regression_acc: 0.0286 - val_Classification_acc: 0.3619\n",
      "Epoch 51/100\n",
      "417/417 [==============================] - 1s 3ms/step - loss: 5.6343 - Regression_loss: 4.5707 - Classification_loss: 1.0636 - Regression_acc: 0.2158 - Classification_acc: 0.4197 - val_loss: 547.4711 - val_Regression_loss: 543.7877 - val_Classification_loss: 3.6835 - val_Regression_acc: 0.0286 - val_Classification_acc: 0.3714\n",
      "Epoch 52/100\n",
      "417/417 [==============================] - 1s 3ms/step - loss: 5.6331 - Regression_loss: 4.5695 - Classification_loss: 1.0636 - Regression_acc: 0.2158 - Classification_acc: 0.4197 - val_loss: 543.0894 - val_Regression_loss: 539.3825 - val_Classification_loss: 3.7069 - val_Regression_acc: 0.0286 - val_Classification_acc: 0.3619\n",
      "Epoch 53/100\n",
      "417/417 [==============================] - 1s 3ms/step - loss: 5.6330 - Regression_loss: 4.5694 - Classification_loss: 1.0636 - Regression_acc: 0.2158 - Classification_acc: 0.4197 - val_loss: 541.3925 - val_Regression_loss: 537.7115 - val_Classification_loss: 3.6810 - val_Regression_acc: 0.0286 - val_Classification_acc: 0.3714\n",
      "Epoch 54/100\n",
      "417/417 [==============================] - 1s 3ms/step - loss: 5.6343 - Regression_loss: 4.5708 - Classification_loss: 1.0635 - Regression_acc: 0.2158 - Classification_acc: 0.4197 - val_loss: 536.1887 - val_Regression_loss: 532.4743 - val_Classification_loss: 3.7144 - val_Regression_acc: 0.0762 - val_Classification_acc: 0.3714\n",
      "Epoch 55/100\n",
      "417/417 [==============================] - 2s 4ms/step - loss: 5.6334 - Regression_loss: 4.5700 - Classification_loss: 1.0634 - Regression_acc: 0.2158 - Classification_acc: 0.4197 - val_loss: 548.3336 - val_Regression_loss: 544.5825 - val_Classification_loss: 3.7511 - val_Regression_acc: 0.0286 - val_Classification_acc: 0.3524\n",
      "Epoch 56/100\n",
      "417/417 [==============================] - 2s 4ms/step - loss: 5.6340 - Regression_loss: 4.5703 - Classification_loss: 1.0637 - Regression_acc: 0.2158 - Classification_acc: 0.4197 - val_loss: 478.7563 - val_Regression_loss: 475.1598 - val_Classification_loss: 3.5965 - val_Regression_acc: 0.0381 - val_Classification_acc: 0.3714\n",
      "Epoch 57/100\n",
      "417/417 [==============================] - 1s 3ms/step - loss: 5.6332 - Regression_loss: 4.5695 - Classification_loss: 1.0637 - Regression_acc: 0.2158 - Classification_acc: 0.4197 - val_loss: 422.7354 - val_Regression_loss: 419.2035 - val_Classification_loss: 3.5319 - val_Regression_acc: 0.0381 - val_Classification_acc: 0.3619\n",
      "Epoch 58/100\n",
      "417/417 [==============================] - 1s 3ms/step - loss: 5.6328 - Regression_loss: 4.5693 - Classification_loss: 1.0635 - Regression_acc: 0.2158 - Classification_acc: 0.4197 - val_loss: 505.3709 - val_Regression_loss: 501.6773 - val_Classification_loss: 3.6935 - val_Regression_acc: 0.0286 - val_Classification_acc: 0.3619\n",
      "Epoch 59/100\n",
      "417/417 [==============================] - 1s 3ms/step - loss: 5.6328 - Regression_loss: 4.5696 - Classification_loss: 1.0632 - Regression_acc: 0.2158 - Classification_acc: 0.4197 - val_loss: 488.0036 - val_Regression_loss: 484.3571 - val_Classification_loss: 3.6465 - val_Regression_acc: 0.0381 - val_Classification_acc: 0.3714\n",
      "Epoch 60/100\n",
      "417/417 [==============================] - 1s 3ms/step - loss: 5.6332 - Regression_loss: 4.5698 - Classification_loss: 1.0635 - Regression_acc: 0.2158 - Classification_acc: 0.4197 - val_loss: 506.3162 - val_Regression_loss: 502.5649 - val_Classification_loss: 3.7514 - val_Regression_acc: 0.0381 - val_Classification_acc: 0.3619\n",
      "Epoch 61/100\n",
      "417/417 [==============================] - 2s 4ms/step - loss: 5.6329 - Regression_loss: 4.5696 - Classification_loss: 1.0633 - Regression_acc: 0.2158 - Classification_acc: 0.4197 - val_loss: 433.7380 - val_Regression_loss: 430.1550 - val_Classification_loss: 3.5830 - val_Regression_acc: 0.0381 - val_Classification_acc: 0.3714\n",
      "Epoch 62/100\n",
      "417/417 [==============================] - 1s 3ms/step - loss: 5.6339 - Regression_loss: 4.5704 - Classification_loss: 1.0635 - Regression_acc: 0.2158 - Classification_acc: 0.4197 - val_loss: 518.5021 - val_Regression_loss: 514.8059 - val_Classification_loss: 3.6962 - val_Regression_acc: 0.0286 - val_Classification_acc: 0.3619\n",
      "Epoch 63/100\n",
      "417/417 [==============================] - 1s 3ms/step - loss: 5.6324 - Regression_loss: 4.5690 - Classification_loss: 1.0635 - Regression_acc: 0.2158 - Classification_acc: 0.4197 - val_loss: 477.1532 - val_Regression_loss: 473.4847 - val_Classification_loss: 3.6684 - val_Regression_acc: 0.0571 - val_Classification_acc: 0.3714\n",
      "Epoch 64/100\n",
      "417/417 [==============================] - 1s 3ms/step - loss: 5.6326 - Regression_loss: 4.5692 - Classification_loss: 1.0635 - Regression_acc: 0.2158 - Classification_acc: 0.4197 - val_loss: 493.4585 - val_Regression_loss: 489.7523 - val_Classification_loss: 3.7062 - val_Regression_acc: 0.0571 - val_Classification_acc: 0.3619\n",
      "Epoch 65/100\n",
      "417/417 [==============================] - 3s 6ms/step - loss: 5.6330 - Regression_loss: 4.5695 - Classification_loss: 1.0634 - Regression_acc: 0.2158 - Classification_acc: 0.4197 - val_loss: 470.2509 - val_Regression_loss: 466.5876 - val_Classification_loss: 3.6632 - val_Regression_acc: 0.0476 - val_Classification_acc: 0.3714\n",
      "Epoch 66/100\n",
      "417/417 [==============================] - 2s 4ms/step - loss: 5.6337 - Regression_loss: 4.5702 - Classification_loss: 1.0635 - Regression_acc: 0.2158 - Classification_acc: 0.4197 - val_loss: 532.8947 - val_Regression_loss: 529.1548 - val_Classification_loss: 3.7399 - val_Regression_acc: 0.0381 - val_Classification_acc: 0.3619\n",
      "Epoch 67/100\n",
      "417/417 [==============================] - 2s 5ms/step - loss: 5.6336 - Regression_loss: 4.5703 - Classification_loss: 1.0633 - Regression_acc: 0.2158 - Classification_acc: 0.4197 - val_loss: 467.9825 - val_Regression_loss: 464.3409 - val_Classification_loss: 3.6416 - val_Regression_acc: 0.0762 - val_Classification_acc: 0.3714\n",
      "Epoch 68/100\n",
      "417/417 [==============================] - 2s 5ms/step - loss: 5.6338 - Regression_loss: 4.5702 - Classification_loss: 1.0636 - Regression_acc: 0.2158 - Classification_acc: 0.4197 - val_loss: 471.9387 - val_Regression_loss: 468.2433 - val_Classification_loss: 3.6954 - val_Regression_acc: 0.0286 - val_Classification_acc: 0.3905\n",
      "Epoch 69/100\n",
      "417/417 [==============================] - 2s 5ms/step - loss: 5.6330 - Regression_loss: 4.5694 - Classification_loss: 1.0635 - Regression_acc: 0.2158 - Classification_acc: 0.4197 - val_loss: 537.5561 - val_Regression_loss: 533.7448 - val_Classification_loss: 3.8113 - val_Regression_acc: 0.0286 - val_Classification_acc: 0.3619\n",
      "Epoch 70/100\n",
      "417/417 [==============================] - 2s 4ms/step - loss: 5.6335 - Regression_loss: 4.5698 - Classification_loss: 1.0637 - Regression_acc: 0.2158 - Classification_acc: 0.4197 - val_loss: 530.8878 - val_Regression_loss: 527.1578 - val_Classification_loss: 3.7300 - val_Regression_acc: 0.0381 - val_Classification_acc: 0.3810\n",
      "Epoch 71/100\n",
      "417/417 [==============================] - 2s 4ms/step - loss: 5.6336 - Regression_loss: 4.5700 - Classification_loss: 1.0637 - Regression_acc: 0.2158 - Classification_acc: 0.4197 - val_loss: 488.8105 - val_Regression_loss: 485.1606 - val_Classification_loss: 3.6498 - val_Regression_acc: 0.0476 - val_Classification_acc: 0.3810\n",
      "Epoch 72/100\n",
      "417/417 [==============================] - 2s 4ms/step - loss: 5.6332 - Regression_loss: 4.5697 - Classification_loss: 1.0634 - Regression_acc: 0.2158 - Classification_acc: 0.4197 - val_loss: 505.8250 - val_Regression_loss: 502.1204 - val_Classification_loss: 3.7046 - val_Regression_acc: 0.0381 - val_Classification_acc: 0.3810\n"
     ]
    },
    {
     "name": "stdout",
     "output_type": "stream",
     "text": [
      "Epoch 73/100\n",
      "417/417 [==============================] - 2s 5ms/step - loss: 5.6337 - Regression_loss: 4.5704 - Classification_loss: 1.0632 - Regression_acc: 0.2158 - Classification_acc: 0.4197 - val_loss: 461.8184 - val_Regression_loss: 458.1636 - val_Classification_loss: 3.6548 - val_Regression_acc: 0.0667 - val_Classification_acc: 0.3714\n",
      "Epoch 74/100\n",
      "417/417 [==============================] - 2s 5ms/step - loss: 5.6330 - Regression_loss: 4.5696 - Classification_loss: 1.0634 - Regression_acc: 0.2158 - Classification_acc: 0.4197 - val_loss: 501.8462 - val_Regression_loss: 498.1460 - val_Classification_loss: 3.7002 - val_Regression_acc: 0.0286 - val_Classification_acc: 0.3619\n",
      "Epoch 75/100\n",
      "417/417 [==============================] - 2s 5ms/step - loss: 5.6325 - Regression_loss: 4.5691 - Classification_loss: 1.0634 - Regression_acc: 0.2158 - Classification_acc: 0.4197 - val_loss: 434.8147 - val_Regression_loss: 431.1772 - val_Classification_loss: 3.6375 - val_Regression_acc: 0.0095 - val_Classification_acc: 0.3714\n",
      "Epoch 76/100\n",
      "417/417 [==============================] - 2s 5ms/step - loss: 5.6336 - Regression_loss: 4.5699 - Classification_loss: 1.0637 - Regression_acc: 0.2158 - Classification_acc: 0.4197 - val_loss: 498.0469 - val_Regression_loss: 494.2506 - val_Classification_loss: 3.7963 - val_Regression_acc: 0.0381 - val_Classification_acc: 0.3619\n",
      "Epoch 77/100\n",
      "417/417 [==============================] - 2s 5ms/step - loss: 5.6335 - Regression_loss: 4.5699 - Classification_loss: 1.0636 - Regression_acc: 0.2158 - Classification_acc: 0.4197 - val_loss: 464.3088 - val_Regression_loss: 460.6266 - val_Classification_loss: 3.6822 - val_Regression_acc: 0.0476 - val_Classification_acc: 0.3619\n",
      "Epoch 78/100\n",
      "417/417 [==============================] - 2s 4ms/step - loss: 5.6335 - Regression_loss: 4.5701 - Classification_loss: 1.0633 - Regression_acc: 0.2158 - Classification_acc: 0.4197 - val_loss: 509.0111 - val_Regression_loss: 505.2637 - val_Classification_loss: 3.7474 - val_Regression_acc: 0.0190 - val_Classification_acc: 0.3810\n",
      "Epoch 79/100\n",
      "417/417 [==============================] - 2s 5ms/step - loss: 5.6331 - Regression_loss: 4.5697 - Classification_loss: 1.0634 - Regression_acc: 0.2158 - Classification_acc: 0.4197 - val_loss: 475.7690 - val_Regression_loss: 472.0393 - val_Classification_loss: 3.7296 - val_Regression_acc: 0.0667 - val_Classification_acc: 0.3714\n",
      "Epoch 80/100\n",
      "417/417 [==============================] - 2s 5ms/step - loss: 5.6332 - Regression_loss: 4.5698 - Classification_loss: 1.0634 - Regression_acc: 0.2158 - Classification_acc: 0.4197 - val_loss: 525.4303 - val_Regression_loss: 521.6666 - val_Classification_loss: 3.7637 - val_Regression_acc: 0.0476 - val_Classification_acc: 0.3714\n",
      "Epoch 81/100\n",
      "417/417 [==============================] - 2s 5ms/step - loss: 5.6329 - Regression_loss: 4.5695 - Classification_loss: 1.0634 - Regression_acc: 0.2158 - Classification_acc: 0.4197 - val_loss: 510.2466 - val_Regression_loss: 506.4757 - val_Classification_loss: 3.7710 - val_Regression_acc: 0.0476 - val_Classification_acc: 0.3619\n",
      "Epoch 82/100\n",
      "417/417 [==============================] - 2s 5ms/step - loss: 5.6331 - Regression_loss: 4.5696 - Classification_loss: 1.0635 - Regression_acc: 0.2158 - Classification_acc: 0.4197 - val_loss: 595.5424 - val_Regression_loss: 591.6412 - val_Classification_loss: 3.9012 - val_Regression_acc: 0.0095 - val_Classification_acc: 0.3714\n",
      "Epoch 83/100\n",
      "417/417 [==============================] - 2s 5ms/step - loss: 5.6329 - Regression_loss: 4.5694 - Classification_loss: 1.0635 - Regression_acc: 0.2158 - Classification_acc: 0.4197 - val_loss: 501.1728 - val_Regression_loss: 497.4431 - val_Classification_loss: 3.7298 - val_Regression_acc: 0.0286 - val_Classification_acc: 0.3714\n",
      "Epoch 84/100\n",
      "417/417 [==============================] - 2s 4ms/step - loss: 5.6338 - Regression_loss: 4.5704 - Classification_loss: 1.0634 - Regression_acc: 0.2158 - Classification_acc: 0.4197 - val_loss: 475.3170 - val_Regression_loss: 471.5594 - val_Classification_loss: 3.7576 - val_Regression_acc: 0.0571 - val_Classification_acc: 0.3714\n",
      "Epoch 85/100\n",
      "417/417 [==============================] - 2s 5ms/step - loss: 5.6329 - Regression_loss: 4.5694 - Classification_loss: 1.0636 - Regression_acc: 0.2158 - Classification_acc: 0.4197 - val_loss: 486.1319 - val_Regression_loss: 482.3309 - val_Classification_loss: 3.8010 - val_Regression_acc: 0.0476 - val_Classification_acc: 0.3714\n",
      "Epoch 86/100\n",
      "417/417 [==============================] - 2s 4ms/step - loss: 5.6330 - Regression_loss: 4.5696 - Classification_loss: 1.0634 - Regression_acc: 0.2158 - Classification_acc: 0.4197 - val_loss: 533.9077 - val_Regression_loss: 530.0811 - val_Classification_loss: 3.8266 - val_Regression_acc: 0.0476 - val_Classification_acc: 0.3714\n",
      "Epoch 87/100\n",
      "417/417 [==============================] - 2s 4ms/step - loss: 5.6330 - Regression_loss: 4.5696 - Classification_loss: 1.0634 - Regression_acc: 0.2158 - Classification_acc: 0.4197 - val_loss: 536.7862 - val_Regression_loss: 532.9345 - val_Classification_loss: 3.8517 - val_Regression_acc: 0.0476 - val_Classification_acc: 0.3619\n",
      "Epoch 88/100\n",
      "417/417 [==============================] - 2s 4ms/step - loss: 5.6326 - Regression_loss: 4.5691 - Classification_loss: 1.0635 - Regression_acc: 0.2158 - Classification_acc: 0.4197 - val_loss: 555.6994 - val_Regression_loss: 551.8165 - val_Classification_loss: 3.8830 - val_Regression_acc: 0.0286 - val_Classification_acc: 0.3714\n",
      "Epoch 89/100\n",
      "417/417 [==============================] - 2s 4ms/step - loss: 5.6334 - Regression_loss: 4.5699 - Classification_loss: 1.0635 - Regression_acc: 0.2158 - Classification_acc: 0.4197 - val_loss: 533.2189 - val_Regression_loss: 529.4297 - val_Classification_loss: 3.7892 - val_Regression_acc: 0.0476 - val_Classification_acc: 0.3714\n",
      "Epoch 90/100\n",
      "417/417 [==============================] - 2s 4ms/step - loss: 5.6331 - Regression_loss: 4.5696 - Classification_loss: 1.0635 - Regression_acc: 0.2158 - Classification_acc: 0.4197 - val_loss: 494.1913 - val_Regression_loss: 490.4636 - val_Classification_loss: 3.7277 - val_Regression_acc: 0.0476 - val_Classification_acc: 0.3905\n",
      "Epoch 91/100\n",
      "417/417 [==============================] - 2s 4ms/step - loss: 5.6330 - Regression_loss: 4.5696 - Classification_loss: 1.0633 - Regression_acc: 0.2158 - Classification_acc: 0.4197 - val_loss: 455.0310 - val_Regression_loss: 451.3088 - val_Classification_loss: 3.7221 - val_Regression_acc: 0.0381 - val_Classification_acc: 0.3810\n",
      "Epoch 92/100\n",
      "417/417 [==============================] - 2s 4ms/step - loss: 5.6342 - Regression_loss: 4.5705 - Classification_loss: 1.0636 - Regression_acc: 0.2158 - Classification_acc: 0.4197 - val_loss: 487.4204 - val_Regression_loss: 483.6713 - val_Classification_loss: 3.7491 - val_Regression_acc: 0.0286 - val_Classification_acc: 0.4000\n",
      "Epoch 93/100\n",
      "417/417 [==============================] - 1s 4ms/step - loss: 5.6340 - Regression_loss: 4.5706 - Classification_loss: 1.0634 - Regression_acc: 0.2158 - Classification_acc: 0.4197 - val_loss: 466.1970 - val_Regression_loss: 462.4814 - val_Classification_loss: 3.7156 - val_Regression_acc: 0.0381 - val_Classification_acc: 0.3810\n",
      "Epoch 94/100\n",
      "417/417 [==============================] - 1s 3ms/step - loss: 5.6334 - Regression_loss: 4.5701 - Classification_loss: 1.0634 - Regression_acc: 0.2158 - Classification_acc: 0.4197 - val_loss: 494.9745 - val_Regression_loss: 491.1844 - val_Classification_loss: 3.7901 - val_Regression_acc: 0.0476 - val_Classification_acc: 0.3810\n",
      "Epoch 95/100\n",
      "417/417 [==============================] - 1s 3ms/step - loss: 5.6330 - Regression_loss: 4.5695 - Classification_loss: 1.0635 - Regression_acc: 0.2158 - Classification_acc: 0.4197 - val_loss: 496.1808 - val_Regression_loss: 492.4290 - val_Classification_loss: 3.7518 - val_Regression_acc: 0.0286 - val_Classification_acc: 0.3810\n",
      "Epoch 96/100\n",
      "417/417 [==============================] - 2s 4ms/step - loss: 5.6335 - Regression_loss: 4.5700 - Classification_loss: 1.0635 - Regression_acc: 0.2158 - Classification_acc: 0.4197 - val_loss: 500.7991 - val_Regression_loss: 497.0113 - val_Classification_loss: 3.7879 - val_Regression_acc: 0.0286 - val_Classification_acc: 0.3810\n"
     ]
    },
    {
     "name": "stdout",
     "output_type": "stream",
     "text": [
      "Epoch 97/100\n",
      "417/417 [==============================] - 2s 4ms/step - loss: 5.6332 - Regression_loss: 4.5698 - Classification_loss: 1.0634 - Regression_acc: 0.2158 - Classification_acc: 0.4197 - val_loss: 510.1940 - val_Regression_loss: 506.3302 - val_Classification_loss: 3.8638 - val_Regression_acc: 0.0286 - val_Classification_acc: 0.3714\n",
      "Epoch 98/100\n",
      "417/417 [==============================] - 2s 4ms/step - loss: 5.6331 - Regression_loss: 4.5697 - Classification_loss: 1.0634 - Regression_acc: 0.2158 - Classification_acc: 0.4197 - val_loss: 496.0252 - val_Regression_loss: 492.2468 - val_Classification_loss: 3.7784 - val_Regression_acc: 0.0762 - val_Classification_acc: 0.3619\n",
      "Epoch 99/100\n",
      "417/417 [==============================] - 2s 4ms/step - loss: 5.6331 - Regression_loss: 4.5695 - Classification_loss: 1.0636 - Regression_acc: 0.2158 - Classification_acc: 0.4197 - val_loss: 543.4373 - val_Regression_loss: 539.5496 - val_Classification_loss: 3.8877 - val_Regression_acc: 0.0286 - val_Classification_acc: 0.3714\n",
      "Epoch 100/100\n",
      "417/417 [==============================] - 2s 5ms/step - loss: 5.6327 - Regression_loss: 4.5693 - Classification_loss: 1.0635 - Regression_acc: 0.2158 - Classification_acc: 0.4197 - val_loss: 545.7413 - val_Regression_loss: 541.8824 - val_Classification_loss: 3.8589 - val_Regression_acc: 0.0381 - val_Classification_acc: 0.3619\n"
     ]
    }
   ],
   "source": [
    "model_3_training = model_3.fit(\n",
    "    X_train_scaled,\n",
    "    [y_reg_train, y_class_train],\n",
    "    validation_data=(X_test_scaled, [y_reg_test, y_class_test]),\n",
    "    batch_size=1,\n",
    "    epochs=100,\n",
    "    #callbacks=[early_stopping_monitor],\n",
    "    verbose=True)"
   ]
  },
  {
   "cell_type": "code",
   "execution_count": 41,
   "metadata": {
    "ExecuteTime": {
     "end_time": "2019-08-02T12:00:26.971689Z",
     "start_time": "2019-08-02T12:00:26.583701Z"
    }
   },
   "outputs": [
    {
     "data": {
      "text/plain": [
       "(9.222855, array([1.8566847e-05, 9.9998736e-01, 1.3100404e-01], dtype=float32))"
      ]
     },
     "execution_count": 41,
     "metadata": {},
     "output_type": "execute_result"
    }
   ],
   "source": [
    "model_3.predict(X_test_scaled)[0][6][0], model_3.predict(X_test_scaled)[1][6]"
   ]
  },
  {
   "cell_type": "code",
   "execution_count": 42,
   "metadata": {
    "ExecuteTime": {
     "end_time": "2019-08-02T12:00:27.367699Z",
     "start_time": "2019-08-02T12:00:26.983683Z"
    }
   },
   "outputs": [],
   "source": [
    "input_tensor = Input(shape=(in_cols,))\n",
    "hidden_1 = Dense(in_cols*2, activation='relu', name='hidden_1')(input_tensor)\n",
    "output_tensor_reg = Dense(1, name='Regression')(hidden_1)\n",
    "\n",
    "output_tensor_class = Dense(out_cols, activation='sigmoid', name='Classification')(output_tensor_reg)"
   ]
  },
  {
   "cell_type": "code",
   "execution_count": 43,
   "metadata": {
    "ExecuteTime": {
     "end_time": "2019-08-02T12:00:27.435686Z",
     "start_time": "2019-08-02T12:00:27.379694Z"
    }
   },
   "outputs": [],
   "source": [
    "model_4 = Model(input_tensor, [output_tensor_reg, output_tensor_class])"
   ]
  },
  {
   "cell_type": "code",
   "execution_count": 44,
   "metadata": {
    "ExecuteTime": {
     "end_time": "2019-08-02T12:00:27.663687Z",
     "start_time": "2019-08-02T12:00:27.443695Z"
    }
   },
   "outputs": [],
   "source": [
    "model_4.compile(loss=['mse', 'categorical_crossentropy'],\n",
    "             optimizer='adam',\n",
    "             metrics=['accuracy'])"
   ]
  },
  {
   "cell_type": "code",
   "execution_count": 45,
   "metadata": {
    "ExecuteTime": {
     "end_time": "2019-08-02T12:00:27.695685Z",
     "start_time": "2019-08-02T12:00:27.671701Z"
    }
   },
   "outputs": [
    {
     "name": "stdout",
     "output_type": "stream",
     "text": [
      "_________________________________________________________________\n",
      "Layer (type)                 Output Shape              Param #   \n",
      "=================================================================\n",
      "input_3 (InputLayer)         (None, 11)                0         \n",
      "_________________________________________________________________\n",
      "hidden_1 (Dense)             (None, 22)                264       \n",
      "_________________________________________________________________\n",
      "Regression (Dense)           (None, 1)                 23        \n",
      "_________________________________________________________________\n",
      "Classification (Dense)       (None, 3)                 6         \n",
      "=================================================================\n",
      "Total params: 293\n",
      "Trainable params: 293\n",
      "Non-trainable params: 0\n",
      "_________________________________________________________________\n"
     ]
    }
   ],
   "source": [
    "model_4.summary()"
   ]
  },
  {
   "cell_type": "code",
   "execution_count": 46,
   "metadata": {
    "ExecuteTime": {
     "end_time": "2019-08-02T12:01:36.860516Z",
     "start_time": "2019-08-02T12:00:27.711700Z"
    },
    "scrolled": true
   },
   "outputs": [
    {
     "name": "stdout",
     "output_type": "stream",
     "text": [
      "Train on 417 samples, validate on 105 samples\n",
      "Epoch 1/50\n",
      "417/417 [==============================] - 3s 6ms/step - loss: 5.2463 - Regression_loss: 4.0982 - Classification_loss: 1.1481 - Regression_acc: 0.2350 - Classification_acc: 0.2950 - val_loss: 5.0028 - val_Regression_loss: 3.8417 - val_Classification_loss: 1.1611 - val_Regression_acc: 0.1524 - val_Classification_acc: 0.2952\n",
      "Epoch 2/50\n",
      "417/417 [==============================] - 1s 4ms/step - loss: 4.9307 - Regression_loss: 3.7799 - Classification_loss: 1.1508 - Regression_acc: 0.2350 - Classification_acc: 0.2614 - val_loss: 4.8420 - val_Regression_loss: 3.7085 - val_Classification_loss: 1.1336 - val_Regression_acc: 0.1619 - val_Classification_acc: 0.2762\n",
      "Epoch 3/50\n",
      "417/417 [==============================] - 2s 4ms/step - loss: 4.8231 - Regression_loss: 3.7050 - Classification_loss: 1.1180 - Regression_acc: 0.2350 - Classification_acc: 0.2758 - val_loss: 4.7913 - val_Regression_loss: 3.6903 - val_Classification_loss: 1.1010 - val_Regression_acc: 0.1714 - val_Classification_acc: 0.2952\n",
      "Epoch 4/50\n",
      "417/417 [==============================] - 1s 4ms/step - loss: 4.7384 - Regression_loss: 3.6516 - Classification_loss: 1.0868 - Regression_acc: 0.2182 - Classification_acc: 0.3261 - val_loss: 4.7103 - val_Regression_loss: 3.6427 - val_Classification_loss: 1.0676 - val_Regression_acc: 0.1810 - val_Classification_acc: 0.4190\n",
      "Epoch 5/50\n",
      "417/417 [==============================] - 2s 4ms/step - loss: 4.6729 - Regression_loss: 3.6135 - Classification_loss: 1.0594 - Regression_acc: 0.2302 - Classification_acc: 0.4436 - val_loss: 4.7017 - val_Regression_loss: 3.6587 - val_Classification_loss: 1.0430 - val_Regression_acc: 0.1810 - val_Classification_acc: 0.4667\n",
      "Epoch 6/50\n",
      "417/417 [==============================] - 2s 4ms/step - loss: 4.6357 - Regression_loss: 3.5980 - Classification_loss: 1.0377 - Regression_acc: 0.2302 - Classification_acc: 0.4820 - val_loss: 4.6967 - val_Regression_loss: 3.6711 - val_Classification_loss: 1.0256 - val_Regression_acc: 0.2000 - val_Classification_acc: 0.5143\n",
      "Epoch 7/50\n",
      "417/417 [==============================] - 2s 4ms/step - loss: 4.5784 - Regression_loss: 3.5571 - Classification_loss: 1.0213 - Regression_acc: 0.2374 - Classification_acc: 0.5108 - val_loss: 4.6724 - val_Regression_loss: 3.6625 - val_Classification_loss: 1.0099 - val_Regression_acc: 0.1905 - val_Classification_acc: 0.5429\n",
      "Epoch 8/50\n",
      "417/417 [==============================] - 2s 4ms/step - loss: 4.5447 - Regression_loss: 3.5378 - Classification_loss: 1.0069 - Regression_acc: 0.2230 - Classification_acc: 0.5300 - val_loss: 4.6828 - val_Regression_loss: 3.6832 - val_Classification_loss: 0.9996 - val_Regression_acc: 0.2000 - val_Classification_acc: 0.5429\n",
      "Epoch 9/50\n",
      "417/417 [==============================] - 2s 4ms/step - loss: 4.4909 - Regression_loss: 3.4954 - Classification_loss: 0.9955 - Regression_acc: 0.2422 - Classification_acc: 0.5324 - val_loss: 4.6743 - val_Regression_loss: 3.6810 - val_Classification_loss: 0.9933 - val_Regression_acc: 0.1905 - val_Classification_acc: 0.5429\n",
      "Epoch 10/50\n",
      "417/417 [==============================] - 2s 4ms/step - loss: 4.4716 - Regression_loss: 3.4855 - Classification_loss: 0.9861 - Regression_acc: 0.2350 - Classification_acc: 0.5324 - val_loss: 4.6901 - val_Regression_loss: 3.7025 - val_Classification_loss: 0.9876 - val_Regression_acc: 0.2000 - val_Classification_acc: 0.5333\n",
      "Epoch 11/50\n",
      "417/417 [==============================] - 2s 4ms/step - loss: 4.4410 - Regression_loss: 3.4600 - Classification_loss: 0.9810 - Regression_acc: 0.2278 - Classification_acc: 0.5372 - val_loss: 4.6186 - val_Regression_loss: 3.6379 - val_Classification_loss: 0.9807 - val_Regression_acc: 0.1905 - val_Classification_acc: 0.5143\n",
      "Epoch 12/50\n",
      "417/417 [==============================] - 1s 4ms/step - loss: 4.4185 - Regression_loss: 3.4439 - Classification_loss: 0.9746 - Regression_acc: 0.2326 - Classification_acc: 0.5348 - val_loss: 4.5895 - val_Regression_loss: 3.6144 - val_Classification_loss: 0.9751 - val_Regression_acc: 0.1810 - val_Classification_acc: 0.5429\n",
      "Epoch 13/50\n",
      "417/417 [==============================] - 2s 4ms/step - loss: 4.4127 - Regression_loss: 3.4422 - Classification_loss: 0.9705 - Regression_acc: 0.2254 - Classification_acc: 0.5324 - val_loss: 4.5811 - val_Regression_loss: 3.6108 - val_Classification_loss: 0.9702 - val_Regression_acc: 0.1810 - val_Classification_acc: 0.5333\n",
      "Epoch 14/50\n",
      "417/417 [==============================] - 1s 3ms/step - loss: 4.3847 - Regression_loss: 3.4208 - Classification_loss: 0.9638 - Regression_acc: 0.2254 - Classification_acc: 0.5420 - val_loss: 4.6125 - val_Regression_loss: 3.6419 - val_Classification_loss: 0.9707 - val_Regression_acc: 0.1810 - val_Classification_acc: 0.5238\n",
      "Epoch 15/50\n",
      "417/417 [==============================] - 1s 3ms/step - loss: 4.3573 - Regression_loss: 3.3984 - Classification_loss: 0.9589 - Regression_acc: 0.2326 - Classification_acc: 0.5420 - val_loss: 4.6289 - val_Regression_loss: 3.6565 - val_Classification_loss: 0.9725 - val_Regression_acc: 0.1905 - val_Classification_acc: 0.5238\n",
      "Epoch 16/50\n",
      "417/417 [==============================] - 1s 3ms/step - loss: 4.3594 - Regression_loss: 3.3979 - Classification_loss: 0.9615 - Regression_acc: 0.2398 - Classification_acc: 0.5468 - val_loss: 4.6166 - val_Regression_loss: 3.6512 - val_Classification_loss: 0.9654 - val_Regression_acc: 0.1810 - val_Classification_acc: 0.5429\n",
      "Epoch 17/50\n",
      "417/417 [==============================] - 1s 3ms/step - loss: 4.3307 - Regression_loss: 3.3759 - Classification_loss: 0.9548 - Regression_acc: 0.2374 - Classification_acc: 0.5396 - val_loss: 4.6834 - val_Regression_loss: 3.7110 - val_Classification_loss: 0.9725 - val_Regression_acc: 0.2095 - val_Classification_acc: 0.5143\n",
      "Epoch 18/50\n",
      "417/417 [==============================] - 1s 3ms/step - loss: 4.3094 - Regression_loss: 3.3575 - Classification_loss: 0.9519 - Regression_acc: 0.2374 - Classification_acc: 0.5492 - val_loss: 4.6003 - val_Regression_loss: 3.6384 - val_Classification_loss: 0.9619 - val_Regression_acc: 0.1810 - val_Classification_acc: 0.5238\n",
      "Epoch 19/50\n",
      "417/417 [==============================] - 1s 3ms/step - loss: 4.2984 - Regression_loss: 3.3485 - Classification_loss: 0.9499 - Regression_acc: 0.2350 - Classification_acc: 0.5444 - val_loss: 4.6016 - val_Regression_loss: 3.6381 - val_Classification_loss: 0.9635 - val_Regression_acc: 0.1905 - val_Classification_acc: 0.5333\n",
      "Epoch 20/50\n",
      "417/417 [==============================] - 1s 4ms/step - loss: 4.2688 - Regression_loss: 3.3231 - Classification_loss: 0.9458 - Regression_acc: 0.2422 - Classification_acc: 0.5588 - val_loss: 4.6038 - val_Regression_loss: 3.6370 - val_Classification_loss: 0.9668 - val_Regression_acc: 0.2095 - val_Classification_acc: 0.5238ession_loss: 3.3750 - Classification_loss: 0.9485 - Regression_acc: 0.2383 - Classification_acc: 0.55\n",
      "Epoch 21/50\n",
      "417/417 [==============================] - 1s 3ms/step - loss: 4.2751 - Regression_loss: 3.3311 - Classification_loss: 0.9439 - Regression_acc: 0.2446 - Classification_acc: 0.5516 - val_loss: 4.5932 - val_Regression_loss: 3.6294 - val_Classification_loss: 0.9638 - val_Regression_acc: 0.1714 - val_Classification_acc: 0.5238\n",
      "Epoch 22/50\n",
      "417/417 [==============================] - 1s 3ms/step - loss: 4.2452 - Regression_loss: 3.3055 - Classification_loss: 0.9396 - Regression_acc: 0.2494 - Classification_acc: 0.5635 - val_loss: 4.6514 - val_Regression_loss: 3.6849 - val_Classification_loss: 0.9665 - val_Regression_acc: 0.1810 - val_Classification_acc: 0.5238\n",
      "Epoch 23/50\n",
      "417/417 [==============================] - 1s 3ms/step - loss: 4.2380 - Regression_loss: 3.2938 - Classification_loss: 0.9442 - Regression_acc: 0.2278 - Classification_acc: 0.5444 - val_loss: 4.6265 - val_Regression_loss: 3.6689 - val_Classification_loss: 0.9576 - val_Regression_acc: 0.2095 - val_Classification_acc: 0.5238\n",
      "Epoch 24/50\n",
      "417/417 [==============================] - 1s 3ms/step - loss: 4.2206 - Regression_loss: 3.2808 - Classification_loss: 0.9399 - Regression_acc: 0.2422 - Classification_acc: 0.5588 - val_loss: 4.6595 - val_Regression_loss: 3.6951 - val_Classification_loss: 0.9643 - val_Regression_acc: 0.1905 - val_Classification_acc: 0.5238\n"
     ]
    },
    {
     "name": "stdout",
     "output_type": "stream",
     "text": [
      "Epoch 25/50\n",
      "417/417 [==============================] - 1s 3ms/step - loss: 4.2036 - Regression_loss: 3.2645 - Classification_loss: 0.9391 - Regression_acc: 0.2398 - Classification_acc: 0.5612 - val_loss: 4.6391 - val_Regression_loss: 3.6732 - val_Classification_loss: 0.9659 - val_Regression_acc: 0.1905 - val_Classification_acc: 0.5143\n",
      "Epoch 26/50\n",
      "417/417 [==============================] - 1s 3ms/step - loss: 4.1975 - Regression_loss: 3.2589 - Classification_loss: 0.9386 - Regression_acc: 0.2470 - Classification_acc: 0.5683 - val_loss: 4.6385 - val_Regression_loss: 3.6775 - val_Classification_loss: 0.9611 - val_Regression_acc: 0.1810 - val_Classification_acc: 0.5048\n",
      "Epoch 27/50\n",
      "417/417 [==============================] - 1s 3ms/step - loss: 4.1823 - Regression_loss: 3.2501 - Classification_loss: 0.9322 - Regression_acc: 0.2446 - Classification_acc: 0.5612 - val_loss: 4.7545 - val_Regression_loss: 3.7787 - val_Classification_loss: 0.9759 - val_Regression_acc: 0.1714 - val_Classification_acc: 0.5238\n",
      "Epoch 28/50\n",
      "417/417 [==============================] - 1s 3ms/step - loss: 4.1793 - Regression_loss: 3.2441 - Classification_loss: 0.9352 - Regression_acc: 0.2470 - Classification_acc: 0.5588 - val_loss: 4.6205 - val_Regression_loss: 3.6590 - val_Classification_loss: 0.9615 - val_Regression_acc: 0.1714 - val_Classification_acc: 0.5429\n",
      "Epoch 29/50\n",
      "417/417 [==============================] - 1s 3ms/step - loss: 4.1526 - Regression_loss: 3.2222 - Classification_loss: 0.9304 - Regression_acc: 0.2470 - Classification_acc: 0.5635 - val_loss: 4.6146 - val_Regression_loss: 3.6520 - val_Classification_loss: 0.9626 - val_Regression_acc: 0.1619 - val_Classification_acc: 0.5238\n",
      "Epoch 30/50\n",
      "417/417 [==============================] - 1s 2ms/step - loss: 4.1342 - Regression_loss: 3.2084 - Classification_loss: 0.9258 - Regression_acc: 0.2494 - Classification_acc: 0.5635 - val_loss: 4.6573 - val_Regression_loss: 3.6847 - val_Classification_loss: 0.9727 - val_Regression_acc: 0.1619 - val_Classification_acc: 0.5048\n",
      "Epoch 31/50\n",
      "417/417 [==============================] - 1s 2ms/step - loss: 4.1323 - Regression_loss: 3.2049 - Classification_loss: 0.9274 - Regression_acc: 0.2590 - Classification_acc: 0.5779 - val_loss: 4.6729 - val_Regression_loss: 3.7041 - val_Classification_loss: 0.9688 - val_Regression_acc: 0.2095 - val_Classification_acc: 0.5333\n",
      "Epoch 32/50\n",
      "417/417 [==============================] - 1s 3ms/step - loss: 4.1068 - Regression_loss: 3.1791 - Classification_loss: 0.9277 - Regression_acc: 0.2542 - Classification_acc: 0.5612 - val_loss: 4.6608 - val_Regression_loss: 3.6973 - val_Classification_loss: 0.9636 - val_Regression_acc: 0.1810 - val_Classification_acc: 0.5238\n",
      "Epoch 33/50\n",
      "417/417 [==============================] - 1s 3ms/step - loss: 4.0979 - Regression_loss: 3.1684 - Classification_loss: 0.9295 - Regression_acc: 0.2590 - Classification_acc: 0.5564 - val_loss: 4.5844 - val_Regression_loss: 3.6288 - val_Classification_loss: 0.9557 - val_Regression_acc: 0.1810 - val_Classification_acc: 0.5048\n",
      "Epoch 34/50\n",
      "417/417 [==============================] - 1s 2ms/step - loss: 4.0779 - Regression_loss: 3.1546 - Classification_loss: 0.9233 - Regression_acc: 0.2566 - Classification_acc: 0.5731 - val_loss: 4.6455 - val_Regression_loss: 3.6765 - val_Classification_loss: 0.9690 - val_Regression_acc: 0.1810 - val_Classification_acc: 0.5238\n",
      "Epoch 35/50\n",
      "417/417 [==============================] - 1s 2ms/step - loss: 4.0915 - Regression_loss: 3.1682 - Classification_loss: 0.9234 - Regression_acc: 0.2662 - Classification_acc: 0.5683 - val_loss: 4.6174 - val_Regression_loss: 3.6606 - val_Classification_loss: 0.9568 - val_Regression_acc: 0.1810 - val_Classification_acc: 0.5333\n",
      "Epoch 36/50\n",
      "417/417 [==============================] - 1s 3ms/step - loss: 4.0742 - Regression_loss: 3.1528 - Classification_loss: 0.9214 - Regression_acc: 0.2614 - Classification_acc: 0.5564 - val_loss: 4.6505 - val_Regression_loss: 3.6835 - val_Classification_loss: 0.9670 - val_Regression_acc: 0.1714 - val_Classification_acc: 0.5143\n",
      "Epoch 37/50\n",
      "417/417 [==============================] - 1s 2ms/step - loss: 4.0450 - Regression_loss: 3.1291 - Classification_loss: 0.9160 - Regression_acc: 0.2758 - Classification_acc: 0.5755 - val_loss: 4.7830 - val_Regression_loss: 3.7971 - val_Classification_loss: 0.9859 - val_Regression_acc: 0.1905 - val_Classification_acc: 0.5429\n",
      "Epoch 38/50\n",
      "417/417 [==============================] - 2s 4ms/step - loss: 4.0578 - Regression_loss: 3.1340 - Classification_loss: 0.9238 - Regression_acc: 0.2350 - Classification_acc: 0.5731 - val_loss: 4.6886 - val_Regression_loss: 3.7222 - val_Classification_loss: 0.9663 - val_Regression_acc: 0.1810 - val_Classification_acc: 0.5429\n",
      "Epoch 39/50\n",
      "417/417 [==============================] - 1s 2ms/step - loss: 4.0464 - Regression_loss: 3.1270 - Classification_loss: 0.9194 - Regression_acc: 0.2614 - Classification_acc: 0.5683 - val_loss: 4.6750 - val_Regression_loss: 3.7027 - val_Classification_loss: 0.9723 - val_Regression_acc: 0.1619 - val_Classification_acc: 0.5333\n",
      "Epoch 40/50\n",
      "417/417 [==============================] - 1s 2ms/step - loss: 4.0337 - Regression_loss: 3.1133 - Classification_loss: 0.9203 - Regression_acc: 0.2734 - Classification_acc: 0.5659 - val_loss: 4.6174 - val_Regression_loss: 3.6504 - val_Classification_loss: 0.9669 - val_Regression_acc: 0.1714 - val_Classification_acc: 0.5048\n",
      "Epoch 41/50\n",
      "417/417 [==============================] - 2s 4ms/step - loss: 4.0349 - Regression_loss: 3.1148 - Classification_loss: 0.9200 - Regression_acc: 0.2494 - Classification_acc: 0.5731 - val_loss: 4.6653 - val_Regression_loss: 3.6940 - val_Classification_loss: 0.9712 - val_Regression_acc: 0.1619 - val_Classification_acc: 0.5238\n",
      "Epoch 42/50\n",
      "417/417 [==============================] - 1s 3ms/step - loss: 4.0134 - Regression_loss: 3.0967 - Classification_loss: 0.9167 - Regression_acc: 0.2494 - Classification_acc: 0.5731 - val_loss: 4.6655 - val_Regression_loss: 3.6992 - val_Classification_loss: 0.9663 - val_Regression_acc: 0.1810 - val_Classification_acc: 0.5429\n",
      "Epoch 43/50\n",
      "417/417 [==============================] - 1s 3ms/step - loss: 4.0072 - Regression_loss: 3.0901 - Classification_loss: 0.9171 - Regression_acc: 0.2662 - Classification_acc: 0.5659 - val_loss: 4.6141 - val_Regression_loss: 3.6536 - val_Classification_loss: 0.9605 - val_Regression_acc: 0.1810 - val_Classification_acc: 0.5143\n",
      "Epoch 44/50\n",
      "417/417 [==============================] - 2s 4ms/step - loss: 4.0292 - Regression_loss: 3.1093 - Classification_loss: 0.9199 - Regression_acc: 0.2566 - Classification_acc: 0.5731 - val_loss: 4.6130 - val_Regression_loss: 3.6537 - val_Classification_loss: 0.9593 - val_Regression_acc: 0.1714 - val_Classification_acc: 0.5143\n",
      "Epoch 45/50\n",
      "417/417 [==============================] - 1s 2ms/step - loss: 3.9957 - Regression_loss: 3.0822 - Classification_loss: 0.9135 - Regression_acc: 0.2542 - Classification_acc: 0.5731 - val_loss: 4.6757 - val_Regression_loss: 3.7072 - val_Classification_loss: 0.9685 - val_Regression_acc: 0.1810 - val_Classification_acc: 0.5333\n",
      "Epoch 46/50\n",
      "417/417 [==============================] - 1s 2ms/step - loss: 3.9659 - Regression_loss: 3.0505 - Classification_loss: 0.9155 - Regression_acc: 0.2542 - Classification_acc: 0.5635 - val_loss: 4.6503 - val_Regression_loss: 3.6817 - val_Classification_loss: 0.9686 - val_Regression_acc: 0.1905 - val_Classification_acc: 0.4952\n",
      "Epoch 47/50\n",
      "417/417 [==============================] - 1s 2ms/step - loss: 3.9890 - Regression_loss: 3.0756 - Classification_loss: 0.9135 - Regression_acc: 0.2494 - Classification_acc: 0.5827 - val_loss: 4.6449 - val_Regression_loss: 3.6760 - val_Classification_loss: 0.9689 - val_Regression_acc: 0.1905 - val_Classification_acc: 0.5333\n",
      "Epoch 48/50\n",
      "417/417 [==============================] - 1s 2ms/step - loss: 3.9796 - Regression_loss: 3.0652 - Classification_loss: 0.9145 - Regression_acc: 0.2662 - Classification_acc: 0.5803 - val_loss: 4.8065 - val_Regression_loss: 3.8153 - val_Classification_loss: 0.9912 - val_Regression_acc: 0.1905 - val_Classification_acc: 0.5524\n",
      "Epoch 49/50\n"
     ]
    },
    {
     "name": "stdout",
     "output_type": "stream",
     "text": [
      "417/417 [==============================] - 1s 2ms/step - loss: 3.9746 - Regression_loss: 3.0585 - Classification_loss: 0.9161 - Regression_acc: 0.2470 - Classification_acc: 0.5731 - val_loss: 4.7299 - val_Regression_loss: 3.7496 - val_Classification_loss: 0.9803 - val_Regression_acc: 0.1905 - val_Classification_acc: 0.5429\n",
      "Epoch 50/50\n",
      "417/417 [==============================] - 1s 2ms/step - loss: 3.9535 - Regression_loss: 3.0440 - Classification_loss: 0.9096 - Regression_acc: 0.2542 - Classification_acc: 0.5731 - val_loss: 4.6478 - val_Regression_loss: 3.6783 - val_Classification_loss: 0.9695 - val_Regression_acc: 0.1714 - val_Classification_acc: 0.5143\n"
     ]
    }
   ],
   "source": [
    "model_4_training = model_4.fit(\n",
    "    X_train_scaled,\n",
    "    [y_reg_train, y_class_train],\n",
    "    validation_data=(X_test_scaled, [y_reg_test, y_class_test]),\n",
    "    batch_size=1,\n",
    "    epochs=50,\n",
    "    #callbacks=[early_stopping_monitor],\n",
    "    verbose=True)"
   ]
  },
  {
   "cell_type": "code",
   "execution_count": 47,
   "metadata": {
    "ExecuteTime": {
     "end_time": "2019-08-02T12:01:36.891649Z",
     "start_time": "2019-08-02T12:01:36.860516Z"
    }
   },
   "outputs": [
    {
     "data": {
      "text/plain": [
       "(9.222855, array([1.8566847e-05, 9.9998736e-01, 1.3100404e-01], dtype=float32))"
      ]
     },
     "execution_count": 47,
     "metadata": {},
     "output_type": "execute_result"
    }
   ],
   "source": [
    "model_3.predict(X_test_scaled)[0][6][0], model_3.predict(X_test_scaled)[1][6]"
   ]
  },
  {
   "cell_type": "code",
   "execution_count": 48,
   "metadata": {
    "ExecuteTime": {
     "end_time": "2019-08-02T12:01:37.194094Z",
     "start_time": "2019-08-02T12:01:36.891649Z"
    }
   },
   "outputs": [
    {
     "data": {
      "text/plain": [
       "(-0.052434582, array([0.27753693, 0.5459399 , 0.46128675], dtype=float32))"
      ]
     },
     "execution_count": 48,
     "metadata": {},
     "output_type": "execute_result"
    }
   ],
   "source": [
    "model_4.predict(X_test_scaled)[0][6][0], model_4.predict(X_test_scaled)[1][6]"
   ]
  },
  {
   "cell_type": "code",
   "execution_count": 49,
   "metadata": {
    "ExecuteTime": {
     "end_time": "2019-08-02T12:01:37.605323Z",
     "start_time": "2019-08-02T12:01:37.198073Z"
    }
   },
   "outputs": [
    {
     "data": {
      "text/plain": [
       "<matplotlib.legend.Legend at 0x1ee6c6dfe48>"
      ]
     },
     "execution_count": 49,
     "metadata": {},
     "output_type": "execute_result"
    },
    {
     "data": {
      "image/png": "[encoded data removed]",
      "text/plain": [
       "<Figure size 432x288 with 1 Axes>"
      ]
     },
     "metadata": {
      "needs_background": "light"
     },
     "output_type": "display_data"
    }
   ],
   "source": [
    "plt.plot(model_4_training.history['loss'])\n",
    "plt.xlabel('Epochs')\n",
    "plt.ylim([0, 7])\n",
    "plt.title('Total Loss over Epochs')\n",
    "plt.plot(model_4_training.history['val_loss'])\n",
    "plt.legend(['Total Training loss', 'Total Prediction loss'])"
   ]
  },
  {
   "cell_type": "code",
   "execution_count": 50,
   "metadata": {
    "ExecuteTime": {
     "end_time": "2019-08-02T12:01:37.984606Z",
     "start_time": "2019-08-02T12:01:37.609305Z"
    }
   },
   "outputs": [
    {
     "data": {
      "text/plain": [
       "<matplotlib.legend.Legend at 0x1ee6c7597f0>"
      ]
     },
     "execution_count": 50,
     "metadata": {},
     "output_type": "execute_result"
    },
    {
     "data": {
      "image/png": "[encoded data removed]",
      "text/plain": [
       "<Figure size 432x288 with 1 Axes>"
      ]
     },
     "metadata": {
      "needs_background": "light"
     },
     "output_type": "display_data"
    }
   ],
   "source": [
    "plt.plot(model_4_training.history['Classification_acc'])\n",
    "plt.xlabel('Epochs')\n",
    "plt.ylim([0, 1])\n",
    "plt.title('Total Accuracy over Epochs')\n",
    "plt.plot(model_4_training.history['val_Classification_acc'])\n",
    "plt.legend(['Total Training Accuracy', 'Total Prediction Accuracy'])"
   ]
  },
  {
   "cell_type": "code",
   "execution_count": null,
   "metadata": {},
   "outputs": [],
   "source": []
  }
 ],
 "metadata": {
  "kernelspec": {
   "display_name": "Python 3",
   "language": "python",
   "name": "python3"
  },
  "language_info": {
   "codemirror_mode": {
    "name": "ipython",
    "version": 3
   },
   "file_extension": ".py",
   "mimetype": "text/x-python",
   "name": "python",
   "nbconvert_exporter": "python",
   "pygments_lexer": "ipython3",
   "version": "3.7.3"
  }
 },
 "nbformat": 4,
 "nbformat_minor": 2
}
