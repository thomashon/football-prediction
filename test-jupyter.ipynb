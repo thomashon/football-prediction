{
 "cells": [
  {
   "cell_type": "code",
   "execution_count": 123,
   "metadata": {
    "ExecuteTime": {
     "end_time": "2019-08-08T13:35:58.759120Z",
     "start_time": "2019-08-08T13:35:58.751129Z"
    }
   },
   "outputs": [],
   "source": [
    "import numpy as np\n",
    "import pandas as pd\n",
    "import seaborn as sns\n",
    "import matplotlib.pyplot as plt"
   ]
  },
  {
   "cell_type": "code",
   "execution_count": 206,
   "metadata": {
    "ExecuteTime": {
     "end_time": "2019-08-08T14:10:55.541820Z",
     "start_time": "2019-08-08T14:10:55.508817Z"
    }
   },
   "outputs": [],
   "source": [
    "df_org = pd.read_csv('data/games0108.csv', sep='\\t')\n",
    "pred_df_org = pd.read_csv('data/pred0108.csv', sep='\\t')"
   ]
  },
  {
   "cell_type": "code",
   "execution_count": 128,
   "metadata": {
    "ExecuteTime": {
     "end_time": "2019-08-08T13:37:23.434811Z",
     "start_time": "2019-08-08T13:37:23.402823Z"
    }
   },
   "outputs": [],
   "source": [
    "df = pd.read_csv('data/games0108.csv', sep='\\t')\n",
    "pred_df = pd.read_csv('data/pred0108.csv', sep='\\t')"
   ]
  },
  {
   "cell_type": "code",
   "execution_count": 129,
   "metadata": {
    "ExecuteTime": {
     "end_time": "2019-08-08T13:37:24.621192Z",
     "start_time": "2019-08-08T13:37:24.561193Z"
    }
   },
   "outputs": [
    {
     "data": {
      "text/html": [
       "<div>\n",
       "<style scoped>\n",
       "    .dataframe tbody tr th:only-of-type {\n",
       "        vertical-align: middle;\n",
       "    }\n",
       "\n",
       "    .dataframe tbody tr th {\n",
       "        vertical-align: top;\n",
       "    }\n",
       "\n",
       "    .dataframe thead th {\n",
       "        text-align: right;\n",
       "    }\n",
       "</style>\n",
       "<table border=\"1\" class=\"dataframe\">\n",
       "  <thead>\n",
       "    <tr style=\"text-align: right;\">\n",
       "      <th></th>\n",
       "      <th>contest</th>\n",
       "      <th>year</th>\n",
       "      <th>month</th>\n",
       "      <th>day</th>\n",
       "      <th>time</th>\n",
       "      <th>break</th>\n",
       "      <th>hoamTeam</th>\n",
       "      <th>guestTeam</th>\n",
       "      <th>resultNumeric</th>\n",
       "      <th>homeTotalGoalsShoot</th>\n",
       "      <th>...</th>\n",
       "      <th>homeTeamGoalsDiffAway</th>\n",
       "      <th>guestTeamGoalsShootAtHome</th>\n",
       "      <th>guestTeamGoalsReceivedAtHome</th>\n",
       "      <th>guestTeamGoalsDiffAtHome</th>\n",
       "      <th>guestTeamGoalsShootAway</th>\n",
       "      <th>guestTeamGoalsReceivedAway</th>\n",
       "      <th>guestTeamGoalsDiffAway</th>\n",
       "      <th>hoamAvgPoints</th>\n",
       "      <th>guestAvgpoints</th>\n",
       "      <th>fortlfd</th>\n",
       "    </tr>\n",
       "  </thead>\n",
       "  <tbody>\n",
       "    <tr>\n",
       "      <th>0</th>\n",
       "      <td>UEFA CL-Qualifikation  UEFA Champions League-Q...</td>\n",
       "      <td>2017</td>\n",
       "      <td>7</td>\n",
       "      <td>Di</td>\n",
       "      <td>20:30</td>\n",
       "      <td>45</td>\n",
       "      <td>Hibernians FC</td>\n",
       "      <td>Red Bull Salzburg</td>\n",
       "      <td>-3.0</td>\n",
       "      <td>0.00</td>\n",
       "      <td>...</td>\n",
       "      <td>0.0</td>\n",
       "      <td>0.0</td>\n",
       "      <td>0.0</td>\n",
       "      <td>0.0</td>\n",
       "      <td>0.0</td>\n",
       "      <td>0.0</td>\n",
       "      <td>0.0</td>\n",
       "      <td>0.0</td>\n",
       "      <td>0.0</td>\n",
       "      <td>1</td>\n",
       "    </tr>\n",
       "    <tr>\n",
       "      <th>1</th>\n",
       "      <td>ÖFB-Cup  ÖFB-Cup</td>\n",
       "      <td>2017</td>\n",
       "      <td>7</td>\n",
       "      <td>Sa</td>\n",
       "      <td>17:00</td>\n",
       "      <td>4</td>\n",
       "      <td>Deutschlandsberger SC</td>\n",
       "      <td>Red Bull Salzburg</td>\n",
       "      <td>-7.0</td>\n",
       "      <td>0.00</td>\n",
       "      <td>...</td>\n",
       "      <td>0.0</td>\n",
       "      <td>0.0</td>\n",
       "      <td>0.0</td>\n",
       "      <td>0.0</td>\n",
       "      <td>3.0</td>\n",
       "      <td>0.0</td>\n",
       "      <td>3.0</td>\n",
       "      <td>0.0</td>\n",
       "      <td>3.0</td>\n",
       "      <td>2</td>\n",
       "    </tr>\n",
       "    <tr>\n",
       "      <th>2</th>\n",
       "      <td>UEFA CL-Qualifikation  UEFA Champions League-Q...</td>\n",
       "      <td>2017</td>\n",
       "      <td>7</td>\n",
       "      <td>Mi</td>\n",
       "      <td>20:30</td>\n",
       "      <td>4</td>\n",
       "      <td>Red Bull Salzburg</td>\n",
       "      <td>Hibernians FC</td>\n",
       "      <td>3.0</td>\n",
       "      <td>5.00</td>\n",
       "      <td>...</td>\n",
       "      <td>5.0</td>\n",
       "      <td>0.0</td>\n",
       "      <td>3.0</td>\n",
       "      <td>-3.0</td>\n",
       "      <td>0.0</td>\n",
       "      <td>0.0</td>\n",
       "      <td>0.0</td>\n",
       "      <td>3.0</td>\n",
       "      <td>0.0</td>\n",
       "      <td>3</td>\n",
       "    </tr>\n",
       "    <tr>\n",
       "      <th>3</th>\n",
       "      <td>Bundesliga  Bundesliga</td>\n",
       "      <td>2017</td>\n",
       "      <td>7</td>\n",
       "      <td>Sa</td>\n",
       "      <td>18:30</td>\n",
       "      <td>3</td>\n",
       "      <td>Wolfsberger AC</td>\n",
       "      <td>Red Bull Salzburg</td>\n",
       "      <td>-2.0</td>\n",
       "      <td>0.00</td>\n",
       "      <td>...</td>\n",
       "      <td>0.0</td>\n",
       "      <td>3.0</td>\n",
       "      <td>0.0</td>\n",
       "      <td>3.0</td>\n",
       "      <td>5.0</td>\n",
       "      <td>0.0</td>\n",
       "      <td>5.0</td>\n",
       "      <td>0.0</td>\n",
       "      <td>3.0</td>\n",
       "      <td>4</td>\n",
       "    </tr>\n",
       "    <tr>\n",
       "      <th>4</th>\n",
       "      <td>UEFA CL-Qualifikation  UEFA Champions League-Q...</td>\n",
       "      <td>2017</td>\n",
       "      <td>7</td>\n",
       "      <td>Mi</td>\n",
       "      <td>18:45</td>\n",
       "      <td>4</td>\n",
       "      <td>Red Bull Salzburg</td>\n",
       "      <td>HNK Rijeka</td>\n",
       "      <td>0.0</td>\n",
       "      <td>3.75</td>\n",
       "      <td>...</td>\n",
       "      <td>4.0</td>\n",
       "      <td>0.0</td>\n",
       "      <td>0.0</td>\n",
       "      <td>0.0</td>\n",
       "      <td>0.0</td>\n",
       "      <td>0.0</td>\n",
       "      <td>0.0</td>\n",
       "      <td>3.0</td>\n",
       "      <td>0.0</td>\n",
       "      <td>5</td>\n",
       "    </tr>\n",
       "  </tbody>\n",
       "</table>\n",
       "<p>5 rows × 30 columns</p>\n",
       "</div>"
      ],
      "text/plain": [
       "                                             contest  year  month day   time  \\\n",
       "0  UEFA CL-Qualifikation  UEFA Champions League-Q...  2017      7  Di  20:30   \n",
       "1                                   ÖFB-Cup  ÖFB-Cup  2017      7  Sa  17:00   \n",
       "2  UEFA CL-Qualifikation  UEFA Champions League-Q...  2017      7  Mi  20:30   \n",
       "3                             Bundesliga  Bundesliga  2017      7  Sa  18:30   \n",
       "4  UEFA CL-Qualifikation  UEFA Champions League-Q...  2017      7  Mi  18:45   \n",
       "\n",
       "   break               hoamTeam          guestTeam  resultNumeric  \\\n",
       "0     45          Hibernians FC  Red Bull Salzburg           -3.0   \n",
       "1      4  Deutschlandsberger SC  Red Bull Salzburg           -7.0   \n",
       "2      4      Red Bull Salzburg      Hibernians FC            3.0   \n",
       "3      3         Wolfsberger AC  Red Bull Salzburg           -2.0   \n",
       "4      4      Red Bull Salzburg         HNK Rijeka            0.0   \n",
       "\n",
       "   homeTotalGoalsShoot  ...  homeTeamGoalsDiffAway  guestTeamGoalsShootAtHome  \\\n",
       "0                 0.00  ...                    0.0                        0.0   \n",
       "1                 0.00  ...                    0.0                        0.0   \n",
       "2                 5.00  ...                    5.0                        0.0   \n",
       "3                 0.00  ...                    0.0                        3.0   \n",
       "4                 3.75  ...                    4.0                        0.0   \n",
       "\n",
       "   guestTeamGoalsReceivedAtHome  guestTeamGoalsDiffAtHome  \\\n",
       "0                           0.0                       0.0   \n",
       "1                           0.0                       0.0   \n",
       "2                           3.0                      -3.0   \n",
       "3                           0.0                       3.0   \n",
       "4                           0.0                       0.0   \n",
       "\n",
       "   guestTeamGoalsShootAway  guestTeamGoalsReceivedAway  \\\n",
       "0                      0.0                         0.0   \n",
       "1                      3.0                         0.0   \n",
       "2                      0.0                         0.0   \n",
       "3                      5.0                         0.0   \n",
       "4                      0.0                         0.0   \n",
       "\n",
       "   guestTeamGoalsDiffAway  hoamAvgPoints  guestAvgpoints  fortlfd  \n",
       "0                     0.0            0.0             0.0        1  \n",
       "1                     3.0            0.0             3.0        2  \n",
       "2                     0.0            3.0             0.0        3  \n",
       "3                     5.0            0.0             3.0        4  \n",
       "4                     0.0            3.0             0.0        5  \n",
       "\n",
       "[5 rows x 30 columns]"
      ]
     },
     "execution_count": 129,
     "metadata": {},
     "output_type": "execute_result"
    }
   ],
   "source": [
    "df.head()"
   ]
  },
  {
   "cell_type": "code",
   "execution_count": 130,
   "metadata": {
    "ExecuteTime": {
     "end_time": "2019-08-08T13:37:27.454789Z",
     "start_time": "2019-08-08T13:37:27.397786Z"
    }
   },
   "outputs": [
    {
     "data": {
      "text/html": [
       "<div>\n",
       "<style scoped>\n",
       "    .dataframe tbody tr th:only-of-type {\n",
       "        vertical-align: middle;\n",
       "    }\n",
       "\n",
       "    .dataframe tbody tr th {\n",
       "        vertical-align: top;\n",
       "    }\n",
       "\n",
       "    .dataframe thead th {\n",
       "        text-align: right;\n",
       "    }\n",
       "</style>\n",
       "<table border=\"1\" class=\"dataframe\">\n",
       "  <thead>\n",
       "    <tr style=\"text-align: right;\">\n",
       "      <th></th>\n",
       "      <th>contest</th>\n",
       "      <th>year</th>\n",
       "      <th>month</th>\n",
       "      <th>day</th>\n",
       "      <th>time</th>\n",
       "      <th>break</th>\n",
       "      <th>hoamTeam</th>\n",
       "      <th>guestTeam</th>\n",
       "      <th>resultNumeric</th>\n",
       "      <th>homeTotalGoalsShoot</th>\n",
       "      <th>...</th>\n",
       "      <th>homeTeamGoalsDiffAway</th>\n",
       "      <th>guestTeamGoalsShootAtHome</th>\n",
       "      <th>guestTeamGoalsReceivedAtHome</th>\n",
       "      <th>guestTeamGoalsDiffAtHome</th>\n",
       "      <th>guestTeamGoalsShootAway</th>\n",
       "      <th>guestTeamGoalsReceivedAway</th>\n",
       "      <th>guestTeamGoalsDiffAway</th>\n",
       "      <th>hoamAvgPoints</th>\n",
       "      <th>guestAvgpoints</th>\n",
       "      <th>fortlfd</th>\n",
       "    </tr>\n",
       "  </thead>\n",
       "  <tbody>\n",
       "    <tr>\n",
       "      <th>0</th>\n",
       "      <td>Bundesliga  Bundesliga</td>\n",
       "      <td>2019</td>\n",
       "      <td>8</td>\n",
       "      <td>Sa</td>\n",
       "      <td>17:00</td>\n",
       "      <td>6</td>\n",
       "      <td>SK Rapid Wien</td>\n",
       "      <td>SC Rheindorf Altach</td>\n",
       "      <td>NaN</td>\n",
       "      <td>1.568627</td>\n",
       "      <td>...</td>\n",
       "      <td>-0.111111</td>\n",
       "      <td>1.666667</td>\n",
       "      <td>1.888889</td>\n",
       "      <td>-0.222222</td>\n",
       "      <td>1.444444</td>\n",
       "      <td>1.000000</td>\n",
       "      <td>0.444444</td>\n",
       "      <td>1.450980</td>\n",
       "      <td>1.166667</td>\n",
       "      <td>528</td>\n",
       "    </tr>\n",
       "    <tr>\n",
       "      <th>1</th>\n",
       "      <td>Bundesliga  Bundesliga</td>\n",
       "      <td>2019</td>\n",
       "      <td>8</td>\n",
       "      <td>Sa</td>\n",
       "      <td>17:00</td>\n",
       "      <td>7</td>\n",
       "      <td>FC Admira Wacker Mödling</td>\n",
       "      <td>LASK</td>\n",
       "      <td>NaN</td>\n",
       "      <td>1.166667</td>\n",
       "      <td>...</td>\n",
       "      <td>-1.105263</td>\n",
       "      <td>2.190476</td>\n",
       "      <td>0.857143</td>\n",
       "      <td>1.333333</td>\n",
       "      <td>2.136364</td>\n",
       "      <td>0.772727</td>\n",
       "      <td>1.363636</td>\n",
       "      <td>0.833333</td>\n",
       "      <td>2.046512</td>\n",
       "      <td>529</td>\n",
       "    </tr>\n",
       "    <tr>\n",
       "      <th>2</th>\n",
       "      <td>Bundesliga  Bundesliga</td>\n",
       "      <td>2019</td>\n",
       "      <td>8</td>\n",
       "      <td>Sa</td>\n",
       "      <td>17:00</td>\n",
       "      <td>6</td>\n",
       "      <td>Red Bull Salzburg</td>\n",
       "      <td>Wolfsberger AC</td>\n",
       "      <td>NaN</td>\n",
       "      <td>2.574074</td>\n",
       "      <td>...</td>\n",
       "      <td>1.448276</td>\n",
       "      <td>1.631579</td>\n",
       "      <td>1.368421</td>\n",
       "      <td>0.263158</td>\n",
       "      <td>1.388889</td>\n",
       "      <td>1.444444</td>\n",
       "      <td>-0.055556</td>\n",
       "      <td>2.518519</td>\n",
       "      <td>1.486486</td>\n",
       "      <td>530</td>\n",
       "    </tr>\n",
       "    <tr>\n",
       "      <th>3</th>\n",
       "      <td>Bundesliga  Bundesliga</td>\n",
       "      <td>2019</td>\n",
       "      <td>8</td>\n",
       "      <td>So</td>\n",
       "      <td>17:00</td>\n",
       "      <td>8</td>\n",
       "      <td>TSV Hartberg</td>\n",
       "      <td>SK Sturm Graz</td>\n",
       "      <td>NaN</td>\n",
       "      <td>1.675676</td>\n",
       "      <td>...</td>\n",
       "      <td>-1.111111</td>\n",
       "      <td>1.263158</td>\n",
       "      <td>1.473684</td>\n",
       "      <td>-0.210526</td>\n",
       "      <td>0.952381</td>\n",
       "      <td>1.238095</td>\n",
       "      <td>-0.285714</td>\n",
       "      <td>1.216216</td>\n",
       "      <td>1.150000</td>\n",
       "      <td>531</td>\n",
       "    </tr>\n",
       "    <tr>\n",
       "      <th>4</th>\n",
       "      <td>Bundesliga  Bundesliga</td>\n",
       "      <td>2019</td>\n",
       "      <td>8</td>\n",
       "      <td>So</td>\n",
       "      <td>17:00</td>\n",
       "      <td>8</td>\n",
       "      <td>WSG Tirol</td>\n",
       "      <td>SKN St. Pölten</td>\n",
       "      <td>NaN</td>\n",
       "      <td>1.666667</td>\n",
       "      <td>...</td>\n",
       "      <td>-2.000000</td>\n",
       "      <td>1.235294</td>\n",
       "      <td>1.411765</td>\n",
       "      <td>-0.176471</td>\n",
       "      <td>1.285714</td>\n",
       "      <td>1.857143</td>\n",
       "      <td>-0.571429</td>\n",
       "      <td>1.000000</td>\n",
       "      <td>1.184211</td>\n",
       "      <td>532</td>\n",
       "    </tr>\n",
       "  </tbody>\n",
       "</table>\n",
       "<p>5 rows × 30 columns</p>\n",
       "</div>"
      ],
      "text/plain": [
       "                  contest  year  month day   time  break  \\\n",
       "0  Bundesliga  Bundesliga  2019      8  Sa  17:00      6   \n",
       "1  Bundesliga  Bundesliga  2019      8  Sa  17:00      7   \n",
       "2  Bundesliga  Bundesliga  2019      8  Sa  17:00      6   \n",
       "3  Bundesliga  Bundesliga  2019      8  So  17:00      8   \n",
       "4  Bundesliga  Bundesliga  2019      8  So  17:00      8   \n",
       "\n",
       "                   hoamTeam            guestTeam  resultNumeric  \\\n",
       "0             SK Rapid Wien  SC Rheindorf Altach            NaN   \n",
       "1  FC Admira Wacker Mödling                 LASK            NaN   \n",
       "2         Red Bull Salzburg       Wolfsberger AC            NaN   \n",
       "3              TSV Hartberg        SK Sturm Graz            NaN   \n",
       "4                 WSG Tirol       SKN St. Pölten            NaN   \n",
       "\n",
       "   homeTotalGoalsShoot  ...  homeTeamGoalsDiffAway  guestTeamGoalsShootAtHome  \\\n",
       "0             1.568627  ...              -0.111111                   1.666667   \n",
       "1             1.166667  ...              -1.105263                   2.190476   \n",
       "2             2.574074  ...               1.448276                   1.631579   \n",
       "3             1.675676  ...              -1.111111                   1.263158   \n",
       "4             1.666667  ...              -2.000000                   1.235294   \n",
       "\n",
       "   guestTeamGoalsReceivedAtHome  guestTeamGoalsDiffAtHome  \\\n",
       "0                      1.888889                 -0.222222   \n",
       "1                      0.857143                  1.333333   \n",
       "2                      1.368421                  0.263158   \n",
       "3                      1.473684                 -0.210526   \n",
       "4                      1.411765                 -0.176471   \n",
       "\n",
       "   guestTeamGoalsShootAway  guestTeamGoalsReceivedAway  \\\n",
       "0                 1.444444                    1.000000   \n",
       "1                 2.136364                    0.772727   \n",
       "2                 1.388889                    1.444444   \n",
       "3                 0.952381                    1.238095   \n",
       "4                 1.285714                    1.857143   \n",
       "\n",
       "   guestTeamGoalsDiffAway  hoamAvgPoints  guestAvgpoints  fortlfd  \n",
       "0                0.444444       1.450980        1.166667      528  \n",
       "1                1.363636       0.833333        2.046512      529  \n",
       "2               -0.055556       2.518519        1.486486      530  \n",
       "3               -0.285714       1.216216        1.150000      531  \n",
       "4               -0.571429       1.000000        1.184211      532  \n",
       "\n",
       "[5 rows x 30 columns]"
      ]
     },
     "execution_count": 130,
     "metadata": {},
     "output_type": "execute_result"
    }
   ],
   "source": [
    "pred_df.head()"
   ]
  },
  {
   "cell_type": "code",
   "execution_count": 131,
   "metadata": {
    "ExecuteTime": {
     "end_time": "2019-08-08T13:37:28.428592Z",
     "start_time": "2019-08-08T13:37:28.409596Z"
    }
   },
   "outputs": [
    {
     "data": {
      "text/plain": [
       "((527, 29), (6, 29))"
      ]
     },
     "execution_count": 131,
     "metadata": {},
     "output_type": "execute_result"
    }
   ],
   "source": [
    "df_id = df['fortlfd']\n",
    "pred_id = pred_df['fortlfd']\n",
    "\n",
    "df = df.drop(\"fortlfd\", axis = 1)\n",
    "pred_df = pred_df.drop(\"fortlfd\", axis = 1)\n",
    "\n",
    "df.shape, pred_df.shape"
   ]
  },
  {
   "cell_type": "code",
   "execution_count": 132,
   "metadata": {
    "ExecuteTime": {
     "end_time": "2019-08-08T13:37:37.196821Z",
     "start_time": "2019-08-08T13:37:37.186813Z"
    }
   },
   "outputs": [
    {
     "data": {
      "text/plain": [
       "0    1\n",
       "1    2\n",
       "2    3\n",
       "3    4\n",
       "4    5\n",
       "Name: fortlfd, dtype: int64"
      ]
     },
     "execution_count": 132,
     "metadata": {},
     "output_type": "execute_result"
    }
   ],
   "source": [
    "df_id.head()"
   ]
  },
  {
   "cell_type": "code",
   "execution_count": 133,
   "metadata": {
    "ExecuteTime": {
     "end_time": "2019-08-08T13:37:39.512538Z",
     "start_time": "2019-08-08T13:37:39.498539Z"
    }
   },
   "outputs": [
    {
     "data": {
      "text/plain": [
       "0    528\n",
       "1    529\n",
       "2    530\n",
       "3    531\n",
       "4    532\n",
       "Name: fortlfd, dtype: int64"
      ]
     },
     "execution_count": 133,
     "metadata": {},
     "output_type": "execute_result"
    }
   ],
   "source": [
    "pred_id.head()"
   ]
  },
  {
   "cell_type": "code",
   "execution_count": 134,
   "metadata": {
    "ExecuteTime": {
     "end_time": "2019-08-08T13:37:41.559728Z",
     "start_time": "2019-08-08T13:37:41.554713Z"
    }
   },
   "outputs": [],
   "source": [
    "# df['result'] = np.where(df.resultNumeric < 0, 'lost', np.where(df.resultNumeric > 0, 'won', 'draw'))"
   ]
  },
  {
   "cell_type": "code",
   "execution_count": 135,
   "metadata": {
    "ExecuteTime": {
     "end_time": "2019-08-08T13:37:42.214070Z",
     "start_time": "2019-08-08T13:37:42.202064Z"
    }
   },
   "outputs": [],
   "source": [
    "y_reg = df.resultNumeric\n",
    "y_cat = (pd.get_dummies(np.where(df.resultNumeric < 0, 'lost', np.where(df.resultNumeric > 0, 'won', 'draw'))))"
   ]
  },
  {
   "cell_type": "code",
   "execution_count": 136,
   "metadata": {
    "ExecuteTime": {
     "end_time": "2019-08-08T13:37:43.126799Z",
     "start_time": "2019-08-08T13:37:43.105795Z"
    }
   },
   "outputs": [
    {
     "data": {
      "text/plain": [
       "(533, 28)"
      ]
     },
     "execution_count": 136,
     "metadata": {},
     "output_type": "execute_result"
    }
   ],
   "source": [
    "ndf = df.shape[0]\n",
    "npred = pred_df.shape[0]\n",
    "\n",
    "\n",
    "df = pd.concat([df, pred_df])\n",
    "df = df.drop(['resultNumeric'], axis=1)\n",
    "\n",
    "df.shape"
   ]
  },
  {
   "cell_type": "code",
   "execution_count": 137,
   "metadata": {
    "ExecuteTime": {
     "end_time": "2019-08-08T13:37:43.677017Z",
     "start_time": "2019-08-08T13:37:43.667018Z"
    }
   },
   "outputs": [
    {
     "data": {
      "text/plain": [
       "(527, 6)"
      ]
     },
     "execution_count": 137,
     "metadata": {},
     "output_type": "execute_result"
    }
   ],
   "source": [
    "ndf, npred"
   ]
  },
  {
   "cell_type": "code",
   "execution_count": 138,
   "metadata": {
    "ExecuteTime": {
     "end_time": "2019-08-08T13:37:44.343019Z",
     "start_time": "2019-08-08T13:37:44.282016Z"
    }
   },
   "outputs": [
    {
     "data": {
      "text/html": [
       "<div>\n",
       "<style scoped>\n",
       "    .dataframe tbody tr th:only-of-type {\n",
       "        vertical-align: middle;\n",
       "    }\n",
       "\n",
       "    .dataframe tbody tr th {\n",
       "        vertical-align: top;\n",
       "    }\n",
       "\n",
       "    .dataframe thead th {\n",
       "        text-align: right;\n",
       "    }\n",
       "</style>\n",
       "<table border=\"1\" class=\"dataframe\">\n",
       "  <thead>\n",
       "    <tr style=\"text-align: right;\">\n",
       "      <th></th>\n",
       "      <th>contest</th>\n",
       "      <th>year</th>\n",
       "      <th>month</th>\n",
       "      <th>day</th>\n",
       "      <th>time</th>\n",
       "      <th>break</th>\n",
       "      <th>hoamTeam</th>\n",
       "      <th>guestTeam</th>\n",
       "      <th>homeTotalGoalsShoot</th>\n",
       "      <th>homeTotalGoalsReceived</th>\n",
       "      <th>...</th>\n",
       "      <th>homeTeamGoalsReceivedAway</th>\n",
       "      <th>homeTeamGoalsDiffAway</th>\n",
       "      <th>guestTeamGoalsShootAtHome</th>\n",
       "      <th>guestTeamGoalsReceivedAtHome</th>\n",
       "      <th>guestTeamGoalsDiffAtHome</th>\n",
       "      <th>guestTeamGoalsShootAway</th>\n",
       "      <th>guestTeamGoalsReceivedAway</th>\n",
       "      <th>guestTeamGoalsDiffAway</th>\n",
       "      <th>hoamAvgPoints</th>\n",
       "      <th>guestAvgpoints</th>\n",
       "    </tr>\n",
       "  </thead>\n",
       "  <tbody>\n",
       "    <tr>\n",
       "      <th>0</th>\n",
       "      <td>UEFA CL-Qualifikation  UEFA Champions League-Q...</td>\n",
       "      <td>2017</td>\n",
       "      <td>7</td>\n",
       "      <td>Di</td>\n",
       "      <td>20:30</td>\n",
       "      <td>45</td>\n",
       "      <td>Hibernians FC</td>\n",
       "      <td>Red Bull Salzburg</td>\n",
       "      <td>0.00</td>\n",
       "      <td>0.0</td>\n",
       "      <td>...</td>\n",
       "      <td>0.0</td>\n",
       "      <td>0.0</td>\n",
       "      <td>0.0</td>\n",
       "      <td>0.0</td>\n",
       "      <td>0.0</td>\n",
       "      <td>0.0</td>\n",
       "      <td>0.0</td>\n",
       "      <td>0.0</td>\n",
       "      <td>0.0</td>\n",
       "      <td>0.0</td>\n",
       "    </tr>\n",
       "    <tr>\n",
       "      <th>1</th>\n",
       "      <td>ÖFB-Cup  ÖFB-Cup</td>\n",
       "      <td>2017</td>\n",
       "      <td>7</td>\n",
       "      <td>Sa</td>\n",
       "      <td>17:00</td>\n",
       "      <td>4</td>\n",
       "      <td>Deutschlandsberger SC</td>\n",
       "      <td>Red Bull Salzburg</td>\n",
       "      <td>0.00</td>\n",
       "      <td>0.0</td>\n",
       "      <td>...</td>\n",
       "      <td>0.0</td>\n",
       "      <td>0.0</td>\n",
       "      <td>0.0</td>\n",
       "      <td>0.0</td>\n",
       "      <td>0.0</td>\n",
       "      <td>3.0</td>\n",
       "      <td>0.0</td>\n",
       "      <td>3.0</td>\n",
       "      <td>0.0</td>\n",
       "      <td>3.0</td>\n",
       "    </tr>\n",
       "    <tr>\n",
       "      <th>2</th>\n",
       "      <td>UEFA CL-Qualifikation  UEFA Champions League-Q...</td>\n",
       "      <td>2017</td>\n",
       "      <td>7</td>\n",
       "      <td>Mi</td>\n",
       "      <td>20:30</td>\n",
       "      <td>4</td>\n",
       "      <td>Red Bull Salzburg</td>\n",
       "      <td>Hibernians FC</td>\n",
       "      <td>5.00</td>\n",
       "      <td>0.0</td>\n",
       "      <td>...</td>\n",
       "      <td>0.0</td>\n",
       "      <td>5.0</td>\n",
       "      <td>0.0</td>\n",
       "      <td>3.0</td>\n",
       "      <td>-3.0</td>\n",
       "      <td>0.0</td>\n",
       "      <td>0.0</td>\n",
       "      <td>0.0</td>\n",
       "      <td>3.0</td>\n",
       "      <td>0.0</td>\n",
       "    </tr>\n",
       "    <tr>\n",
       "      <th>3</th>\n",
       "      <td>Bundesliga  Bundesliga</td>\n",
       "      <td>2017</td>\n",
       "      <td>7</td>\n",
       "      <td>Sa</td>\n",
       "      <td>18:30</td>\n",
       "      <td>3</td>\n",
       "      <td>Wolfsberger AC</td>\n",
       "      <td>Red Bull Salzburg</td>\n",
       "      <td>0.00</td>\n",
       "      <td>0.0</td>\n",
       "      <td>...</td>\n",
       "      <td>0.0</td>\n",
       "      <td>0.0</td>\n",
       "      <td>3.0</td>\n",
       "      <td>0.0</td>\n",
       "      <td>3.0</td>\n",
       "      <td>5.0</td>\n",
       "      <td>0.0</td>\n",
       "      <td>5.0</td>\n",
       "      <td>0.0</td>\n",
       "      <td>3.0</td>\n",
       "    </tr>\n",
       "    <tr>\n",
       "      <th>4</th>\n",
       "      <td>UEFA CL-Qualifikation  UEFA Champions League-Q...</td>\n",
       "      <td>2017</td>\n",
       "      <td>7</td>\n",
       "      <td>Mi</td>\n",
       "      <td>18:45</td>\n",
       "      <td>4</td>\n",
       "      <td>Red Bull Salzburg</td>\n",
       "      <td>HNK Rijeka</td>\n",
       "      <td>3.75</td>\n",
       "      <td>0.0</td>\n",
       "      <td>...</td>\n",
       "      <td>0.0</td>\n",
       "      <td>4.0</td>\n",
       "      <td>0.0</td>\n",
       "      <td>0.0</td>\n",
       "      <td>0.0</td>\n",
       "      <td>0.0</td>\n",
       "      <td>0.0</td>\n",
       "      <td>0.0</td>\n",
       "      <td>3.0</td>\n",
       "      <td>0.0</td>\n",
       "    </tr>\n",
       "  </tbody>\n",
       "</table>\n",
       "<p>5 rows × 28 columns</p>\n",
       "</div>"
      ],
      "text/plain": [
       "                                             contest  year  month day   time  \\\n",
       "0  UEFA CL-Qualifikation  UEFA Champions League-Q...  2017      7  Di  20:30   \n",
       "1                                   ÖFB-Cup  ÖFB-Cup  2017      7  Sa  17:00   \n",
       "2  UEFA CL-Qualifikation  UEFA Champions League-Q...  2017      7  Mi  20:30   \n",
       "3                             Bundesliga  Bundesliga  2017      7  Sa  18:30   \n",
       "4  UEFA CL-Qualifikation  UEFA Champions League-Q...  2017      7  Mi  18:45   \n",
       "\n",
       "   break               hoamTeam          guestTeam  homeTotalGoalsShoot  \\\n",
       "0     45          Hibernians FC  Red Bull Salzburg                 0.00   \n",
       "1      4  Deutschlandsberger SC  Red Bull Salzburg                 0.00   \n",
       "2      4      Red Bull Salzburg      Hibernians FC                 5.00   \n",
       "3      3         Wolfsberger AC  Red Bull Salzburg                 0.00   \n",
       "4      4      Red Bull Salzburg         HNK Rijeka                 3.75   \n",
       "\n",
       "   homeTotalGoalsReceived  ...  homeTeamGoalsReceivedAway  \\\n",
       "0                     0.0  ...                        0.0   \n",
       "1                     0.0  ...                        0.0   \n",
       "2                     0.0  ...                        0.0   \n",
       "3                     0.0  ...                        0.0   \n",
       "4                     0.0  ...                        0.0   \n",
       "\n",
       "   homeTeamGoalsDiffAway  guestTeamGoalsShootAtHome  \\\n",
       "0                    0.0                        0.0   \n",
       "1                    0.0                        0.0   \n",
       "2                    5.0                        0.0   \n",
       "3                    0.0                        3.0   \n",
       "4                    4.0                        0.0   \n",
       "\n",
       "   guestTeamGoalsReceivedAtHome  guestTeamGoalsDiffAtHome  \\\n",
       "0                           0.0                       0.0   \n",
       "1                           0.0                       0.0   \n",
       "2                           3.0                      -3.0   \n",
       "3                           0.0                       3.0   \n",
       "4                           0.0                       0.0   \n",
       "\n",
       "   guestTeamGoalsShootAway  guestTeamGoalsReceivedAway  \\\n",
       "0                      0.0                         0.0   \n",
       "1                      3.0                         0.0   \n",
       "2                      0.0                         0.0   \n",
       "3                      5.0                         0.0   \n",
       "4                      0.0                         0.0   \n",
       "\n",
       "   guestTeamGoalsDiffAway  hoamAvgPoints  guestAvgpoints  \n",
       "0                     0.0            0.0             0.0  \n",
       "1                     3.0            0.0             3.0  \n",
       "2                     0.0            3.0             0.0  \n",
       "3                     5.0            0.0             3.0  \n",
       "4                     0.0            3.0             0.0  \n",
       "\n",
       "[5 rows x 28 columns]"
      ]
     },
     "execution_count": 138,
     "metadata": {},
     "output_type": "execute_result"
    }
   ],
   "source": [
    "df.head()"
   ]
  },
  {
   "cell_type": "code",
   "execution_count": 139,
   "metadata": {
    "ExecuteTime": {
     "end_time": "2019-08-08T13:37:45.059949Z",
     "start_time": "2019-08-08T13:37:45.053945Z"
    }
   },
   "outputs": [],
   "source": [
    "from keras.utils import to_categorical"
   ]
  },
  {
   "cell_type": "code",
   "execution_count": 140,
   "metadata": {
    "ExecuteTime": {
     "end_time": "2019-08-08T13:37:46.737525Z",
     "start_time": "2019-08-08T13:37:46.720523Z"
    }
   },
   "outputs": [],
   "source": [
    "df_contest = pd.get_dummies(df.contest)\n",
    "df = pd.concat([df, df_contest], axis=1)\n",
    "df = df.drop('contest', axis=1)"
   ]
  },
  {
   "cell_type": "code",
   "execution_count": 141,
   "metadata": {
    "ExecuteTime": {
     "end_time": "2019-08-08T13:37:47.221529Z",
     "start_time": "2019-08-08T13:37:47.202538Z"
    }
   },
   "outputs": [],
   "source": [
    "df_day = pd.get_dummies(df.day)\n",
    "df = pd.concat([df, df_day], axis=1)\n",
    "df = df.drop('day', axis=1)"
   ]
  },
  {
   "cell_type": "code",
   "execution_count": 142,
   "metadata": {
    "ExecuteTime": {
     "end_time": "2019-08-08T13:37:47.493523Z",
     "start_time": "2019-08-08T13:37:47.476535Z"
    }
   },
   "outputs": [],
   "source": [
    "df_time = pd.get_dummies(df.time)\n",
    "df = pd.concat([df, df_time], axis=1)\n",
    "df = df.drop('time', axis=1)"
   ]
  },
  {
   "cell_type": "code",
   "execution_count": 143,
   "metadata": {
    "ExecuteTime": {
     "end_time": "2019-08-08T13:37:47.738538Z",
     "start_time": "2019-08-08T13:37:47.723525Z"
    }
   },
   "outputs": [],
   "source": [
    "df_hoamTeam = pd.get_dummies(df.hoamTeam)\n",
    "df = pd.concat([df, df_hoamTeam], axis=1)\n",
    "df = df.drop('hoamTeam', axis=1)"
   ]
  },
  {
   "cell_type": "code",
   "execution_count": 144,
   "metadata": {
    "ExecuteTime": {
     "end_time": "2019-08-08T13:37:47.959535Z",
     "start_time": "2019-08-08T13:37:47.944538Z"
    }
   },
   "outputs": [],
   "source": [
    "df_guestTeam = pd.get_dummies(df.guestTeam)\n",
    "df = pd.concat([df, df_guestTeam], axis=1)\n",
    "df = df.drop('guestTeam', axis=1)"
   ]
  },
  {
   "cell_type": "code",
   "execution_count": 145,
   "metadata": {
    "ExecuteTime": {
     "end_time": "2019-08-08T13:37:48.170522Z",
     "start_time": "2019-08-08T13:37:48.161523Z"
    }
   },
   "outputs": [
    {
     "data": {
      "text/plain": [
       "(533, 203)"
      ]
     },
     "execution_count": 145,
     "metadata": {},
     "output_type": "execute_result"
    }
   ],
   "source": [
    "df.shape"
   ]
  },
  {
   "cell_type": "code",
   "execution_count": 152,
   "metadata": {
    "ExecuteTime": {
     "end_time": "2019-08-08T13:40:54.216528Z",
     "start_time": "2019-08-08T13:40:54.174520Z"
    }
   },
   "outputs": [
    {
     "data": {
      "text/html": [
       "<div>\n",
       "<style scoped>\n",
       "    .dataframe tbody tr th:only-of-type {\n",
       "        vertical-align: middle;\n",
       "    }\n",
       "\n",
       "    .dataframe tbody tr th {\n",
       "        vertical-align: top;\n",
       "    }\n",
       "\n",
       "    .dataframe thead th {\n",
       "        text-align: right;\n",
       "    }\n",
       "</style>\n",
       "<table border=\"1\" class=\"dataframe\">\n",
       "  <thead>\n",
       "    <tr style=\"text-align: right;\">\n",
       "      <th></th>\n",
       "      <th>year</th>\n",
       "      <th>month</th>\n",
       "      <th>break</th>\n",
       "      <th>homeTotalGoalsShoot</th>\n",
       "      <th>homeTotalGoalsReceived</th>\n",
       "      <th>homeTotalGoalDiff</th>\n",
       "      <th>guestTotalGoalsShoot</th>\n",
       "      <th>guestTotalGoalsReceived</th>\n",
       "      <th>guestTotalGoalDiff</th>\n",
       "      <th>homeTeamGoalsShootAtHome</th>\n",
       "      <th>...</th>\n",
       "      <th>SV Wimpassing</th>\n",
       "      <th>Shkendija Tetovo</th>\n",
       "      <th>Slovan Bratislava</th>\n",
       "      <th>Spartak Moskau</th>\n",
       "      <th>TSV Hartberg</th>\n",
       "      <th>Vitória Guimarães SC</th>\n",
       "      <th>WSG Tirol</th>\n",
       "      <th>WSG Wattens</th>\n",
       "      <th>Wolfsberger AC</th>\n",
       "      <th>ZSKA Sofia</th>\n",
       "    </tr>\n",
       "  </thead>\n",
       "  <tbody>\n",
       "    <tr>\n",
       "      <th>0</th>\n",
       "      <td>2017</td>\n",
       "      <td>7</td>\n",
       "      <td>45</td>\n",
       "      <td>0.00</td>\n",
       "      <td>0.0</td>\n",
       "      <td>0.00</td>\n",
       "      <td>0.000000</td>\n",
       "      <td>0.0</td>\n",
       "      <td>0.000000</td>\n",
       "      <td>0.0</td>\n",
       "      <td>...</td>\n",
       "      <td>0</td>\n",
       "      <td>0</td>\n",
       "      <td>0</td>\n",
       "      <td>0</td>\n",
       "      <td>0</td>\n",
       "      <td>0</td>\n",
       "      <td>0</td>\n",
       "      <td>0</td>\n",
       "      <td>0</td>\n",
       "      <td>0</td>\n",
       "    </tr>\n",
       "    <tr>\n",
       "      <th>1</th>\n",
       "      <td>2017</td>\n",
       "      <td>7</td>\n",
       "      <td>4</td>\n",
       "      <td>0.00</td>\n",
       "      <td>0.0</td>\n",
       "      <td>0.00</td>\n",
       "      <td>3.000000</td>\n",
       "      <td>0.0</td>\n",
       "      <td>3.000000</td>\n",
       "      <td>0.0</td>\n",
       "      <td>...</td>\n",
       "      <td>0</td>\n",
       "      <td>0</td>\n",
       "      <td>0</td>\n",
       "      <td>0</td>\n",
       "      <td>0</td>\n",
       "      <td>0</td>\n",
       "      <td>0</td>\n",
       "      <td>0</td>\n",
       "      <td>0</td>\n",
       "      <td>0</td>\n",
       "    </tr>\n",
       "    <tr>\n",
       "      <th>2</th>\n",
       "      <td>2017</td>\n",
       "      <td>7</td>\n",
       "      <td>4</td>\n",
       "      <td>5.00</td>\n",
       "      <td>0.0</td>\n",
       "      <td>5.00</td>\n",
       "      <td>0.000000</td>\n",
       "      <td>3.0</td>\n",
       "      <td>-3.000000</td>\n",
       "      <td>0.0</td>\n",
       "      <td>...</td>\n",
       "      <td>0</td>\n",
       "      <td>0</td>\n",
       "      <td>0</td>\n",
       "      <td>0</td>\n",
       "      <td>0</td>\n",
       "      <td>0</td>\n",
       "      <td>0</td>\n",
       "      <td>0</td>\n",
       "      <td>0</td>\n",
       "      <td>0</td>\n",
       "    </tr>\n",
       "    <tr>\n",
       "      <th>3</th>\n",
       "      <td>2017</td>\n",
       "      <td>7</td>\n",
       "      <td>3</td>\n",
       "      <td>0.00</td>\n",
       "      <td>0.0</td>\n",
       "      <td>0.00</td>\n",
       "      <td>4.333333</td>\n",
       "      <td>0.0</td>\n",
       "      <td>4.333333</td>\n",
       "      <td>0.0</td>\n",
       "      <td>...</td>\n",
       "      <td>0</td>\n",
       "      <td>0</td>\n",
       "      <td>0</td>\n",
       "      <td>0</td>\n",
       "      <td>0</td>\n",
       "      <td>0</td>\n",
       "      <td>0</td>\n",
       "      <td>0</td>\n",
       "      <td>0</td>\n",
       "      <td>0</td>\n",
       "    </tr>\n",
       "    <tr>\n",
       "      <th>4</th>\n",
       "      <td>2017</td>\n",
       "      <td>7</td>\n",
       "      <td>4</td>\n",
       "      <td>3.75</td>\n",
       "      <td>0.0</td>\n",
       "      <td>3.75</td>\n",
       "      <td>0.000000</td>\n",
       "      <td>0.0</td>\n",
       "      <td>0.000000</td>\n",
       "      <td>3.0</td>\n",
       "      <td>...</td>\n",
       "      <td>0</td>\n",
       "      <td>0</td>\n",
       "      <td>0</td>\n",
       "      <td>0</td>\n",
       "      <td>0</td>\n",
       "      <td>0</td>\n",
       "      <td>0</td>\n",
       "      <td>0</td>\n",
       "      <td>0</td>\n",
       "      <td>0</td>\n",
       "    </tr>\n",
       "  </tbody>\n",
       "</table>\n",
       "<p>5 rows × 203 columns</p>\n",
       "</div>"
      ],
      "text/plain": [
       "   year  month  break  homeTotalGoalsShoot  homeTotalGoalsReceived  \\\n",
       "0  2017      7     45                 0.00                     0.0   \n",
       "1  2017      7      4                 0.00                     0.0   \n",
       "2  2017      7      4                 5.00                     0.0   \n",
       "3  2017      7      3                 0.00                     0.0   \n",
       "4  2017      7      4                 3.75                     0.0   \n",
       "\n",
       "   homeTotalGoalDiff  guestTotalGoalsShoot  guestTotalGoalsReceived  \\\n",
       "0               0.00              0.000000                      0.0   \n",
       "1               0.00              3.000000                      0.0   \n",
       "2               5.00              0.000000                      3.0   \n",
       "3               0.00              4.333333                      0.0   \n",
       "4               3.75              0.000000                      0.0   \n",
       "\n",
       "   guestTotalGoalDiff  homeTeamGoalsShootAtHome  ...  SV Wimpassing  \\\n",
       "0            0.000000                       0.0  ...              0   \n",
       "1            3.000000                       0.0  ...              0   \n",
       "2           -3.000000                       0.0  ...              0   \n",
       "3            4.333333                       0.0  ...              0   \n",
       "4            0.000000                       3.0  ...              0   \n",
       "\n",
       "   Shkendija Tetovo  Slovan Bratislava  Spartak Moskau  TSV Hartberg  \\\n",
       "0                 0                  0               0             0   \n",
       "1                 0                  0               0             0   \n",
       "2                 0                  0               0             0   \n",
       "3                 0                  0               0             0   \n",
       "4                 0                  0               0             0   \n",
       "\n",
       "   Vitória Guimarães SC  WSG Tirol  WSG Wattens  Wolfsberger AC  ZSKA Sofia  \n",
       "0                     0          0            0               0           0  \n",
       "1                     0          0            0               0           0  \n",
       "2                     0          0            0               0           0  \n",
       "3                     0          0            0               0           0  \n",
       "4                     0          0            0               0           0  \n",
       "\n",
       "[5 rows x 203 columns]"
      ]
     },
     "execution_count": 152,
     "metadata": {},
     "output_type": "execute_result"
    }
   ],
   "source": [
    "df.head()"
   ]
  },
  {
   "cell_type": "code",
   "execution_count": 153,
   "metadata": {
    "ExecuteTime": {
     "end_time": "2019-08-08T13:40:55.094351Z",
     "start_time": "2019-08-08T13:40:55.064347Z"
    }
   },
   "outputs": [
    {
     "name": "stdout",
     "output_type": "stream",
     "text": [
      "<class 'pandas.core.frame.DataFrame'>\n",
      "Int64Index: 533 entries, 0 to 5\n",
      "Columns: 203 entries, year to ZSKA Sofia\n",
      "dtypes: float64(20), int64(3), uint8(180)\n",
      "memory usage: 193.6 KB\n"
     ]
    }
   ],
   "source": [
    "df.info()"
   ]
  },
  {
   "cell_type": "code",
   "execution_count": 154,
   "metadata": {
    "ExecuteTime": {
     "end_time": "2019-08-08T13:40:55.925716Z",
     "start_time": "2019-08-08T13:40:55.919712Z"
    }
   },
   "outputs": [],
   "source": [
    "X = df[:ndf]\n",
    "pred_df = df[ndf:]"
   ]
  },
  {
   "cell_type": "code",
   "execution_count": 155,
   "metadata": {
    "ExecuteTime": {
     "end_time": "2019-08-08T13:40:56.522152Z",
     "start_time": "2019-08-08T13:40:56.513139Z"
    }
   },
   "outputs": [
    {
     "data": {
      "text/plain": [
       "((527, 203), (6, 203))"
      ]
     },
     "execution_count": 155,
     "metadata": {},
     "output_type": "execute_result"
    }
   ],
   "source": [
    "X.shape, pred_df.shape"
   ]
  },
  {
   "cell_type": "code",
   "execution_count": 156,
   "metadata": {
    "ExecuteTime": {
     "end_time": "2019-08-08T13:41:12.973175Z",
     "start_time": "2019-08-08T13:41:12.968175Z"
    }
   },
   "outputs": [],
   "source": [
    "from sklearn.model_selection import train_test_split"
   ]
  },
  {
   "cell_type": "code",
   "execution_count": 157,
   "metadata": {
    "ExecuteTime": {
     "end_time": "2019-08-08T13:41:13.600264Z",
     "start_time": "2019-08-08T13:41:13.582689Z"
    }
   },
   "outputs": [],
   "source": [
    "X_train, X_test, y_reg_train, y_reg_test, y_class_train, y_class_test = train_test_split(\n",
    "    X, y_reg, y_cat, test_size=0.2, random_state=123)"
   ]
  },
  {
   "cell_type": "code",
   "execution_count": 158,
   "metadata": {
    "ExecuteTime": {
     "end_time": "2019-08-08T13:41:14.046252Z",
     "start_time": "2019-08-08T13:41:14.041252Z"
    }
   },
   "outputs": [],
   "source": [
    "from sklearn.preprocessing import StandardScaler"
   ]
  },
  {
   "cell_type": "code",
   "execution_count": 159,
   "metadata": {
    "ExecuteTime": {
     "end_time": "2019-08-08T13:41:14.477256Z",
     "start_time": "2019-08-08T13:41:14.456263Z"
    }
   },
   "outputs": [],
   "source": [
    "scaler = StandardScaler()\n",
    "\n",
    "scaler.fit(X_train)\n",
    "\n",
    "X_train_scaled = scaler.transform(X_train)\n",
    "X_test_scaled = scaler.transform(X_test)"
   ]
  },
  {
   "cell_type": "code",
   "execution_count": 160,
   "metadata": {
    "ExecuteTime": {
     "end_time": "2019-08-08T13:41:15.032220Z",
     "start_time": "2019-08-08T13:41:15.024218Z"
    }
   },
   "outputs": [],
   "source": [
    "from keras.models import Model, Sequential\n",
    "from keras.layers import Dense, Input, BatchNormalization\n",
    "from keras.utils import plot_model\n",
    "from keras.callbacks import EarlyStopping, ModelCheckpoint\n",
    "\n",
    "early_stopping_monitor = EarlyStopping(patience=4)"
   ]
  },
  {
   "cell_type": "code",
   "execution_count": 161,
   "metadata": {
    "ExecuteTime": {
     "end_time": "2019-08-08T13:41:15.785276Z",
     "start_time": "2019-08-08T13:41:15.780279Z"
    }
   },
   "outputs": [],
   "source": [
    "model_save = ModelCheckpoint('best_model.hdf5', save_best_only=True, monitor='val_Classification_acc')"
   ]
  },
  {
   "cell_type": "code",
   "execution_count": 162,
   "metadata": {
    "ExecuteTime": {
     "end_time": "2019-08-08T13:41:16.275281Z",
     "start_time": "2019-08-08T13:41:16.266280Z"
    }
   },
   "outputs": [
    {
     "data": {
      "text/plain": [
       "(203, 3)"
      ]
     },
     "execution_count": 162,
     "metadata": {},
     "output_type": "execute_result"
    }
   ],
   "source": [
    "in_cols=X_train.shape[1]\n",
    "out_cols=y_cat.shape[1]\n",
    "\n",
    "in_cols, out_cols"
   ]
  },
  {
   "cell_type": "code",
   "execution_count": 163,
   "metadata": {
    "ExecuteTime": {
     "end_time": "2019-08-08T13:41:20.683056Z",
     "start_time": "2019-08-08T13:41:20.565051Z"
    }
   },
   "outputs": [],
   "source": [
    "model_1 = Sequential()\n",
    "\n",
    "model_1.add(Dense(12, input_shape=(in_cols,), activation='relu', ))\n",
    "model_1.add(Dense(12, activation='relu'))\n",
    "model_1.add(Dense(1))\n"
   ]
  },
  {
   "cell_type": "code",
   "execution_count": 164,
   "metadata": {
    "ExecuteTime": {
     "end_time": "2019-08-08T13:41:21.491607Z",
     "start_time": "2019-08-08T13:41:21.409598Z"
    }
   },
   "outputs": [],
   "source": [
    "model_1.compile(optimizer='adam', loss='mse')"
   ]
  },
  {
   "cell_type": "code",
   "execution_count": 165,
   "metadata": {
    "ExecuteTime": {
     "end_time": "2019-08-08T13:41:31.247896Z",
     "start_time": "2019-08-08T13:41:22.740697Z"
    },
    "scrolled": true
   },
   "outputs": [
    {
     "name": "stdout",
     "output_type": "stream",
     "text": [
      "Train on 421 samples, validate on 106 samples\n",
      "Epoch 1/100\n",
      "421/421 [==============================] - 1s 3ms/step - loss: 5.5714 - val_loss: 4.7566\n",
      "Epoch 2/100\n",
      "421/421 [==============================] - 0s 121us/step - loss: 4.8926 - val_loss: 4.6096\n",
      "Epoch 3/100\n",
      "421/421 [==============================] - 0s 114us/step - loss: 4.4820 - val_loss: 4.5257\n",
      "Epoch 4/100\n",
      "421/421 [==============================] - 0s 133us/step - loss: 4.2041 - val_loss: 4.4695\n",
      "Epoch 5/100\n",
      "421/421 [==============================] - 0s 140us/step - loss: 3.9597 - val_loss: 4.3970\n",
      "Epoch 6/100\n",
      "421/421 [==============================] - 0s 114us/step - loss: 3.7569 - val_loss: 4.3341\n",
      "Epoch 7/100\n",
      "421/421 [==============================] - 0s 121us/step - loss: 3.5590 - val_loss: 4.2925\n",
      "Epoch 8/100\n",
      "421/421 [==============================] - 0s 124us/step - loss: 3.3850 - val_loss: 4.2506\n",
      "Epoch 9/100\n",
      "421/421 [==============================] - 0s 133us/step - loss: 3.2268 - val_loss: 4.2091\n",
      "Epoch 10/100\n",
      "421/421 [==============================] - 0s 116us/step - loss: 3.0774 - val_loss: 4.1907\n",
      "Epoch 11/100\n",
      "421/421 [==============================] - 0s 138us/step - loss: 2.9359 - val_loss: 4.1813\n",
      "Epoch 12/100\n",
      "421/421 [==============================] - 0s 107us/step - loss: 2.8151 - val_loss: 4.1972\n",
      "Epoch 13/100\n",
      "421/421 [==============================] - 0s 164us/step - loss: 2.6954 - val_loss: 4.2130\n",
      "Epoch 14/100\n",
      "421/421 [==============================] - 0s 112us/step - loss: 2.5934 - val_loss: 4.2195\n",
      "Epoch 15/100\n",
      "421/421 [==============================] - 0s 109us/step - loss: 2.4997 - val_loss: 4.2515\n",
      "Epoch 16/100\n",
      "421/421 [==============================] - 0s 119us/step - loss: 2.4143 - val_loss: 4.3077\n",
      "Epoch 17/100\n",
      "421/421 [==============================] - 0s 126us/step - loss: 2.3280 - val_loss: 4.3723\n",
      "Epoch 18/100\n",
      "421/421 [==============================] - 0s 124us/step - loss: 2.2590 - val_loss: 4.4241\n",
      "Epoch 19/100\n",
      "421/421 [==============================] - 0s 126us/step - loss: 2.1951 - val_loss: 4.4380\n",
      "Epoch 20/100\n",
      "421/421 [==============================] - 0s 128us/step - loss: 2.1318 - val_loss: 4.4567\n",
      "Epoch 21/100\n",
      "421/421 [==============================] - 0s 126us/step - loss: 2.0794 - val_loss: 4.5150\n",
      "Epoch 22/100\n",
      "421/421 [==============================] - 0s 178us/step - loss: 2.0276 - val_loss: 4.5774\n",
      "Epoch 23/100\n",
      "421/421 [==============================] - 0s 133us/step - loss: 1.9803 - val_loss: 4.5988\n",
      "Epoch 24/100\n",
      "421/421 [==============================] - 0s 178us/step - loss: 1.9333 - val_loss: 4.6303\n",
      "Epoch 25/100\n",
      "421/421 [==============================] - 0s 138us/step - loss: 1.8851 - val_loss: 4.6532\n",
      "Epoch 26/100\n",
      "421/421 [==============================] - 0s 114us/step - loss: 1.8512 - val_loss: 4.6994\n",
      "Epoch 27/100\n",
      "421/421 [==============================] - 0s 133us/step - loss: 1.8111 - val_loss: 4.7308\n",
      "Epoch 28/100\n",
      "421/421 [==============================] - 0s 124us/step - loss: 1.7706 - val_loss: 4.7819\n",
      "Epoch 29/100\n",
      "421/421 [==============================] - 0s 116us/step - loss: 1.7399 - val_loss: 4.8145\n",
      "Epoch 30/100\n",
      "421/421 [==============================] - 0s 133us/step - loss: 1.7082 - val_loss: 4.8285\n",
      "Epoch 31/100\n",
      "421/421 [==============================] - 0s 133us/step - loss: 1.6756 - val_loss: 4.8639\n",
      "Epoch 32/100\n",
      "421/421 [==============================] - 0s 109us/step - loss: 1.6426 - val_loss: 4.8583\n",
      "Epoch 33/100\n",
      "421/421 [==============================] - 0s 126us/step - loss: 1.6143 - val_loss: 4.9042\n",
      "Epoch 34/100\n",
      "421/421 [==============================] - 0s 171us/step - loss: 1.5835 - val_loss: 4.9752\n",
      "Epoch 35/100\n",
      "421/421 [==============================] - 0s 135us/step - loss: 1.5594 - val_loss: 4.9890\n",
      "Epoch 36/100\n",
      "421/421 [==============================] - 0s 164us/step - loss: 1.5327 - val_loss: 4.9921\n",
      "Epoch 37/100\n",
      "421/421 [==============================] - 0s 131us/step - loss: 1.5088 - val_loss: 4.9850\n",
      "Epoch 38/100\n",
      "421/421 [==============================] - 0s 107us/step - loss: 1.4864 - val_loss: 4.9551\n",
      "Epoch 39/100\n",
      "421/421 [==============================] - 0s 135us/step - loss: 1.4564 - val_loss: 5.0007\n",
      "Epoch 40/100\n",
      "421/421 [==============================] - 0s 135us/step - loss: 1.4283 - val_loss: 5.0350\n",
      "Epoch 41/100\n",
      "421/421 [==============================] - 0s 109us/step - loss: 1.4085 - val_loss: 5.0734\n",
      "Epoch 42/100\n",
      "421/421 [==============================] - ETA: 0s - loss: 1.917 - 0s 138us/step - loss: 1.3901 - val_loss: 5.0730\n",
      "Epoch 43/100\n",
      "421/421 [==============================] - 0s 121us/step - loss: 1.3673 - val_loss: 5.1034\n",
      "Epoch 44/100\n",
      "421/421 [==============================] - 0s 121us/step - loss: 1.3497 - val_loss: 5.0922\n",
      "Epoch 45/100\n",
      "421/421 [==============================] - 0s 116us/step - loss: 1.3248 - val_loss: 5.0984\n",
      "Epoch 46/100\n",
      "421/421 [==============================] - 0s 133us/step - loss: 1.3117 - val_loss: 5.1315\n",
      "Epoch 47/100\n",
      "421/421 [==============================] - 0s 116us/step - loss: 1.2884 - val_loss: 5.1146\n",
      "Epoch 48/100\n",
      "421/421 [==============================] - 0s 128us/step - loss: 1.2709 - val_loss: 5.1515\n",
      "Epoch 49/100\n",
      "421/421 [==============================] - 0s 121us/step - loss: 1.2497 - val_loss: 5.1551\n",
      "Epoch 50/100\n",
      "421/421 [==============================] - 0s 173us/step - loss: 1.2298 - val_loss: 5.1595\n",
      "Epoch 51/100\n",
      "421/421 [==============================] - 0s 119us/step - loss: 1.2094 - val_loss: 5.1887\n",
      "Epoch 52/100\n",
      "421/421 [==============================] - 0s 143us/step - loss: 1.1929 - val_loss: 5.1980\n",
      "Epoch 53/100\n",
      "421/421 [==============================] - ETA: 0s - loss: 1.522 - 0s 114us/step - loss: 1.1707 - val_loss: 5.2507\n",
      "Epoch 54/100\n",
      "421/421 [==============================] - 0s 138us/step - loss: 1.1499 - val_loss: 5.2876\n",
      "Epoch 55/100\n",
      "421/421 [==============================] - 0s 124us/step - loss: 1.1289 - val_loss: 5.3287\n",
      "Epoch 56/100\n",
      "421/421 [==============================] - 0s 114us/step - loss: 1.1070 - val_loss: 5.3862\n",
      "Epoch 57/100\n",
      "421/421 [==============================] - 0s 166us/step - loss: 1.0872 - val_loss: 5.4187\n",
      "Epoch 58/100\n",
      "421/421 [==============================] - 0s 119us/step - loss: 1.0667 - val_loss: 5.4443\n",
      "Epoch 59/100\n",
      "421/421 [==============================] - 0s 112us/step - loss: 1.0585 - val_loss: 5.4356\n",
      "Epoch 60/100\n",
      "421/421 [==============================] - 0s 145us/step - loss: 1.0338 - val_loss: 5.4879\n",
      "Epoch 61/100\n",
      "421/421 [==============================] - 0s 150us/step - loss: 1.0160 - val_loss: 5.4913\n",
      "Epoch 62/100\n",
      "421/421 [==============================] - 0s 112us/step - loss: 0.9979 - val_loss: 5.5132\n",
      "Epoch 63/100\n",
      "421/421 [==============================] - 0s 150us/step - loss: 0.9786 - val_loss: 5.6157\n",
      "Epoch 64/100\n",
      "421/421 [==============================] - 0s 321us/step - loss: 0.9640 - val_loss: 5.5937\n",
      "Epoch 65/100\n",
      "421/421 [==============================] - 0s 171us/step - loss: 0.9484 - val_loss: 5.6746\n",
      "Epoch 66/100\n",
      "421/421 [==============================] - 0s 169us/step - loss: 0.9301 - val_loss: 5.7051\n",
      "Epoch 67/100\n",
      "421/421 [==============================] - 0s 207us/step - loss: 0.9195 - val_loss: 5.6966\n",
      "Epoch 68/100\n",
      "421/421 [==============================] - 0s 93us/step - loss: 0.9006 - val_loss: 5.7590\n",
      "Epoch 69/100\n",
      "421/421 [==============================] - 0s 111us/step - loss: 0.8762 - val_loss: 5.7327\n",
      "Epoch 70/100\n",
      "421/421 [==============================] - 0s 295us/step - loss: 0.8627 - val_loss: 5.7662\n",
      "Epoch 71/100\n",
      "421/421 [==============================] - 0s 124us/step - loss: 0.8435 - val_loss: 5.8195\n",
      "Epoch 72/100\n",
      "421/421 [==============================] - 0s 133us/step - loss: 0.8382 - val_loss: 5.8174\n",
      "Epoch 73/100\n",
      "421/421 [==============================] - 0s 119us/step - loss: 0.8184 - val_loss: 5.8724\n",
      "Epoch 74/100\n",
      "421/421 [==============================] - 0s 131us/step - loss: 0.8002 - val_loss: 5.9015\n",
      "Epoch 75/100\n",
      "421/421 [==============================] - 0s 116us/step - loss: 0.7864 - val_loss: 5.9524\n",
      "Epoch 76/100\n",
      "421/421 [==============================] - 0s 119us/step - loss: 0.7815 - val_loss: 5.8414\n",
      "Epoch 77/100\n",
      "421/421 [==============================] - 0s 169us/step - loss: 0.7616 - val_loss: 5.9889\n",
      "Epoch 78/100\n",
      "421/421 [==============================] - 0s 178us/step - loss: 0.7436 - val_loss: 5.9428\n"
     ]
    },
    {
     "name": "stdout",
     "output_type": "stream",
     "text": [
      "Epoch 79/100\n",
      "421/421 [==============================] - 0s 219us/step - loss: 0.7307 - val_loss: 6.0556\n",
      "Epoch 80/100\n",
      "421/421 [==============================] - 0s 188us/step - loss: 0.7166 - val_loss: 5.9505\n",
      "Epoch 81/100\n",
      "421/421 [==============================] - 0s 119us/step - loss: 0.7020 - val_loss: 5.9263\n",
      "Epoch 82/100\n",
      "421/421 [==============================] - 0s 121us/step - loss: 0.6891 - val_loss: 6.0372\n",
      "Epoch 83/100\n",
      "421/421 [==============================] - 0s 124us/step - loss: 0.6695 - val_loss: 6.1062\n",
      "Epoch 84/100\n",
      "421/421 [==============================] - 0s 116us/step - loss: 0.6548 - val_loss: 6.1144\n",
      "Epoch 85/100\n",
      "421/421 [==============================] - 0s 195us/step - loss: 0.6455 - val_loss: 6.0696\n",
      "Epoch 86/100\n",
      "421/421 [==============================] - 0s 145us/step - loss: 0.6363 - val_loss: 6.2168\n",
      "Epoch 87/100\n",
      "421/421 [==============================] - 0s 169us/step - loss: 0.6155 - val_loss: 6.1922\n",
      "Epoch 88/100\n",
      "421/421 [==============================] - 0s 154us/step - loss: 0.6013 - val_loss: 6.1565\n",
      "Epoch 89/100\n",
      "421/421 [==============================] - 0s 152us/step - loss: 0.5874 - val_loss: 6.2190\n",
      "Epoch 90/100\n",
      "421/421 [==============================] - 0s 161us/step - loss: 0.5754 - val_loss: 6.2915\n",
      "Epoch 91/100\n",
      "421/421 [==============================] - 0s 142us/step - loss: 0.5640 - val_loss: 6.2744\n",
      "Epoch 92/100\n",
      "421/421 [==============================] - 0s 124us/step - loss: 0.5528 - val_loss: 6.2855\n",
      "Epoch 93/100\n",
      "421/421 [==============================] - 0s 147us/step - loss: 0.5387 - val_loss: 6.3530\n",
      "Epoch 94/100\n",
      "421/421 [==============================] - 0s 138us/step - loss: 0.5289 - val_loss: 6.4050\n",
      "Epoch 95/100\n",
      "421/421 [==============================] - 0s 173us/step - loss: 0.5161 - val_loss: 6.4914\n",
      "Epoch 96/100\n",
      "421/421 [==============================] - 0s 178us/step - loss: 0.5114 - val_loss: 6.4677\n",
      "Epoch 97/100\n",
      "421/421 [==============================] - 0s 128us/step - loss: 0.4957 - val_loss: 6.4620\n",
      "Epoch 98/100\n",
      "421/421 [==============================] - 0s 162us/step - loss: 0.4926 - val_loss: 6.4766\n",
      "Epoch 99/100\n",
      "421/421 [==============================] - 0s 183us/step - loss: 0.4873 - val_loss: 6.6233\n",
      "Epoch 100/100\n",
      "421/421 [==============================] - 0s 195us/step - loss: 0.4683 - val_loss: 6.6550\n"
     ]
    }
   ],
   "source": [
    "model_1_training = model_1.fit(\n",
    "    X_train_scaled,\n",
    "    y_reg_train,\n",
    "    validation_data=[X_test_scaled,y_reg_test],\n",
    "    epochs=100\n",
    ")"
   ]
  },
  {
   "cell_type": "code",
   "execution_count": 166,
   "metadata": {
    "ExecuteTime": {
     "end_time": "2019-08-08T13:42:01.078893Z",
     "start_time": "2019-08-08T13:42:00.668481Z"
    },
    "scrolled": false
   },
   "outputs": [
    {
     "data": {
      "text/plain": [
       "<matplotlib.legend.Legend at 0x187d2ebfba8>"
      ]
     },
     "execution_count": 166,
     "metadata": {},
     "output_type": "execute_result"
    },
    {
     "data": {
      "image/png": "[encoded data removed]",
      "text/plain": [
       "<Figure size 432x288 with 1 Axes>"
      ]
     },
     "metadata": {
      "needs_background": "light"
     },
     "output_type": "display_data"
    }
   ],
   "source": [
    "plt.plot(model_1_training.history['loss'])\n",
    "plt.xlabel('Epochs')\n",
    "plt.ylim([0, 5])\n",
    "plt.title('Total Loss over Epochs')\n",
    "plt.plot(model_1_training.history['val_loss'])\n",
    "plt.legend(['Total Training loss', 'Total Prediction loss'])"
   ]
  },
  {
   "cell_type": "code",
   "execution_count": 167,
   "metadata": {
    "ExecuteTime": {
     "end_time": "2019-08-08T13:42:04.711633Z",
     "start_time": "2019-08-08T13:42:04.706642Z"
    }
   },
   "outputs": [],
   "source": [
    "from sklearn.ensemble import RandomForestRegressor\n",
    "from sklearn.metrics import mean_squared_error"
   ]
  },
  {
   "cell_type": "code",
   "execution_count": 168,
   "metadata": {
    "ExecuteTime": {
     "end_time": "2019-08-08T13:42:14.862864Z",
     "start_time": "2019-08-08T13:42:05.461503Z"
    }
   },
   "outputs": [
    {
     "data": {
      "text/plain": [
       "0.8908537516954287"
      ]
     },
     "execution_count": 168,
     "metadata": {},
     "output_type": "execute_result"
    }
   ],
   "source": [
    "rfr = RandomForestRegressor(n_estimators=1000)\n",
    "\n",
    "rfr.fit(X_train, y_reg_train)\n",
    "rfr.score(X_train, y_reg_train)"
   ]
  },
  {
   "cell_type": "code",
   "execution_count": 169,
   "metadata": {
    "ExecuteTime": {
     "end_time": "2019-08-08T13:42:17.255579Z",
     "start_time": "2019-08-08T13:42:16.958107Z"
    }
   },
   "outputs": [],
   "source": [
    "rfr.score(X_test, y_reg_test)\n",
    "pred_y = rfr.predict(X_test)"
   ]
  },
  {
   "cell_type": "code",
   "execution_count": 170,
   "metadata": {
    "ExecuteTime": {
     "end_time": "2019-08-08T13:42:18.957915Z",
     "start_time": "2019-08-08T13:42:18.944915Z"
    }
   },
   "outputs": [
    {
     "data": {
      "text/plain": [
       "40.38322524795849"
      ]
     },
     "execution_count": 170,
     "metadata": {},
     "output_type": "execute_result"
    }
   ],
   "source": [
    "np.sqrt(mean_squared_error(np.exp(y_reg_test), np.exp(pred_y)))"
   ]
  },
  {
   "cell_type": "code",
   "execution_count": 171,
   "metadata": {
    "ExecuteTime": {
     "end_time": "2019-08-08T13:42:22.821789Z",
     "start_time": "2019-08-08T13:42:22.304661Z"
    }
   },
   "outputs": [],
   "source": [
    "input_tensor = Input(shape=(in_cols,))\n",
    "hidden_1 = Dense(8, activation='relu', name='hidden_1')(input_tensor)\n",
    "batch_1 = BatchNormalization()(hidden_1)\n",
    "hidden_2 = Dense(16, activation='relu', name='hidden_2')(batch_1)\n",
    "batch_2 = BatchNormalization()(hidden_2)\n",
    "hidden_3 = Dense(16, activation='relu', name='hidden_3')(batch_2)\n",
    "output_tensor_reg = Dense(1, name='Regression')(hidden_3)\n",
    "\n",
    "output_tensor_class = Dense(out_cols, activation='sigmoid', name='Classification')(output_tensor_reg)"
   ]
  },
  {
   "cell_type": "code",
   "execution_count": 172,
   "metadata": {
    "ExecuteTime": {
     "end_time": "2019-08-08T13:42:23.731071Z",
     "start_time": "2019-08-08T13:42:23.725067Z"
    }
   },
   "outputs": [],
   "source": [
    "model_2 = Model(input_tensor, [output_tensor_reg, output_tensor_class])"
   ]
  },
  {
   "cell_type": "code",
   "execution_count": 173,
   "metadata": {
    "ExecuteTime": {
     "end_time": "2019-08-08T13:42:24.326071Z",
     "start_time": "2019-08-08T13:42:24.167066Z"
    }
   },
   "outputs": [],
   "source": [
    "model_2.compile(loss=['mse', 'categorical_crossentropy'],\n",
    "             optimizer='adam',\n",
    "             metrics=['accuracy'])"
   ]
  },
  {
   "cell_type": "code",
   "execution_count": 174,
   "metadata": {
    "ExecuteTime": {
     "end_time": "2019-08-08T13:42:24.533067Z",
     "start_time": "2019-08-08T13:42:24.519065Z"
    }
   },
   "outputs": [
    {
     "name": "stdout",
     "output_type": "stream",
     "text": [
      "_________________________________________________________________\n",
      "Layer (type)                 Output Shape              Param #   \n",
      "=================================================================\n",
      "input_4 (InputLayer)         (None, 203)               0         \n",
      "_________________________________________________________________\n",
      "hidden_1 (Dense)             (None, 8)                 1632      \n",
      "_________________________________________________________________\n",
      "batch_normalization_4 (Batch (None, 8)                 32        \n",
      "_________________________________________________________________\n",
      "hidden_2 (Dense)             (None, 16)                144       \n",
      "_________________________________________________________________\n",
      "batch_normalization_5 (Batch (None, 16)                64        \n",
      "_________________________________________________________________\n",
      "hidden_3 (Dense)             (None, 16)                272       \n",
      "_________________________________________________________________\n",
      "Regression (Dense)           (None, 1)                 17        \n",
      "_________________________________________________________________\n",
      "Classification (Dense)       (None, 3)                 6         \n",
      "=================================================================\n",
      "Total params: 2,167\n",
      "Trainable params: 2,119\n",
      "Non-trainable params: 48\n",
      "_________________________________________________________________\n"
     ]
    }
   ],
   "source": [
    "model_2.summary()"
   ]
  },
  {
   "cell_type": "code",
   "execution_count": 175,
   "metadata": {
    "ExecuteTime": {
     "end_time": "2019-08-08T13:42:46.349864Z",
     "start_time": "2019-08-08T13:42:25.724751Z"
    }
   },
   "outputs": [
    {
     "name": "stdout",
     "output_type": "stream",
     "text": [
      "Train on 421 samples, validate on 106 samples\n",
      "Epoch 1/50\n",
      "421/421 [==============================] - 4s 10ms/step - loss: 5.5818 - Regression_loss: 4.4874 - Classification_loss: 1.0944 - Regression_acc: 0.2185 - Classification_acc: 0.3302 - val_loss: 86778.9850 - val_Regression_loss: 86770.0757 - val_Classification_loss: 8.9092 - val_Regression_acc: 0.0000e+00 - val_Classification_acc: 0.3585\n",
      "Epoch 2/50\n",
      "421/421 [==============================] - 2s 5ms/step - loss: 5.5611 - Regression_loss: 4.4757 - Classification_loss: 1.0854 - Regression_acc: 0.2185 - Classification_acc: 0.3967 - val_loss: 93174.7125 - val_Regression_loss: 93165.8018 - val_Classification_loss: 8.9106 - val_Regression_acc: 0.0000e+00 - val_Classification_acc: 0.3774\n",
      "Epoch 3/50\n",
      "421/421 [==============================] - 2s 5ms/step - loss: 5.5455 - Regression_loss: 4.4670 - Classification_loss: 1.0785 - Regression_acc: 0.2185 - Classification_acc: 0.4276 - val_loss: 94259.7824 - val_Regression_loss: 94250.9108 - val_Classification_loss: 8.8715 - val_Regression_acc: 0.0000e+00 - val_Classification_acc: 0.3774\n",
      "Epoch 4/50\n",
      "421/421 [==============================] - 2s 5ms/step - loss: 5.5360 - Regression_loss: 4.4619 - Classification_loss: 1.0741 - Regression_acc: 0.2185 - Classification_acc: 0.4276 - val_loss: 81960.5556 - val_Regression_loss: 81951.7627 - val_Classification_loss: 8.7927 - val_Regression_acc: 0.0000e+00 - val_Classification_acc: 0.3774\n",
      "Epoch 5/50\n",
      "421/421 [==============================] - 2s 5ms/step - loss: 5.5289 - Regression_loss: 4.4583 - Classification_loss: 1.0706 - Regression_acc: 0.2185 - Classification_acc: 0.4276 - val_loss: 100287.1521 - val_Regression_loss: 100278.3847 - val_Classification_loss: 8.7671 - val_Regression_acc: 0.0000e+00 - val_Classification_acc: 0.3962\n",
      "Epoch 6/50\n",
      "421/421 [==============================] - 2s 4ms/step - loss: 5.5254 - Regression_loss: 4.4574 - Classification_loss: 1.0680 - Regression_acc: 0.2185 - Classification_acc: 0.4276 - val_loss: 89942.8827 - val_Regression_loss: 89934.0332 - val_Classification_loss: 8.8493 - val_Regression_acc: 0.0000e+00 - val_Classification_acc: 0.3774\n",
      "Epoch 7/50\n",
      "421/421 [==============================] - 2s 5ms/step - loss: 5.5219 - Regression_loss: 4.4549 - Classification_loss: 1.0670 - Regression_acc: 0.2185 - Classification_acc: 0.4276 - val_loss: 89852.1313 - val_Regression_loss: 89843.2135 - val_Classification_loss: 8.9176 - val_Regression_acc: 0.0000e+00 - val_Classification_acc: 0.3679\n",
      "Epoch 8/50\n",
      "421/421 [==============================] - 2s 5ms/step - loss: 5.5205 - Regression_loss: 4.4548 - Classification_loss: 1.0657 - Regression_acc: 0.2185 - Classification_acc: 0.4276 - val_loss: 99556.9231 - val_Regression_loss: 99548.0174 - val_Classification_loss: 8.9054 - val_Regression_acc: 0.0000e+00 - val_Classification_acc: 0.3774\n"
     ]
    }
   ],
   "source": [
    "model_2_training = model_2.fit(\n",
    "    X_train_scaled,\n",
    "    [y_reg_train, y_class_train],\n",
    "    validation_data=(X_test_scaled, [y_reg_test, y_class_test]),\n",
    "    batch_size=1,\n",
    "    epochs=50,\n",
    "    callbacks=[early_stopping_monitor],\n",
    "    verbose=True)"
   ]
  },
  {
   "cell_type": "code",
   "execution_count": 176,
   "metadata": {
    "ExecuteTime": {
     "end_time": "2019-08-08T13:42:46.896885Z",
     "start_time": "2019-08-08T13:42:46.357865Z"
    }
   },
   "outputs": [],
   "source": [
    "input_tensor = Input(shape=(in_cols,))\n",
    "hidden_1 = Dense(in_cols, activation='relu', name='hidden_1')(input_tensor)\n",
    "batch_1 = BatchNormalization()(hidden_1)\n",
    "hidden_2 = Dense(in_cols, activation='relu', name='hidden_2')(batch_1)\n",
    "output_tensor_reg = Dense(1, name='Regression')(hidden_2)\n",
    "\n",
    "output_tensor_class = Dense(out_cols, activation='sigmoid', name='Classification')(output_tensor_reg)"
   ]
  },
  {
   "cell_type": "code",
   "execution_count": 177,
   "metadata": {
    "ExecuteTime": {
     "end_time": "2019-08-08T13:42:46.925885Z",
     "start_time": "2019-08-08T13:42:46.916864Z"
    }
   },
   "outputs": [],
   "source": [
    "model_3 = Model(input_tensor, [output_tensor_reg, output_tensor_class])"
   ]
  },
  {
   "cell_type": "code",
   "execution_count": 178,
   "metadata": {
    "ExecuteTime": {
     "end_time": "2019-08-08T13:42:47.126869Z",
     "start_time": "2019-08-08T13:42:46.937867Z"
    }
   },
   "outputs": [],
   "source": [
    "model_3.compile(loss=['mse', 'categorical_crossentropy'],\n",
    "             optimizer='adam',\n",
    "             metrics=['accuracy'])"
   ]
  },
  {
   "cell_type": "code",
   "execution_count": 179,
   "metadata": {
    "ExecuteTime": {
     "end_time": "2019-08-08T13:42:47.162873Z",
     "start_time": "2019-08-08T13:42:47.133869Z"
    }
   },
   "outputs": [
    {
     "name": "stdout",
     "output_type": "stream",
     "text": [
      "_________________________________________________________________\n",
      "Layer (type)                 Output Shape              Param #   \n",
      "=================================================================\n",
      "input_5 (InputLayer)         (None, 203)               0         \n",
      "_________________________________________________________________\n",
      "hidden_1 (Dense)             (None, 203)               41412     \n",
      "_________________________________________________________________\n",
      "batch_normalization_6 (Batch (None, 203)               812       \n",
      "_________________________________________________________________\n",
      "hidden_2 (Dense)             (None, 203)               41412     \n",
      "_________________________________________________________________\n",
      "Regression (Dense)           (None, 1)                 204       \n",
      "_________________________________________________________________\n",
      "Classification (Dense)       (None, 3)                 6         \n",
      "=================================================================\n",
      "Total params: 83,846\n",
      "Trainable params: 83,440\n",
      "Non-trainable params: 406\n",
      "_________________________________________________________________\n"
     ]
    }
   ],
   "source": [
    "model_3.summary()"
   ]
  },
  {
   "cell_type": "code",
   "execution_count": 180,
   "metadata": {
    "ExecuteTime": {
     "end_time": "2019-08-08T13:47:27.006385Z",
     "start_time": "2019-08-08T13:42:47.169863Z"
    },
    "scrolled": true
   },
   "outputs": [
    {
     "name": "stdout",
     "output_type": "stream",
     "text": [
      "Train on 421 samples, validate on 106 samples\n",
      "Epoch 1/100\n",
      "421/421 [==============================] - 5s 12ms/step - loss: 5.5825 - Regression_loss: 4.4868 - Classification_loss: 1.0956 - Regression_acc: 0.2185 - Classification_acc: 0.4252 - val_loss: 201.0332 - val_Regression_loss: 198.0490 - val_Classification_loss: 2.9842 - val_Regression_acc: 0.0377 - val_Classification_acc: 0.3302\n",
      "Epoch 2/100\n",
      "421/421 [==============================] - 3s 7ms/step - loss: 5.5668 - Regression_loss: 4.4784 - Classification_loss: 1.0884 - Regression_acc: 0.2185 - Classification_acc: 0.4276 - val_loss: 194.0282 - val_Regression_loss: 191.3543 - val_Classification_loss: 2.6739 - val_Regression_acc: 0.0377 - val_Classification_acc: 0.3302\n",
      "Epoch 3/100\n",
      "421/421 [==============================] - 3s 8ms/step - loss: 5.5541 - Regression_loss: 4.4715 - Classification_loss: 1.0826 - Regression_acc: 0.2185 - Classification_acc: 0.4276 - val_loss: 199.3739 - val_Regression_loss: 196.8966 - val_Classification_loss: 2.4773 - val_Regression_acc: 0.0189 - val_Classification_acc: 0.3491\n",
      "Epoch 4/100\n",
      "421/421 [==============================] - 3s 7ms/step - loss: 5.5435 - Regression_loss: 4.4664 - Classification_loss: 1.0771 - Regression_acc: 0.2185 - Classification_acc: 0.4276 - val_loss: 198.5134 - val_Regression_loss: 196.1619 - val_Classification_loss: 2.3514 - val_Regression_acc: 0.0377 - val_Classification_acc: 0.3491\n",
      "Epoch 5/100\n",
      "421/421 [==============================] - 3s 6ms/step - loss: 5.5356 - Regression_loss: 4.4620 - Classification_loss: 1.0736 - Regression_acc: 0.2185 - Classification_acc: 0.4276 - val_loss: 200.0625 - val_Regression_loss: 197.9335 - val_Classification_loss: 2.1290 - val_Regression_acc: 0.0189 - val_Classification_acc: 0.3491\n",
      "Epoch 6/100\n",
      "421/421 [==============================] - 3s 7ms/step - loss: 5.5300 - Regression_loss: 4.4593 - Classification_loss: 1.0707 - Regression_acc: 0.2185 - Classification_acc: 0.4276 - val_loss: 199.1986 - val_Regression_loss: 197.1422 - val_Classification_loss: 2.0564 - val_Regression_acc: 0.0094 - val_Classification_acc: 0.3396\n",
      "Epoch 7/100\n",
      "421/421 [==============================] - 3s 7ms/step - loss: 5.5256 - Regression_loss: 4.4569 - Classification_loss: 1.0687 - Regression_acc: 0.2185 - Classification_acc: 0.4276 - val_loss: 206.7158 - val_Regression_loss: 204.9867 - val_Classification_loss: 1.7292 - val_Regression_acc: 0.0283 - val_Classification_acc: 0.4057\n",
      "Epoch 8/100\n",
      "421/421 [==============================] - 3s 7ms/step - loss: 5.5232 - Regression_loss: 4.4560 - Classification_loss: 1.0672 - Regression_acc: 0.2185 - Classification_acc: 0.4276 - val_loss: 200.9626 - val_Regression_loss: 199.2049 - val_Classification_loss: 1.7578 - val_Regression_acc: 0.0094 - val_Classification_acc: 0.3679\n",
      "Epoch 9/100\n",
      "421/421 [==============================] - 3s 6ms/step - loss: 5.5211 - Regression_loss: 4.4549 - Classification_loss: 1.0662 - Regression_acc: 0.2185 - Classification_acc: 0.4276 - val_loss: 198.2015 - val_Regression_loss: 196.5657 - val_Classification_loss: 1.6358 - val_Regression_acc: 0.0283 - val_Classification_acc: 0.3774\n",
      "Epoch 10/100\n",
      "421/421 [==============================] - 3s 7ms/step - loss: 5.5195 - Regression_loss: 4.4541 - Classification_loss: 1.0654 - Regression_acc: 0.2185 - Classification_acc: 0.4276 - val_loss: 207.3602 - val_Regression_loss: 205.8485 - val_Classification_loss: 1.5117 - val_Regression_acc: 0.0189 - val_Classification_acc: 0.4245\n",
      "Epoch 11/100\n",
      "421/421 [==============================] - 3s 6ms/step - loss: 5.5194 - Regression_loss: 4.4545 - Classification_loss: 1.0648 - Regression_acc: 0.2185 - Classification_acc: 0.4276 - val_loss: 194.6888 - val_Regression_loss: 193.1291 - val_Classification_loss: 1.5597 - val_Regression_acc: 0.0283 - val_Classification_acc: 0.3962\n",
      "Epoch 12/100\n",
      "421/421 [==============================] - 3s 6ms/step - loss: 5.5179 - Regression_loss: 4.4535 - Classification_loss: 1.0644 - Regression_acc: 0.2185 - Classification_acc: 0.4276 - val_loss: 198.3064 - val_Regression_loss: 196.7701 - val_Classification_loss: 1.5363 - val_Regression_acc: 0.0000e+00 - val_Classification_acc: 0.4057\n",
      "Epoch 13/100\n",
      "421/421 [==============================] - 3s 7ms/step - loss: 5.5167 - Regression_loss: 4.4526 - Classification_loss: 1.0641 - Regression_acc: 0.2185 - Classification_acc: 0.4276 - val_loss: 204.4887 - val_Regression_loss: 203.0294 - val_Classification_loss: 1.4593 - val_Regression_acc: 0.0377 - val_Classification_acc: 0.4245\n",
      "Epoch 14/100\n",
      "421/421 [==============================] - 3s 7ms/step - loss: 5.5180 - Regression_loss: 4.4539 - Classification_loss: 1.0641 - Regression_acc: 0.2185 - Classification_acc: 0.4276 - val_loss: 197.8196 - val_Regression_loss: 196.3457 - val_Classification_loss: 1.4739 - val_Regression_acc: 0.0377 - val_Classification_acc: 0.4245\n",
      "Epoch 15/100\n",
      "421/421 [==============================] - 3s 7ms/step - loss: 5.5169 - Regression_loss: 4.4529 - Classification_loss: 1.0639 - Regression_acc: 0.2185 - Classification_acc: 0.4276 - val_loss: 200.2520 - val_Regression_loss: 198.7874 - val_Classification_loss: 1.4646 - val_Regression_acc: 0.0283 - val_Classification_acc: 0.4434\n",
      "Epoch 16/100\n",
      "421/421 [==============================] - 3s 7ms/step - loss: 5.5168 - Regression_loss: 4.4530 - Classification_loss: 1.0638 - Regression_acc: 0.2185 - Classification_acc: 0.4276 - val_loss: 197.1045 - val_Regression_loss: 195.6209 - val_Classification_loss: 1.4836 - val_Regression_acc: 0.0189 - val_Classification_acc: 0.4528\n",
      "Epoch 17/100\n",
      "421/421 [==============================] - 3s 6ms/step - loss: 5.5164 - Regression_loss: 4.4527 - Classification_loss: 1.0638 - Regression_acc: 0.2185 - Classification_acc: 0.4276 - val_loss: 208.0315 - val_Regression_loss: 206.5912 - val_Classification_loss: 1.4403 - val_Regression_acc: 0.0189 - val_Classification_acc: 0.4340\n",
      "Epoch 18/100\n",
      "421/421 [==============================] - 3s 6ms/step - loss: 5.5174 - Regression_loss: 4.4535 - Classification_loss: 1.0638 - Regression_acc: 0.2185 - Classification_acc: 0.4276 - val_loss: 198.3411 - val_Regression_loss: 196.8273 - val_Classification_loss: 1.5139 - val_Regression_acc: 0.0000e+00 - val_Classification_acc: 0.4528\n",
      "Epoch 19/100\n",
      "421/421 [==============================] - 3s 7ms/step - loss: 5.5160 - Regression_loss: 4.4524 - Classification_loss: 1.0637 - Regression_acc: 0.2185 - Classification_acc: 0.4276 - val_loss: 199.5988 - val_Regression_loss: 198.1227 - val_Classification_loss: 1.4761 - val_Regression_acc: 0.0283 - val_Classification_acc: 0.4340\n",
      "Epoch 20/100\n",
      "421/421 [==============================] - 3s 6ms/step - loss: 5.5161 - Regression_loss: 4.4524 - Classification_loss: 1.0637 - Regression_acc: 0.2185 - Classification_acc: 0.4276 - val_loss: 198.0715 - val_Regression_loss: 196.6299 - val_Classification_loss: 1.4416 - val_Regression_acc: 0.0189 - val_Classification_acc: 0.4340\n",
      "Epoch 21/100\n",
      "421/421 [==============================] - 3s 6ms/step - loss: 5.5164 - Regression_loss: 4.4527 - Classification_loss: 1.0637 - Regression_acc: 0.2185 - Classification_acc: 0.4276 - val_loss: 202.4980 - val_Regression_loss: 201.0679 - val_Classification_loss: 1.4301 - val_Regression_acc: 0.0377 - val_Classification_acc: 0.4340\n",
      "Epoch 22/100\n",
      "421/421 [==============================] - 3s 6ms/step - loss: 5.5166 - Regression_loss: 4.4530 - Classification_loss: 1.0636 - Regression_acc: 0.2185 - Classification_acc: 0.4276 - val_loss: 193.2533 - val_Regression_loss: 191.7994 - val_Classification_loss: 1.4539 - val_Regression_acc: 0.0189 - val_Classification_acc: 0.4434\n",
      "Epoch 23/100\n",
      "421/421 [==============================] - 3s 7ms/step - loss: 5.5168 - Regression_loss: 4.4532 - Classification_loss: 1.0636 - Regression_acc: 0.2185 - Classification_acc: 0.4276 - val_loss: 201.6357 - val_Regression_loss: 200.1671 - val_Classification_loss: 1.4686 - val_Regression_acc: 0.0283 - val_Classification_acc: 0.4340\n",
      "Epoch 24/100\n",
      "421/421 [==============================] - 3s 6ms/step - loss: 5.5170 - Regression_loss: 4.4532 - Classification_loss: 1.0638 - Regression_acc: 0.2185 - Classification_acc: 0.4276 - val_loss: 196.5147 - val_Regression_loss: 195.0387 - val_Classification_loss: 1.4760 - val_Regression_acc: 0.0189 - val_Classification_acc: 0.4245\n"
     ]
    },
    {
     "name": "stdout",
     "output_type": "stream",
     "text": [
      "Epoch 25/100\n",
      "421/421 [==============================] - 3s 8ms/step - loss: 5.5169 - Regression_loss: 4.4531 - Classification_loss: 1.0638 - Regression_acc: 0.2185 - Classification_acc: 0.4276 - val_loss: 206.6658 - val_Regression_loss: 205.2354 - val_Classification_loss: 1.4304 - val_Regression_acc: 0.0283 - val_Classification_acc: 0.4528\n",
      "Epoch 26/100\n",
      "421/421 [==============================] - 3s 6ms/step - loss: 5.5162 - Regression_loss: 4.4526 - Classification_loss: 1.0636 - Regression_acc: 0.2185 - Classification_acc: 0.4276 - val_loss: 206.0801 - val_Regression_loss: 204.6507 - val_Classification_loss: 1.4294 - val_Regression_acc: 0.0377 - val_Classification_acc: 0.4528\n",
      "Epoch 27/100\n",
      "421/421 [==============================] - 3s 6ms/step - loss: 5.5165 - Regression_loss: 4.4528 - Classification_loss: 1.0637 - Regression_acc: 0.2185 - Classification_acc: 0.4276 - val_loss: 201.1291 - val_Regression_loss: 199.6490 - val_Classification_loss: 1.4801 - val_Regression_acc: 0.0000e+00 - val_Classification_acc: 0.4245\n",
      "Epoch 28/100\n",
      "421/421 [==============================] - 3s 7ms/step - loss: 5.5161 - Regression_loss: 4.4525 - Classification_loss: 1.0636 - Regression_acc: 0.2185 - Classification_acc: 0.4276 - val_loss: 204.8331 - val_Regression_loss: 203.4013 - val_Classification_loss: 1.4318 - val_Regression_acc: 0.0377 - val_Classification_acc: 0.4434\n",
      "Epoch 29/100\n",
      "421/421 [==============================] - 3s 6ms/step - loss: 5.5162 - Regression_loss: 4.4525 - Classification_loss: 1.0636 - Regression_acc: 0.2185 - Classification_acc: 0.4276 - val_loss: 201.1277 - val_Regression_loss: 199.6749 - val_Classification_loss: 1.4528 - val_Regression_acc: 0.0000e+00 - val_Classification_acc: 0.4245\n",
      "Epoch 30/100\n",
      "421/421 [==============================] - 3s 7ms/step - loss: 5.5172 - Regression_loss: 4.4535 - Classification_loss: 1.0637 - Regression_acc: 0.2185 - Classification_acc: 0.4276 - val_loss: 196.4950 - val_Regression_loss: 195.0164 - val_Classification_loss: 1.4786 - val_Regression_acc: 0.0094 - val_Classification_acc: 0.4245\n",
      "Epoch 31/100\n",
      "421/421 [==============================] - 3s 6ms/step - loss: 5.5163 - Regression_loss: 4.4526 - Classification_loss: 1.0636 - Regression_acc: 0.2185 - Classification_acc: 0.4276 - val_loss: 198.8833 - val_Regression_loss: 197.3963 - val_Classification_loss: 1.4870 - val_Regression_acc: 0.0094 - val_Classification_acc: 0.4340\n",
      "Epoch 32/100\n",
      "421/421 [==============================] - 3s 6ms/step - loss: 5.5161 - Regression_loss: 4.4525 - Classification_loss: 1.0636 - Regression_acc: 0.2185 - Classification_acc: 0.4276 - val_loss: 200.6832 - val_Regression_loss: 199.2394 - val_Classification_loss: 1.4438 - val_Regression_acc: 0.0094 - val_Classification_acc: 0.4434\n",
      "Epoch 33/100\n",
      "421/421 [==============================] - 3s 6ms/step - loss: 5.5171 - Regression_loss: 4.4533 - Classification_loss: 1.0637 - Regression_acc: 0.2185 - Classification_acc: 0.4276 - val_loss: 201.4956 - val_Regression_loss: 200.0761 - val_Classification_loss: 1.4195 - val_Regression_acc: 0.0377 - val_Classification_acc: 0.4434\n",
      "Epoch 34/100\n",
      "421/421 [==============================] - 3s 7ms/step - loss: 5.5161 - Regression_loss: 4.4525 - Classification_loss: 1.0636 - Regression_acc: 0.2185 - Classification_acc: 0.4276 - val_loss: 204.9512 - val_Regression_loss: 203.5417 - val_Classification_loss: 1.4095 - val_Regression_acc: 0.0189 - val_Classification_acc: 0.4245\n",
      "Epoch 35/100\n",
      "421/421 [==============================] - ETA: 0s - loss: 5.5457 - Regression_loss: 4.4799 - Classification_loss: 1.0658 - Regression_acc: 0.2217 - Classification_acc: 0.424 - 3s 7ms/step - loss: 5.5159 - Regression_loss: 4.4523 - Classification_loss: 1.0636 - Regression_acc: 0.2185 - Classification_acc: 0.4276 - val_loss: 195.6485 - val_Regression_loss: 194.1248 - val_Classification_loss: 1.5236 - val_Regression_acc: 0.0472 - val_Classification_acc: 0.4528\n",
      "Epoch 36/100\n",
      "421/421 [==============================] - 3s 7ms/step - loss: 5.5169 - Regression_loss: 4.4533 - Classification_loss: 1.0637 - Regression_acc: 0.2185 - Classification_acc: 0.4276 - val_loss: 202.0236 - val_Regression_loss: 200.5852 - val_Classification_loss: 1.4384 - val_Regression_acc: 0.0000e+00 - val_Classification_acc: 0.4434\n",
      "Epoch 37/100\n",
      "421/421 [==============================] - 3s 6ms/step - loss: 5.5164 - Regression_loss: 4.4528 - Classification_loss: 1.0636 - Regression_acc: 0.2185 - Classification_acc: 0.4276 - val_loss: 200.9407 - val_Regression_loss: 199.5150 - val_Classification_loss: 1.4258 - val_Regression_acc: 0.0189 - val_Classification_acc: 0.4245\n",
      "Epoch 38/100\n",
      "421/421 [==============================] - 3s 7ms/step - loss: 5.5163 - Regression_loss: 4.4528 - Classification_loss: 1.0635 - Regression_acc: 0.2185 - Classification_acc: 0.4276 - val_loss: 200.7711 - val_Regression_loss: 199.2582 - val_Classification_loss: 1.5129 - val_Regression_acc: 0.0283 - val_Classification_acc: 0.4528\n",
      "Epoch 39/100\n",
      "421/421 [==============================] - 3s 6ms/step - loss: 5.5159 - Regression_loss: 4.4523 - Classification_loss: 1.0636 - Regression_acc: 0.2185 - Classification_acc: 0.4276 - val_loss: 205.1673 - val_Regression_loss: 203.6801 - val_Classification_loss: 1.4871 - val_Regression_acc: 0.0377 - val_Classification_acc: 0.4434\n",
      "Epoch 40/100\n",
      "421/421 [==============================] - 3s 6ms/step - loss: 5.5161 - Regression_loss: 4.4524 - Classification_loss: 1.0636 - Regression_acc: 0.2185 - Classification_acc: 0.4276 - val_loss: 197.8679 - val_Regression_loss: 196.4148 - val_Classification_loss: 1.4531 - val_Regression_acc: 0.0283 - val_Classification_acc: 0.4340\n",
      "Epoch 41/100\n",
      "421/421 [==============================] - 3s 6ms/step - loss: 5.5161 - Regression_loss: 4.4525 - Classification_loss: 1.0636 - Regression_acc: 0.2185 - Classification_acc: 0.4276 - val_loss: 192.5484 - val_Regression_loss: 191.0790 - val_Classification_loss: 1.4694 - val_Regression_acc: 0.0283 - val_Classification_acc: 0.4434\n",
      "Epoch 42/100\n",
      "421/421 [==============================] - 3s 6ms/step - loss: 5.5167 - Regression_loss: 4.4529 - Classification_loss: 1.0638 - Regression_acc: 0.2185 - Classification_acc: 0.4276 - val_loss: 200.3103 - val_Regression_loss: 198.8450 - val_Classification_loss: 1.4653 - val_Regression_acc: 0.0283 - val_Classification_acc: 0.4340\n",
      "Epoch 43/100\n",
      "421/421 [==============================] - 2s 6ms/step - loss: 5.5172 - Regression_loss: 4.4534 - Classification_loss: 1.0638 - Regression_acc: 0.2185 - Classification_acc: 0.4276 - val_loss: 194.6486 - val_Regression_loss: 193.0821 - val_Classification_loss: 1.5665 - val_Regression_acc: 0.0660 - val_Classification_acc: 0.4340\n",
      "Epoch 44/100\n",
      "421/421 [==============================] - 3s 6ms/step - loss: 5.5170 - Regression_loss: 4.4532 - Classification_loss: 1.0637 - Regression_acc: 0.2185 - Classification_acc: 0.4276 - val_loss: 206.5046 - val_Regression_loss: 205.0802 - val_Classification_loss: 1.4244 - val_Regression_acc: 0.0283 - val_Classification_acc: 0.4528\n",
      "Epoch 45/100\n",
      "421/421 [==============================] - 3s 6ms/step - loss: 5.5163 - Regression_loss: 4.4525 - Classification_loss: 1.0638 - Regression_acc: 0.2185 - Classification_acc: 0.4276 - val_loss: 197.2655 - val_Regression_loss: 195.8007 - val_Classification_loss: 1.4647 - val_Regression_acc: 0.0189 - val_Classification_acc: 0.4528\n",
      "Epoch 46/100\n",
      "421/421 [==============================] - 3s 6ms/step - loss: 5.5164 - Regression_loss: 4.4528 - Classification_loss: 1.0636 - Regression_acc: 0.2185 - Classification_acc: 0.4276 - val_loss: 198.0168 - val_Regression_loss: 196.5432 - val_Classification_loss: 1.4736 - val_Regression_acc: 0.0189 - val_Classification_acc: 0.4245\n",
      "Epoch 47/100\n",
      "421/421 [==============================] - 3s 6ms/step - loss: 5.5160 - Regression_loss: 4.4524 - Classification_loss: 1.0636 - Regression_acc: 0.2185 - Classification_acc: 0.4276 - val_loss: 197.7910 - val_Regression_loss: 196.3348 - val_Classification_loss: 1.4562 - val_Regression_acc: 0.0283 - val_Classification_acc: 0.4434\n",
      "Epoch 48/100\n",
      "421/421 [==============================] - 3s 7ms/step - loss: 5.5160 - Regression_loss: 4.4524 - Classification_loss: 1.0636 - Regression_acc: 0.2185 - Classification_acc: 0.4276 - val_loss: 205.2900 - val_Regression_loss: 203.8797 - val_Classification_loss: 1.4102 - val_Regression_acc: 0.0189 - val_Classification_acc: 0.4434\n",
      "Epoch 49/100\n",
      "421/421 [==============================] - 3s 7ms/step - loss: 5.5164 - Regression_loss: 4.4527 - Classification_loss: 1.0636 - Regression_acc: 0.2185 - Classification_acc: 0.4276 - val_loss: 198.5752 - val_Regression_loss: 197.1220 - val_Classification_loss: 1.4532 - val_Regression_acc: 0.0283 - val_Classification_acc: 0.4434\n",
      "Epoch 50/100\n",
      "421/421 [==============================] - 3s 7ms/step - loss: 5.5165 - Regression_loss: 4.4529 - Classification_loss: 1.0636 - Regression_acc: 0.2185 - Classification_acc: 0.4276 - val_loss: 199.9027 - val_Regression_loss: 198.5134 - val_Classification_loss: 1.3893 - val_Regression_acc: 0.0283 - val_Classification_acc: 0.4340\n",
      "Epoch 51/100\n",
      "421/421 [==============================] - 3s 6ms/step - loss: 5.5158 - Regression_loss: 4.4522 - Classification_loss: 1.0636 - Regression_acc: 0.2185 - Classification_acc: 0.4276 - val_loss: 199.3492 - val_Regression_loss: 197.8896 - val_Classification_loss: 1.4596 - val_Regression_acc: 0.0472 - val_Classification_acc: 0.4340\n",
      "Epoch 52/100\n",
      "421/421 [==============================] - 3s 6ms/step - loss: 5.5170 - Regression_loss: 4.4533 - Classification_loss: 1.0637 - Regression_acc: 0.2185 - Classification_acc: 0.4276 - val_loss: 198.9909 - val_Regression_loss: 197.5072 - val_Classification_loss: 1.4837 - val_Regression_acc: 0.0283 - val_Classification_acc: 0.4434\n",
      "Epoch 53/100\n",
      "421/421 [==============================] - 3s 6ms/step - loss: 5.5162 - Regression_loss: 4.4526 - Classification_loss: 1.0636 - Regression_acc: 0.2185 - Classification_acc: 0.4276 - val_loss: 203.5548 - val_Regression_loss: 202.1598 - val_Classification_loss: 1.3949 - val_Regression_acc: 0.0189 - val_Classification_acc: 0.4245\n",
      "Epoch 54/100\n",
      "421/421 [==============================] - 3s 7ms/step - loss: 5.5172 - Regression_loss: 4.4535 - Classification_loss: 1.0637 - Regression_acc: 0.2185 - Classification_acc: 0.4276 - val_loss: 204.0817 - val_Regression_loss: 202.6626 - val_Classification_loss: 1.4191 - val_Regression_acc: 0.0094 - val_Classification_acc: 0.4340\n",
      "Epoch 55/100\n",
      "421/421 [==============================] - 3s 6ms/step - loss: 5.5167 - Regression_loss: 4.4531 - Classification_loss: 1.0636 - Regression_acc: 0.2185 - Classification_acc: 0.4276 - val_loss: 199.0609 - val_Regression_loss: 197.6367 - val_Classification_loss: 1.4243 - val_Regression_acc: 0.0377 - val_Classification_acc: 0.4434\n",
      "Epoch 56/100\n",
      "421/421 [==============================] - 3s 6ms/step - loss: 5.5174 - Regression_loss: 4.4537 - Classification_loss: 1.0637 - Regression_acc: 0.2185 - Classification_acc: 0.4276 - val_loss: 195.0485 - val_Regression_loss: 193.5867 - val_Classification_loss: 1.4619 - val_Regression_acc: 0.0094 - val_Classification_acc: 0.4528\n",
      "Epoch 57/100\n",
      "421/421 [==============================] - 3s 7ms/step - loss: 5.5158 - Regression_loss: 4.4523 - Classification_loss: 1.0636 - Regression_acc: 0.2185 - Classification_acc: 0.4276 - val_loss: 200.6674 - val_Regression_loss: 199.2621 - val_Classification_loss: 1.4053 - val_Regression_acc: 0.0283 - val_Classification_acc: 0.4340\n",
      "Epoch 58/100\n",
      "421/421 [==============================] - 3s 7ms/step - loss: 5.5157 - Regression_loss: 4.4522 - Classification_loss: 1.0635 - Regression_acc: 0.2185 - Classification_acc: 0.4276 - val_loss: 207.1121 - val_Regression_loss: 205.7153 - val_Classification_loss: 1.3968 - val_Regression_acc: 0.0472 - val_Classification_acc: 0.4340\n",
      "Epoch 59/100\n",
      "421/421 [==============================] - 3s 7ms/step - loss: 5.5165 - Regression_loss: 4.4528 - Classification_loss: 1.0636 - Regression_acc: 0.2185 - Classification_acc: 0.4276 - val_loss: 205.5918 - val_Regression_loss: 204.1599 - val_Classification_loss: 1.4319 - val_Regression_acc: 0.0472 - val_Classification_acc: 0.4528\n",
      "Epoch 60/100\n",
      "421/421 [==============================] - 4s 9ms/step - loss: 5.5164 - Regression_loss: 4.4528 - Classification_loss: 1.0636 - Regression_acc: 0.2185 - Classification_acc: 0.4276 - val_loss: 202.5018 - val_Regression_loss: 201.0935 - val_Classification_loss: 1.4082 - val_Regression_acc: 0.0283 - val_Classification_acc: 0.4528lassification_loss: 1.0650 - Regression_acc: 0.2248 - Classifica\n",
      "Epoch 61/100\n",
      "421/421 [==============================] - 3s 6ms/step - loss: 5.5159 - Regression_loss: 4.4523 - Classification_loss: 1.0636 - Regression_acc: 0.2185 - Classification_acc: 0.4276 - val_loss: 196.8504 - val_Regression_loss: 195.3890 - val_Classification_loss: 1.4614 - val_Regression_acc: 0.0189 - val_Classification_acc: 0.4434\n",
      "Epoch 62/100\n",
      "421/421 [==============================] - 3s 6ms/step - loss: 5.5165 - Regression_loss: 4.4529 - Classification_loss: 1.0636 - Regression_acc: 0.2185 - Classification_acc: 0.4276 - val_loss: 200.0379 - val_Regression_loss: 198.6093 - val_Classification_loss: 1.4286 - val_Regression_acc: 0.0283 - val_Classification_acc: 0.4434\n",
      "Epoch 63/100\n",
      "421/421 [==============================] - 3s 6ms/step - loss: 5.5164 - Regression_loss: 4.4529 - Classification_loss: 1.0636 - Regression_acc: 0.2185 - Classification_acc: 0.4276 - val_loss: 199.7827 - val_Regression_loss: 198.2248 - val_Classification_loss: 1.5579 - val_Regression_acc: 0.0566 - val_Classification_acc: 0.4340\n",
      "Epoch 64/100\n",
      "421/421 [==============================] - 3s 6ms/step - loss: 5.5168 - Regression_loss: 4.4531 - Classification_loss: 1.0637 - Regression_acc: 0.2185 - Classification_acc: 0.4276 - val_loss: 198.5986 - val_Regression_loss: 197.1672 - val_Classification_loss: 1.4313 - val_Regression_acc: 0.0377 - val_Classification_acc: 0.4434\n",
      "Epoch 65/100\n",
      "421/421 [==============================] - 3s 6ms/step - loss: 5.5161 - Regression_loss: 4.4525 - Classification_loss: 1.0636 - Regression_acc: 0.2185 - Classification_acc: 0.4276 - val_loss: 196.8893 - val_Regression_loss: 195.4476 - val_Classification_loss: 1.4417 - val_Regression_acc: 0.0189 - val_Classification_acc: 0.4434\n",
      "Epoch 66/100\n",
      "421/421 [==============================] - 3s 6ms/step - loss: 5.5161 - Regression_loss: 4.4525 - Classification_loss: 1.0637 - Regression_acc: 0.2185 - Classification_acc: 0.4276 - val_loss: 200.8260 - val_Regression_loss: 199.3967 - val_Classification_loss: 1.4293 - val_Regression_acc: 0.0189 - val_Classification_acc: 0.4528\n",
      "Epoch 67/100\n",
      "421/421 [==============================] - 3s 6ms/step - loss: 5.5179 - Regression_loss: 4.4541 - Classification_loss: 1.0637 - Regression_acc: 0.2185 - Classification_acc: 0.4276 - val_loss: 199.0429 - val_Regression_loss: 197.6079 - val_Classification_loss: 1.4350 - val_Regression_acc: 0.0189 - val_Classification_acc: 0.4434\n",
      "Epoch 68/100\n",
      "421/421 [==============================] - 3s 6ms/step - loss: 5.5162 - Regression_loss: 4.4526 - Classification_loss: 1.0637 - Regression_acc: 0.2185 - Classification_acc: 0.4276 - val_loss: 200.1622 - val_Regression_loss: 198.7127 - val_Classification_loss: 1.4495 - val_Regression_acc: 0.0189 - val_Classification_acc: 0.4434\n",
      "Epoch 69/100\n",
      "421/421 [==============================] - 2s 6ms/step - loss: 5.5173 - Regression_loss: 4.4537 - Classification_loss: 1.0636 - Regression_acc: 0.2185 - Classification_acc: 0.4276 - val_loss: 200.9098 - val_Regression_loss: 199.4641 - val_Classification_loss: 1.4457 - val_Regression_acc: 0.0472 - val_Classification_acc: 0.4340\n",
      "Epoch 70/100\n",
      "421/421 [==============================] - 3s 6ms/step - loss: 5.5167 - Regression_loss: 4.4530 - Classification_loss: 1.0637 - Regression_acc: 0.2185 - Classification_acc: 0.4276 - val_loss: 200.8989 - val_Regression_loss: 199.4946 - val_Classification_loss: 1.4043 - val_Regression_acc: 0.0189 - val_Classification_acc: 0.4434\n",
      "Epoch 71/100\n",
      "421/421 [==============================] - 3s 6ms/step - loss: 5.5174 - Regression_loss: 4.4536 - Classification_loss: 1.0638 - Regression_acc: 0.2185 - Classification_acc: 0.4276 - val_loss: 201.1764 - val_Regression_loss: 199.7184 - val_Classification_loss: 1.4580 - val_Regression_acc: 0.0472 - val_Classification_acc: 0.4434\n"
     ]
    },
    {
     "name": "stdout",
     "output_type": "stream",
     "text": [
      "Epoch 72/100\n",
      "421/421 [==============================] - 3s 7ms/step - loss: 5.5166 - Regression_loss: 4.4530 - Classification_loss: 1.0636 - Regression_acc: 0.2185 - Classification_acc: 0.4276 - val_loss: 191.1375 - val_Regression_loss: 189.6861 - val_Classification_loss: 1.4514 - val_Regression_acc: 0.0283 - val_Classification_acc: 0.4245\n",
      "Epoch 73/100\n",
      "421/421 [==============================] - 3s 7ms/step - loss: 5.5164 - Regression_loss: 4.4527 - Classification_loss: 1.0637 - Regression_acc: 0.2185 - Classification_acc: 0.4276 - val_loss: 200.5189 - val_Regression_loss: 199.1274 - val_Classification_loss: 1.3916 - val_Regression_acc: 0.0189 - val_Classification_acc: 0.4434\n",
      "Epoch 74/100\n",
      "421/421 [==============================] - 3s 6ms/step - loss: 5.5165 - Regression_loss: 4.4528 - Classification_loss: 1.0636 - Regression_acc: 0.2185 - Classification_acc: 0.4276 - val_loss: 193.2143 - val_Regression_loss: 191.7993 - val_Classification_loss: 1.4150 - val_Regression_acc: 0.0189 - val_Classification_acc: 0.4245\n",
      "Epoch 75/100\n",
      "421/421 [==============================] - 3s 7ms/step - loss: 5.5162 - Regression_loss: 4.4526 - Classification_loss: 1.0637 - Regression_acc: 0.2185 - Classification_acc: 0.4276 - val_loss: 194.9698 - val_Regression_loss: 193.5607 - val_Classification_loss: 1.4091 - val_Regression_acc: 0.0472 - val_Classification_acc: 0.4434\n",
      "Epoch 76/100\n",
      "421/421 [==============================] - 3s 6ms/step - loss: 5.5174 - Regression_loss: 4.4536 - Classification_loss: 1.0638 - Regression_acc: 0.2185 - Classification_acc: 0.4276 - val_loss: 202.8431 - val_Regression_loss: 201.4671 - val_Classification_loss: 1.3760 - val_Regression_acc: 0.0283 - val_Classification_acc: 0.4528\n",
      "Epoch 77/100\n",
      "421/421 [==============================] - 3s 6ms/step - loss: 5.5165 - Regression_loss: 4.4529 - Classification_loss: 1.0636 - Regression_acc: 0.2185 - Classification_acc: 0.4276 - val_loss: 197.0361 - val_Regression_loss: 195.6289 - val_Classification_loss: 1.4071 - val_Regression_acc: 0.0189 - val_Classification_acc: 0.4434\n",
      "Epoch 78/100\n",
      "421/421 [==============================] - 3s 7ms/step - loss: 5.5164 - Regression_loss: 4.4527 - Classification_loss: 1.0637 - Regression_acc: 0.2185 - Classification_acc: 0.4276 - val_loss: 195.0510 - val_Regression_loss: 193.6162 - val_Classification_loss: 1.4348 - val_Regression_acc: 0.0377 - val_Classification_acc: 0.4340\n",
      "Epoch 79/100\n",
      "421/421 [==============================] - 3s 6ms/step - loss: 5.5164 - Regression_loss: 4.4527 - Classification_loss: 1.0636 - Regression_acc: 0.2185 - Classification_acc: 0.4276 - val_loss: 195.0481 - val_Regression_loss: 193.6180 - val_Classification_loss: 1.4301 - val_Regression_acc: 0.0189 - val_Classification_acc: 0.4434\n",
      "Epoch 80/100\n",
      "421/421 [==============================] - 3s 6ms/step - loss: 5.5161 - Regression_loss: 4.4525 - Classification_loss: 1.0636 - Regression_acc: 0.2185 - Classification_acc: 0.4276 - val_loss: 201.6241 - val_Regression_loss: 200.2191 - val_Classification_loss: 1.4050 - val_Regression_acc: 0.0000e+00 - val_Classification_acc: 0.4434\n",
      "Epoch 81/100\n",
      "421/421 [==============================] - 3s 6ms/step - loss: 5.5167 - Regression_loss: 4.4531 - Classification_loss: 1.0637 - Regression_acc: 0.2185 - Classification_acc: 0.4276 - val_loss: 207.1025 - val_Regression_loss: 205.7429 - val_Classification_loss: 1.3596 - val_Regression_acc: 0.0189 - val_Classification_acc: 0.4528\n",
      "Epoch 82/100\n",
      "421/421 [==============================] - 3s 6ms/step - loss: 5.5181 - Regression_loss: 4.4542 - Classification_loss: 1.0638 - Regression_acc: 0.2185 - Classification_acc: 0.4276 - val_loss: 192.6243 - val_Regression_loss: 191.2416 - val_Classification_loss: 1.3827 - val_Regression_acc: 0.0283 - val_Classification_acc: 0.4340\n",
      "Epoch 83/100\n",
      "421/421 [==============================] - 3s 6ms/step - loss: 5.5161 - Regression_loss: 4.4525 - Classification_loss: 1.0636 - Regression_acc: 0.2185 - Classification_acc: 0.4276 - val_loss: 205.3395 - val_Regression_loss: 203.9568 - val_Classification_loss: 1.3827 - val_Regression_acc: 0.0094 - val_Classification_acc: 0.4434\n",
      "Epoch 84/100\n",
      "421/421 [==============================] - 3s 6ms/step - loss: 5.5169 - Regression_loss: 4.4532 - Classification_loss: 1.0637 - Regression_acc: 0.2185 - Classification_acc: 0.4276 - val_loss: 197.8638 - val_Regression_loss: 196.4669 - val_Classification_loss: 1.3969 - val_Regression_acc: 0.0094 - val_Classification_acc: 0.4434\n",
      "Epoch 85/100\n",
      "421/421 [==============================] - 3s 6ms/step - loss: 5.5163 - Regression_loss: 4.4527 - Classification_loss: 1.0637 - Regression_acc: 0.2185 - Classification_acc: 0.4276 - val_loss: 195.6295 - val_Regression_loss: 194.1913 - val_Classification_loss: 1.4382 - val_Regression_acc: 0.0377 - val_Classification_acc: 0.4434\n",
      "Epoch 86/100\n",
      "421/421 [==============================] - 3s 6ms/step - loss: 5.5165 - Regression_loss: 4.4528 - Classification_loss: 1.0637 - Regression_acc: 0.2185 - Classification_acc: 0.4276 - val_loss: 205.1392 - val_Regression_loss: 203.7451 - val_Classification_loss: 1.3941 - val_Regression_acc: 0.0189 - val_Classification_acc: 0.4434\n",
      "Epoch 87/100\n",
      "421/421 [==============================] - 3s 6ms/step - loss: 5.5173 - Regression_loss: 4.4536 - Classification_loss: 1.0637 - Regression_acc: 0.2185 - Classification_acc: 0.4276 - val_loss: 205.0361 - val_Regression_loss: 203.6840 - val_Classification_loss: 1.3521 - val_Regression_acc: 0.0283 - val_Classification_acc: 0.4340\n",
      "Epoch 88/100\n",
      "421/421 [==============================] - 3s 7ms/step - loss: 5.5169 - Regression_loss: 4.4531 - Classification_loss: 1.0637 - Regression_acc: 0.2185 - Classification_acc: 0.4276 - val_loss: 208.0907 - val_Regression_loss: 206.7661 - val_Classification_loss: 1.3246 - val_Regression_acc: 0.0377 - val_Classification_acc: 0.4528egression_loss: 4.7879 - Classification_loss: 1.0640 - Regression_acc: 0.2141 - Classification_ac\n",
      "Epoch 89/100\n",
      "421/421 [==============================] - 3s 6ms/step - loss: 5.5178 - Regression_loss: 4.4541 - Classification_loss: 1.0638 - Regression_acc: 0.2185 - Classification_acc: 0.4276 - val_loss: 206.5089 - val_Regression_loss: 205.1924 - val_Classification_loss: 1.3166 - val_Regression_acc: 0.0283 - val_Classification_acc: 0.4623\n",
      "Epoch 90/100\n",
      "421/421 [==============================] - 3s 6ms/step - loss: 5.5163 - Regression_loss: 4.4527 - Classification_loss: 1.0636 - Regression_acc: 0.2185 - Classification_acc: 0.4276 - val_loss: 200.5365 - val_Regression_loss: 199.1147 - val_Classification_loss: 1.4218 - val_Regression_acc: 0.0283 - val_Classification_acc: 0.4528\n",
      "Epoch 91/100\n",
      "421/421 [==============================] - 3s 7ms/step - loss: 5.5179 - Regression_loss: 4.4540 - Classification_loss: 1.0639 - Regression_acc: 0.2185 - Classification_acc: 0.4276 - val_loss: 201.5350 - val_Regression_loss: 200.2076 - val_Classification_loss: 1.3274 - val_Regression_acc: 0.0472 - val_Classification_acc: 0.4340\n",
      "Epoch 92/100\n",
      "421/421 [==============================] - 3s 7ms/step - loss: 5.5164 - Regression_loss: 4.4528 - Classification_loss: 1.0636 - Regression_acc: 0.2185 - Classification_acc: 0.4276 - val_loss: 199.5333 - val_Regression_loss: 198.1541 - val_Classification_loss: 1.3792 - val_Regression_acc: 0.0283 - val_Classification_acc: 0.4434\n",
      "Epoch 93/100\n",
      "421/421 [==============================] - 3s 7ms/step - loss: 5.5167 - Regression_loss: 4.4530 - Classification_loss: 1.0638 - Regression_acc: 0.2185 - Classification_acc: 0.4276 - val_loss: 199.9495 - val_Regression_loss: 198.5609 - val_Classification_loss: 1.3887 - val_Regression_acc: 0.0000e+00 - val_Classification_acc: 0.4434\n",
      "Epoch 94/100\n",
      "421/421 [==============================] - 3s 6ms/step - loss: 5.5170 - Regression_loss: 4.4532 - Classification_loss: 1.0637 - Regression_acc: 0.2185 - Classification_acc: 0.4276 - val_loss: 194.5718 - val_Regression_loss: 193.2057 - val_Classification_loss: 1.3661 - val_Regression_acc: 0.0189 - val_Classification_acc: 0.4434\n",
      "Epoch 95/100\n",
      "421/421 [==============================] - 3s 6ms/step - loss: 5.5164 - Regression_loss: 4.4527 - Classification_loss: 1.0637 - Regression_acc: 0.2185 - Classification_acc: 0.4276 - val_loss: 198.3971 - val_Regression_loss: 197.0341 - val_Classification_loss: 1.3629 - val_Regression_acc: 0.0189 - val_Classification_acc: 0.4340\n"
     ]
    },
    {
     "name": "stdout",
     "output_type": "stream",
     "text": [
      "Epoch 96/100\n",
      "421/421 [==============================] - 3s 7ms/step - loss: 5.5180 - Regression_loss: 4.4542 - Classification_loss: 1.0638 - Regression_acc: 0.2185 - Classification_acc: 0.4276 - val_loss: 194.0230 - val_Regression_loss: 192.6464 - val_Classification_loss: 1.3766 - val_Regression_acc: 0.0283 - val_Classification_acc: 0.4340\n",
      "Epoch 97/100\n",
      "421/421 [==============================] - 3s 7ms/step - loss: 5.5165 - Regression_loss: 4.4528 - Classification_loss: 1.0637 - Regression_acc: 0.2185 - Classification_acc: 0.4276 - val_loss: 198.7192 - val_Regression_loss: 197.3913 - val_Classification_loss: 1.3280 - val_Regression_acc: 0.0472 - val_Classification_acc: 0.4340\n",
      "Epoch 98/100\n",
      "421/421 [==============================] - 3s 6ms/step - loss: 5.5164 - Regression_loss: 4.4527 - Classification_loss: 1.0637 - Regression_acc: 0.2185 - Classification_acc: 0.4276 - val_loss: 196.5711 - val_Regression_loss: 195.1382 - val_Classification_loss: 1.4328 - val_Regression_acc: 0.0566 - val_Classification_acc: 0.4340\n",
      "Epoch 99/100\n",
      "421/421 [==============================] - 3s 7ms/step - loss: 5.5163 - Regression_loss: 4.4526 - Classification_loss: 1.0637 - Regression_acc: 0.2185 - Classification_acc: 0.4276 - val_loss: 201.7889 - val_Regression_loss: 200.4565 - val_Classification_loss: 1.3324 - val_Regression_acc: 0.0472 - val_Classification_acc: 0.4245\n",
      "Epoch 100/100\n",
      "421/421 [==============================] - 3s 6ms/step - loss: 5.5166 - Regression_loss: 4.4530 - Classification_loss: 1.0636 - Regression_acc: 0.2185 - Classification_acc: 0.4276 - val_loss: 196.1207 - val_Regression_loss: 194.7652 - val_Classification_loss: 1.3556 - val_Regression_acc: 0.0094 - val_Classification_acc: 0.4434\n"
     ]
    }
   ],
   "source": [
    "model_3_training = model_3.fit(\n",
    "    X_train_scaled,\n",
    "    [y_reg_train, y_class_train],\n",
    "    validation_data=(X_test_scaled, [y_reg_test, y_class_test]),\n",
    "    batch_size=1,\n",
    "    epochs=100,\n",
    "    #callbacks=[early_stopping_monitor],\n",
    "    verbose=True)"
   ]
  },
  {
   "cell_type": "code",
   "execution_count": 181,
   "metadata": {
    "ExecuteTime": {
     "end_time": "2019-08-08T13:47:27.719160Z",
     "start_time": "2019-08-08T13:47:27.019386Z"
    }
   },
   "outputs": [
    {
     "data": {
      "text/plain": [
       "(11.462805, array([0.0648931, 0.0077849, 0.2104663], dtype=float32))"
      ]
     },
     "execution_count": 181,
     "metadata": {},
     "output_type": "execute_result"
    }
   ],
   "source": [
    "model_3.predict(X_test_scaled)[0][6][0], model_3.predict(X_test_scaled)[1][6]"
   ]
  },
  {
   "cell_type": "code",
   "execution_count": 182,
   "metadata": {
    "ExecuteTime": {
     "end_time": "2019-08-08T13:47:27.893151Z",
     "start_time": "2019-08-08T13:47:27.735162Z"
    }
   },
   "outputs": [],
   "source": [
    "input_tensor = Input(shape=(in_cols,))\n",
    "hidden_1 = Dense(in_cols*2, activation='relu', name='hidden_1')(input_tensor)\n",
    "output_tensor_reg = Dense(1, name='Regression')(hidden_1)\n",
    "\n",
    "output_tensor_class = Dense(out_cols, activation='sigmoid', name='Classification')(output_tensor_reg)"
   ]
  },
  {
   "cell_type": "code",
   "execution_count": 183,
   "metadata": {
    "ExecuteTime": {
     "end_time": "2019-08-08T13:47:27.908162Z",
     "start_time": "2019-08-08T13:47:27.900150Z"
    }
   },
   "outputs": [],
   "source": [
    "model_4 = Model(input_tensor, [output_tensor_reg, output_tensor_class])"
   ]
  },
  {
   "cell_type": "code",
   "execution_count": 184,
   "metadata": {
    "ExecuteTime": {
     "end_time": "2019-08-08T13:47:28.119148Z",
     "start_time": "2019-08-08T13:47:27.917155Z"
    }
   },
   "outputs": [],
   "source": [
    "model_4.compile(loss=['mse', 'categorical_crossentropy'],\n",
    "             optimizer='adam',\n",
    "             metrics=['accuracy'])"
   ]
  },
  {
   "cell_type": "code",
   "execution_count": 185,
   "metadata": {
    "ExecuteTime": {
     "end_time": "2019-08-08T13:47:28.163161Z",
     "start_time": "2019-08-08T13:47:28.137162Z"
    }
   },
   "outputs": [
    {
     "name": "stdout",
     "output_type": "stream",
     "text": [
      "_________________________________________________________________\n",
      "Layer (type)                 Output Shape              Param #   \n",
      "=================================================================\n",
      "input_6 (InputLayer)         (None, 203)               0         \n",
      "_________________________________________________________________\n",
      "hidden_1 (Dense)             (None, 406)               82824     \n",
      "_________________________________________________________________\n",
      "Regression (Dense)           (None, 1)                 407       \n",
      "_________________________________________________________________\n",
      "Classification (Dense)       (None, 3)                 6         \n",
      "=================================================================\n",
      "Total params: 83,237\n",
      "Trainable params: 83,237\n",
      "Non-trainable params: 0\n",
      "_________________________________________________________________\n"
     ]
    }
   ],
   "source": [
    "model_4.summary()"
   ]
  },
  {
   "cell_type": "code",
   "execution_count": 186,
   "metadata": {
    "ExecuteTime": {
     "end_time": "2019-08-08T13:48:04.275509Z",
     "start_time": "2019-08-08T13:47:28.171158Z"
    },
    "scrolled": true
   },
   "outputs": [
    {
     "name": "stdout",
     "output_type": "stream",
     "text": [
      "Train on 421 samples, validate on 106 samples\n",
      "Epoch 1/50\n",
      "421/421 [==============================] - 6s 14ms/step - loss: 5.9652 - Regression_loss: 4.8561 - Classification_loss: 1.1092 - Regression_acc: 0.1829 - Classification_acc: 0.3135 - val_loss: 5.9913 - val_Regression_loss: 4.8995 - val_Classification_loss: 1.0918 - val_Regression_acc: 0.2170 - val_Classification_acc: 0.3208\n",
      "Epoch 2/50\n",
      "421/421 [==============================] - 3s 7ms/step - loss: 4.6323 - Regression_loss: 3.5768 - Classification_loss: 1.0555 - Regression_acc: 0.2233 - Classification_acc: 0.5297 - val_loss: 5.5518 - val_Regression_loss: 4.4871 - val_Classification_loss: 1.0647 - val_Regression_acc: 0.2075 - val_Classification_acc: 0.4906\n",
      "Epoch 3/50\n",
      "421/421 [==============================] - 3s 8ms/step - loss: 3.7122 - Regression_loss: 2.7068 - Classification_loss: 1.0054 - Regression_acc: 0.2542 - Classification_acc: 0.5843 - val_loss: 5.3886 - val_Regression_loss: 4.3568 - val_Classification_loss: 1.0318 - val_Regression_acc: 0.2170 - val_Classification_acc: 0.5189\n",
      "Epoch 4/50\n",
      "421/421 [==============================] - 3s 7ms/step - loss: 2.9017 - Regression_loss: 1.9627 - Classification_loss: 0.9390 - Regression_acc: 0.2850 - Classification_acc: 0.6366 - val_loss: 5.5186 - val_Regression_loss: 4.4875 - val_Classification_loss: 1.0311 - val_Regression_acc: 0.2075 - val_Classification_acc: 0.5094\n",
      "Epoch 5/50\n",
      "421/421 [==============================] - 3s 7ms/step - loss: 2.7847 - Regression_loss: 1.8770 - Classification_loss: 0.9077 - Regression_acc: 0.2708 - Classification_acc: 0.6532 - val_loss: 6.0110 - val_Regression_loss: 4.9856 - val_Classification_loss: 1.0254 - val_Regression_acc: 0.2170 - val_Classification_acc: 0.4906\n",
      "Epoch 6/50\n",
      "421/421 [==============================] - 3s 7ms/step - loss: 2.5975 - Regression_loss: 1.7403 - Classification_loss: 0.8572 - Regression_acc: 0.3135 - Classification_acc: 0.6746 - val_loss: 5.2608 - val_Regression_loss: 4.2457 - val_Classification_loss: 1.0151 - val_Regression_acc: 0.2075 - val_Classification_acc: 0.5189\n",
      "Epoch 7/50\n",
      "421/421 [==============================] - 3s 7ms/step - loss: 2.5756 - Regression_loss: 1.7341 - Classification_loss: 0.8415 - Regression_acc: 0.3112 - Classification_acc: 0.6722 - val_loss: 6.4450 - val_Regression_loss: 5.3855 - val_Classification_loss: 1.0595 - val_Regression_acc: 0.1604 - val_Classification_acc: 0.5377\n",
      "Epoch 8/50\n",
      "421/421 [==============================] - 3s 7ms/step - loss: 2.6631 - Regression_loss: 1.8533 - Classification_loss: 0.8099 - Regression_acc: 0.3349 - Classification_acc: 0.6888 - val_loss: 5.3445 - val_Regression_loss: 4.3447 - val_Classification_loss: 0.9997 - val_Regression_acc: 0.1792 - val_Classification_acc: 0.5377\n",
      "Epoch 9/50\n",
      "421/421 [==============================] - 3s 7ms/step - loss: 2.4747 - Regression_loss: 1.6675 - Classification_loss: 0.8072 - Regression_acc: 0.3230 - Classification_acc: 0.6722 - val_loss: 5.9788 - val_Regression_loss: 4.9317 - val_Classification_loss: 1.0471 - val_Regression_acc: 0.1887 - val_Classification_acc: 0.4906\n",
      "Epoch 10/50\n",
      "421/421 [==============================] - 3s 7ms/step - loss: 2.2016 - Regression_loss: 1.4468 - Classification_loss: 0.7548 - Regression_acc: 0.3468 - Classification_acc: 0.7078 - val_loss: 5.4332 - val_Regression_loss: 4.3963 - val_Classification_loss: 1.0369 - val_Regression_acc: 0.1981 - val_Classification_acc: 0.5189\n"
     ]
    }
   ],
   "source": [
    "model_4_training = model_4.fit(\n",
    "    X_train_scaled,\n",
    "    [y_reg_train, y_class_train],\n",
    "    validation_data=(X_test_scaled, [y_reg_test, y_class_test]),\n",
    "    batch_size=1,\n",
    "    epochs=50,\n",
    "    callbacks=[early_stopping_monitor, model_save],\n",
    "    verbose=True)"
   ]
  },
  {
   "cell_type": "code",
   "execution_count": 187,
   "metadata": {
    "ExecuteTime": {
     "end_time": "2019-08-08T13:48:04.381514Z",
     "start_time": "2019-08-08T13:48:04.287518Z"
    }
   },
   "outputs": [
    {
     "data": {
      "text/plain": [
       "(11.462805, array([0.0648931, 0.0077849, 0.2104663], dtype=float32))"
      ]
     },
     "execution_count": 187,
     "metadata": {},
     "output_type": "execute_result"
    }
   ],
   "source": [
    "model_3.predict(X_test_scaled)[0][6][0], model_3.predict(X_test_scaled)[1][6]"
   ]
  },
  {
   "cell_type": "code",
   "execution_count": 188,
   "metadata": {
    "ExecuteTime": {
     "end_time": "2019-08-08T13:48:05.045597Z",
     "start_time": "2019-08-08T13:48:04.390507Z"
    }
   },
   "outputs": [
    {
     "data": {
      "text/plain": [
       "(0.45792094, array([0.3171984 , 0.29628068, 0.58179057], dtype=float32))"
      ]
     },
     "execution_count": 188,
     "metadata": {},
     "output_type": "execute_result"
    }
   ],
   "source": [
    "model_4.predict(X_test_scaled)[0][6][0], model_4.predict(X_test_scaled)[1][6]"
   ]
  },
  {
   "cell_type": "code",
   "execution_count": 189,
   "metadata": {
    "ExecuteTime": {
     "end_time": "2019-08-08T13:48:05.712658Z",
     "start_time": "2019-08-08T13:48:05.061673Z"
    }
   },
   "outputs": [
    {
     "data": {
      "text/plain": [
       "<matplotlib.legend.Legend at 0x187d7c222b0>"
      ]
     },
     "execution_count": 189,
     "metadata": {},
     "output_type": "execute_result"
    },
    {
     "data": {
      "image/png": "[encoded data removed]",
      "text/plain": [
       "<Figure size 432x288 with 1 Axes>"
      ]
     },
     "metadata": {
      "needs_background": "light"
     },
     "output_type": "display_data"
    }
   ],
   "source": [
    "plt.plot(model_4_training.history['loss'])\n",
    "plt.xlabel('Epochs')\n",
    "plt.ylim([0, 7])\n",
    "plt.title('Total Loss over Epochs')\n",
    "plt.plot(model_4_training.history['val_loss'])\n",
    "plt.legend(['Total Training loss', 'Total Prediction loss'])"
   ]
  },
  {
   "cell_type": "code",
   "execution_count": 190,
   "metadata": {
    "ExecuteTime": {
     "end_time": "2019-08-08T13:48:06.318457Z",
     "start_time": "2019-08-08T13:48:05.727662Z"
    }
   },
   "outputs": [
    {
     "data": {
      "text/plain": [
       "<matplotlib.legend.Legend at 0x187d8c56470>"
      ]
     },
     "execution_count": 190,
     "metadata": {},
     "output_type": "execute_result"
    },
    {
     "data": {
      "image/png": "[encoded data removed]",
      "text/plain": [
       "<Figure size 432x288 with 1 Axes>"
      ]
     },
     "metadata": {
      "needs_background": "light"
     },
     "output_type": "display_data"
    }
   ],
   "source": [
    "plt.plot(model_4_training.history['Classification_acc'])\n",
    "plt.xlabel('Epochs')\n",
    "plt.ylim([0, 1])\n",
    "plt.title('Total Accuracy over Epochs')\n",
    "plt.plot(model_4_training.history['val_Classification_acc'])\n",
    "plt.legend(['Total Training Accuracy', 'Total Prediction Accuracy'])"
   ]
  },
  {
   "cell_type": "code",
   "execution_count": 191,
   "metadata": {
    "ExecuteTime": {
     "end_time": "2019-08-08T13:48:06.374531Z",
     "start_time": "2019-08-08T13:48:06.331508Z"
    },
    "scrolled": true
   },
   "outputs": [],
   "source": [
    "model_4_prediction = pd.DataFrame(model_4.predict(X_test_scaled)[1])\n",
    "model_4_prediction.columns = ['draw', 'lost', 'won']"
   ]
  },
  {
   "cell_type": "code",
   "execution_count": 231,
   "metadata": {
    "ExecuteTime": {
     "end_time": "2019-08-08T15:05:17.604215Z",
     "start_time": "2019-08-08T15:05:17.585220Z"
    }
   },
   "outputs": [
    {
     "data": {
      "text/html": [
       "<div>\n",
       "<style scoped>\n",
       "    .dataframe tbody tr th:only-of-type {\n",
       "        vertical-align: middle;\n",
       "    }\n",
       "\n",
       "    .dataframe tbody tr th {\n",
       "        vertical-align: top;\n",
       "    }\n",
       "\n",
       "    .dataframe thead th {\n",
       "        text-align: right;\n",
       "    }\n",
       "</style>\n",
       "<table border=\"1\" class=\"dataframe\">\n",
       "  <thead>\n",
       "    <tr style=\"text-align: right;\">\n",
       "      <th></th>\n",
       "      <th>draw</th>\n",
       "      <th>lost</th>\n",
       "      <th>won</th>\n",
       "    </tr>\n",
       "  </thead>\n",
       "  <tbody>\n",
       "    <tr>\n",
       "      <th>0</th>\n",
       "      <td>0.349967</td>\n",
       "      <td>0.456649</td>\n",
       "      <td>0.461337</td>\n",
       "    </tr>\n",
       "    <tr>\n",
       "      <th>1</th>\n",
       "      <td>0.312514</td>\n",
       "      <td>0.275509</td>\n",
       "      <td>0.599061</td>\n",
       "    </tr>\n",
       "    <tr>\n",
       "      <th>2</th>\n",
       "      <td>0.354547</td>\n",
       "      <td>0.480072</td>\n",
       "      <td>0.444976</td>\n",
       "    </tr>\n",
       "    <tr>\n",
       "      <th>3</th>\n",
       "      <td>0.467312</td>\n",
       "      <td>0.892292</td>\n",
       "      <td>0.146693</td>\n",
       "    </tr>\n",
       "    <tr>\n",
       "      <th>4</th>\n",
       "      <td>0.222483</td>\n",
       "      <td>0.041643</td>\n",
       "      <td>0.872570</td>\n",
       "    </tr>\n",
       "  </tbody>\n",
       "</table>\n",
       "</div>"
      ],
      "text/plain": [
       "       draw      lost       won\n",
       "0  0.349967  0.456649  0.461337\n",
       "1  0.312514  0.275509  0.599061\n",
       "2  0.354547  0.480072  0.444976\n",
       "3  0.467312  0.892292  0.146693\n",
       "4  0.222483  0.041643  0.872570"
      ]
     },
     "execution_count": 231,
     "metadata": {},
     "output_type": "execute_result"
    }
   ],
   "source": [
    "model_4_prediction.head()"
   ]
  },
  {
   "cell_type": "code",
   "execution_count": 232,
   "metadata": {
    "ExecuteTime": {
     "end_time": "2019-08-08T15:06:38.200266Z",
     "start_time": "2019-08-08T15:06:38.182261Z"
    }
   },
   "outputs": [
    {
     "data": {
      "text/plain": [
       "array([[ 0,  9, 11],\n",
       "       [ 0, 33, 12],\n",
       "       [ 0, 19, 22]], dtype=int64)"
      ]
     },
     "execution_count": 232,
     "metadata": {},
     "output_type": "execute_result"
    }
   ],
   "source": [
    "cm = confusion_matrix([np.argmax(x) for x in y_class_test.values], [np.argmax(x) for x in model_4_prediction.values])\n",
    "cm"
   ]
  },
  {
   "cell_type": "code",
   "execution_count": 203,
   "metadata": {
    "ExecuteTime": {
     "end_time": "2019-08-08T14:05:12.758950Z",
     "start_time": "2019-08-08T14:05:12.381077Z"
    }
   },
   "outputs": [
    {
     "data": {
      "image/png": "[encoded data removed]",
      "text/plain": [
       "<Figure size 576x576 with 2 Axes>"
      ]
     },
     "metadata": {
      "needs_background": "light"
     },
     "output_type": "display_data"
    }
   ],
   "source": [
    "from sklearn.metrics import confusion_matrix\n",
    "fig, ax = plt.subplots(1, 1, figsize=(8,8))\n",
    "cm = confusion_matrix([np.argmax(x) for x in y_class_test.values], [np.argmax(x) for x in model_4_prediction.values])\n",
    "cm = cm.astype('float') / cm.sum(axis=1)[:, np.newaxis]\n",
    "sns.heatmap(cm, ax = ax, annot=True, square=True)\n",
    "fig.suptitle('Confusion Matrix', fontsize=20)\n",
    "plt.xlabel('Prediction', fontsize=18)\n",
    "plt.ylabel('Actual', fontsize=16)\n",
    "plt.show()\n",
    "\n",
    "\n",
    "#### michi code\n",
    "def pretty_confusion(target, prediction):\n",
    "    \"\"\"Prettify the on-board confusion matrix of sklearn.\"\"\"\n",
    "    \n",
    "    cmc = [\"Condition positive\", \"Condition negative\"]\n",
    "    cmi = [\"Predicted condition positive\", \"Predicted condition negative\"]\n",
    "    \n",
    "    matrix = confusion_matrix(target, prediction)\n",
    "    cm = matrix.astype('float') / matrix.sum(axis=1)[:, np.newaxis]\n",
    "    return pd.DataFrame(cm , columns=cmc, index=cmi)"
   ]
  },
  {
   "cell_type": "code",
   "execution_count": 193,
   "metadata": {
    "ExecuteTime": {
     "end_time": "2019-08-08T13:48:06.941466Z",
     "start_time": "2019-08-08T13:48:06.926471Z"
    }
   },
   "outputs": [
    {
     "data": {
      "text/plain": [
       "array([[0.        , 0.45      , 0.55      ],\n",
       "       [0.        , 0.73333333, 0.26666667],\n",
       "       [0.        , 0.46341463, 0.53658537]])"
      ]
     },
     "execution_count": 193,
     "metadata": {},
     "output_type": "execute_result"
    }
   ],
   "source": [
    "cm"
   ]
  },
  {
   "cell_type": "code",
   "execution_count": 194,
   "metadata": {
    "ExecuteTime": {
     "end_time": "2019-08-08T13:48:07.006467Z",
     "start_time": "2019-08-08T13:48:06.953468Z"
    },
    "scrolled": true
   },
   "outputs": [
    {
     "data": {
      "text/html": [
       "<div>\n",
       "<style scoped>\n",
       "    .dataframe tbody tr th:only-of-type {\n",
       "        vertical-align: middle;\n",
       "    }\n",
       "\n",
       "    .dataframe tbody tr th {\n",
       "        vertical-align: top;\n",
       "    }\n",
       "\n",
       "    .dataframe thead th {\n",
       "        text-align: right;\n",
       "    }\n",
       "</style>\n",
       "<table border=\"1\" class=\"dataframe\">\n",
       "  <thead>\n",
       "    <tr style=\"text-align: right;\">\n",
       "      <th></th>\n",
       "      <th>draw</th>\n",
       "      <th>lost</th>\n",
       "      <th>won</th>\n",
       "    </tr>\n",
       "  </thead>\n",
       "  <tbody>\n",
       "    <tr>\n",
       "      <th>11</th>\n",
       "      <td>0</td>\n",
       "      <td>0</td>\n",
       "      <td>1</td>\n",
       "    </tr>\n",
       "    <tr>\n",
       "      <th>444</th>\n",
       "      <td>0</td>\n",
       "      <td>0</td>\n",
       "      <td>1</td>\n",
       "    </tr>\n",
       "    <tr>\n",
       "      <th>414</th>\n",
       "      <td>0</td>\n",
       "      <td>0</td>\n",
       "      <td>1</td>\n",
       "    </tr>\n",
       "    <tr>\n",
       "      <th>150</th>\n",
       "      <td>1</td>\n",
       "      <td>0</td>\n",
       "      <td>0</td>\n",
       "    </tr>\n",
       "    <tr>\n",
       "      <th>473</th>\n",
       "      <td>1</td>\n",
       "      <td>0</td>\n",
       "      <td>0</td>\n",
       "    </tr>\n",
       "    <tr>\n",
       "      <th>75</th>\n",
       "      <td>0</td>\n",
       "      <td>0</td>\n",
       "      <td>1</td>\n",
       "    </tr>\n",
       "    <tr>\n",
       "      <th>504</th>\n",
       "      <td>0</td>\n",
       "      <td>0</td>\n",
       "      <td>1</td>\n",
       "    </tr>\n",
       "    <tr>\n",
       "      <th>102</th>\n",
       "      <td>0</td>\n",
       "      <td>0</td>\n",
       "      <td>1</td>\n",
       "    </tr>\n",
       "    <tr>\n",
       "      <th>424</th>\n",
       "      <td>0</td>\n",
       "      <td>0</td>\n",
       "      <td>1</td>\n",
       "    </tr>\n",
       "    <tr>\n",
       "      <th>291</th>\n",
       "      <td>0</td>\n",
       "      <td>0</td>\n",
       "      <td>1</td>\n",
       "    </tr>\n",
       "    <tr>\n",
       "      <th>455</th>\n",
       "      <td>0</td>\n",
       "      <td>0</td>\n",
       "      <td>1</td>\n",
       "    </tr>\n",
       "    <tr>\n",
       "      <th>145</th>\n",
       "      <td>0</td>\n",
       "      <td>0</td>\n",
       "      <td>1</td>\n",
       "    </tr>\n",
       "    <tr>\n",
       "      <th>433</th>\n",
       "      <td>1</td>\n",
       "      <td>0</td>\n",
       "      <td>0</td>\n",
       "    </tr>\n",
       "    <tr>\n",
       "      <th>59</th>\n",
       "      <td>0</td>\n",
       "      <td>1</td>\n",
       "      <td>0</td>\n",
       "    </tr>\n",
       "    <tr>\n",
       "      <th>164</th>\n",
       "      <td>0</td>\n",
       "      <td>0</td>\n",
       "      <td>1</td>\n",
       "    </tr>\n",
       "    <tr>\n",
       "      <th>5</th>\n",
       "      <td>1</td>\n",
       "      <td>0</td>\n",
       "      <td>0</td>\n",
       "    </tr>\n",
       "    <tr>\n",
       "      <th>453</th>\n",
       "      <td>1</td>\n",
       "      <td>0</td>\n",
       "      <td>0</td>\n",
       "    </tr>\n",
       "    <tr>\n",
       "      <th>179</th>\n",
       "      <td>1</td>\n",
       "      <td>0</td>\n",
       "      <td>0</td>\n",
       "    </tr>\n",
       "    <tr>\n",
       "      <th>82</th>\n",
       "      <td>0</td>\n",
       "      <td>1</td>\n",
       "      <td>0</td>\n",
       "    </tr>\n",
       "    <tr>\n",
       "      <th>48</th>\n",
       "      <td>0</td>\n",
       "      <td>0</td>\n",
       "      <td>1</td>\n",
       "    </tr>\n",
       "    <tr>\n",
       "      <th>337</th>\n",
       "      <td>0</td>\n",
       "      <td>1</td>\n",
       "      <td>0</td>\n",
       "    </tr>\n",
       "    <tr>\n",
       "      <th>162</th>\n",
       "      <td>0</td>\n",
       "      <td>0</td>\n",
       "      <td>1</td>\n",
       "    </tr>\n",
       "    <tr>\n",
       "      <th>57</th>\n",
       "      <td>0</td>\n",
       "      <td>0</td>\n",
       "      <td>1</td>\n",
       "    </tr>\n",
       "    <tr>\n",
       "      <th>419</th>\n",
       "      <td>0</td>\n",
       "      <td>0</td>\n",
       "      <td>1</td>\n",
       "    </tr>\n",
       "    <tr>\n",
       "      <th>13</th>\n",
       "      <td>1</td>\n",
       "      <td>0</td>\n",
       "      <td>0</td>\n",
       "    </tr>\n",
       "    <tr>\n",
       "      <th>204</th>\n",
       "      <td>1</td>\n",
       "      <td>0</td>\n",
       "      <td>0</td>\n",
       "    </tr>\n",
       "    <tr>\n",
       "      <th>285</th>\n",
       "      <td>0</td>\n",
       "      <td>1</td>\n",
       "      <td>0</td>\n",
       "    </tr>\n",
       "    <tr>\n",
       "      <th>72</th>\n",
       "      <td>0</td>\n",
       "      <td>1</td>\n",
       "      <td>0</td>\n",
       "    </tr>\n",
       "    <tr>\n",
       "      <th>138</th>\n",
       "      <td>1</td>\n",
       "      <td>0</td>\n",
       "      <td>0</td>\n",
       "    </tr>\n",
       "    <tr>\n",
       "      <th>9</th>\n",
       "      <td>0</td>\n",
       "      <td>1</td>\n",
       "      <td>0</td>\n",
       "    </tr>\n",
       "    <tr>\n",
       "      <th>...</th>\n",
       "      <td>...</td>\n",
       "      <td>...</td>\n",
       "      <td>...</td>\n",
       "    </tr>\n",
       "    <tr>\n",
       "      <th>192</th>\n",
       "      <td>0</td>\n",
       "      <td>1</td>\n",
       "      <td>0</td>\n",
       "    </tr>\n",
       "    <tr>\n",
       "      <th>474</th>\n",
       "      <td>1</td>\n",
       "      <td>0</td>\n",
       "      <td>0</td>\n",
       "    </tr>\n",
       "    <tr>\n",
       "      <th>114</th>\n",
       "      <td>0</td>\n",
       "      <td>0</td>\n",
       "      <td>1</td>\n",
       "    </tr>\n",
       "    <tr>\n",
       "      <th>400</th>\n",
       "      <td>0</td>\n",
       "      <td>1</td>\n",
       "      <td>0</td>\n",
       "    </tr>\n",
       "    <tr>\n",
       "      <th>352</th>\n",
       "      <td>0</td>\n",
       "      <td>0</td>\n",
       "      <td>1</td>\n",
       "    </tr>\n",
       "    <tr>\n",
       "      <th>509</th>\n",
       "      <td>0</td>\n",
       "      <td>0</td>\n",
       "      <td>1</td>\n",
       "    </tr>\n",
       "    <tr>\n",
       "      <th>407</th>\n",
       "      <td>1</td>\n",
       "      <td>0</td>\n",
       "      <td>0</td>\n",
       "    </tr>\n",
       "    <tr>\n",
       "      <th>55</th>\n",
       "      <td>0</td>\n",
       "      <td>1</td>\n",
       "      <td>0</td>\n",
       "    </tr>\n",
       "    <tr>\n",
       "      <th>289</th>\n",
       "      <td>0</td>\n",
       "      <td>0</td>\n",
       "      <td>1</td>\n",
       "    </tr>\n",
       "    <tr>\n",
       "      <th>276</th>\n",
       "      <td>0</td>\n",
       "      <td>1</td>\n",
       "      <td>0</td>\n",
       "    </tr>\n",
       "    <tr>\n",
       "      <th>93</th>\n",
       "      <td>1</td>\n",
       "      <td>0</td>\n",
       "      <td>0</td>\n",
       "    </tr>\n",
       "    <tr>\n",
       "      <th>316</th>\n",
       "      <td>0</td>\n",
       "      <td>0</td>\n",
       "      <td>1</td>\n",
       "    </tr>\n",
       "    <tr>\n",
       "      <th>328</th>\n",
       "      <td>0</td>\n",
       "      <td>1</td>\n",
       "      <td>0</td>\n",
       "    </tr>\n",
       "    <tr>\n",
       "      <th>170</th>\n",
       "      <td>0</td>\n",
       "      <td>0</td>\n",
       "      <td>1</td>\n",
       "    </tr>\n",
       "    <tr>\n",
       "      <th>182</th>\n",
       "      <td>0</td>\n",
       "      <td>1</td>\n",
       "      <td>0</td>\n",
       "    </tr>\n",
       "    <tr>\n",
       "      <th>341</th>\n",
       "      <td>0</td>\n",
       "      <td>1</td>\n",
       "      <td>0</td>\n",
       "    </tr>\n",
       "    <tr>\n",
       "      <th>468</th>\n",
       "      <td>0</td>\n",
       "      <td>0</td>\n",
       "      <td>1</td>\n",
       "    </tr>\n",
       "    <tr>\n",
       "      <th>456</th>\n",
       "      <td>0</td>\n",
       "      <td>1</td>\n",
       "      <td>0</td>\n",
       "    </tr>\n",
       "    <tr>\n",
       "      <th>513</th>\n",
       "      <td>0</td>\n",
       "      <td>0</td>\n",
       "      <td>1</td>\n",
       "    </tr>\n",
       "    <tr>\n",
       "      <th>458</th>\n",
       "      <td>0</td>\n",
       "      <td>1</td>\n",
       "      <td>0</td>\n",
       "    </tr>\n",
       "    <tr>\n",
       "      <th>202</th>\n",
       "      <td>0</td>\n",
       "      <td>0</td>\n",
       "      <td>1</td>\n",
       "    </tr>\n",
       "    <tr>\n",
       "      <th>266</th>\n",
       "      <td>0</td>\n",
       "      <td>1</td>\n",
       "      <td>0</td>\n",
       "    </tr>\n",
       "    <tr>\n",
       "      <th>196</th>\n",
       "      <td>0</td>\n",
       "      <td>0</td>\n",
       "      <td>1</td>\n",
       "    </tr>\n",
       "    <tr>\n",
       "      <th>177</th>\n",
       "      <td>0</td>\n",
       "      <td>0</td>\n",
       "      <td>1</td>\n",
       "    </tr>\n",
       "    <tr>\n",
       "      <th>26</th>\n",
       "      <td>0</td>\n",
       "      <td>1</td>\n",
       "      <td>0</td>\n",
       "    </tr>\n",
       "    <tr>\n",
       "      <th>132</th>\n",
       "      <td>0</td>\n",
       "      <td>0</td>\n",
       "      <td>1</td>\n",
       "    </tr>\n",
       "    <tr>\n",
       "      <th>35</th>\n",
       "      <td>0</td>\n",
       "      <td>0</td>\n",
       "      <td>1</td>\n",
       "    </tr>\n",
       "    <tr>\n",
       "      <th>432</th>\n",
       "      <td>0</td>\n",
       "      <td>0</td>\n",
       "      <td>1</td>\n",
       "    </tr>\n",
       "    <tr>\n",
       "      <th>306</th>\n",
       "      <td>1</td>\n",
       "      <td>0</td>\n",
       "      <td>0</td>\n",
       "    </tr>\n",
       "    <tr>\n",
       "      <th>49</th>\n",
       "      <td>0</td>\n",
       "      <td>0</td>\n",
       "      <td>1</td>\n",
       "    </tr>\n",
       "  </tbody>\n",
       "</table>\n",
       "<p>106 rows × 3 columns</p>\n",
       "</div>"
      ],
      "text/plain": [
       "     draw  lost  won\n",
       "11      0     0    1\n",
       "444     0     0    1\n",
       "414     0     0    1\n",
       "150     1     0    0\n",
       "473     1     0    0\n",
       "75      0     0    1\n",
       "504     0     0    1\n",
       "102     0     0    1\n",
       "424     0     0    1\n",
       "291     0     0    1\n",
       "455     0     0    1\n",
       "145     0     0    1\n",
       "433     1     0    0\n",
       "59      0     1    0\n",
       "164     0     0    1\n",
       "5       1     0    0\n",
       "453     1     0    0\n",
       "179     1     0    0\n",
       "82      0     1    0\n",
       "48      0     0    1\n",
       "337     0     1    0\n",
       "162     0     0    1\n",
       "57      0     0    1\n",
       "419     0     0    1\n",
       "13      1     0    0\n",
       "204     1     0    0\n",
       "285     0     1    0\n",
       "72      0     1    0\n",
       "138     1     0    0\n",
       "9       0     1    0\n",
       "..    ...   ...  ...\n",
       "192     0     1    0\n",
       "474     1     0    0\n",
       "114     0     0    1\n",
       "400     0     1    0\n",
       "352     0     0    1\n",
       "509     0     0    1\n",
       "407     1     0    0\n",
       "55      0     1    0\n",
       "289     0     0    1\n",
       "276     0     1    0\n",
       "93      1     0    0\n",
       "316     0     0    1\n",
       "328     0     1    0\n",
       "170     0     0    1\n",
       "182     0     1    0\n",
       "341     0     1    0\n",
       "468     0     0    1\n",
       "456     0     1    0\n",
       "513     0     0    1\n",
       "458     0     1    0\n",
       "202     0     0    1\n",
       "266     0     1    0\n",
       "196     0     0    1\n",
       "177     0     0    1\n",
       "26      0     1    0\n",
       "132     0     0    1\n",
       "35      0     0    1\n",
       "432     0     0    1\n",
       "306     1     0    0\n",
       "49      0     0    1\n",
       "\n",
       "[106 rows x 3 columns]"
      ]
     },
     "execution_count": 194,
     "metadata": {},
     "output_type": "execute_result"
    }
   ],
   "source": [
    "y_class_test"
   ]
  },
  {
   "cell_type": "code",
   "execution_count": 195,
   "metadata": {
    "ExecuteTime": {
     "end_time": "2019-08-08T13:48:07.038471Z",
     "start_time": "2019-08-08T13:48:07.012466Z"
    }
   },
   "outputs": [],
   "source": [
    "scaler.fit(pred_df)\n",
    "\n",
    "pred_df_scaled = scaler.transform(pred_df)\n"
   ]
  },
  {
   "cell_type": "code",
   "execution_count": 196,
   "metadata": {
    "ExecuteTime": {
     "end_time": "2019-08-08T13:48:07.072470Z",
     "start_time": "2019-08-08T13:48:07.053468Z"
    }
   },
   "outputs": [
    {
     "data": {
      "text/plain": [
       "[array([[-0.85371435],\n",
       "        [-1.7321906 ],\n",
       "        [ 1.4891704 ],\n",
       "        [-0.6323925 ],\n",
       "        [ 1.0574123 ],\n",
       "        [ 0.24048339]], dtype=float32),\n",
       " array([[0.40706712, 0.72419906, 0.27799165],\n",
       "        [0.4714028 , 0.89947   , 0.14005929],\n",
       "        [0.25468898, 0.09077257, 0.79250664],\n",
       "        [0.3912627 , 0.65847826, 0.32350945],\n",
       "        [0.27985293, 0.15424398, 0.71448165],\n",
       "        [0.33138463, 0.36317125, 0.52926075]], dtype=float32)]"
      ]
     },
     "execution_count": 196,
     "metadata": {},
     "output_type": "execute_result"
    }
   ],
   "source": [
    "model_4.predict(pred_df_scaled)"
   ]
  },
  {
   "cell_type": "code",
   "execution_count": 197,
   "metadata": {
    "ExecuteTime": {
     "end_time": "2019-08-08T13:48:07.106468Z",
     "start_time": "2019-08-08T13:48:07.084454Z"
    }
   },
   "outputs": [
    {
     "data": {
      "text/html": [
       "<div>\n",
       "<style scoped>\n",
       "    .dataframe tbody tr th:only-of-type {\n",
       "        vertical-align: middle;\n",
       "    }\n",
       "\n",
       "    .dataframe tbody tr th {\n",
       "        vertical-align: top;\n",
       "    }\n",
       "\n",
       "    .dataframe thead th {\n",
       "        text-align: right;\n",
       "    }\n",
       "</style>\n",
       "<table border=\"1\" class=\"dataframe\">\n",
       "  <thead>\n",
       "    <tr style=\"text-align: right;\">\n",
       "      <th></th>\n",
       "      <th>draw</th>\n",
       "      <th>lost</th>\n",
       "      <th>won</th>\n",
       "    </tr>\n",
       "  </thead>\n",
       "  <tbody>\n",
       "    <tr>\n",
       "      <th>0</th>\n",
       "      <td>0</td>\n",
       "      <td>1</td>\n",
       "      <td>0</td>\n",
       "    </tr>\n",
       "    <tr>\n",
       "      <th>1</th>\n",
       "      <td>0</td>\n",
       "      <td>1</td>\n",
       "      <td>0</td>\n",
       "    </tr>\n",
       "    <tr>\n",
       "      <th>2</th>\n",
       "      <td>0</td>\n",
       "      <td>0</td>\n",
       "      <td>1</td>\n",
       "    </tr>\n",
       "    <tr>\n",
       "      <th>3</th>\n",
       "      <td>0</td>\n",
       "      <td>1</td>\n",
       "      <td>0</td>\n",
       "    </tr>\n",
       "    <tr>\n",
       "      <th>4</th>\n",
       "      <td>1</td>\n",
       "      <td>0</td>\n",
       "      <td>0</td>\n",
       "    </tr>\n",
       "  </tbody>\n",
       "</table>\n",
       "</div>"
      ],
      "text/plain": [
       "   draw  lost  won\n",
       "0     0     1    0\n",
       "1     0     1    0\n",
       "2     0     0    1\n",
       "3     0     1    0\n",
       "4     1     0    0"
      ]
     },
     "execution_count": 197,
     "metadata": {},
     "output_type": "execute_result"
    }
   ],
   "source": [
    "y_cat.head()"
   ]
  },
  {
   "cell_type": "code",
   "execution_count": 198,
   "metadata": {
    "ExecuteTime": {
     "end_time": "2019-08-08T13:48:07.185466Z",
     "start_time": "2019-08-08T13:48:07.114466Z"
    },
    "scrolled": true
   },
   "outputs": [
    {
     "data": {
      "text/html": [
       "<div>\n",
       "<style scoped>\n",
       "    .dataframe tbody tr th:only-of-type {\n",
       "        vertical-align: middle;\n",
       "    }\n",
       "\n",
       "    .dataframe tbody tr th {\n",
       "        vertical-align: top;\n",
       "    }\n",
       "\n",
       "    .dataframe thead th {\n",
       "        text-align: right;\n",
       "    }\n",
       "</style>\n",
       "<table border=\"1\" class=\"dataframe\">\n",
       "  <thead>\n",
       "    <tr style=\"text-align: right;\">\n",
       "      <th></th>\n",
       "      <th>year</th>\n",
       "      <th>month</th>\n",
       "      <th>break</th>\n",
       "      <th>homeTotalGoalsShoot</th>\n",
       "      <th>homeTotalGoalsReceived</th>\n",
       "      <th>homeTotalGoalDiff</th>\n",
       "      <th>guestTotalGoalsShoot</th>\n",
       "      <th>guestTotalGoalsReceived</th>\n",
       "      <th>guestTotalGoalDiff</th>\n",
       "      <th>homeTeamGoalsShootAtHome</th>\n",
       "      <th>...</th>\n",
       "      <th>SV Wimpassing</th>\n",
       "      <th>Shkendija Tetovo</th>\n",
       "      <th>Slovan Bratislava</th>\n",
       "      <th>Spartak Moskau</th>\n",
       "      <th>TSV Hartberg</th>\n",
       "      <th>Vitória Guimarães SC</th>\n",
       "      <th>WSG Tirol</th>\n",
       "      <th>WSG Wattens</th>\n",
       "      <th>Wolfsberger AC</th>\n",
       "      <th>ZSKA Sofia</th>\n",
       "    </tr>\n",
       "  </thead>\n",
       "  <tbody>\n",
       "    <tr>\n",
       "      <th>0</th>\n",
       "      <td>2019</td>\n",
       "      <td>8</td>\n",
       "      <td>6</td>\n",
       "      <td>1.568627</td>\n",
       "      <td>0.411765</td>\n",
       "      <td>1.156863</td>\n",
       "      <td>1.555556</td>\n",
       "      <td>1.444444</td>\n",
       "      <td>0.111111</td>\n",
       "      <td>1.458333</td>\n",
       "      <td>...</td>\n",
       "      <td>0</td>\n",
       "      <td>0</td>\n",
       "      <td>0</td>\n",
       "      <td>0</td>\n",
       "      <td>0</td>\n",
       "      <td>0</td>\n",
       "      <td>0</td>\n",
       "      <td>0</td>\n",
       "      <td>0</td>\n",
       "      <td>0</td>\n",
       "    </tr>\n",
       "    <tr>\n",
       "      <th>1</th>\n",
       "      <td>2019</td>\n",
       "      <td>8</td>\n",
       "      <td>7</td>\n",
       "      <td>1.166667</td>\n",
       "      <td>0.972222</td>\n",
       "      <td>0.194444</td>\n",
       "      <td>2.162791</td>\n",
       "      <td>0.813953</td>\n",
       "      <td>1.348837</td>\n",
       "      <td>1.352941</td>\n",
       "      <td>...</td>\n",
       "      <td>0</td>\n",
       "      <td>0</td>\n",
       "      <td>0</td>\n",
       "      <td>0</td>\n",
       "      <td>0</td>\n",
       "      <td>0</td>\n",
       "      <td>0</td>\n",
       "      <td>0</td>\n",
       "      <td>0</td>\n",
       "      <td>0</td>\n",
       "    </tr>\n",
       "    <tr>\n",
       "      <th>2</th>\n",
       "      <td>2019</td>\n",
       "      <td>8</td>\n",
       "      <td>6</td>\n",
       "      <td>2.574074</td>\n",
       "      <td>0.277778</td>\n",
       "      <td>2.296296</td>\n",
       "      <td>1.513514</td>\n",
       "      <td>1.405405</td>\n",
       "      <td>0.108108</td>\n",
       "      <td>2.760000</td>\n",
       "      <td>...</td>\n",
       "      <td>0</td>\n",
       "      <td>0</td>\n",
       "      <td>0</td>\n",
       "      <td>0</td>\n",
       "      <td>0</td>\n",
       "      <td>0</td>\n",
       "      <td>0</td>\n",
       "      <td>0</td>\n",
       "      <td>1</td>\n",
       "      <td>0</td>\n",
       "    </tr>\n",
       "    <tr>\n",
       "      <th>3</th>\n",
       "      <td>2019</td>\n",
       "      <td>8</td>\n",
       "      <td>8</td>\n",
       "      <td>1.675676</td>\n",
       "      <td>0.729730</td>\n",
       "      <td>0.945946</td>\n",
       "      <td>1.100000</td>\n",
       "      <td>1.350000</td>\n",
       "      <td>-0.250000</td>\n",
       "      <td>1.736842</td>\n",
       "      <td>...</td>\n",
       "      <td>0</td>\n",
       "      <td>0</td>\n",
       "      <td>0</td>\n",
       "      <td>0</td>\n",
       "      <td>0</td>\n",
       "      <td>0</td>\n",
       "      <td>0</td>\n",
       "      <td>0</td>\n",
       "      <td>0</td>\n",
       "      <td>0</td>\n",
       "    </tr>\n",
       "    <tr>\n",
       "      <th>4</th>\n",
       "      <td>2019</td>\n",
       "      <td>8</td>\n",
       "      <td>8</td>\n",
       "      <td>1.666667</td>\n",
       "      <td>0.333333</td>\n",
       "      <td>1.333333</td>\n",
       "      <td>1.263158</td>\n",
       "      <td>1.657895</td>\n",
       "      <td>-0.394737</td>\n",
       "      <td>3.000000</td>\n",
       "      <td>...</td>\n",
       "      <td>0</td>\n",
       "      <td>0</td>\n",
       "      <td>0</td>\n",
       "      <td>0</td>\n",
       "      <td>0</td>\n",
       "      <td>0</td>\n",
       "      <td>0</td>\n",
       "      <td>0</td>\n",
       "      <td>0</td>\n",
       "      <td>0</td>\n",
       "    </tr>\n",
       "    <tr>\n",
       "      <th>5</th>\n",
       "      <td>2019</td>\n",
       "      <td>8</td>\n",
       "      <td>7</td>\n",
       "      <td>1.371429</td>\n",
       "      <td>0.685714</td>\n",
       "      <td>0.685714</td>\n",
       "      <td>1.473684</td>\n",
       "      <td>1.500000</td>\n",
       "      <td>-0.026316</td>\n",
       "      <td>1.470588</td>\n",
       "      <td>...</td>\n",
       "      <td>0</td>\n",
       "      <td>0</td>\n",
       "      <td>0</td>\n",
       "      <td>0</td>\n",
       "      <td>0</td>\n",
       "      <td>0</td>\n",
       "      <td>0</td>\n",
       "      <td>0</td>\n",
       "      <td>0</td>\n",
       "      <td>0</td>\n",
       "    </tr>\n",
       "  </tbody>\n",
       "</table>\n",
       "<p>6 rows × 203 columns</p>\n",
       "</div>"
      ],
      "text/plain": [
       "   year  month  break  homeTotalGoalsShoot  homeTotalGoalsReceived  \\\n",
       "0  2019      8      6             1.568627                0.411765   \n",
       "1  2019      8      7             1.166667                0.972222   \n",
       "2  2019      8      6             2.574074                0.277778   \n",
       "3  2019      8      8             1.675676                0.729730   \n",
       "4  2019      8      8             1.666667                0.333333   \n",
       "5  2019      8      7             1.371429                0.685714   \n",
       "\n",
       "   homeTotalGoalDiff  guestTotalGoalsShoot  guestTotalGoalsReceived  \\\n",
       "0           1.156863              1.555556                 1.444444   \n",
       "1           0.194444              2.162791                 0.813953   \n",
       "2           2.296296              1.513514                 1.405405   \n",
       "3           0.945946              1.100000                 1.350000   \n",
       "4           1.333333              1.263158                 1.657895   \n",
       "5           0.685714              1.473684                 1.500000   \n",
       "\n",
       "   guestTotalGoalDiff  homeTeamGoalsShootAtHome  ...  SV Wimpassing  \\\n",
       "0            0.111111                  1.458333  ...              0   \n",
       "1            1.348837                  1.352941  ...              0   \n",
       "2            0.108108                  2.760000  ...              0   \n",
       "3           -0.250000                  1.736842  ...              0   \n",
       "4           -0.394737                  3.000000  ...              0   \n",
       "5           -0.026316                  1.470588  ...              0   \n",
       "\n",
       "   Shkendija Tetovo  Slovan Bratislava  Spartak Moskau  TSV Hartberg  \\\n",
       "0                 0                  0               0             0   \n",
       "1                 0                  0               0             0   \n",
       "2                 0                  0               0             0   \n",
       "3                 0                  0               0             0   \n",
       "4                 0                  0               0             0   \n",
       "5                 0                  0               0             0   \n",
       "\n",
       "   Vitória Guimarães SC  WSG Tirol  WSG Wattens  Wolfsberger AC  ZSKA Sofia  \n",
       "0                     0          0            0               0           0  \n",
       "1                     0          0            0               0           0  \n",
       "2                     0          0            0               1           0  \n",
       "3                     0          0            0               0           0  \n",
       "4                     0          0            0               0           0  \n",
       "5                     0          0            0               0           0  \n",
       "\n",
       "[6 rows x 203 columns]"
      ]
     },
     "execution_count": 198,
     "metadata": {},
     "output_type": "execute_result"
    }
   ],
   "source": [
    "pred_df"
   ]
  },
  {
   "cell_type": "code",
   "execution_count": 199,
   "metadata": {
    "ExecuteTime": {
     "end_time": "2019-08-08T13:48:08.012728Z",
     "start_time": "2019-08-08T13:48:07.196455Z"
    }
   },
   "outputs": [],
   "source": [
    "model_4.load_weights(\"best_model.hdf5\")"
   ]
  },
  {
   "cell_type": "code",
   "execution_count": 200,
   "metadata": {
    "ExecuteTime": {
     "end_time": "2019-08-08T13:48:08.209424Z",
     "start_time": "2019-08-08T13:48:08.012728Z"
    }
   },
   "outputs": [],
   "source": [
    "model_4.compile(loss=['mse', 'categorical_crossentropy'],\n",
    "             optimizer='adam',\n",
    "             metrics=['accuracy'])"
   ]
  },
  {
   "cell_type": "code",
   "execution_count": 214,
   "metadata": {
    "ExecuteTime": {
     "end_time": "2019-08-08T14:13:07.437416Z",
     "start_time": "2019-08-08T14:13:07.412406Z"
    }
   },
   "outputs": [
    {
     "data": {
      "text/plain": [
       "[array([[-0.68542755],\n",
       "        [-2.7657099 ],\n",
       "        [ 1.997426  ],\n",
       "        [ 0.16938458],\n",
       "        [ 1.078272  ],\n",
       "        [ 0.19402003]], dtype=float32),\n",
       " array([[0.42305166, 0.64697665, 0.4080221 ],\n",
       "        [0.57607234, 0.94603014, 0.15363088],\n",
       "        [0.24863863, 0.090597  , 0.79389817],\n",
       "        [0.3626775 , 0.42016596, 0.54391474],\n",
       "        [0.3029474 , 0.2127116 , 0.68114877],\n",
       "        [0.36099052, 0.41366538, 0.54783165]], dtype=float32)]"
      ]
     },
     "execution_count": 214,
     "metadata": {},
     "output_type": "execute_result"
    }
   ],
   "source": [
    "model_4_final_prediction = model_4.predict(pred_df_scaled)\n",
    "model_4_final_prediction"
   ]
  },
  {
   "cell_type": "code",
   "execution_count": 234,
   "metadata": {
    "ExecuteTime": {
     "end_time": "2019-08-08T15:23:44.235929Z",
     "start_time": "2019-08-08T15:23:44.228926Z"
    }
   },
   "outputs": [],
   "source": [
    "r_prediction = [0.1947315, -0.9286356,  2.6105324,  0.5403936,  1.2018728,  0.8545508]"
   ]
  },
  {
   "cell_type": "code",
   "execution_count": 238,
   "metadata": {
    "ExecuteTime": {
     "end_time": "2019-08-08T15:25:15.752052Z",
     "start_time": "2019-08-08T15:25:15.725053Z"
    }
   },
   "outputs": [
    {
     "data": {
      "text/html": [
       "<div>\n",
       "<style scoped>\n",
       "    .dataframe tbody tr th:only-of-type {\n",
       "        vertical-align: middle;\n",
       "    }\n",
       "\n",
       "    .dataframe tbody tr th {\n",
       "        vertical-align: top;\n",
       "    }\n",
       "\n",
       "    .dataframe thead th {\n",
       "        text-align: right;\n",
       "    }\n",
       "</style>\n",
       "<table border=\"1\" class=\"dataframe\">\n",
       "  <thead>\n",
       "    <tr style=\"text-align: right;\">\n",
       "      <th></th>\n",
       "      <th>hoamTeam</th>\n",
       "      <th>guestTeam</th>\n",
       "      <th>resultNumeric</th>\n",
       "      <th>r_pred</th>\n",
       "    </tr>\n",
       "  </thead>\n",
       "  <tbody>\n",
       "    <tr>\n",
       "      <th>0</th>\n",
       "      <td>SK Rapid Wien</td>\n",
       "      <td>SC Rheindorf Altach</td>\n",
       "      <td>-0.685428</td>\n",
       "      <td>0.194732</td>\n",
       "    </tr>\n",
       "    <tr>\n",
       "      <th>1</th>\n",
       "      <td>FC Admira Wacker Mödling</td>\n",
       "      <td>LASK</td>\n",
       "      <td>-2.765710</td>\n",
       "      <td>-0.928636</td>\n",
       "    </tr>\n",
       "    <tr>\n",
       "      <th>2</th>\n",
       "      <td>Red Bull Salzburg</td>\n",
       "      <td>Wolfsberger AC</td>\n",
       "      <td>1.997426</td>\n",
       "      <td>2.610532</td>\n",
       "    </tr>\n",
       "    <tr>\n",
       "      <th>3</th>\n",
       "      <td>TSV Hartberg</td>\n",
       "      <td>SK Sturm Graz</td>\n",
       "      <td>0.169385</td>\n",
       "      <td>0.540394</td>\n",
       "    </tr>\n",
       "    <tr>\n",
       "      <th>4</th>\n",
       "      <td>WSG Tirol</td>\n",
       "      <td>SKN St. Pölten</td>\n",
       "      <td>1.078272</td>\n",
       "      <td>1.201873</td>\n",
       "    </tr>\n",
       "    <tr>\n",
       "      <th>5</th>\n",
       "      <td>SV Mattersburg</td>\n",
       "      <td>FK Austria Wien</td>\n",
       "      <td>0.194020</td>\n",
       "      <td>0.854551</td>\n",
       "    </tr>\n",
       "  </tbody>\n",
       "</table>\n",
       "</div>"
      ],
      "text/plain": [
       "                   hoamTeam            guestTeam  resultNumeric    r_pred\n",
       "0             SK Rapid Wien  SC Rheindorf Altach      -0.685428  0.194732\n",
       "1  FC Admira Wacker Mödling                 LASK      -2.765710 -0.928636\n",
       "2         Red Bull Salzburg       Wolfsberger AC       1.997426  2.610532\n",
       "3              TSV Hartberg        SK Sturm Graz       0.169385  0.540394\n",
       "4                 WSG Tirol       SKN St. Pölten       1.078272  1.201873\n",
       "5            SV Mattersburg      FK Austria Wien       0.194020  0.854551"
      ]
     },
     "execution_count": 238,
     "metadata": {},
     "output_type": "execute_result"
    }
   ],
   "source": [
    "final_df = pd.concat([pred_df_org[\"hoamTeam\"], pred_df_org[\"guestTeam\"], pd.DataFrame(model_4_final_prediction[0]), pd.DataFrame(r_prediction)], axis=1)\n",
    "final_df.columns = ['hoamTeam', 'guestTeam', 'resultNumeric', 'r_pred']\n",
    "final_df"
   ]
  }
 ],
 "metadata": {
  "kernelspec": {
   "display_name": "Python 3",
   "language": "python",
   "name": "python3"
  },
  "language_info": {
   "codemirror_mode": {
    "name": "ipython",
    "version": 3
   },
   "file_extension": ".py",
   "mimetype": "text/x-python",
   "name": "python",
   "nbconvert_exporter": "python",
   "pygments_lexer": "ipython3",
   "version": "3.7.3"
  }
 },
 "nbformat": 4,
 "nbformat_minor": 2
}
