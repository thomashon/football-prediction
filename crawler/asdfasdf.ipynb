{
 "cells": [
  {
   "cell_type": "code",
   "execution_count": 1,
   "metadata": {},
   "outputs": [],
   "source": [
    "import requests\n",
    "from bs4 import BeautifulSoup\n",
    "from os.path  import basename\n",
    "import time\n",
    "from random import randrange as rr\n",
    "import json"
   ]
  },
  {
   "cell_type": "code",
   "execution_count": 2,
   "metadata": {},
   "outputs": [],
   "source": [
    "headers = {'User-Agent': \n",
    "           'Mozilla/5.0 (X11; Linux x86_64) AppleWebKit/537.36 (KHTML, like Gecko) Chrome/47.0.2526.106 Safari/537.36'}"
   ]
  },
  {
   "cell_type": "code",
   "execution_count": 35,
   "metadata": {},
   "outputs": [
    {
     "name": "stdout",
     "output_type": "stream",
     "text": [
      "39\n"
     ]
    },
    {
     "ename": "AttributeError",
     "evalue": "'NoneType' object has no attribute 'attrs'",
     "output_type": "error",
     "traceback": [
      "\u001b[1;31m---------------------------------------------------------------------------\u001b[0m",
      "\u001b[1;31mAttributeError\u001b[0m                            Traceback (most recent call last)",
      "\u001b[1;32m<ipython-input-35-7983ea6c65c3>\u001b[0m in \u001b[0;36m<module>\u001b[1;34m()\u001b[0m\n\u001b[0;32m     17\u001b[0m \u001b[1;31m#href = links.select(\"a.vereinprofil_tooltip\")\u001b[0m\u001b[1;33m\u001b[0m\u001b[1;33m\u001b[0m\u001b[0m\n\u001b[0;32m     18\u001b[0m \u001b[1;32mfor\u001b[0m \u001b[0mi\u001b[0m \u001b[1;32min\u001b[0m \u001b[0mrange\u001b[0m\u001b[1;33m(\u001b[0m\u001b[0mlen\u001b[0m\u001b[1;33m(\u001b[0m\u001b[0mlinks\u001b[0m\u001b[1;33m)\u001b[0m\u001b[1;33m)\u001b[0m\u001b[1;33m:\u001b[0m\u001b[1;33m\u001b[0m\u001b[0m\n\u001b[1;32m---> 19\u001b[1;33m     \u001b[0mgame\u001b[0m \u001b[1;33m=\u001b[0m \u001b[0mlinks\u001b[0m\u001b[1;33m[\u001b[0m\u001b[0mi\u001b[0m\u001b[1;33m]\u001b[0m\u001b[1;33m.\u001b[0m\u001b[0mselect_one\u001b[0m\u001b[1;33m(\u001b[0m\u001b[1;34m\".td.a\"\u001b[0m\u001b[1;33m)\u001b[0m\u001b[1;33m.\u001b[0m\u001b[0mattrs\u001b[0m\u001b[1;33m[\u001b[0m\u001b[1;34m\"href\"\u001b[0m\u001b[1;33m]\u001b[0m\u001b[1;33m\u001b[0m\u001b[0m\n\u001b[0m\u001b[0;32m     20\u001b[0m     \u001b[0mprint\u001b[0m\u001b[1;33m(\u001b[0m\u001b[0mgame\u001b[0m\u001b[1;33m)\u001b[0m\u001b[1;33m\u001b[0m\u001b[0m\n\u001b[0;32m     21\u001b[0m     \u001b[1;31m#.attrs[\"id\"]\u001b[0m\u001b[1;33m\u001b[0m\u001b[1;33m\u001b[0m\u001b[0m\n",
      "\u001b[1;31mAttributeError\u001b[0m: 'NoneType' object has no attribute 'attrs'"
     ]
    }
   ],
   "source": [
    "# \n",
    "\n",
    "page = 'https://www.transfermarkt.at/bundesliga/gesamtspielplan/wettbewerb/A1/saison_id/2017'\n",
    "\n",
    "\n",
    "# beginn der Zeitmessung und übergabe des html dokuments\n",
    "start = time.time()\n",
    "tree = requests.get(page, headers = headers)\n",
    "soup = BeautifulSoup(tree.content, 'html.parser')\n",
    "\n",
    "\n",
    "\n",
    "# im html dokument wird nach speziellen tags und klassennamen gesucht\n",
    "links = soup.select(\"table\")\n",
    "print(len(links))\n",
    "links = links[3:38]\n",
    "#href = links.select(\"a.vereinprofil_tooltip\")\n",
    "for i in range(len(links)):\n",
    "    game = links[i].select_one(\".td.a\").attrs[\"href\"]\n",
    "    print(game)\n",
    "    #.attrs[\"id\"]\n",
    "\n",
    "            \n",
    "# ausgabe der duration und der players-liste           \n",
    "end = time.time()\n",
    "duration = end - start\n",
    "print(duration)\n",
    "\n",
    "print(links)"
   ]
  },
  {
   "cell_type": "code",
   "execution_count": null,
   "metadata": {},
   "outputs": [],
   "source": [
    "# beginn der ersten schleife, bei der die links der vereine aufgerufen werden\n",
    "for i in range(0,len(href),3):\n",
    "        time.sleep(rr(50,150)/100)\n",
    "        url = href[i].attrs[\"href\"]\n",
    "        url = 'https://www.transfermarkt.at' + url \n",
    "\n",
    "        club_page = url\n",
    "        tree = requests.get(club_page, headers = headers)\n",
    "        soup = BeautifulSoup(tree.content, 'html.parser')\n",
    "    \n",
    "        links = soup.select(\"span.show-for-small\")\n",
    "\n",
    "        # beginn der zweiten schleife bei der jeder spieler des vereins gespeichert wird\n",
    "        for i in range(len(links)):\n",
    "            time.sleep(rr(50,100)/100)\n",
    "            player_id = links[i].select_one(\".spielprofil_tooltip\").attrs[\"id\"]\n",
    "            player_name = links[i].select_one(\".spielprofil_tooltip\").attrs[\"title\"]\n",
    "\n",
    "            player = {\n",
    "                \"name\": player_name,\n",
    "                \"player_id\": player_id,\n",
    "                \"clubs\": [] }\n",
    "            \n",
    "            # jeder player wird der liste players angehängt, 'clubs' bleibt noch leer\n",
    "            players.append(player)\n",
    "            \n",
    "print(players)"
   ]
  }
 ],
 "metadata": {
  "kernelspec": {
   "display_name": "Python 3",
   "language": "python",
   "name": "python3"
  },
  "language_info": {
   "codemirror_mode": {
    "name": "ipython",
    "version": 3
   },
   "file_extension": ".py",
   "mimetype": "text/x-python",
   "name": "python",
   "nbconvert_exporter": "python",
   "pygments_lexer": "ipython3",
   "version": "3.7.0"
  }
 },
 "nbformat": 4,
 "nbformat_minor": 2
}
